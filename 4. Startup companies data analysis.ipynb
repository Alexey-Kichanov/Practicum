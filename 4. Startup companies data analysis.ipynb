{
 "cells": [
  {
   "cell_type": "markdown",
   "metadata": {
    "id": "4mJbK1knrJgz"
   },
   "source": [
    "# Проект: Исследование стартапов"
   ]
  },
  {
   "cell_type": "markdown",
   "metadata": {},
   "source": [
    "### Цели и задачи проекта\n",
    "\n",
    "**Цель проекта:** Провести исследовательский анализ данных о стартапах.   \n",
    "\n",
    "**Задачи:**\n",
    "1. Загрузить данные и познакомиться с их содержимым.\n",
    "2. Провести предобработку данных.\n",
    "3. Провести исследовательский анализ данных.\n",
    "4. Сформулировать выводы по проведённому анализу."
   ]
  },
  {
   "cell_type": "markdown",
   "metadata": {
    "id": "xqr6uttCrJg0"
   },
   "source": [
    "\n",
    "## Шаг 1. Знакомство с данными: загрузка и первичная предобработка\n",
    "\n",
    "Названия файлов:\n",
    "* acquisition.csv\n",
    "* company_and_rounds.csv\n",
    "* degrees.csv\n",
    "* education.csv\n",
    "* fund.csv\n",
    "* investment.csv\n",
    "* people.csv\n",
    "\n"
   ]
  },
  {
   "cell_type": "markdown",
   "metadata": {},
   "source": [
    "### Описание данных\n",
    "1. **Таблица `acquisition`**:\n",
    "Содержит информацию о покупках одними компаниями других компаний:\n",
    "- `id` — идентификатор покупки.\n",
    "- `acquiring_company_id` — идентификатор покупающей компании.\n",
    "- `acquired_company_id` — идентификатор покупаемой компании.\n",
    "- `term_code` — варианты расчёта.\n",
    "- `price_amount` — сумма сделки.\n",
    "- `acquired_at` — дата сделки.\n",
    "2. **Таблица `company_and_rounds`**:\n",
    "Содержит информацию о компаниях и раундах финансирования:\n",
    "- `company ID` — идентификатор компании.\n",
    "- `name` — название компании.\n",
    "- `category code` — категория области деятельности компании.\n",
    "- `status` — статус компании.\n",
    "- `founded at` — дата инвестирования.\n",
    "- `closed at` — дата закрытия компании.\n",
    "- `domain` — официальный сайт компании.\n",
    "- `network username` — ник компании в сети.\n",
    "- `country code` — код страны компании.\n",
    "- `investment rounds` — число инвестиционных раундов.\n",
    "- `funding rounds` — число раундов финансирования.\n",
    "- `funding total` — сумма финансирования.\n",
    "- `milestones` — вехи финансирования.\n",
    "- `funding round id` — идентификатор этапа финансирования.\n",
    "- `company id` — идентификатор компании.\n",
    "- `funded at` — дата финансирования.\n",
    "- `funding round type` — тип финансирования.\n",
    "- `raised amount` — сумма финансирования.\n",
    "- `pre money valuation` — предварительная денежная оценка.\n",
    "- `participants` — число участников.\n",
    "- `is first round` — является ли раунд первым.\n",
    "- `is last round` — является раунд последним.\n",
    "- `milestones` — вехи финансирования.\n",
    "3. **Таблица `education`**:\n",
    "Содержит информацию об образовании сотрудника:\n",
    "- `id` — идентификатор записи об образовании.\n",
    "- `person_id` — идентификатор работника.\n",
    "- `instituition` — название учебного заведения.\n",
    "- `graduated_at` — дата получения образования.\n",
    "4. **Таблица `people`**:\n",
    "Содержит информацию о сотрудниках:\n",
    "- `id` — идентификатор сотрудника.\n",
    "- `first_name` — имя сотрудника.\n",
    "- `last_name` — фамилия сотрудника.\n",
    "- `company_id` — идентификатор компании.\n",
    "- `network_username` — ник в социальных сетях.\n",
    "5. **Таблица `degrees`**:\n",
    "Содержит информацию о типе образования сотрудника:\n",
    "- `id` — идентификатор записи.\n",
    "- `object_id` — идентификатор сотрудника.\n",
    "- `degree_type` — тип образования.\n",
    "- `subject` — специальность.\n",
    "6. **Таблица `fund`**:\n",
    "Содержит информацию о фондах:\n",
    "- `id` — идентификатор фонда.\n",
    "- `name` — название фонда.\n",
    "- `category_code` — категория области деятельности компании.\n",
    "- `founded_at` — дата создания фонда.\n",
    "- `domain` — сайт фонда.\n",
    "- `network_username` — ник фонда в сети.\n",
    "- `country_code` — код страны фонда.\n",
    "- `investment_rounds` — число инвестиционных раундов.\n",
    "- `invested_companies` — число профинансированных компаний.\n",
    "- `milestones` — вехи финансирования.\n",
    "7. **Таблица `investment`**:\n",
    "Содержит информацию о раундах инвестирования:\n",
    "- `id` — идентификатор этапа инвестирования.\n",
    "- `funding_round_id` — идентификатор раунда инвестирования.\n",
    "- `company_id` — индентификатор компании.\n",
    "- `funding_round_type` — тип финансирования.\n",
    "- `fund_id` — идентификатор фонда."
   ]
  },
  {
   "cell_type": "markdown",
   "metadata": {},
   "source": [
    "### 1.1. Вывод общей информации, исправление названия столбцов"
   ]
  },
  {
   "cell_type": "code",
   "execution_count": 1,
   "metadata": {},
   "outputs": [
    {
     "name": "stdout",
     "output_type": "stream",
     "text": [
      "Requirement already satisfied: phik in /opt/conda/lib/python3.9/site-packages (0.12.4)\r\n",
      "Requirement already satisfied: joblib>=0.14.1 in /opt/conda/lib/python3.9/site-packages (from phik) (1.1.0)\r\n",
      "Requirement already satisfied: scipy>=1.5.2 in /opt/conda/lib/python3.9/site-packages (from phik) (1.9.1)\r\n",
      "Requirement already satisfied: numpy>=1.18.0 in /opt/conda/lib/python3.9/site-packages (from phik) (1.21.1)\r\n",
      "Requirement already satisfied: pandas>=0.25.1 in /opt/conda/lib/python3.9/site-packages (from phik) (1.2.4)\r\n",
      "Requirement already satisfied: matplotlib>=2.2.3 in /opt/conda/lib/python3.9/site-packages (from phik) (3.3.4)\r\n",
      "Requirement already satisfied: cycler>=0.10 in /opt/conda/lib/python3.9/site-packages (from matplotlib>=2.2.3->phik) (0.11.0)\r\n",
      "Requirement already satisfied: kiwisolver>=1.0.1 in /opt/conda/lib/python3.9/site-packages (from matplotlib>=2.2.3->phik) (1.4.4)\r\n",
      "Requirement already satisfied: pyparsing!=2.0.4,!=2.1.2,!=2.1.6,>=2.0.3 in /opt/conda/lib/python3.9/site-packages (from matplotlib>=2.2.3->phik) (2.4.7)\r\n",
      "Requirement already satisfied: python-dateutil>=2.1 in /opt/conda/lib/python3.9/site-packages (from matplotlib>=2.2.3->phik) (2.8.1)\r\n",
      "Requirement already satisfied: pillow>=6.2.0 in /opt/conda/lib/python3.9/site-packages (from matplotlib>=2.2.3->phik) (8.4.0)\r\n",
      "Requirement already satisfied: pytz>=2017.3 in /opt/conda/lib/python3.9/site-packages (from pandas>=0.25.1->phik) (2021.1)\r\n",
      "Requirement already satisfied: six>=1.5 in /opt/conda/lib/python3.9/site-packages (from python-dateutil>=2.1->matplotlib>=2.2.3->phik) (1.16.0)\r\n"
     ]
    }
   ],
   "source": [
    "!pip install phik"
   ]
  },
  {
   "cell_type": "code",
   "execution_count": 2,
   "metadata": {},
   "outputs": [],
   "source": [
    "# Импортируем библиотеки\n",
    "import pandas as pd\n",
    "\n",
    "# Загружаем библиотеки для визуализации данных\n",
    "import matplotlib.pyplot as plt\n",
    "import seaborn as sns\n",
    "\n",
    "# Загружаем библиотеку для расчёта коэффициента корреляции phi_k\n",
    "from phik import phik_matrix"
   ]
  },
  {
   "cell_type": "markdown",
   "metadata": {},
   "source": [
    "Загрузим все данные."
   ]
  },
  {
   "cell_type": "code",
   "execution_count": 3,
   "metadata": {},
   "outputs": [],
   "source": [
    "df_acquisition = pd.read_csv('https://code.s3.yandex.net/datasets/acquisition.csv')\n",
    "df_company_and_rounds = pd.read_csv('https://code.s3.yandex.net/datasets/company_and_rounds.csv')\n",
    "df_degrees = pd.read_csv('https://code.s3.yandex.net/datasets/degrees.csv')\n",
    "df_education = pd.read_csv('https://code.s3.yandex.net/datasets/education.csv')\n",
    "df_fund = pd.read_csv('https://code.s3.yandex.net/datasets/fund.csv')\n",
    "df_investment = pd.read_csv('https://code.s3.yandex.net/datasets/investment.csv')\n",
    "df_people = pd.read_csv('https://code.s3.yandex.net/datasets/people.csv')"
   ]
  },
  {
   "cell_type": "markdown",
   "metadata": {},
   "source": [
    "\n",
    "Проверим названия столбцов."
   ]
  },
  {
   "cell_type": "code",
   "execution_count": 4,
   "metadata": {},
   "outputs": [
    {
     "data": {
      "text/plain": [
       "'Названия столбцов датафрейма \"df_acquisition\"'"
      ]
     },
     "metadata": {},
     "output_type": "display_data"
    },
    {
     "data": {
      "text/plain": [
       "['id',\n",
       " 'acquiring_company_id',\n",
       " 'acquired_company_id',\n",
       " 'term_code',\n",
       " 'price_amount',\n",
       " 'acquired_at']"
      ]
     },
     "metadata": {},
     "output_type": "display_data"
    },
    {
     "data": {
      "text/plain": [
       "'Названия столбцов датафрейма \"df_company_and_rounds\"'"
      ]
     },
     "metadata": {},
     "output_type": "display_data"
    },
    {
     "data": {
      "text/plain": [
       "['company  ID',\n",
       " 'name',\n",
       " 'category  code',\n",
       " 'status',\n",
       " 'founded  at',\n",
       " 'closed  at',\n",
       " 'domain',\n",
       " 'network  username',\n",
       " 'country  code',\n",
       " 'investment  rounds',\n",
       " 'funding  rounds',\n",
       " 'funding  total',\n",
       " 'milestones',\n",
       " 'funding  round  id',\n",
       " 'company  id',\n",
       " 'funded  at',\n",
       " 'funding  round  type',\n",
       " 'raised  amount',\n",
       " 'pre  money  valuation',\n",
       " 'participants',\n",
       " 'is  first  round',\n",
       " 'is  last  round']"
      ]
     },
     "metadata": {},
     "output_type": "display_data"
    },
    {
     "data": {
      "text/plain": [
       "'Названия столбцов датафрейма \"df_degrees\"'"
      ]
     },
     "metadata": {},
     "output_type": "display_data"
    },
    {
     "data": {
      "text/plain": [
       "['id', 'object_id', 'degree_type', 'subject']"
      ]
     },
     "metadata": {},
     "output_type": "display_data"
    },
    {
     "data": {
      "text/plain": [
       "'Названия столбцов датафрейма \"df_education\"'"
      ]
     },
     "metadata": {},
     "output_type": "display_data"
    },
    {
     "data": {
      "text/plain": [
       "['id', 'person_id', 'instituition', 'graduated_at']"
      ]
     },
     "metadata": {},
     "output_type": "display_data"
    },
    {
     "data": {
      "text/plain": [
       "'Названия столбцов датафрейма \"df_fund\"'"
      ]
     },
     "metadata": {},
     "output_type": "display_data"
    },
    {
     "data": {
      "text/plain": [
       "['id',\n",
       " 'name',\n",
       " 'founded_at',\n",
       " 'domain',\n",
       " 'network_username',\n",
       " 'country_code',\n",
       " 'investment_rounds',\n",
       " 'invested_companies',\n",
       " 'milestones']"
      ]
     },
     "metadata": {},
     "output_type": "display_data"
    },
    {
     "data": {
      "text/plain": [
       "'Названия столбцов датафрейма \"df_investment\"'"
      ]
     },
     "metadata": {},
     "output_type": "display_data"
    },
    {
     "data": {
      "text/plain": [
       "['id', 'funding_round_id', 'company_id', 'fund_id']"
      ]
     },
     "metadata": {},
     "output_type": "display_data"
    },
    {
     "data": {
      "text/plain": [
       "'Названия столбцов датафрейма \"df_people\"'"
      ]
     },
     "metadata": {},
     "output_type": "display_data"
    },
    {
     "data": {
      "text/plain": [
       "['id', 'first_name', 'last_name', 'company_id', 'network_username']"
      ]
     },
     "metadata": {},
     "output_type": "display_data"
    }
   ],
   "source": [
    "for i in ['df_acquisition', 'df_company_and_rounds', 'df_degrees', 'df_education', 'df_fund', 'df_investment', 'df_people']:\n",
    "    display(f'Названия столбцов датафрейма \"{i}\"')\n",
    "    display(eval(i).columns.tolist())"
   ]
  },
  {
   "cell_type": "markdown",
   "metadata": {},
   "source": [
    "Заметим, что стиль *snake_case* отсутствует только в датафрейме `df_company_and_rounds`. Приведем к нему все названия столбцов, кроме столбца `company ID`, для него заменим название на **`company_id_first`**, чтобы название не дублировало столбец `column id`:"
   ]
  },
  {
   "cell_type": "code",
   "execution_count": 5,
   "metadata": {},
   "outputs": [
    {
     "data": {
      "text/plain": [
       "Index(['company_ID', 'name', 'category_code', 'status', 'founded_at',\n",
       "       'closed_at', 'domain', 'network_username', 'country_code',\n",
       "       'investment_rounds', 'funding_rounds', 'funding_total', 'milestones',\n",
       "       'funding_round_id', 'company_id', 'funded_at', 'funding_round_type',\n",
       "       'raised_amount', 'pre_money_valuation', 'participants',\n",
       "       'is_first_round', 'is_last_round'],\n",
       "      dtype='object')"
      ]
     },
     "metadata": {},
     "output_type": "display_data"
    }
   ],
   "source": [
    "df_company_and_rounds.columns =  df_company_and_rounds.columns.str.replace('  ', '_')\n",
    "display(df_company_and_rounds.columns)"
   ]
  },
  {
   "cell_type": "markdown",
   "metadata": {},
   "source": [
    "Заменим название столбца `company_ID`:"
   ]
  },
  {
   "cell_type": "code",
   "execution_count": 6,
   "metadata": {},
   "outputs": [],
   "source": [
    "df_company_and_rounds.rename(columns={'company_ID': 'company_id_first'}, inplace=True)"
   ]
  },
  {
   "cell_type": "markdown",
   "metadata": {},
   "source": [
    "\n",
    "Выведем информацию, которая необходима вам для принятия решений о предобработке, для каждого из датасетов."
   ]
  },
  {
   "cell_type": "code",
   "execution_count": 7,
   "metadata": {
    "id": "4u9np9gSnyqT"
   },
   "outputs": [
    {
     "data": {
      "text/plain": [
       "'Описание датафрейма \"df_acquisition\"'"
      ]
     },
     "metadata": {},
     "output_type": "display_data"
    },
    {
     "name": "stdout",
     "output_type": "stream",
     "text": [
      "<class 'pandas.core.frame.DataFrame'>\n",
      "RangeIndex: 9407 entries, 0 to 9406\n",
      "Data columns (total 6 columns):\n",
      " #   Column                Non-Null Count  Dtype \n",
      "---  ------                --------------  ----- \n",
      " 0   id                    9407 non-null   int64 \n",
      " 1   acquiring_company_id  9407 non-null   int64 \n",
      " 2   acquired_company_id   9407 non-null   int64 \n",
      " 3   term_code             1831 non-null   object\n",
      " 4   price_amount          9407 non-null   int64 \n",
      " 5   acquired_at           9378 non-null   object\n",
      "dtypes: int64(4), object(2)\n",
      "memory usage: 441.1+ KB\n"
     ]
    },
    {
     "data": {
      "text/plain": [
       "None"
      ]
     },
     "metadata": {},
     "output_type": "display_data"
    },
    {
     "data": {
      "text/html": [
       "<div>\n",
       "<style scoped>\n",
       "    .dataframe tbody tr th:only-of-type {\n",
       "        vertical-align: middle;\n",
       "    }\n",
       "\n",
       "    .dataframe tbody tr th {\n",
       "        vertical-align: top;\n",
       "    }\n",
       "\n",
       "    .dataframe thead th {\n",
       "        text-align: right;\n",
       "    }\n",
       "</style>\n",
       "<table border=\"1\" class=\"dataframe\">\n",
       "  <thead>\n",
       "    <tr style=\"text-align: right;\">\n",
       "      <th></th>\n",
       "      <th>id</th>\n",
       "      <th>acquiring_company_id</th>\n",
       "      <th>acquired_company_id</th>\n",
       "      <th>term_code</th>\n",
       "      <th>price_amount</th>\n",
       "      <th>acquired_at</th>\n",
       "    </tr>\n",
       "  </thead>\n",
       "  <tbody>\n",
       "    <tr>\n",
       "      <th>0</th>\n",
       "      <td>1</td>\n",
       "      <td>11</td>\n",
       "      <td>10</td>\n",
       "      <td>NaN</td>\n",
       "      <td>20000000</td>\n",
       "      <td>2007-05-30</td>\n",
       "    </tr>\n",
       "    <tr>\n",
       "      <th>1</th>\n",
       "      <td>7</td>\n",
       "      <td>59</td>\n",
       "      <td>72</td>\n",
       "      <td>cash</td>\n",
       "      <td>60000000</td>\n",
       "      <td>2007-07-01</td>\n",
       "    </tr>\n",
       "    <tr>\n",
       "      <th>2</th>\n",
       "      <td>8</td>\n",
       "      <td>24</td>\n",
       "      <td>132</td>\n",
       "      <td>cash</td>\n",
       "      <td>280000000</td>\n",
       "      <td>2007-05-01</td>\n",
       "    </tr>\n",
       "    <tr>\n",
       "      <th>3</th>\n",
       "      <td>9</td>\n",
       "      <td>59</td>\n",
       "      <td>155</td>\n",
       "      <td>cash</td>\n",
       "      <td>100000000</td>\n",
       "      <td>2007-06-01</td>\n",
       "    </tr>\n",
       "    <tr>\n",
       "      <th>4</th>\n",
       "      <td>10</td>\n",
       "      <td>212</td>\n",
       "      <td>215</td>\n",
       "      <td>cash</td>\n",
       "      <td>25000000</td>\n",
       "      <td>2007-07-01</td>\n",
       "    </tr>\n",
       "  </tbody>\n",
       "</table>\n",
       "</div>"
      ],
      "text/plain": [
       "   id  acquiring_company_id  acquired_company_id term_code  price_amount  \\\n",
       "0   1                    11                   10       NaN      20000000   \n",
       "1   7                    59                   72      cash      60000000   \n",
       "2   8                    24                  132      cash     280000000   \n",
       "3   9                    59                  155      cash     100000000   \n",
       "4  10                   212                  215      cash      25000000   \n",
       "\n",
       "  acquired_at  \n",
       "0  2007-05-30  \n",
       "1  2007-07-01  \n",
       "2  2007-05-01  \n",
       "3  2007-06-01  \n",
       "4  2007-07-01  "
      ]
     },
     "metadata": {},
     "output_type": "display_data"
    },
    {
     "data": {
      "text/plain": [
       "'Описание датафрейма \"df_company_and_rounds\"'"
      ]
     },
     "metadata": {},
     "output_type": "display_data"
    },
    {
     "name": "stdout",
     "output_type": "stream",
     "text": [
      "<class 'pandas.core.frame.DataFrame'>\n",
      "RangeIndex: 217774 entries, 0 to 217773\n",
      "Data columns (total 22 columns):\n",
      " #   Column               Non-Null Count   Dtype  \n",
      "---  ------               --------------   -----  \n",
      " 0   company_id_first     217472 non-null  float64\n",
      " 1   name                 217472 non-null  object \n",
      " 2   category_code        143886 non-null  object \n",
      " 3   status               217472 non-null  object \n",
      " 4   founded_at           109956 non-null  object \n",
      " 5   closed_at            3449 non-null    object \n",
      " 6   domain               147159 non-null  object \n",
      " 7   network_username     95534 non-null   object \n",
      " 8   country_code         108607 non-null  object \n",
      " 9   investment_rounds    217472 non-null  float64\n",
      " 10  funding_rounds       217472 non-null  float64\n",
      " 11  funding_total        217472 non-null  float64\n",
      " 12  milestones           217472 non-null  float64\n",
      " 13  funding_round_id     52928 non-null   float64\n",
      " 14  company_id           52928 non-null   float64\n",
      " 15  funded_at            52680 non-null   object \n",
      " 16  funding_round_type   52928 non-null   object \n",
      " 17  raised_amount        52928 non-null   float64\n",
      " 18  pre_money_valuation  52928 non-null   float64\n",
      " 19  participants         52928 non-null   float64\n",
      " 20  is_first_round       52928 non-null   float64\n",
      " 21  is_last_round        52928 non-null   float64\n",
      "dtypes: float64(12), object(10)\n",
      "memory usage: 36.6+ MB\n"
     ]
    },
    {
     "data": {
      "text/plain": [
       "None"
      ]
     },
     "metadata": {},
     "output_type": "display_data"
    },
    {
     "data": {
      "text/html": [
       "<div>\n",
       "<style scoped>\n",
       "    .dataframe tbody tr th:only-of-type {\n",
       "        vertical-align: middle;\n",
       "    }\n",
       "\n",
       "    .dataframe tbody tr th {\n",
       "        vertical-align: top;\n",
       "    }\n",
       "\n",
       "    .dataframe thead th {\n",
       "        text-align: right;\n",
       "    }\n",
       "</style>\n",
       "<table border=\"1\" class=\"dataframe\">\n",
       "  <thead>\n",
       "    <tr style=\"text-align: right;\">\n",
       "      <th></th>\n",
       "      <th>company_id_first</th>\n",
       "      <th>name</th>\n",
       "      <th>category_code</th>\n",
       "      <th>status</th>\n",
       "      <th>founded_at</th>\n",
       "      <th>closed_at</th>\n",
       "      <th>domain</th>\n",
       "      <th>network_username</th>\n",
       "      <th>country_code</th>\n",
       "      <th>investment_rounds</th>\n",
       "      <th>...</th>\n",
       "      <th>milestones</th>\n",
       "      <th>funding_round_id</th>\n",
       "      <th>company_id</th>\n",
       "      <th>funded_at</th>\n",
       "      <th>funding_round_type</th>\n",
       "      <th>raised_amount</th>\n",
       "      <th>pre_money_valuation</th>\n",
       "      <th>participants</th>\n",
       "      <th>is_first_round</th>\n",
       "      <th>is_last_round</th>\n",
       "    </tr>\n",
       "  </thead>\n",
       "  <tbody>\n",
       "    <tr>\n",
       "      <th>0</th>\n",
       "      <td>1.0</td>\n",
       "      <td>Wetpaint</td>\n",
       "      <td>web</td>\n",
       "      <td>operating</td>\n",
       "      <td>2005-10-17</td>\n",
       "      <td>NaN</td>\n",
       "      <td>wetpaint-inc.com</td>\n",
       "      <td>BachelrWetpaint</td>\n",
       "      <td>USA</td>\n",
       "      <td>0.0</td>\n",
       "      <td>...</td>\n",
       "      <td>5.0</td>\n",
       "      <td>888.0</td>\n",
       "      <td>1.0</td>\n",
       "      <td>2005-10-01</td>\n",
       "      <td>series-a</td>\n",
       "      <td>5250000.0</td>\n",
       "      <td>0.0</td>\n",
       "      <td>2.0</td>\n",
       "      <td>0.0</td>\n",
       "      <td>1.0</td>\n",
       "    </tr>\n",
       "    <tr>\n",
       "      <th>1</th>\n",
       "      <td>1.0</td>\n",
       "      <td>Wetpaint</td>\n",
       "      <td>web</td>\n",
       "      <td>operating</td>\n",
       "      <td>2005-10-17</td>\n",
       "      <td>NaN</td>\n",
       "      <td>wetpaint-inc.com</td>\n",
       "      <td>BachelrWetpaint</td>\n",
       "      <td>USA</td>\n",
       "      <td>0.0</td>\n",
       "      <td>...</td>\n",
       "      <td>5.0</td>\n",
       "      <td>889.0</td>\n",
       "      <td>1.0</td>\n",
       "      <td>2007-01-01</td>\n",
       "      <td>series-b</td>\n",
       "      <td>9500000.0</td>\n",
       "      <td>0.0</td>\n",
       "      <td>3.0</td>\n",
       "      <td>0.0</td>\n",
       "      <td>0.0</td>\n",
       "    </tr>\n",
       "    <tr>\n",
       "      <th>2</th>\n",
       "      <td>1.0</td>\n",
       "      <td>Wetpaint</td>\n",
       "      <td>web</td>\n",
       "      <td>operating</td>\n",
       "      <td>2005-10-17</td>\n",
       "      <td>NaN</td>\n",
       "      <td>wetpaint-inc.com</td>\n",
       "      <td>BachelrWetpaint</td>\n",
       "      <td>USA</td>\n",
       "      <td>0.0</td>\n",
       "      <td>...</td>\n",
       "      <td>5.0</td>\n",
       "      <td>2312.0</td>\n",
       "      <td>1.0</td>\n",
       "      <td>2008-05-19</td>\n",
       "      <td>series-c+</td>\n",
       "      <td>25000000.0</td>\n",
       "      <td>0.0</td>\n",
       "      <td>4.0</td>\n",
       "      <td>1.0</td>\n",
       "      <td>0.0</td>\n",
       "    </tr>\n",
       "    <tr>\n",
       "      <th>3</th>\n",
       "      <td>10.0</td>\n",
       "      <td>Flektor</td>\n",
       "      <td>games_video</td>\n",
       "      <td>acquired</td>\n",
       "      <td>NaN</td>\n",
       "      <td>NaN</td>\n",
       "      <td>flektor.com</td>\n",
       "      <td>NaN</td>\n",
       "      <td>USA</td>\n",
       "      <td>0.0</td>\n",
       "      <td>...</td>\n",
       "      <td>0.0</td>\n",
       "      <td>NaN</td>\n",
       "      <td>NaN</td>\n",
       "      <td>NaN</td>\n",
       "      <td>NaN</td>\n",
       "      <td>NaN</td>\n",
       "      <td>NaN</td>\n",
       "      <td>NaN</td>\n",
       "      <td>NaN</td>\n",
       "      <td>NaN</td>\n",
       "    </tr>\n",
       "    <tr>\n",
       "      <th>4</th>\n",
       "      <td>100.0</td>\n",
       "      <td>There</td>\n",
       "      <td>games_video</td>\n",
       "      <td>acquired</td>\n",
       "      <td>NaN</td>\n",
       "      <td>NaN</td>\n",
       "      <td>there.com</td>\n",
       "      <td>NaN</td>\n",
       "      <td>USA</td>\n",
       "      <td>0.0</td>\n",
       "      <td>...</td>\n",
       "      <td>4.0</td>\n",
       "      <td>NaN</td>\n",
       "      <td>NaN</td>\n",
       "      <td>NaN</td>\n",
       "      <td>NaN</td>\n",
       "      <td>NaN</td>\n",
       "      <td>NaN</td>\n",
       "      <td>NaN</td>\n",
       "      <td>NaN</td>\n",
       "      <td>NaN</td>\n",
       "    </tr>\n",
       "  </tbody>\n",
       "</table>\n",
       "<p>5 rows × 22 columns</p>\n",
       "</div>"
      ],
      "text/plain": [
       "   company_id_first      name category_code     status  founded_at closed_at  \\\n",
       "0               1.0  Wetpaint           web  operating  2005-10-17       NaN   \n",
       "1               1.0  Wetpaint           web  operating  2005-10-17       NaN   \n",
       "2               1.0  Wetpaint           web  operating  2005-10-17       NaN   \n",
       "3              10.0   Flektor   games_video   acquired         NaN       NaN   \n",
       "4             100.0     There   games_video   acquired         NaN       NaN   \n",
       "\n",
       "             domain network_username country_code  investment_rounds  ...  \\\n",
       "0  wetpaint-inc.com  BachelrWetpaint          USA                0.0  ...   \n",
       "1  wetpaint-inc.com  BachelrWetpaint          USA                0.0  ...   \n",
       "2  wetpaint-inc.com  BachelrWetpaint          USA                0.0  ...   \n",
       "3       flektor.com              NaN          USA                0.0  ...   \n",
       "4         there.com              NaN          USA                0.0  ...   \n",
       "\n",
       "   milestones  funding_round_id  company_id   funded_at  funding_round_type  \\\n",
       "0         5.0             888.0         1.0  2005-10-01            series-a   \n",
       "1         5.0             889.0         1.0  2007-01-01            series-b   \n",
       "2         5.0            2312.0         1.0  2008-05-19           series-c+   \n",
       "3         0.0               NaN         NaN         NaN                 NaN   \n",
       "4         4.0               NaN         NaN         NaN                 NaN   \n",
       "\n",
       "  raised_amount pre_money_valuation  participants  is_first_round  \\\n",
       "0     5250000.0                 0.0           2.0             0.0   \n",
       "1     9500000.0                 0.0           3.0             0.0   \n",
       "2    25000000.0                 0.0           4.0             1.0   \n",
       "3           NaN                 NaN           NaN             NaN   \n",
       "4           NaN                 NaN           NaN             NaN   \n",
       "\n",
       "   is_last_round  \n",
       "0            1.0  \n",
       "1            0.0  \n",
       "2            0.0  \n",
       "3            NaN  \n",
       "4            NaN  \n",
       "\n",
       "[5 rows x 22 columns]"
      ]
     },
     "metadata": {},
     "output_type": "display_data"
    },
    {
     "data": {
      "text/plain": [
       "'Описание датафрейма \"df_degrees\"'"
      ]
     },
     "metadata": {},
     "output_type": "display_data"
    },
    {
     "name": "stdout",
     "output_type": "stream",
     "text": [
      "<class 'pandas.core.frame.DataFrame'>\n",
      "RangeIndex: 109610 entries, 0 to 109609\n",
      "Data columns (total 4 columns):\n",
      " #   Column       Non-Null Count   Dtype \n",
      "---  ------       --------------   ----- \n",
      " 0   id           109610 non-null  int64 \n",
      " 1   object_id    109610 non-null  object\n",
      " 2   degree_type  98392 non-null   object\n",
      " 3   subject      81298 non-null   object\n",
      "dtypes: int64(1), object(3)\n",
      "memory usage: 3.3+ MB\n"
     ]
    },
    {
     "data": {
      "text/plain": [
       "None"
      ]
     },
     "metadata": {},
     "output_type": "display_data"
    },
    {
     "data": {
      "text/html": [
       "<div>\n",
       "<style scoped>\n",
       "    .dataframe tbody tr th:only-of-type {\n",
       "        vertical-align: middle;\n",
       "    }\n",
       "\n",
       "    .dataframe tbody tr th {\n",
       "        vertical-align: top;\n",
       "    }\n",
       "\n",
       "    .dataframe thead th {\n",
       "        text-align: right;\n",
       "    }\n",
       "</style>\n",
       "<table border=\"1\" class=\"dataframe\">\n",
       "  <thead>\n",
       "    <tr style=\"text-align: right;\">\n",
       "      <th></th>\n",
       "      <th>id</th>\n",
       "      <th>object_id</th>\n",
       "      <th>degree_type</th>\n",
       "      <th>subject</th>\n",
       "    </tr>\n",
       "  </thead>\n",
       "  <tbody>\n",
       "    <tr>\n",
       "      <th>0</th>\n",
       "      <td>1</td>\n",
       "      <td>p:6117</td>\n",
       "      <td>MBA</td>\n",
       "      <td>NaN</td>\n",
       "    </tr>\n",
       "    <tr>\n",
       "      <th>1</th>\n",
       "      <td>2</td>\n",
       "      <td>p:6136</td>\n",
       "      <td>BA</td>\n",
       "      <td>English, French</td>\n",
       "    </tr>\n",
       "    <tr>\n",
       "      <th>2</th>\n",
       "      <td>3</td>\n",
       "      <td>p:6136</td>\n",
       "      <td>MS</td>\n",
       "      <td>Mass Communication</td>\n",
       "    </tr>\n",
       "    <tr>\n",
       "      <th>3</th>\n",
       "      <td>4</td>\n",
       "      <td>p:6005</td>\n",
       "      <td>MS</td>\n",
       "      <td>Internet Technology</td>\n",
       "    </tr>\n",
       "    <tr>\n",
       "      <th>4</th>\n",
       "      <td>5</td>\n",
       "      <td>p:5832</td>\n",
       "      <td>BCS</td>\n",
       "      <td>Computer Science, Psychology</td>\n",
       "    </tr>\n",
       "  </tbody>\n",
       "</table>\n",
       "</div>"
      ],
      "text/plain": [
       "   id object_id degree_type                       subject\n",
       "0   1    p:6117         MBA                           NaN\n",
       "1   2    p:6136          BA               English, French\n",
       "2   3    p:6136          MS            Mass Communication\n",
       "3   4    p:6005          MS           Internet Technology\n",
       "4   5    p:5832         BCS  Computer Science, Psychology"
      ]
     },
     "metadata": {},
     "output_type": "display_data"
    },
    {
     "data": {
      "text/plain": [
       "'Описание датафрейма \"df_education\"'"
      ]
     },
     "metadata": {},
     "output_type": "display_data"
    },
    {
     "name": "stdout",
     "output_type": "stream",
     "text": [
      "<class 'pandas.core.frame.DataFrame'>\n",
      "RangeIndex: 109610 entries, 0 to 109609\n",
      "Data columns (total 4 columns):\n",
      " #   Column        Non-Null Count   Dtype \n",
      "---  ------        --------------   ----- \n",
      " 0   id            109610 non-null  int64 \n",
      " 1   person_id     109610 non-null  int64 \n",
      " 2   instituition  109555 non-null  object\n",
      " 3   graduated_at  58054 non-null   object\n",
      "dtypes: int64(2), object(2)\n",
      "memory usage: 3.3+ MB\n"
     ]
    },
    {
     "data": {
      "text/plain": [
       "None"
      ]
     },
     "metadata": {},
     "output_type": "display_data"
    },
    {
     "data": {
      "text/html": [
       "<div>\n",
       "<style scoped>\n",
       "    .dataframe tbody tr th:only-of-type {\n",
       "        vertical-align: middle;\n",
       "    }\n",
       "\n",
       "    .dataframe tbody tr th {\n",
       "        vertical-align: top;\n",
       "    }\n",
       "\n",
       "    .dataframe thead th {\n",
       "        text-align: right;\n",
       "    }\n",
       "</style>\n",
       "<table border=\"1\" class=\"dataframe\">\n",
       "  <thead>\n",
       "    <tr style=\"text-align: right;\">\n",
       "      <th></th>\n",
       "      <th>id</th>\n",
       "      <th>person_id</th>\n",
       "      <th>instituition</th>\n",
       "      <th>graduated_at</th>\n",
       "    </tr>\n",
       "  </thead>\n",
       "  <tbody>\n",
       "    <tr>\n",
       "      <th>0</th>\n",
       "      <td>1</td>\n",
       "      <td>6117</td>\n",
       "      <td>NaN</td>\n",
       "      <td>NaN</td>\n",
       "    </tr>\n",
       "    <tr>\n",
       "      <th>1</th>\n",
       "      <td>2</td>\n",
       "      <td>6136</td>\n",
       "      <td>Washington University, St. Louis</td>\n",
       "      <td>1990-01-01</td>\n",
       "    </tr>\n",
       "    <tr>\n",
       "      <th>2</th>\n",
       "      <td>3</td>\n",
       "      <td>6136</td>\n",
       "      <td>Boston University</td>\n",
       "      <td>1992-01-01</td>\n",
       "    </tr>\n",
       "    <tr>\n",
       "      <th>3</th>\n",
       "      <td>4</td>\n",
       "      <td>6005</td>\n",
       "      <td>University of Greenwich</td>\n",
       "      <td>2006-01-01</td>\n",
       "    </tr>\n",
       "    <tr>\n",
       "      <th>4</th>\n",
       "      <td>5</td>\n",
       "      <td>5832</td>\n",
       "      <td>Rice University</td>\n",
       "      <td>NaN</td>\n",
       "    </tr>\n",
       "  </tbody>\n",
       "</table>\n",
       "</div>"
      ],
      "text/plain": [
       "   id  person_id                      instituition graduated_at\n",
       "0   1       6117                               NaN          NaN\n",
       "1   2       6136  Washington University, St. Louis   1990-01-01\n",
       "2   3       6136                 Boston University   1992-01-01\n",
       "3   4       6005           University of Greenwich   2006-01-01\n",
       "4   5       5832                   Rice University          NaN"
      ]
     },
     "metadata": {},
     "output_type": "display_data"
    },
    {
     "data": {
      "text/plain": [
       "'Описание датафрейма \"df_fund\"'"
      ]
     },
     "metadata": {},
     "output_type": "display_data"
    },
    {
     "name": "stdout",
     "output_type": "stream",
     "text": [
      "<class 'pandas.core.frame.DataFrame'>\n",
      "RangeIndex: 11652 entries, 0 to 11651\n",
      "Data columns (total 9 columns):\n",
      " #   Column              Non-Null Count  Dtype \n",
      "---  ------              --------------  ----- \n",
      " 0   id                  11652 non-null  int64 \n",
      " 1   name                11650 non-null  object\n",
      " 2   founded_at          4605 non-null   object\n",
      " 3   domain              7362 non-null   object\n",
      " 4   network_username    2149 non-null   object\n",
      " 5   country_code        7053 non-null   object\n",
      " 6   investment_rounds   11652 non-null  int64 \n",
      " 7   invested_companies  11652 non-null  int64 \n",
      " 8   milestones          11652 non-null  int64 \n",
      "dtypes: int64(4), object(5)\n",
      "memory usage: 819.4+ KB\n"
     ]
    },
    {
     "data": {
      "text/plain": [
       "None"
      ]
     },
     "metadata": {},
     "output_type": "display_data"
    },
    {
     "data": {
      "text/html": [
       "<div>\n",
       "<style scoped>\n",
       "    .dataframe tbody tr th:only-of-type {\n",
       "        vertical-align: middle;\n",
       "    }\n",
       "\n",
       "    .dataframe tbody tr th {\n",
       "        vertical-align: top;\n",
       "    }\n",
       "\n",
       "    .dataframe thead th {\n",
       "        text-align: right;\n",
       "    }\n",
       "</style>\n",
       "<table border=\"1\" class=\"dataframe\">\n",
       "  <thead>\n",
       "    <tr style=\"text-align: right;\">\n",
       "      <th></th>\n",
       "      <th>id</th>\n",
       "      <th>name</th>\n",
       "      <th>founded_at</th>\n",
       "      <th>domain</th>\n",
       "      <th>network_username</th>\n",
       "      <th>country_code</th>\n",
       "      <th>investment_rounds</th>\n",
       "      <th>invested_companies</th>\n",
       "      <th>milestones</th>\n",
       "    </tr>\n",
       "  </thead>\n",
       "  <tbody>\n",
       "    <tr>\n",
       "      <th>0</th>\n",
       "      <td>13131</td>\n",
       "      <td>NaN</td>\n",
       "      <td>NaN</td>\n",
       "      <td>NaN</td>\n",
       "      <td>NaN</td>\n",
       "      <td>NaN</td>\n",
       "      <td>0</td>\n",
       "      <td>0</td>\n",
       "      <td>0</td>\n",
       "    </tr>\n",
       "    <tr>\n",
       "      <th>1</th>\n",
       "      <td>1</td>\n",
       "      <td>Greylock Partners</td>\n",
       "      <td>1965-01-01</td>\n",
       "      <td>greylock.com</td>\n",
       "      <td>greylockvc</td>\n",
       "      <td>USA</td>\n",
       "      <td>307</td>\n",
       "      <td>196</td>\n",
       "      <td>0</td>\n",
       "    </tr>\n",
       "    <tr>\n",
       "      <th>2</th>\n",
       "      <td>10</td>\n",
       "      <td>Mission Ventures</td>\n",
       "      <td>1996-01-01</td>\n",
       "      <td>missionventures.com</td>\n",
       "      <td>NaN</td>\n",
       "      <td>USA</td>\n",
       "      <td>58</td>\n",
       "      <td>33</td>\n",
       "      <td>0</td>\n",
       "    </tr>\n",
       "    <tr>\n",
       "      <th>3</th>\n",
       "      <td>100</td>\n",
       "      <td>Kapor Enterprises, Inc.</td>\n",
       "      <td>NaN</td>\n",
       "      <td>kei.com</td>\n",
       "      <td>NaN</td>\n",
       "      <td>USA</td>\n",
       "      <td>2</td>\n",
       "      <td>1</td>\n",
       "      <td>0</td>\n",
       "    </tr>\n",
       "    <tr>\n",
       "      <th>4</th>\n",
       "      <td>1000</td>\n",
       "      <td>Speed Ventures</td>\n",
       "      <td>NaN</td>\n",
       "      <td>NaN</td>\n",
       "      <td>NaN</td>\n",
       "      <td>NaN</td>\n",
       "      <td>0</td>\n",
       "      <td>0</td>\n",
       "      <td>1</td>\n",
       "    </tr>\n",
       "  </tbody>\n",
       "</table>\n",
       "</div>"
      ],
      "text/plain": [
       "      id                     name  founded_at               domain  \\\n",
       "0  13131                      NaN         NaN                  NaN   \n",
       "1      1        Greylock Partners  1965-01-01         greylock.com   \n",
       "2     10         Mission Ventures  1996-01-01  missionventures.com   \n",
       "3    100  Kapor Enterprises, Inc.         NaN              kei.com   \n",
       "4   1000           Speed Ventures         NaN                  NaN   \n",
       "\n",
       "  network_username country_code  investment_rounds  invested_companies  \\\n",
       "0              NaN          NaN                  0                   0   \n",
       "1       greylockvc          USA                307                 196   \n",
       "2              NaN          USA                 58                  33   \n",
       "3              NaN          USA                  2                   1   \n",
       "4              NaN          NaN                  0                   0   \n",
       "\n",
       "   milestones  \n",
       "0           0  \n",
       "1           0  \n",
       "2           0  \n",
       "3           0  \n",
       "4           1  "
      ]
     },
     "metadata": {},
     "output_type": "display_data"
    },
    {
     "data": {
      "text/plain": [
       "'Описание датафрейма \"df_investment\"'"
      ]
     },
     "metadata": {},
     "output_type": "display_data"
    },
    {
     "name": "stdout",
     "output_type": "stream",
     "text": [
      "<class 'pandas.core.frame.DataFrame'>\n",
      "RangeIndex: 61403 entries, 0 to 61402\n",
      "Data columns (total 4 columns):\n",
      " #   Column            Non-Null Count  Dtype\n",
      "---  ------            --------------  -----\n",
      " 0   id                61403 non-null  int64\n",
      " 1   funding_round_id  61403 non-null  int64\n",
      " 2   company_id        61403 non-null  int64\n",
      " 3   fund_id           61403 non-null  int64\n",
      "dtypes: int64(4)\n",
      "memory usage: 1.9 MB\n"
     ]
    },
    {
     "data": {
      "text/plain": [
       "None"
      ]
     },
     "metadata": {},
     "output_type": "display_data"
    },
    {
     "data": {
      "text/html": [
       "<div>\n",
       "<style scoped>\n",
       "    .dataframe tbody tr th:only-of-type {\n",
       "        vertical-align: middle;\n",
       "    }\n",
       "\n",
       "    .dataframe tbody tr th {\n",
       "        vertical-align: top;\n",
       "    }\n",
       "\n",
       "    .dataframe thead th {\n",
       "        text-align: right;\n",
       "    }\n",
       "</style>\n",
       "<table border=\"1\" class=\"dataframe\">\n",
       "  <thead>\n",
       "    <tr style=\"text-align: right;\">\n",
       "      <th></th>\n",
       "      <th>id</th>\n",
       "      <th>funding_round_id</th>\n",
       "      <th>company_id</th>\n",
       "      <th>fund_id</th>\n",
       "    </tr>\n",
       "  </thead>\n",
       "  <tbody>\n",
       "    <tr>\n",
       "      <th>0</th>\n",
       "      <td>1</td>\n",
       "      <td>1</td>\n",
       "      <td>4</td>\n",
       "      <td>1</td>\n",
       "    </tr>\n",
       "    <tr>\n",
       "      <th>1</th>\n",
       "      <td>2</td>\n",
       "      <td>1</td>\n",
       "      <td>4</td>\n",
       "      <td>2</td>\n",
       "    </tr>\n",
       "    <tr>\n",
       "      <th>2</th>\n",
       "      <td>3</td>\n",
       "      <td>3</td>\n",
       "      <td>5</td>\n",
       "      <td>4</td>\n",
       "    </tr>\n",
       "    <tr>\n",
       "      <th>3</th>\n",
       "      <td>4</td>\n",
       "      <td>4</td>\n",
       "      <td>5</td>\n",
       "      <td>1</td>\n",
       "    </tr>\n",
       "    <tr>\n",
       "      <th>4</th>\n",
       "      <td>5</td>\n",
       "      <td>4</td>\n",
       "      <td>5</td>\n",
       "      <td>5</td>\n",
       "    </tr>\n",
       "  </tbody>\n",
       "</table>\n",
       "</div>"
      ],
      "text/plain": [
       "   id  funding_round_id  company_id  fund_id\n",
       "0   1                 1           4        1\n",
       "1   2                 1           4        2\n",
       "2   3                 3           5        4\n",
       "3   4                 4           5        1\n",
       "4   5                 4           5        5"
      ]
     },
     "metadata": {},
     "output_type": "display_data"
    },
    {
     "data": {
      "text/plain": [
       "'Описание датафрейма \"df_people\"'"
      ]
     },
     "metadata": {},
     "output_type": "display_data"
    },
    {
     "name": "stdout",
     "output_type": "stream",
     "text": [
      "<class 'pandas.core.frame.DataFrame'>\n",
      "RangeIndex: 226709 entries, 0 to 226708\n",
      "Data columns (total 5 columns):\n",
      " #   Column            Non-Null Count   Dtype  \n",
      "---  ------            --------------   -----  \n",
      " 0   id                226709 non-null  int64  \n",
      " 1   first_name        226704 non-null  object \n",
      " 2   last_name         226708 non-null  object \n",
      " 3   company_id        34615 non-null   float64\n",
      " 4   network_username  38867 non-null   object \n",
      "dtypes: float64(1), int64(1), object(3)\n",
      "memory usage: 8.6+ MB\n"
     ]
    },
    {
     "data": {
      "text/plain": [
       "None"
      ]
     },
     "metadata": {},
     "output_type": "display_data"
    },
    {
     "data": {
      "text/html": [
       "<div>\n",
       "<style scoped>\n",
       "    .dataframe tbody tr th:only-of-type {\n",
       "        vertical-align: middle;\n",
       "    }\n",
       "\n",
       "    .dataframe tbody tr th {\n",
       "        vertical-align: top;\n",
       "    }\n",
       "\n",
       "    .dataframe thead th {\n",
       "        text-align: right;\n",
       "    }\n",
       "</style>\n",
       "<table border=\"1\" class=\"dataframe\">\n",
       "  <thead>\n",
       "    <tr style=\"text-align: right;\">\n",
       "      <th></th>\n",
       "      <th>id</th>\n",
       "      <th>first_name</th>\n",
       "      <th>last_name</th>\n",
       "      <th>company_id</th>\n",
       "      <th>network_username</th>\n",
       "    </tr>\n",
       "  </thead>\n",
       "  <tbody>\n",
       "    <tr>\n",
       "      <th>0</th>\n",
       "      <td>10</td>\n",
       "      <td>Mark</td>\n",
       "      <td>Zuckerberg</td>\n",
       "      <td>5.0</td>\n",
       "      <td>NaN</td>\n",
       "    </tr>\n",
       "    <tr>\n",
       "      <th>1</th>\n",
       "      <td>100</td>\n",
       "      <td>Peter</td>\n",
       "      <td>Lester</td>\n",
       "      <td>27.0</td>\n",
       "      <td>NaN</td>\n",
       "    </tr>\n",
       "    <tr>\n",
       "      <th>2</th>\n",
       "      <td>1000</td>\n",
       "      <td>Dr. Steven</td>\n",
       "      <td>E. Saunders</td>\n",
       "      <td>292.0</td>\n",
       "      <td>NaN</td>\n",
       "    </tr>\n",
       "    <tr>\n",
       "      <th>3</th>\n",
       "      <td>10000</td>\n",
       "      <td>Neil</td>\n",
       "      <td>Capel</td>\n",
       "      <td>2526.0</td>\n",
       "      <td>NaN</td>\n",
       "    </tr>\n",
       "    <tr>\n",
       "      <th>4</th>\n",
       "      <td>100000</td>\n",
       "      <td>Sue</td>\n",
       "      <td>Pilsch</td>\n",
       "      <td>NaN</td>\n",
       "      <td>NaN</td>\n",
       "    </tr>\n",
       "  </tbody>\n",
       "</table>\n",
       "</div>"
      ],
      "text/plain": [
       "       id  first_name    last_name  company_id network_username\n",
       "0      10        Mark   Zuckerberg         5.0              NaN\n",
       "1     100       Peter       Lester        27.0              NaN\n",
       "2    1000  Dr. Steven  E. Saunders       292.0              NaN\n",
       "3   10000        Neil        Capel      2526.0              NaN\n",
       "4  100000         Sue       Pilsch         NaN              NaN"
      ]
     },
     "metadata": {},
     "output_type": "display_data"
    }
   ],
   "source": [
    "for i in ['df_acquisition', 'df_company_and_rounds', 'df_degrees', 'df_education', 'df_fund', 'df_investment', 'df_people']:\n",
    "    display(f'Описание датафрейма \"{i}\"')\n",
    "    display(eval(i).info())\n",
    "    display(eval(i).head())"
   ]
  },
  {
   "cell_type": "markdown",
   "metadata": {},
   "source": [
    "Также посмотрим на наличие дубликатов в таблицах:"
   ]
  },
  {
   "cell_type": "code",
   "execution_count": 8,
   "metadata": {},
   "outputs": [
    {
     "data": {
      "text/plain": [
       "'Наличие дубликатов в датафрейме \"df_acquisition\"'"
      ]
     },
     "metadata": {},
     "output_type": "display_data"
    },
    {
     "data": {
      "text/plain": [
       "0"
      ]
     },
     "metadata": {},
     "output_type": "display_data"
    },
    {
     "data": {
      "text/plain": [
       "'Наличие дубликатов в датафрейме \"df_company_and_rounds\"'"
      ]
     },
     "metadata": {},
     "output_type": "display_data"
    },
    {
     "data": {
      "text/plain": [
       "0"
      ]
     },
     "metadata": {},
     "output_type": "display_data"
    },
    {
     "data": {
      "text/plain": [
       "'Наличие дубликатов в датафрейме \"df_degrees\"'"
      ]
     },
     "metadata": {},
     "output_type": "display_data"
    },
    {
     "data": {
      "text/plain": [
       "0"
      ]
     },
     "metadata": {},
     "output_type": "display_data"
    },
    {
     "data": {
      "text/plain": [
       "'Наличие дубликатов в датафрейме \"df_education\"'"
      ]
     },
     "metadata": {},
     "output_type": "display_data"
    },
    {
     "data": {
      "text/plain": [
       "0"
      ]
     },
     "metadata": {},
     "output_type": "display_data"
    },
    {
     "data": {
      "text/plain": [
       "'Наличие дубликатов в датафрейме \"df_fund\"'"
      ]
     },
     "metadata": {},
     "output_type": "display_data"
    },
    {
     "data": {
      "text/plain": [
       "0"
      ]
     },
     "metadata": {},
     "output_type": "display_data"
    },
    {
     "data": {
      "text/plain": [
       "'Наличие дубликатов в датафрейме \"df_investment\"'"
      ]
     },
     "metadata": {},
     "output_type": "display_data"
    },
    {
     "data": {
      "text/plain": [
       "0"
      ]
     },
     "metadata": {},
     "output_type": "display_data"
    },
    {
     "data": {
      "text/plain": [
       "'Наличие дубликатов в датафрейме \"df_people\"'"
      ]
     },
     "metadata": {},
     "output_type": "display_data"
    },
    {
     "data": {
      "text/plain": [
       "0"
      ]
     },
     "metadata": {},
     "output_type": "display_data"
    }
   ],
   "source": [
    "for i in ['df_acquisition', 'df_company_and_rounds', 'df_degrees', 'df_education', 'df_fund', 'df_investment', 'df_people']:\n",
    "    display(f'Наличие дубликатов в датафрейме \"{i}\"')\n",
    "    display(eval(i).duplicated().sum())"
   ]
  },
  {
   "cell_type": "markdown",
   "metadata": {
    "id": "W_W4jRazrJg0"
   },
   "source": [
    "В таблице **`df_acquisition`** представлено 9 407 наблюдений. Множество пропусков находится в столбце `term_code`. Стоит также отметить, что столбцец с датой `acquired_at` представлен в типе `object`;\n",
    "\n",
    "В таблице **`df_company_and_rounds`** представлено 217 472 наблюдения. Пропуска отсутствуют в столбцах `company_id_first`, `name`, `status`, `investment_rounds`, `funding_rounds`, `funding_total`, `milestones`. Чуть меньше половины пропусков содержится в столбце `category_code`. В остальных столбцах больше половины наблюдений являются пропусками. Стоит также отметить, что столбцах с датой `founded_at`, `funded_at` и `closed_at` представлен в типе `object`;\n",
    "\n",
    "В таблице **`df_degrees`** представлено 109 610 наблюдений. Пропуски находятся в столбцах `degree_type` и `subject`;\n",
    "\n",
    "В таблице **`df_education`** представлено 109 610 наблюдений. Примерно половина пропусков находится в столбце с датой `graduated_at`, который представлен в типе `object`;\n",
    "\n",
    "В таблице **`df_fund`** представлено 11 652 наблюдения. В основном пропуски находятся в столбцах `founded_at` и `domain`, `network_username` и `country_code`. Стоит также отметить, что столбцец с датой `founded_at` представлен в типе `object`;\n",
    "\n",
    "В таблице **`df_investment`** представлено 61 403 наблюдения без пропусков в данных, все столбцы представлены в типе `int64`;\n",
    "\n",
    "В таблице **`df_people`** представлено 226 709 наблюдений. Множество пропусков находится в столбцах `company_id` и `network_username`.\n",
    "\n",
    "Таким образом, данные во всех датафреймах требуют работы с пропусками, а также переводом временных данных в соответствующий тип из типа `object`. Явных дубликатов в таблицах не выявлено."
   ]
  },
  {
   "cell_type": "markdown",
   "metadata": {
    "id": "mg2gEwh0rJg0"
   },
   "source": [
    "### 1.2. Смена типов и анализ пропусков\n"
   ]
  },
  {
   "cell_type": "code",
   "execution_count": 9,
   "metadata": {},
   "outputs": [],
   "source": [
    "# Переведем все столбцы со временем к типу datetime\n",
    "df_acquisition['acquired_at'] = pd.to_datetime(df_acquisition['acquired_at'], format='%Y-%m-%d')\n",
    "\n",
    "df_company_and_rounds['founded_at'] = pd.to_datetime(df_company_and_rounds['founded_at'], format='%Y-%m-%d')\n",
    "df_company_and_rounds['funded_at'] = pd.to_datetime(df_company_and_rounds['funded_at'], format='%Y-%m-%d')\n",
    "df_company_and_rounds['closed_at'] = pd.to_datetime(df_company_and_rounds['closed_at'], format='%Y-%m-%d')\n",
    "\n",
    "df_education['graduated_at'] = pd.to_datetime(df_education['graduated_at'], format='%Y-%m-%d')\n",
    "\n",
    "df_fund['founded_at'] = pd.to_datetime(df_fund['founded_at'], format='%Y-%m-%d')"
   ]
  },
  {
   "cell_type": "code",
   "execution_count": 10,
   "metadata": {},
   "outputs": [
    {
     "data": {
      "text/plain": [
       "'Информация о датафрейме df_acquisition'"
      ]
     },
     "metadata": {},
     "output_type": "display_data"
    },
    {
     "name": "stdout",
     "output_type": "stream",
     "text": [
      "<class 'pandas.core.frame.DataFrame'>\n",
      "RangeIndex: 9407 entries, 0 to 9406\n",
      "Data columns (total 6 columns):\n",
      " #   Column                Non-Null Count  Dtype         \n",
      "---  ------                --------------  -----         \n",
      " 0   id                    9407 non-null   int64         \n",
      " 1   acquiring_company_id  9407 non-null   int64         \n",
      " 2   acquired_company_id   9407 non-null   int64         \n",
      " 3   term_code             1831 non-null   object        \n",
      " 4   price_amount          9407 non-null   int64         \n",
      " 5   acquired_at           9378 non-null   datetime64[ns]\n",
      "dtypes: datetime64[ns](1), int64(4), object(1)\n",
      "memory usage: 441.1+ KB\n"
     ]
    },
    {
     "data": {
      "text/plain": [
       "None"
      ]
     },
     "metadata": {},
     "output_type": "display_data"
    },
    {
     "data": {
      "text/plain": [
       "'Информация о датафрейме df_company_and_rounds'"
      ]
     },
     "metadata": {},
     "output_type": "display_data"
    },
    {
     "name": "stdout",
     "output_type": "stream",
     "text": [
      "<class 'pandas.core.frame.DataFrame'>\n",
      "RangeIndex: 217774 entries, 0 to 217773\n",
      "Data columns (total 22 columns):\n",
      " #   Column               Non-Null Count   Dtype         \n",
      "---  ------               --------------   -----         \n",
      " 0   company_id_first     217472 non-null  float64       \n",
      " 1   name                 217472 non-null  object        \n",
      " 2   category_code        143886 non-null  object        \n",
      " 3   status               217472 non-null  object        \n",
      " 4   founded_at           109956 non-null  datetime64[ns]\n",
      " 5   closed_at            3449 non-null    datetime64[ns]\n",
      " 6   domain               147159 non-null  object        \n",
      " 7   network_username     95534 non-null   object        \n",
      " 8   country_code         108607 non-null  object        \n",
      " 9   investment_rounds    217472 non-null  float64       \n",
      " 10  funding_rounds       217472 non-null  float64       \n",
      " 11  funding_total        217472 non-null  float64       \n",
      " 12  milestones           217472 non-null  float64       \n",
      " 13  funding_round_id     52928 non-null   float64       \n",
      " 14  company_id           52928 non-null   float64       \n",
      " 15  funded_at            52680 non-null   datetime64[ns]\n",
      " 16  funding_round_type   52928 non-null   object        \n",
      " 17  raised_amount        52928 non-null   float64       \n",
      " 18  pre_money_valuation  52928 non-null   float64       \n",
      " 19  participants         52928 non-null   float64       \n",
      " 20  is_first_round       52928 non-null   float64       \n",
      " 21  is_last_round        52928 non-null   float64       \n",
      "dtypes: datetime64[ns](3), float64(12), object(7)\n",
      "memory usage: 36.6+ MB\n"
     ]
    },
    {
     "data": {
      "text/plain": [
       "None"
      ]
     },
     "metadata": {},
     "output_type": "display_data"
    },
    {
     "data": {
      "text/plain": [
       "'Информация о датафрейме df_education'"
      ]
     },
     "metadata": {},
     "output_type": "display_data"
    },
    {
     "name": "stdout",
     "output_type": "stream",
     "text": [
      "<class 'pandas.core.frame.DataFrame'>\n",
      "RangeIndex: 109610 entries, 0 to 109609\n",
      "Data columns (total 4 columns):\n",
      " #   Column        Non-Null Count   Dtype         \n",
      "---  ------        --------------   -----         \n",
      " 0   id            109610 non-null  int64         \n",
      " 1   person_id     109610 non-null  int64         \n",
      " 2   instituition  109555 non-null  object        \n",
      " 3   graduated_at  58054 non-null   datetime64[ns]\n",
      "dtypes: datetime64[ns](1), int64(2), object(1)\n",
      "memory usage: 3.3+ MB\n"
     ]
    },
    {
     "data": {
      "text/plain": [
       "None"
      ]
     },
     "metadata": {},
     "output_type": "display_data"
    },
    {
     "data": {
      "text/plain": [
       "'Информация о датафрейме df_fund'"
      ]
     },
     "metadata": {},
     "output_type": "display_data"
    },
    {
     "name": "stdout",
     "output_type": "stream",
     "text": [
      "<class 'pandas.core.frame.DataFrame'>\n",
      "RangeIndex: 11652 entries, 0 to 11651\n",
      "Data columns (total 9 columns):\n",
      " #   Column              Non-Null Count  Dtype         \n",
      "---  ------              --------------  -----         \n",
      " 0   id                  11652 non-null  int64         \n",
      " 1   name                11650 non-null  object        \n",
      " 2   founded_at          4605 non-null   datetime64[ns]\n",
      " 3   domain              7362 non-null   object        \n",
      " 4   network_username    2149 non-null   object        \n",
      " 5   country_code        7053 non-null   object        \n",
      " 6   investment_rounds   11652 non-null  int64         \n",
      " 7   invested_companies  11652 non-null  int64         \n",
      " 8   milestones          11652 non-null  int64         \n",
      "dtypes: datetime64[ns](1), int64(4), object(4)\n",
      "memory usage: 819.4+ KB\n"
     ]
    },
    {
     "data": {
      "text/plain": [
       "None"
      ]
     },
     "metadata": {},
     "output_type": "display_data"
    }
   ],
   "source": [
    "display('Информация о датафрейме df_acquisition')\n",
    "display(df_acquisition.info())\n",
    "display('Информация о датафрейме df_company_and_rounds')\n",
    "display(df_company_and_rounds.info())\n",
    "display('Информация о датафрейме df_education')\n",
    "display(df_education.info())\n",
    "display('Информация о датафрейме df_fund')\n",
    "display(df_fund.info())"
   ]
  },
  {
   "cell_type": "markdown",
   "metadata": {},
   "source": [
    "\n",
    "Оценим полноту данных — сделаем предварительный вывод, достаточно ли данных для решения задач проекта."
   ]
  },
  {
   "cell_type": "code",
   "execution_count": 11,
   "metadata": {
    "id": "5Sg2O8zNnzKc"
   },
   "outputs": [
    {
     "data": {
      "text/plain": [
       "'Количество пропусков в датафрейме \"df_acquisition\"'"
      ]
     },
     "metadata": {},
     "output_type": "display_data"
    },
    {
     "data": {
      "text/plain": [
       "term_code               80.54\n",
       "acquired_at              0.31\n",
       "id                       0.00\n",
       "acquiring_company_id     0.00\n",
       "acquired_company_id      0.00\n",
       "price_amount             0.00\n",
       "dtype: float64"
      ]
     },
     "metadata": {},
     "output_type": "display_data"
    },
    {
     "data": {
      "text/plain": [
       "'Количество пропусков в датафрейме \"df_company_and_rounds\"'"
      ]
     },
     "metadata": {},
     "output_type": "display_data"
    },
    {
     "data": {
      "text/plain": [
       "closed_at              98.42\n",
       "funded_at              75.81\n",
       "is_last_round          75.70\n",
       "is_first_round         75.70\n",
       "participants           75.70\n",
       "pre_money_valuation    75.70\n",
       "raised_amount          75.70\n",
       "funding_round_type     75.70\n",
       "funding_round_id       75.70\n",
       "company_id             75.70\n",
       "network_username       56.13\n",
       "country_code           50.13\n",
       "founded_at             49.51\n",
       "category_code          33.93\n",
       "domain                 32.43\n",
       "company_id_first        0.14\n",
       "milestones              0.14\n",
       "name                    0.14\n",
       "funding_rounds          0.14\n",
       "investment_rounds       0.14\n",
       "status                  0.14\n",
       "funding_total           0.14\n",
       "dtype: float64"
      ]
     },
     "metadata": {},
     "output_type": "display_data"
    },
    {
     "data": {
      "text/plain": [
       "'Количество пропусков в датафрейме \"df_degrees\"'"
      ]
     },
     "metadata": {},
     "output_type": "display_data"
    },
    {
     "data": {
      "text/plain": [
       "subject        25.83\n",
       "degree_type    10.23\n",
       "id              0.00\n",
       "object_id       0.00\n",
       "dtype: float64"
      ]
     },
     "metadata": {},
     "output_type": "display_data"
    },
    {
     "data": {
      "text/plain": [
       "'Количество пропусков в датафрейме \"df_education\"'"
      ]
     },
     "metadata": {},
     "output_type": "display_data"
    },
    {
     "data": {
      "text/plain": [
       "graduated_at    47.04\n",
       "instituition     0.05\n",
       "id               0.00\n",
       "person_id        0.00\n",
       "dtype: float64"
      ]
     },
     "metadata": {},
     "output_type": "display_data"
    },
    {
     "data": {
      "text/plain": [
       "'Количество пропусков в датафрейме \"df_fund\"'"
      ]
     },
     "metadata": {},
     "output_type": "display_data"
    },
    {
     "data": {
      "text/plain": [
       "network_username      81.56\n",
       "founded_at            60.48\n",
       "country_code          39.47\n",
       "domain                36.82\n",
       "name                   0.02\n",
       "id                     0.00\n",
       "investment_rounds      0.00\n",
       "invested_companies     0.00\n",
       "milestones             0.00\n",
       "dtype: float64"
      ]
     },
     "metadata": {},
     "output_type": "display_data"
    },
    {
     "data": {
      "text/plain": [
       "'Количество пропусков в датафрейме \"df_investment\"'"
      ]
     },
     "metadata": {},
     "output_type": "display_data"
    },
    {
     "data": {
      "text/plain": [
       "id                  0.0\n",
       "funding_round_id    0.0\n",
       "company_id          0.0\n",
       "fund_id             0.0\n",
       "dtype: float64"
      ]
     },
     "metadata": {},
     "output_type": "display_data"
    },
    {
     "data": {
      "text/plain": [
       "'Количество пропусков в датафрейме \"df_people\"'"
      ]
     },
     "metadata": {},
     "output_type": "display_data"
    },
    {
     "data": {
      "text/plain": [
       "company_id          84.73\n",
       "network_username    82.86\n",
       "id                   0.00\n",
       "first_name           0.00\n",
       "last_name            0.00\n",
       "dtype: float64"
      ]
     },
     "metadata": {},
     "output_type": "display_data"
    }
   ],
   "source": [
    "# Посчитаем долю наблюдений с пропусками во всех датафреймах\n",
    "for i in ['df_acquisition', 'df_company_and_rounds', 'df_degrees', 'df_education', 'df_fund', 'df_investment', 'df_people']:\n",
    "    display(f'Количество пропусков в датафрейме \"{i}\"')\n",
    "    display(round(eval(i).isna().sum() / eval(i).shape[0] * 100,2).sort_values(ascending = False))"
   ]
  },
  {
   "cell_type": "markdown",
   "metadata": {},
   "source": [
    "Большинство столбцов в ключевой для анализа таблице `df_company_and_rounds` содержат **более 50% пропусков**. Также стоит отметить, что для 9 столбцов процент пропусков составляет ровно **75.7%**, что может указывать на ошибки в заполнении данных.\n",
    "    \n",
    "Однако для ответа на ключевые вопросы информации будет достаточно."
   ]
  },
  {
   "cell_type": "markdown",
   "metadata": {
    "id": "u60cHsn6rJg1"
   },
   "source": [
    "## Шаг 2. Предобработка данных, предварительное исследование"
   ]
  },
  {
   "cell_type": "markdown",
   "metadata": {
    "id": "g2bHIIjcrJg1"
   },
   "source": [
    "\n",
    "### 2.1. Раунды финансирования по годам\n"
   ]
  },
  {
   "cell_type": "code",
   "execution_count": 12,
   "metadata": {},
   "outputs": [],
   "source": [
    "# Установка формата отображения чисел\n",
    "pd.options.display.float_format = '{:,.0f}'.format"
   ]
  },
  {
   "cell_type": "code",
   "execution_count": 13,
   "metadata": {
    "id": "ovyDibxNrJg1"
   },
   "outputs": [],
   "source": [
    "df_company_and_rounds['fund_year'] = df_company_and_rounds['funded_at'].dt.year\n",
    "pivot_funds = df_company_and_rounds.pivot_table(index=\"fund_year\", values=[\"raised_amount\", \"funding_rounds\"], \n",
    "                                                aggfunc= {\"raised_amount\" : \"mean\", \"funding_rounds\" : \"sum\"})"
   ]
  },
  {
   "cell_type": "code",
   "execution_count": 14,
   "metadata": {},
   "outputs": [
    {
     "data": {
      "text/html": [
       "<div>\n",
       "<style scoped>\n",
       "    .dataframe tbody tr th:only-of-type {\n",
       "        vertical-align: middle;\n",
       "    }\n",
       "\n",
       "    .dataframe tbody tr th {\n",
       "        vertical-align: top;\n",
       "    }\n",
       "\n",
       "    .dataframe thead th {\n",
       "        text-align: right;\n",
       "    }\n",
       "</style>\n",
       "<table border=\"1\" class=\"dataframe\">\n",
       "  <thead>\n",
       "    <tr style=\"text-align: right;\">\n",
       "      <th></th>\n",
       "      <th>funding_rounds</th>\n",
       "      <th>raised_amount</th>\n",
       "    </tr>\n",
       "    <tr>\n",
       "      <th>fund_year</th>\n",
       "      <th></th>\n",
       "      <th></th>\n",
       "    </tr>\n",
       "  </thead>\n",
       "  <tbody>\n",
       "    <tr>\n",
       "      <th>1,998</th>\n",
       "      <td>72</td>\n",
       "      <td>5,280,655</td>\n",
       "    </tr>\n",
       "    <tr>\n",
       "      <th>1,999</th>\n",
       "      <td>268</td>\n",
       "      <td>7,420,242</td>\n",
       "    </tr>\n",
       "    <tr>\n",
       "      <th>2,000</th>\n",
       "      <td>403</td>\n",
       "      <td>11,485,509</td>\n",
       "    </tr>\n",
       "    <tr>\n",
       "      <th>2,001</th>\n",
       "      <td>302</td>\n",
       "      <td>8,761,519</td>\n",
       "    </tr>\n",
       "    <tr>\n",
       "      <th>2,002</th>\n",
       "      <td>385</td>\n",
       "      <td>7,836,196</td>\n",
       "    </tr>\n",
       "    <tr>\n",
       "      <th>2,003</th>\n",
       "      <td>569</td>\n",
       "      <td>5,725,050</td>\n",
       "    </tr>\n",
       "    <tr>\n",
       "      <th>2,004</th>\n",
       "      <td>1,057</td>\n",
       "      <td>7,593,646</td>\n",
       "    </tr>\n",
       "    <tr>\n",
       "      <th>2,005</th>\n",
       "      <td>4,157</td>\n",
       "      <td>9,324,877</td>\n",
       "    </tr>\n",
       "    <tr>\n",
       "      <th>2,006</th>\n",
       "      <td>6,295</td>\n",
       "      <td>8,404,267</td>\n",
       "    </tr>\n",
       "    <tr>\n",
       "      <th>2,007</th>\n",
       "      <td>8,494</td>\n",
       "      <td>8,931,094</td>\n",
       "    </tr>\n",
       "    <tr>\n",
       "      <th>2,008</th>\n",
       "      <td>9,931</td>\n",
       "      <td>10,191,804</td>\n",
       "    </tr>\n",
       "    <tr>\n",
       "      <th>2,009</th>\n",
       "      <td>11,857</td>\n",
       "      <td>8,794,643</td>\n",
       "    </tr>\n",
       "    <tr>\n",
       "      <th>2,010</th>\n",
       "      <td>16,913</td>\n",
       "      <td>7,749,652</td>\n",
       "    </tr>\n",
       "    <tr>\n",
       "      <th>2,011</th>\n",
       "      <td>23,503</td>\n",
       "      <td>7,246,439</td>\n",
       "    </tr>\n",
       "    <tr>\n",
       "      <th>2,012</th>\n",
       "      <td>24,549</td>\n",
       "      <td>6,412,033</td>\n",
       "    </tr>\n",
       "    <tr>\n",
       "      <th>2,013</th>\n",
       "      <td>23,978</td>\n",
       "      <td>8,467,284</td>\n",
       "    </tr>\n",
       "  </tbody>\n",
       "</table>\n",
       "</div>"
      ],
      "text/plain": [
       "           funding_rounds  raised_amount\n",
       "fund_year                               \n",
       "1,998                  72      5,280,655\n",
       "1,999                 268      7,420,242\n",
       "2,000                 403     11,485,509\n",
       "2,001                 302      8,761,519\n",
       "2,002                 385      7,836,196\n",
       "2,003                 569      5,725,050\n",
       "2,004               1,057      7,593,646\n",
       "2,005               4,157      9,324,877\n",
       "2,006               6,295      8,404,267\n",
       "2,007               8,494      8,931,094\n",
       "2,008               9,931     10,191,804\n",
       "2,009              11,857      8,794,643\n",
       "2,010              16,913      7,749,652\n",
       "2,011              23,503      7,246,439\n",
       "2,012              24,549      6,412,033\n",
       "2,013              23,978      8,467,284"
      ]
     },
     "metadata": {},
     "output_type": "display_data"
    }
   ],
   "source": [
    "pivot_funds_filtered = pivot_funds[pivot_funds['funding_rounds'] > 50]\n",
    "\n",
    "display(pivot_funds_filtered)"
   ]
  },
  {
   "cell_type": "code",
   "execution_count": 15,
   "metadata": {},
   "outputs": [],
   "source": [
    "pivot_funds_2 = df_company_and_rounds.pivot_table(index=\"fund_year\", values=[\"raised_amount\", \"funding_rounds\"], \n",
    "                                                  aggfunc= {\"raised_amount\" : \"median\", \"funding_rounds\" : \"sum\"})"
   ]
  },
  {
   "cell_type": "code",
   "execution_count": 16,
   "metadata": {},
   "outputs": [
    {
     "data": {
      "text/html": [
       "<div>\n",
       "<style scoped>\n",
       "    .dataframe tbody tr th:only-of-type {\n",
       "        vertical-align: middle;\n",
       "    }\n",
       "\n",
       "    .dataframe tbody tr th {\n",
       "        vertical-align: top;\n",
       "    }\n",
       "\n",
       "    .dataframe thead th {\n",
       "        text-align: right;\n",
       "    }\n",
       "</style>\n",
       "<table border=\"1\" class=\"dataframe\">\n",
       "  <thead>\n",
       "    <tr style=\"text-align: right;\">\n",
       "      <th></th>\n",
       "      <th>funding_rounds</th>\n",
       "      <th>raised_amount</th>\n",
       "    </tr>\n",
       "    <tr>\n",
       "      <th>fund_year</th>\n",
       "      <th></th>\n",
       "      <th></th>\n",
       "    </tr>\n",
       "  </thead>\n",
       "  <tbody>\n",
       "    <tr>\n",
       "      <th>1,998</th>\n",
       "      <td>72</td>\n",
       "      <td>100,000</td>\n",
       "    </tr>\n",
       "    <tr>\n",
       "      <th>1,999</th>\n",
       "      <td>268</td>\n",
       "      <td>2,000,000</td>\n",
       "    </tr>\n",
       "    <tr>\n",
       "      <th>2,000</th>\n",
       "      <td>403</td>\n",
       "      <td>4,200,000</td>\n",
       "    </tr>\n",
       "    <tr>\n",
       "      <th>2,001</th>\n",
       "      <td>302</td>\n",
       "      <td>3,000,000</td>\n",
       "    </tr>\n",
       "    <tr>\n",
       "      <th>2,002</th>\n",
       "      <td>385</td>\n",
       "      <td>4,200,000</td>\n",
       "    </tr>\n",
       "    <tr>\n",
       "      <th>2,003</th>\n",
       "      <td>569</td>\n",
       "      <td>3,000,000</td>\n",
       "    </tr>\n",
       "    <tr>\n",
       "      <th>2,004</th>\n",
       "      <td>1,057</td>\n",
       "      <td>5,000,000</td>\n",
       "    </tr>\n",
       "    <tr>\n",
       "      <th>2,005</th>\n",
       "      <td>4,157</td>\n",
       "      <td>5,500,000</td>\n",
       "    </tr>\n",
       "    <tr>\n",
       "      <th>2,006</th>\n",
       "      <td>6,295</td>\n",
       "      <td>5,000,000</td>\n",
       "    </tr>\n",
       "    <tr>\n",
       "      <th>2,007</th>\n",
       "      <td>8,494</td>\n",
       "      <td>3,973,320</td>\n",
       "    </tr>\n",
       "    <tr>\n",
       "      <th>2,008</th>\n",
       "      <td>9,931</td>\n",
       "      <td>3,110,000</td>\n",
       "    </tr>\n",
       "    <tr>\n",
       "      <th>2,009</th>\n",
       "      <td>11,857</td>\n",
       "      <td>2,000,000</td>\n",
       "    </tr>\n",
       "    <tr>\n",
       "      <th>2,010</th>\n",
       "      <td>16,913</td>\n",
       "      <td>1,602,500</td>\n",
       "    </tr>\n",
       "    <tr>\n",
       "      <th>2,011</th>\n",
       "      <td>23,503</td>\n",
       "      <td>1,200,000</td>\n",
       "    </tr>\n",
       "    <tr>\n",
       "      <th>2,012</th>\n",
       "      <td>24,549</td>\n",
       "      <td>1,000,000</td>\n",
       "    </tr>\n",
       "    <tr>\n",
       "      <th>2,013</th>\n",
       "      <td>23,978</td>\n",
       "      <td>1,200,000</td>\n",
       "    </tr>\n",
       "  </tbody>\n",
       "</table>\n",
       "</div>"
      ],
      "text/plain": [
       "           funding_rounds  raised_amount\n",
       "fund_year                               \n",
       "1,998                  72        100,000\n",
       "1,999                 268      2,000,000\n",
       "2,000                 403      4,200,000\n",
       "2,001                 302      3,000,000\n",
       "2,002                 385      4,200,000\n",
       "2,003                 569      3,000,000\n",
       "2,004               1,057      5,000,000\n",
       "2,005               4,157      5,500,000\n",
       "2,006               6,295      5,000,000\n",
       "2,007               8,494      3,973,320\n",
       "2,008               9,931      3,110,000\n",
       "2,009              11,857      2,000,000\n",
       "2,010              16,913      1,602,500\n",
       "2,011              23,503      1,200,000\n",
       "2,012              24,549      1,000,000\n",
       "2,013              23,978      1,200,000"
      ]
     },
     "metadata": {},
     "output_type": "display_data"
    }
   ],
   "source": [
    "pivot_funds_filtered_2 = pivot_funds_2[pivot_funds_2['funding_rounds'] > 50]\n",
    "\n",
    "display(pivot_funds_filtered_2)"
   ]
  },
  {
   "cell_type": "code",
   "execution_count": 17,
   "metadata": {},
   "outputs": [
    {
     "data": {
      "text/plain": [
       "count          52,928\n",
       "mean        7,946,092\n",
       "std        42,168,206\n",
       "min                 0\n",
       "25%           246,330\n",
       "50%         1,600,000\n",
       "75%         6,700,000\n",
       "max     3,835,050,000\n",
       "Name: raised_amount, dtype: float64"
      ]
     },
     "execution_count": 17,
     "metadata": {},
     "output_type": "execute_result"
    }
   ],
   "source": [
    "df_company_and_rounds['raised_amount'].describe()"
   ]
  },
  {
   "cell_type": "code",
   "execution_count": 18,
   "metadata": {
    "id": "HB81GTA9n04M"
   },
   "outputs": [
    {
     "data": {
      "image/png": "[encoded data removed]",
      "text/plain": [
       "<Figure size 1440x720 with 2 Axes>"
      ]
     },
     "metadata": {
      "needs_background": "light"
     },
     "output_type": "display_data"
    }
   ],
   "source": [
    "funds_line_plot = pivot_funds_filtered_2.plot(kind='line', subplots=True, sharex=True, sharey=False, legend=False, \n",
    "            title=['Количество раундов финансирования', 'Типичный размер средств в рамках одного раунда финансирования'], \n",
    "            marker='o', figsize=(20, 10))\n",
    "\n",
    "funds_line_plot[0].set_ylabel('Типичный размер средств')\n",
    "funds_line_plot[1].set_ylabel('Количество раундов')\n",
    "\n",
    "funds_line_plot[0].grid(which='both')\n",
    "funds_line_plot[1].grid(which='both')\n",
    "\n",
    "plt.xlabel('Год')\n",
    "\n",
    "plt.show()\n"
   ]
  },
  {
   "cell_type": "markdown",
   "metadata": {},
   "source": [
    "В **2000 году** типичный размер средств в рамках одного раунда финансирования был максимальным и составлял **11 485 509** у.е.\n",
    "\n",
    "В 2013 году общее количество раундов финансирования пошло на спад по отношению к предыдущему году, а типичный размер средств в рамках одного раунда финансирования, наоборот, стал увеличиваться и вырос примерно на 2 000 000 у.е. по отношению к предыдущему году."
   ]
  },
  {
   "cell_type": "markdown",
   "metadata": {},
   "source": [
    "\n",
    "    \n",
    "В **2005 году** типичный размер средств в рамках одного раунда финансирования был максимальным и составлял **5 500 000** у.е.\n",
    "\n",
    "По всему периоду можно сказать, что объем финансирования падает, а количество раундов динамично растет. Происходит большее \"дробление\", то есть снижение объема за счет увеличения числа раундов. В 2013 году общее количество раундов финансирования немного пошло на спад по отношению к росту в предыдущих годах, а типичный размер средств в рамках одного раунда финансирования, наоборот, стал немного увеличился по сравнению с негативным трендом предыдущих лет."
   ]
  },
  {
   "cell_type": "markdown",
   "metadata": {
    "id": "45if1en1rJg2"
   },
   "source": [
    "\n",
    "### 2.2. Люди и их образование\n",
    "\n",
    "Заказчик хотел понять, зависит ли полнота сведений о сотрудниках (например, об их образовании) от размера компаний.\n"
   ]
  },
  {
   "cell_type": "code",
   "execution_count": 19,
   "metadata": {
    "id": "psPO7C4MrJg2"
   },
   "outputs": [
    {
     "data": {
      "text/html": [
       "<div>\n",
       "<style scoped>\n",
       "    .dataframe tbody tr th:only-of-type {\n",
       "        vertical-align: middle;\n",
       "    }\n",
       "\n",
       "    .dataframe tbody tr th {\n",
       "        vertical-align: top;\n",
       "    }\n",
       "\n",
       "    .dataframe thead th {\n",
       "        text-align: right;\n",
       "    }\n",
       "</style>\n",
       "<table border=\"1\" class=\"dataframe\">\n",
       "  <thead>\n",
       "    <tr style=\"text-align: right;\">\n",
       "      <th></th>\n",
       "      <th>id</th>\n",
       "      <th>first_name</th>\n",
       "      <th>last_name</th>\n",
       "      <th>company_id</th>\n",
       "      <th>network_username</th>\n",
       "    </tr>\n",
       "  </thead>\n",
       "  <tbody>\n",
       "    <tr>\n",
       "      <th>0</th>\n",
       "      <td>10</td>\n",
       "      <td>Mark</td>\n",
       "      <td>Zuckerberg</td>\n",
       "      <td>5</td>\n",
       "      <td>NaN</td>\n",
       "    </tr>\n",
       "    <tr>\n",
       "      <th>1</th>\n",
       "      <td>100</td>\n",
       "      <td>Peter</td>\n",
       "      <td>Lester</td>\n",
       "      <td>27</td>\n",
       "      <td>NaN</td>\n",
       "    </tr>\n",
       "    <tr>\n",
       "      <th>2</th>\n",
       "      <td>1000</td>\n",
       "      <td>Dr. Steven</td>\n",
       "      <td>E. Saunders</td>\n",
       "      <td>292</td>\n",
       "      <td>NaN</td>\n",
       "    </tr>\n",
       "    <tr>\n",
       "      <th>3</th>\n",
       "      <td>10000</td>\n",
       "      <td>Neil</td>\n",
       "      <td>Capel</td>\n",
       "      <td>2,526</td>\n",
       "      <td>NaN</td>\n",
       "    </tr>\n",
       "    <tr>\n",
       "      <th>4</th>\n",
       "      <td>100000</td>\n",
       "      <td>Sue</td>\n",
       "      <td>Pilsch</td>\n",
       "      <td>NaN</td>\n",
       "      <td>NaN</td>\n",
       "    </tr>\n",
       "    <tr>\n",
       "      <th>5</th>\n",
       "      <td>100002</td>\n",
       "      <td>Keith</td>\n",
       "      <td>Kurzendoerfer</td>\n",
       "      <td>NaN</td>\n",
       "      <td>NaN</td>\n",
       "    </tr>\n",
       "    <tr>\n",
       "      <th>6</th>\n",
       "      <td>100006</td>\n",
       "      <td>Courtney</td>\n",
       "      <td>Homer</td>\n",
       "      <td>81,558</td>\n",
       "      <td>jobsbostontech</td>\n",
       "    </tr>\n",
       "    <tr>\n",
       "      <th>7</th>\n",
       "      <td>100009</td>\n",
       "      <td>Eddy</td>\n",
       "      <td>Badrina</td>\n",
       "      <td>NaN</td>\n",
       "      <td>NaN</td>\n",
       "    </tr>\n",
       "    <tr>\n",
       "      <th>8</th>\n",
       "      <td>100010</td>\n",
       "      <td>Michael</td>\n",
       "      <td>Dadashyan</td>\n",
       "      <td>NaN</td>\n",
       "      <td>fbroulette</td>\n",
       "    </tr>\n",
       "    <tr>\n",
       "      <th>9</th>\n",
       "      <td>100011</td>\n",
       "      <td>Jeff</td>\n",
       "      <td>Grell</td>\n",
       "      <td>NaN</td>\n",
       "      <td>NaN</td>\n",
       "    </tr>\n",
       "  </tbody>\n",
       "</table>\n",
       "</div>"
      ],
      "text/plain": [
       "       id  first_name      last_name  company_id network_username\n",
       "0      10        Mark     Zuckerberg           5              NaN\n",
       "1     100       Peter         Lester          27              NaN\n",
       "2    1000  Dr. Steven    E. Saunders         292              NaN\n",
       "3   10000        Neil          Capel       2,526              NaN\n",
       "4  100000         Sue         Pilsch         NaN              NaN\n",
       "5  100002       Keith  Kurzendoerfer         NaN              NaN\n",
       "6  100006    Courtney          Homer      81,558   jobsbostontech\n",
       "7  100009        Eddy        Badrina         NaN              NaN\n",
       "8  100010     Michael      Dadashyan         NaN       fbroulette\n",
       "9  100011        Jeff          Grell         NaN              NaN"
      ]
     },
     "metadata": {},
     "output_type": "display_data"
    },
    {
     "data": {
      "text/html": [
       "<div>\n",
       "<style scoped>\n",
       "    .dataframe tbody tr th:only-of-type {\n",
       "        vertical-align: middle;\n",
       "    }\n",
       "\n",
       "    .dataframe tbody tr th {\n",
       "        vertical-align: top;\n",
       "    }\n",
       "\n",
       "    .dataframe thead th {\n",
       "        text-align: right;\n",
       "    }\n",
       "</style>\n",
       "<table border=\"1\" class=\"dataframe\">\n",
       "  <thead>\n",
       "    <tr style=\"text-align: right;\">\n",
       "      <th></th>\n",
       "      <th>id</th>\n",
       "      <th>person_id</th>\n",
       "      <th>instituition</th>\n",
       "      <th>graduated_at</th>\n",
       "    </tr>\n",
       "  </thead>\n",
       "  <tbody>\n",
       "    <tr>\n",
       "      <th>0</th>\n",
       "      <td>1</td>\n",
       "      <td>6117</td>\n",
       "      <td>NaN</td>\n",
       "      <td>NaT</td>\n",
       "    </tr>\n",
       "    <tr>\n",
       "      <th>1</th>\n",
       "      <td>2</td>\n",
       "      <td>6136</td>\n",
       "      <td>Washington University, St. Louis</td>\n",
       "      <td>1990-01-01</td>\n",
       "    </tr>\n",
       "    <tr>\n",
       "      <th>2</th>\n",
       "      <td>3</td>\n",
       "      <td>6136</td>\n",
       "      <td>Boston University</td>\n",
       "      <td>1992-01-01</td>\n",
       "    </tr>\n",
       "    <tr>\n",
       "      <th>3</th>\n",
       "      <td>4</td>\n",
       "      <td>6005</td>\n",
       "      <td>University of Greenwich</td>\n",
       "      <td>2006-01-01</td>\n",
       "    </tr>\n",
       "    <tr>\n",
       "      <th>4</th>\n",
       "      <td>5</td>\n",
       "      <td>5832</td>\n",
       "      <td>Rice University</td>\n",
       "      <td>NaT</td>\n",
       "    </tr>\n",
       "    <tr>\n",
       "      <th>5</th>\n",
       "      <td>6</td>\n",
       "      <td>1017</td>\n",
       "      <td>Northeastern University</td>\n",
       "      <td>1988-01-01</td>\n",
       "    </tr>\n",
       "    <tr>\n",
       "      <th>6</th>\n",
       "      <td>7</td>\n",
       "      <td>6176</td>\n",
       "      <td>Rochester Institute of Technology</td>\n",
       "      <td>2002-01-01</td>\n",
       "    </tr>\n",
       "    <tr>\n",
       "      <th>7</th>\n",
       "      <td>8</td>\n",
       "      <td>5412</td>\n",
       "      <td>University of Cambridge</td>\n",
       "      <td>2002-01-01</td>\n",
       "    </tr>\n",
       "    <tr>\n",
       "      <th>8</th>\n",
       "      <td>9</td>\n",
       "      <td>1243</td>\n",
       "      <td>University of Oregon</td>\n",
       "      <td>1997-01-01</td>\n",
       "    </tr>\n",
       "    <tr>\n",
       "      <th>9</th>\n",
       "      <td>10</td>\n",
       "      <td>6265</td>\n",
       "      <td>University of Pennsylvania</td>\n",
       "      <td>1989-01-01</td>\n",
       "    </tr>\n",
       "  </tbody>\n",
       "</table>\n",
       "</div>"
      ],
      "text/plain": [
       "   id  person_id                       instituition graduated_at\n",
       "0   1       6117                                NaN          NaT\n",
       "1   2       6136   Washington University, St. Louis   1990-01-01\n",
       "2   3       6136                  Boston University   1992-01-01\n",
       "3   4       6005            University of Greenwich   2006-01-01\n",
       "4   5       5832                    Rice University          NaT\n",
       "5   6       1017            Northeastern University   1988-01-01\n",
       "6   7       6176  Rochester Institute of Technology   2002-01-01\n",
       "7   8       5412            University of Cambridge   2002-01-01\n",
       "8   9       1243               University of Oregon   1997-01-01\n",
       "9  10       6265         University of Pennsylvania   1989-01-01"
      ]
     },
     "metadata": {},
     "output_type": "display_data"
    },
    {
     "data": {
      "text/html": [
       "<div>\n",
       "<style scoped>\n",
       "    .dataframe tbody tr th:only-of-type {\n",
       "        vertical-align: middle;\n",
       "    }\n",
       "\n",
       "    .dataframe tbody tr th {\n",
       "        vertical-align: top;\n",
       "    }\n",
       "\n",
       "    .dataframe thead th {\n",
       "        text-align: right;\n",
       "    }\n",
       "</style>\n",
       "<table border=\"1\" class=\"dataframe\">\n",
       "  <thead>\n",
       "    <tr style=\"text-align: right;\">\n",
       "      <th></th>\n",
       "      <th>id</th>\n",
       "      <th>object_id</th>\n",
       "      <th>degree_type</th>\n",
       "      <th>subject</th>\n",
       "    </tr>\n",
       "  </thead>\n",
       "  <tbody>\n",
       "    <tr>\n",
       "      <th>0</th>\n",
       "      <td>1</td>\n",
       "      <td>p:6117</td>\n",
       "      <td>MBA</td>\n",
       "      <td>NaN</td>\n",
       "    </tr>\n",
       "    <tr>\n",
       "      <th>1</th>\n",
       "      <td>2</td>\n",
       "      <td>p:6136</td>\n",
       "      <td>BA</td>\n",
       "      <td>English, French</td>\n",
       "    </tr>\n",
       "    <tr>\n",
       "      <th>2</th>\n",
       "      <td>3</td>\n",
       "      <td>p:6136</td>\n",
       "      <td>MS</td>\n",
       "      <td>Mass Communication</td>\n",
       "    </tr>\n",
       "    <tr>\n",
       "      <th>3</th>\n",
       "      <td>4</td>\n",
       "      <td>p:6005</td>\n",
       "      <td>MS</td>\n",
       "      <td>Internet Technology</td>\n",
       "    </tr>\n",
       "    <tr>\n",
       "      <th>4</th>\n",
       "      <td>5</td>\n",
       "      <td>p:5832</td>\n",
       "      <td>BCS</td>\n",
       "      <td>Computer Science, Psychology</td>\n",
       "    </tr>\n",
       "    <tr>\n",
       "      <th>5</th>\n",
       "      <td>6</td>\n",
       "      <td>p:1017</td>\n",
       "      <td>BS</td>\n",
       "      <td>Computer Science</td>\n",
       "    </tr>\n",
       "    <tr>\n",
       "      <th>6</th>\n",
       "      <td>7</td>\n",
       "      <td>p:6176</td>\n",
       "      <td>BS</td>\n",
       "      <td>Computer Science</td>\n",
       "    </tr>\n",
       "    <tr>\n",
       "      <th>7</th>\n",
       "      <td>8</td>\n",
       "      <td>p:5412</td>\n",
       "      <td>MS</td>\n",
       "      <td>Politics</td>\n",
       "    </tr>\n",
       "    <tr>\n",
       "      <th>8</th>\n",
       "      <td>9</td>\n",
       "      <td>p:1243</td>\n",
       "      <td>BA</td>\n",
       "      <td>International Business &amp; Marketing</td>\n",
       "    </tr>\n",
       "    <tr>\n",
       "      <th>9</th>\n",
       "      <td>10</td>\n",
       "      <td>p:6265</td>\n",
       "      <td>BS</td>\n",
       "      <td>Economics</td>\n",
       "    </tr>\n",
       "  </tbody>\n",
       "</table>\n",
       "</div>"
      ],
      "text/plain": [
       "   id object_id degree_type                             subject\n",
       "0   1    p:6117         MBA                                 NaN\n",
       "1   2    p:6136          BA                     English, French\n",
       "2   3    p:6136          MS                  Mass Communication\n",
       "3   4    p:6005          MS                 Internet Technology\n",
       "4   5    p:5832         BCS        Computer Science, Psychology\n",
       "5   6    p:1017          BS                    Computer Science\n",
       "6   7    p:6176          BS                    Computer Science\n",
       "7   8    p:5412          MS                            Politics\n",
       "8   9    p:1243          BA  International Business & Marketing\n",
       "9  10    p:6265          BS                           Economics"
      ]
     },
     "metadata": {},
     "output_type": "display_data"
    }
   ],
   "source": [
    "# Посмотрим на данные таблиц df_people, df_education и df_degrees\n",
    "display(df_people.head(10))\n",
    "display(df_education.head(10))\n",
    "display(df_degrees.head(10))"
   ]
  },
  {
   "cell_type": "markdown",
   "metadata": {},
   "source": [
    "Можно заметить, что таблицу `df_degrees` возможно будет присоединить к таблице `df_education` по ключу `object_id` после того как удалим текстовую часть **р:** перед индексом сотрудника."
   ]
  },
  {
   "cell_type": "code",
   "execution_count": 20,
   "metadata": {},
   "outputs": [
    {
     "data": {
      "text/plain": [
       "0"
      ]
     },
     "metadata": {},
     "output_type": "display_data"
    },
    {
     "data": {
      "text/plain": [
       "0"
      ]
     },
     "metadata": {},
     "output_type": "display_data"
    },
    {
     "data": {
      "text/plain": [
       "0"
      ]
     },
     "metadata": {},
     "output_type": "display_data"
    }
   ],
   "source": [
    "# Перед соединением данных проверим датасеты на наличие полных дубликатов\n",
    "display(df_people.duplicated().sum())\n",
    "display(df_education.duplicated().sum())\n",
    "display(df_degrees.duplicated().sum())"
   ]
  },
  {
   "cell_type": "code",
   "execution_count": 21,
   "metadata": {
    "id": "xdQ6H5ZSn1ZM"
   },
   "outputs": [
    {
     "data": {
      "text/plain": [
       "1"
      ]
     },
     "metadata": {},
     "output_type": "display_data"
    },
    {
     "data": {
      "text/plain": [
       "41159"
      ]
     },
     "metadata": {},
     "output_type": "display_data"
    },
    {
     "data": {
      "text/plain": [
       "41159"
      ]
     },
     "metadata": {},
     "output_type": "display_data"
    }
   ],
   "source": [
    "# А также на наличие дубликатов по идентификаторам сотрудника\n",
    "display(df_people.duplicated(subset = 'id').sum())\n",
    "display(df_education.duplicated(subset = 'person_id').sum())\n",
    "display(df_degrees.duplicated(subset = 'object_id').sum())"
   ]
  },
  {
   "cell_type": "code",
   "execution_count": 22,
   "metadata": {},
   "outputs": [
    {
     "data": {
      "text/html": [
       "<div>\n",
       "<style scoped>\n",
       "    .dataframe tbody tr th:only-of-type {\n",
       "        vertical-align: middle;\n",
       "    }\n",
       "\n",
       "    .dataframe tbody tr th {\n",
       "        vertical-align: top;\n",
       "    }\n",
       "\n",
       "    .dataframe thead th {\n",
       "        text-align: right;\n",
       "    }\n",
       "</style>\n",
       "<table border=\"1\" class=\"dataframe\">\n",
       "  <thead>\n",
       "    <tr style=\"text-align: right;\">\n",
       "      <th></th>\n",
       "      <th>id</th>\n",
       "      <th>first_name</th>\n",
       "      <th>last_name</th>\n",
       "      <th>company_id</th>\n",
       "      <th>network_username</th>\n",
       "    </tr>\n",
       "  </thead>\n",
       "  <tbody>\n",
       "    <tr>\n",
       "      <th>13171</th>\n",
       "      <td>116554</td>\n",
       "      <td>Nicole</td>\n",
       "      <td>Couto</td>\n",
       "      <td>200,243</td>\n",
       "      <td>NaN</td>\n",
       "    </tr>\n",
       "    <tr>\n",
       "      <th>13172</th>\n",
       "      <td>116554</td>\n",
       "      <td>Nicole</td>\n",
       "      <td>Couto</td>\n",
       "      <td>212,993</td>\n",
       "      <td>NaN</td>\n",
       "    </tr>\n",
       "  </tbody>\n",
       "</table>\n",
       "</div>"
      ],
      "text/plain": [
       "           id first_name last_name  company_id network_username\n",
       "13171  116554     Nicole     Couto     200,243              NaN\n",
       "13172  116554     Nicole     Couto     212,993              NaN"
      ]
     },
     "metadata": {},
     "output_type": "display_data"
    }
   ],
   "source": [
    "# Проверим 1 дубликат в таблице df_people\n",
    "display(df_people[df_people.duplicated(subset = 'id', keep = False)])"
   ]
  },
  {
   "cell_type": "markdown",
   "metadata": {},
   "source": [
    "Все данные совпадают, кроме идентификатора компании, поэтому предположим, что сотрудник сменил компанию и данные не являются дубликатами."
   ]
  },
  {
   "cell_type": "code",
   "execution_count": 23,
   "metadata": {},
   "outputs": [
    {
     "data": {
      "text/html": [
       "<div>\n",
       "<style scoped>\n",
       "    .dataframe tbody tr th:only-of-type {\n",
       "        vertical-align: middle;\n",
       "    }\n",
       "\n",
       "    .dataframe tbody tr th {\n",
       "        vertical-align: top;\n",
       "    }\n",
       "\n",
       "    .dataframe thead th {\n",
       "        text-align: right;\n",
       "    }\n",
       "</style>\n",
       "<table border=\"1\" class=\"dataframe\">\n",
       "  <thead>\n",
       "    <tr style=\"text-align: right;\">\n",
       "      <th></th>\n",
       "      <th>id</th>\n",
       "      <th>object_id</th>\n",
       "      <th>degree_type</th>\n",
       "      <th>subject</th>\n",
       "    </tr>\n",
       "  </thead>\n",
       "  <tbody>\n",
       "    <tr>\n",
       "      <th>1</th>\n",
       "      <td>2</td>\n",
       "      <td>p:6136</td>\n",
       "      <td>BA</td>\n",
       "      <td>English, French</td>\n",
       "    </tr>\n",
       "    <tr>\n",
       "      <th>2</th>\n",
       "      <td>3</td>\n",
       "      <td>p:6136</td>\n",
       "      <td>MS</td>\n",
       "      <td>Mass Communication</td>\n",
       "    </tr>\n",
       "    <tr>\n",
       "      <th>5</th>\n",
       "      <td>6</td>\n",
       "      <td>p:1017</td>\n",
       "      <td>BS</td>\n",
       "      <td>Computer Science</td>\n",
       "    </tr>\n",
       "    <tr>\n",
       "      <th>6</th>\n",
       "      <td>7</td>\n",
       "      <td>p:6176</td>\n",
       "      <td>BS</td>\n",
       "      <td>Computer Science</td>\n",
       "    </tr>\n",
       "    <tr>\n",
       "      <th>7</th>\n",
       "      <td>8</td>\n",
       "      <td>p:5412</td>\n",
       "      <td>MS</td>\n",
       "      <td>Politics</td>\n",
       "    </tr>\n",
       "    <tr>\n",
       "      <th>12</th>\n",
       "      <td>13</td>\n",
       "      <td>p:2351</td>\n",
       "      <td>LLB</td>\n",
       "      <td>Law</td>\n",
       "    </tr>\n",
       "  </tbody>\n",
       "</table>\n",
       "</div>"
      ],
      "text/plain": [
       "    id object_id degree_type             subject\n",
       "1    2    p:6136          BA     English, French\n",
       "2    3    p:6136          MS  Mass Communication\n",
       "5    6    p:1017          BS    Computer Science\n",
       "6    7    p:6176          BS    Computer Science\n",
       "7    8    p:5412          MS            Politics\n",
       "12  13    p:2351         LLB                 Law"
      ]
     },
     "metadata": {},
     "output_type": "display_data"
    }
   ],
   "source": [
    "# Проверим дубликаты в таблице df_degrees\n",
    "display(df_degrees[df_degrees.duplicated(subset = 'object_id', keep = False)].head(6))"
   ]
  },
  {
   "cell_type": "markdown",
   "metadata": {},
   "source": [
    "Одинаковое количество дубликатов в таблицах `df_education` и `df_degrees` говорит о том, что в данных присутствует информация о получении различных образованиях для одного сотрудника. Соединим таблицы по идентификатору компании и еще раз проверим на наличие дубликатов:"
   ]
  },
  {
   "cell_type": "code",
   "execution_count": 24,
   "metadata": {},
   "outputs": [
    {
     "name": "stdout",
     "output_type": "stream",
     "text": [
      "<class 'pandas.core.frame.DataFrame'>\n",
      "Int64Index: 267694 entries, 0 to 267693\n",
      "Data columns (total 9 columns):\n",
      " #   Column            Non-Null Count   Dtype         \n",
      "---  ------            --------------   -----         \n",
      " 0   id_x              267694 non-null  int64         \n",
      " 1   first_name        267689 non-null  object        \n",
      " 2   last_name         267693 non-null  object        \n",
      " 3   company_id        44789 non-null   float64       \n",
      " 4   network_username  50775 non-null   object        \n",
      " 5   id_y              109056 non-null  float64       \n",
      " 6   person_id         109056 non-null  float64       \n",
      " 7   instituition      109002 non-null  object        \n",
      " 8   graduated_at      57691 non-null   datetime64[ns]\n",
      "dtypes: datetime64[ns](1), float64(3), int64(1), object(4)\n",
      "memory usage: 20.4+ MB\n"
     ]
    },
    {
     "data": {
      "text/plain": [
       "None"
      ]
     },
     "metadata": {},
     "output_type": "display_data"
    },
    {
     "data": {
      "text/html": [
       "<div>\n",
       "<style scoped>\n",
       "    .dataframe tbody tr th:only-of-type {\n",
       "        vertical-align: middle;\n",
       "    }\n",
       "\n",
       "    .dataframe tbody tr th {\n",
       "        vertical-align: top;\n",
       "    }\n",
       "\n",
       "    .dataframe thead th {\n",
       "        text-align: right;\n",
       "    }\n",
       "</style>\n",
       "<table border=\"1\" class=\"dataframe\">\n",
       "  <thead>\n",
       "    <tr style=\"text-align: right;\">\n",
       "      <th></th>\n",
       "      <th>id_x</th>\n",
       "      <th>first_name</th>\n",
       "      <th>last_name</th>\n",
       "      <th>company_id</th>\n",
       "      <th>network_username</th>\n",
       "      <th>id_y</th>\n",
       "      <th>person_id</th>\n",
       "      <th>instituition</th>\n",
       "      <th>graduated_at</th>\n",
       "    </tr>\n",
       "  </thead>\n",
       "  <tbody>\n",
       "    <tr>\n",
       "      <th>0</th>\n",
       "      <td>10</td>\n",
       "      <td>Mark</td>\n",
       "      <td>Zuckerberg</td>\n",
       "      <td>5</td>\n",
       "      <td>NaN</td>\n",
       "      <td>2,415</td>\n",
       "      <td>10</td>\n",
       "      <td>Harvard University</td>\n",
       "      <td>NaT</td>\n",
       "    </tr>\n",
       "    <tr>\n",
       "      <th>1</th>\n",
       "      <td>100</td>\n",
       "      <td>Peter</td>\n",
       "      <td>Lester</td>\n",
       "      <td>27</td>\n",
       "      <td>NaN</td>\n",
       "      <td>NaN</td>\n",
       "      <td>NaN</td>\n",
       "      <td>NaN</td>\n",
       "      <td>NaT</td>\n",
       "    </tr>\n",
       "    <tr>\n",
       "      <th>2</th>\n",
       "      <td>1000</td>\n",
       "      <td>Dr. Steven</td>\n",
       "      <td>E. Saunders</td>\n",
       "      <td>292</td>\n",
       "      <td>NaN</td>\n",
       "      <td>NaN</td>\n",
       "      <td>NaN</td>\n",
       "      <td>NaN</td>\n",
       "      <td>NaT</td>\n",
       "    </tr>\n",
       "    <tr>\n",
       "      <th>3</th>\n",
       "      <td>10000</td>\n",
       "      <td>Neil</td>\n",
       "      <td>Capel</td>\n",
       "      <td>2,526</td>\n",
       "      <td>NaN</td>\n",
       "      <td>NaN</td>\n",
       "      <td>NaN</td>\n",
       "      <td>NaN</td>\n",
       "      <td>NaT</td>\n",
       "    </tr>\n",
       "    <tr>\n",
       "      <th>4</th>\n",
       "      <td>100000</td>\n",
       "      <td>Sue</td>\n",
       "      <td>Pilsch</td>\n",
       "      <td>NaN</td>\n",
       "      <td>NaN</td>\n",
       "      <td>NaN</td>\n",
       "      <td>NaN</td>\n",
       "      <td>NaN</td>\n",
       "      <td>NaT</td>\n",
       "    </tr>\n",
       "    <tr>\n",
       "      <th>5</th>\n",
       "      <td>100002</td>\n",
       "      <td>Keith</td>\n",
       "      <td>Kurzendoerfer</td>\n",
       "      <td>NaN</td>\n",
       "      <td>NaN</td>\n",
       "      <td>NaN</td>\n",
       "      <td>NaN</td>\n",
       "      <td>NaN</td>\n",
       "      <td>NaT</td>\n",
       "    </tr>\n",
       "    <tr>\n",
       "      <th>6</th>\n",
       "      <td>100006</td>\n",
       "      <td>Courtney</td>\n",
       "      <td>Homer</td>\n",
       "      <td>81,558</td>\n",
       "      <td>jobsbostontech</td>\n",
       "      <td>83,604</td>\n",
       "      <td>100,006</td>\n",
       "      <td>MIT Sloan School of Management</td>\n",
       "      <td>2004-01-01</td>\n",
       "    </tr>\n",
       "    <tr>\n",
       "      <th>7</th>\n",
       "      <td>100009</td>\n",
       "      <td>Eddy</td>\n",
       "      <td>Badrina</td>\n",
       "      <td>NaN</td>\n",
       "      <td>NaN</td>\n",
       "      <td>NaN</td>\n",
       "      <td>NaN</td>\n",
       "      <td>NaN</td>\n",
       "      <td>NaT</td>\n",
       "    </tr>\n",
       "    <tr>\n",
       "      <th>8</th>\n",
       "      <td>100010</td>\n",
       "      <td>Michael</td>\n",
       "      <td>Dadashyan</td>\n",
       "      <td>NaN</td>\n",
       "      <td>fbroulette</td>\n",
       "      <td>NaN</td>\n",
       "      <td>NaN</td>\n",
       "      <td>NaN</td>\n",
       "      <td>NaT</td>\n",
       "    </tr>\n",
       "    <tr>\n",
       "      <th>9</th>\n",
       "      <td>100011</td>\n",
       "      <td>Jeff</td>\n",
       "      <td>Grell</td>\n",
       "      <td>NaN</td>\n",
       "      <td>NaN</td>\n",
       "      <td>NaN</td>\n",
       "      <td>NaN</td>\n",
       "      <td>NaN</td>\n",
       "      <td>NaT</td>\n",
       "    </tr>\n",
       "  </tbody>\n",
       "</table>\n",
       "</div>"
      ],
      "text/plain": [
       "     id_x  first_name      last_name  company_id network_username   id_y  \\\n",
       "0      10        Mark     Zuckerberg           5              NaN  2,415   \n",
       "1     100       Peter         Lester          27              NaN    NaN   \n",
       "2    1000  Dr. Steven    E. Saunders         292              NaN    NaN   \n",
       "3   10000        Neil          Capel       2,526              NaN    NaN   \n",
       "4  100000         Sue         Pilsch         NaN              NaN    NaN   \n",
       "5  100002       Keith  Kurzendoerfer         NaN              NaN    NaN   \n",
       "6  100006    Courtney          Homer      81,558   jobsbostontech 83,604   \n",
       "7  100009        Eddy        Badrina         NaN              NaN    NaN   \n",
       "8  100010     Michael      Dadashyan         NaN       fbroulette    NaN   \n",
       "9  100011        Jeff          Grell         NaN              NaN    NaN   \n",
       "\n",
       "   person_id                    instituition graduated_at  \n",
       "0         10              Harvard University          NaT  \n",
       "1        NaN                             NaN          NaT  \n",
       "2        NaN                             NaN          NaT  \n",
       "3        NaN                             NaN          NaT  \n",
       "4        NaN                             NaN          NaT  \n",
       "5        NaN                             NaN          NaT  \n",
       "6    100,006  MIT Sloan School of Management   2004-01-01  \n",
       "7        NaN                             NaN          NaT  \n",
       "8        NaN                             NaN          NaT  \n",
       "9        NaN                             NaN          NaT  "
      ]
     },
     "execution_count": 24,
     "metadata": {},
     "output_type": "execute_result"
    }
   ],
   "source": [
    "# Так как необходимо разделить компании на группы, используем тип присоединения `left` \n",
    "# для того, чтобы сохранить все наблюдения о компаниях.\n",
    "\n",
    "df_education_company = df_people.merge(df_education, left_on = 'id', right_on = 'person_id', how = 'left')\n",
    "\n",
    "display(df_education_company.info())\n",
    "df_education_company.head(10)"
   ]
  },
  {
   "cell_type": "code",
   "execution_count": 25,
   "metadata": {},
   "outputs": [
    {
     "name": "stdout",
     "output_type": "stream",
     "text": [
      "<class 'pandas.core.frame.DataFrame'>\n",
      "Int64Index: 44789 entries, 0 to 267691\n",
      "Data columns (total 9 columns):\n",
      " #   Column            Non-Null Count  Dtype         \n",
      "---  ------            --------------  -----         \n",
      " 0   id_x              44789 non-null  int64         \n",
      " 1   first_name        44788 non-null  object        \n",
      " 2   last_name         44788 non-null  object        \n",
      " 3   company_id        44789 non-null  float64       \n",
      " 4   network_username  22892 non-null  object        \n",
      " 5   id_y              28638 non-null  float64       \n",
      " 6   person_id         28638 non-null  float64       \n",
      " 7   instituition      28609 non-null  object        \n",
      " 8   graduated_at      20954 non-null  datetime64[ns]\n",
      "dtypes: datetime64[ns](1), float64(3), int64(1), object(4)\n",
      "memory usage: 3.4+ MB\n"
     ]
    }
   ],
   "source": [
    "# Для деления компаний на группы удалим пропуски в столбце company_id\n",
    "df_education_company_dropped = df_education_company.dropna(subset=['company_id'])\n",
    "df_education_company_dropped.info()"
   ]
  },
  {
   "cell_type": "markdown",
   "metadata": {},
   "source": [
    "Создадим булевую переменную по наличию информации об образовании"
   ]
  },
  {
   "cell_type": "code",
   "execution_count": 27,
   "metadata": {},
   "outputs": [],
   "source": [
    "# Создадим будевую переменную, которая примет значение True, если хотя бы в одной из переменных instituition, graduated_at нет пропуска\n",
    "df_education_company_final = df_education_company.copy()\n",
    "\n",
    "condition = ~((df_education_company['instituition'].isna()) & \n",
    "              (df_education_company['graduated_at'].isna()))\n",
    "\n",
    "# Присваиваем результат условия новому столбцу\n",
    "df_education_company_final['is_inst_grad'] = condition"
   ]
  },
  {
   "cell_type": "code",
   "execution_count": 28,
   "metadata": {},
   "outputs": [
    {
     "data": {
      "text/plain": [
       "'Результат объединения таблиц df_people и df_education:'"
      ]
     },
     "metadata": {},
     "output_type": "display_data"
    },
    {
     "data": {
      "text/plain": [
       "'Количество данных с информацией об образовании:'"
      ]
     },
     "metadata": {},
     "output_type": "display_data"
    },
    {
     "data": {
      "text/plain": [
       "109037"
      ]
     },
     "metadata": {},
     "output_type": "display_data"
    },
    {
     "data": {
      "text/plain": [
       "'Общее количество данных:'"
      ]
     },
     "metadata": {},
     "output_type": "display_data"
    },
    {
     "data": {
      "text/plain": [
       "267694"
      ]
     },
     "metadata": {},
     "output_type": "display_data"
    },
    {
     "data": {
      "text/plain": [
       "'Доля наблюдений с информацией об образовании:'"
      ]
     },
     "metadata": {},
     "output_type": "display_data"
    },
    {
     "data": {
      "text/plain": [
       "0.41"
      ]
     },
     "metadata": {},
     "output_type": "display_data"
    }
   ],
   "source": [
    "display('Результат объединения таблиц df_people и df_education:')\n",
    "display('Количество данных с информацией об образовании:')\n",
    "display(df_education_company_final['is_inst_grad'].sum())\n",
    "display('Общее количество данных:')\n",
    "display(df_education_company.shape[0])\n",
    "display('Доля наблюдений с информацией об образовании:')\n",
    "display (round(df_education_company_final['is_inst_grad'].sum() / df_education_company_final.shape[0], 2)) "
   ]
  },
  {
   "cell_type": "markdown",
   "metadata": {},
   "source": [
    "Теперь проверим, что изменится, если к данным присоединить таблицу `df_degrees`:"
   ]
  },
  {
   "cell_type": "code",
   "execution_count": 29,
   "metadata": {},
   "outputs": [],
   "source": [
    "# Создадим новый столбец с object_id без префикса \"p:\" и переведем новый столбец в целочисленный тип\n",
    "df_degrees['id_number'] = df_degrees['object_id'].str.replace('p:', '', regex=False).astype('int64')"
   ]
  },
  {
   "cell_type": "code",
   "execution_count": 30,
   "metadata": {},
   "outputs": [
    {
     "name": "stdout",
     "output_type": "stream",
     "text": [
      "<class 'pandas.core.frame.DataFrame'>\n",
      "RangeIndex: 109610 entries, 0 to 109609\n",
      "Data columns (total 5 columns):\n",
      " #   Column       Non-Null Count   Dtype \n",
      "---  ------       --------------   ----- \n",
      " 0   id           109610 non-null  int64 \n",
      " 1   object_id    109610 non-null  object\n",
      " 2   degree_type  98392 non-null   object\n",
      " 3   subject      81298 non-null   object\n",
      " 4   id_number    109610 non-null  int64 \n",
      "dtypes: int64(2), object(3)\n",
      "memory usage: 4.2+ MB\n"
     ]
    }
   ],
   "source": [
    "df_degrees.info()"
   ]
  },
  {
   "cell_type": "code",
   "execution_count": 31,
   "metadata": {},
   "outputs": [],
   "source": [
    "# Для объединения возьмем только нужные столбцы\n",
    "df_degrees_join = df_degrees[['id_number', 'degree_type', 'subject']]"
   ]
  },
  {
   "cell_type": "code",
   "execution_count": 32,
   "metadata": {},
   "outputs": [
    {
     "name": "stdout",
     "output_type": "stream",
     "text": [
      "<class 'pandas.core.frame.DataFrame'>\n",
      "RangeIndex: 109610 entries, 0 to 109609\n",
      "Data columns (total 3 columns):\n",
      " #   Column       Non-Null Count   Dtype \n",
      "---  ------       --------------   ----- \n",
      " 0   id_number    109610 non-null  int64 \n",
      " 1   degree_type  98392 non-null   object\n",
      " 2   subject      81298 non-null   object\n",
      "dtypes: int64(1), object(2)\n",
      "memory usage: 2.5+ MB\n"
     ]
    }
   ],
   "source": [
    "df_degrees_join.info()"
   ]
  },
  {
   "cell_type": "code",
   "execution_count": 33,
   "metadata": {},
   "outputs": [
    {
     "name": "stdout",
     "output_type": "stream",
     "text": [
      "<class 'pandas.core.frame.DataFrame'>\n",
      "Int64Index: 370836 entries, 0 to 370835\n",
      "Data columns (total 12 columns):\n",
      " #   Column            Non-Null Count   Dtype         \n",
      "---  ------            --------------   -----         \n",
      " 0   id_x              370836 non-null  int64         \n",
      " 1   first_name        370831 non-null  object        \n",
      " 2   last_name         370835 non-null  object        \n",
      " 3   company_id        70869 non-null   float64       \n",
      " 4   network_username  81529 non-null   object        \n",
      " 5   id_y              212198 non-null  float64       \n",
      " 6   person_id         212198 non-null  float64       \n",
      " 7   instituition      212109 non-null  object        \n",
      " 8   graduated_at      113991 non-null  datetime64[ns]\n",
      " 9   id_number         212198 non-null  float64       \n",
      " 10  degree_type       190722 non-null  object        \n",
      " 11  subject           156477 non-null  object        \n",
      "dtypes: datetime64[ns](1), float64(4), int64(1), object(6)\n",
      "memory usage: 36.8+ MB\n"
     ]
    },
    {
     "data": {
      "text/plain": [
       "None"
      ]
     },
     "metadata": {},
     "output_type": "display_data"
    },
    {
     "data": {
      "text/html": [
       "<div>\n",
       "<style scoped>\n",
       "    .dataframe tbody tr th:only-of-type {\n",
       "        vertical-align: middle;\n",
       "    }\n",
       "\n",
       "    .dataframe tbody tr th {\n",
       "        vertical-align: top;\n",
       "    }\n",
       "\n",
       "    .dataframe thead th {\n",
       "        text-align: right;\n",
       "    }\n",
       "</style>\n",
       "<table border=\"1\" class=\"dataframe\">\n",
       "  <thead>\n",
       "    <tr style=\"text-align: right;\">\n",
       "      <th></th>\n",
       "      <th>id_x</th>\n",
       "      <th>first_name</th>\n",
       "      <th>last_name</th>\n",
       "      <th>company_id</th>\n",
       "      <th>network_username</th>\n",
       "      <th>id_y</th>\n",
       "      <th>person_id</th>\n",
       "      <th>instituition</th>\n",
       "      <th>graduated_at</th>\n",
       "      <th>id_number</th>\n",
       "      <th>degree_type</th>\n",
       "      <th>subject</th>\n",
       "    </tr>\n",
       "  </thead>\n",
       "  <tbody>\n",
       "    <tr>\n",
       "      <th>0</th>\n",
       "      <td>10</td>\n",
       "      <td>Mark</td>\n",
       "      <td>Zuckerberg</td>\n",
       "      <td>5</td>\n",
       "      <td>NaN</td>\n",
       "      <td>2,415</td>\n",
       "      <td>10</td>\n",
       "      <td>Harvard University</td>\n",
       "      <td>NaT</td>\n",
       "      <td>10</td>\n",
       "      <td>NaN</td>\n",
       "      <td>Computer Science</td>\n",
       "    </tr>\n",
       "    <tr>\n",
       "      <th>1</th>\n",
       "      <td>100</td>\n",
       "      <td>Peter</td>\n",
       "      <td>Lester</td>\n",
       "      <td>27</td>\n",
       "      <td>NaN</td>\n",
       "      <td>NaN</td>\n",
       "      <td>NaN</td>\n",
       "      <td>NaN</td>\n",
       "      <td>NaT</td>\n",
       "      <td>NaN</td>\n",
       "      <td>NaN</td>\n",
       "      <td>NaN</td>\n",
       "    </tr>\n",
       "    <tr>\n",
       "      <th>2</th>\n",
       "      <td>1000</td>\n",
       "      <td>Dr. Steven</td>\n",
       "      <td>E. Saunders</td>\n",
       "      <td>292</td>\n",
       "      <td>NaN</td>\n",
       "      <td>NaN</td>\n",
       "      <td>NaN</td>\n",
       "      <td>NaN</td>\n",
       "      <td>NaT</td>\n",
       "      <td>NaN</td>\n",
       "      <td>NaN</td>\n",
       "      <td>NaN</td>\n",
       "    </tr>\n",
       "    <tr>\n",
       "      <th>3</th>\n",
       "      <td>10000</td>\n",
       "      <td>Neil</td>\n",
       "      <td>Capel</td>\n",
       "      <td>2,526</td>\n",
       "      <td>NaN</td>\n",
       "      <td>NaN</td>\n",
       "      <td>NaN</td>\n",
       "      <td>NaN</td>\n",
       "      <td>NaT</td>\n",
       "      <td>NaN</td>\n",
       "      <td>NaN</td>\n",
       "      <td>NaN</td>\n",
       "    </tr>\n",
       "    <tr>\n",
       "      <th>4</th>\n",
       "      <td>100000</td>\n",
       "      <td>Sue</td>\n",
       "      <td>Pilsch</td>\n",
       "      <td>NaN</td>\n",
       "      <td>NaN</td>\n",
       "      <td>NaN</td>\n",
       "      <td>NaN</td>\n",
       "      <td>NaN</td>\n",
       "      <td>NaT</td>\n",
       "      <td>NaN</td>\n",
       "      <td>NaN</td>\n",
       "      <td>NaN</td>\n",
       "    </tr>\n",
       "  </tbody>\n",
       "</table>\n",
       "</div>"
      ],
      "text/plain": [
       "     id_x  first_name    last_name  company_id network_username  id_y  \\\n",
       "0      10        Mark   Zuckerberg           5              NaN 2,415   \n",
       "1     100       Peter       Lester          27              NaN   NaN   \n",
       "2    1000  Dr. Steven  E. Saunders         292              NaN   NaN   \n",
       "3   10000        Neil        Capel       2,526              NaN   NaN   \n",
       "4  100000         Sue       Pilsch         NaN              NaN   NaN   \n",
       "\n",
       "   person_id        instituition graduated_at  id_number degree_type  \\\n",
       "0         10  Harvard University          NaT         10         NaN   \n",
       "1        NaN                 NaN          NaT        NaN         NaN   \n",
       "2        NaN                 NaN          NaT        NaN         NaN   \n",
       "3        NaN                 NaN          NaT        NaN         NaN   \n",
       "4        NaN                 NaN          NaT        NaN         NaN   \n",
       "\n",
       "            subject  \n",
       "0  Computer Science  \n",
       "1               NaN  \n",
       "2               NaN  \n",
       "3               NaN  \n",
       "4               NaN  "
      ]
     },
     "execution_count": 33,
     "metadata": {},
     "output_type": "execute_result"
    }
   ],
   "source": [
    "df_education_company_degree = df_education_company.merge(df_degrees_join, left_on = 'id_x', right_on = 'id_number', how = 'left')\n",
    "\n",
    "display(df_education_company_degree.info())\n",
    "df_education_company_degree.head()"
   ]
  },
  {
   "cell_type": "code",
   "execution_count": 34,
   "metadata": {},
   "outputs": [],
   "source": [
    "# Посчитаем количество наблюдений с наличием информации об образовании\n",
    "df_education_company_degree_notna_count= df_education_company_degree[~((df_education_company_degree['id_y'].isna()) | \n",
    "                                                    (df_education_company_degree['instituition'].isna()) | \n",
    "                                                    (df_education_company_degree['graduated_at'].isna()) |\n",
    "                                                    (df_education_company_degree['degree_type'].isna()) |\n",
    "                                                    (df_education_company_degree['subject'].isna())\n",
    "                                                   )].shape[0]"
   ]
  },
  {
   "cell_type": "markdown",
   "metadata": {},
   "source": [
    "Создадим булевую переменную по наличию информации об образовании"
   ]
  },
  {
   "cell_type": "code",
   "execution_count": 35,
   "metadata": {},
   "outputs": [],
   "source": [
    "# Создадим будевую переменную, которая примет значение True, если хотя бы в одной из переменных instituition, graduated_at\n",
    "# degree_type, subject нет пропуска\n",
    "df_education_company_degree_final = df_education_company_degree.copy()\n",
    "\n",
    "condition_2 = ~((df_education_company['instituition'].isna()) & \n",
    "                (df_education_company['graduated_at'].isna()) &\n",
    "                (df_education_company_degree['degree_type'].isna()) &\n",
    "                (df_education_company_degree['subject'].isna()))\n",
    "\n",
    "df_education_company_degree_final['is_inst_grad_degr_sub'] = condition_2"
   ]
  },
  {
   "cell_type": "code",
   "execution_count": 36,
   "metadata": {},
   "outputs": [
    {
     "data": {
      "text/plain": [
       "'Результат объединения таблиц df_people, df_education и df_degrees:'"
      ]
     },
     "metadata": {},
     "output_type": "display_data"
    },
    {
     "data": {
      "text/plain": [
       "'Количество данных с информацией об образовании:'"
      ]
     },
     "metadata": {},
     "output_type": "display_data"
    },
    {
     "data": {
      "text/plain": [
       "300974"
      ]
     },
     "metadata": {},
     "output_type": "display_data"
    },
    {
     "data": {
      "text/plain": [
       "'Общее количество данных:'"
      ]
     },
     "metadata": {},
     "output_type": "display_data"
    },
    {
     "data": {
      "text/plain": [
       "370836"
      ]
     },
     "metadata": {},
     "output_type": "display_data"
    },
    {
     "data": {
      "text/plain": [
       "'Доля наблюдений с информацией об образовании:'"
      ]
     },
     "metadata": {},
     "output_type": "display_data"
    },
    {
     "data": {
      "text/plain": [
       "0.81"
      ]
     },
     "metadata": {},
     "output_type": "display_data"
    }
   ],
   "source": [
    "display('Результат объединения таблиц df_people, df_education и df_degrees:')\n",
    "display('Количество данных с информацией об образовании:')\n",
    "display(df_education_company_degree_final['is_inst_grad_degr_sub'].sum())\n",
    "display('Общее количество данных:')\n",
    "display(df_education_company_degree_final.shape[0])\n",
    "display('Доля наблюдений с информацией об образовании:')\n",
    "display (round(df_education_company_degree_final['is_inst_grad_degr_sub'].sum() / df_education_company_degree_final.shape[0], 2))"
   ]
  },
  {
   "cell_type": "markdown",
   "metadata": {},
   "source": [
    "При присоединении таблицы `df_degrees` доля наблюдений с наличием информации об образовании возрасла с 41 до 81%, поэтому для ответа на поставленный вопрос используем новый датасет `df_education_company_degree`"
   ]
  },
  {
   "cell_type": "code",
   "execution_count": 37,
   "metadata": {},
   "outputs": [
    {
     "name": "stdout",
     "output_type": "stream",
     "text": [
      "<class 'pandas.core.frame.DataFrame'>\n",
      "Int64Index: 70869 entries, 0 to 370833\n",
      "Data columns (total 13 columns):\n",
      " #   Column                 Non-Null Count  Dtype         \n",
      "---  ------                 --------------  -----         \n",
      " 0   id_x                   70869 non-null  int64         \n",
      " 1   first_name             70868 non-null  object        \n",
      " 2   last_name              70868 non-null  object        \n",
      " 3   company_id             70869 non-null  float64       \n",
      " 4   network_username       37404 non-null  object        \n",
      " 5   id_y                   54718 non-null  float64       \n",
      " 6   person_id              54718 non-null  float64       \n",
      " 7   instituition           54670 non-null  object        \n",
      " 8   graduated_at           40052 non-null  datetime64[ns]\n",
      " 9   id_number              54718 non-null  float64       \n",
      " 10  degree_type            48951 non-null  object        \n",
      " 11  subject                44165 non-null  object        \n",
      " 12  is_inst_grad_degr_sub  70869 non-null  bool          \n",
      "dtypes: bool(1), datetime64[ns](1), float64(4), int64(1), object(6)\n",
      "memory usage: 7.1+ MB\n"
     ]
    }
   ],
   "source": [
    "# Для деления компаний на группы удалим пропуски в столбце company_id\n",
    "df_education_company_degree_final_drop = df_education_company_degree_final.dropna(subset=['company_id'])\n",
    "df_education_company_degree_final_drop.info()"
   ]
  },
  {
   "cell_type": "code",
   "execution_count": 38,
   "metadata": {},
   "outputs": [
    {
     "data": {
      "text/plain": [
       "36254"
      ]
     },
     "metadata": {},
     "output_type": "display_data"
    }
   ],
   "source": [
    "# Так как нам нужна информация о количестве уникальных сотрудников в компании и наличия у них хотя бы одного образования,\n",
    "# проверим встречаются ли в данных дубликаты по двум столбцам\n",
    "display(df_education_company_degree_final_drop.duplicated(subset = ['id_x', 'company_id']).sum())"
   ]
  },
  {
   "cell_type": "code",
   "execution_count": 39,
   "metadata": {},
   "outputs": [],
   "source": [
    "# Удалим найденные дубликаты\n",
    "df_education_company_degree_cleaned = df_education_company_degree_final_drop.drop_duplicates(subset= ['id_x', 'company_id'], \n",
    "                                                                            keep='first', inplace=False)"
   ]
  },
  {
   "cell_type": "code",
   "execution_count": 42,
   "metadata": {},
   "outputs": [
    {
     "data": {
      "text/html": [
       "<div>\n",
       "<style scoped>\n",
       "    .dataframe tbody tr th:only-of-type {\n",
       "        vertical-align: middle;\n",
       "    }\n",
       "\n",
       "    .dataframe tbody tr th {\n",
       "        vertical-align: top;\n",
       "    }\n",
       "\n",
       "    .dataframe thead th {\n",
       "        text-align: right;\n",
       "    }\n",
       "</style>\n",
       "<table border=\"1\" class=\"dataframe\">\n",
       "  <thead>\n",
       "    <tr style=\"text-align: right;\">\n",
       "      <th></th>\n",
       "      <th>company_id</th>\n",
       "      <th>id_x</th>\n",
       "      <th>is_inst_grad_degr_sub</th>\n",
       "    </tr>\n",
       "  </thead>\n",
       "  <tbody>\n",
       "    <tr>\n",
       "      <th>0</th>\n",
       "      <td>1</td>\n",
       "      <td>2</td>\n",
       "      <td>1</td>\n",
       "    </tr>\n",
       "    <tr>\n",
       "      <th>1</th>\n",
       "      <td>2</td>\n",
       "      <td>1</td>\n",
       "      <td>1</td>\n",
       "    </tr>\n",
       "    <tr>\n",
       "      <th>2</th>\n",
       "      <td>3</td>\n",
       "      <td>3</td>\n",
       "      <td>3</td>\n",
       "    </tr>\n",
       "    <tr>\n",
       "      <th>3</th>\n",
       "      <td>4</td>\n",
       "      <td>13</td>\n",
       "      <td>13</td>\n",
       "    </tr>\n",
       "    <tr>\n",
       "      <th>4</th>\n",
       "      <td>5</td>\n",
       "      <td>61</td>\n",
       "      <td>59</td>\n",
       "    </tr>\n",
       "    <tr>\n",
       "      <th>5</th>\n",
       "      <td>8</td>\n",
       "      <td>3</td>\n",
       "      <td>3</td>\n",
       "    </tr>\n",
       "    <tr>\n",
       "      <th>6</th>\n",
       "      <td>9</td>\n",
       "      <td>1</td>\n",
       "      <td>1</td>\n",
       "    </tr>\n",
       "    <tr>\n",
       "      <th>7</th>\n",
       "      <td>10</td>\n",
       "      <td>2</td>\n",
       "      <td>2</td>\n",
       "    </tr>\n",
       "    <tr>\n",
       "      <th>8</th>\n",
       "      <td>11</td>\n",
       "      <td>5</td>\n",
       "      <td>4</td>\n",
       "    </tr>\n",
       "    <tr>\n",
       "      <th>9</th>\n",
       "      <td>12</td>\n",
       "      <td>51</td>\n",
       "      <td>43</td>\n",
       "    </tr>\n",
       "    <tr>\n",
       "      <th>10</th>\n",
       "      <td>13</td>\n",
       "      <td>8</td>\n",
       "      <td>7</td>\n",
       "    </tr>\n",
       "    <tr>\n",
       "      <th>11</th>\n",
       "      <td>14</td>\n",
       "      <td>6</td>\n",
       "      <td>5</td>\n",
       "    </tr>\n",
       "    <tr>\n",
       "      <th>12</th>\n",
       "      <td>15</td>\n",
       "      <td>3</td>\n",
       "      <td>3</td>\n",
       "    </tr>\n",
       "    <tr>\n",
       "      <th>13</th>\n",
       "      <td>16</td>\n",
       "      <td>3</td>\n",
       "      <td>3</td>\n",
       "    </tr>\n",
       "    <tr>\n",
       "      <th>14</th>\n",
       "      <td>18</td>\n",
       "      <td>2</td>\n",
       "      <td>2</td>\n",
       "    </tr>\n",
       "    <tr>\n",
       "      <th>15</th>\n",
       "      <td>19</td>\n",
       "      <td>8</td>\n",
       "      <td>8</td>\n",
       "    </tr>\n",
       "    <tr>\n",
       "      <th>16</th>\n",
       "      <td>20</td>\n",
       "      <td>39</td>\n",
       "      <td>32</td>\n",
       "    </tr>\n",
       "    <tr>\n",
       "      <th>17</th>\n",
       "      <td>21</td>\n",
       "      <td>1</td>\n",
       "      <td>1</td>\n",
       "    </tr>\n",
       "    <tr>\n",
       "      <th>18</th>\n",
       "      <td>22</td>\n",
       "      <td>1</td>\n",
       "      <td>1</td>\n",
       "    </tr>\n",
       "    <tr>\n",
       "      <th>19</th>\n",
       "      <td>23</td>\n",
       "      <td>5</td>\n",
       "      <td>4</td>\n",
       "    </tr>\n",
       "  </tbody>\n",
       "</table>\n",
       "</div>"
      ],
      "text/plain": [
       "    company_id  id_x  is_inst_grad_degr_sub\n",
       "0            1     2                      1\n",
       "1            2     1                      1\n",
       "2            3     3                      3\n",
       "3            4    13                     13\n",
       "4            5    61                     59\n",
       "5            8     3                      3\n",
       "6            9     1                      1\n",
       "7           10     2                      2\n",
       "8           11     5                      4\n",
       "9           12    51                     43\n",
       "10          13     8                      7\n",
       "11          14     6                      5\n",
       "12          15     3                      3\n",
       "13          16     3                      3\n",
       "14          18     2                      2\n",
       "15          19     8                      8\n",
       "16          20    39                     32\n",
       "17          21     1                      1\n",
       "18          22     1                      1\n",
       "19          23     5                      4"
      ]
     },
     "metadata": {},
     "output_type": "display_data"
    }
   ],
   "source": [
    "# Для каждой компании посчитаем количество сотрудников (id_x) и количество записей об образовании (is_inst_grad_degr_sub)\n",
    "education_grouped_2 = df_education_company_degree_cleaned.groupby('company_id').agg({'id_x': 'count', 'is_inst_grad_degr_sub': 'sum'}).reset_index()\n",
    "display(education_grouped_2.head(20))"
   ]
  },
  {
   "cell_type": "code",
   "execution_count": 43,
   "metadata": {},
   "outputs": [],
   "source": [
    "# Посчитаем долю сотрудников с отсутствием информации об образовании для каждой компании\n",
    "education_grouped_2['education_share'] = round(1 - (education_grouped_2['is_inst_grad_degr_sub'] / education_grouped_2['id_x']), 2)"
   ]
  },
  {
   "cell_type": "code",
   "execution_count": 44,
   "metadata": {},
   "outputs": [
    {
     "data": {
      "text/plain": [
       "count   22,922\n",
       "mean         2\n",
       "std          3\n",
       "min          1\n",
       "25%          1\n",
       "50%          1\n",
       "75%          1\n",
       "max        244\n",
       "Name: id_x, dtype: float64"
      ]
     },
     "execution_count": 44,
     "metadata": {},
     "output_type": "execute_result"
    }
   ],
   "source": [
    "# Проверим как распределены данные по количеству сотрудников\n",
    "education_grouped_2['id_x'].describe()"
   ]
  },
  {
   "cell_type": "markdown",
   "metadata": {},
   "source": [
    "Так как в среднем для компаний в данных содержится информация о 2 сотрудниках и 75% данных компаний содержат информацию об одном сотруднике, более подробно разобъем значения количества сотрудников близкие к 1:\n",
    "- 1 группа **1-2** сотрудника\n",
    "- 2 группа **3-5** сотрудников\n",
    "- 3 группа **5-10** сотрудников\n",
    "- 4 группа **больше 10** сотрудников"
   ]
  },
  {
   "cell_type": "code",
   "execution_count": 45,
   "metadata": {},
   "outputs": [
    {
     "name": "stdout",
     "output_type": "stream",
     "text": [
      "<class 'pandas.core.frame.DataFrame'>\n",
      "RangeIndex: 22922 entries, 0 to 22921\n",
      "Data columns (total 5 columns):\n",
      " #   Column                 Non-Null Count  Dtype   \n",
      "---  ------                 --------------  -----   \n",
      " 0   company_id             22922 non-null  float64 \n",
      " 1   id_x                   22922 non-null  int64   \n",
      " 2   is_inst_grad_degr_sub  22922 non-null  int64   \n",
      " 3   education_share        22922 non-null  float64 \n",
      " 4   employee               22922 non-null  category\n",
      "dtypes: category(1), float64(2), int64(2)\n",
      "memory usage: 739.0 KB\n"
     ]
    }
   ],
   "source": [
    "education_grouped_2['employee'] = pd.cut(education_grouped_2['id_x'], bins=[0, 2, 5, 10, 245], \n",
    "                                       labels=[\"1-2 сотрудника\", \"3-5 сотрудников\", \"5-10 сотрудников\", \"больше 10 сотрудников\"],\n",
    "                                      right = True)\n",
    "\n",
    "education_grouped_2.info()"
   ]
  },
  {
   "cell_type": "code",
   "execution_count": 46,
   "metadata": {},
   "outputs": [
    {
     "data": {
      "text/html": [
       "<style  type=\"text/css\" >\n",
       "</style><table id=\"T_ad4e5_\" ><thead>    <tr>        <th class=\"blank level0\" ></th>        <th class=\"col_heading level0 col0\" >id_x</th>        <th class=\"col_heading level0 col1\" >education_share</th>    </tr>    <tr>        <th class=\"index_name level0\" >employee</th>        <th class=\"blank\" ></th>        <th class=\"blank\" ></th>    </tr></thead><tbody>\n",
       "                <tr>\n",
       "                        <th id=\"T_ad4e5_level0_row0\" class=\"row_heading level0 row0\" >1-2 сотрудника</th>\n",
       "                        <td id=\"T_ad4e5_row0_col0\" class=\"data row0 col0\" >23535.00</td>\n",
       "                        <td id=\"T_ad4e5_row0_col1\" class=\"data row0 col1\" >0.18</td>\n",
       "            </tr>\n",
       "            <tr>\n",
       "                        <th id=\"T_ad4e5_level0_row1\" class=\"row_heading level0 row1\" >больше 10 сотрудников</th>\n",
       "                        <td id=\"T_ad4e5_row1_col0\" class=\"data row1 col0\" >2668.00</td>\n",
       "                        <td id=\"T_ad4e5_row1_col1\" class=\"data row1 col1\" >0.16</td>\n",
       "            </tr>\n",
       "            <tr>\n",
       "                        <th id=\"T_ad4e5_level0_row2\" class=\"row_heading level0 row2\" >5-10 сотрудников</th>\n",
       "                        <td id=\"T_ad4e5_row2_col0\" class=\"data row2 col0\" >2664.00</td>\n",
       "                        <td id=\"T_ad4e5_row2_col1\" class=\"data row2 col1\" >0.16</td>\n",
       "            </tr>\n",
       "            <tr>\n",
       "                        <th id=\"T_ad4e5_level0_row3\" class=\"row_heading level0 row3\" >3-5 сотрудников</th>\n",
       "                        <td id=\"T_ad4e5_row3_col0\" class=\"data row3 col0\" >5748.00</td>\n",
       "                        <td id=\"T_ad4e5_row3_col1\" class=\"data row3 col1\" >0.16</td>\n",
       "            </tr>\n",
       "    </tbody></table>"
      ],
      "text/plain": [
       "<pandas.io.formats.style.Styler at 0x7fcd094499a0>"
      ]
     },
     "metadata": {},
     "output_type": "display_data"
    }
   ],
   "source": [
    "# Подсчитаем количество сотрудников в каждой группе и среднюю долю сотрудников без информации об образовании\n",
    "emploee_grouped = education_grouped_2.groupby('employee').agg({'id_x': 'sum', 'education_share': 'mean'}).sort_values(by = 'education_share', ascending = False)\n",
    "display(emploee_grouped.style.format(\"{:.2f}\"))"
   ]
  },
  {
   "cell_type": "markdown",
   "metadata": {},
   "source": [
    "Самая большая доля сотрудников без образования находится в группе `1-2 сотрудника` и составляет **18%**. В остальных категориях -**16%**."
   ]
  },
  {
   "cell_type": "markdown",
   "metadata": {},
   "source": [
    "### Установим, подходит ли для объединения данных столбец `network_username`, который встречается в нескольких датасетах. Необходимо понять, дублируется ли для разных датасетов информация в столбцах с таким названием, и если да — то насколько часто.\n",
    "\n"
   ]
  },
  {
   "cell_type": "code",
   "execution_count": 47,
   "metadata": {},
   "outputs": [
    {
     "data": {
      "text/plain": [
       "'Количество дубликатов в таблице df_company_and_rounds:'"
      ]
     },
     "metadata": {},
     "output_type": "display_data"
    },
    {
     "data": {
      "text/plain": [
       "138202"
      ]
     },
     "metadata": {},
     "output_type": "display_data"
    },
    {
     "data": {
      "text/plain": [
       "'Процент дубликатов в таблице df_company_and_rounds:'"
      ]
     },
     "metadata": {},
     "output_type": "display_data"
    },
    {
     "data": {
      "text/plain": [
       "0.63"
      ]
     },
     "metadata": {},
     "output_type": "display_data"
    },
    {
     "data": {
      "text/plain": [
       "'Процент пропусков в таблице df_company_and_rounds:'"
      ]
     },
     "metadata": {},
     "output_type": "display_data"
    },
    {
     "data": {
      "text/plain": [
       "0.56"
      ]
     },
     "metadata": {},
     "output_type": "display_data"
    },
    {
     "data": {
      "text/plain": [
       "'Количество дубликатов в таблице df_people:'"
      ]
     },
     "metadata": {},
     "output_type": "display_data"
    },
    {
     "data": {
      "text/plain": [
       "188287"
      ]
     },
     "metadata": {},
     "output_type": "display_data"
    },
    {
     "data": {
      "text/plain": [
       "'Процент дубликатов в таблице df_people:'"
      ]
     },
     "metadata": {},
     "output_type": "display_data"
    },
    {
     "data": {
      "text/plain": [
       "0.83"
      ]
     },
     "metadata": {},
     "output_type": "display_data"
    },
    {
     "data": {
      "text/plain": [
       "'Процент пропусков в таблице df_people:'"
      ]
     },
     "metadata": {},
     "output_type": "display_data"
    },
    {
     "data": {
      "text/plain": [
       "0.83"
      ]
     },
     "metadata": {},
     "output_type": "display_data"
    },
    {
     "data": {
      "text/plain": [
       "'Количество дубликатов в таблице df_fund:'"
      ]
     },
     "metadata": {},
     "output_type": "display_data"
    },
    {
     "data": {
      "text/plain": [
       "9553"
      ]
     },
     "metadata": {},
     "output_type": "display_data"
    },
    {
     "data": {
      "text/plain": [
       "'Процент дубликатов в таблице df_fund:'"
      ]
     },
     "metadata": {},
     "output_type": "display_data"
    },
    {
     "data": {
      "text/plain": [
       "0.82"
      ]
     },
     "metadata": {},
     "output_type": "display_data"
    },
    {
     "data": {
      "text/plain": [
       "'Процент пропусков в таблице df_fund:'"
      ]
     },
     "metadata": {},
     "output_type": "display_data"
    },
    {
     "data": {
      "text/plain": [
       "0.82"
      ]
     },
     "metadata": {},
     "output_type": "display_data"
    }
   ],
   "source": [
    "for i in ['df_company_and_rounds', 'df_people', 'df_fund']:\n",
    "    display(f'Количество дубликатов в таблице {i}:')\n",
    "    display(eval(i).duplicated(subset = 'network_username').sum())\n",
    "    display(f'Процент дубликатов в таблице {i}:')\n",
    "    display(round(eval(i).duplicated(subset = 'network_username').sum() / eval(i).shape[0], 2))\n",
    "    display(f'Процент пропусков в таблице {i}:')\n",
    "    display(round(eval(i)['network_username'].isna().sum() / eval(i).shape[0], 2))"
   ]
  },
  {
   "cell_type": "markdown",
   "metadata": {},
   "source": [
    "Заметим, что в таблицах `df_people` и `df_fund` процент пропусков и процент дубликатов одинаковый, что может означать, что одно и является другим."
   ]
  },
  {
   "cell_type": "code",
   "execution_count": 48,
   "metadata": {},
   "outputs": [],
   "source": [
    "# Избавимся от пропусков и проведем проверку еще раз\n",
    "df_company_and_rounds_not_na = df_company_and_rounds.dropna(subset=['network_username'])\n",
    "df_people_not_na = df_people.dropna(subset=['network_username'])\n",
    "df_fund_not_na = df_fund.dropna(subset=['network_username'])"
   ]
  },
  {
   "cell_type": "code",
   "execution_count": 49,
   "metadata": {},
   "outputs": [
    {
     "data": {
      "text/plain": [
       "'Количество дубликатов в таблице df_company_and_rounds_not_na:'"
      ]
     },
     "metadata": {},
     "output_type": "display_data"
    },
    {
     "data": {
      "text/plain": [
       "15963"
      ]
     },
     "metadata": {},
     "output_type": "display_data"
    },
    {
     "data": {
      "text/plain": [
       "'Процент дубликатов в таблице df_company_and_rounds_not_na:'"
      ]
     },
     "metadata": {},
     "output_type": "display_data"
    },
    {
     "data": {
      "text/plain": [
       "0.17"
      ]
     },
     "metadata": {},
     "output_type": "display_data"
    },
    {
     "data": {
      "text/plain": [
       "'Количество дубликатов в таблице df_people_not_na:'"
      ]
     },
     "metadata": {},
     "output_type": "display_data"
    },
    {
     "data": {
      "text/plain": [
       "446"
      ]
     },
     "metadata": {},
     "output_type": "display_data"
    },
    {
     "data": {
      "text/plain": [
       "'Процент дубликатов в таблице df_people_not_na:'"
      ]
     },
     "metadata": {},
     "output_type": "display_data"
    },
    {
     "data": {
      "text/plain": [
       "0.01"
      ]
     },
     "metadata": {},
     "output_type": "display_data"
    },
    {
     "data": {
      "text/plain": [
       "'Количество дубликатов в таблице df_fund_not_na:'"
      ]
     },
     "metadata": {},
     "output_type": "display_data"
    },
    {
     "data": {
      "text/plain": [
       "51"
      ]
     },
     "metadata": {},
     "output_type": "display_data"
    },
    {
     "data": {
      "text/plain": [
       "'Процент дубликатов в таблице df_fund_not_na:'"
      ]
     },
     "metadata": {},
     "output_type": "display_data"
    },
    {
     "data": {
      "text/plain": [
       "0.02"
      ]
     },
     "metadata": {},
     "output_type": "display_data"
    }
   ],
   "source": [
    "for i in ['df_company_and_rounds_not_na', 'df_people_not_na', 'df_fund_not_na']:\n",
    "    display(f'Количество дубликатов в таблице {i}:')\n",
    "    display(eval(i).duplicated(subset = 'network_username').sum())\n",
    "    display(f'Процент дубликатов в таблице {i}:')\n",
    "    display(round(eval(i).duplicated(subset = 'network_username').sum() / eval(i).shape[0], 2))"
   ]
  },
  {
   "cell_type": "code",
   "execution_count": 50,
   "metadata": {},
   "outputs": [
    {
     "name": "stderr",
     "output_type": "stream",
     "text": [
      "/tmp/ipykernel_220/1593127511.py:3: SettingWithCopyWarning: \n",
      "A value is trying to be set on a copy of a slice from a DataFrame.\n",
      "Try using .loc[row_indexer,col_indexer] = value instead\n",
      "\n",
      "See the caveats in the documentation: https://pandas.pydata.org/pandas-docs/stable/user_guide/indexing.html#returning-a-view-versus-a-copy\n",
      "  eval(i)['network_username'] = eval(i)['network_username'].str.lower()\n"
     ]
    },
    {
     "data": {
      "text/plain": [
       "'Количество дубликатов в таблице df_company_and_rounds_not_na:'"
      ]
     },
     "metadata": {},
     "output_type": "display_data"
    },
    {
     "data": {
      "text/plain": [
       "16160"
      ]
     },
     "metadata": {},
     "output_type": "display_data"
    },
    {
     "data": {
      "text/plain": [
       "'Процент дубликатов в таблице df_company_and_rounds_not_na:'"
      ]
     },
     "metadata": {},
     "output_type": "display_data"
    },
    {
     "data": {
      "text/plain": [
       "0.17"
      ]
     },
     "metadata": {},
     "output_type": "display_data"
    },
    {
     "data": {
      "text/plain": [
       "'Количество дубликатов в таблице df_people_not_na:'"
      ]
     },
     "metadata": {},
     "output_type": "display_data"
    },
    {
     "data": {
      "text/plain": [
       "483"
      ]
     },
     "metadata": {},
     "output_type": "display_data"
    },
    {
     "data": {
      "text/plain": [
       "'Процент дубликатов в таблице df_people_not_na:'"
      ]
     },
     "metadata": {},
     "output_type": "display_data"
    },
    {
     "data": {
      "text/plain": [
       "0.01"
      ]
     },
     "metadata": {},
     "output_type": "display_data"
    },
    {
     "data": {
      "text/plain": [
       "'Количество дубликатов в таблице df_fund_not_na:'"
      ]
     },
     "metadata": {},
     "output_type": "display_data"
    },
    {
     "data": {
      "text/plain": [
       "58"
      ]
     },
     "metadata": {},
     "output_type": "display_data"
    },
    {
     "data": {
      "text/plain": [
       "'Процент дубликатов в таблице df_fund_not_na:'"
      ]
     },
     "metadata": {},
     "output_type": "display_data"
    },
    {
     "data": {
      "text/plain": [
       "0.03"
      ]
     },
     "metadata": {},
     "output_type": "display_data"
    }
   ],
   "source": [
    "# Приведем все никнеймы к строчному написанию\n",
    "for i in ['df_company_and_rounds_not_na', 'df_people_not_na', 'df_fund_not_na']:\n",
    "    eval(i)['network_username'] = eval(i)['network_username'].str.lower()\n",
    "\n",
    "for i in ['df_company_and_rounds_not_na', 'df_people_not_na', 'df_fund_not_na']:\n",
    "    display(f'Количество дубликатов в таблице {i}:')\n",
    "    display(eval(i).duplicated(subset = 'network_username').sum())\n",
    "    display(f'Процент дубликатов в таблице {i}:')\n",
    "    display(round(eval(i).duplicated(subset = 'network_username').sum() / eval(i).shape[0], 2))"
   ]
  },
  {
   "cell_type": "markdown",
   "metadata": {},
   "source": [
    "Таким образом, в отчищенных от пропусков данных в столбце `network_username`:\n",
    "- в таблице `df_company_and_rounds` **17%** данных являются **дубликатами**, при том что изначальная таблица содержит **56% попусков**;\n",
    "- в таблице `df_people` **1%** данных является **дубликатами**, при том что изначальная таблица содержит **83% попусков**;\n",
    "- в таблице `df_fund` **2%** данных являются **дубликатами**, при том что изначальная таблица содержит **82% попусков**;\n",
    "\n",
    "Можно сделать вывод, что столбец `network_username` не подходит для присоединения таблиц друг с другом."
   ]
  },
  {
   "cell_type": "markdown",
   "metadata": {},
   "source": [
    "Найдем пересечения по столбцу `network_username` в  таблицах `df_company_and_rounds`, `df_people`, `df_fund`:"
   ]
  },
  {
   "cell_type": "code",
   "execution_count": 51,
   "metadata": {},
   "outputs": [],
   "source": [
    "# Найдем пересечения трех таблиц\n",
    "intersection = set(df_company_and_rounds['network_username']).intersection(set(df_people['network_username'])).intersection(\n",
    "    set(df_fund['network_username']))\n",
    "\n",
    "intersection_list = list(intersection)"
   ]
  },
  {
   "cell_type": "code",
   "execution_count": 52,
   "metadata": {},
   "outputs": [
    {
     "data": {
      "text/plain": [
       "8"
      ]
     },
     "metadata": {},
     "output_type": "display_data"
    }
   ],
   "source": [
    "# Выведем количество пересечений\n",
    "display(len(intersection_list))"
   ]
  },
  {
   "cell_type": "markdown",
   "metadata": {},
   "source": [
    "В итоге по столбцу `network_username` среди трех таблиц найдено всего 8 пересечений, что говорит о том, что данная переменная не подходит для объединения данных."
   ]
  },
  {
   "cell_type": "markdown",
   "metadata": {},
   "source": [
    "Также посчитаем пересечения по парам:"
   ]
  },
  {
   "cell_type": "code",
   "execution_count": 53,
   "metadata": {},
   "outputs": [],
   "source": [
    "# Найдем пересечения таблиц df_company_and_rounds и df_people\n",
    "intersection_company_people = set(df_company_and_rounds['network_username']).intersection(set(df_people['network_username']))\n",
    "\n",
    "intersection_list_company_people = list(intersection_company_people)"
   ]
  },
  {
   "cell_type": "code",
   "execution_count": 54,
   "metadata": {},
   "outputs": [
    {
     "data": {
      "text/plain": [
       "2200"
      ]
     },
     "metadata": {},
     "output_type": "display_data"
    }
   ],
   "source": [
    "display(len(intersection_list_company_people))"
   ]
  },
  {
   "cell_type": "code",
   "execution_count": 55,
   "metadata": {},
   "outputs": [],
   "source": [
    "# Найдем пересечения таблиц df_company_and_rounds и df_fund\n",
    "intersection_company_fund = set(df_company_and_rounds['network_username']).intersection(set(df_fund['network_username']))\n",
    "\n",
    "intersection_list_company_fund = list(intersection_company_fund)"
   ]
  },
  {
   "cell_type": "code",
   "execution_count": 56,
   "metadata": {},
   "outputs": [
    {
     "data": {
      "text/plain": [
       "71"
      ]
     },
     "metadata": {},
     "output_type": "display_data"
    }
   ],
   "source": [
    "display(len(intersection_list_company_fund))"
   ]
  },
  {
   "cell_type": "code",
   "execution_count": 57,
   "metadata": {},
   "outputs": [],
   "source": [
    "# Найдем пересечения таблиц df_people и df_fund\n",
    "intersection_people_fund = set(df_people['network_username']).intersection(set(df_fund['network_username']))\n",
    "\n",
    "intersection_list_people_fund = list(intersection_people_fund)"
   ]
  },
  {
   "cell_type": "code",
   "execution_count": 58,
   "metadata": {},
   "outputs": [
    {
     "data": {
      "text/plain": [
       "80"
      ]
     },
     "metadata": {},
     "output_type": "display_data"
    }
   ],
   "source": [
    "display(len(intersection_list_people_fund))"
   ]
  },
  {
   "cell_type": "markdown",
   "metadata": {},
   "source": [
    "Максимальное количество пересечений (2 200) наблюдается между таблицами `df_company_and_rounds` и `df_people`."
   ]
  },
  {
   "cell_type": "markdown",
   "metadata": {
    "id": "EHcODomVrJg1"
   },
   "source": [
    "\n",
    "### 2.4. Проблемный датасет и причина возникновения пропусков\n",
    "\n",
    "Во время собственного анализа данных у заказчика больше всего вопросов возникло к датасету `company_and_rounds.csv`. В нём много пропусков как раз в информации о раундах, которая заказчику важна. Хотя информация об общем объёме финансирования по раундам присутствует в других датасетах, заказчик считает данные `company_and_rounds.csv` о размере средств наиболее верными.\n",
    "\n",
    "* Приведем данные в вид, который позволяет проводить анализ в разрезе отдельных компаний.\n",
    "\n",
    "По гипотезе заказчика данные по компаниям из этой таблицы раньше хранились иначе, более удобным для исследования образом.\n",
    "\n",
    "* Максимальным образом сохраняя данные, сохранив их связность и исключив возможные возникающие при этом ошибки, подготовим данные так, чтобы удобно было отобрать компании по параметрам и рассчитать показатели из расчёта на одну компанию."
   ]
  },
  {
   "cell_type": "code",
   "execution_count": 59,
   "metadata": {
    "id": "tJ6Sl6MKrJg1"
   },
   "outputs": [
    {
     "data": {
      "text/html": [
       "<div>\n",
       "<style scoped>\n",
       "    .dataframe tbody tr th:only-of-type {\n",
       "        vertical-align: middle;\n",
       "    }\n",
       "\n",
       "    .dataframe tbody tr th {\n",
       "        vertical-align: top;\n",
       "    }\n",
       "\n",
       "    .dataframe thead th {\n",
       "        text-align: right;\n",
       "    }\n",
       "</style>\n",
       "<table border=\"1\" class=\"dataframe\">\n",
       "  <thead>\n",
       "    <tr style=\"text-align: right;\">\n",
       "      <th></th>\n",
       "      <th>company_id_first</th>\n",
       "      <th>name</th>\n",
       "      <th>category_code</th>\n",
       "      <th>status</th>\n",
       "      <th>founded_at</th>\n",
       "      <th>closed_at</th>\n",
       "      <th>domain</th>\n",
       "      <th>network_username</th>\n",
       "      <th>country_code</th>\n",
       "      <th>investment_rounds</th>\n",
       "      <th>...</th>\n",
       "      <th>funding_round_id</th>\n",
       "      <th>company_id</th>\n",
       "      <th>funded_at</th>\n",
       "      <th>funding_round_type</th>\n",
       "      <th>raised_amount</th>\n",
       "      <th>pre_money_valuation</th>\n",
       "      <th>participants</th>\n",
       "      <th>is_first_round</th>\n",
       "      <th>is_last_round</th>\n",
       "      <th>fund_year</th>\n",
       "    </tr>\n",
       "  </thead>\n",
       "  <tbody>\n",
       "    <tr>\n",
       "      <th>0</th>\n",
       "      <td>1</td>\n",
       "      <td>Wetpaint</td>\n",
       "      <td>web</td>\n",
       "      <td>operating</td>\n",
       "      <td>2005-10-17</td>\n",
       "      <td>NaT</td>\n",
       "      <td>wetpaint-inc.com</td>\n",
       "      <td>BachelrWetpaint</td>\n",
       "      <td>USA</td>\n",
       "      <td>0</td>\n",
       "      <td>...</td>\n",
       "      <td>888</td>\n",
       "      <td>1</td>\n",
       "      <td>2005-10-01</td>\n",
       "      <td>series-a</td>\n",
       "      <td>5,250,000</td>\n",
       "      <td>0</td>\n",
       "      <td>2</td>\n",
       "      <td>0</td>\n",
       "      <td>1</td>\n",
       "      <td>2,005</td>\n",
       "    </tr>\n",
       "    <tr>\n",
       "      <th>1</th>\n",
       "      <td>1</td>\n",
       "      <td>Wetpaint</td>\n",
       "      <td>web</td>\n",
       "      <td>operating</td>\n",
       "      <td>2005-10-17</td>\n",
       "      <td>NaT</td>\n",
       "      <td>wetpaint-inc.com</td>\n",
       "      <td>BachelrWetpaint</td>\n",
       "      <td>USA</td>\n",
       "      <td>0</td>\n",
       "      <td>...</td>\n",
       "      <td>889</td>\n",
       "      <td>1</td>\n",
       "      <td>2007-01-01</td>\n",
       "      <td>series-b</td>\n",
       "      <td>9,500,000</td>\n",
       "      <td>0</td>\n",
       "      <td>3</td>\n",
       "      <td>0</td>\n",
       "      <td>0</td>\n",
       "      <td>2,007</td>\n",
       "    </tr>\n",
       "    <tr>\n",
       "      <th>2</th>\n",
       "      <td>1</td>\n",
       "      <td>Wetpaint</td>\n",
       "      <td>web</td>\n",
       "      <td>operating</td>\n",
       "      <td>2005-10-17</td>\n",
       "      <td>NaT</td>\n",
       "      <td>wetpaint-inc.com</td>\n",
       "      <td>BachelrWetpaint</td>\n",
       "      <td>USA</td>\n",
       "      <td>0</td>\n",
       "      <td>...</td>\n",
       "      <td>2,312</td>\n",
       "      <td>1</td>\n",
       "      <td>2008-05-19</td>\n",
       "      <td>series-c+</td>\n",
       "      <td>25,000,000</td>\n",
       "      <td>0</td>\n",
       "      <td>4</td>\n",
       "      <td>1</td>\n",
       "      <td>0</td>\n",
       "      <td>2,008</td>\n",
       "    </tr>\n",
       "    <tr>\n",
       "      <th>3</th>\n",
       "      <td>10</td>\n",
       "      <td>Flektor</td>\n",
       "      <td>games_video</td>\n",
       "      <td>acquired</td>\n",
       "      <td>NaT</td>\n",
       "      <td>NaT</td>\n",
       "      <td>flektor.com</td>\n",
       "      <td>NaN</td>\n",
       "      <td>USA</td>\n",
       "      <td>0</td>\n",
       "      <td>...</td>\n",
       "      <td>NaN</td>\n",
       "      <td>NaN</td>\n",
       "      <td>NaT</td>\n",
       "      <td>NaN</td>\n",
       "      <td>NaN</td>\n",
       "      <td>NaN</td>\n",
       "      <td>NaN</td>\n",
       "      <td>NaN</td>\n",
       "      <td>NaN</td>\n",
       "      <td>NaN</td>\n",
       "    </tr>\n",
       "    <tr>\n",
       "      <th>4</th>\n",
       "      <td>100</td>\n",
       "      <td>There</td>\n",
       "      <td>games_video</td>\n",
       "      <td>acquired</td>\n",
       "      <td>NaT</td>\n",
       "      <td>NaT</td>\n",
       "      <td>there.com</td>\n",
       "      <td>NaN</td>\n",
       "      <td>USA</td>\n",
       "      <td>0</td>\n",
       "      <td>...</td>\n",
       "      <td>NaN</td>\n",
       "      <td>NaN</td>\n",
       "      <td>NaT</td>\n",
       "      <td>NaN</td>\n",
       "      <td>NaN</td>\n",
       "      <td>NaN</td>\n",
       "      <td>NaN</td>\n",
       "      <td>NaN</td>\n",
       "      <td>NaN</td>\n",
       "      <td>NaN</td>\n",
       "    </tr>\n",
       "    <tr>\n",
       "      <th>5</th>\n",
       "      <td>10,000</td>\n",
       "      <td>MYWEBBO</td>\n",
       "      <td>network_hosting</td>\n",
       "      <td>operating</td>\n",
       "      <td>2008-07-26</td>\n",
       "      <td>NaT</td>\n",
       "      <td>mywebbo.com</td>\n",
       "      <td>NaN</td>\n",
       "      <td>NaN</td>\n",
       "      <td>0</td>\n",
       "      <td>...</td>\n",
       "      <td>NaN</td>\n",
       "      <td>NaN</td>\n",
       "      <td>NaT</td>\n",
       "      <td>NaN</td>\n",
       "      <td>NaN</td>\n",
       "      <td>NaN</td>\n",
       "      <td>NaN</td>\n",
       "      <td>NaN</td>\n",
       "      <td>NaN</td>\n",
       "      <td>NaN</td>\n",
       "    </tr>\n",
       "    <tr>\n",
       "      <th>6</th>\n",
       "      <td>10,001</td>\n",
       "      <td>THE Movie Streamer</td>\n",
       "      <td>games_video</td>\n",
       "      <td>operating</td>\n",
       "      <td>2008-07-26</td>\n",
       "      <td>NaT</td>\n",
       "      <td>themoviestreamer.com</td>\n",
       "      <td>NaN</td>\n",
       "      <td>NaN</td>\n",
       "      <td>0</td>\n",
       "      <td>...</td>\n",
       "      <td>NaN</td>\n",
       "      <td>NaN</td>\n",
       "      <td>NaT</td>\n",
       "      <td>NaN</td>\n",
       "      <td>NaN</td>\n",
       "      <td>NaN</td>\n",
       "      <td>NaN</td>\n",
       "      <td>NaN</td>\n",
       "      <td>NaN</td>\n",
       "      <td>NaN</td>\n",
       "    </tr>\n",
       "    <tr>\n",
       "      <th>7</th>\n",
       "      <td>10,002</td>\n",
       "      <td>Synergie Media</td>\n",
       "      <td>advertising</td>\n",
       "      <td>operating</td>\n",
       "      <td>2007-06-27</td>\n",
       "      <td>NaT</td>\n",
       "      <td>synergie-media.com</td>\n",
       "      <td>NaN</td>\n",
       "      <td>MAR</td>\n",
       "      <td>0</td>\n",
       "      <td>...</td>\n",
       "      <td>NaN</td>\n",
       "      <td>NaN</td>\n",
       "      <td>NaT</td>\n",
       "      <td>NaN</td>\n",
       "      <td>NaN</td>\n",
       "      <td>NaN</td>\n",
       "      <td>NaN</td>\n",
       "      <td>NaN</td>\n",
       "      <td>NaN</td>\n",
       "      <td>NaN</td>\n",
       "    </tr>\n",
       "    <tr>\n",
       "      <th>8</th>\n",
       "      <td>10,003</td>\n",
       "      <td>Green Basti Ecosystems</td>\n",
       "      <td>cleantech</td>\n",
       "      <td>operating</td>\n",
       "      <td>2008-08-20</td>\n",
       "      <td>NaT</td>\n",
       "      <td>NaN</td>\n",
       "      <td>NaN</td>\n",
       "      <td>IND</td>\n",
       "      <td>0</td>\n",
       "      <td>...</td>\n",
       "      <td>NaN</td>\n",
       "      <td>NaN</td>\n",
       "      <td>NaT</td>\n",
       "      <td>NaN</td>\n",
       "      <td>NaN</td>\n",
       "      <td>NaN</td>\n",
       "      <td>NaN</td>\n",
       "      <td>NaN</td>\n",
       "      <td>NaN</td>\n",
       "      <td>NaN</td>\n",
       "    </tr>\n",
       "    <tr>\n",
       "      <th>9</th>\n",
       "      <td>100,042</td>\n",
       "      <td>HostNine</td>\n",
       "      <td>NaN</td>\n",
       "      <td>operating</td>\n",
       "      <td>NaT</td>\n",
       "      <td>NaT</td>\n",
       "      <td>hostnine.com</td>\n",
       "      <td>Hostnine</td>\n",
       "      <td>NaN</td>\n",
       "      <td>0</td>\n",
       "      <td>...</td>\n",
       "      <td>NaN</td>\n",
       "      <td>NaN</td>\n",
       "      <td>NaT</td>\n",
       "      <td>NaN</td>\n",
       "      <td>NaN</td>\n",
       "      <td>NaN</td>\n",
       "      <td>NaN</td>\n",
       "      <td>NaN</td>\n",
       "      <td>NaN</td>\n",
       "      <td>NaN</td>\n",
       "    </tr>\n",
       "  </tbody>\n",
       "</table>\n",
       "<p>10 rows × 23 columns</p>\n",
       "</div>"
      ],
      "text/plain": [
       "   company_id_first                    name    category_code     status  \\\n",
       "0                 1                Wetpaint              web  operating   \n",
       "1                 1                Wetpaint              web  operating   \n",
       "2                 1                Wetpaint              web  operating   \n",
       "3                10                 Flektor      games_video   acquired   \n",
       "4               100                   There      games_video   acquired   \n",
       "5            10,000                 MYWEBBO  network_hosting  operating   \n",
       "6            10,001      THE Movie Streamer      games_video  operating   \n",
       "7            10,002          Synergie Media      advertising  operating   \n",
       "8            10,003  Green Basti Ecosystems        cleantech  operating   \n",
       "9           100,042                HostNine              NaN  operating   \n",
       "\n",
       "  founded_at closed_at                domain network_username country_code  \\\n",
       "0 2005-10-17       NaT      wetpaint-inc.com  BachelrWetpaint          USA   \n",
       "1 2005-10-17       NaT      wetpaint-inc.com  BachelrWetpaint          USA   \n",
       "2 2005-10-17       NaT      wetpaint-inc.com  BachelrWetpaint          USA   \n",
       "3        NaT       NaT           flektor.com              NaN          USA   \n",
       "4        NaT       NaT             there.com              NaN          USA   \n",
       "5 2008-07-26       NaT           mywebbo.com              NaN          NaN   \n",
       "6 2008-07-26       NaT  themoviestreamer.com              NaN          NaN   \n",
       "7 2007-06-27       NaT    synergie-media.com              NaN          MAR   \n",
       "8 2008-08-20       NaT                   NaN              NaN          IND   \n",
       "9        NaT       NaT          hostnine.com         Hostnine          NaN   \n",
       "\n",
       "   investment_rounds  ...  funding_round_id  company_id  funded_at  \\\n",
       "0                  0  ...               888           1 2005-10-01   \n",
       "1                  0  ...               889           1 2007-01-01   \n",
       "2                  0  ...             2,312           1 2008-05-19   \n",
       "3                  0  ...               NaN         NaN        NaT   \n",
       "4                  0  ...               NaN         NaN        NaT   \n",
       "5                  0  ...               NaN         NaN        NaT   \n",
       "6                  0  ...               NaN         NaN        NaT   \n",
       "7                  0  ...               NaN         NaN        NaT   \n",
       "8                  0  ...               NaN         NaN        NaT   \n",
       "9                  0  ...               NaN         NaN        NaT   \n",
       "\n",
       "   funding_round_type  raised_amount pre_money_valuation participants  \\\n",
       "0            series-a      5,250,000                   0            2   \n",
       "1            series-b      9,500,000                   0            3   \n",
       "2           series-c+     25,000,000                   0            4   \n",
       "3                 NaN            NaN                 NaN          NaN   \n",
       "4                 NaN            NaN                 NaN          NaN   \n",
       "5                 NaN            NaN                 NaN          NaN   \n",
       "6                 NaN            NaN                 NaN          NaN   \n",
       "7                 NaN            NaN                 NaN          NaN   \n",
       "8                 NaN            NaN                 NaN          NaN   \n",
       "9                 NaN            NaN                 NaN          NaN   \n",
       "\n",
       "   is_first_round  is_last_round  fund_year  \n",
       "0               0              1      2,005  \n",
       "1               0              0      2,007  \n",
       "2               1              0      2,008  \n",
       "3             NaN            NaN        NaN  \n",
       "4             NaN            NaN        NaN  \n",
       "5             NaN            NaN        NaN  \n",
       "6             NaN            NaN        NaN  \n",
       "7             NaN            NaN        NaN  \n",
       "8             NaN            NaN        NaN  \n",
       "9             NaN            NaN        NaN  \n",
       "\n",
       "[10 rows x 23 columns]"
      ]
     },
     "metadata": {},
     "output_type": "display_data"
    }
   ],
   "source": [
    "display(df_company_and_rounds.head(10))"
   ]
  },
  {
   "cell_type": "markdown",
   "metadata": {},
   "source": [
    "Сразу же заметим, что первые три наблюдения похожи на дубликаты. Информация о самой компании с `company_id_first` = **1** идентична для трех строк. Различия можно заметить в информации об инвестиционных раундах. В таблице присутствует идентичный столбцу `company_id_first` столбец `company_id`. Проверим часть данных с отсутствием пропусков в `company_id`."
   ]
  },
  {
   "cell_type": "code",
   "execution_count": 60,
   "metadata": {},
   "outputs": [
    {
     "data": {
      "text/html": [
       "<div>\n",
       "<style scoped>\n",
       "    .dataframe tbody tr th:only-of-type {\n",
       "        vertical-align: middle;\n",
       "    }\n",
       "\n",
       "    .dataframe tbody tr th {\n",
       "        vertical-align: top;\n",
       "    }\n",
       "\n",
       "    .dataframe thead th {\n",
       "        text-align: right;\n",
       "    }\n",
       "</style>\n",
       "<table border=\"1\" class=\"dataframe\">\n",
       "  <thead>\n",
       "    <tr style=\"text-align: right;\">\n",
       "      <th></th>\n",
       "      <th>company_id_first</th>\n",
       "      <th>name</th>\n",
       "      <th>category_code</th>\n",
       "      <th>status</th>\n",
       "      <th>founded_at</th>\n",
       "      <th>closed_at</th>\n",
       "      <th>domain</th>\n",
       "      <th>network_username</th>\n",
       "      <th>country_code</th>\n",
       "      <th>investment_rounds</th>\n",
       "      <th>...</th>\n",
       "      <th>funding_round_id</th>\n",
       "      <th>company_id</th>\n",
       "      <th>funded_at</th>\n",
       "      <th>funding_round_type</th>\n",
       "      <th>raised_amount</th>\n",
       "      <th>pre_money_valuation</th>\n",
       "      <th>participants</th>\n",
       "      <th>is_first_round</th>\n",
       "      <th>is_last_round</th>\n",
       "      <th>fund_year</th>\n",
       "    </tr>\n",
       "  </thead>\n",
       "  <tbody>\n",
       "    <tr>\n",
       "      <th>0</th>\n",
       "      <td>1</td>\n",
       "      <td>Wetpaint</td>\n",
       "      <td>web</td>\n",
       "      <td>operating</td>\n",
       "      <td>2005-10-17</td>\n",
       "      <td>NaT</td>\n",
       "      <td>wetpaint-inc.com</td>\n",
       "      <td>BachelrWetpaint</td>\n",
       "      <td>USA</td>\n",
       "      <td>0</td>\n",
       "      <td>...</td>\n",
       "      <td>888</td>\n",
       "      <td>1</td>\n",
       "      <td>2005-10-01</td>\n",
       "      <td>series-a</td>\n",
       "      <td>5,250,000</td>\n",
       "      <td>0</td>\n",
       "      <td>2</td>\n",
       "      <td>0</td>\n",
       "      <td>1</td>\n",
       "      <td>2,005</td>\n",
       "    </tr>\n",
       "    <tr>\n",
       "      <th>1</th>\n",
       "      <td>1</td>\n",
       "      <td>Wetpaint</td>\n",
       "      <td>web</td>\n",
       "      <td>operating</td>\n",
       "      <td>2005-10-17</td>\n",
       "      <td>NaT</td>\n",
       "      <td>wetpaint-inc.com</td>\n",
       "      <td>BachelrWetpaint</td>\n",
       "      <td>USA</td>\n",
       "      <td>0</td>\n",
       "      <td>...</td>\n",
       "      <td>889</td>\n",
       "      <td>1</td>\n",
       "      <td>2007-01-01</td>\n",
       "      <td>series-b</td>\n",
       "      <td>9,500,000</td>\n",
       "      <td>0</td>\n",
       "      <td>3</td>\n",
       "      <td>0</td>\n",
       "      <td>0</td>\n",
       "      <td>2,007</td>\n",
       "    </tr>\n",
       "    <tr>\n",
       "      <th>2</th>\n",
       "      <td>1</td>\n",
       "      <td>Wetpaint</td>\n",
       "      <td>web</td>\n",
       "      <td>operating</td>\n",
       "      <td>2005-10-17</td>\n",
       "      <td>NaT</td>\n",
       "      <td>wetpaint-inc.com</td>\n",
       "      <td>BachelrWetpaint</td>\n",
       "      <td>USA</td>\n",
       "      <td>0</td>\n",
       "      <td>...</td>\n",
       "      <td>2,312</td>\n",
       "      <td>1</td>\n",
       "      <td>2008-05-19</td>\n",
       "      <td>series-c+</td>\n",
       "      <td>25,000,000</td>\n",
       "      <td>0</td>\n",
       "      <td>4</td>\n",
       "      <td>1</td>\n",
       "      <td>0</td>\n",
       "      <td>2,008</td>\n",
       "    </tr>\n",
       "    <tr>\n",
       "      <th>15</th>\n",
       "      <td>1,001</td>\n",
       "      <td>FriendFeed</td>\n",
       "      <td>web</td>\n",
       "      <td>acquired</td>\n",
       "      <td>2007-10-01</td>\n",
       "      <td>NaT</td>\n",
       "      <td>friendfeed.com</td>\n",
       "      <td>friendfeed</td>\n",
       "      <td>USA</td>\n",
       "      <td>0</td>\n",
       "      <td>...</td>\n",
       "      <td>1,644</td>\n",
       "      <td>1,001</td>\n",
       "      <td>2008-02-26</td>\n",
       "      <td>series-a</td>\n",
       "      <td>5,000,000</td>\n",
       "      <td>0</td>\n",
       "      <td>3</td>\n",
       "      <td>1</td>\n",
       "      <td>1</td>\n",
       "      <td>2,008</td>\n",
       "    </tr>\n",
       "    <tr>\n",
       "      <th>20</th>\n",
       "      <td>10,014</td>\n",
       "      <td>Mobclix</td>\n",
       "      <td>mobile</td>\n",
       "      <td>acquired</td>\n",
       "      <td>2008-03-01</td>\n",
       "      <td>NaT</td>\n",
       "      <td>mobclix.com</td>\n",
       "      <td>mobclix</td>\n",
       "      <td>USA</td>\n",
       "      <td>0</td>\n",
       "      <td>...</td>\n",
       "      <td>6,682</td>\n",
       "      <td>10,014</td>\n",
       "      <td>2008-09-01</td>\n",
       "      <td>angel</td>\n",
       "      <td>0</td>\n",
       "      <td>0</td>\n",
       "      <td>1</td>\n",
       "      <td>1</td>\n",
       "      <td>1</td>\n",
       "      <td>2,008</td>\n",
       "    </tr>\n",
       "    <tr>\n",
       "      <th>21</th>\n",
       "      <td>10,015</td>\n",
       "      <td>Fitbit</td>\n",
       "      <td>health</td>\n",
       "      <td>operating</td>\n",
       "      <td>2007-10-01</td>\n",
       "      <td>NaT</td>\n",
       "      <td>fitbit.com</td>\n",
       "      <td>fitbit</td>\n",
       "      <td>USA</td>\n",
       "      <td>0</td>\n",
       "      <td>...</td>\n",
       "      <td>3,619</td>\n",
       "      <td>10,015</td>\n",
       "      <td>2008-10-10</td>\n",
       "      <td>series-a</td>\n",
       "      <td>2,000,000</td>\n",
       "      <td>0</td>\n",
       "      <td>2</td>\n",
       "      <td>0</td>\n",
       "      <td>1</td>\n",
       "      <td>2,008</td>\n",
       "    </tr>\n",
       "    <tr>\n",
       "      <th>22</th>\n",
       "      <td>10,015</td>\n",
       "      <td>Fitbit</td>\n",
       "      <td>health</td>\n",
       "      <td>operating</td>\n",
       "      <td>2007-10-01</td>\n",
       "      <td>NaT</td>\n",
       "      <td>fitbit.com</td>\n",
       "      <td>fitbit</td>\n",
       "      <td>USA</td>\n",
       "      <td>0</td>\n",
       "      <td>...</td>\n",
       "      <td>18,213</td>\n",
       "      <td>10,015</td>\n",
       "      <td>2010-09-10</td>\n",
       "      <td>series-b</td>\n",
       "      <td>9,000,000</td>\n",
       "      <td>0</td>\n",
       "      <td>4</td>\n",
       "      <td>0</td>\n",
       "      <td>0</td>\n",
       "      <td>2,010</td>\n",
       "    </tr>\n",
       "    <tr>\n",
       "      <th>23</th>\n",
       "      <td>10,015</td>\n",
       "      <td>Fitbit</td>\n",
       "      <td>health</td>\n",
       "      <td>operating</td>\n",
       "      <td>2007-10-01</td>\n",
       "      <td>NaT</td>\n",
       "      <td>fitbit.com</td>\n",
       "      <td>fitbit</td>\n",
       "      <td>USA</td>\n",
       "      <td>0</td>\n",
       "      <td>...</td>\n",
       "      <td>27,747</td>\n",
       "      <td>10,015</td>\n",
       "      <td>2012-01-24</td>\n",
       "      <td>series-c+</td>\n",
       "      <td>12,000,000</td>\n",
       "      <td>0</td>\n",
       "      <td>4</td>\n",
       "      <td>0</td>\n",
       "      <td>0</td>\n",
       "      <td>2,012</td>\n",
       "    </tr>\n",
       "    <tr>\n",
       "      <th>24</th>\n",
       "      <td>10,015</td>\n",
       "      <td>Fitbit</td>\n",
       "      <td>health</td>\n",
       "      <td>operating</td>\n",
       "      <td>2007-10-01</td>\n",
       "      <td>NaT</td>\n",
       "      <td>fitbit.com</td>\n",
       "      <td>fitbit</td>\n",
       "      <td>USA</td>\n",
       "      <td>0</td>\n",
       "      <td>...</td>\n",
       "      <td>45,409</td>\n",
       "      <td>10,015</td>\n",
       "      <td>2013-08-13</td>\n",
       "      <td>series-c+</td>\n",
       "      <td>43,000,000</td>\n",
       "      <td>0</td>\n",
       "      <td>5</td>\n",
       "      <td>1</td>\n",
       "      <td>0</td>\n",
       "      <td>2,013</td>\n",
       "    </tr>\n",
       "    <tr>\n",
       "      <th>25</th>\n",
       "      <td>10,015</td>\n",
       "      <td>Fitbit</td>\n",
       "      <td>health</td>\n",
       "      <td>operating</td>\n",
       "      <td>2007-10-01</td>\n",
       "      <td>NaT</td>\n",
       "      <td>fitbit.com</td>\n",
       "      <td>fitbit</td>\n",
       "      <td>USA</td>\n",
       "      <td>0</td>\n",
       "      <td>...</td>\n",
       "      <td>54,006</td>\n",
       "      <td>10,015</td>\n",
       "      <td>2012-01-01</td>\n",
       "      <td>venture</td>\n",
       "      <td>2,069,200</td>\n",
       "      <td>0</td>\n",
       "      <td>4</td>\n",
       "      <td>0</td>\n",
       "      <td>0</td>\n",
       "      <td>2,012</td>\n",
       "    </tr>\n",
       "    <tr>\n",
       "      <th>26</th>\n",
       "      <td>100,155</td>\n",
       "      <td>MTPV</td>\n",
       "      <td>cleantech</td>\n",
       "      <td>operating</td>\n",
       "      <td>2003-01-01</td>\n",
       "      <td>NaT</td>\n",
       "      <td>mtpv.com</td>\n",
       "      <td>NaN</td>\n",
       "      <td>USA</td>\n",
       "      <td>0</td>\n",
       "      <td>...</td>\n",
       "      <td>25,184</td>\n",
       "      <td>100,155</td>\n",
       "      <td>2011-09-06</td>\n",
       "      <td>series-b</td>\n",
       "      <td>6,500,000</td>\n",
       "      <td>0</td>\n",
       "      <td>3</td>\n",
       "      <td>0</td>\n",
       "      <td>0</td>\n",
       "      <td>2,011</td>\n",
       "    </tr>\n",
       "    <tr>\n",
       "      <th>27</th>\n",
       "      <td>100,155</td>\n",
       "      <td>MTPV</td>\n",
       "      <td>cleantech</td>\n",
       "      <td>operating</td>\n",
       "      <td>2003-01-01</td>\n",
       "      <td>NaT</td>\n",
       "      <td>mtpv.com</td>\n",
       "      <td>NaN</td>\n",
       "      <td>USA</td>\n",
       "      <td>0</td>\n",
       "      <td>...</td>\n",
       "      <td>27,815</td>\n",
       "      <td>100,155</td>\n",
       "      <td>2012-01-26</td>\n",
       "      <td>series-b</td>\n",
       "      <td>3,250,000</td>\n",
       "      <td>0</td>\n",
       "      <td>2</td>\n",
       "      <td>1</td>\n",
       "      <td>0</td>\n",
       "      <td>2,012</td>\n",
       "    </tr>\n",
       "    <tr>\n",
       "      <th>28</th>\n",
       "      <td>100,155</td>\n",
       "      <td>MTPV</td>\n",
       "      <td>cleantech</td>\n",
       "      <td>operating</td>\n",
       "      <td>2003-01-01</td>\n",
       "      <td>NaT</td>\n",
       "      <td>mtpv.com</td>\n",
       "      <td>NaN</td>\n",
       "      <td>USA</td>\n",
       "      <td>0</td>\n",
       "      <td>...</td>\n",
       "      <td>55,817</td>\n",
       "      <td>100,155</td>\n",
       "      <td>2011-03-08</td>\n",
       "      <td>other</td>\n",
       "      <td>375,293</td>\n",
       "      <td>0</td>\n",
       "      <td>0</td>\n",
       "      <td>0</td>\n",
       "      <td>1</td>\n",
       "      <td>2,011</td>\n",
       "    </tr>\n",
       "    <tr>\n",
       "      <th>32</th>\n",
       "      <td>10,018</td>\n",
       "      <td>Demandbase</td>\n",
       "      <td>analytics</td>\n",
       "      <td>operating</td>\n",
       "      <td>2006-01-01</td>\n",
       "      <td>NaT</td>\n",
       "      <td>demandbase.com</td>\n",
       "      <td>Demandbase</td>\n",
       "      <td>USA</td>\n",
       "      <td>0</td>\n",
       "      <td>...</td>\n",
       "      <td>3,257</td>\n",
       "      <td>10,018</td>\n",
       "      <td>2008-08-25</td>\n",
       "      <td>series-b</td>\n",
       "      <td>8,000,000</td>\n",
       "      <td>0</td>\n",
       "      <td>3</td>\n",
       "      <td>0</td>\n",
       "      <td>1</td>\n",
       "      <td>2,008</td>\n",
       "    </tr>\n",
       "    <tr>\n",
       "      <th>33</th>\n",
       "      <td>10,018</td>\n",
       "      <td>Demandbase</td>\n",
       "      <td>analytics</td>\n",
       "      <td>operating</td>\n",
       "      <td>2006-01-01</td>\n",
       "      <td>NaT</td>\n",
       "      <td>demandbase.com</td>\n",
       "      <td>Demandbase</td>\n",
       "      <td>USA</td>\n",
       "      <td>0</td>\n",
       "      <td>...</td>\n",
       "      <td>22,965</td>\n",
       "      <td>10,018</td>\n",
       "      <td>2011-05-12</td>\n",
       "      <td>series-c+</td>\n",
       "      <td>10,000,000</td>\n",
       "      <td>0</td>\n",
       "      <td>4</td>\n",
       "      <td>0</td>\n",
       "      <td>0</td>\n",
       "      <td>2,011</td>\n",
       "    </tr>\n",
       "    <tr>\n",
       "      <th>34</th>\n",
       "      <td>10,018</td>\n",
       "      <td>Demandbase</td>\n",
       "      <td>analytics</td>\n",
       "      <td>operating</td>\n",
       "      <td>2006-01-01</td>\n",
       "      <td>NaT</td>\n",
       "      <td>demandbase.com</td>\n",
       "      <td>Demandbase</td>\n",
       "      <td>USA</td>\n",
       "      <td>0</td>\n",
       "      <td>...</td>\n",
       "      <td>36,591</td>\n",
       "      <td>10,018</td>\n",
       "      <td>2013-03-28</td>\n",
       "      <td>series-c+</td>\n",
       "      <td>15,000,000</td>\n",
       "      <td>0</td>\n",
       "      <td>6</td>\n",
       "      <td>1</td>\n",
       "      <td>0</td>\n",
       "      <td>2,013</td>\n",
       "    </tr>\n",
       "    <tr>\n",
       "      <th>36</th>\n",
       "      <td>100,189</td>\n",
       "      <td>Locatrix Communications</td>\n",
       "      <td>mobile</td>\n",
       "      <td>operating</td>\n",
       "      <td>2003-11-01</td>\n",
       "      <td>NaT</td>\n",
       "      <td>locatrix.com</td>\n",
       "      <td>NaN</td>\n",
       "      <td>AUS</td>\n",
       "      <td>0</td>\n",
       "      <td>...</td>\n",
       "      <td>25,185</td>\n",
       "      <td>100,189</td>\n",
       "      <td>2003-11-01</td>\n",
       "      <td>angel</td>\n",
       "      <td>250,000</td>\n",
       "      <td>0</td>\n",
       "      <td>2</td>\n",
       "      <td>1</td>\n",
       "      <td>1</td>\n",
       "      <td>2,003</td>\n",
       "    </tr>\n",
       "    <tr>\n",
       "      <th>38</th>\n",
       "      <td>10,021</td>\n",
       "      <td>Diditz</td>\n",
       "      <td>network_hosting</td>\n",
       "      <td>operating</td>\n",
       "      <td>2008-01-01</td>\n",
       "      <td>NaT</td>\n",
       "      <td>diditz.com</td>\n",
       "      <td>NaN</td>\n",
       "      <td>IND</td>\n",
       "      <td>0</td>\n",
       "      <td>...</td>\n",
       "      <td>3,256</td>\n",
       "      <td>10,021</td>\n",
       "      <td>NaT</td>\n",
       "      <td>angel</td>\n",
       "      <td>0</td>\n",
       "      <td>0</td>\n",
       "      <td>1</td>\n",
       "      <td>0</td>\n",
       "      <td>0</td>\n",
       "      <td>NaN</td>\n",
       "    </tr>\n",
       "    <tr>\n",
       "      <th>42</th>\n",
       "      <td>100,228</td>\n",
       "      <td>iHireHelp</td>\n",
       "      <td>education</td>\n",
       "      <td>operating</td>\n",
       "      <td>2010-10-01</td>\n",
       "      <td>NaT</td>\n",
       "      <td>ihirehelp.com</td>\n",
       "      <td>iHireHelp</td>\n",
       "      <td>USA</td>\n",
       "      <td>0</td>\n",
       "      <td>...</td>\n",
       "      <td>25,187</td>\n",
       "      <td>100,228</td>\n",
       "      <td>2011-04-16</td>\n",
       "      <td>angel</td>\n",
       "      <td>100,000</td>\n",
       "      <td>0</td>\n",
       "      <td>0</td>\n",
       "      <td>1</td>\n",
       "      <td>1</td>\n",
       "      <td>2,011</td>\n",
       "    </tr>\n",
       "    <tr>\n",
       "      <th>46</th>\n",
       "      <td>100,238</td>\n",
       "      <td>Cardiosolutions</td>\n",
       "      <td>medical</td>\n",
       "      <td>operating</td>\n",
       "      <td>2006-01-01</td>\n",
       "      <td>NaT</td>\n",
       "      <td>cardiosolutionsinc.com</td>\n",
       "      <td>NaN</td>\n",
       "      <td>USA</td>\n",
       "      <td>0</td>\n",
       "      <td>...</td>\n",
       "      <td>25,190</td>\n",
       "      <td>100,238</td>\n",
       "      <td>2011-09-06</td>\n",
       "      <td>venture</td>\n",
       "      <td>3,300,000</td>\n",
       "      <td>0</td>\n",
       "      <td>0</td>\n",
       "      <td>0</td>\n",
       "      <td>1</td>\n",
       "      <td>2,011</td>\n",
       "    </tr>\n",
       "  </tbody>\n",
       "</table>\n",
       "<p>20 rows × 23 columns</p>\n",
       "</div>"
      ],
      "text/plain": [
       "    company_id_first                     name    category_code     status  \\\n",
       "0                  1                 Wetpaint              web  operating   \n",
       "1                  1                 Wetpaint              web  operating   \n",
       "2                  1                 Wetpaint              web  operating   \n",
       "15             1,001               FriendFeed              web   acquired   \n",
       "20            10,014                  Mobclix           mobile   acquired   \n",
       "21            10,015                   Fitbit           health  operating   \n",
       "22            10,015                   Fitbit           health  operating   \n",
       "23            10,015                   Fitbit           health  operating   \n",
       "24            10,015                   Fitbit           health  operating   \n",
       "25            10,015                   Fitbit           health  operating   \n",
       "26           100,155                     MTPV        cleantech  operating   \n",
       "27           100,155                     MTPV        cleantech  operating   \n",
       "28           100,155                     MTPV        cleantech  operating   \n",
       "32            10,018               Demandbase        analytics  operating   \n",
       "33            10,018               Demandbase        analytics  operating   \n",
       "34            10,018               Demandbase        analytics  operating   \n",
       "36           100,189  Locatrix Communications           mobile  operating   \n",
       "38            10,021                   Diditz  network_hosting  operating   \n",
       "42           100,228                iHireHelp        education  operating   \n",
       "46           100,238          Cardiosolutions          medical  operating   \n",
       "\n",
       "   founded_at closed_at                  domain network_username country_code  \\\n",
       "0  2005-10-17       NaT        wetpaint-inc.com  BachelrWetpaint          USA   \n",
       "1  2005-10-17       NaT        wetpaint-inc.com  BachelrWetpaint          USA   \n",
       "2  2005-10-17       NaT        wetpaint-inc.com  BachelrWetpaint          USA   \n",
       "15 2007-10-01       NaT          friendfeed.com       friendfeed          USA   \n",
       "20 2008-03-01       NaT             mobclix.com          mobclix          USA   \n",
       "21 2007-10-01       NaT              fitbit.com           fitbit          USA   \n",
       "22 2007-10-01       NaT              fitbit.com           fitbit          USA   \n",
       "23 2007-10-01       NaT              fitbit.com           fitbit          USA   \n",
       "24 2007-10-01       NaT              fitbit.com           fitbit          USA   \n",
       "25 2007-10-01       NaT              fitbit.com           fitbit          USA   \n",
       "26 2003-01-01       NaT                mtpv.com              NaN          USA   \n",
       "27 2003-01-01       NaT                mtpv.com              NaN          USA   \n",
       "28 2003-01-01       NaT                mtpv.com              NaN          USA   \n",
       "32 2006-01-01       NaT          demandbase.com       Demandbase          USA   \n",
       "33 2006-01-01       NaT          demandbase.com       Demandbase          USA   \n",
       "34 2006-01-01       NaT          demandbase.com       Demandbase          USA   \n",
       "36 2003-11-01       NaT            locatrix.com              NaN          AUS   \n",
       "38 2008-01-01       NaT              diditz.com              NaN          IND   \n",
       "42 2010-10-01       NaT           ihirehelp.com        iHireHelp          USA   \n",
       "46 2006-01-01       NaT  cardiosolutionsinc.com              NaN          USA   \n",
       "\n",
       "    investment_rounds  ...  funding_round_id  company_id  funded_at  \\\n",
       "0                   0  ...               888           1 2005-10-01   \n",
       "1                   0  ...               889           1 2007-01-01   \n",
       "2                   0  ...             2,312           1 2008-05-19   \n",
       "15                  0  ...             1,644       1,001 2008-02-26   \n",
       "20                  0  ...             6,682      10,014 2008-09-01   \n",
       "21                  0  ...             3,619      10,015 2008-10-10   \n",
       "22                  0  ...            18,213      10,015 2010-09-10   \n",
       "23                  0  ...            27,747      10,015 2012-01-24   \n",
       "24                  0  ...            45,409      10,015 2013-08-13   \n",
       "25                  0  ...            54,006      10,015 2012-01-01   \n",
       "26                  0  ...            25,184     100,155 2011-09-06   \n",
       "27                  0  ...            27,815     100,155 2012-01-26   \n",
       "28                  0  ...            55,817     100,155 2011-03-08   \n",
       "32                  0  ...             3,257      10,018 2008-08-25   \n",
       "33                  0  ...            22,965      10,018 2011-05-12   \n",
       "34                  0  ...            36,591      10,018 2013-03-28   \n",
       "36                  0  ...            25,185     100,189 2003-11-01   \n",
       "38                  0  ...             3,256      10,021        NaT   \n",
       "42                  0  ...            25,187     100,228 2011-04-16   \n",
       "46                  0  ...            25,190     100,238 2011-09-06   \n",
       "\n",
       "    funding_round_type  raised_amount pre_money_valuation participants  \\\n",
       "0             series-a      5,250,000                   0            2   \n",
       "1             series-b      9,500,000                   0            3   \n",
       "2            series-c+     25,000,000                   0            4   \n",
       "15            series-a      5,000,000                   0            3   \n",
       "20               angel              0                   0            1   \n",
       "21            series-a      2,000,000                   0            2   \n",
       "22            series-b      9,000,000                   0            4   \n",
       "23           series-c+     12,000,000                   0            4   \n",
       "24           series-c+     43,000,000                   0            5   \n",
       "25             venture      2,069,200                   0            4   \n",
       "26            series-b      6,500,000                   0            3   \n",
       "27            series-b      3,250,000                   0            2   \n",
       "28               other        375,293                   0            0   \n",
       "32            series-b      8,000,000                   0            3   \n",
       "33           series-c+     10,000,000                   0            4   \n",
       "34           series-c+     15,000,000                   0            6   \n",
       "36               angel        250,000                   0            2   \n",
       "38               angel              0                   0            1   \n",
       "42               angel        100,000                   0            0   \n",
       "46             venture      3,300,000                   0            0   \n",
       "\n",
       "    is_first_round  is_last_round  fund_year  \n",
       "0                0              1      2,005  \n",
       "1                0              0      2,007  \n",
       "2                1              0      2,008  \n",
       "15               1              1      2,008  \n",
       "20               1              1      2,008  \n",
       "21               0              1      2,008  \n",
       "22               0              0      2,010  \n",
       "23               0              0      2,012  \n",
       "24               1              0      2,013  \n",
       "25               0              0      2,012  \n",
       "26               0              0      2,011  \n",
       "27               1              0      2,012  \n",
       "28               0              1      2,011  \n",
       "32               0              1      2,008  \n",
       "33               0              0      2,011  \n",
       "34               1              0      2,013  \n",
       "36               1              1      2,003  \n",
       "38               0              0        NaN  \n",
       "42               1              1      2,011  \n",
       "46               0              1      2,011  \n",
       "\n",
       "[20 rows x 23 columns]"
      ]
     },
     "execution_count": 60,
     "metadata": {},
     "output_type": "execute_result"
    }
   ],
   "source": [
    "df_company_and_rounds[df_company_and_rounds['company_id'].notna()].head(20)"
   ]
  },
  {
   "cell_type": "markdown",
   "metadata": {},
   "source": [
    "И правда в данных присутствует множество дубликатов компаний, однако информация об инвестиционных раундах для каждого наблюдения внутри одной компании различается. Вероятнее всего наличие дубликатов в таблице `df_company_and_rounds` было вызвано неправильным присоединением таблиц с информацией о компании и с информацией об инвестиционных раундов для компаний. Чтобы привести данные в подходящий для анализа вид, разделим таблицу на две части."
   ]
  },
  {
   "cell_type": "code",
   "execution_count": 61,
   "metadata": {},
   "outputs": [],
   "source": [
    "# Создадим таблицу с информацией о компаниях и сразу же удалим из него дубликаты, оставляя первые упоминания о компаниях\n",
    "df_company_info = df_company_and_rounds[['company_id_first', 'name', 'category_code', 'status', 'founded_at', 'closed_at', 'domain',\n",
    "                                        'network_username', 'country_code', 'investment_rounds',\n",
    "                                        'funding_rounds', 'funding_total', 'milestones'\n",
    "                                        ]].drop_duplicates(keep='first', inplace=False)"
   ]
  },
  {
   "cell_type": "code",
   "execution_count": 62,
   "metadata": {},
   "outputs": [
    {
     "data": {
      "text/html": [
       "<div>\n",
       "<style scoped>\n",
       "    .dataframe tbody tr th:only-of-type {\n",
       "        vertical-align: middle;\n",
       "    }\n",
       "\n",
       "    .dataframe tbody tr th {\n",
       "        vertical-align: top;\n",
       "    }\n",
       "\n",
       "    .dataframe thead th {\n",
       "        text-align: right;\n",
       "    }\n",
       "</style>\n",
       "<table border=\"1\" class=\"dataframe\">\n",
       "  <thead>\n",
       "    <tr style=\"text-align: right;\">\n",
       "      <th></th>\n",
       "      <th>company_id_first</th>\n",
       "      <th>name</th>\n",
       "      <th>category_code</th>\n",
       "      <th>status</th>\n",
       "      <th>founded_at</th>\n",
       "      <th>closed_at</th>\n",
       "      <th>domain</th>\n",
       "      <th>network_username</th>\n",
       "      <th>country_code</th>\n",
       "      <th>investment_rounds</th>\n",
       "      <th>funding_rounds</th>\n",
       "      <th>funding_total</th>\n",
       "      <th>milestones</th>\n",
       "    </tr>\n",
       "  </thead>\n",
       "  <tbody>\n",
       "    <tr>\n",
       "      <th>217472</th>\n",
       "      <td>NaN</td>\n",
       "      <td>NaN</td>\n",
       "      <td>NaN</td>\n",
       "      <td>NaN</td>\n",
       "      <td>NaT</td>\n",
       "      <td>NaT</td>\n",
       "      <td>NaN</td>\n",
       "      <td>NaN</td>\n",
       "      <td>NaN</td>\n",
       "      <td>NaN</td>\n",
       "      <td>NaN</td>\n",
       "      <td>NaN</td>\n",
       "      <td>NaN</td>\n",
       "    </tr>\n",
       "  </tbody>\n",
       "</table>\n",
       "</div>"
      ],
      "text/plain": [
       "        company_id_first name category_code status founded_at closed_at  \\\n",
       "217472               NaN  NaN           NaN    NaN        NaT       NaT   \n",
       "\n",
       "       domain network_username country_code  investment_rounds  \\\n",
       "217472    NaN              NaN          NaN                NaN   \n",
       "\n",
       "        funding_rounds  funding_total  milestones  \n",
       "217472             NaN            NaN         NaN  "
      ]
     },
     "execution_count": 62,
     "metadata": {},
     "output_type": "execute_result"
    }
   ],
   "source": [
    "# Проверим наличие пропусков в company_id_first\n",
    "df_company_info[df_company_info['company_id_first'].isna()]"
   ]
  },
  {
   "cell_type": "code",
   "execution_count": 63,
   "metadata": {
    "id": "SFfUmzron0Tc"
   },
   "outputs": [
    {
     "data": {
      "text/plain": [
       "'Найдено дубликатов:'"
      ]
     },
     "metadata": {},
     "output_type": "display_data"
    },
    {
     "data": {
      "text/plain": [
       "0"
      ]
     },
     "metadata": {},
     "output_type": "display_data"
    },
    {
     "name": "stdout",
     "output_type": "stream",
     "text": [
      "<class 'pandas.core.frame.DataFrame'>\n",
      "Int64Index: 196554 entries, 0 to 217472\n",
      "Data columns (total 13 columns):\n",
      " #   Column             Non-Null Count   Dtype         \n",
      "---  ------             --------------   -----         \n",
      " 0   company_id_first   196553 non-null  float64       \n",
      " 1   name               196553 non-null  object        \n",
      " 2   category_code      123186 non-null  object        \n",
      " 3   status             196553 non-null  object        \n",
      " 4   founded_at         91227 non-null   datetime64[ns]\n",
      " 5   closed_at          2620 non-null    datetime64[ns]\n",
      " 6   domain             126545 non-null  object        \n",
      " 7   network_username   80591 non-null   object        \n",
      " 8   country_code       87990 non-null   object        \n",
      " 9   investment_rounds  196553 non-null  float64       \n",
      " 10  funding_rounds     196553 non-null  float64       \n",
      " 11  funding_total      196553 non-null  float64       \n",
      " 12  milestones         196553 non-null  float64       \n",
      "dtypes: datetime64[ns](2), float64(5), object(6)\n",
      "memory usage: 21.0+ MB\n"
     ]
    },
    {
     "data": {
      "text/plain": [
       "None"
      ]
     },
     "metadata": {},
     "output_type": "display_data"
    }
   ],
   "source": [
    "# Проверим наличие дубликатов по идентификатору в новой таблице\n",
    "display('Найдено дубликатов:')\n",
    "display(df_company_info.duplicated(subset = 'company_id_first').sum())\n",
    "\n",
    "display(df_company_info.info())"
   ]
  },
  {
   "cell_type": "code",
   "execution_count": 64,
   "metadata": {},
   "outputs": [],
   "source": [
    "# В одном наблюдении отсутствует вся информация, поэтому удалим его из таблицы\n",
    "df_company_info_cleaned = df_company_info.dropna(subset = ['company_id_first'])"
   ]
  },
  {
   "cell_type": "code",
   "execution_count": 65,
   "metadata": {},
   "outputs": [
    {
     "data": {
      "text/plain": [
       "dtype('int32')"
      ]
     },
     "metadata": {},
     "output_type": "display_data"
    }
   ],
   "source": [
    "# Переведем столбец company_id_first к типу \"int\"\n",
    "df_company_info_final = df_company_info_cleaned.copy()\n",
    "df_company_info_final['company_id_first'] = pd.to_numeric(df_company_info_final['company_id_first'], downcast='integer')\n",
    "display(df_company_info_final['company_id_first'].dtypes)"
   ]
  },
  {
   "cell_type": "code",
   "execution_count": 66,
   "metadata": {},
   "outputs": [
    {
     "data": {
      "text/plain": [
       "Index(['company_id_first', 'name', 'category_code', 'status', 'founded_at',\n",
       "       'closed_at', 'domain', 'network_username', 'country_code',\n",
       "       'investment_rounds', 'funding_rounds', 'funding_total', 'milestones',\n",
       "       'funding_round_id', 'company_id', 'funded_at', 'funding_round_type',\n",
       "       'raised_amount', 'pre_money_valuation', 'participants',\n",
       "       'is_first_round', 'is_last_round', 'fund_year'],\n",
       "      dtype='object')"
      ]
     },
     "execution_count": 66,
     "metadata": {},
     "output_type": "execute_result"
    }
   ],
   "source": [
    "df_company_and_rounds.columns"
   ]
  },
  {
   "cell_type": "markdown",
   "metadata": {},
   "source": [
    "Теперь соберем таблицу с информацией об инвестиционных раундах:"
   ]
  },
  {
   "cell_type": "code",
   "execution_count": 67,
   "metadata": {},
   "outputs": [
    {
     "name": "stdout",
     "output_type": "stream",
     "text": [
      "<class 'pandas.core.frame.DataFrame'>\n",
      "Int64Index: 52928 entries, 0 to 217773\n",
      "Data columns (total 10 columns):\n",
      " #   Column               Non-Null Count  Dtype         \n",
      "---  ------               --------------  -----         \n",
      " 0   company_id           52928 non-null  float64       \n",
      " 1   funding_round_id     52928 non-null  float64       \n",
      " 2   funded_at            52680 non-null  datetime64[ns]\n",
      " 3   funding_round_type   52928 non-null  object        \n",
      " 4   raised_amount        52928 non-null  float64       \n",
      " 5   pre_money_valuation  52928 non-null  float64       \n",
      " 6   participants         52928 non-null  float64       \n",
      " 7   is_first_round       52928 non-null  float64       \n",
      " 8   is_last_round        52928 non-null  float64       \n",
      " 9   fund_year            52680 non-null  float64       \n",
      "dtypes: datetime64[ns](1), float64(8), object(1)\n",
      "memory usage: 4.4+ MB\n"
     ]
    }
   ],
   "source": [
    "# Так как единственное что может связывать информацию об инвестиционных райндах и информацию о компании - это столбец company_id,\n",
    "# сразу удалим наблюдения с пропусками в этом столбце\n",
    "df_invest = df_company_and_rounds[['company_id', 'funding_round_id', 'funded_at', 'funding_round_type', 'raised_amount', \n",
    "                                   'pre_money_valuation', 'participants', 'is_first_round', 'is_last_round', 'fund_year'\n",
    "                                  ]].dropna(subset = ['company_id'])\n",
    "df_invest.info()"
   ]
  },
  {
   "cell_type": "code",
   "execution_count": 68,
   "metadata": {},
   "outputs": [
    {
     "data": {
      "text/plain": [
       "0"
      ]
     },
     "execution_count": 68,
     "metadata": {},
     "output_type": "execute_result"
    }
   ],
   "source": [
    "# Проверим наличие явных дубликатов\n",
    "df_invest.duplicated().sum()"
   ]
  },
  {
   "cell_type": "code",
   "execution_count": 69,
   "metadata": {},
   "outputs": [
    {
     "data": {
      "text/plain": [
       "dtype('int32')"
      ]
     },
     "metadata": {},
     "output_type": "display_data"
    }
   ],
   "source": [
    "# Переведем столбец company_id к типу \"int\"\n",
    "df_invest_final = df_invest.copy()\n",
    "df_invest_final['company_id'] = pd.to_numeric(df_invest_final['company_id'], downcast='integer')\n",
    "display(df_invest_final['company_id'].dtypes)"
   ]
  },
  {
   "cell_type": "code",
   "execution_count": 70,
   "metadata": {},
   "outputs": [
    {
     "data": {
      "text/plain": [
       "'Количество уникальных компанией с информацией об инвестиционных раундах:'"
      ]
     },
     "metadata": {},
     "output_type": "display_data"
    },
    {
     "data": {
      "text/plain": [
       "31939"
      ]
     },
     "execution_count": 70,
     "metadata": {},
     "output_type": "execute_result"
    }
   ],
   "source": [
    "display('Количество уникальных компанией с информацией об инвестиционных раундах:')\n",
    "df_invest_final['company_id'].nunique()"
   ]
  },
  {
   "cell_type": "code",
   "execution_count": 71,
   "metadata": {},
   "outputs": [
    {
     "data": {
      "text/plain": [
       "'Процент компаний с наличием информации об инвестиционных раундах:'"
      ]
     },
     "metadata": {},
     "output_type": "display_data"
    },
    {
     "data": {
      "text/plain": [
       "16.25"
      ]
     },
     "execution_count": 71,
     "metadata": {},
     "output_type": "execute_result"
    }
   ],
   "source": [
    "display('Процент компаний с наличием информации об инвестиционных раундах:')\n",
    "round(df_invest_final['company_id'].nunique() / df_company_info_final.shape[0] * 100, 2)"
   ]
  },
  {
   "cell_type": "markdown",
   "metadata": {},
   "source": [
    "Таким образом, изначальный датасет `df_company_and_rounds` был разделен на две таблицы:\n",
    "1. Таблица **`df_company_info_final`** c описательной информацией о **196 553 компаниях**;\n",
    "2. Таблица **`df_invest_final`** с информацией об инвестиционных раундах для **31 939**, всего в таблице **52 928 наблюдений**.\n",
    "\n",
    "Информация об инвестиционных раундах в таблице `df_invest_final` содержится для **16.25%** компаний из таблицы `df_company_info_final`."
   ]
  },
  {
   "cell_type": "markdown",
   "metadata": {
    "id": "bmVYhphNrJg2"
   },
   "source": [
    "\n",
    "## Шаг 3. Исследовательский анализ объединённых таблиц\n",
    "\n"
   ]
  },
  {
   "cell_type": "markdown",
   "metadata": {
    "id": "3Di6tCT3rJg2"
   },
   "source": [
    "\n",
    "### 3.1. Объединение данных\n",
    "\n",
    "Объединим данные для ответа на вопросы заказчика, которые касаются интересующих его компаний.\n",
    "\n",
    "В качестве основы для объединённой таблицы возьмем данные из обработанного датасета `company_and_rounds.csv` — выберем только те компании, у которых указаны значения `funding_rounds` или `investment_rounds` больше нуля, и те, у которых в колонке `status` указано `acquired`.\n"
   ]
  },
  {
   "cell_type": "code",
   "execution_count": 72,
   "metadata": {
    "id": "mGYqoHS7rJg2"
   },
   "outputs": [],
   "source": [
    "df_company_filtered = df_company_info_final[(df_company_info_final['funding_rounds'] > 0) | \n",
    "                                            (df_company_info_final['investment_rounds'] > 0) |\n",
    "                                            (df_company_info_final['status'] == 'acquired')]"
   ]
  },
  {
   "cell_type": "code",
   "execution_count": 73,
   "metadata": {},
   "outputs": [
    {
     "name": "stdout",
     "output_type": "stream",
     "text": [
      "<class 'pandas.core.frame.DataFrame'>\n",
      "Int64Index: 40747 entries, 0 to 217469\n",
      "Data columns (total 13 columns):\n",
      " #   Column             Non-Null Count  Dtype         \n",
      "---  ------             --------------  -----         \n",
      " 0   company_id_first   40747 non-null  int32         \n",
      " 1   name               40747 non-null  object        \n",
      " 2   category_code      35315 non-null  object        \n",
      " 3   status             40747 non-null  object        \n",
      " 4   founded_at         27807 non-null  datetime64[ns]\n",
      " 5   closed_at          2128 non-null   datetime64[ns]\n",
      " 6   domain             35754 non-null  object        \n",
      " 7   network_username   20850 non-null  object        \n",
      " 8   country_code       34742 non-null  object        \n",
      " 9   investment_rounds  40747 non-null  float64       \n",
      " 10  funding_rounds     40747 non-null  float64       \n",
      " 11  funding_total      40747 non-null  float64       \n",
      " 12  milestones         40747 non-null  float64       \n",
      "dtypes: datetime64[ns](2), float64(4), int32(1), object(6)\n",
      "memory usage: 4.2+ MB\n"
     ]
    }
   ],
   "source": [
    "df_company_filtered.info()"
   ]
  },
  {
   "cell_type": "markdown",
   "metadata": {
    "id": "DFHINkV3rJg2"
   },
   "source": [
    "\n",
    "### 3.2. Анализ выбросов\n",
    "\n",
    "Заказчика интересует обычный для рассматриваемого периода размер средств, который предоставлялся компаниям.\n"
   ]
  },
  {
   "cell_type": "code",
   "execution_count": 74,
   "metadata": {
    "id": "8jm75fKXrJg2"
   },
   "outputs": [
    {
     "data": {
      "text/plain": [
       "count          40,747\n",
       "mean       10,135,610\n",
       "std        56,464,360\n",
       "min                 0\n",
       "25%                 0\n",
       "50%           600,000\n",
       "75%         5,650,650\n",
       "max     5,700,000,000\n",
       "Name: funding_total, dtype: float64"
      ]
     },
     "execution_count": 74,
     "metadata": {},
     "output_type": "execute_result"
    }
   ],
   "source": [
    "df_company_filtered['funding_total'].describe()"
   ]
  },
  {
   "cell_type": "markdown",
   "metadata": {},
   "source": [
    "Сразу же можно отметить, что распределение данных не похоже на нормальное. Среднее значение значительно отличается от медианного, при том что 75% данных в столбце меньше его среднего значения, что говорит о том, что в выборке присутствуют аномально большие выбросы (также это заметно по максимальному значению), которые искусственно смещают показатель среднего в большую сторону. Также стоит обратить внимание на большое стандартное отклонение."
   ]
  },
  {
   "cell_type": "code",
   "execution_count": 75,
   "metadata": {},
   "outputs": [],
   "source": [
    "# Определим пороги для выбросов с помощью межквартильного размаха IQR\n",
    "Q1 = df_company_filtered['funding_total'].quantile(0.25)\n",
    "\n",
    "Q3 = df_company_filtered['funding_total'].quantile(0.75)\n",
    "\n",
    "# Вычисляем IQR\n",
    "IQR = Q3 - Q1\n",
    "\n",
    "# Определим порог для верхних выбросов\n",
    "\n",
    "upper_bound = Q3 + 1.5*IQR"
   ]
  },
  {
   "cell_type": "code",
   "execution_count": 76,
   "metadata": {},
   "outputs": [
    {
     "data": {
      "image/png": "[encoded data removed]",
      "text/plain": [
       "<Figure size 1080x432 with 1 Axes>"
      ]
     },
     "metadata": {
      "needs_background": "light"
     },
     "output_type": "display_data"
    }
   ],
   "source": [
    "plt.figure(figsize=(15, 6))\n",
    "\n",
    "plt.boxplot(df_company_filtered[(df_company_filtered['funding_total'] > 0) & \n",
    "                                (df_company_filtered['funding_total'] < upper_bound)]['funding_total'],\n",
    "vert=False,\n",
    "flierprops=dict(markerfacecolor='r', marker='o'))\n",
    "plt.title('Распределение размера общего финансирования для одной компании')\n",
    "plt.xlabel('Размер общего финансирования')\n",
    "plt.grid(True)\n",
    "\n",
    "plt.ticklabel_format(style='plain', axis='x')\n",
    "\n",
    "plt.show()"
   ]
  },
  {
   "cell_type": "code",
   "execution_count": 77,
   "metadata": {},
   "outputs": [
    {
     "data": {
      "image/png": "[encoded data removed]",
      "text/plain": [
       "<Figure size 1008x432 with 1 Axes>"
      ]
     },
     "metadata": {
      "needs_background": "light"
     },
     "output_type": "display_data"
    }
   ],
   "source": [
    "plt.figure(figsize=(14, 6))\n",
    "    \n",
    "sns.histplot(data=df_company_filtered[(df_company_filtered['funding_total'] > 0) & \n",
    "                                     (df_company_filtered['funding_total'] < upper_bound)], x='funding_total', \n",
    "                                     bins = 30, kde = True)\n",
    "plt.title('Распределение размера общего финансирования для одной компании')\n",
    "plt.ylabel('Количество')\n",
    "plt.ticklabel_format(style='plain', axis='x')\n",
    "    \n",
    "plt.show()"
   ]
  },
  {
   "cell_type": "code",
   "execution_count": 78,
   "metadata": {},
   "outputs": [
    {
     "data": {
      "text/plain": [
       "1,000,000     698\n",
       "500,000       523\n",
       "100,000       480\n",
       "2,000,000     455\n",
       "5,000,000     378\n",
       "10,000,000    374\n",
       "50,000        369\n",
       "3,000,000     350\n",
       "250,000       349\n",
       "1,500,000     348\n",
       "4,000,000     259\n",
       "200,000       258\n",
       "150,000       249\n",
       "25,000        248\n",
       "6,000,000     239\n",
       "Name: funding_total, dtype: int64"
      ]
     },
     "execution_count": 78,
     "metadata": {},
     "output_type": "execute_result"
    }
   ],
   "source": [
    "df_company_filtered[(df_company_filtered['funding_total'] > 0) & \n",
    "                                     (df_company_filtered['funding_total'] < upper_bound)]['funding_total'].value_counts().head(15)"
   ]
  },
  {
   "cell_type": "markdown",
   "metadata": {},
   "source": [
    "Подавляющее большинство данных находится в отметке **0**, которая является 1 квартилем. Если рассматривать распределение без учета нулевых значений, то большинство все равно близко к нулю и находится до 2 000 000 у.е."
   ]
  },
  {
   "cell_type": "code",
   "execution_count": 79,
   "metadata": {},
   "outputs": [
    {
     "data": {
      "text/plain": [
       "1400000.0"
      ]
     },
     "metadata": {},
     "output_type": "display_data"
    },
    {
     "data": {
      "text/plain": [
       "14126625.0"
      ]
     },
     "metadata": {},
     "output_type": "display_data"
    }
   ],
   "source": [
    "# Посчитаем мединану без учета нулей и больших выбросов\n",
    "funding_total_median = df_company_filtered[(df_company_filtered['funding_total'] > 0) & \n",
    "                   (df_company_filtered['funding_total'] < upper_bound)]['funding_total'].quantile(0.5)\n",
    "display(funding_total_median)\n",
    "\n",
    "# Выведем правую границу выбросов\n",
    "display(upper_bound)"
   ]
  },
  {
   "cell_type": "markdown",
   "metadata": {},
   "source": [
    "Таким образом, типичным значением размера общего финансирования для одной компании без учета нулей и больших выбросов можно назвать **1 400 000** у.е. А выбивающимися будут значения от **14 126 625** у.е."
   ]
  },
  {
   "cell_type": "markdown",
   "metadata": {
    "id": "JqkRAQrIrJg2"
   },
   "source": [
    "\n",
    "### 3.3. Исследуем компании, которые были проданы за ноль или за один доллар, и при этом известно, что у них был ненулевой общий объём финансирования.\n"
   ]
  },
  {
   "cell_type": "code",
   "execution_count": 82,
   "metadata": {},
   "outputs": [],
   "source": [
    "df_acquisition_free = df_acquisition[(df_acquisition['price_amount'] == 0) | (df_acquisition['price_amount'] == 1)]"
   ]
  },
  {
   "cell_type": "code",
   "execution_count": 83,
   "metadata": {},
   "outputs": [],
   "source": [
    "df_company_free = df_company_filtered[(df_company_filtered['company_id_first'].isin(df_acquisition_free['acquired_company_id'].unique())) &\n",
    "                                      (df_company_filtered['status'] == 'acquired') &\n",
    "                                      (df_company_filtered['funding_total'] > 0)]"
   ]
  },
  {
   "cell_type": "code",
   "execution_count": 84,
   "metadata": {},
   "outputs": [
    {
     "data": {
      "text/plain": [
       "count           1,593\n",
       "mean       17,989,939\n",
       "std       145,312,236\n",
       "min             3,750\n",
       "25%         2,000,000\n",
       "50%         6,000,000\n",
       "75%        15,400,000\n",
       "max     5,700,000,000\n",
       "Name: funding_total, dtype: float64"
      ]
     },
     "execution_count": 84,
     "metadata": {},
     "output_type": "execute_result"
    }
   ],
   "source": [
    "df_company_free['funding_total'].describe()"
   ]
  },
  {
   "cell_type": "code",
   "execution_count": 85,
   "metadata": {
    "id": "-kA4CO27n2ql"
   },
   "outputs": [],
   "source": [
    "Q1_free = df_company_free['funding_total'].quantile(0.25)\n",
    "\n",
    "Q3_free = df_company_free['funding_total'].quantile(0.75)\n",
    "\n",
    "# Вычисляем IQR\n",
    "IQR_free = Q3_free - Q1_free\n",
    "\n",
    "# Определим порог для выбросов\n",
    "lowwer_bound_free = Q1_free - 1.5*IQR_free\n",
    "upper_bound_free = Q3_free + 1.5*IQR_free"
   ]
  },
  {
   "cell_type": "code",
   "execution_count": 86,
   "metadata": {},
   "outputs": [
    {
     "data": {
      "text/plain": [
       "-18100000.0"
      ]
     },
     "metadata": {},
     "output_type": "display_data"
    },
    {
     "data": {
      "text/plain": [
       "35500000.0"
      ]
     },
     "metadata": {},
     "output_type": "display_data"
    }
   ],
   "source": [
    "display(lowwer_bound_free)\n",
    "display(upper_bound_free)"
   ]
  },
  {
   "cell_type": "code",
   "execution_count": 87,
   "metadata": {},
   "outputs": [
    {
     "data": {
      "text/plain": [
       "35108000.00000001"
      ]
     },
     "execution_count": 87,
     "metadata": {},
     "output_type": "execute_result"
    }
   ],
   "source": [
    "df_company_free['funding_total'].quantile(0.91)"
   ]
  },
  {
   "cell_type": "markdown",
   "metadata": {},
   "source": [
    "Правая граница интервала выбросов соответствует примерно 91 процентилю, нижняя граница получилась отрицательная из-за большого значения межквартильного размаха. Ввиду большого количества аномально больших значений и сосредоточения основной массы данных в левой части имеет смысл использовать только правую границу выбросов."
   ]
  },
  {
   "cell_type": "code",
   "execution_count": 88,
   "metadata": {},
   "outputs": [
    {
     "data": {
      "image/png": "[encoded data removed]",
      "text/plain": [
       "<Figure size 1008x432 with 1 Axes>"
      ]
     },
     "metadata": {
      "needs_background": "light"
     },
     "output_type": "display_data"
    }
   ],
   "source": [
    "plt.figure(figsize=(14, 6))\n",
    "    \n",
    "sns.histplot(data=df_company_free[df_company_free['funding_total'] < upper_bound_free], x='funding_total', bins = 30, kde = True)\n",
    "plt.title('Распределение размера общего финансирования для одной компании')\n",
    "plt.ylabel('Количество')\n",
    "plt.ticklabel_format(style='plain', axis='x')\n",
    "    \n",
    "plt.show()"
   ]
  },
  {
   "cell_type": "code",
   "execution_count": 89,
   "metadata": {},
   "outputs": [
    {
     "data": {
      "text/plain": [
       "count        1,450\n",
       "mean     8,309,399\n",
       "std      8,527,973\n",
       "min          3,750\n",
       "25%      1,775,000\n",
       "50%      5,101,705\n",
       "75%     12,000,000\n",
       "max     35,150,000\n",
       "Name: funding_total, dtype: float64"
      ]
     },
     "execution_count": 89,
     "metadata": {},
     "output_type": "execute_result"
    }
   ],
   "source": [
    "df_company_free[df_company_free['funding_total'] < upper_bound_free]['funding_total'].describe()"
   ]
  },
  {
   "cell_type": "markdown",
   "metadata": {},
   "source": [
    "Стоит отметить, что даже при отсечении выбросов с помощью рассчитанного значения интервала выбросов график распределения значений смещен влево с длинным правым хвостом аномально больших значений. Поэтому для более точного анализа типичного размера финансирования компании лучше использовать меньший процентиль."
   ]
  },
  {
   "cell_type": "markdown",
   "metadata": {
    "id": "mEiWpROjrJg2"
   },
   "source": [
    "\n",
    "### 3.4. Цены стартапов по категориям\n",
    "\n",
    "Категории стартапов с наибольшими ценами и значительным разбросом цен могут быть наиболее привлекательными для крупных инвесторов, которые готовы к высоким рискам ради потенциально больших доходов. Среди категорий стартапов выделим категории стартапов, характеризующиеся:\n",
    "\n",
    "* наибольшими ценами;\n",
    "* и наибольшим разбросом цен за стартап.\n"
   ]
  },
  {
   "cell_type": "code",
   "execution_count": 90,
   "metadata": {
    "id": "jQ09dYUWrJg2"
   },
   "outputs": [
    {
     "name": "stdout",
     "output_type": "stream",
     "text": [
      "<class 'pandas.core.frame.DataFrame'>\n",
      "Int64Index: 40747 entries, 0 to 217469\n",
      "Data columns (total 13 columns):\n",
      " #   Column             Non-Null Count  Dtype         \n",
      "---  ------             --------------  -----         \n",
      " 0   company_id_first   40747 non-null  int32         \n",
      " 1   name               40747 non-null  object        \n",
      " 2   category_code      35315 non-null  object        \n",
      " 3   status             40747 non-null  object        \n",
      " 4   founded_at         27807 non-null  datetime64[ns]\n",
      " 5   closed_at          2128 non-null   datetime64[ns]\n",
      " 6   domain             35754 non-null  object        \n",
      " 7   network_username   20850 non-null  object        \n",
      " 8   country_code       34742 non-null  object        \n",
      " 9   investment_rounds  40747 non-null  float64       \n",
      " 10  funding_rounds     40747 non-null  float64       \n",
      " 11  funding_total      40747 non-null  float64       \n",
      " 12  milestones         40747 non-null  float64       \n",
      "dtypes: datetime64[ns](2), float64(4), int32(1), object(6)\n",
      "memory usage: 4.2+ MB\n"
     ]
    }
   ],
   "source": [
    "df_company_filtered.info()"
   ]
  },
  {
   "cell_type": "code",
   "execution_count": 91,
   "metadata": {},
   "outputs": [],
   "source": [
    "# Поставим значение-индикатор вместо пропусков в столбце с категорией\n",
    "df_company_category = df_company_filtered.copy()\n",
    "df_company_category['category_code'] = df_company_category['category_code'].fillna('no_info')"
   ]
  },
  {
   "cell_type": "markdown",
   "metadata": {},
   "source": [
    "Так как в данных присутствуют большие выбросы для вычисления типичного значения подсчитаем медиану, а ткже стандартное отклонение и количество наблюдений в разрезе категорий:"
   ]
  },
  {
   "cell_type": "code",
   "execution_count": 92,
   "metadata": {},
   "outputs": [],
   "source": [
    "df_company_category_grouped = df_company_category.groupby('category_code')['funding_total'].agg(\n",
    "    ['median', 'std', 'count']).sort_values(by = 'std', ascending = False)"
   ]
  },
  {
   "cell_type": "code",
   "execution_count": 93,
   "metadata": {},
   "outputs": [
    {
     "data": {
      "text/html": [
       "<div>\n",
       "<style scoped>\n",
       "    .dataframe tbody tr th:only-of-type {\n",
       "        vertical-align: middle;\n",
       "    }\n",
       "\n",
       "    .dataframe tbody tr th {\n",
       "        vertical-align: top;\n",
       "    }\n",
       "\n",
       "    .dataframe thead th {\n",
       "        text-align: right;\n",
       "    }\n",
       "</style>\n",
       "<table border=\"1\" class=\"dataframe\">\n",
       "  <thead>\n",
       "    <tr style=\"text-align: right;\">\n",
       "      <th></th>\n",
       "      <th>median</th>\n",
       "      <th>std</th>\n",
       "      <th>count</th>\n",
       "    </tr>\n",
       "    <tr>\n",
       "      <th>category_code</th>\n",
       "      <th></th>\n",
       "      <th></th>\n",
       "      <th></th>\n",
       "    </tr>\n",
       "  </thead>\n",
       "  <tbody>\n",
       "    <tr>\n",
       "      <th>automotive</th>\n",
       "      <td>1,300,000</td>\n",
       "      <td>183,204,652</td>\n",
       "      <td>89</td>\n",
       "    </tr>\n",
       "    <tr>\n",
       "      <th>mobile</th>\n",
       "      <td>800,000</td>\n",
       "      <td>145,979,244</td>\n",
       "      <td>2359</td>\n",
       "    </tr>\n",
       "    <tr>\n",
       "      <th>social</th>\n",
       "      <td>355,000</td>\n",
       "      <td>111,475,778</td>\n",
       "      <td>614</td>\n",
       "    </tr>\n",
       "    <tr>\n",
       "      <th>health</th>\n",
       "      <td>1,000,000</td>\n",
       "      <td>105,034,086</td>\n",
       "      <td>650</td>\n",
       "    </tr>\n",
       "    <tr>\n",
       "      <th>nanotech</th>\n",
       "      <td>5,115,960</td>\n",
       "      <td>95,961,092</td>\n",
       "      <td>60</td>\n",
       "    </tr>\n",
       "    <tr>\n",
       "      <th>manufacturing</th>\n",
       "      <td>1,895,040</td>\n",
       "      <td>93,045,301</td>\n",
       "      <td>394</td>\n",
       "    </tr>\n",
       "    <tr>\n",
       "      <th>cleantech</th>\n",
       "      <td>6,000,000</td>\n",
       "      <td>92,155,505</td>\n",
       "      <td>1145</td>\n",
       "    </tr>\n",
       "    <tr>\n",
       "      <th>network_hosting</th>\n",
       "      <td>2,000,000</td>\n",
       "      <td>62,888,384</td>\n",
       "      <td>634</td>\n",
       "    </tr>\n",
       "    <tr>\n",
       "      <th>public_relations</th>\n",
       "      <td>450,000</td>\n",
       "      <td>58,402,710</td>\n",
       "      <td>591</td>\n",
       "    </tr>\n",
       "    <tr>\n",
       "      <th>biotech</th>\n",
       "      <td>4,000,000</td>\n",
       "      <td>54,657,913</td>\n",
       "      <td>3597</td>\n",
       "    </tr>\n",
       "    <tr>\n",
       "      <th>transportation</th>\n",
       "      <td>1,100,000</td>\n",
       "      <td>53,727,782</td>\n",
       "      <td>99</td>\n",
       "    </tr>\n",
       "    <tr>\n",
       "      <th>hardware</th>\n",
       "      <td>1,408,400</td>\n",
       "      <td>50,787,384</td>\n",
       "      <td>1233</td>\n",
       "    </tr>\n",
       "    <tr>\n",
       "      <th>news</th>\n",
       "      <td>908,014</td>\n",
       "      <td>50,547,177</td>\n",
       "      <td>238</td>\n",
       "    </tr>\n",
       "    <tr>\n",
       "      <th>government</th>\n",
       "      <td>15,000</td>\n",
       "      <td>48,658,097</td>\n",
       "      <td>17</td>\n",
       "    </tr>\n",
       "    <tr>\n",
       "      <th>travel</th>\n",
       "      <td>605,750</td>\n",
       "      <td>48,067,844</td>\n",
       "      <td>240</td>\n",
       "    </tr>\n",
       "  </tbody>\n",
       "</table>\n",
       "</div>"
      ],
      "text/plain": [
       "                    median         std  count\n",
       "category_code                                \n",
       "automotive       1,300,000 183,204,652     89\n",
       "mobile             800,000 145,979,244   2359\n",
       "social             355,000 111,475,778    614\n",
       "health           1,000,000 105,034,086    650\n",
       "nanotech         5,115,960  95,961,092     60\n",
       "manufacturing    1,895,040  93,045,301    394\n",
       "cleantech        6,000,000  92,155,505   1145\n",
       "network_hosting  2,000,000  62,888,384    634\n",
       "public_relations   450,000  58,402,710    591\n",
       "biotech          4,000,000  54,657,913   3597\n",
       "transportation   1,100,000  53,727,782     99\n",
       "hardware         1,408,400  50,787,384   1233\n",
       "news               908,014  50,547,177    238\n",
       "government          15,000  48,658,097     17\n",
       "travel             605,750  48,067,844    240"
      ]
     },
     "execution_count": 93,
     "metadata": {},
     "output_type": "execute_result"
    }
   ],
   "source": [
    "df_company_category_grouped.head(15)"
   ]
  },
  {
   "cell_type": "markdown",
   "metadata": {},
   "source": [
    "Самые большие стандартные отклонения заметны у первых семи категорий, поэтому оставим ТОП-7 категорий:"
   ]
  },
  {
   "cell_type": "code",
   "execution_count": 94,
   "metadata": {
    "id": "MFONscXPn29F"
   },
   "outputs": [
    {
     "data": {
      "image/png": "[encoded data removed]",
      "text/plain": [
       "<Figure size 432x432 with 2 Axes>"
      ]
     },
     "metadata": {
      "needs_background": "light"
     },
     "output_type": "display_data"
    }
   ],
   "source": [
    "plt.figure(figsize=(6, 6))\n",
    "\n",
    "sns.heatmap(data=df_company_category_grouped.head(7), annot=True, fmt='.2f', linewidths=0.5, cmap='coolwarm')\n",
    "plt.title('ТОП-7 категорий стартапов \\n по стандартному отклонению цены')\n",
    "\n",
    "plt.show()"
   ]
  },
  {
   "cell_type": "markdown",
   "metadata": {},
   "source": [
    "Самое большое стандартное отклонение присутствует в категории `automotive`. В этой категории цены стартапов могут отличаться от среднего значения на **183 млн** у.е., что может говорить о потенциально большом выйгрыше для инвестора.\n",
    "\n",
    "На втором месте категория `mobile` со стандартным отклонением в **146 млн** у.е.\n",
    "\n",
    "На последнем месте в ТОП-7 категория `cleantech` со стандартным отклонением в **92 млн** у.е.\n",
    "\n",
    "В категориях, не входящих в ТОП-7 стандартное отклонение не превышает **63 млн** у.е."
   ]
  },
  {
   "cell_type": "markdown",
   "metadata": {},
   "source": [
    "Также проанализируем значения по медианной сумме:"
   ]
  },
  {
   "cell_type": "code",
   "execution_count": 95,
   "metadata": {},
   "outputs": [],
   "source": [
    "df_company_category_grouped_median = df_company_category.groupby('category_code')['funding_total'].agg(\n",
    "    ['median', 'std', 'count']).sort_values(by = 'median', ascending = False)"
   ]
  },
  {
   "cell_type": "code",
   "execution_count": 96,
   "metadata": {},
   "outputs": [
    {
     "data": {
      "text/html": [
       "<div>\n",
       "<style scoped>\n",
       "    .dataframe tbody tr th:only-of-type {\n",
       "        vertical-align: middle;\n",
       "    }\n",
       "\n",
       "    .dataframe tbody tr th {\n",
       "        vertical-align: top;\n",
       "    }\n",
       "\n",
       "    .dataframe thead th {\n",
       "        text-align: right;\n",
       "    }\n",
       "</style>\n",
       "<table border=\"1\" class=\"dataframe\">\n",
       "  <thead>\n",
       "    <tr style=\"text-align: right;\">\n",
       "      <th></th>\n",
       "      <th>median</th>\n",
       "      <th>std</th>\n",
       "      <th>count</th>\n",
       "    </tr>\n",
       "    <tr>\n",
       "      <th>category_code</th>\n",
       "      <th></th>\n",
       "      <th></th>\n",
       "      <th></th>\n",
       "    </tr>\n",
       "  </thead>\n",
       "  <tbody>\n",
       "    <tr>\n",
       "      <th>semiconductor</th>\n",
       "      <td>8,100,000</td>\n",
       "      <td>39,924,605</td>\n",
       "      <td>551</td>\n",
       "    </tr>\n",
       "    <tr>\n",
       "      <th>cleantech</th>\n",
       "      <td>6,000,000</td>\n",
       "      <td>92,155,505</td>\n",
       "      <td>1145</td>\n",
       "    </tr>\n",
       "    <tr>\n",
       "      <th>medical</th>\n",
       "      <td>5,400,000</td>\n",
       "      <td>33,549,833</td>\n",
       "      <td>703</td>\n",
       "    </tr>\n",
       "    <tr>\n",
       "      <th>nanotech</th>\n",
       "      <td>5,115,960</td>\n",
       "      <td>95,961,092</td>\n",
       "      <td>60</td>\n",
       "    </tr>\n",
       "    <tr>\n",
       "      <th>biotech</th>\n",
       "      <td>4,000,000</td>\n",
       "      <td>54,657,913</td>\n",
       "      <td>3597</td>\n",
       "    </tr>\n",
       "    <tr>\n",
       "      <th>security</th>\n",
       "      <td>2,024,640</td>\n",
       "      <td>44,979,657</td>\n",
       "      <td>495</td>\n",
       "    </tr>\n",
       "    <tr>\n",
       "      <th>analytics</th>\n",
       "      <td>2,000,000</td>\n",
       "      <td>28,934,650</td>\n",
       "      <td>701</td>\n",
       "    </tr>\n",
       "    <tr>\n",
       "      <th>network_hosting</th>\n",
       "      <td>2,000,000</td>\n",
       "      <td>62,888,384</td>\n",
       "      <td>634</td>\n",
       "    </tr>\n",
       "    <tr>\n",
       "      <th>manufacturing</th>\n",
       "      <td>1,895,040</td>\n",
       "      <td>93,045,301</td>\n",
       "      <td>394</td>\n",
       "    </tr>\n",
       "    <tr>\n",
       "      <th>enterprise</th>\n",
       "      <td>1,617,100</td>\n",
       "      <td>36,622,224</td>\n",
       "      <td>1878</td>\n",
       "    </tr>\n",
       "    <tr>\n",
       "      <th>hardware</th>\n",
       "      <td>1,408,400</td>\n",
       "      <td>50,787,384</td>\n",
       "      <td>1233</td>\n",
       "    </tr>\n",
       "    <tr>\n",
       "      <th>finance</th>\n",
       "      <td>1,350,000</td>\n",
       "      <td>35,946,260</td>\n",
       "      <td>617</td>\n",
       "    </tr>\n",
       "    <tr>\n",
       "      <th>automotive</th>\n",
       "      <td>1,300,000</td>\n",
       "      <td>183,204,652</td>\n",
       "      <td>89</td>\n",
       "    </tr>\n",
       "    <tr>\n",
       "      <th>fashion</th>\n",
       "      <td>1,200,000</td>\n",
       "      <td>39,689,171</td>\n",
       "      <td>251</td>\n",
       "    </tr>\n",
       "    <tr>\n",
       "      <th>transportation</th>\n",
       "      <td>1,100,000</td>\n",
       "      <td>53,727,782</td>\n",
       "      <td>99</td>\n",
       "    </tr>\n",
       "  </tbody>\n",
       "</table>\n",
       "</div>"
      ],
      "text/plain": [
       "                   median         std  count\n",
       "category_code                               \n",
       "semiconductor   8,100,000  39,924,605    551\n",
       "cleantech       6,000,000  92,155,505   1145\n",
       "medical         5,400,000  33,549,833    703\n",
       "nanotech        5,115,960  95,961,092     60\n",
       "biotech         4,000,000  54,657,913   3597\n",
       "security        2,024,640  44,979,657    495\n",
       "analytics       2,000,000  28,934,650    701\n",
       "network_hosting 2,000,000  62,888,384    634\n",
       "manufacturing   1,895,040  93,045,301    394\n",
       "enterprise      1,617,100  36,622,224   1878\n",
       "hardware        1,408,400  50,787,384   1233\n",
       "finance         1,350,000  35,946,260    617\n",
       "automotive      1,300,000 183,204,652     89\n",
       "fashion         1,200,000  39,689,171    251\n",
       "transportation  1,100,000  53,727,782     99"
      ]
     },
     "execution_count": 96,
     "metadata": {},
     "output_type": "execute_result"
    }
   ],
   "source": [
    "df_company_category_grouped_median.head(15)"
   ]
  },
  {
   "cell_type": "code",
   "execution_count": 97,
   "metadata": {},
   "outputs": [
    {
     "data": {
      "image/png": "[encoded data removed]",
      "text/plain": [
       "<Figure size 432x432 with 2 Axes>"
      ]
     },
     "metadata": {
      "needs_background": "light"
     },
     "output_type": "display_data"
    }
   ],
   "source": [
    "plt.figure(figsize=(6, 6))\n",
    "\n",
    "sns.heatmap(data=df_company_category_grouped_median.head(5), annot=True, fmt='.2f', linewidths=0.5, cmap='coolwarm')\n",
    "plt.title('ТОП-5 категорий стартапов \\n по медианному значению цены')\n",
    "\n",
    "plt.show()"
   ]
  },
  {
   "cell_type": "markdown",
   "metadata": {},
   "source": [
    "По медианному значению можно выделить ТОП-5 категорий с наибольшими ценами от **4 000 000 до 8 100 000** В остальных категориях медианная цена не превышает **2 млн у.е.**. Лидером по цене стала категория `semiconductor`. Однако стоит отметить, что самыми большими стандартными отклонениями **(около 94 млн у.е.)** в ТОП-5 выделяются категории `cleantech` и `nanotech`."
   ]
  },
  {
   "cell_type": "markdown",
   "metadata": {
    "id": "ADOfyVY_rJg3"
   },
   "source": [
    "\n",
    "### 3.5. Сколько раундов продержится стартап перед покупкой\n",
    "\n",
    "* Проанализируем столбец `funding_rounds`. Заказчика интересует типичное значение количества раундов для каждого возможного статуса стартапа.\n"
   ]
  },
  {
   "cell_type": "code",
   "execution_count": 98,
   "metadata": {
    "id": "hgXMPC4WrJg3"
   },
   "outputs": [
    {
     "name": "stdout",
     "output_type": "stream",
     "text": [
      "<class 'pandas.core.frame.DataFrame'>\n",
      "Int64Index: 196553 entries, 0 to 217469\n",
      "Data columns (total 13 columns):\n",
      " #   Column             Non-Null Count   Dtype         \n",
      "---  ------             --------------   -----         \n",
      " 0   company_id_first   196553 non-null  int32         \n",
      " 1   name               196553 non-null  object        \n",
      " 2   category_code      123186 non-null  object        \n",
      " 3   status             196553 non-null  object        \n",
      " 4   founded_at         91227 non-null   datetime64[ns]\n",
      " 5   closed_at          2620 non-null    datetime64[ns]\n",
      " 6   domain             126545 non-null  object        \n",
      " 7   network_username   80591 non-null   object        \n",
      " 8   country_code       87990 non-null   object        \n",
      " 9   investment_rounds  196553 non-null  float64       \n",
      " 10  funding_rounds     196553 non-null  float64       \n",
      " 11  funding_total      196553 non-null  float64       \n",
      " 12  milestones         196553 non-null  float64       \n",
      "dtypes: datetime64[ns](2), float64(4), int32(1), object(6)\n",
      "memory usage: 20.2+ MB\n"
     ]
    }
   ],
   "source": [
    "df_company_info_final.info()"
   ]
  },
  {
   "cell_type": "code",
   "execution_count": 99,
   "metadata": {},
   "outputs": [
    {
     "data": {
      "text/plain": [
       "count   196,553\n",
       "mean          0\n",
       "std           1\n",
       "min           0\n",
       "25%           0\n",
       "50%           0\n",
       "75%           0\n",
       "max          15\n",
       "Name: funding_rounds, dtype: float64"
      ]
     },
     "execution_count": 99,
     "metadata": {},
     "output_type": "execute_result"
    }
   ],
   "source": [
    "# Рассмотрим как распределены значения в столбце funding_rounds\n",
    "df_company_info_final['funding_rounds'].describe()"
   ]
  },
  {
   "cell_type": "code",
   "execution_count": 100,
   "metadata": {},
   "outputs": [
    {
     "data": {
      "text/plain": [
       "0.0"
      ]
     },
     "execution_count": 100,
     "metadata": {},
     "output_type": "execute_result"
    }
   ],
   "source": [
    "df_company_info_final['funding_rounds'].quantile(0.80)"
   ]
  },
  {
   "cell_type": "markdown",
   "metadata": {},
   "source": [
    "Около 80% значений в столбце равняются нулю, для более коректного анализа рассмотрим типичные значения без учета нулевых значений:"
   ]
  },
  {
   "cell_type": "code",
   "execution_count": 101,
   "metadata": {},
   "outputs": [],
   "source": [
    "df_company_status = df_company_info_final[df_company_info_final['funding_rounds'] != 0].groupby('status')['funding_rounds'].agg(\n",
    "    ['mean', 'min', 'max', 'count']).sort_values(by = 'mean', ascending = False)"
   ]
  },
  {
   "cell_type": "code",
   "execution_count": 102,
   "metadata": {},
   "outputs": [
    {
     "data": {
      "text/html": [
       "<div>\n",
       "<style scoped>\n",
       "    .dataframe tbody tr th:only-of-type {\n",
       "        vertical-align: middle;\n",
       "    }\n",
       "\n",
       "    .dataframe tbody tr th {\n",
       "        vertical-align: top;\n",
       "    }\n",
       "\n",
       "    .dataframe thead th {\n",
       "        text-align: right;\n",
       "    }\n",
       "</style>\n",
       "<table border=\"1\" class=\"dataframe\">\n",
       "  <thead>\n",
       "    <tr style=\"text-align: right;\">\n",
       "      <th></th>\n",
       "      <th>mean</th>\n",
       "      <th>min</th>\n",
       "      <th>max</th>\n",
       "      <th>count</th>\n",
       "    </tr>\n",
       "    <tr>\n",
       "      <th>status</th>\n",
       "      <th></th>\n",
       "      <th></th>\n",
       "      <th></th>\n",
       "      <th></th>\n",
       "    </tr>\n",
       "  </thead>\n",
       "  <tbody>\n",
       "    <tr>\n",
       "      <th>ipo</th>\n",
       "      <td>3</td>\n",
       "      <td>1</td>\n",
       "      <td>13</td>\n",
       "      <td>490</td>\n",
       "    </tr>\n",
       "    <tr>\n",
       "      <th>acquired</th>\n",
       "      <td>2</td>\n",
       "      <td>1</td>\n",
       "      <td>12</td>\n",
       "      <td>2593</td>\n",
       "    </tr>\n",
       "    <tr>\n",
       "      <th>operating</th>\n",
       "      <td>2</td>\n",
       "      <td>1</td>\n",
       "      <td>15</td>\n",
       "      <td>26535</td>\n",
       "    </tr>\n",
       "    <tr>\n",
       "      <th>closed</th>\n",
       "      <td>1</td>\n",
       "      <td>1</td>\n",
       "      <td>8</td>\n",
       "      <td>2089</td>\n",
       "    </tr>\n",
       "  </tbody>\n",
       "</table>\n",
       "</div>"
      ],
      "text/plain": [
       "           mean  min  max  count\n",
       "status                          \n",
       "ipo           3    1   13    490\n",
       "acquired      2    1   12   2593\n",
       "operating     2    1   15  26535\n",
       "closed        1    1    8   2089"
      ]
     },
     "execution_count": 102,
     "metadata": {},
     "output_type": "execute_result"
    }
   ],
   "source": [
    "df_company_status"
   ]
  },
  {
   "cell_type": "markdown",
   "metadata": {},
   "source": [
    "В среднем больше всего раундов **(3)** характерно для статуса `ipo`. Для статуса `closed` характерен в среднем **1** раунд. А для категорий `acquired` и `operating` по **2** раунда. Минимальное значение для каждого статуса без учета нулевых значений это **1**. В то время как самым большим максимальным количеством раундовотличается статус `operating` - **15** раундов, а наименьшим - статус `closed` с **8** раундами."
   ]
  },
  {
   "cell_type": "code",
   "execution_count": 103,
   "metadata": {},
   "outputs": [
    {
     "data": {
      "image/png": "[encoded data removed]",
      "text/plain": [
       "<Figure size 432x288 with 1 Axes>"
      ]
     },
     "metadata": {
      "needs_background": "light"
     },
     "output_type": "display_data"
    }
   ],
   "source": [
    "df_company_status.reset_index().plot(kind='bar', x='status', y=['mean', 'max'])\n",
    "\n",
    "plt.xlabel('Статус')\n",
    "plt.ylabel('Количество раундов')\n",
    "plt.title('Количество раундов в зависимоти от статуса')\n",
    "plt.xticks(rotation=0)\n",
    "plt.legend(title='Показатель')\n",
    "\n",
    "plt.show()"
   ]
  },
  {
   "cell_type": "markdown",
   "metadata": {
    "id": "VAFEZ2HBrJg3"
   },
   "source": [
    "\n",
    "## Шаг 4. Итоговый вывод и рекомендации\n",
    "\n"
   ]
  },
  {
   "cell_type": "markdown",
   "metadata": {},
   "source": [
    "**1. Общий обзор работы**\n",
    "В ходе проведенного исследования была проанализирована информация о компаниях стартапах. Детально была рассмотрена информация о раундах финансирования компаний, а также информация о сотрудниках компании и их образования.\n",
    "\n",
    "**На первом этапе работы** удалось провести предобработку данных. \n",
    "- Временные данные были переведены в соответствующий формат для анализа.\n",
    "- Таблица `company and rounds` была разделена на две самоостоятельные таблицы ввиду ошибки хранения данных.\n",
    "- Были созданы значения-индикаторы для более качественного анализа.\n",
    "\n",
    "**На втором этапе работы** был проведен исследовательский анализ данных, который включал в себя:\n",
    "   - анализ типичного количества раундов финансирования по годам;\n",
    "   - анализ доли компаний с наличием информации об образовании сотрудников;\n",
    "   - анализ выбросов размера финансирования для приобретенных компаний;\n",
    "   - анализ компаний проданных бесплатно;\n",
    "   - анализ цен компаний в разрезе категорий деятельности;\n",
    "   - анализ количества раундов в зависимости от статуса компании."
   ]
  },
  {
   "cell_type": "markdown",
   "metadata": {},
   "source": [
    "**2. Ответы на исследовательские вопросы**\n",
    "\n",
    "- **Количество раундов финансирования по годам**. В **2005 году** типичный размер средств в рамках одного раунда финансирования был максимальным и составлял **5 500 000** у.е. По всему периоду можно отметить динамичное снижение объема за счет увеличения числа раундов. \n",
    "- **Доля компаний с наличием информации об образовании сотрудников**. В основном для компаний типично наличие информации об одном сотруднике. Самая большая доля сотрудников без наличия информации об образовании находится в компаниях с `1-2 сотрудниками` и составляет **18%**. В остальных категориях **16%**.\n",
    "- **Выбросы размера финансирования для приобретенных компаний**. Большое количество значений находится в отметке **0**. Аномально большими значениями можно считать значения от **14 126 625** у.е. А типичным значением размера общего финансирования для одной компании без учета нулей и больших выбросов можно назвать **1 400 000** у.е.\n",
    "- **Компании, проданные бесплатно**. Для компаний, проданных за 1 или 0 у.е., граница выбросов выше и составляет около **35 000 000** у.е. по рассчетным значениям. Типичное значение финасирования также выше чем у полной выборки и составляет **3 000 000** у.е.\n",
    "- **Цены компаний в разрезе категорий деятельности**. Был выделен ТОП-7 категорий по размеру стандартного отклонения цены. Лидером стала категория `automotive` с отклонением около **183 000 000** у.е. На втором месте категория `mobile` со стандартным отклонением в **146 000 000** у.е. На последнем `cleantech` - **92 000 000** у.е.\n",
    "- **Количество раундов в зависимости от статуса**. В среднем для всех категорий количество раундов составляет **2**. Самым большим средним количиеством раундов **(3)** отличилась категория `ipo`, а наименьшим **(1)** - категория `closed`."
   ]
  },
  {
   "cell_type": "markdown",
   "metadata": {},
   "source": [
    "**3. Рекомендации на основе анализа данных.**\n",
    "Изначальный набор датафреймов дал понять, что данные хранились не самым оптимальным образом из-за чего имелись ошибки, часть которых была исправлена, но не стоит исключать, что при анализе, не входящих в данное исследование показателей, стоит тщательно проверить качество данных.\n"
   ]
  },
  {
   "cell_type": "code",
   "execution_count": null,
   "metadata": {},
   "outputs": [],
   "source": []
  }
 ],
 "metadata": {
  "ExecuteTimeLog": [
   {
    "duration": 5,
    "start_time": "2024-12-24T05:43:43.765Z"
   },
   {
    "duration": 1584,
    "start_time": "2024-12-24T05:47:30.370Z"
   },
   {
    "duration": 3642,
    "start_time": "2024-12-24T05:48:04.797Z"
   },
   {
    "duration": 59,
    "start_time": "2024-12-24T05:48:10.797Z"
   },
   {
    "duration": 2456,
    "start_time": "2024-12-24T05:48:17.388Z"
   },
   {
    "duration": 66,
    "start_time": "2024-12-24T05:50:48.790Z"
   },
   {
    "duration": 19,
    "start_time": "2024-12-24T05:54:19.517Z"
   },
   {
    "duration": 10,
    "start_time": "2024-12-24T05:54:46.268Z"
   },
   {
    "duration": 13,
    "start_time": "2024-12-24T05:57:17.455Z"
   },
   {
    "duration": 19,
    "start_time": "2024-12-24T05:58:21.200Z"
   },
   {
    "duration": 19,
    "start_time": "2024-12-24T05:58:35.542Z"
   },
   {
    "duration": 12,
    "start_time": "2024-12-24T06:06:08.746Z"
   },
   {
    "duration": 109,
    "start_time": "2024-12-24T06:07:33.768Z"
   },
   {
    "duration": 13,
    "start_time": "2024-12-24T06:13:33.496Z"
   },
   {
    "duration": 18,
    "start_time": "2024-12-24T06:15:14.875Z"
   },
   {
    "duration": 12,
    "start_time": "2024-12-24T06:32:06.759Z"
   },
   {
    "duration": 6,
    "start_time": "2024-12-24T06:34:13.145Z"
   },
   {
    "duration": 2650,
    "start_time": "2024-12-24T06:34:37.940Z"
   },
   {
    "duration": 1295,
    "start_time": "2024-12-24T06:34:40.593Z"
   },
   {
    "duration": 2678,
    "start_time": "2024-12-24T06:34:41.889Z"
   },
   {
    "duration": 27,
    "start_time": "2024-12-24T06:34:44.569Z"
   },
   {
    "duration": 6,
    "start_time": "2024-12-24T06:34:44.598Z"
   },
   {
    "duration": 109,
    "start_time": "2024-12-24T06:55:22.590Z"
   },
   {
    "duration": 250,
    "start_time": "2024-12-24T06:57:24.971Z"
   },
   {
    "duration": 332,
    "start_time": "2024-12-24T06:57:50.001Z"
   },
   {
    "duration": 8,
    "start_time": "2024-12-24T11:20:39.738Z"
   },
   {
    "duration": 21,
    "start_time": "2024-12-24T11:20:53.441Z"
   },
   {
    "duration": 25,
    "start_time": "2024-12-24T11:21:02.579Z"
   },
   {
    "duration": 85,
    "start_time": "2024-12-24T11:24:43.058Z"
   },
   {
    "duration": 154,
    "start_time": "2024-12-24T11:25:39.037Z"
   },
   {
    "duration": 92,
    "start_time": "2024-12-24T11:26:49.181Z"
   },
   {
    "duration": 82,
    "start_time": "2024-12-24T11:27:43.772Z"
   },
   {
    "duration": 74,
    "start_time": "2024-12-24T11:28:04.976Z"
   },
   {
    "duration": 76,
    "start_time": "2024-12-24T11:28:26.243Z"
   },
   {
    "duration": 93,
    "start_time": "2024-12-24T11:28:35.779Z"
   },
   {
    "duration": 187,
    "start_time": "2024-12-24T11:30:27.937Z"
   },
   {
    "duration": 12,
    "start_time": "2024-12-24T11:53:44.450Z"
   },
   {
    "duration": 13,
    "start_time": "2024-12-24T11:53:59.866Z"
   },
   {
    "duration": 224,
    "start_time": "2024-12-24T12:01:21.875Z"
   },
   {
    "duration": 57,
    "start_time": "2024-12-25T05:28:43.620Z"
   },
   {
    "duration": 3723,
    "start_time": "2024-12-25T05:28:54.372Z"
   },
   {
    "duration": 1513,
    "start_time": "2024-12-25T05:28:58.097Z"
   },
   {
    "duration": 2627,
    "start_time": "2024-12-25T05:28:59.612Z"
   },
   {
    "duration": 2867,
    "start_time": "2024-12-25T05:29:03.319Z"
   },
   {
    "duration": 4,
    "start_time": "2024-12-25T05:29:06.188Z"
   },
   {
    "duration": 2647,
    "start_time": "2024-12-25T05:29:06.194Z"
   },
   {
    "duration": 30,
    "start_time": "2024-12-25T05:29:08.843Z"
   },
   {
    "duration": 7,
    "start_time": "2024-12-25T05:29:08.875Z"
   },
   {
    "duration": 409,
    "start_time": "2024-12-25T05:29:08.885Z"
   },
   {
    "duration": 141,
    "start_time": "2024-12-25T05:29:09.296Z"
   },
   {
    "duration": 160,
    "start_time": "2024-12-25T05:29:09.439Z"
   },
   {
    "duration": 233,
    "start_time": "2024-12-25T05:29:09.601Z"
   },
   {
    "duration": 44,
    "start_time": "2024-12-25T05:48:45.619Z"
   },
   {
    "duration": 28,
    "start_time": "2024-12-25T05:50:30.763Z"
   },
   {
    "duration": 32,
    "start_time": "2024-12-25T05:50:43.899Z"
   },
   {
    "duration": 87,
    "start_time": "2024-12-25T05:59:54.342Z"
   },
   {
    "duration": 95,
    "start_time": "2024-12-25T06:00:13.102Z"
   },
   {
    "duration": 413,
    "start_time": "2024-12-25T06:01:47.542Z"
   },
   {
    "duration": 261,
    "start_time": "2024-12-25T06:03:00.895Z"
   },
   {
    "duration": 34,
    "start_time": "2024-12-25T06:04:13.399Z"
   },
   {
    "duration": 334,
    "start_time": "2024-12-25T06:04:17.591Z"
   },
   {
    "duration": 33,
    "start_time": "2024-12-25T06:05:33.168Z"
   },
   {
    "duration": 265,
    "start_time": "2024-12-25T06:05:36.303Z"
   },
   {
    "duration": 372,
    "start_time": "2024-12-25T06:08:24.235Z"
   },
   {
    "duration": 257,
    "start_time": "2024-12-25T06:08:38.581Z"
   },
   {
    "duration": 280,
    "start_time": "2024-12-25T06:09:23.118Z"
   },
   {
    "duration": 285,
    "start_time": "2024-12-25T06:12:41.218Z"
   },
   {
    "duration": 383,
    "start_time": "2024-12-25T06:13:29.345Z"
   },
   {
    "duration": 479,
    "start_time": "2024-12-25T06:18:10.196Z"
   },
   {
    "duration": 53,
    "start_time": "2024-12-25T06:28:27.511Z"
   },
   {
    "duration": 39,
    "start_time": "2024-12-25T06:29:49.196Z"
   },
   {
    "duration": 376,
    "start_time": "2024-12-25T06:33:43.452Z"
   },
   {
    "duration": 404,
    "start_time": "2024-12-25T06:35:47.140Z"
   },
   {
    "duration": 25,
    "start_time": "2024-12-25T07:11:26.887Z"
   },
   {
    "duration": 42,
    "start_time": "2024-12-25T07:12:16.669Z"
   },
   {
    "duration": 208,
    "start_time": "2024-12-25T07:35:24.762Z"
   },
   {
    "duration": 36,
    "start_time": "2024-12-25T07:35:40.113Z"
   },
   {
    "duration": 244,
    "start_time": "2024-12-25T07:36:22.685Z"
   },
   {
    "duration": 276,
    "start_time": "2024-12-25T07:37:13.356Z"
   },
   {
    "duration": 76,
    "start_time": "2024-12-25T07:48:21.692Z"
   },
   {
    "duration": 33,
    "start_time": "2024-12-25T07:50:36.360Z"
   },
   {
    "duration": 252,
    "start_time": "2024-12-25T07:50:40.774Z"
   },
   {
    "duration": 57,
    "start_time": "2024-12-25T07:50:46.743Z"
   },
   {
    "duration": 78,
    "start_time": "2024-12-25T07:59:05.673Z"
   },
   {
    "duration": 33,
    "start_time": "2024-12-25T07:59:17.096Z"
   },
   {
    "duration": 35,
    "start_time": "2024-12-25T08:06:36.370Z"
   },
   {
    "duration": 14,
    "start_time": "2024-12-25T09:17:49.100Z"
   },
   {
    "duration": 193,
    "start_time": "2024-12-25T09:18:20.146Z"
   },
   {
    "duration": 150,
    "start_time": "2024-12-25T09:20:38.638Z"
   },
   {
    "duration": 191,
    "start_time": "2024-12-25T09:21:41.837Z"
   },
   {
    "duration": 92,
    "start_time": "2024-12-25T09:32:26.745Z"
   },
   {
    "duration": 22,
    "start_time": "2024-12-25T09:40:40.281Z"
   },
   {
    "duration": 11,
    "start_time": "2024-12-25T09:43:54.072Z"
   },
   {
    "duration": 26,
    "start_time": "2024-12-25T09:47:22.451Z"
   },
   {
    "duration": 10,
    "start_time": "2024-12-25T09:49:31.236Z"
   },
   {
    "duration": 15,
    "start_time": "2024-12-25T09:55:01.554Z"
   },
   {
    "duration": 15,
    "start_time": "2024-12-25T09:55:17.441Z"
   },
   {
    "duration": 19,
    "start_time": "2024-12-25T09:55:34.729Z"
   },
   {
    "duration": 8,
    "start_time": "2024-12-25T09:57:48.357Z"
   },
   {
    "duration": 10,
    "start_time": "2024-12-25T09:59:11.507Z"
   },
   {
    "duration": 17,
    "start_time": "2024-12-25T10:15:13.496Z"
   },
   {
    "duration": 16,
    "start_time": "2024-12-25T10:15:35.231Z"
   },
   {
    "duration": 6,
    "start_time": "2024-12-25T10:17:26.225Z"
   },
   {
    "duration": 10,
    "start_time": "2024-12-25T10:17:28.502Z"
   },
   {
    "duration": 14,
    "start_time": "2024-12-25T10:17:36.505Z"
   },
   {
    "duration": 16,
    "start_time": "2024-12-25T10:18:22.888Z"
   },
   {
    "duration": 11,
    "start_time": "2024-12-25T10:21:17.124Z"
   },
   {
    "duration": 10,
    "start_time": "2024-12-25T10:21:40.122Z"
   },
   {
    "duration": 9,
    "start_time": "2024-12-25T10:22:02.402Z"
   },
   {
    "duration": 11,
    "start_time": "2024-12-25T10:23:49.131Z"
   },
   {
    "duration": 6,
    "start_time": "2024-12-25T10:24:31.043Z"
   },
   {
    "duration": 15,
    "start_time": "2024-12-25T10:24:31.762Z"
   },
   {
    "duration": 24,
    "start_time": "2024-12-25T10:24:35.282Z"
   },
   {
    "duration": 10,
    "start_time": "2024-12-25T10:24:38.233Z"
   },
   {
    "duration": 7,
    "start_time": "2024-12-25T10:29:00.173Z"
   },
   {
    "duration": 12,
    "start_time": "2024-12-25T10:29:02.562Z"
   },
   {
    "duration": 20,
    "start_time": "2024-12-25T10:29:05.491Z"
   },
   {
    "duration": 10,
    "start_time": "2024-12-25T10:29:09.557Z"
   },
   {
    "duration": 89,
    "start_time": "2024-12-25T10:29:45.049Z"
   },
   {
    "duration": 20,
    "start_time": "2024-12-25T10:29:53.396Z"
   },
   {
    "duration": 80,
    "start_time": "2024-12-25T11:11:51.204Z"
   },
   {
    "duration": 20,
    "start_time": "2024-12-25T11:16:58.349Z"
   },
   {
    "duration": 19,
    "start_time": "2024-12-25T11:17:12.680Z"
   },
   {
    "duration": 17,
    "start_time": "2024-12-25T11:17:28.512Z"
   },
   {
    "duration": 14,
    "start_time": "2024-12-25T11:17:43.381Z"
   },
   {
    "duration": 13,
    "start_time": "2024-12-25T11:18:11.285Z"
   },
   {
    "duration": 12,
    "start_time": "2024-12-25T11:19:27.862Z"
   },
   {
    "duration": 13,
    "start_time": "2024-12-25T11:21:18.821Z"
   },
   {
    "duration": 3132,
    "start_time": "2024-12-26T06:21:32.263Z"
   },
   {
    "duration": 1351,
    "start_time": "2024-12-26T06:21:35.397Z"
   },
   {
    "duration": 2174,
    "start_time": "2024-12-26T06:21:36.750Z"
   },
   {
    "duration": 16,
    "start_time": "2024-12-26T06:21:38.926Z"
   },
   {
    "duration": 90,
    "start_time": "2024-12-26T06:21:38.944Z"
   },
   {
    "duration": 248,
    "start_time": "2024-12-26T06:21:39.035Z"
   },
   {
    "duration": 120,
    "start_time": "2024-12-26T06:21:39.285Z"
   },
   {
    "duration": 129,
    "start_time": "2024-12-26T06:21:39.406Z"
   },
   {
    "duration": 190,
    "start_time": "2024-12-26T06:21:39.537Z"
   },
   {
    "duration": 45,
    "start_time": "2024-12-26T06:21:39.728Z"
   },
   {
    "duration": 327,
    "start_time": "2024-12-26T06:21:39.774Z"
   },
   {
    "duration": 24,
    "start_time": "2024-12-26T06:21:40.103Z"
   },
   {
    "duration": 207,
    "start_time": "2024-12-26T06:21:40.128Z"
   },
   {
    "duration": 39,
    "start_time": "2024-12-26T06:21:40.338Z"
   },
   {
    "duration": 26,
    "start_time": "2024-12-26T06:21:40.378Z"
   },
   {
    "duration": 23,
    "start_time": "2024-12-26T06:21:40.422Z"
   },
   {
    "duration": 150,
    "start_time": "2024-12-26T06:21:40.447Z"
   },
   {
    "duration": 75,
    "start_time": "2024-12-26T06:21:40.599Z"
   },
   {
    "duration": 8,
    "start_time": "2024-12-26T06:21:40.675Z"
   },
   {
    "duration": 14,
    "start_time": "2024-12-26T06:21:40.685Z"
   },
   {
    "duration": 29,
    "start_time": "2024-12-26T06:21:40.700Z"
   },
   {
    "duration": 4,
    "start_time": "2024-12-26T06:21:40.731Z"
   },
   {
    "duration": 14,
    "start_time": "2024-12-26T06:21:40.736Z"
   },
   {
    "duration": 156,
    "start_time": "2024-12-26T06:21:40.751Z"
   },
   {
    "duration": 39,
    "start_time": "2024-12-26T06:21:40.909Z"
   },
   {
    "duration": 2242,
    "start_time": "2024-12-26T06:22:15.155Z"
   },
   {
    "duration": 3,
    "start_time": "2024-12-26T06:22:17.399Z"
   },
   {
    "duration": 1817,
    "start_time": "2024-12-26T06:22:17.403Z"
   },
   {
    "duration": 15,
    "start_time": "2024-12-26T06:22:19.222Z"
   },
   {
    "duration": 16,
    "start_time": "2024-12-26T06:22:19.239Z"
   },
   {
    "duration": 285,
    "start_time": "2024-12-26T06:22:19.256Z"
   },
   {
    "duration": 116,
    "start_time": "2024-12-26T06:22:19.543Z"
   },
   {
    "duration": 120,
    "start_time": "2024-12-26T06:22:19.661Z"
   },
   {
    "duration": 174,
    "start_time": "2024-12-26T06:22:19.782Z"
   },
   {
    "duration": 37,
    "start_time": "2024-12-26T06:22:19.959Z"
   },
   {
    "duration": 338,
    "start_time": "2024-12-26T06:22:19.998Z"
   },
   {
    "duration": 17,
    "start_time": "2024-12-26T06:22:20.338Z"
   },
   {
    "duration": 219,
    "start_time": "2024-12-26T06:22:20.356Z"
   },
   {
    "duration": 54,
    "start_time": "2024-12-26T06:22:20.577Z"
   },
   {
    "duration": 25,
    "start_time": "2024-12-26T06:22:20.633Z"
   },
   {
    "duration": 24,
    "start_time": "2024-12-26T06:22:20.660Z"
   },
   {
    "duration": 159,
    "start_time": "2024-12-26T06:22:20.685Z"
   },
   {
    "duration": 50,
    "start_time": "2024-12-26T06:22:20.845Z"
   },
   {
    "duration": 26,
    "start_time": "2024-12-26T06:22:20.896Z"
   },
   {
    "duration": 33,
    "start_time": "2024-12-26T06:22:20.924Z"
   },
   {
    "duration": 63,
    "start_time": "2024-12-26T06:22:20.958Z"
   },
   {
    "duration": 4,
    "start_time": "2024-12-26T06:22:21.022Z"
   },
   {
    "duration": 19,
    "start_time": "2024-12-26T06:22:21.028Z"
   },
   {
    "duration": 29,
    "start_time": "2024-12-26T06:22:21.049Z"
   },
   {
    "duration": 9,
    "start_time": "2024-12-26T06:22:21.079Z"
   },
   {
    "duration": 89,
    "start_time": "2024-12-26T06:38:48.229Z"
   },
   {
    "duration": 4,
    "start_time": "2024-12-26T06:41:49.384Z"
   },
   {
    "duration": 4,
    "start_time": "2024-12-26T06:42:20.968Z"
   },
   {
    "duration": 189,
    "start_time": "2024-12-26T06:45:50.059Z"
   },
   {
    "duration": 331,
    "start_time": "2024-12-26T06:46:41.725Z"
   },
   {
    "duration": 13,
    "start_time": "2024-12-26T06:47:33.771Z"
   },
   {
    "duration": 83,
    "start_time": "2024-12-26T06:49:10.769Z"
   },
   {
    "duration": 315,
    "start_time": "2024-12-26T06:49:16.755Z"
   },
   {
    "duration": 95,
    "start_time": "2024-12-26T06:56:32.023Z"
   },
   {
    "duration": 125,
    "start_time": "2024-12-26T06:56:52.471Z"
   },
   {
    "duration": 322,
    "start_time": "2024-12-26T06:58:13.066Z"
   },
   {
    "duration": 143,
    "start_time": "2024-12-26T06:59:15.024Z"
   },
   {
    "duration": 48,
    "start_time": "2024-12-26T07:30:27.883Z"
   },
   {
    "duration": 70,
    "start_time": "2024-12-26T07:31:52.289Z"
   },
   {
    "duration": 106,
    "start_time": "2024-12-26T07:54:25.894Z"
   },
   {
    "duration": 25,
    "start_time": "2024-12-26T10:10:58.839Z"
   },
   {
    "duration": 33,
    "start_time": "2024-12-26T10:20:52.275Z"
   },
   {
    "duration": 23,
    "start_time": "2024-12-26T10:22:12.390Z"
   },
   {
    "duration": 306,
    "start_time": "2024-12-26T10:34:56.549Z"
   },
   {
    "duration": 10,
    "start_time": "2024-12-26T10:35:14.805Z"
   },
   {
    "duration": 27,
    "start_time": "2024-12-26T10:36:32.288Z"
   },
   {
    "duration": 82,
    "start_time": "2024-12-26T10:39:01.590Z"
   },
   {
    "duration": 79,
    "start_time": "2024-12-26T10:39:35.636Z"
   },
   {
    "duration": 12,
    "start_time": "2024-12-26T10:46:33.250Z"
   },
   {
    "duration": 9,
    "start_time": "2024-12-26T10:48:17.543Z"
   },
   {
    "duration": 16,
    "start_time": "2024-12-26T10:48:24.570Z"
   },
   {
    "duration": 18,
    "start_time": "2024-12-26T10:49:07.537Z"
   },
   {
    "duration": 78,
    "start_time": "2024-12-26T10:50:05.193Z"
   },
   {
    "duration": 9,
    "start_time": "2024-12-26T10:50:56.766Z"
   },
   {
    "duration": 1286,
    "start_time": "2024-12-26T10:53:46.642Z"
   },
   {
    "duration": 158,
    "start_time": "2024-12-26T10:55:57.794Z"
   },
   {
    "duration": 15,
    "start_time": "2024-12-26T10:56:15.133Z"
   },
   {
    "duration": 2341,
    "start_time": "2024-12-26T10:56:31.224Z"
   },
   {
    "duration": 1128,
    "start_time": "2024-12-26T10:56:33.567Z"
   },
   {
    "duration": 1983,
    "start_time": "2024-12-26T10:56:34.697Z"
   },
   {
    "duration": 19,
    "start_time": "2024-12-26T10:56:36.682Z"
   },
   {
    "duration": 8,
    "start_time": "2024-12-26T10:56:36.721Z"
   },
   {
    "duration": 311,
    "start_time": "2024-12-26T10:56:36.732Z"
   },
   {
    "duration": 171,
    "start_time": "2024-12-26T10:56:37.045Z"
   },
   {
    "duration": 134,
    "start_time": "2024-12-26T10:56:37.218Z"
   },
   {
    "duration": 185,
    "start_time": "2024-12-26T10:56:37.353Z"
   },
   {
    "duration": 45,
    "start_time": "2024-12-26T10:56:37.540Z"
   },
   {
    "duration": 349,
    "start_time": "2024-12-26T10:56:37.587Z"
   },
   {
    "duration": 19,
    "start_time": "2024-12-26T10:56:37.939Z"
   },
   {
    "duration": 217,
    "start_time": "2024-12-26T10:56:37.960Z"
   },
   {
    "duration": 75,
    "start_time": "2024-12-26T10:56:38.178Z"
   },
   {
    "duration": 28,
    "start_time": "2024-12-26T10:56:38.256Z"
   },
   {
    "duration": 56,
    "start_time": "2024-12-26T10:56:38.285Z"
   },
   {
    "duration": 149,
    "start_time": "2024-12-26T10:56:38.343Z"
   },
   {
    "duration": 83,
    "start_time": "2024-12-26T10:56:38.493Z"
   },
   {
    "duration": 9,
    "start_time": "2024-12-26T10:56:38.577Z"
   },
   {
    "duration": 10,
    "start_time": "2024-12-26T10:56:38.587Z"
   },
   {
    "duration": 38,
    "start_time": "2024-12-26T10:56:38.598Z"
   },
   {
    "duration": 5,
    "start_time": "2024-12-26T10:56:38.637Z"
   },
   {
    "duration": 10,
    "start_time": "2024-12-26T10:56:38.643Z"
   },
   {
    "duration": 14,
    "start_time": "2024-12-26T10:56:38.654Z"
   },
   {
    "duration": 61,
    "start_time": "2024-12-26T10:56:38.670Z"
   },
   {
    "duration": 160,
    "start_time": "2024-12-26T10:56:38.733Z"
   },
   {
    "duration": 73,
    "start_time": "2024-12-26T10:56:38.895Z"
   },
   {
    "duration": 81,
    "start_time": "2024-12-26T10:56:38.971Z"
   },
   {
    "duration": 125,
    "start_time": "2024-12-26T10:56:39.054Z"
   },
   {
    "duration": 45,
    "start_time": "2024-12-26T10:56:39.180Z"
   },
   {
    "duration": 39,
    "start_time": "2024-12-26T10:56:39.227Z"
   },
   {
    "duration": 285,
    "start_time": "2024-12-26T10:56:39.267Z"
   },
   {
    "duration": 10,
    "start_time": "2024-12-26T10:56:39.554Z"
   },
   {
    "duration": 23,
    "start_time": "2024-12-26T10:56:39.565Z"
   },
   {
    "duration": 92,
    "start_time": "2024-12-26T10:56:39.590Z"
   },
   {
    "duration": 16,
    "start_time": "2024-12-26T10:56:39.684Z"
   },
   {
    "duration": 2357,
    "start_time": "2024-12-26T10:56:39.793Z"
   },
   {
    "duration": 3,
    "start_time": "2024-12-26T10:56:42.152Z"
   },
   {
    "duration": 2174,
    "start_time": "2024-12-26T10:56:42.157Z"
   },
   {
    "duration": 21,
    "start_time": "2024-12-26T10:56:44.333Z"
   },
   {
    "duration": 6,
    "start_time": "2024-12-26T10:56:44.356Z"
   },
   {
    "duration": 318,
    "start_time": "2024-12-26T10:56:44.364Z"
   },
   {
    "duration": 171,
    "start_time": "2024-12-26T10:56:44.683Z"
   },
   {
    "duration": 130,
    "start_time": "2024-12-26T10:56:44.856Z"
   },
   {
    "duration": 195,
    "start_time": "2024-12-26T10:56:44.988Z"
   },
   {
    "duration": 69,
    "start_time": "2024-12-26T10:56:45.187Z"
   },
   {
    "duration": 327,
    "start_time": "2024-12-26T10:56:45.258Z"
   },
   {
    "duration": 17,
    "start_time": "2024-12-26T10:56:45.587Z"
   },
   {
    "duration": 241,
    "start_time": "2024-12-26T10:56:45.605Z"
   },
   {
    "duration": 42,
    "start_time": "2024-12-26T10:56:45.847Z"
   },
   {
    "duration": 48,
    "start_time": "2024-12-26T10:56:45.891Z"
   },
   {
    "duration": 25,
    "start_time": "2024-12-26T10:56:45.941Z"
   },
   {
    "duration": 172,
    "start_time": "2024-12-26T10:56:45.968Z"
   },
   {
    "duration": 52,
    "start_time": "2024-12-26T10:56:46.142Z"
   },
   {
    "duration": 33,
    "start_time": "2024-12-26T10:56:46.196Z"
   },
   {
    "duration": 15,
    "start_time": "2024-12-26T10:56:46.231Z"
   },
   {
    "duration": 21,
    "start_time": "2024-12-26T10:56:46.248Z"
   },
   {
    "duration": 5,
    "start_time": "2024-12-26T10:56:46.271Z"
   },
   {
    "duration": 9,
    "start_time": "2024-12-26T10:56:46.277Z"
   },
   {
    "duration": 19,
    "start_time": "2024-12-26T10:56:46.287Z"
   },
   {
    "duration": 16,
    "start_time": "2024-12-26T10:56:46.325Z"
   },
   {
    "duration": 149,
    "start_time": "2024-12-26T10:56:46.342Z"
   },
   {
    "duration": 85,
    "start_time": "2024-12-26T10:56:46.493Z"
   },
   {
    "duration": 78,
    "start_time": "2024-12-26T10:56:46.581Z"
   },
   {
    "duration": 127,
    "start_time": "2024-12-26T10:56:46.661Z"
   },
   {
    "duration": 45,
    "start_time": "2024-12-26T10:56:46.790Z"
   },
   {
    "duration": 45,
    "start_time": "2024-12-26T10:56:46.837Z"
   },
   {
    "duration": 282,
    "start_time": "2024-12-26T10:56:46.883Z"
   },
   {
    "duration": 11,
    "start_time": "2024-12-26T10:56:47.166Z"
   },
   {
    "duration": 26,
    "start_time": "2024-12-26T10:56:47.178Z"
   },
   {
    "duration": 98,
    "start_time": "2024-12-26T10:56:47.205Z"
   },
   {
    "duration": 36,
    "start_time": "2024-12-26T10:56:47.304Z"
   },
   {
    "duration": 119,
    "start_time": "2024-12-26T10:59:03.684Z"
   },
   {
    "duration": 21,
    "start_time": "2024-12-26T10:59:15.099Z"
   },
   {
    "duration": 5,
    "start_time": "2024-12-26T11:03:19.743Z"
   },
   {
    "duration": 15,
    "start_time": "2024-12-26T11:06:06.665Z"
   },
   {
    "duration": 30,
    "start_time": "2024-12-26T11:06:35.034Z"
   },
   {
    "duration": 22,
    "start_time": "2024-12-26T11:10:33.469Z"
   },
   {
    "duration": 35,
    "start_time": "2024-12-26T11:11:26.729Z"
   },
   {
    "duration": 28,
    "start_time": "2024-12-26T11:13:55.152Z"
   },
   {
    "duration": 31,
    "start_time": "2024-12-26T11:14:53.543Z"
   },
   {
    "duration": 8,
    "start_time": "2024-12-26T11:17:13.235Z"
   },
   {
    "duration": 9,
    "start_time": "2024-12-26T11:18:42.751Z"
   },
   {
    "duration": 6,
    "start_time": "2024-12-26T11:19:00.584Z"
   },
   {
    "duration": 12,
    "start_time": "2024-12-26T11:19:20.725Z"
   },
   {
    "duration": 8,
    "start_time": "2024-12-26T11:19:41.257Z"
   },
   {
    "duration": 10,
    "start_time": "2024-12-26T11:20:55.776Z"
   },
   {
    "duration": 9,
    "start_time": "2024-12-26T11:21:17.434Z"
   },
   {
    "duration": 7,
    "start_time": "2024-12-26T11:21:19.836Z"
   },
   {
    "duration": 15,
    "start_time": "2024-12-26T11:23:04.488Z"
   },
   {
    "duration": 13,
    "start_time": "2024-12-26T11:26:05.298Z"
   },
   {
    "duration": 2235,
    "start_time": "2024-12-26T11:32:48.798Z"
   },
   {
    "duration": 1128,
    "start_time": "2024-12-26T11:32:51.035Z"
   },
   {
    "duration": 1839,
    "start_time": "2024-12-26T11:32:52.165Z"
   },
   {
    "duration": 27,
    "start_time": "2024-12-26T11:32:54.006Z"
   },
   {
    "duration": 6,
    "start_time": "2024-12-26T11:32:54.035Z"
   },
   {
    "duration": 304,
    "start_time": "2024-12-26T11:32:54.043Z"
   },
   {
    "duration": 154,
    "start_time": "2024-12-26T11:32:54.348Z"
   },
   {
    "duration": 124,
    "start_time": "2024-12-26T11:32:54.504Z"
   },
   {
    "duration": 155,
    "start_time": "2024-12-26T11:32:54.630Z"
   },
   {
    "duration": 61,
    "start_time": "2024-12-26T11:32:54.788Z"
   },
   {
    "duration": 313,
    "start_time": "2024-12-26T11:32:54.851Z"
   },
   {
    "duration": 17,
    "start_time": "2024-12-26T11:32:55.166Z"
   },
   {
    "duration": 197,
    "start_time": "2024-12-26T11:32:55.185Z"
   },
   {
    "duration": 51,
    "start_time": "2024-12-26T11:32:55.384Z"
   },
   {
    "duration": 25,
    "start_time": "2024-12-26T11:32:55.437Z"
   },
   {
    "duration": 24,
    "start_time": "2024-12-26T11:32:55.463Z"
   },
   {
    "duration": 156,
    "start_time": "2024-12-26T11:32:55.488Z"
   },
   {
    "duration": 81,
    "start_time": "2024-12-26T11:32:55.646Z"
   },
   {
    "duration": 8,
    "start_time": "2024-12-26T11:32:55.728Z"
   },
   {
    "duration": 9,
    "start_time": "2024-12-26T11:32:55.738Z"
   },
   {
    "duration": 14,
    "start_time": "2024-12-26T11:32:55.748Z"
   },
   {
    "duration": 4,
    "start_time": "2024-12-26T11:32:55.764Z"
   },
   {
    "duration": 24,
    "start_time": "2024-12-26T11:32:55.769Z"
   },
   {
    "duration": 28,
    "start_time": "2024-12-26T11:32:55.794Z"
   },
   {
    "duration": 46,
    "start_time": "2024-12-26T11:32:55.823Z"
   },
   {
    "duration": 151,
    "start_time": "2024-12-26T11:32:55.871Z"
   },
   {
    "duration": 48,
    "start_time": "2024-12-26T11:32:56.023Z"
   },
   {
    "duration": 68,
    "start_time": "2024-12-26T11:32:56.074Z"
   },
   {
    "duration": 114,
    "start_time": "2024-12-26T11:32:56.144Z"
   },
   {
    "duration": 20,
    "start_time": "2024-12-26T11:32:56.259Z"
   },
   {
    "duration": 61,
    "start_time": "2024-12-26T11:32:56.280Z"
   },
   {
    "duration": 269,
    "start_time": "2024-12-26T11:32:56.342Z"
   },
   {
    "duration": 15,
    "start_time": "2024-12-26T11:32:56.612Z"
   },
   {
    "duration": 20,
    "start_time": "2024-12-26T11:32:56.628Z"
   },
   {
    "duration": 84,
    "start_time": "2024-12-26T11:32:56.649Z"
   },
   {
    "duration": 27,
    "start_time": "2024-12-26T11:32:56.735Z"
   },
   {
    "duration": 27,
    "start_time": "2024-12-26T11:32:56.764Z"
   },
   {
    "duration": 52,
    "start_time": "2024-12-26T11:32:56.792Z"
   },
   {
    "duration": 26,
    "start_time": "2024-12-26T11:32:56.846Z"
   },
   {
    "duration": 7,
    "start_time": "2024-12-26T11:32:56.873Z"
   },
   {
    "duration": 14,
    "start_time": "2024-12-26T11:32:56.882Z"
   },
   {
    "duration": 13,
    "start_time": "2024-12-26T11:32:56.897Z"
   },
   {
    "duration": 2303,
    "start_time": "2024-12-26T11:33:13.352Z"
   },
   {
    "duration": 3,
    "start_time": "2024-12-26T11:33:15.657Z"
   },
   {
    "duration": 1752,
    "start_time": "2024-12-26T11:33:15.662Z"
   },
   {
    "duration": 20,
    "start_time": "2024-12-26T11:33:17.415Z"
   },
   {
    "duration": 6,
    "start_time": "2024-12-26T11:33:17.437Z"
   },
   {
    "duration": 288,
    "start_time": "2024-12-26T11:33:17.444Z"
   },
   {
    "duration": 154,
    "start_time": "2024-12-26T11:33:17.734Z"
   },
   {
    "duration": 134,
    "start_time": "2024-12-26T11:33:17.890Z"
   },
   {
    "duration": 157,
    "start_time": "2024-12-26T11:33:18.025Z"
   },
   {
    "duration": 67,
    "start_time": "2024-12-26T11:33:18.183Z"
   },
   {
    "duration": 336,
    "start_time": "2024-12-26T11:33:18.251Z"
   },
   {
    "duration": 17,
    "start_time": "2024-12-26T11:33:18.589Z"
   },
   {
    "duration": 218,
    "start_time": "2024-12-26T11:33:18.607Z"
   },
   {
    "duration": 42,
    "start_time": "2024-12-26T11:33:18.827Z"
   },
   {
    "duration": 27,
    "start_time": "2024-12-26T11:33:18.871Z"
   },
   {
    "duration": 46,
    "start_time": "2024-12-26T11:33:18.899Z"
   },
   {
    "duration": 169,
    "start_time": "2024-12-26T11:33:18.947Z"
   },
   {
    "duration": 56,
    "start_time": "2024-12-26T11:33:19.117Z"
   },
   {
    "duration": 9,
    "start_time": "2024-12-26T11:33:19.174Z"
   },
   {
    "duration": 20,
    "start_time": "2024-12-26T11:33:19.186Z"
   },
   {
    "duration": 28,
    "start_time": "2024-12-26T11:33:19.208Z"
   },
   {
    "duration": 17,
    "start_time": "2024-12-26T11:33:19.238Z"
   },
   {
    "duration": 86,
    "start_time": "2024-12-26T11:33:19.257Z"
   },
   {
    "duration": 52,
    "start_time": "2024-12-26T11:33:19.344Z"
   },
   {
    "duration": 9,
    "start_time": "2024-12-26T11:33:19.398Z"
   },
   {
    "duration": 146,
    "start_time": "2024-12-26T11:33:19.409Z"
   },
   {
    "duration": 73,
    "start_time": "2024-12-26T11:33:19.556Z"
   },
   {
    "duration": 54,
    "start_time": "2024-12-26T11:33:19.631Z"
   },
   {
    "duration": 139,
    "start_time": "2024-12-26T11:33:19.686Z"
   },
   {
    "duration": 21,
    "start_time": "2024-12-26T11:33:19.826Z"
   },
   {
    "duration": 38,
    "start_time": "2024-12-26T11:33:19.848Z"
   },
   {
    "duration": 249,
    "start_time": "2024-12-26T11:33:19.888Z"
   },
   {
    "duration": 12,
    "start_time": "2024-12-26T11:33:20.138Z"
   },
   {
    "duration": 37,
    "start_time": "2024-12-26T11:33:20.151Z"
   },
   {
    "duration": 81,
    "start_time": "2024-12-26T11:33:20.189Z"
   },
   {
    "duration": 26,
    "start_time": "2024-12-26T11:33:20.272Z"
   },
   {
    "duration": 3,
    "start_time": "2024-12-26T11:33:20.300Z"
   },
   {
    "duration": 36,
    "start_time": "2024-12-26T11:33:20.321Z"
   },
   {
    "duration": 27,
    "start_time": "2024-12-26T11:33:20.359Z"
   },
   {
    "duration": 11,
    "start_time": "2024-12-26T11:33:20.388Z"
   },
   {
    "duration": 7,
    "start_time": "2024-12-26T11:33:20.421Z"
   },
   {
    "duration": 29,
    "start_time": "2024-12-26T11:33:20.429Z"
   },
   {
    "duration": 144,
    "start_time": "2024-12-27T09:41:09.941Z"
   },
   {
    "duration": 3640,
    "start_time": "2024-12-27T09:41:26.010Z"
   },
   {
    "duration": 1486,
    "start_time": "2024-12-27T09:41:29.654Z"
   },
   {
    "duration": 2075,
    "start_time": "2024-12-27T09:41:31.141Z"
   },
   {
    "duration": 33,
    "start_time": "2024-12-27T09:41:33.219Z"
   },
   {
    "duration": 5,
    "start_time": "2024-12-27T09:41:33.254Z"
   },
   {
    "duration": 331,
    "start_time": "2024-12-27T09:41:33.260Z"
   },
   {
    "duration": 693,
    "start_time": "2024-12-27T09:41:33.592Z"
   },
   {
    "duration": 177,
    "start_time": "2024-12-27T09:41:34.287Z"
   },
   {
    "duration": 132,
    "start_time": "2024-12-27T09:41:34.466Z"
   },
   {
    "duration": 193,
    "start_time": "2024-12-27T09:41:34.600Z"
   },
   {
    "duration": 72,
    "start_time": "2024-12-27T09:41:34.794Z"
   },
   {
    "duration": 361,
    "start_time": "2024-12-27T09:41:34.867Z"
   },
   {
    "duration": 24,
    "start_time": "2024-12-27T09:41:35.230Z"
   },
   {
    "duration": 235,
    "start_time": "2024-12-27T09:41:35.255Z"
   },
   {
    "duration": 65,
    "start_time": "2024-12-27T09:41:35.491Z"
   },
   {
    "duration": 30,
    "start_time": "2024-12-27T09:41:35.558Z"
   },
   {
    "duration": 30,
    "start_time": "2024-12-27T09:41:35.589Z"
   },
   {
    "duration": 170,
    "start_time": "2024-12-27T09:41:35.637Z"
   },
   {
    "duration": 81,
    "start_time": "2024-12-27T09:41:35.809Z"
   },
   {
    "duration": 10,
    "start_time": "2024-12-27T09:41:35.891Z"
   },
   {
    "duration": 51,
    "start_time": "2024-12-27T09:41:35.903Z"
   },
   {
    "duration": 38,
    "start_time": "2024-12-27T09:41:35.956Z"
   },
   {
    "duration": 5,
    "start_time": "2024-12-27T09:41:35.995Z"
   },
   {
    "duration": 57,
    "start_time": "2024-12-27T09:41:36.002Z"
   },
   {
    "duration": 35,
    "start_time": "2024-12-27T09:41:36.060Z"
   },
   {
    "duration": 49,
    "start_time": "2024-12-27T09:41:36.096Z"
   },
   {
    "duration": 190,
    "start_time": "2024-12-27T09:41:36.147Z"
   },
   {
    "duration": 57,
    "start_time": "2024-12-27T09:41:36.341Z"
   },
   {
    "duration": 90,
    "start_time": "2024-12-27T09:41:36.399Z"
   },
   {
    "duration": 152,
    "start_time": "2024-12-27T09:41:36.491Z"
   },
   {
    "duration": 23,
    "start_time": "2024-12-27T09:41:36.644Z"
   },
   {
    "duration": 173,
    "start_time": "2024-12-27T09:41:36.669Z"
   },
   {
    "duration": 314,
    "start_time": "2024-12-27T09:41:36.844Z"
   },
   {
    "duration": 12,
    "start_time": "2024-12-27T09:41:37.160Z"
   },
   {
    "duration": 52,
    "start_time": "2024-12-27T09:41:37.174Z"
   },
   {
    "duration": 78,
    "start_time": "2024-12-27T09:41:37.228Z"
   },
   {
    "duration": 38,
    "start_time": "2024-12-27T09:41:37.308Z"
   },
   {
    "duration": 12,
    "start_time": "2024-12-27T09:41:37.348Z"
   },
   {
    "duration": 61,
    "start_time": "2024-12-27T09:41:37.362Z"
   },
   {
    "duration": 31,
    "start_time": "2024-12-27T09:41:37.425Z"
   },
   {
    "duration": 44,
    "start_time": "2024-12-27T09:41:37.458Z"
   },
   {
    "duration": 12,
    "start_time": "2024-12-27T09:41:37.504Z"
   },
   {
    "duration": 20,
    "start_time": "2024-12-27T09:41:37.518Z"
   },
   {
    "duration": 2579,
    "start_time": "2024-12-27T09:41:40.812Z"
   },
   {
    "duration": 4,
    "start_time": "2024-12-27T09:41:43.393Z"
   },
   {
    "duration": 1940,
    "start_time": "2024-12-27T09:41:43.398Z"
   },
   {
    "duration": 17,
    "start_time": "2024-12-27T09:41:45.340Z"
   },
   {
    "duration": 14,
    "start_time": "2024-12-27T09:41:45.360Z"
   },
   {
    "duration": 316,
    "start_time": "2024-12-27T09:41:45.375Z"
   },
   {
    "duration": 653,
    "start_time": "2024-12-27T09:41:45.693Z"
   },
   {
    "duration": 162,
    "start_time": "2024-12-27T09:41:46.348Z"
   },
   {
    "duration": 139,
    "start_time": "2024-12-27T09:41:46.511Z"
   },
   {
    "duration": 191,
    "start_time": "2024-12-27T09:41:46.652Z"
   },
   {
    "duration": 55,
    "start_time": "2024-12-27T09:41:46.845Z"
   },
   {
    "duration": 358,
    "start_time": "2024-12-27T09:41:46.903Z"
   },
   {
    "duration": 19,
    "start_time": "2024-12-27T09:41:47.263Z"
   },
   {
    "duration": 222,
    "start_time": "2024-12-27T09:41:47.285Z"
   },
   {
    "duration": 53,
    "start_time": "2024-12-27T09:41:47.509Z"
   },
   {
    "duration": 29,
    "start_time": "2024-12-27T09:41:47.564Z"
   },
   {
    "duration": 51,
    "start_time": "2024-12-27T09:41:47.594Z"
   },
   {
    "duration": 156,
    "start_time": "2024-12-27T09:41:47.646Z"
   },
   {
    "duration": 68,
    "start_time": "2024-12-27T09:41:47.803Z"
   },
   {
    "duration": 9,
    "start_time": "2024-12-27T09:41:47.873Z"
   },
   {
    "duration": 30,
    "start_time": "2024-12-27T09:41:47.884Z"
   },
   {
    "duration": 22,
    "start_time": "2024-12-27T09:41:47.916Z"
   },
   {
    "duration": 5,
    "start_time": "2024-12-27T09:41:47.939Z"
   },
   {
    "duration": 15,
    "start_time": "2024-12-27T09:41:47.945Z"
   },
   {
    "duration": 17,
    "start_time": "2024-12-27T09:41:47.961Z"
   },
   {
    "duration": 12,
    "start_time": "2024-12-27T09:41:47.979Z"
   },
   {
    "duration": 192,
    "start_time": "2024-12-27T09:41:47.992Z"
   },
   {
    "duration": 89,
    "start_time": "2024-12-27T09:41:48.185Z"
   },
   {
    "duration": 89,
    "start_time": "2024-12-27T09:41:48.275Z"
   },
   {
    "duration": 146,
    "start_time": "2024-12-27T09:41:48.366Z"
   },
   {
    "duration": 24,
    "start_time": "2024-12-27T09:41:48.536Z"
   },
   {
    "duration": 36,
    "start_time": "2024-12-27T09:41:48.562Z"
   },
   {
    "duration": 271,
    "start_time": "2024-12-27T09:41:48.600Z"
   },
   {
    "duration": 12,
    "start_time": "2024-12-27T09:41:48.873Z"
   },
   {
    "duration": 39,
    "start_time": "2024-12-27T09:41:48.887Z"
   },
   {
    "duration": 85,
    "start_time": "2024-12-27T09:41:48.928Z"
   },
   {
    "duration": 45,
    "start_time": "2024-12-27T09:41:49.016Z"
   },
   {
    "duration": 5,
    "start_time": "2024-12-27T09:41:49.064Z"
   },
   {
    "duration": 44,
    "start_time": "2024-12-27T09:41:49.070Z"
   },
   {
    "duration": 50,
    "start_time": "2024-12-27T09:41:49.116Z"
   },
   {
    "duration": 11,
    "start_time": "2024-12-27T09:41:49.170Z"
   },
   {
    "duration": 11,
    "start_time": "2024-12-27T09:41:49.183Z"
   },
   {
    "duration": 14,
    "start_time": "2024-12-27T09:41:49.196Z"
   },
   {
    "duration": 580,
    "start_time": "2024-12-27T09:42:27.708Z"
   },
   {
    "duration": 22,
    "start_time": "2024-12-27T09:46:27.619Z"
   },
   {
    "duration": 10,
    "start_time": "2024-12-27T09:46:35.543Z"
   },
   {
    "duration": 131,
    "start_time": "2024-12-27T09:46:57.514Z"
   },
   {
    "duration": 3,
    "start_time": "2024-12-27T09:47:16.546Z"
   },
   {
    "duration": 24,
    "start_time": "2024-12-27T09:54:50.797Z"
   },
   {
    "duration": 23,
    "start_time": "2024-12-27T09:55:05.246Z"
   },
   {
    "duration": 9,
    "start_time": "2024-12-27T09:55:13.693Z"
   },
   {
    "duration": 22,
    "start_time": "2024-12-27T09:55:32.350Z"
   },
   {
    "duration": 9,
    "start_time": "2024-12-27T09:55:47.043Z"
   },
   {
    "duration": 23,
    "start_time": "2024-12-27T09:56:09.883Z"
   },
   {
    "duration": 9,
    "start_time": "2024-12-27T09:56:11.991Z"
   },
   {
    "duration": 21,
    "start_time": "2024-12-27T09:56:37.162Z"
   },
   {
    "duration": 9,
    "start_time": "2024-12-27T09:56:38.039Z"
   },
   {
    "duration": 19,
    "start_time": "2024-12-27T09:56:52.390Z"
   },
   {
    "duration": 7,
    "start_time": "2024-12-27T09:56:53.806Z"
   },
   {
    "duration": 20,
    "start_time": "2024-12-27T10:03:52.319Z"
   },
   {
    "duration": 19,
    "start_time": "2024-12-27T10:05:16.218Z"
   },
   {
    "duration": 15,
    "start_time": "2024-12-27T10:09:35.377Z"
   },
   {
    "duration": 8,
    "start_time": "2024-12-27T10:09:39.862Z"
   },
   {
    "duration": 339,
    "start_time": "2024-12-27T10:10:29.360Z"
   },
   {
    "duration": 17,
    "start_time": "2024-12-27T10:11:33.114Z"
   },
   {
    "duration": 35,
    "start_time": "2024-12-27T10:44:41.728Z"
   },
   {
    "duration": 34,
    "start_time": "2024-12-27T10:47:11.063Z"
   },
   {
    "duration": 10,
    "start_time": "2024-12-27T10:51:36.967Z"
   },
   {
    "duration": 12,
    "start_time": "2024-12-27T10:52:04.473Z"
   },
   {
    "duration": 28,
    "start_time": "2024-12-27T10:55:47.179Z"
   },
   {
    "duration": 14,
    "start_time": "2024-12-27T10:56:22.708Z"
   },
   {
    "duration": 27,
    "start_time": "2024-12-27T10:56:47.907Z"
   },
   {
    "duration": 9,
    "start_time": "2024-12-27T10:56:50.860Z"
   },
   {
    "duration": 44,
    "start_time": "2024-12-27T11:09:19.015Z"
   },
   {
    "duration": 14,
    "start_time": "2024-12-27T11:13:58.151Z"
   },
   {
    "duration": 15,
    "start_time": "2024-12-27T11:15:54.129Z"
   },
   {
    "duration": 54,
    "start_time": "2024-12-27T11:19:11.758Z"
   },
   {
    "duration": 6,
    "start_time": "2024-12-27T11:19:18.134Z"
   },
   {
    "duration": 14,
    "start_time": "2024-12-27T11:19:55.465Z"
   },
   {
    "duration": 45,
    "start_time": "2024-12-27T11:20:01.530Z"
   },
   {
    "duration": 15,
    "start_time": "2024-12-27T11:20:04.029Z"
   },
   {
    "duration": 16,
    "start_time": "2024-12-27T11:20:07.020Z"
   },
   {
    "duration": 6,
    "start_time": "2024-12-27T11:20:27.506Z"
   },
   {
    "duration": 15,
    "start_time": "2024-12-27T11:20:29.759Z"
   },
   {
    "duration": 57,
    "start_time": "2024-12-27T11:20:51.208Z"
   },
   {
    "duration": 7,
    "start_time": "2024-12-27T11:20:53.814Z"
   },
   {
    "duration": 353,
    "start_time": "2024-12-27T11:20:56.039Z"
   },
   {
    "duration": 134,
    "start_time": "2024-12-27T11:29:03.627Z"
   },
   {
    "duration": 253,
    "start_time": "2024-12-27T11:30:39.700Z"
   },
   {
    "duration": 145,
    "start_time": "2024-12-27T11:31:23.195Z"
   },
   {
    "duration": 13,
    "start_time": "2024-12-27T11:31:25.669Z"
   },
   {
    "duration": 22,
    "start_time": "2024-12-27T11:37:56.674Z"
   },
   {
    "duration": 26,
    "start_time": "2024-12-27T11:38:53.344Z"
   },
   {
    "duration": 150,
    "start_time": "2024-12-27T11:43:42.243Z"
   },
   {
    "duration": 227,
    "start_time": "2024-12-27T11:45:22.751Z"
   },
   {
    "duration": 2461,
    "start_time": "2024-12-27T11:45:44.812Z"
   },
   {
    "duration": 1258,
    "start_time": "2024-12-27T11:45:47.275Z"
   },
   {
    "duration": 2276,
    "start_time": "2024-12-27T11:45:48.534Z"
   },
   {
    "duration": 33,
    "start_time": "2024-12-27T11:45:50.812Z"
   },
   {
    "duration": 4,
    "start_time": "2024-12-27T11:45:50.847Z"
   },
   {
    "duration": 330,
    "start_time": "2024-12-27T11:45:50.853Z"
   },
   {
    "duration": 650,
    "start_time": "2024-12-27T11:45:51.184Z"
   },
   {
    "duration": 159,
    "start_time": "2024-12-27T11:45:51.836Z"
   },
   {
    "duration": 125,
    "start_time": "2024-12-27T11:45:51.997Z"
   },
   {
    "duration": 167,
    "start_time": "2024-12-27T11:45:52.137Z"
   },
   {
    "duration": 3,
    "start_time": "2024-12-27T11:45:52.305Z"
   },
   {
    "duration": 64,
    "start_time": "2024-12-27T11:45:52.310Z"
   },
   {
    "duration": 8,
    "start_time": "2024-12-27T11:45:52.375Z"
   },
   {
    "duration": 29,
    "start_time": "2024-12-27T11:45:52.385Z"
   },
   {
    "duration": 8,
    "start_time": "2024-12-27T11:45:52.415Z"
   },
   {
    "duration": 363,
    "start_time": "2024-12-27T11:45:52.436Z"
   },
   {
    "duration": 19,
    "start_time": "2024-12-27T11:45:52.800Z"
   },
   {
    "duration": 225,
    "start_time": "2024-12-27T11:45:52.821Z"
   },
   {
    "duration": 45,
    "start_time": "2024-12-27T11:45:53.048Z"
   },
   {
    "duration": 45,
    "start_time": "2024-12-27T11:45:53.094Z"
   },
   {
    "duration": 26,
    "start_time": "2024-12-27T11:45:53.140Z"
   },
   {
    "duration": 171,
    "start_time": "2024-12-27T11:45:53.167Z"
   },
   {
    "duration": 72,
    "start_time": "2024-12-27T11:45:53.340Z"
   },
   {
    "duration": 39,
    "start_time": "2024-12-27T11:45:53.413Z"
   },
   {
    "duration": 10,
    "start_time": "2024-12-27T11:45:53.454Z"
   },
   {
    "duration": 79,
    "start_time": "2024-12-27T11:45:53.465Z"
   },
   {
    "duration": 24,
    "start_time": "2024-12-27T11:45:53.546Z"
   },
   {
    "duration": 6,
    "start_time": "2024-12-27T11:45:53.574Z"
   },
   {
    "duration": 285,
    "start_time": "2024-12-27T11:45:53.581Z"
   },
   {
    "duration": 159,
    "start_time": "2024-12-27T11:45:53.867Z"
   },
   {
    "duration": 17,
    "start_time": "2024-12-27T11:45:54.027Z"
   },
   {
    "duration": 93,
    "start_time": "2024-12-27T11:45:54.045Z"
   },
   {
    "duration": 0,
    "start_time": "2024-12-27T11:45:54.139Z"
   },
   {
    "duration": 0,
    "start_time": "2024-12-27T11:45:54.140Z"
   },
   {
    "duration": 0,
    "start_time": "2024-12-27T11:45:54.141Z"
   },
   {
    "duration": 0,
    "start_time": "2024-12-27T11:45:54.142Z"
   },
   {
    "duration": 0,
    "start_time": "2024-12-27T11:45:54.143Z"
   },
   {
    "duration": 0,
    "start_time": "2024-12-27T11:45:54.145Z"
   },
   {
    "duration": 0,
    "start_time": "2024-12-27T11:45:54.145Z"
   },
   {
    "duration": 0,
    "start_time": "2024-12-27T11:45:54.146Z"
   },
   {
    "duration": 0,
    "start_time": "2024-12-27T11:45:54.147Z"
   },
   {
    "duration": 0,
    "start_time": "2024-12-27T11:45:54.148Z"
   },
   {
    "duration": 0,
    "start_time": "2024-12-27T11:45:54.149Z"
   },
   {
    "duration": 0,
    "start_time": "2024-12-27T11:45:54.150Z"
   },
   {
    "duration": 0,
    "start_time": "2024-12-27T11:45:54.151Z"
   },
   {
    "duration": 0,
    "start_time": "2024-12-27T11:45:54.151Z"
   },
   {
    "duration": 0,
    "start_time": "2024-12-27T11:45:54.152Z"
   },
   {
    "duration": 0,
    "start_time": "2024-12-27T11:45:54.154Z"
   },
   {
    "duration": 0,
    "start_time": "2024-12-27T11:45:54.154Z"
   },
   {
    "duration": 0,
    "start_time": "2024-12-27T11:45:54.155Z"
   },
   {
    "duration": 0,
    "start_time": "2024-12-27T11:45:54.156Z"
   },
   {
    "duration": 0,
    "start_time": "2024-12-27T11:45:54.157Z"
   },
   {
    "duration": 0,
    "start_time": "2024-12-27T11:45:54.158Z"
   },
   {
    "duration": 0,
    "start_time": "2024-12-27T11:45:54.159Z"
   },
   {
    "duration": 0,
    "start_time": "2024-12-27T11:45:54.160Z"
   },
   {
    "duration": 0,
    "start_time": "2024-12-27T11:45:54.161Z"
   },
   {
    "duration": 2458,
    "start_time": "2024-12-27T11:46:09.802Z"
   },
   {
    "duration": 4,
    "start_time": "2024-12-27T11:46:12.263Z"
   },
   {
    "duration": 2140,
    "start_time": "2024-12-27T11:46:12.269Z"
   },
   {
    "duration": 33,
    "start_time": "2024-12-27T11:46:14.411Z"
   },
   {
    "duration": 5,
    "start_time": "2024-12-27T11:46:14.446Z"
   },
   {
    "duration": 323,
    "start_time": "2024-12-27T11:46:14.453Z"
   },
   {
    "duration": 648,
    "start_time": "2024-12-27T11:46:14.778Z"
   },
   {
    "duration": 156,
    "start_time": "2024-12-27T11:46:15.427Z"
   },
   {
    "duration": 122,
    "start_time": "2024-12-27T11:46:15.585Z"
   },
   {
    "duration": 174,
    "start_time": "2024-12-27T11:46:15.710Z"
   },
   {
    "duration": 3,
    "start_time": "2024-12-27T11:46:15.886Z"
   },
   {
    "duration": 63,
    "start_time": "2024-12-27T11:46:15.891Z"
   },
   {
    "duration": 10,
    "start_time": "2024-12-27T11:46:15.956Z"
   },
   {
    "duration": 41,
    "start_time": "2024-12-27T11:46:15.967Z"
   },
   {
    "duration": 19,
    "start_time": "2024-12-27T11:46:16.009Z"
   },
   {
    "duration": 349,
    "start_time": "2024-12-27T11:46:16.030Z"
   },
   {
    "duration": 22,
    "start_time": "2024-12-27T11:46:16.381Z"
   },
   {
    "duration": 234,
    "start_time": "2024-12-27T11:46:16.405Z"
   },
   {
    "duration": 52,
    "start_time": "2024-12-27T11:46:16.641Z"
   },
   {
    "duration": 56,
    "start_time": "2024-12-27T11:46:16.695Z"
   },
   {
    "duration": 29,
    "start_time": "2024-12-27T11:46:16.753Z"
   },
   {
    "duration": 193,
    "start_time": "2024-12-27T11:46:16.784Z"
   },
   {
    "duration": 66,
    "start_time": "2024-12-27T11:46:16.979Z"
   },
   {
    "duration": 28,
    "start_time": "2024-12-27T11:46:17.047Z"
   },
   {
    "duration": 13,
    "start_time": "2024-12-27T11:46:17.076Z"
   },
   {
    "duration": 94,
    "start_time": "2024-12-27T11:46:17.090Z"
   },
   {
    "duration": 26,
    "start_time": "2024-12-27T11:46:17.186Z"
   },
   {
    "duration": 24,
    "start_time": "2024-12-27T11:46:17.216Z"
   },
   {
    "duration": 280,
    "start_time": "2024-12-27T11:46:17.242Z"
   },
   {
    "duration": 163,
    "start_time": "2024-12-27T11:46:17.524Z"
   },
   {
    "duration": 12,
    "start_time": "2024-12-27T11:46:17.689Z"
   },
   {
    "duration": 85,
    "start_time": "2024-12-27T11:46:17.702Z"
   },
   {
    "duration": 0,
    "start_time": "2024-12-27T11:46:17.789Z"
   },
   {
    "duration": 0,
    "start_time": "2024-12-27T11:46:17.790Z"
   },
   {
    "duration": 0,
    "start_time": "2024-12-27T11:46:17.791Z"
   },
   {
    "duration": 0,
    "start_time": "2024-12-27T11:46:17.792Z"
   },
   {
    "duration": 0,
    "start_time": "2024-12-27T11:46:17.793Z"
   },
   {
    "duration": 0,
    "start_time": "2024-12-27T11:46:17.794Z"
   },
   {
    "duration": 0,
    "start_time": "2024-12-27T11:46:17.796Z"
   },
   {
    "duration": 0,
    "start_time": "2024-12-27T11:46:17.797Z"
   },
   {
    "duration": 0,
    "start_time": "2024-12-27T11:46:17.798Z"
   },
   {
    "duration": 0,
    "start_time": "2024-12-27T11:46:17.799Z"
   },
   {
    "duration": 0,
    "start_time": "2024-12-27T11:46:17.800Z"
   },
   {
    "duration": 0,
    "start_time": "2024-12-27T11:46:17.802Z"
   },
   {
    "duration": 0,
    "start_time": "2024-12-27T11:46:17.803Z"
   },
   {
    "duration": 0,
    "start_time": "2024-12-27T11:46:17.804Z"
   },
   {
    "duration": 0,
    "start_time": "2024-12-27T11:46:17.805Z"
   },
   {
    "duration": 0,
    "start_time": "2024-12-27T11:46:17.806Z"
   },
   {
    "duration": 0,
    "start_time": "2024-12-27T11:46:17.807Z"
   },
   {
    "duration": 0,
    "start_time": "2024-12-27T11:46:17.808Z"
   },
   {
    "duration": 0,
    "start_time": "2024-12-27T11:46:17.809Z"
   },
   {
    "duration": 0,
    "start_time": "2024-12-27T11:46:17.810Z"
   },
   {
    "duration": 0,
    "start_time": "2024-12-27T11:46:17.811Z"
   },
   {
    "duration": 0,
    "start_time": "2024-12-27T11:46:17.812Z"
   },
   {
    "duration": 0,
    "start_time": "2024-12-27T11:46:17.813Z"
   },
   {
    "duration": 0,
    "start_time": "2024-12-27T11:46:17.814Z"
   },
   {
    "duration": 260,
    "start_time": "2024-12-27T11:46:33.836Z"
   },
   {
    "duration": 130,
    "start_time": "2024-12-27T11:54:03.042Z"
   },
   {
    "duration": 10,
    "start_time": "2024-12-27T11:55:13.502Z"
   },
   {
    "duration": 15,
    "start_time": "2024-12-27T12:00:45.592Z"
   },
   {
    "duration": 14,
    "start_time": "2024-12-27T12:05:54.792Z"
   },
   {
    "duration": 16,
    "start_time": "2024-12-27T12:06:39.407Z"
   },
   {
    "duration": 16,
    "start_time": "2024-12-27T12:06:57.285Z"
   },
   {
    "duration": 17,
    "start_time": "2024-12-27T12:08:00.536Z"
   },
   {
    "duration": 5,
    "start_time": "2024-12-27T12:08:45.073Z"
   },
   {
    "duration": 12,
    "start_time": "2024-12-27T12:08:48.247Z"
   },
   {
    "duration": 21,
    "start_time": "2024-12-27T12:09:01.207Z"
   },
   {
    "duration": 52,
    "start_time": "2024-12-27T12:10:26.685Z"
   },
   {
    "duration": 6,
    "start_time": "2024-12-27T12:14:03.123Z"
   },
   {
    "duration": 303,
    "start_time": "2024-12-27T12:16:50.161Z"
   },
   {
    "duration": 21,
    "start_time": "2024-12-27T12:16:53.241Z"
   },
   {
    "duration": 85,
    "start_time": "2024-12-27T12:19:14.994Z"
   },
   {
    "duration": 296,
    "start_time": "2024-12-27T12:21:58.251Z"
   },
   {
    "duration": 13,
    "start_time": "2024-12-27T12:22:00.668Z"
   },
   {
    "duration": 20,
    "start_time": "2024-12-27T12:23:18.430Z"
   },
   {
    "duration": 78,
    "start_time": "2024-12-27T12:23:35.419Z"
   },
   {
    "duration": 20,
    "start_time": "2024-12-27T12:23:53.070Z"
   },
   {
    "duration": 21,
    "start_time": "2024-12-27T12:24:01.282Z"
   },
   {
    "duration": 26,
    "start_time": "2024-12-27T12:24:56.923Z"
   },
   {
    "duration": 30,
    "start_time": "2024-12-27T12:25:00.081Z"
   },
   {
    "duration": 9,
    "start_time": "2024-12-27T12:25:06.147Z"
   },
   {
    "duration": 8,
    "start_time": "2024-12-27T12:25:23.259Z"
   },
   {
    "duration": 8,
    "start_time": "2024-12-27T12:25:28.150Z"
   },
   {
    "duration": 49,
    "start_time": "2024-12-27T12:48:57.351Z"
   },
   {
    "duration": 4,
    "start_time": "2024-12-27T12:50:05.648Z"
   },
   {
    "duration": 4,
    "start_time": "2024-12-27T12:50:41.292Z"
   },
   {
    "duration": 2546,
    "start_time": "2024-12-27T12:56:52.564Z"
   },
   {
    "duration": 1321,
    "start_time": "2024-12-27T12:56:55.112Z"
   },
   {
    "duration": 2350,
    "start_time": "2024-12-27T12:56:56.435Z"
   },
   {
    "duration": 19,
    "start_time": "2024-12-27T12:56:58.787Z"
   },
   {
    "duration": 34,
    "start_time": "2024-12-27T12:56:58.809Z"
   },
   {
    "duration": 339,
    "start_time": "2024-12-27T12:56:58.844Z"
   },
   {
    "duration": 698,
    "start_time": "2024-12-27T12:56:59.185Z"
   },
   {
    "duration": 186,
    "start_time": "2024-12-27T12:56:59.885Z"
   },
   {
    "duration": 133,
    "start_time": "2024-12-27T12:57:00.073Z"
   },
   {
    "duration": 197,
    "start_time": "2024-12-27T12:57:00.207Z"
   },
   {
    "duration": 2,
    "start_time": "2024-12-27T12:57:00.406Z"
   },
   {
    "duration": 113,
    "start_time": "2024-12-27T12:57:00.410Z"
   },
   {
    "duration": 16,
    "start_time": "2024-12-27T12:57:00.524Z"
   },
   {
    "duration": 44,
    "start_time": "2024-12-27T12:57:00.543Z"
   },
   {
    "duration": 23,
    "start_time": "2024-12-27T12:57:00.589Z"
   },
   {
    "duration": 29,
    "start_time": "2024-12-27T12:57:00.614Z"
   },
   {
    "duration": 375,
    "start_time": "2024-12-27T12:57:00.644Z"
   },
   {
    "duration": 30,
    "start_time": "2024-12-27T12:57:01.021Z"
   },
   {
    "duration": 233,
    "start_time": "2024-12-27T12:57:01.053Z"
   },
   {
    "duration": 62,
    "start_time": "2024-12-27T12:57:01.287Z"
   },
   {
    "duration": 29,
    "start_time": "2024-12-27T12:57:01.351Z"
   },
   {
    "duration": 51,
    "start_time": "2024-12-27T12:57:01.382Z"
   },
   {
    "duration": 182,
    "start_time": "2024-12-27T12:57:01.434Z"
   },
   {
    "duration": 84,
    "start_time": "2024-12-27T12:57:01.618Z"
   },
   {
    "duration": 41,
    "start_time": "2024-12-27T12:57:01.704Z"
   },
   {
    "duration": 14,
    "start_time": "2024-12-27T12:57:01.747Z"
   },
   {
    "duration": 94,
    "start_time": "2024-12-27T12:57:01.763Z"
   },
   {
    "duration": 26,
    "start_time": "2024-12-27T12:57:01.859Z"
   },
   {
    "duration": 33,
    "start_time": "2024-12-27T12:57:01.887Z"
   },
   {
    "duration": 28,
    "start_time": "2024-12-27T12:57:01.922Z"
   },
   {
    "duration": 292,
    "start_time": "2024-12-27T12:57:01.952Z"
   },
   {
    "duration": 165,
    "start_time": "2024-12-27T12:57:02.246Z"
   },
   {
    "duration": 28,
    "start_time": "2024-12-27T12:57:02.413Z"
   },
   {
    "duration": 73,
    "start_time": "2024-12-27T12:57:02.443Z"
   },
   {
    "duration": 12,
    "start_time": "2024-12-27T12:57:02.518Z"
   },
   {
    "duration": 41,
    "start_time": "2024-12-27T12:57:02.532Z"
   },
   {
    "duration": 32,
    "start_time": "2024-12-27T12:57:02.575Z"
   },
   {
    "duration": 44,
    "start_time": "2024-12-27T12:57:02.609Z"
   },
   {
    "duration": 52,
    "start_time": "2024-12-27T12:57:02.655Z"
   },
   {
    "duration": 48,
    "start_time": "2024-12-27T12:57:02.708Z"
   },
   {
    "duration": 48,
    "start_time": "2024-12-27T12:57:02.761Z"
   },
   {
    "duration": 66,
    "start_time": "2024-12-27T12:57:02.811Z"
   },
   {
    "duration": 184,
    "start_time": "2024-12-27T12:57:02.879Z"
   },
   {
    "duration": 73,
    "start_time": "2024-12-27T12:57:03.064Z"
   },
   {
    "duration": 104,
    "start_time": "2024-12-27T12:57:03.139Z"
   },
   {
    "duration": 143,
    "start_time": "2024-12-27T12:57:03.245Z"
   },
   {
    "duration": 73,
    "start_time": "2024-12-27T12:57:03.389Z"
   },
   {
    "duration": 13,
    "start_time": "2024-12-27T12:57:03.464Z"
   },
   {
    "duration": 48,
    "start_time": "2024-12-27T12:57:03.479Z"
   },
   {
    "duration": 71,
    "start_time": "2024-12-27T12:57:03.529Z"
   },
   {
    "duration": 322,
    "start_time": "2024-12-27T12:57:03.601Z"
   },
   {
    "duration": 15,
    "start_time": "2024-12-27T12:57:03.925Z"
   },
   {
    "duration": 149,
    "start_time": "2024-12-27T12:57:03.942Z"
   },
   {
    "duration": 22,
    "start_time": "2024-12-27T12:57:04.093Z"
   },
   {
    "duration": 51,
    "start_time": "2024-12-27T12:57:04.117Z"
   },
   {
    "duration": 4,
    "start_time": "2024-12-27T12:57:04.170Z"
   },
   {
    "duration": 54,
    "start_time": "2024-12-27T12:57:04.176Z"
   },
   {
    "duration": 28,
    "start_time": "2024-12-27T12:57:04.237Z"
   },
   {
    "duration": 9,
    "start_time": "2024-12-27T12:57:04.267Z"
   },
   {
    "duration": 8,
    "start_time": "2024-12-27T12:57:04.277Z"
   },
   {
    "duration": 7,
    "start_time": "2024-12-27T12:57:04.287Z"
   },
   {
    "duration": 2595,
    "start_time": "2024-12-27T12:57:16.099Z"
   },
   {
    "duration": 4,
    "start_time": "2024-12-27T12:57:18.697Z"
   },
   {
    "duration": 2792,
    "start_time": "2024-12-27T12:57:18.703Z"
   },
   {
    "duration": 43,
    "start_time": "2024-12-27T12:57:21.496Z"
   },
   {
    "duration": 19,
    "start_time": "2024-12-27T12:57:21.542Z"
   },
   {
    "duration": 325,
    "start_time": "2024-12-27T12:57:21.562Z"
   },
   {
    "duration": 681,
    "start_time": "2024-12-27T12:57:21.888Z"
   },
   {
    "duration": 158,
    "start_time": "2024-12-27T12:57:22.571Z"
   },
   {
    "duration": 127,
    "start_time": "2024-12-27T12:57:22.731Z"
   },
   {
    "duration": 231,
    "start_time": "2024-12-27T12:57:22.860Z"
   },
   {
    "duration": 3,
    "start_time": "2024-12-27T12:57:23.093Z"
   },
   {
    "duration": 44,
    "start_time": "2024-12-27T12:57:23.138Z"
   },
   {
    "duration": 59,
    "start_time": "2024-12-27T12:57:23.184Z"
   },
   {
    "duration": 45,
    "start_time": "2024-12-27T12:57:23.248Z"
   },
   {
    "duration": 14,
    "start_time": "2024-12-27T12:57:23.295Z"
   },
   {
    "duration": 31,
    "start_time": "2024-12-27T12:57:23.311Z"
   },
   {
    "duration": 354,
    "start_time": "2024-12-27T12:57:23.344Z"
   },
   {
    "duration": 21,
    "start_time": "2024-12-27T12:57:23.699Z"
   },
   {
    "duration": 237,
    "start_time": "2024-12-27T12:57:23.736Z"
   },
   {
    "duration": 47,
    "start_time": "2024-12-27T12:57:23.975Z"
   },
   {
    "duration": 30,
    "start_time": "2024-12-27T12:57:24.038Z"
   },
   {
    "duration": 29,
    "start_time": "2024-12-27T12:57:24.069Z"
   },
   {
    "duration": 187,
    "start_time": "2024-12-27T12:57:24.099Z"
   },
   {
    "duration": 70,
    "start_time": "2024-12-27T12:57:24.287Z"
   },
   {
    "duration": 28,
    "start_time": "2024-12-27T12:57:24.358Z"
   },
   {
    "duration": 12,
    "start_time": "2024-12-27T12:57:24.388Z"
   },
   {
    "duration": 87,
    "start_time": "2024-12-27T12:57:24.402Z"
   },
   {
    "duration": 27,
    "start_time": "2024-12-27T12:57:24.491Z"
   },
   {
    "duration": 29,
    "start_time": "2024-12-27T12:57:24.520Z"
   },
   {
    "duration": 21,
    "start_time": "2024-12-27T12:57:24.551Z"
   },
   {
    "duration": 289,
    "start_time": "2024-12-27T12:57:24.574Z"
   },
   {
    "duration": 165,
    "start_time": "2024-12-27T12:57:24.865Z"
   },
   {
    "duration": 11,
    "start_time": "2024-12-27T12:57:25.031Z"
   },
   {
    "duration": 87,
    "start_time": "2024-12-27T12:57:25.044Z"
   },
   {
    "duration": 10,
    "start_time": "2024-12-27T12:57:25.133Z"
   },
   {
    "duration": 20,
    "start_time": "2024-12-27T12:57:25.145Z"
   },
   {
    "duration": 29,
    "start_time": "2024-12-27T12:57:25.166Z"
   },
   {
    "duration": 16,
    "start_time": "2024-12-27T12:57:25.197Z"
   },
   {
    "duration": 5,
    "start_time": "2024-12-27T12:57:25.215Z"
   },
   {
    "duration": 31,
    "start_time": "2024-12-27T12:57:25.221Z"
   },
   {
    "duration": 15,
    "start_time": "2024-12-27T12:57:25.257Z"
   },
   {
    "duration": 11,
    "start_time": "2024-12-27T12:57:25.275Z"
   },
   {
    "duration": 190,
    "start_time": "2024-12-27T12:57:25.288Z"
   },
   {
    "duration": 80,
    "start_time": "2024-12-27T12:57:25.480Z"
   },
   {
    "duration": 87,
    "start_time": "2024-12-27T12:57:25.562Z"
   },
   {
    "duration": 140,
    "start_time": "2024-12-27T12:57:25.650Z"
   },
   {
    "duration": 74,
    "start_time": "2024-12-27T12:57:25.791Z"
   },
   {
    "duration": 23,
    "start_time": "2024-12-27T12:57:25.867Z"
   },
   {
    "duration": 31,
    "start_time": "2024-12-27T12:57:25.891Z"
   },
   {
    "duration": 41,
    "start_time": "2024-12-27T12:57:25.924Z"
   },
   {
    "duration": 289,
    "start_time": "2024-12-27T12:57:25.966Z"
   },
   {
    "duration": 12,
    "start_time": "2024-12-27T12:57:26.257Z"
   },
   {
    "duration": 108,
    "start_time": "2024-12-27T12:57:26.270Z"
   },
   {
    "duration": 23,
    "start_time": "2024-12-27T12:57:26.379Z"
   },
   {
    "duration": 53,
    "start_time": "2024-12-27T12:57:26.404Z"
   },
   {
    "duration": 5,
    "start_time": "2024-12-27T12:57:26.458Z"
   },
   {
    "duration": 44,
    "start_time": "2024-12-27T12:57:26.464Z"
   },
   {
    "duration": 43,
    "start_time": "2024-12-27T12:57:26.510Z"
   },
   {
    "duration": 11,
    "start_time": "2024-12-27T12:57:26.554Z"
   },
   {
    "duration": 6,
    "start_time": "2024-12-27T12:57:26.566Z"
   },
   {
    "duration": 27,
    "start_time": "2024-12-27T12:57:26.574Z"
   },
   {
    "duration": 49,
    "start_time": "2024-12-27T13:02:00.655Z"
   },
   {
    "duration": 5,
    "start_time": "2024-12-27T13:02:02.707Z"
   },
   {
    "duration": 3610,
    "start_time": "2024-12-28T06:29:46.569Z"
   },
   {
    "duration": 1347,
    "start_time": "2024-12-28T06:29:50.181Z"
   },
   {
    "duration": 1793,
    "start_time": "2024-12-28T06:29:51.530Z"
   },
   {
    "duration": 16,
    "start_time": "2024-12-28T06:29:53.326Z"
   },
   {
    "duration": 12,
    "start_time": "2024-12-28T06:29:53.343Z"
   },
   {
    "duration": 276,
    "start_time": "2024-12-28T06:29:53.356Z"
   },
   {
    "duration": 567,
    "start_time": "2024-12-28T06:29:53.634Z"
   },
   {
    "duration": 154,
    "start_time": "2024-12-28T06:29:54.202Z"
   },
   {
    "duration": 105,
    "start_time": "2024-12-28T06:29:54.357Z"
   },
   {
    "duration": 160,
    "start_time": "2024-12-28T06:29:54.465Z"
   },
   {
    "duration": 3,
    "start_time": "2024-12-28T06:29:54.626Z"
   },
   {
    "duration": 52,
    "start_time": "2024-12-28T06:29:54.630Z"
   },
   {
    "duration": 7,
    "start_time": "2024-12-28T06:29:54.684Z"
   },
   {
    "duration": 22,
    "start_time": "2024-12-28T06:29:54.692Z"
   },
   {
    "duration": 7,
    "start_time": "2024-12-28T06:29:54.716Z"
   },
   {
    "duration": 29,
    "start_time": "2024-12-28T06:29:54.724Z"
   },
   {
    "duration": 327,
    "start_time": "2024-12-28T06:29:54.755Z"
   },
   {
    "duration": 19,
    "start_time": "2024-12-28T06:29:55.086Z"
   },
   {
    "duration": 184,
    "start_time": "2024-12-28T06:29:55.106Z"
   },
   {
    "duration": 40,
    "start_time": "2024-12-28T06:29:55.291Z"
   },
   {
    "duration": 24,
    "start_time": "2024-12-28T06:29:55.333Z"
   },
   {
    "duration": 44,
    "start_time": "2024-12-28T06:29:55.358Z"
   },
   {
    "duration": 139,
    "start_time": "2024-12-28T06:29:55.404Z"
   },
   {
    "duration": 85,
    "start_time": "2024-12-28T06:29:55.544Z"
   },
   {
    "duration": 21,
    "start_time": "2024-12-28T06:29:55.631Z"
   },
   {
    "duration": 33,
    "start_time": "2024-12-28T06:29:55.654Z"
   },
   {
    "duration": 53,
    "start_time": "2024-12-28T06:29:55.689Z"
   },
   {
    "duration": 21,
    "start_time": "2024-12-28T06:29:55.746Z"
   },
   {
    "duration": 21,
    "start_time": "2024-12-28T06:29:55.768Z"
   },
   {
    "duration": 18,
    "start_time": "2024-12-28T06:29:55.791Z"
   },
   {
    "duration": 238,
    "start_time": "2024-12-28T06:29:55.810Z"
   },
   {
    "duration": 138,
    "start_time": "2024-12-28T06:29:56.049Z"
   },
   {
    "duration": 9,
    "start_time": "2024-12-28T06:29:56.189Z"
   },
   {
    "duration": 60,
    "start_time": "2024-12-28T06:29:56.199Z"
   },
   {
    "duration": 10,
    "start_time": "2024-12-28T06:29:56.260Z"
   },
   {
    "duration": 20,
    "start_time": "2024-12-28T06:29:56.271Z"
   },
   {
    "duration": 12,
    "start_time": "2024-12-28T06:29:56.292Z"
   },
   {
    "duration": 16,
    "start_time": "2024-12-28T06:29:56.305Z"
   },
   {
    "duration": 5,
    "start_time": "2024-12-28T06:29:56.322Z"
   },
   {
    "duration": 27,
    "start_time": "2024-12-28T06:29:56.328Z"
   },
   {
    "duration": 19,
    "start_time": "2024-12-28T06:29:56.357Z"
   },
   {
    "duration": 51,
    "start_time": "2024-12-28T06:29:56.378Z"
   },
   {
    "duration": 126,
    "start_time": "2024-12-28T06:29:56.431Z"
   },
   {
    "duration": 68,
    "start_time": "2024-12-28T06:29:56.559Z"
   },
   {
    "duration": 71,
    "start_time": "2024-12-28T06:29:56.629Z"
   },
   {
    "duration": 118,
    "start_time": "2024-12-28T06:29:56.702Z"
   },
   {
    "duration": 40,
    "start_time": "2024-12-28T06:29:56.822Z"
   },
   {
    "duration": 24,
    "start_time": "2024-12-28T06:29:56.864Z"
   },
   {
    "duration": 25,
    "start_time": "2024-12-28T06:29:56.890Z"
   },
   {
    "duration": 58,
    "start_time": "2024-12-28T06:29:56.916Z"
   },
   {
    "duration": 261,
    "start_time": "2024-12-28T06:29:56.976Z"
   },
   {
    "duration": 10,
    "start_time": "2024-12-28T06:29:57.239Z"
   },
   {
    "duration": 83,
    "start_time": "2024-12-28T06:29:57.251Z"
   },
   {
    "duration": 19,
    "start_time": "2024-12-28T06:29:57.335Z"
   },
   {
    "duration": 62,
    "start_time": "2024-12-28T06:29:57.356Z"
   },
   {
    "duration": 4,
    "start_time": "2024-12-28T06:29:57.419Z"
   },
   {
    "duration": 98,
    "start_time": "2024-12-28T06:29:57.424Z"
   },
   {
    "duration": 91,
    "start_time": "2024-12-28T06:29:57.524Z"
   },
   {
    "duration": 7,
    "start_time": "2024-12-28T06:29:57.616Z"
   },
   {
    "duration": 25,
    "start_time": "2024-12-28T06:29:57.624Z"
   },
   {
    "duration": 21,
    "start_time": "2024-12-28T06:29:57.650Z"
   },
   {
    "duration": 2735,
    "start_time": "2024-12-28T06:30:04.173Z"
   },
   {
    "duration": 3,
    "start_time": "2024-12-28T06:30:06.910Z"
   },
   {
    "duration": 1502,
    "start_time": "2024-12-28T06:30:06.915Z"
   },
   {
    "duration": 15,
    "start_time": "2024-12-28T06:30:08.419Z"
   },
   {
    "duration": 13,
    "start_time": "2024-12-28T06:30:08.436Z"
   },
   {
    "duration": 269,
    "start_time": "2024-12-28T06:30:08.450Z"
   },
   {
    "duration": 519,
    "start_time": "2024-12-28T06:30:08.721Z"
   },
   {
    "duration": 145,
    "start_time": "2024-12-28T06:30:09.242Z"
   },
   {
    "duration": 125,
    "start_time": "2024-12-28T06:30:09.388Z"
   },
   {
    "duration": 153,
    "start_time": "2024-12-28T06:30:09.515Z"
   },
   {
    "duration": 17,
    "start_time": "2024-12-28T06:30:09.670Z"
   },
   {
    "duration": 40,
    "start_time": "2024-12-28T06:30:09.689Z"
   },
   {
    "duration": 8,
    "start_time": "2024-12-28T06:30:09.731Z"
   },
   {
    "duration": 115,
    "start_time": "2024-12-28T06:30:09.741Z"
   },
   {
    "duration": 7,
    "start_time": "2024-12-28T06:30:09.857Z"
   },
   {
    "duration": 23,
    "start_time": "2024-12-28T06:30:09.866Z"
   },
   {
    "duration": 324,
    "start_time": "2024-12-28T06:30:09.890Z"
   },
   {
    "duration": 18,
    "start_time": "2024-12-28T06:30:10.215Z"
   },
   {
    "duration": 188,
    "start_time": "2024-12-28T06:30:10.234Z"
   },
   {
    "duration": 39,
    "start_time": "2024-12-28T06:30:10.423Z"
   },
   {
    "duration": 40,
    "start_time": "2024-12-28T06:30:10.464Z"
   },
   {
    "duration": 24,
    "start_time": "2024-12-28T06:30:10.505Z"
   },
   {
    "duration": 147,
    "start_time": "2024-12-28T06:30:10.530Z"
   },
   {
    "duration": 47,
    "start_time": "2024-12-28T06:30:10.678Z"
   },
   {
    "duration": 25,
    "start_time": "2024-12-28T06:30:10.727Z"
   },
   {
    "duration": 32,
    "start_time": "2024-12-28T06:30:10.754Z"
   },
   {
    "duration": 48,
    "start_time": "2024-12-28T06:30:10.788Z"
   },
   {
    "duration": 20,
    "start_time": "2024-12-28T06:30:10.841Z"
   },
   {
    "duration": 7,
    "start_time": "2024-12-28T06:30:10.862Z"
   },
   {
    "duration": 18,
    "start_time": "2024-12-28T06:30:10.886Z"
   },
   {
    "duration": 229,
    "start_time": "2024-12-28T06:30:10.906Z"
   },
   {
    "duration": 146,
    "start_time": "2024-12-28T06:30:11.137Z"
   },
   {
    "duration": 9,
    "start_time": "2024-12-28T06:30:11.285Z"
   },
   {
    "duration": 40,
    "start_time": "2024-12-28T06:30:11.295Z"
   },
   {
    "duration": 10,
    "start_time": "2024-12-28T06:30:11.336Z"
   },
   {
    "duration": 39,
    "start_time": "2024-12-28T06:30:11.347Z"
   },
   {
    "duration": 14,
    "start_time": "2024-12-28T06:30:11.388Z"
   },
   {
    "duration": 16,
    "start_time": "2024-12-28T06:30:11.404Z"
   },
   {
    "duration": 4,
    "start_time": "2024-12-28T06:30:11.421Z"
   },
   {
    "duration": 70,
    "start_time": "2024-12-28T06:30:11.427Z"
   },
   {
    "duration": 79,
    "start_time": "2024-12-28T06:30:11.498Z"
   },
   {
    "duration": 10,
    "start_time": "2024-12-28T06:30:11.578Z"
   },
   {
    "duration": 133,
    "start_time": "2024-12-28T06:30:11.590Z"
   },
   {
    "duration": 72,
    "start_time": "2024-12-28T06:30:11.725Z"
   },
   {
    "duration": 57,
    "start_time": "2024-12-28T06:30:11.799Z"
   },
   {
    "duration": 134,
    "start_time": "2024-12-28T06:30:11.857Z"
   },
   {
    "duration": 42,
    "start_time": "2024-12-28T06:30:11.992Z"
   },
   {
    "duration": 5,
    "start_time": "2024-12-28T06:30:12.036Z"
   },
   {
    "duration": 21,
    "start_time": "2024-12-28T06:30:12.043Z"
   },
   {
    "duration": 32,
    "start_time": "2024-12-28T06:30:12.086Z"
   },
   {
    "duration": 252,
    "start_time": "2024-12-28T06:30:12.120Z"
   },
   {
    "duration": 17,
    "start_time": "2024-12-28T06:30:12.374Z"
   },
   {
    "duration": 106,
    "start_time": "2024-12-28T06:30:12.393Z"
   },
   {
    "duration": 29,
    "start_time": "2024-12-28T06:30:12.500Z"
   },
   {
    "duration": 31,
    "start_time": "2024-12-28T06:30:12.531Z"
   },
   {
    "duration": 3,
    "start_time": "2024-12-28T06:30:12.564Z"
   },
   {
    "duration": 44,
    "start_time": "2024-12-28T06:30:12.569Z"
   },
   {
    "duration": 27,
    "start_time": "2024-12-28T06:30:12.614Z"
   },
   {
    "duration": 8,
    "start_time": "2024-12-28T06:30:12.643Z"
   },
   {
    "duration": 35,
    "start_time": "2024-12-28T06:30:12.652Z"
   },
   {
    "duration": 7,
    "start_time": "2024-12-28T06:30:12.688Z"
   },
   {
    "duration": 92,
    "start_time": "2024-12-28T07:07:42.865Z"
   },
   {
    "duration": 17,
    "start_time": "2024-12-28T07:08:40.105Z"
   },
   {
    "duration": 15,
    "start_time": "2024-12-28T07:08:55.326Z"
   },
   {
    "duration": 40,
    "start_time": "2024-12-28T07:11:11.577Z"
   },
   {
    "duration": 61,
    "start_time": "2024-12-28T07:11:14.254Z"
   },
   {
    "duration": 33,
    "start_time": "2024-12-28T07:11:27.279Z"
   },
   {
    "duration": 52,
    "start_time": "2024-12-28T07:11:29.912Z"
   },
   {
    "duration": 34,
    "start_time": "2024-12-28T07:14:00.291Z"
   },
   {
    "duration": 52,
    "start_time": "2024-12-28T07:14:03.415Z"
   },
   {
    "duration": 23,
    "start_time": "2024-12-28T07:18:00.820Z"
   },
   {
    "duration": 25,
    "start_time": "2024-12-28T07:18:01.571Z"
   },
   {
    "duration": 8,
    "start_time": "2024-12-28T07:19:00.516Z"
   },
   {
    "duration": 19,
    "start_time": "2024-12-28T07:19:16.083Z"
   },
   {
    "duration": 11,
    "start_time": "2024-12-28T07:40:49.218Z"
   },
   {
    "duration": 6,
    "start_time": "2024-12-28T07:42:37.866Z"
   },
   {
    "duration": 5,
    "start_time": "2024-12-28T07:42:53.354Z"
   },
   {
    "duration": 7,
    "start_time": "2024-12-28T08:32:17.733Z"
   },
   {
    "duration": 113,
    "start_time": "2024-12-28T08:33:16.093Z"
   },
   {
    "duration": 217,
    "start_time": "2024-12-28T08:33:29.869Z"
   },
   {
    "duration": 131,
    "start_time": "2024-12-28T08:42:16.475Z"
   },
   {
    "duration": 221,
    "start_time": "2024-12-28T08:43:50.769Z"
   },
   {
    "duration": 188,
    "start_time": "2024-12-28T08:44:01.964Z"
   },
   {
    "duration": 137,
    "start_time": "2024-12-28T08:45:39.100Z"
   },
   {
    "duration": 138,
    "start_time": "2024-12-28T08:47:51.228Z"
   },
   {
    "duration": 7,
    "start_time": "2024-12-28T09:48:49.134Z"
   },
   {
    "duration": 4,
    "start_time": "2024-12-28T09:50:12.846Z"
   },
   {
    "duration": 154,
    "start_time": "2024-12-28T09:50:56.153Z"
   },
   {
    "duration": 461,
    "start_time": "2024-12-28T09:57:35.404Z"
   },
   {
    "duration": 16,
    "start_time": "2024-12-28T09:58:57.220Z"
   },
   {
    "duration": 13,
    "start_time": "2024-12-28T09:59:04.204Z"
   },
   {
    "duration": 141,
    "start_time": "2024-12-28T10:02:32.302Z"
   },
   {
    "duration": 7,
    "start_time": "2024-12-28T10:03:36.508Z"
   },
   {
    "duration": 148,
    "start_time": "2024-12-28T10:03:47.499Z"
   },
   {
    "duration": 491,
    "start_time": "2024-12-28T10:04:13.389Z"
   },
   {
    "duration": 488,
    "start_time": "2024-12-28T10:04:38.914Z"
   },
   {
    "duration": 488,
    "start_time": "2024-12-28T10:05:02.613Z"
   },
   {
    "duration": 12,
    "start_time": "2024-12-28T10:05:17.230Z"
   },
   {
    "duration": 430,
    "start_time": "2024-12-28T10:05:35.803Z"
   },
   {
    "duration": 466,
    "start_time": "2024-12-28T10:05:43.562Z"
   },
   {
    "duration": 10,
    "start_time": "2024-12-28T10:13:06.046Z"
   },
   {
    "duration": 6,
    "start_time": "2024-12-28T10:16:28.358Z"
   },
   {
    "duration": 141,
    "start_time": "2024-12-28T10:16:32.110Z"
   },
   {
    "duration": 409,
    "start_time": "2024-12-28T10:16:35.703Z"
   },
   {
    "duration": 11,
    "start_time": "2024-12-28T10:16:39.044Z"
   },
   {
    "duration": 12,
    "start_time": "2024-12-28T10:16:42.566Z"
   },
   {
    "duration": 12,
    "start_time": "2024-12-28T10:17:33.156Z"
   },
   {
    "duration": 3,
    "start_time": "2024-12-28T11:05:44.720Z"
   },
   {
    "duration": 13,
    "start_time": "2024-12-28T11:05:54.884Z"
   },
   {
    "duration": 10,
    "start_time": "2024-12-28T11:09:15.309Z"
   },
   {
    "duration": 14,
    "start_time": "2024-12-28T11:09:34.502Z"
   },
   {
    "duration": 6,
    "start_time": "2024-12-28T11:11:45.763Z"
   },
   {
    "duration": 12,
    "start_time": "2024-12-28T11:11:55.895Z"
   },
   {
    "duration": 8,
    "start_time": "2024-12-28T11:13:39.099Z"
   },
   {
    "duration": 6,
    "start_time": "2024-12-28T11:14:12.272Z"
   },
   {
    "duration": 8,
    "start_time": "2024-12-28T11:19:47.207Z"
   },
   {
    "duration": 3582,
    "start_time": "2024-12-29T08:02:37.646Z"
   },
   {
    "duration": 1416,
    "start_time": "2024-12-29T08:02:41.232Z"
   },
   {
    "duration": 2114,
    "start_time": "2024-12-29T08:02:42.650Z"
   },
   {
    "duration": 20,
    "start_time": "2024-12-29T08:02:44.766Z"
   },
   {
    "duration": 10,
    "start_time": "2024-12-29T08:02:44.787Z"
   },
   {
    "duration": 364,
    "start_time": "2024-12-29T08:02:44.799Z"
   },
   {
    "duration": 678,
    "start_time": "2024-12-29T08:02:45.165Z"
   },
   {
    "duration": 181,
    "start_time": "2024-12-29T08:02:45.845Z"
   },
   {
    "duration": 138,
    "start_time": "2024-12-29T08:02:46.027Z"
   },
   {
    "duration": 198,
    "start_time": "2024-12-29T08:02:46.169Z"
   },
   {
    "duration": 3,
    "start_time": "2024-12-29T08:02:46.368Z"
   },
   {
    "duration": 42,
    "start_time": "2024-12-29T08:02:46.373Z"
   },
   {
    "duration": 27,
    "start_time": "2024-12-29T08:02:46.417Z"
   },
   {
    "duration": 59,
    "start_time": "2024-12-29T08:02:46.446Z"
   },
   {
    "duration": 16,
    "start_time": "2024-12-29T08:02:46.507Z"
   },
   {
    "duration": 19,
    "start_time": "2024-12-29T08:02:46.525Z"
   },
   {
    "duration": 384,
    "start_time": "2024-12-29T08:02:46.546Z"
   },
   {
    "duration": 27,
    "start_time": "2024-12-29T08:02:46.932Z"
   },
   {
    "duration": 244,
    "start_time": "2024-12-29T08:02:46.960Z"
   },
   {
    "duration": 60,
    "start_time": "2024-12-29T08:02:47.205Z"
   },
   {
    "duration": 29,
    "start_time": "2024-12-29T08:02:47.267Z"
   },
   {
    "duration": 44,
    "start_time": "2024-12-29T08:02:47.298Z"
   },
   {
    "duration": 170,
    "start_time": "2024-12-29T08:02:47.344Z"
   },
   {
    "duration": 83,
    "start_time": "2024-12-29T08:02:47.516Z"
   },
   {
    "duration": 24,
    "start_time": "2024-12-29T08:02:47.601Z"
   },
   {
    "duration": 18,
    "start_time": "2024-12-29T08:02:47.627Z"
   },
   {
    "duration": 90,
    "start_time": "2024-12-29T08:02:47.647Z"
   },
   {
    "duration": 24,
    "start_time": "2024-12-29T08:02:47.742Z"
   },
   {
    "duration": 6,
    "start_time": "2024-12-29T08:02:47.768Z"
   },
   {
    "duration": 19,
    "start_time": "2024-12-29T08:02:47.776Z"
   },
   {
    "duration": 296,
    "start_time": "2024-12-29T08:02:47.797Z"
   },
   {
    "duration": 171,
    "start_time": "2024-12-29T08:02:48.095Z"
   },
   {
    "duration": 15,
    "start_time": "2024-12-29T08:02:48.269Z"
   },
   {
    "duration": 75,
    "start_time": "2024-12-29T08:02:48.287Z"
   },
   {
    "duration": 11,
    "start_time": "2024-12-29T08:02:48.364Z"
   },
   {
    "duration": 13,
    "start_time": "2024-12-29T08:02:48.376Z"
   },
   {
    "duration": 14,
    "start_time": "2024-12-29T08:02:48.390Z"
   },
   {
    "duration": 41,
    "start_time": "2024-12-29T08:02:48.406Z"
   },
   {
    "duration": 6,
    "start_time": "2024-12-29T08:02:48.449Z"
   },
   {
    "duration": 25,
    "start_time": "2024-12-29T08:02:48.457Z"
   },
   {
    "duration": 16,
    "start_time": "2024-12-29T08:02:48.484Z"
   },
   {
    "duration": 63,
    "start_time": "2024-12-29T08:02:48.501Z"
   },
   {
    "duration": 187,
    "start_time": "2024-12-29T08:02:48.566Z"
   },
   {
    "duration": 49,
    "start_time": "2024-12-29T08:02:48.755Z"
   },
   {
    "duration": 132,
    "start_time": "2024-12-29T08:02:48.806Z"
   },
   {
    "duration": 127,
    "start_time": "2024-12-29T08:02:48.940Z"
   },
   {
    "duration": 72,
    "start_time": "2024-12-29T08:02:49.068Z"
   },
   {
    "duration": 21,
    "start_time": "2024-12-29T08:02:49.142Z"
   },
   {
    "duration": 23,
    "start_time": "2024-12-29T08:02:49.165Z"
   },
   {
    "duration": 40,
    "start_time": "2024-12-29T08:02:49.189Z"
   },
   {
    "duration": 303,
    "start_time": "2024-12-29T08:02:49.230Z"
   },
   {
    "duration": 13,
    "start_time": "2024-12-29T08:02:49.537Z"
   },
   {
    "duration": 94,
    "start_time": "2024-12-29T08:02:49.552Z"
   },
   {
    "duration": 19,
    "start_time": "2024-12-29T08:02:49.648Z"
   },
   {
    "duration": 38,
    "start_time": "2024-12-29T08:02:49.669Z"
   },
   {
    "duration": 4,
    "start_time": "2024-12-29T08:02:49.709Z"
   },
   {
    "duration": 50,
    "start_time": "2024-12-29T08:02:49.738Z"
   },
   {
    "duration": 30,
    "start_time": "2024-12-29T08:02:49.790Z"
   },
   {
    "duration": 20,
    "start_time": "2024-12-29T08:02:49.823Z"
   },
   {
    "duration": 9,
    "start_time": "2024-12-29T08:02:49.845Z"
   },
   {
    "duration": 8,
    "start_time": "2024-12-29T08:02:49.856Z"
   },
   {
    "duration": 35,
    "start_time": "2024-12-29T08:02:49.866Z"
   },
   {
    "duration": 54,
    "start_time": "2024-12-29T08:02:49.903Z"
   },
   {
    "duration": 11,
    "start_time": "2024-12-29T08:02:49.959Z"
   },
   {
    "duration": 8,
    "start_time": "2024-12-29T08:02:49.972Z"
   },
   {
    "duration": 189,
    "start_time": "2024-12-29T08:02:49.982Z"
   },
   {
    "duration": 492,
    "start_time": "2024-12-29T08:02:50.173Z"
   },
   {
    "duration": 14,
    "start_time": "2024-12-29T08:02:50.667Z"
   },
   {
    "duration": 14,
    "start_time": "2024-12-29T08:02:50.683Z"
   },
   {
    "duration": 6,
    "start_time": "2024-12-29T08:02:50.699Z"
   },
   {
    "duration": 33,
    "start_time": "2024-12-29T08:02:50.706Z"
   },
   {
    "duration": 9,
    "start_time": "2024-12-29T08:02:50.742Z"
   },
   {
    "duration": 7,
    "start_time": "2024-12-29T08:02:50.752Z"
   },
   {
    "duration": 6,
    "start_time": "2024-12-29T08:02:50.761Z"
   },
   {
    "duration": 3157,
    "start_time": "2024-12-29T08:03:08.055Z"
   },
   {
    "duration": 3,
    "start_time": "2024-12-29T08:03:11.215Z"
   },
   {
    "duration": 4740,
    "start_time": "2024-12-29T08:03:11.220Z"
   },
   {
    "duration": 482,
    "start_time": "2024-12-29T08:03:15.962Z"
   },
   {
    "duration": 494,
    "start_time": "2024-12-29T08:03:16.446Z"
   },
   {
    "duration": 351,
    "start_time": "2024-12-29T08:03:16.942Z"
   },
   {
    "duration": 649,
    "start_time": "2024-12-29T08:03:17.295Z"
   },
   {
    "duration": 174,
    "start_time": "2024-12-29T08:03:17.946Z"
   },
   {
    "duration": 187,
    "start_time": "2024-12-29T08:03:18.121Z"
   },
   {
    "duration": 182,
    "start_time": "2024-12-29T08:03:18.312Z"
   },
   {
    "duration": 3,
    "start_time": "2024-12-29T08:03:18.496Z"
   },
   {
    "duration": 63,
    "start_time": "2024-12-29T08:03:18.501Z"
   },
   {
    "duration": 8,
    "start_time": "2024-12-29T08:03:18.565Z"
   },
   {
    "duration": 18,
    "start_time": "2024-12-29T08:03:18.575Z"
   },
   {
    "duration": 8,
    "start_time": "2024-12-29T08:03:18.595Z"
   },
   {
    "duration": 47,
    "start_time": "2024-12-29T08:03:18.604Z"
   },
   {
    "duration": 354,
    "start_time": "2024-12-29T08:03:18.653Z"
   },
   {
    "duration": 40,
    "start_time": "2024-12-29T08:03:19.008Z"
   },
   {
    "duration": 229,
    "start_time": "2024-12-29T08:03:19.051Z"
   },
   {
    "duration": 61,
    "start_time": "2024-12-29T08:03:19.282Z"
   },
   {
    "duration": 30,
    "start_time": "2024-12-29T08:03:19.345Z"
   },
   {
    "duration": 28,
    "start_time": "2024-12-29T08:03:19.377Z"
   },
   {
    "duration": 199,
    "start_time": "2024-12-29T08:03:19.407Z"
   },
   {
    "duration": 67,
    "start_time": "2024-12-29T08:03:19.608Z"
   },
   {
    "duration": 29,
    "start_time": "2024-12-29T08:03:19.677Z"
   },
   {
    "duration": 33,
    "start_time": "2024-12-29T08:03:19.707Z"
   },
   {
    "duration": 58,
    "start_time": "2024-12-29T08:03:19.742Z"
   },
   {
    "duration": 25,
    "start_time": "2024-12-29T08:03:19.902Z"
   },
   {
    "duration": 6,
    "start_time": "2024-12-29T08:03:19.937Z"
   },
   {
    "duration": 20,
    "start_time": "2024-12-29T08:03:19.945Z"
   },
   {
    "duration": 290,
    "start_time": "2024-12-29T08:03:19.967Z"
   },
   {
    "duration": 151,
    "start_time": "2024-12-29T08:03:20.259Z"
   },
   {
    "duration": 30,
    "start_time": "2024-12-29T08:03:20.412Z"
   },
   {
    "duration": 65,
    "start_time": "2024-12-29T08:03:20.444Z"
   },
   {
    "duration": 28,
    "start_time": "2024-12-29T08:03:20.510Z"
   },
   {
    "duration": 16,
    "start_time": "2024-12-29T08:03:20.540Z"
   },
   {
    "duration": 28,
    "start_time": "2024-12-29T08:03:20.558Z"
   },
   {
    "duration": 18,
    "start_time": "2024-12-29T08:03:20.588Z"
   },
   {
    "duration": 93,
    "start_time": "2024-12-29T08:03:20.607Z"
   },
   {
    "duration": 22,
    "start_time": "2024-12-29T08:03:20.702Z"
   },
   {
    "duration": 21,
    "start_time": "2024-12-29T08:03:20.725Z"
   },
   {
    "duration": 21,
    "start_time": "2024-12-29T08:03:20.747Z"
   },
   {
    "duration": 177,
    "start_time": "2024-12-29T08:03:20.769Z"
   },
   {
    "duration": 60,
    "start_time": "2024-12-29T08:03:20.948Z"
   },
   {
    "duration": 120,
    "start_time": "2024-12-29T08:03:21.010Z"
   },
   {
    "duration": 123,
    "start_time": "2024-12-29T08:03:21.131Z"
   },
   {
    "duration": 51,
    "start_time": "2024-12-29T08:03:21.256Z"
   },
   {
    "duration": 31,
    "start_time": "2024-12-29T08:03:21.309Z"
   },
   {
    "duration": 41,
    "start_time": "2024-12-29T08:03:21.341Z"
   },
   {
    "duration": 48,
    "start_time": "2024-12-29T08:03:21.384Z"
   },
   {
    "duration": 333,
    "start_time": "2024-12-29T08:03:21.434Z"
   },
   {
    "duration": 16,
    "start_time": "2024-12-29T08:03:21.769Z"
   },
   {
    "duration": 103,
    "start_time": "2024-12-29T08:03:21.786Z"
   },
   {
    "duration": 25,
    "start_time": "2024-12-29T08:03:21.890Z"
   },
   {
    "duration": 50,
    "start_time": "2024-12-29T08:03:21.917Z"
   },
   {
    "duration": 4,
    "start_time": "2024-12-29T08:03:21.969Z"
   },
   {
    "duration": 36,
    "start_time": "2024-12-29T08:03:21.975Z"
   },
   {
    "duration": 46,
    "start_time": "2024-12-29T08:03:22.013Z"
   },
   {
    "duration": 10,
    "start_time": "2024-12-29T08:03:22.062Z"
   },
   {
    "duration": 10,
    "start_time": "2024-12-29T08:03:22.074Z"
   },
   {
    "duration": 24,
    "start_time": "2024-12-29T08:03:22.086Z"
   },
   {
    "duration": 46,
    "start_time": "2024-12-29T08:03:22.112Z"
   },
   {
    "duration": 34,
    "start_time": "2024-12-29T08:03:22.159Z"
   },
   {
    "duration": 11,
    "start_time": "2024-12-29T08:03:22.194Z"
   },
   {
    "duration": 35,
    "start_time": "2024-12-29T08:03:22.206Z"
   },
   {
    "duration": 205,
    "start_time": "2024-12-29T08:03:22.243Z"
   },
   {
    "duration": 669,
    "start_time": "2024-12-29T08:03:22.450Z"
   },
   {
    "duration": 22,
    "start_time": "2024-12-29T08:03:23.122Z"
   },
   {
    "duration": 13,
    "start_time": "2024-12-29T08:03:23.146Z"
   },
   {
    "duration": 6,
    "start_time": "2024-12-29T08:03:23.160Z"
   },
   {
    "duration": 6,
    "start_time": "2024-12-29T08:03:23.168Z"
   },
   {
    "duration": 24,
    "start_time": "2024-12-29T08:03:23.176Z"
   },
   {
    "duration": 6,
    "start_time": "2024-12-29T08:03:23.202Z"
   },
   {
    "duration": 6,
    "start_time": "2024-12-29T08:03:23.238Z"
   },
   {
    "duration": 6,
    "start_time": "2024-12-29T08:09:43.512Z"
   },
   {
    "duration": 6,
    "start_time": "2024-12-29T08:09:58.888Z"
   },
   {
    "duration": 6,
    "start_time": "2024-12-29T08:10:16.453Z"
   },
   {
    "duration": 5,
    "start_time": "2024-12-29T08:10:25.789Z"
   },
   {
    "duration": 6,
    "start_time": "2024-12-29T08:10:53.704Z"
   },
   {
    "duration": 6,
    "start_time": "2024-12-29T08:11:00.304Z"
   },
   {
    "duration": 6,
    "start_time": "2024-12-29T08:18:37.425Z"
   },
   {
    "duration": 5,
    "start_time": "2024-12-29T08:18:38.579Z"
   },
   {
    "duration": 6,
    "start_time": "2024-12-29T08:18:41.584Z"
   },
   {
    "duration": 233,
    "start_time": "2024-12-29T08:19:01.634Z"
   },
   {
    "duration": 222,
    "start_time": "2024-12-29T08:19:56.034Z"
   },
   {
    "duration": 11,
    "start_time": "2024-12-29T08:20:40.022Z"
   },
   {
    "duration": 13,
    "start_time": "2024-12-29T08:36:51.326Z"
   },
   {
    "duration": 24,
    "start_time": "2024-12-29T08:38:19.363Z"
   },
   {
    "duration": 7,
    "start_time": "2024-12-29T09:09:19.554Z"
   },
   {
    "duration": 9,
    "start_time": "2024-12-29T09:10:05.930Z"
   },
   {
    "duration": 10,
    "start_time": "2024-12-29T09:14:19.210Z"
   },
   {
    "duration": 8,
    "start_time": "2024-12-29T09:14:37.556Z"
   },
   {
    "duration": 12,
    "start_time": "2024-12-29T09:15:50.379Z"
   },
   {
    "duration": 10,
    "start_time": "2024-12-29T09:15:53.989Z"
   },
   {
    "duration": 10,
    "start_time": "2024-12-29T09:16:28.402Z"
   },
   {
    "duration": 12,
    "start_time": "2024-12-29T09:16:31.720Z"
   },
   {
    "duration": 14,
    "start_time": "2024-12-29T09:17:50.696Z"
   },
   {
    "duration": 17,
    "start_time": "2024-12-29T09:17:51.057Z"
   },
   {
    "duration": 1390,
    "start_time": "2024-12-29T09:26:46.862Z"
   },
   {
    "duration": 387,
    "start_time": "2024-12-29T09:27:37.558Z"
   },
   {
    "duration": 432,
    "start_time": "2024-12-29T09:28:42.133Z"
   },
   {
    "duration": 414,
    "start_time": "2024-12-29T09:28:50.853Z"
   },
   {
    "duration": 422,
    "start_time": "2024-12-29T09:29:05.834Z"
   },
   {
    "duration": 574,
    "start_time": "2024-12-29T09:29:12.379Z"
   },
   {
    "duration": 394,
    "start_time": "2024-12-29T09:29:34.054Z"
   },
   {
    "duration": 389,
    "start_time": "2024-12-29T09:29:42.359Z"
   },
   {
    "duration": 10,
    "start_time": "2024-12-29T09:30:20.073Z"
   },
   {
    "duration": 69,
    "start_time": "2024-12-29T09:42:50.290Z"
   },
   {
    "duration": 167,
    "start_time": "2024-12-29T09:43:55.495Z"
   },
   {
    "duration": 18,
    "start_time": "2024-12-29T09:44:01.031Z"
   },
   {
    "duration": 8,
    "start_time": "2024-12-29T09:44:59.065Z"
   },
   {
    "duration": 11,
    "start_time": "2024-12-29T09:45:10.075Z"
   },
   {
    "duration": 8,
    "start_time": "2024-12-29T09:45:15.691Z"
   },
   {
    "duration": 8,
    "start_time": "2024-12-29T09:45:28.415Z"
   },
   {
    "duration": 9,
    "start_time": "2024-12-29T09:47:25.021Z"
   },
   {
    "duration": 17,
    "start_time": "2024-12-29T09:52:11.751Z"
   },
   {
    "duration": 8,
    "start_time": "2024-12-29T09:52:18.145Z"
   },
   {
    "duration": 27,
    "start_time": "2024-12-29T09:52:51.220Z"
   },
   {
    "duration": 7,
    "start_time": "2024-12-29T09:52:51.925Z"
   },
   {
    "duration": 17,
    "start_time": "2024-12-29T09:53:00.080Z"
   },
   {
    "duration": 7,
    "start_time": "2024-12-29T09:53:00.827Z"
   },
   {
    "duration": 23,
    "start_time": "2024-12-29T09:53:48.070Z"
   },
   {
    "duration": 9,
    "start_time": "2024-12-29T09:53:49.423Z"
   },
   {
    "duration": 2827,
    "start_time": "2024-12-29T10:53:46.968Z"
   },
   {
    "duration": 1265,
    "start_time": "2024-12-29T10:53:49.797Z"
   },
   {
    "duration": 2510,
    "start_time": "2024-12-29T10:53:51.065Z"
   },
   {
    "duration": 19,
    "start_time": "2024-12-29T10:53:53.577Z"
   },
   {
    "duration": 5,
    "start_time": "2024-12-29T10:53:53.598Z"
   },
   {
    "duration": 375,
    "start_time": "2024-12-29T10:53:53.604Z"
   },
   {
    "duration": 744,
    "start_time": "2024-12-29T10:53:53.981Z"
   },
   {
    "duration": 187,
    "start_time": "2024-12-29T10:53:54.727Z"
   },
   {
    "duration": 157,
    "start_time": "2024-12-29T10:53:54.915Z"
   },
   {
    "duration": 224,
    "start_time": "2024-12-29T10:53:55.075Z"
   },
   {
    "duration": 3,
    "start_time": "2024-12-29T10:53:55.300Z"
   },
   {
    "duration": 54,
    "start_time": "2024-12-29T10:53:55.305Z"
   },
   {
    "duration": 8,
    "start_time": "2024-12-29T10:53:55.361Z"
   },
   {
    "duration": 18,
    "start_time": "2024-12-29T10:53:55.370Z"
   },
   {
    "duration": 8,
    "start_time": "2024-12-29T10:53:55.390Z"
   },
   {
    "duration": 45,
    "start_time": "2024-12-29T10:53:55.399Z"
   },
   {
    "duration": 373,
    "start_time": "2024-12-29T10:53:55.445Z"
   },
   {
    "duration": 45,
    "start_time": "2024-12-29T10:53:55.820Z"
   },
   {
    "duration": 234,
    "start_time": "2024-12-29T10:53:55.867Z"
   },
   {
    "duration": 76,
    "start_time": "2024-12-29T10:53:56.103Z"
   },
   {
    "duration": 31,
    "start_time": "2024-12-29T10:53:56.180Z"
   },
   {
    "duration": 45,
    "start_time": "2024-12-29T10:53:56.213Z"
   },
   {
    "duration": 171,
    "start_time": "2024-12-29T10:53:56.260Z"
   },
   {
    "duration": 78,
    "start_time": "2024-12-29T10:53:56.437Z"
   },
   {
    "duration": 43,
    "start_time": "2024-12-29T10:53:56.517Z"
   },
   {
    "duration": 11,
    "start_time": "2024-12-29T10:53:56.562Z"
   },
   {
    "duration": 90,
    "start_time": "2024-12-29T10:53:56.575Z"
   },
   {
    "duration": 27,
    "start_time": "2024-12-29T10:53:56.671Z"
   },
   {
    "duration": 7,
    "start_time": "2024-12-29T10:53:56.701Z"
   },
   {
    "duration": 48,
    "start_time": "2024-12-29T10:53:56.710Z"
   },
   {
    "duration": 325,
    "start_time": "2024-12-29T10:53:56.760Z"
   },
   {
    "duration": 194,
    "start_time": "2024-12-29T10:53:57.087Z"
   },
   {
    "duration": 11,
    "start_time": "2024-12-29T10:53:57.283Z"
   },
   {
    "duration": 85,
    "start_time": "2024-12-29T10:53:57.296Z"
   },
   {
    "duration": 11,
    "start_time": "2024-12-29T10:53:57.384Z"
   },
   {
    "duration": 17,
    "start_time": "2024-12-29T10:53:57.396Z"
   },
   {
    "duration": 46,
    "start_time": "2024-12-29T10:53:57.415Z"
   },
   {
    "duration": 20,
    "start_time": "2024-12-29T10:53:57.464Z"
   },
   {
    "duration": 6,
    "start_time": "2024-12-29T10:53:57.487Z"
   },
   {
    "duration": 11,
    "start_time": "2024-12-29T10:53:57.495Z"
   },
   {
    "duration": 48,
    "start_time": "2024-12-29T10:53:57.508Z"
   },
   {
    "duration": 48,
    "start_time": "2024-12-29T10:53:57.558Z"
   },
   {
    "duration": 232,
    "start_time": "2024-12-29T10:53:57.608Z"
   },
   {
    "duration": 52,
    "start_time": "2024-12-29T10:53:57.845Z"
   },
   {
    "duration": 93,
    "start_time": "2024-12-29T10:53:57.898Z"
   },
   {
    "duration": 160,
    "start_time": "2024-12-29T10:53:57.993Z"
   },
   {
    "duration": 49,
    "start_time": "2024-12-29T10:53:58.156Z"
   },
   {
    "duration": 6,
    "start_time": "2024-12-29T10:53:58.207Z"
   },
   {
    "duration": 47,
    "start_time": "2024-12-29T10:53:58.237Z"
   },
   {
    "duration": 69,
    "start_time": "2024-12-29T10:53:58.286Z"
   },
   {
    "duration": 335,
    "start_time": "2024-12-29T10:53:58.358Z"
   },
   {
    "duration": 13,
    "start_time": "2024-12-29T10:53:58.695Z"
   },
   {
    "duration": 115,
    "start_time": "2024-12-29T10:53:58.710Z"
   },
   {
    "duration": 30,
    "start_time": "2024-12-29T10:53:58.826Z"
   },
   {
    "duration": 58,
    "start_time": "2024-12-29T10:53:58.858Z"
   },
   {
    "duration": 4,
    "start_time": "2024-12-29T10:53:58.918Z"
   },
   {
    "duration": 52,
    "start_time": "2024-12-29T10:53:58.923Z"
   },
   {
    "duration": 28,
    "start_time": "2024-12-29T10:53:58.977Z"
   },
   {
    "duration": 8,
    "start_time": "2024-12-29T10:53:59.007Z"
   },
   {
    "duration": 35,
    "start_time": "2024-12-29T10:53:59.017Z"
   },
   {
    "duration": 8,
    "start_time": "2024-12-29T10:53:59.054Z"
   },
   {
    "duration": 41,
    "start_time": "2024-12-29T10:53:59.064Z"
   },
   {
    "duration": 26,
    "start_time": "2024-12-29T10:53:59.107Z"
   },
   {
    "duration": 24,
    "start_time": "2024-12-29T10:53:59.135Z"
   },
   {
    "duration": 28,
    "start_time": "2024-12-29T10:53:59.161Z"
   },
   {
    "duration": 176,
    "start_time": "2024-12-29T10:53:59.191Z"
   },
   {
    "duration": 517,
    "start_time": "2024-12-29T10:53:59.368Z"
   },
   {
    "duration": 12,
    "start_time": "2024-12-29T10:53:59.887Z"
   },
   {
    "duration": 11,
    "start_time": "2024-12-29T10:53:59.901Z"
   },
   {
    "duration": 33,
    "start_time": "2024-12-29T10:53:59.914Z"
   },
   {
    "duration": 8,
    "start_time": "2024-12-29T10:53:59.951Z"
   },
   {
    "duration": 16,
    "start_time": "2024-12-29T10:53:59.961Z"
   },
   {
    "duration": 112,
    "start_time": "2024-12-29T10:53:59.979Z"
   },
   {
    "duration": 164,
    "start_time": "2024-12-29T10:54:00.092Z"
   },
   {
    "duration": 0,
    "start_time": "2024-12-29T10:54:00.258Z"
   },
   {
    "duration": 0,
    "start_time": "2024-12-29T10:54:00.260Z"
   },
   {
    "duration": 0,
    "start_time": "2024-12-29T10:54:00.261Z"
   },
   {
    "duration": 0,
    "start_time": "2024-12-29T10:54:00.262Z"
   },
   {
    "duration": 0,
    "start_time": "2024-12-29T10:54:00.263Z"
   },
   {
    "duration": 0,
    "start_time": "2024-12-29T10:54:00.264Z"
   },
   {
    "duration": 0,
    "start_time": "2024-12-29T10:54:00.266Z"
   },
   {
    "duration": 0,
    "start_time": "2024-12-29T10:54:00.267Z"
   },
   {
    "duration": 0,
    "start_time": "2024-12-29T10:54:00.269Z"
   },
   {
    "duration": 0,
    "start_time": "2024-12-29T10:54:00.270Z"
   },
   {
    "duration": 0,
    "start_time": "2024-12-29T10:54:00.271Z"
   },
   {
    "duration": 0,
    "start_time": "2024-12-29T10:54:00.272Z"
   },
   {
    "duration": 0,
    "start_time": "2024-12-29T10:54:00.274Z"
   },
   {
    "duration": 2762,
    "start_time": "2024-12-29T10:54:21.432Z"
   },
   {
    "duration": 3,
    "start_time": "2024-12-29T10:54:24.197Z"
   },
   {
    "duration": 2121,
    "start_time": "2024-12-29T10:54:24.202Z"
   },
   {
    "duration": 34,
    "start_time": "2024-12-29T10:54:26.325Z"
   },
   {
    "duration": 5,
    "start_time": "2024-12-29T10:54:26.361Z"
   },
   {
    "duration": 394,
    "start_time": "2024-12-29T10:54:26.368Z"
   },
   {
    "duration": 706,
    "start_time": "2024-12-29T10:54:26.764Z"
   },
   {
    "duration": 175,
    "start_time": "2024-12-29T10:54:27.471Z"
   },
   {
    "duration": 136,
    "start_time": "2024-12-29T10:54:27.648Z"
   },
   {
    "duration": 203,
    "start_time": "2024-12-29T10:54:27.787Z"
   },
   {
    "duration": 3,
    "start_time": "2024-12-29T10:54:27.991Z"
   },
   {
    "duration": 96,
    "start_time": "2024-12-29T10:54:27.996Z"
   },
   {
    "duration": 9,
    "start_time": "2024-12-29T10:54:28.094Z"
   },
   {
    "duration": 21,
    "start_time": "2024-12-29T10:54:28.105Z"
   },
   {
    "duration": 13,
    "start_time": "2024-12-29T10:54:28.128Z"
   },
   {
    "duration": 21,
    "start_time": "2024-12-29T10:54:28.149Z"
   },
   {
    "duration": 412,
    "start_time": "2024-12-29T10:54:28.172Z"
   },
   {
    "duration": 25,
    "start_time": "2024-12-29T10:54:28.586Z"
   },
   {
    "duration": 257,
    "start_time": "2024-12-29T10:54:28.613Z"
   },
   {
    "duration": 45,
    "start_time": "2024-12-29T10:54:28.872Z"
   },
   {
    "duration": 51,
    "start_time": "2024-12-29T10:54:28.919Z"
   },
   {
    "duration": 27,
    "start_time": "2024-12-29T10:54:28.971Z"
   },
   {
    "duration": 191,
    "start_time": "2024-12-29T10:54:28.999Z"
   },
   {
    "duration": 83,
    "start_time": "2024-12-29T10:54:29.191Z"
   },
   {
    "duration": 28,
    "start_time": "2024-12-29T10:54:29.275Z"
   },
   {
    "duration": 40,
    "start_time": "2024-12-29T10:54:29.305Z"
   },
   {
    "duration": 64,
    "start_time": "2024-12-29T10:54:29.347Z"
   },
   {
    "duration": 31,
    "start_time": "2024-12-29T10:54:29.520Z"
   },
   {
    "duration": 7,
    "start_time": "2024-12-29T10:54:29.553Z"
   },
   {
    "duration": 29,
    "start_time": "2024-12-29T10:54:29.561Z"
   },
   {
    "duration": 304,
    "start_time": "2024-12-29T10:54:29.591Z"
   },
   {
    "duration": 175,
    "start_time": "2024-12-29T10:54:29.897Z"
   },
   {
    "duration": 12,
    "start_time": "2024-12-29T10:54:30.075Z"
   },
   {
    "duration": 92,
    "start_time": "2024-12-29T10:54:30.089Z"
   },
   {
    "duration": 11,
    "start_time": "2024-12-29T10:54:30.183Z"
   },
   {
    "duration": 33,
    "start_time": "2024-12-29T10:54:30.196Z"
   },
   {
    "duration": 25,
    "start_time": "2024-12-29T10:54:30.231Z"
   },
   {
    "duration": 56,
    "start_time": "2024-12-29T10:54:30.258Z"
   },
   {
    "duration": 17,
    "start_time": "2024-12-29T10:54:30.315Z"
   },
   {
    "duration": 57,
    "start_time": "2024-12-29T10:54:30.334Z"
   },
   {
    "duration": 26,
    "start_time": "2024-12-29T10:54:30.393Z"
   },
   {
    "duration": 17,
    "start_time": "2024-12-29T10:54:30.421Z"
   },
   {
    "duration": 211,
    "start_time": "2024-12-29T10:54:30.443Z"
   },
   {
    "duration": 61,
    "start_time": "2024-12-29T10:54:30.656Z"
   },
   {
    "duration": 81,
    "start_time": "2024-12-29T10:54:30.719Z"
   },
   {
    "duration": 179,
    "start_time": "2024-12-29T10:54:30.802Z"
   },
   {
    "duration": 74,
    "start_time": "2024-12-29T10:54:30.983Z"
   },
   {
    "duration": 8,
    "start_time": "2024-12-29T10:54:31.059Z"
   },
   {
    "duration": 26,
    "start_time": "2024-12-29T10:54:31.069Z"
   },
   {
    "duration": 64,
    "start_time": "2024-12-29T10:54:31.098Z"
   },
   {
    "duration": 326,
    "start_time": "2024-12-29T10:54:31.164Z"
   },
   {
    "duration": 15,
    "start_time": "2024-12-29T10:54:31.491Z"
   },
   {
    "duration": 109,
    "start_time": "2024-12-29T10:54:31.508Z"
   },
   {
    "duration": 38,
    "start_time": "2024-12-29T10:54:31.620Z"
   },
   {
    "duration": 36,
    "start_time": "2024-12-29T10:54:31.660Z"
   },
   {
    "duration": 5,
    "start_time": "2024-12-29T10:54:31.698Z"
   },
   {
    "duration": 72,
    "start_time": "2024-12-29T10:54:31.705Z"
   },
   {
    "duration": 37,
    "start_time": "2024-12-29T10:54:31.779Z"
   },
   {
    "duration": 36,
    "start_time": "2024-12-29T10:54:31.817Z"
   },
   {
    "duration": 7,
    "start_time": "2024-12-29T10:54:31.855Z"
   },
   {
    "duration": 12,
    "start_time": "2024-12-29T10:54:31.864Z"
   },
   {
    "duration": 26,
    "start_time": "2024-12-29T10:54:31.878Z"
   },
   {
    "duration": 47,
    "start_time": "2024-12-29T10:54:31.905Z"
   },
   {
    "duration": 11,
    "start_time": "2024-12-29T10:54:31.954Z"
   },
   {
    "duration": 6,
    "start_time": "2024-12-29T10:54:31.967Z"
   },
   {
    "duration": 193,
    "start_time": "2024-12-29T10:54:31.974Z"
   },
   {
    "duration": 521,
    "start_time": "2024-12-29T10:54:32.169Z"
   },
   {
    "duration": 13,
    "start_time": "2024-12-29T10:54:32.692Z"
   },
   {
    "duration": 42,
    "start_time": "2024-12-29T10:54:32.707Z"
   },
   {
    "duration": 6,
    "start_time": "2024-12-29T10:54:32.751Z"
   },
   {
    "duration": 15,
    "start_time": "2024-12-29T10:54:32.759Z"
   },
   {
    "duration": 9,
    "start_time": "2024-12-29T10:54:32.776Z"
   },
   {
    "duration": 6,
    "start_time": "2024-12-29T10:54:32.786Z"
   },
   {
    "duration": 152,
    "start_time": "2024-12-29T10:54:32.793Z"
   },
   {
    "duration": 0,
    "start_time": "2024-12-29T10:54:32.947Z"
   },
   {
    "duration": 0,
    "start_time": "2024-12-29T10:54:32.948Z"
   },
   {
    "duration": 0,
    "start_time": "2024-12-29T10:54:32.953Z"
   },
   {
    "duration": 0,
    "start_time": "2024-12-29T10:54:32.954Z"
   },
   {
    "duration": 0,
    "start_time": "2024-12-29T10:54:32.955Z"
   },
   {
    "duration": 0,
    "start_time": "2024-12-29T10:54:32.957Z"
   },
   {
    "duration": 0,
    "start_time": "2024-12-29T10:54:32.958Z"
   },
   {
    "duration": 0,
    "start_time": "2024-12-29T10:54:32.959Z"
   },
   {
    "duration": 0,
    "start_time": "2024-12-29T10:54:32.960Z"
   },
   {
    "duration": 0,
    "start_time": "2024-12-29T10:54:32.962Z"
   },
   {
    "duration": 0,
    "start_time": "2024-12-29T10:54:32.963Z"
   },
   {
    "duration": 0,
    "start_time": "2024-12-29T10:54:32.964Z"
   },
   {
    "duration": 0,
    "start_time": "2024-12-29T10:54:32.965Z"
   },
   {
    "duration": 2737,
    "start_time": "2024-12-29T10:55:11.511Z"
   },
   {
    "duration": 1262,
    "start_time": "2024-12-29T10:55:14.251Z"
   },
   {
    "duration": 2001,
    "start_time": "2024-12-29T10:55:15.515Z"
   },
   {
    "duration": 33,
    "start_time": "2024-12-29T10:55:17.518Z"
   },
   {
    "duration": 6,
    "start_time": "2024-12-29T10:55:17.553Z"
   },
   {
    "duration": 389,
    "start_time": "2024-12-29T10:55:17.561Z"
   },
   {
    "duration": 743,
    "start_time": "2024-12-29T10:55:17.952Z"
   },
   {
    "duration": 192,
    "start_time": "2024-12-29T10:55:18.697Z"
   },
   {
    "duration": 154,
    "start_time": "2024-12-29T10:55:18.891Z"
   },
   {
    "duration": 222,
    "start_time": "2024-12-29T10:55:19.051Z"
   },
   {
    "duration": 3,
    "start_time": "2024-12-29T10:55:19.274Z"
   },
   {
    "duration": 56,
    "start_time": "2024-12-29T10:55:19.279Z"
   },
   {
    "duration": 20,
    "start_time": "2024-12-29T10:55:19.338Z"
   },
   {
    "duration": 17,
    "start_time": "2024-12-29T10:55:19.359Z"
   },
   {
    "duration": 19,
    "start_time": "2024-12-29T10:55:19.378Z"
   },
   {
    "duration": 44,
    "start_time": "2024-12-29T10:55:19.398Z"
   },
   {
    "duration": 383,
    "start_time": "2024-12-29T10:55:19.444Z"
   },
   {
    "duration": 26,
    "start_time": "2024-12-29T10:55:19.837Z"
   },
   {
    "duration": 255,
    "start_time": "2024-12-29T10:55:19.865Z"
   },
   {
    "duration": 77,
    "start_time": "2024-12-29T10:55:20.122Z"
   },
   {
    "duration": 51,
    "start_time": "2024-12-29T10:55:20.201Z"
   },
   {
    "duration": 28,
    "start_time": "2024-12-29T10:55:20.254Z"
   },
   {
    "duration": 182,
    "start_time": "2024-12-29T10:55:20.284Z"
   },
   {
    "duration": 97,
    "start_time": "2024-12-29T10:55:20.468Z"
   },
   {
    "duration": 27,
    "start_time": "2024-12-29T10:55:20.567Z"
   },
   {
    "duration": 35,
    "start_time": "2024-12-29T10:55:20.596Z"
   },
   {
    "duration": 72,
    "start_time": "2024-12-29T10:55:20.633Z"
   },
   {
    "duration": 45,
    "start_time": "2024-12-29T10:55:20.709Z"
   },
   {
    "duration": 6,
    "start_time": "2024-12-29T10:55:20.756Z"
   },
   {
    "duration": 19,
    "start_time": "2024-12-29T10:55:20.764Z"
   },
   {
    "duration": 298,
    "start_time": "2024-12-29T10:55:20.784Z"
   },
   {
    "duration": 189,
    "start_time": "2024-12-29T10:55:21.084Z"
   },
   {
    "duration": 11,
    "start_time": "2024-12-29T10:55:21.275Z"
   },
   {
    "duration": 74,
    "start_time": "2024-12-29T10:55:21.287Z"
   },
   {
    "duration": 11,
    "start_time": "2024-12-29T10:55:21.363Z"
   },
   {
    "duration": 15,
    "start_time": "2024-12-29T10:55:21.375Z"
   },
   {
    "duration": 15,
    "start_time": "2024-12-29T10:55:21.391Z"
   },
   {
    "duration": 24,
    "start_time": "2024-12-29T10:55:21.440Z"
   },
   {
    "duration": 5,
    "start_time": "2024-12-29T10:55:21.466Z"
   },
   {
    "duration": 15,
    "start_time": "2024-12-29T10:55:21.473Z"
   },
   {
    "duration": 19,
    "start_time": "2024-12-29T10:55:21.490Z"
   },
   {
    "duration": 74,
    "start_time": "2024-12-29T10:55:21.510Z"
   },
   {
    "duration": 193,
    "start_time": "2024-12-29T10:55:21.586Z"
   },
   {
    "duration": 66,
    "start_time": "2024-12-29T10:55:21.780Z"
   },
   {
    "duration": 107,
    "start_time": "2024-12-29T10:55:21.848Z"
   },
   {
    "duration": 140,
    "start_time": "2024-12-29T10:55:21.959Z"
   },
   {
    "duration": 75,
    "start_time": "2024-12-29T10:55:22.102Z"
   },
   {
    "duration": 5,
    "start_time": "2024-12-29T10:55:22.179Z"
   },
   {
    "duration": 44,
    "start_time": "2024-12-29T10:55:22.186Z"
   },
   {
    "duration": 62,
    "start_time": "2024-12-29T10:55:22.232Z"
   },
   {
    "duration": 348,
    "start_time": "2024-12-29T10:55:22.296Z"
   },
   {
    "duration": 13,
    "start_time": "2024-12-29T10:55:22.650Z"
   },
   {
    "duration": 110,
    "start_time": "2024-12-29T10:55:22.665Z"
   },
   {
    "duration": 21,
    "start_time": "2024-12-29T10:55:22.777Z"
   },
   {
    "duration": 99,
    "start_time": "2024-12-29T10:55:22.800Z"
   },
   {
    "duration": 5,
    "start_time": "2024-12-29T10:55:22.900Z"
   },
   {
    "duration": 44,
    "start_time": "2024-12-29T10:55:22.906Z"
   },
   {
    "duration": 28,
    "start_time": "2024-12-29T10:55:22.954Z"
   },
   {
    "duration": 9,
    "start_time": "2024-12-29T10:55:22.984Z"
   },
   {
    "duration": 7,
    "start_time": "2024-12-29T10:55:22.995Z"
   },
   {
    "duration": 10,
    "start_time": "2024-12-29T10:55:23.003Z"
   },
   {
    "duration": 26,
    "start_time": "2024-12-29T10:55:23.046Z"
   },
   {
    "duration": 26,
    "start_time": "2024-12-29T10:55:23.074Z"
   },
   {
    "duration": 10,
    "start_time": "2024-12-29T10:55:23.102Z"
   },
   {
    "duration": 13,
    "start_time": "2024-12-29T10:55:23.113Z"
   },
   {
    "duration": 169,
    "start_time": "2024-12-29T10:55:23.145Z"
   },
   {
    "duration": 462,
    "start_time": "2024-12-29T10:55:23.316Z"
   },
   {
    "duration": 12,
    "start_time": "2024-12-29T10:55:23.780Z"
   },
   {
    "duration": 12,
    "start_time": "2024-12-29T10:55:23.794Z"
   },
   {
    "duration": 11,
    "start_time": "2024-12-29T10:55:23.807Z"
   },
   {
    "duration": 27,
    "start_time": "2024-12-29T10:55:23.820Z"
   },
   {
    "duration": 10,
    "start_time": "2024-12-29T10:55:23.849Z"
   },
   {
    "duration": 6,
    "start_time": "2024-12-29T10:55:23.860Z"
   },
   {
    "duration": 6,
    "start_time": "2024-12-29T10:55:23.867Z"
   },
   {
    "duration": 5,
    "start_time": "2024-12-29T10:55:23.874Z"
   },
   {
    "duration": 283,
    "start_time": "2024-12-29T10:55:23.881Z"
   },
   {
    "duration": 11,
    "start_time": "2024-12-29T10:55:24.166Z"
   },
   {
    "duration": 26,
    "start_time": "2024-12-29T10:55:24.179Z"
   },
   {
    "duration": 42,
    "start_time": "2024-12-29T10:55:24.207Z"
   },
   {
    "duration": 12,
    "start_time": "2024-12-29T10:55:24.254Z"
   },
   {
    "duration": 10,
    "start_time": "2024-12-29T10:55:24.267Z"
   },
   {
    "duration": 445,
    "start_time": "2024-12-29T10:55:24.283Z"
   },
   {
    "duration": 73,
    "start_time": "2024-12-29T10:55:24.730Z"
   },
   {
    "duration": 13,
    "start_time": "2024-12-29T10:55:24.804Z"
   },
   {
    "duration": 55,
    "start_time": "2024-12-29T10:55:24.819Z"
   },
   {
    "duration": 19,
    "start_time": "2024-12-29T10:55:24.875Z"
   },
   {
    "duration": 7,
    "start_time": "2024-12-29T10:55:24.896Z"
   },
   {
    "duration": 2742,
    "start_time": "2024-12-29T10:55:31.659Z"
   },
   {
    "duration": 4,
    "start_time": "2024-12-29T10:55:34.403Z"
   },
   {
    "duration": 2162,
    "start_time": "2024-12-29T10:55:34.409Z"
   },
   {
    "duration": 24,
    "start_time": "2024-12-29T10:55:36.573Z"
   },
   {
    "duration": 11,
    "start_time": "2024-12-29T10:55:36.638Z"
   },
   {
    "duration": 490,
    "start_time": "2024-12-29T10:55:36.650Z"
   },
   {
    "duration": 718,
    "start_time": "2024-12-29T10:55:37.147Z"
   },
   {
    "duration": 166,
    "start_time": "2024-12-29T10:55:37.867Z"
   },
   {
    "duration": 150,
    "start_time": "2024-12-29T10:55:38.034Z"
   },
   {
    "duration": 265,
    "start_time": "2024-12-29T10:55:38.188Z"
   },
   {
    "duration": 4,
    "start_time": "2024-12-29T10:55:38.454Z"
   },
   {
    "duration": 61,
    "start_time": "2024-12-29T10:55:38.460Z"
   },
   {
    "duration": 13,
    "start_time": "2024-12-29T10:55:38.524Z"
   },
   {
    "duration": 24,
    "start_time": "2024-12-29T10:55:38.539Z"
   },
   {
    "duration": 10,
    "start_time": "2024-12-29T10:55:38.565Z"
   },
   {
    "duration": 21,
    "start_time": "2024-12-29T10:55:38.577Z"
   },
   {
    "duration": 400,
    "start_time": "2024-12-29T10:55:38.600Z"
   },
   {
    "duration": 19,
    "start_time": "2024-12-29T10:55:39.002Z"
   },
   {
    "duration": 242,
    "start_time": "2024-12-29T10:55:39.036Z"
   },
   {
    "duration": 73,
    "start_time": "2024-12-29T10:55:39.280Z"
   },
   {
    "duration": 31,
    "start_time": "2024-12-29T10:55:39.354Z"
   },
   {
    "duration": 28,
    "start_time": "2024-12-29T10:55:39.386Z"
   },
   {
    "duration": 203,
    "start_time": "2024-12-29T10:55:39.415Z"
   },
   {
    "duration": 70,
    "start_time": "2024-12-29T10:55:39.620Z"
   },
   {
    "duration": 29,
    "start_time": "2024-12-29T10:55:39.691Z"
   },
   {
    "duration": 31,
    "start_time": "2024-12-29T10:55:39.722Z"
   },
   {
    "duration": 59,
    "start_time": "2024-12-29T10:55:39.754Z"
   },
   {
    "duration": 46,
    "start_time": "2024-12-29T10:55:39.818Z"
   },
   {
    "duration": 8,
    "start_time": "2024-12-29T10:55:39.866Z"
   },
   {
    "duration": 26,
    "start_time": "2024-12-29T10:55:39.876Z"
   },
   {
    "duration": 326,
    "start_time": "2024-12-29T10:55:39.904Z"
   },
   {
    "duration": 172,
    "start_time": "2024-12-29T10:55:40.237Z"
   },
   {
    "duration": 33,
    "start_time": "2024-12-29T10:55:40.411Z"
   },
   {
    "duration": 54,
    "start_time": "2024-12-29T10:55:40.449Z"
   },
   {
    "duration": 11,
    "start_time": "2024-12-29T10:55:40.505Z"
   },
   {
    "duration": 35,
    "start_time": "2024-12-29T10:55:40.517Z"
   },
   {
    "duration": 16,
    "start_time": "2024-12-29T10:55:40.554Z"
   },
   {
    "duration": 17,
    "start_time": "2024-12-29T10:55:40.572Z"
   },
   {
    "duration": 4,
    "start_time": "2024-12-29T10:55:40.591Z"
   },
   {
    "duration": 12,
    "start_time": "2024-12-29T10:55:40.597Z"
   },
   {
    "duration": 41,
    "start_time": "2024-12-29T10:55:40.611Z"
   },
   {
    "duration": 10,
    "start_time": "2024-12-29T10:55:40.654Z"
   },
   {
    "duration": 205,
    "start_time": "2024-12-29T10:55:40.666Z"
   },
   {
    "duration": 71,
    "start_time": "2024-12-29T10:55:40.873Z"
   },
   {
    "duration": 118,
    "start_time": "2024-12-29T10:55:40.947Z"
   },
   {
    "duration": 137,
    "start_time": "2024-12-29T10:55:41.067Z"
   },
   {
    "duration": 77,
    "start_time": "2024-12-29T10:55:41.206Z"
   },
   {
    "duration": 5,
    "start_time": "2024-12-29T10:55:41.285Z"
   },
   {
    "duration": 29,
    "start_time": "2024-12-29T10:55:41.292Z"
   },
   {
    "duration": 60,
    "start_time": "2024-12-29T10:55:41.323Z"
   },
   {
    "duration": 292,
    "start_time": "2024-12-29T10:55:41.384Z"
   },
   {
    "duration": 13,
    "start_time": "2024-12-29T10:55:41.678Z"
   },
   {
    "duration": 107,
    "start_time": "2024-12-29T10:55:41.693Z"
   },
   {
    "duration": 36,
    "start_time": "2024-12-29T10:55:41.802Z"
   },
   {
    "duration": 49,
    "start_time": "2024-12-29T10:55:41.839Z"
   },
   {
    "duration": 4,
    "start_time": "2024-12-29T10:55:41.890Z"
   },
   {
    "duration": 62,
    "start_time": "2024-12-29T10:55:41.896Z"
   },
   {
    "duration": 29,
    "start_time": "2024-12-29T10:55:41.960Z"
   },
   {
    "duration": 11,
    "start_time": "2024-12-29T10:55:41.991Z"
   },
   {
    "duration": 8,
    "start_time": "2024-12-29T10:55:42.003Z"
   },
   {
    "duration": 12,
    "start_time": "2024-12-29T10:55:42.037Z"
   },
   {
    "duration": 42,
    "start_time": "2024-12-29T10:55:42.054Z"
   },
   {
    "duration": 28,
    "start_time": "2024-12-29T10:55:42.098Z"
   },
   {
    "duration": 25,
    "start_time": "2024-12-29T10:55:42.128Z"
   },
   {
    "duration": 7,
    "start_time": "2024-12-29T10:55:42.154Z"
   },
   {
    "duration": 168,
    "start_time": "2024-12-29T10:55:42.162Z"
   },
   {
    "duration": 554,
    "start_time": "2024-12-29T10:55:42.331Z"
   },
   {
    "duration": 12,
    "start_time": "2024-12-29T10:55:42.887Z"
   },
   {
    "duration": 26,
    "start_time": "2024-12-29T10:55:42.901Z"
   },
   {
    "duration": 23,
    "start_time": "2024-12-29T10:55:42.928Z"
   },
   {
    "duration": 16,
    "start_time": "2024-12-29T10:55:42.953Z"
   },
   {
    "duration": 35,
    "start_time": "2024-12-29T10:55:42.971Z"
   },
   {
    "duration": 10,
    "start_time": "2024-12-29T10:55:43.008Z"
   },
   {
    "duration": 39,
    "start_time": "2024-12-29T10:55:43.019Z"
   },
   {
    "duration": 26,
    "start_time": "2024-12-29T10:55:43.062Z"
   },
   {
    "duration": 286,
    "start_time": "2024-12-29T10:55:43.090Z"
   },
   {
    "duration": 11,
    "start_time": "2024-12-29T10:55:43.378Z"
   },
   {
    "duration": 59,
    "start_time": "2024-12-29T10:55:43.390Z"
   },
   {
    "duration": 12,
    "start_time": "2024-12-29T10:55:43.451Z"
   },
   {
    "duration": 15,
    "start_time": "2024-12-29T10:55:43.465Z"
   },
   {
    "duration": 31,
    "start_time": "2024-12-29T10:55:43.482Z"
   },
   {
    "duration": 439,
    "start_time": "2024-12-29T10:55:43.520Z"
   },
   {
    "duration": 61,
    "start_time": "2024-12-29T10:55:43.961Z"
   },
   {
    "duration": 30,
    "start_time": "2024-12-29T10:55:44.023Z"
   },
   {
    "duration": 11,
    "start_time": "2024-12-29T10:55:44.057Z"
   },
   {
    "duration": 27,
    "start_time": "2024-12-29T10:55:44.070Z"
   },
   {
    "duration": 11,
    "start_time": "2024-12-29T10:55:44.099Z"
   },
   {
    "duration": 2454,
    "start_time": "2024-12-29T13:24:43.832Z"
   },
   {
    "duration": 1689,
    "start_time": "2024-12-29T13:24:46.288Z"
   },
   {
    "duration": 2335,
    "start_time": "2024-12-29T13:24:47.979Z"
   },
   {
    "duration": 25,
    "start_time": "2024-12-29T13:24:50.316Z"
   },
   {
    "duration": 4,
    "start_time": "2024-12-29T13:24:50.343Z"
   },
   {
    "duration": 328,
    "start_time": "2024-12-29T13:24:50.349Z"
   },
   {
    "duration": 688,
    "start_time": "2024-12-29T13:24:50.679Z"
   },
   {
    "duration": 166,
    "start_time": "2024-12-29T13:24:51.368Z"
   },
   {
    "duration": 135,
    "start_time": "2024-12-29T13:24:51.536Z"
   },
   {
    "duration": 193,
    "start_time": "2024-12-29T13:24:51.673Z"
   },
   {
    "duration": 3,
    "start_time": "2024-12-29T13:24:51.868Z"
   },
   {
    "duration": 78,
    "start_time": "2024-12-29T13:24:51.873Z"
   },
   {
    "duration": 16,
    "start_time": "2024-12-29T13:24:51.953Z"
   },
   {
    "duration": 72,
    "start_time": "2024-12-29T13:24:51.971Z"
   },
   {
    "duration": 20,
    "start_time": "2024-12-29T13:24:52.045Z"
   },
   {
    "duration": 21,
    "start_time": "2024-12-29T13:24:52.069Z"
   },
   {
    "duration": 355,
    "start_time": "2024-12-29T13:24:52.092Z"
   },
   {
    "duration": 21,
    "start_time": "2024-12-29T13:24:52.449Z"
   },
   {
    "duration": 235,
    "start_time": "2024-12-29T13:24:52.471Z"
   },
   {
    "duration": 58,
    "start_time": "2024-12-29T13:24:52.708Z"
   },
   {
    "duration": 30,
    "start_time": "2024-12-29T13:24:52.767Z"
   },
   {
    "duration": 53,
    "start_time": "2024-12-29T13:24:52.799Z"
   },
   {
    "duration": 156,
    "start_time": "2024-12-29T13:24:52.853Z"
   },
   {
    "duration": 90,
    "start_time": "2024-12-29T13:24:53.011Z"
   },
   {
    "duration": 111,
    "start_time": "2024-12-29T13:26:44.607Z"
   },
   {
    "duration": 140,
    "start_time": "2024-12-29T13:26:59.208Z"
   },
   {
    "duration": 18,
    "start_time": "2024-12-29T13:27:14.056Z"
   },
   {
    "duration": 72,
    "start_time": "2024-12-29T13:29:45.779Z"
   },
   {
    "duration": 28,
    "start_time": "2024-12-29T13:30:28.404Z"
   },
   {
    "duration": 6,
    "start_time": "2024-12-29T13:30:46.010Z"
   },
   {
    "duration": 26,
    "start_time": "2024-12-29T13:30:49.554Z"
   },
   {
    "duration": 31,
    "start_time": "2024-12-29T13:32:17.333Z"
   },
   {
    "duration": 2429,
    "start_time": "2024-12-29T13:42:07.343Z"
   },
   {
    "duration": 1701,
    "start_time": "2024-12-29T13:42:09.775Z"
   },
   {
    "duration": 2314,
    "start_time": "2024-12-29T13:42:11.478Z"
   },
   {
    "duration": 45,
    "start_time": "2024-12-29T13:42:13.793Z"
   },
   {
    "duration": 7,
    "start_time": "2024-12-29T13:42:13.840Z"
   },
   {
    "duration": 327,
    "start_time": "2024-12-29T13:42:13.849Z"
   },
   {
    "duration": 682,
    "start_time": "2024-12-29T13:42:14.178Z"
   },
   {
    "duration": 174,
    "start_time": "2024-12-29T13:42:14.862Z"
   },
   {
    "duration": 130,
    "start_time": "2024-12-29T13:42:15.038Z"
   },
   {
    "duration": 214,
    "start_time": "2024-12-29T13:42:15.170Z"
   },
   {
    "duration": 3,
    "start_time": "2024-12-29T13:42:15.385Z"
   },
   {
    "duration": 159,
    "start_time": "2024-12-29T13:42:15.390Z"
   },
   {
    "duration": 8,
    "start_time": "2024-12-29T13:42:15.552Z"
   },
   {
    "duration": 30,
    "start_time": "2024-12-29T13:42:15.561Z"
   },
   {
    "duration": 9,
    "start_time": "2024-12-29T13:42:15.592Z"
   },
   {
    "duration": 38,
    "start_time": "2024-12-29T13:42:15.603Z"
   },
   {
    "duration": 349,
    "start_time": "2024-12-29T13:42:15.642Z"
   },
   {
    "duration": 22,
    "start_time": "2024-12-29T13:42:15.993Z"
   },
   {
    "duration": 264,
    "start_time": "2024-12-29T13:42:16.030Z"
   },
   {
    "duration": 66,
    "start_time": "2024-12-29T13:42:16.297Z"
   },
   {
    "duration": 30,
    "start_time": "2024-12-29T13:42:16.365Z"
   },
   {
    "duration": 49,
    "start_time": "2024-12-29T13:42:16.397Z"
   },
   {
    "duration": 171,
    "start_time": "2024-12-29T13:42:16.448Z"
   },
   {
    "duration": 74,
    "start_time": "2024-12-29T13:42:16.629Z"
   },
   {
    "duration": 36,
    "start_time": "2024-12-29T13:42:16.705Z"
   },
   {
    "duration": 11,
    "start_time": "2024-12-29T13:42:16.743Z"
   },
   {
    "duration": 82,
    "start_time": "2024-12-29T13:42:16.755Z"
   },
   {
    "duration": 61,
    "start_time": "2024-12-29T13:42:16.838Z"
   },
   {
    "duration": 19,
    "start_time": "2024-12-29T13:42:16.901Z"
   },
   {
    "duration": 40,
    "start_time": "2024-12-29T13:42:16.922Z"
   },
   {
    "duration": 282,
    "start_time": "2024-12-29T13:42:16.964Z"
   },
   {
    "duration": 159,
    "start_time": "2024-12-29T13:42:17.248Z"
   },
   {
    "duration": 25,
    "start_time": "2024-12-29T13:42:17.409Z"
   },
   {
    "duration": 89,
    "start_time": "2024-12-29T13:42:17.436Z"
   },
   {
    "duration": 62,
    "start_time": "2024-12-29T13:42:17.527Z"
   },
   {
    "duration": 14,
    "start_time": "2024-12-29T13:42:17.591Z"
   },
   {
    "duration": 14,
    "start_time": "2024-12-29T13:42:17.606Z"
   },
   {
    "duration": 16,
    "start_time": "2024-12-29T13:42:17.622Z"
   },
   {
    "duration": 4,
    "start_time": "2024-12-29T13:42:17.640Z"
   },
   {
    "duration": 7,
    "start_time": "2024-12-29T13:42:17.648Z"
   },
   {
    "duration": 14,
    "start_time": "2024-12-29T13:42:17.657Z"
   },
   {
    "duration": 64,
    "start_time": "2024-12-29T13:42:17.673Z"
   },
   {
    "duration": 170,
    "start_time": "2024-12-29T13:42:17.738Z"
   },
   {
    "duration": 66,
    "start_time": "2024-12-29T13:42:17.909Z"
   },
   {
    "duration": 85,
    "start_time": "2024-12-29T13:42:17.977Z"
   },
   {
    "duration": 177,
    "start_time": "2024-12-29T13:42:18.063Z"
   },
   {
    "duration": 53,
    "start_time": "2024-12-29T13:42:18.242Z"
   },
   {
    "duration": 22,
    "start_time": "2024-12-29T13:42:18.296Z"
   },
   {
    "duration": 36,
    "start_time": "2024-12-29T13:42:18.319Z"
   },
   {
    "duration": 69,
    "start_time": "2024-12-29T13:42:18.357Z"
   },
   {
    "duration": 342,
    "start_time": "2024-12-29T13:42:18.428Z"
   },
   {
    "duration": 14,
    "start_time": "2024-12-29T13:42:18.772Z"
   },
   {
    "duration": 147,
    "start_time": "2024-12-29T13:42:18.788Z"
   },
   {
    "duration": 22,
    "start_time": "2024-12-29T13:42:18.937Z"
   },
   {
    "duration": 37,
    "start_time": "2024-12-29T13:42:18.961Z"
   },
   {
    "duration": 5,
    "start_time": "2024-12-29T13:42:19.000Z"
   },
   {
    "duration": 35,
    "start_time": "2024-12-29T13:42:19.032Z"
   },
   {
    "duration": 28,
    "start_time": "2024-12-29T13:42:19.069Z"
   },
   {
    "duration": 9,
    "start_time": "2024-12-29T13:42:19.098Z"
   },
   {
    "duration": 8,
    "start_time": "2024-12-29T13:42:19.131Z"
   },
   {
    "duration": 10,
    "start_time": "2024-12-29T13:42:19.141Z"
   },
   {
    "duration": 24,
    "start_time": "2024-12-29T13:42:19.153Z"
   },
   {
    "duration": 52,
    "start_time": "2024-12-29T13:42:19.179Z"
   },
   {
    "duration": 10,
    "start_time": "2024-12-29T13:42:19.233Z"
   },
   {
    "duration": 8,
    "start_time": "2024-12-29T13:42:19.245Z"
   },
   {
    "duration": 181,
    "start_time": "2024-12-29T13:42:19.254Z"
   },
   {
    "duration": 443,
    "start_time": "2024-12-29T13:42:19.437Z"
   },
   {
    "duration": 12,
    "start_time": "2024-12-29T13:42:19.882Z"
   },
   {
    "duration": 13,
    "start_time": "2024-12-29T13:42:19.895Z"
   },
   {
    "duration": 37,
    "start_time": "2024-12-29T13:42:19.909Z"
   },
   {
    "duration": 110,
    "start_time": "2024-12-31T10:54:06.944Z"
   },
   {
    "duration": 3885,
    "start_time": "2024-12-31T11:01:41.586Z"
   },
   {
    "duration": 1472,
    "start_time": "2024-12-31T11:01:45.474Z"
   },
   {
    "duration": 2444,
    "start_time": "2024-12-31T11:01:46.947Z"
   },
   {
    "duration": 32,
    "start_time": "2024-12-31T11:01:49.393Z"
   },
   {
    "duration": 7,
    "start_time": "2024-12-31T11:01:49.426Z"
   },
   {
    "duration": 344,
    "start_time": "2024-12-31T11:01:49.435Z"
   },
   {
    "duration": 760,
    "start_time": "2024-12-31T11:01:49.781Z"
   },
   {
    "duration": 172,
    "start_time": "2024-12-31T11:01:50.543Z"
   },
   {
    "duration": 135,
    "start_time": "2024-12-31T11:01:50.716Z"
   },
   {
    "duration": 270,
    "start_time": "2024-12-31T11:01:50.854Z"
   },
   {
    "duration": 2,
    "start_time": "2024-12-31T11:01:51.126Z"
   },
   {
    "duration": 50,
    "start_time": "2024-12-31T11:01:51.130Z"
   },
   {
    "duration": 9,
    "start_time": "2024-12-31T11:01:51.182Z"
   },
   {
    "duration": 49,
    "start_time": "2024-12-31T11:01:51.192Z"
   },
   {
    "duration": 12,
    "start_time": "2024-12-31T11:01:51.242Z"
   },
   {
    "duration": 22,
    "start_time": "2024-12-31T11:01:51.256Z"
   },
   {
    "duration": 377,
    "start_time": "2024-12-31T11:01:51.280Z"
   },
   {
    "duration": 25,
    "start_time": "2024-12-31T11:01:51.659Z"
   },
   {
    "duration": 336,
    "start_time": "2024-12-31T11:01:51.690Z"
   },
   {
    "duration": 56,
    "start_time": "2024-12-31T11:01:52.029Z"
   },
   {
    "duration": 100,
    "start_time": "2024-12-31T11:01:52.087Z"
   },
   {
    "duration": 29,
    "start_time": "2024-12-31T11:01:52.189Z"
   },
   {
    "duration": 176,
    "start_time": "2024-12-31T11:01:52.220Z"
   },
   {
    "duration": 95,
    "start_time": "2024-12-31T11:01:52.398Z"
   },
   {
    "duration": 32,
    "start_time": "2024-12-31T11:01:52.494Z"
   },
   {
    "duration": 1936,
    "start_time": "2024-12-31T11:01:52.528Z"
   },
   {
    "duration": 0,
    "start_time": "2024-12-31T11:01:54.470Z"
   },
   {
    "duration": 0,
    "start_time": "2024-12-31T11:01:54.471Z"
   },
   {
    "duration": 0,
    "start_time": "2024-12-31T11:01:54.472Z"
   },
   {
    "duration": 0,
    "start_time": "2024-12-31T11:01:54.474Z"
   },
   {
    "duration": 0,
    "start_time": "2024-12-31T11:01:54.475Z"
   },
   {
    "duration": 0,
    "start_time": "2024-12-31T11:01:54.476Z"
   },
   {
    "duration": 0,
    "start_time": "2024-12-31T11:01:54.477Z"
   },
   {
    "duration": 0,
    "start_time": "2024-12-31T11:01:54.478Z"
   },
   {
    "duration": 0,
    "start_time": "2024-12-31T11:01:54.479Z"
   },
   {
    "duration": 0,
    "start_time": "2024-12-31T11:01:54.480Z"
   },
   {
    "duration": 0,
    "start_time": "2024-12-31T11:01:54.481Z"
   },
   {
    "duration": 0,
    "start_time": "2024-12-31T11:01:54.482Z"
   },
   {
    "duration": 0,
    "start_time": "2024-12-31T11:01:54.483Z"
   },
   {
    "duration": 0,
    "start_time": "2024-12-31T11:01:54.485Z"
   },
   {
    "duration": 0,
    "start_time": "2024-12-31T11:01:54.486Z"
   },
   {
    "duration": 0,
    "start_time": "2024-12-31T11:01:54.487Z"
   },
   {
    "duration": 0,
    "start_time": "2024-12-31T11:01:54.488Z"
   },
   {
    "duration": 0,
    "start_time": "2024-12-31T11:01:54.489Z"
   },
   {
    "duration": 0,
    "start_time": "2024-12-31T11:01:54.490Z"
   },
   {
    "duration": 0,
    "start_time": "2024-12-31T11:01:54.491Z"
   },
   {
    "duration": 0,
    "start_time": "2024-12-31T11:01:54.494Z"
   },
   {
    "duration": 0,
    "start_time": "2024-12-31T11:01:54.496Z"
   },
   {
    "duration": 0,
    "start_time": "2024-12-31T11:01:54.497Z"
   },
   {
    "duration": 0,
    "start_time": "2024-12-31T11:01:54.499Z"
   },
   {
    "duration": 0,
    "start_time": "2024-12-31T11:01:54.500Z"
   },
   {
    "duration": 0,
    "start_time": "2024-12-31T11:01:54.501Z"
   },
   {
    "duration": 0,
    "start_time": "2024-12-31T11:01:54.503Z"
   },
   {
    "duration": 0,
    "start_time": "2024-12-31T11:01:54.504Z"
   },
   {
    "duration": 0,
    "start_time": "2024-12-31T11:01:54.505Z"
   },
   {
    "duration": 0,
    "start_time": "2024-12-31T11:01:54.515Z"
   },
   {
    "duration": 0,
    "start_time": "2024-12-31T11:01:54.516Z"
   },
   {
    "duration": 0,
    "start_time": "2024-12-31T11:01:54.517Z"
   },
   {
    "duration": 0,
    "start_time": "2024-12-31T11:01:54.519Z"
   },
   {
    "duration": 0,
    "start_time": "2024-12-31T11:01:54.519Z"
   },
   {
    "duration": 0,
    "start_time": "2024-12-31T11:01:54.520Z"
   },
   {
    "duration": 0,
    "start_time": "2024-12-31T11:01:54.522Z"
   },
   {
    "duration": 0,
    "start_time": "2024-12-31T11:01:54.523Z"
   },
   {
    "duration": 0,
    "start_time": "2024-12-31T11:01:54.524Z"
   },
   {
    "duration": 0,
    "start_time": "2024-12-31T11:01:54.525Z"
   },
   {
    "duration": 0,
    "start_time": "2024-12-31T11:01:54.526Z"
   },
   {
    "duration": 0,
    "start_time": "2024-12-31T11:01:54.527Z"
   },
   {
    "duration": 0,
    "start_time": "2024-12-31T11:01:54.528Z"
   },
   {
    "duration": 0,
    "start_time": "2024-12-31T11:01:54.529Z"
   },
   {
    "duration": 0,
    "start_time": "2024-12-31T11:01:54.531Z"
   },
   {
    "duration": 0,
    "start_time": "2024-12-31T11:01:54.532Z"
   },
   {
    "duration": 0,
    "start_time": "2024-12-31T11:01:54.533Z"
   },
   {
    "duration": 0,
    "start_time": "2024-12-31T11:01:54.536Z"
   },
   {
    "duration": 0,
    "start_time": "2024-12-31T11:01:54.537Z"
   },
   {
    "duration": 0,
    "start_time": "2024-12-31T11:01:54.538Z"
   },
   {
    "duration": 0,
    "start_time": "2024-12-31T11:01:54.540Z"
   },
   {
    "duration": 0,
    "start_time": "2024-12-31T11:01:54.541Z"
   },
   {
    "duration": 0,
    "start_time": "2024-12-31T11:01:54.542Z"
   },
   {
    "duration": 0,
    "start_time": "2024-12-31T11:01:54.543Z"
   },
   {
    "duration": 1,
    "start_time": "2024-12-31T11:01:54.544Z"
   },
   {
    "duration": 1,
    "start_time": "2024-12-31T11:01:54.545Z"
   },
   {
    "duration": 0,
    "start_time": "2024-12-31T11:01:54.548Z"
   },
   {
    "duration": 0,
    "start_time": "2024-12-31T11:01:54.549Z"
   },
   {
    "duration": 0,
    "start_time": "2024-12-31T11:01:54.551Z"
   },
   {
    "duration": 0,
    "start_time": "2024-12-31T11:01:54.552Z"
   },
   {
    "duration": 0,
    "start_time": "2024-12-31T11:01:54.554Z"
   },
   {
    "duration": 0,
    "start_time": "2024-12-31T11:01:54.616Z"
   },
   {
    "duration": 0,
    "start_time": "2024-12-31T11:01:54.617Z"
   },
   {
    "duration": 0,
    "start_time": "2024-12-31T11:01:54.619Z"
   },
   {
    "duration": 0,
    "start_time": "2024-12-31T11:01:54.621Z"
   },
   {
    "duration": 0,
    "start_time": "2024-12-31T11:01:54.623Z"
   },
   {
    "duration": 0,
    "start_time": "2024-12-31T11:01:54.624Z"
   },
   {
    "duration": 0,
    "start_time": "2024-12-31T11:01:54.626Z"
   },
   {
    "duration": 0,
    "start_time": "2024-12-31T11:01:54.627Z"
   },
   {
    "duration": 0,
    "start_time": "2024-12-31T11:01:54.631Z"
   },
   {
    "duration": 1,
    "start_time": "2024-12-31T11:01:54.632Z"
   },
   {
    "duration": 26,
    "start_time": "2024-12-31T11:08:41.223Z"
   },
   {
    "duration": 2625,
    "start_time": "2024-12-31T11:11:37.225Z"
   },
   {
    "duration": 1291,
    "start_time": "2024-12-31T11:11:39.852Z"
   },
   {
    "duration": 2359,
    "start_time": "2024-12-31T11:11:41.146Z"
   },
   {
    "duration": 25,
    "start_time": "2024-12-31T11:11:43.507Z"
   },
   {
    "duration": 27,
    "start_time": "2024-12-31T11:11:43.533Z"
   },
   {
    "duration": 320,
    "start_time": "2024-12-31T11:11:43.563Z"
   },
   {
    "duration": 773,
    "start_time": "2024-12-31T11:11:43.885Z"
   },
   {
    "duration": 176,
    "start_time": "2024-12-31T11:11:44.660Z"
   },
   {
    "duration": 134,
    "start_time": "2024-12-31T11:11:44.838Z"
   },
   {
    "duration": 264,
    "start_time": "2024-12-31T11:11:44.976Z"
   },
   {
    "duration": 3,
    "start_time": "2024-12-31T11:11:45.241Z"
   },
   {
    "duration": 116,
    "start_time": "2024-12-31T11:11:45.245Z"
   },
   {
    "duration": 9,
    "start_time": "2024-12-31T11:11:45.363Z"
   },
   {
    "duration": 90,
    "start_time": "2024-12-31T11:11:45.373Z"
   },
   {
    "duration": 77,
    "start_time": "2024-12-31T11:11:45.465Z"
   },
   {
    "duration": 20,
    "start_time": "2024-12-31T11:11:45.544Z"
   },
   {
    "duration": 365,
    "start_time": "2024-12-31T11:11:45.566Z"
   },
   {
    "duration": 22,
    "start_time": "2024-12-31T11:11:45.933Z"
   },
   {
    "duration": 267,
    "start_time": "2024-12-31T11:11:45.956Z"
   },
   {
    "duration": 52,
    "start_time": "2024-12-31T11:11:46.225Z"
   },
   {
    "duration": 53,
    "start_time": "2024-12-31T11:11:46.279Z"
   },
   {
    "duration": 30,
    "start_time": "2024-12-31T11:11:46.333Z"
   },
   {
    "duration": 195,
    "start_time": "2024-12-31T11:11:46.365Z"
   },
   {
    "duration": 105,
    "start_time": "2024-12-31T11:11:46.562Z"
   },
   {
    "duration": 28,
    "start_time": "2024-12-31T11:11:46.669Z"
   },
   {
    "duration": 51,
    "start_time": "2024-12-31T11:11:46.699Z"
   },
   {
    "duration": 14,
    "start_time": "2024-12-31T11:11:46.752Z"
   },
   {
    "duration": 117,
    "start_time": "2024-12-31T11:11:46.773Z"
   },
   {
    "duration": 39,
    "start_time": "2024-12-31T11:11:46.892Z"
   },
   {
    "duration": 7,
    "start_time": "2024-12-31T11:11:46.934Z"
   },
   {
    "duration": 23,
    "start_time": "2024-12-31T11:11:46.943Z"
   },
   {
    "duration": 327,
    "start_time": "2024-12-31T11:11:46.967Z"
   },
   {
    "duration": 199,
    "start_time": "2024-12-31T11:11:47.296Z"
   },
   {
    "duration": 272,
    "start_time": "2024-12-31T11:11:47.497Z"
   },
   {
    "duration": 13,
    "start_time": "2024-12-31T11:11:47.771Z"
   },
   {
    "duration": 156,
    "start_time": "2024-12-31T11:11:47.785Z"
   },
   {
    "duration": 0,
    "start_time": "2024-12-31T11:11:47.944Z"
   },
   {
    "duration": 0,
    "start_time": "2024-12-31T11:11:47.945Z"
   },
   {
    "duration": 0,
    "start_time": "2024-12-31T11:11:47.946Z"
   },
   {
    "duration": 0,
    "start_time": "2024-12-31T11:11:47.947Z"
   },
   {
    "duration": 0,
    "start_time": "2024-12-31T11:11:47.948Z"
   },
   {
    "duration": 0,
    "start_time": "2024-12-31T11:11:47.949Z"
   },
   {
    "duration": 0,
    "start_time": "2024-12-31T11:11:47.950Z"
   },
   {
    "duration": 0,
    "start_time": "2024-12-31T11:11:47.952Z"
   },
   {
    "duration": 0,
    "start_time": "2024-12-31T11:11:47.953Z"
   },
   {
    "duration": 0,
    "start_time": "2024-12-31T11:11:47.954Z"
   },
   {
    "duration": 0,
    "start_time": "2024-12-31T11:11:47.955Z"
   },
   {
    "duration": 0,
    "start_time": "2024-12-31T11:11:47.958Z"
   },
   {
    "duration": 0,
    "start_time": "2024-12-31T11:11:47.959Z"
   },
   {
    "duration": 0,
    "start_time": "2024-12-31T11:11:47.960Z"
   },
   {
    "duration": 0,
    "start_time": "2024-12-31T11:11:47.961Z"
   },
   {
    "duration": 0,
    "start_time": "2024-12-31T11:11:47.962Z"
   },
   {
    "duration": 0,
    "start_time": "2024-12-31T11:11:47.963Z"
   },
   {
    "duration": 0,
    "start_time": "2024-12-31T11:11:47.964Z"
   },
   {
    "duration": 0,
    "start_time": "2024-12-31T11:11:47.965Z"
   },
   {
    "duration": 1,
    "start_time": "2024-12-31T11:11:47.966Z"
   },
   {
    "duration": 0,
    "start_time": "2024-12-31T11:11:47.968Z"
   },
   {
    "duration": 0,
    "start_time": "2024-12-31T11:11:47.969Z"
   },
   {
    "duration": 0,
    "start_time": "2024-12-31T11:11:47.970Z"
   },
   {
    "duration": 0,
    "start_time": "2024-12-31T11:11:48.015Z"
   },
   {
    "duration": 0,
    "start_time": "2024-12-31T11:11:48.016Z"
   },
   {
    "duration": 0,
    "start_time": "2024-12-31T11:11:48.017Z"
   },
   {
    "duration": 0,
    "start_time": "2024-12-31T11:11:48.018Z"
   },
   {
    "duration": 0,
    "start_time": "2024-12-31T11:11:48.019Z"
   },
   {
    "duration": 0,
    "start_time": "2024-12-31T11:11:48.020Z"
   },
   {
    "duration": 0,
    "start_time": "2024-12-31T11:11:48.021Z"
   },
   {
    "duration": 0,
    "start_time": "2024-12-31T11:11:48.022Z"
   },
   {
    "duration": 1,
    "start_time": "2024-12-31T11:11:48.023Z"
   },
   {
    "duration": 0,
    "start_time": "2024-12-31T11:11:48.025Z"
   },
   {
    "duration": 0,
    "start_time": "2024-12-31T11:11:48.026Z"
   },
   {
    "duration": 0,
    "start_time": "2024-12-31T11:11:48.027Z"
   },
   {
    "duration": 0,
    "start_time": "2024-12-31T11:11:48.028Z"
   },
   {
    "duration": 0,
    "start_time": "2024-12-31T11:11:48.029Z"
   },
   {
    "duration": 0,
    "start_time": "2024-12-31T11:11:48.030Z"
   },
   {
    "duration": 0,
    "start_time": "2024-12-31T11:11:48.031Z"
   },
   {
    "duration": 0,
    "start_time": "2024-12-31T11:11:48.032Z"
   },
   {
    "duration": 0,
    "start_time": "2024-12-31T11:11:48.033Z"
   },
   {
    "duration": 0,
    "start_time": "2024-12-31T11:11:48.034Z"
   },
   {
    "duration": 0,
    "start_time": "2024-12-31T11:11:48.035Z"
   },
   {
    "duration": 0,
    "start_time": "2024-12-31T11:11:48.036Z"
   },
   {
    "duration": 0,
    "start_time": "2024-12-31T11:11:48.037Z"
   },
   {
    "duration": 0,
    "start_time": "2024-12-31T11:11:48.040Z"
   },
   {
    "duration": 0,
    "start_time": "2024-12-31T11:11:48.041Z"
   },
   {
    "duration": 0,
    "start_time": "2024-12-31T11:11:48.042Z"
   },
   {
    "duration": 0,
    "start_time": "2024-12-31T11:11:48.043Z"
   },
   {
    "duration": 0,
    "start_time": "2024-12-31T11:11:48.044Z"
   },
   {
    "duration": 0,
    "start_time": "2024-12-31T11:11:48.045Z"
   },
   {
    "duration": 0,
    "start_time": "2024-12-31T11:11:48.046Z"
   },
   {
    "duration": 0,
    "start_time": "2024-12-31T11:11:48.047Z"
   },
   {
    "duration": 1,
    "start_time": "2024-12-31T11:11:48.048Z"
   },
   {
    "duration": 0,
    "start_time": "2024-12-31T11:11:48.050Z"
   },
   {
    "duration": 0,
    "start_time": "2024-12-31T11:11:48.051Z"
   },
   {
    "duration": 0,
    "start_time": "2024-12-31T11:11:48.052Z"
   },
   {
    "duration": 0,
    "start_time": "2024-12-31T11:11:48.053Z"
   },
   {
    "duration": 0,
    "start_time": "2024-12-31T11:11:48.115Z"
   },
   {
    "duration": 0,
    "start_time": "2024-12-31T11:11:48.116Z"
   },
   {
    "duration": 58,
    "start_time": "2024-12-31T11:16:40.404Z"
   },
   {
    "duration": 11,
    "start_time": "2024-12-31T11:16:53.281Z"
   },
   {
    "duration": 20,
    "start_time": "2024-12-31T11:16:57.339Z"
   },
   {
    "duration": 2,
    "start_time": "2024-12-31T11:18:52.674Z"
   },
   {
    "duration": 2,
    "start_time": "2024-12-31T11:19:06.731Z"
   },
   {
    "duration": 20,
    "start_time": "2024-12-31T11:20:06.184Z"
   },
   {
    "duration": 18,
    "start_time": "2024-12-31T11:20:22.591Z"
   },
   {
    "duration": 5,
    "start_time": "2024-12-31T11:21:28.463Z"
   },
   {
    "duration": 10,
    "start_time": "2024-12-31T11:21:31.444Z"
   },
   {
    "duration": 19,
    "start_time": "2024-12-31T11:21:42.123Z"
   },
   {
    "duration": 50,
    "start_time": "2024-12-31T11:22:14.940Z"
   },
   {
    "duration": 2638,
    "start_time": "2024-12-31T11:24:00.522Z"
   },
   {
    "duration": 1228,
    "start_time": "2024-12-31T11:24:03.162Z"
   },
   {
    "duration": 2647,
    "start_time": "2024-12-31T11:24:04.392Z"
   },
   {
    "duration": 26,
    "start_time": "2024-12-31T11:24:07.041Z"
   },
   {
    "duration": 6,
    "start_time": "2024-12-31T11:24:07.069Z"
   },
   {
    "duration": 352,
    "start_time": "2024-12-31T11:24:07.115Z"
   },
   {
    "duration": 720,
    "start_time": "2024-12-31T11:24:07.468Z"
   },
   {
    "duration": 176,
    "start_time": "2024-12-31T11:24:08.190Z"
   },
   {
    "duration": 134,
    "start_time": "2024-12-31T11:24:08.368Z"
   },
   {
    "duration": 203,
    "start_time": "2024-12-31T11:24:08.518Z"
   },
   {
    "duration": 3,
    "start_time": "2024-12-31T11:24:08.723Z"
   },
   {
    "duration": 56,
    "start_time": "2024-12-31T11:24:08.727Z"
   },
   {
    "duration": 8,
    "start_time": "2024-12-31T11:24:08.784Z"
   },
   {
    "duration": 27,
    "start_time": "2024-12-31T11:24:08.794Z"
   },
   {
    "duration": 8,
    "start_time": "2024-12-31T11:24:08.823Z"
   },
   {
    "duration": 20,
    "start_time": "2024-12-31T11:24:08.833Z"
   },
   {
    "duration": 371,
    "start_time": "2024-12-31T11:24:08.855Z"
   },
   {
    "duration": 28,
    "start_time": "2024-12-31T11:24:09.227Z"
   },
   {
    "duration": 243,
    "start_time": "2024-12-31T11:24:09.258Z"
   },
   {
    "duration": 60,
    "start_time": "2024-12-31T11:24:09.503Z"
   },
   {
    "duration": 31,
    "start_time": "2024-12-31T11:24:09.564Z"
   },
   {
    "duration": 29,
    "start_time": "2024-12-31T11:24:09.616Z"
   },
   {
    "duration": 179,
    "start_time": "2024-12-31T11:24:09.647Z"
   },
   {
    "duration": 91,
    "start_time": "2024-12-31T11:24:09.827Z"
   },
   {
    "duration": 29,
    "start_time": "2024-12-31T11:24:09.919Z"
   },
   {
    "duration": 33,
    "start_time": "2024-12-31T11:24:09.949Z"
   },
   {
    "duration": 34,
    "start_time": "2024-12-31T11:24:09.984Z"
   },
   {
    "duration": 113,
    "start_time": "2024-12-31T11:24:10.024Z"
   },
   {
    "duration": 25,
    "start_time": "2024-12-31T11:24:10.140Z"
   },
   {
    "duration": 81,
    "start_time": "2024-12-31T11:24:10.167Z"
   },
   {
    "duration": 23,
    "start_time": "2024-12-31T11:24:10.250Z"
   },
   {
    "duration": 305,
    "start_time": "2024-12-31T11:24:10.275Z"
   },
   {
    "duration": 159,
    "start_time": "2024-12-31T11:24:10.582Z"
   },
   {
    "duration": 252,
    "start_time": "2024-12-31T11:24:10.743Z"
   },
   {
    "duration": 22,
    "start_time": "2024-12-31T11:24:10.996Z"
   },
   {
    "duration": 52,
    "start_time": "2024-12-31T11:24:11.019Z"
   },
   {
    "duration": 12,
    "start_time": "2024-12-31T11:24:11.073Z"
   },
   {
    "duration": 40,
    "start_time": "2024-12-31T11:24:11.087Z"
   },
   {
    "duration": 14,
    "start_time": "2024-12-31T11:24:11.129Z"
   },
   {
    "duration": 3,
    "start_time": "2024-12-31T11:24:11.145Z"
   },
   {
    "duration": 23,
    "start_time": "2024-12-31T11:24:11.150Z"
   },
   {
    "duration": 6,
    "start_time": "2024-12-31T11:24:11.174Z"
   },
   {
    "duration": 9,
    "start_time": "2024-12-31T11:24:11.181Z"
   },
   {
    "duration": 37,
    "start_time": "2024-12-31T11:24:11.191Z"
   },
   {
    "duration": 49,
    "start_time": "2024-12-31T11:24:11.229Z"
   },
   {
    "duration": 183,
    "start_time": "2024-12-31T11:24:11.280Z"
   },
   {
    "duration": 92,
    "start_time": "2024-12-31T11:24:11.464Z"
   },
   {
    "duration": 83,
    "start_time": "2024-12-31T11:24:11.557Z"
   },
   {
    "duration": 174,
    "start_time": "2024-12-31T11:24:11.642Z"
   },
   {
    "duration": 59,
    "start_time": "2024-12-31T11:24:11.819Z"
   },
   {
    "duration": 11,
    "start_time": "2024-12-31T11:24:11.880Z"
   },
   {
    "duration": 80,
    "start_time": "2024-12-31T11:24:11.893Z"
   },
   {
    "duration": 7,
    "start_time": "2024-12-31T11:24:11.975Z"
   },
   {
    "duration": 38,
    "start_time": "2024-12-31T11:24:11.984Z"
   },
   {
    "duration": 7,
    "start_time": "2024-12-31T11:24:12.023Z"
   },
   {
    "duration": 25,
    "start_time": "2024-12-31T11:24:12.031Z"
   },
   {
    "duration": 14,
    "start_time": "2024-12-31T11:24:12.058Z"
   },
   {
    "duration": 47,
    "start_time": "2024-12-31T11:24:12.074Z"
   },
   {
    "duration": 50,
    "start_time": "2024-12-31T11:24:12.123Z"
   },
   {
    "duration": 331,
    "start_time": "2024-12-31T11:24:12.175Z"
   },
   {
    "duration": 23,
    "start_time": "2024-12-31T11:24:12.508Z"
   },
   {
    "duration": 98,
    "start_time": "2024-12-31T11:24:12.533Z"
   },
   {
    "duration": 21,
    "start_time": "2024-12-31T11:24:12.633Z"
   },
   {
    "duration": 38,
    "start_time": "2024-12-31T11:24:12.655Z"
   },
   {
    "duration": 21,
    "start_time": "2024-12-31T11:24:12.695Z"
   },
   {
    "duration": 34,
    "start_time": "2024-12-31T11:24:12.718Z"
   },
   {
    "duration": 30,
    "start_time": "2024-12-31T11:24:12.754Z"
   },
   {
    "duration": 35,
    "start_time": "2024-12-31T11:24:12.786Z"
   },
   {
    "duration": 13,
    "start_time": "2024-12-31T11:24:12.824Z"
   },
   {
    "duration": 8,
    "start_time": "2024-12-31T11:24:12.839Z"
   },
   {
    "duration": 46,
    "start_time": "2024-12-31T11:24:12.849Z"
   },
   {
    "duration": 36,
    "start_time": "2024-12-31T11:24:12.896Z"
   },
   {
    "duration": 11,
    "start_time": "2024-12-31T11:24:12.934Z"
   },
   {
    "duration": 8,
    "start_time": "2024-12-31T11:24:12.947Z"
   },
   {
    "duration": 179,
    "start_time": "2024-12-31T11:24:12.957Z"
   },
   {
    "duration": 414,
    "start_time": "2024-12-31T11:24:13.138Z"
   },
   {
    "duration": 14,
    "start_time": "2024-12-31T11:24:13.554Z"
   },
   {
    "duration": 18,
    "start_time": "2024-12-31T11:24:13.570Z"
   },
   {
    "duration": 27,
    "start_time": "2024-12-31T11:24:13.590Z"
   },
   {
    "duration": 10,
    "start_time": "2024-12-31T11:24:13.619Z"
   },
   {
    "duration": 10,
    "start_time": "2024-12-31T11:24:13.631Z"
   },
   {
    "duration": 7,
    "start_time": "2024-12-31T11:24:13.648Z"
   },
   {
    "duration": 10,
    "start_time": "2024-12-31T11:24:13.657Z"
   },
   {
    "duration": 8,
    "start_time": "2024-12-31T11:24:13.669Z"
   },
   {
    "duration": 267,
    "start_time": "2024-12-31T11:24:13.679Z"
   },
   {
    "duration": 12,
    "start_time": "2024-12-31T11:24:13.947Z"
   },
   {
    "duration": 30,
    "start_time": "2024-12-31T11:24:13.960Z"
   },
   {
    "duration": 31,
    "start_time": "2024-12-31T11:24:13.992Z"
   },
   {
    "duration": 30,
    "start_time": "2024-12-31T11:24:14.025Z"
   },
   {
    "duration": 9,
    "start_time": "2024-12-31T11:24:14.057Z"
   },
   {
    "duration": 475,
    "start_time": "2024-12-31T11:24:14.069Z"
   },
   {
    "duration": 73,
    "start_time": "2024-12-31T11:24:14.546Z"
   },
   {
    "duration": 14,
    "start_time": "2024-12-31T11:24:14.622Z"
   },
   {
    "duration": 8,
    "start_time": "2024-12-31T11:24:14.638Z"
   },
   {
    "duration": 20,
    "start_time": "2024-12-31T11:24:14.647Z"
   },
   {
    "duration": 7,
    "start_time": "2024-12-31T11:24:14.669Z"
   },
   {
    "duration": 10,
    "start_time": "2024-12-31T11:35:44.681Z"
   },
   {
    "duration": 9,
    "start_time": "2024-12-31T11:35:53.426Z"
   },
   {
    "duration": 17,
    "start_time": "2024-12-31T11:43:00.919Z"
   },
   {
    "duration": 11,
    "start_time": "2024-12-31T11:44:30.030Z"
   },
   {
    "duration": 107,
    "start_time": "2024-12-31T11:48:18.928Z"
   },
   {
    "duration": 10,
    "start_time": "2024-12-31T11:50:37.892Z"
   },
   {
    "duration": 8,
    "start_time": "2024-12-31T11:50:47.427Z"
   },
   {
    "duration": 385,
    "start_time": "2024-12-31T11:52:14.674Z"
   },
   {
    "duration": 126,
    "start_time": "2024-12-31T12:04:17.123Z"
   },
   {
    "duration": 1285,
    "start_time": "2024-12-31T12:04:35.454Z"
   },
   {
    "duration": 202,
    "start_time": "2024-12-31T12:07:28.528Z"
   },
   {
    "duration": 194,
    "start_time": "2024-12-31T12:10:54.175Z"
   },
   {
    "duration": 199,
    "start_time": "2024-12-31T12:11:01.491Z"
   },
   {
    "duration": 7,
    "start_time": "2024-12-31T12:24:55.353Z"
   },
   {
    "duration": 15,
    "start_time": "2024-12-31T12:24:56.603Z"
   },
   {
    "duration": 9,
    "start_time": "2024-12-31T12:24:58.155Z"
   },
   {
    "duration": 8,
    "start_time": "2024-12-31T12:25:06.124Z"
   },
   {
    "duration": 6,
    "start_time": "2024-12-31T12:25:09.385Z"
   },
   {
    "duration": 7,
    "start_time": "2024-12-31T12:25:13.774Z"
   },
   {
    "duration": 6,
    "start_time": "2024-12-31T12:25:20.534Z"
   },
   {
    "duration": 6,
    "start_time": "2024-12-31T12:25:26.063Z"
   },
   {
    "duration": 7,
    "start_time": "2024-12-31T12:25:32.445Z"
   },
   {
    "duration": 7,
    "start_time": "2024-12-31T12:25:36.657Z"
   },
   {
    "duration": 6,
    "start_time": "2024-12-31T12:25:40.176Z"
   },
   {
    "duration": 7,
    "start_time": "2024-12-31T12:25:44.202Z"
   },
   {
    "duration": 6,
    "start_time": "2024-12-31T12:25:56.988Z"
   },
   {
    "duration": 272,
    "start_time": "2024-12-31T12:26:26.615Z"
   },
   {
    "duration": 15,
    "start_time": "2024-12-31T12:26:38.807Z"
   },
   {
    "duration": 2794,
    "start_time": "2024-12-31T12:28:47.522Z"
   },
   {
    "duration": 1353,
    "start_time": "2024-12-31T12:28:50.320Z"
   },
   {
    "duration": 2596,
    "start_time": "2024-12-31T12:28:51.675Z"
   },
   {
    "duration": 43,
    "start_time": "2024-12-31T12:28:54.273Z"
   },
   {
    "duration": 8,
    "start_time": "2024-12-31T12:28:54.318Z"
   },
   {
    "duration": 353,
    "start_time": "2024-12-31T12:28:54.328Z"
   },
   {
    "duration": 780,
    "start_time": "2024-12-31T12:28:54.682Z"
   },
   {
    "duration": 179,
    "start_time": "2024-12-31T12:28:55.464Z"
   },
   {
    "duration": 131,
    "start_time": "2024-12-31T12:28:55.645Z"
   },
   {
    "duration": 200,
    "start_time": "2024-12-31T12:28:55.779Z"
   },
   {
    "duration": 2,
    "start_time": "2024-12-31T12:28:55.981Z"
   },
   {
    "duration": 70,
    "start_time": "2024-12-31T12:28:55.985Z"
   },
   {
    "duration": 9,
    "start_time": "2024-12-31T12:28:56.056Z"
   },
   {
    "duration": 18,
    "start_time": "2024-12-31T12:28:56.067Z"
   },
   {
    "duration": 29,
    "start_time": "2024-12-31T12:28:56.087Z"
   },
   {
    "duration": 28,
    "start_time": "2024-12-31T12:28:56.118Z"
   },
   {
    "duration": 391,
    "start_time": "2024-12-31T12:28:56.148Z"
   },
   {
    "duration": 29,
    "start_time": "2024-12-31T12:28:56.548Z"
   },
   {
    "duration": 300,
    "start_time": "2024-12-31T12:28:56.579Z"
   },
   {
    "duration": 73,
    "start_time": "2024-12-31T12:28:56.881Z"
   },
   {
    "duration": 30,
    "start_time": "2024-12-31T12:28:56.956Z"
   },
   {
    "duration": 53,
    "start_time": "2024-12-31T12:28:56.988Z"
   },
   {
    "duration": 186,
    "start_time": "2024-12-31T12:28:57.042Z"
   },
   {
    "duration": 91,
    "start_time": "2024-12-31T12:28:57.230Z"
   },
   {
    "duration": 32,
    "start_time": "2024-12-31T12:28:57.323Z"
   },
   {
    "duration": 25,
    "start_time": "2024-12-31T12:28:57.357Z"
   },
   {
    "duration": 48,
    "start_time": "2024-12-31T12:28:57.384Z"
   },
   {
    "duration": 57,
    "start_time": "2024-12-31T12:28:57.436Z"
   },
   {
    "duration": 33,
    "start_time": "2024-12-31T12:28:57.495Z"
   },
   {
    "duration": 11,
    "start_time": "2024-12-31T12:28:57.530Z"
   },
   {
    "duration": 20,
    "start_time": "2024-12-31T12:28:57.542Z"
   },
   {
    "duration": 319,
    "start_time": "2024-12-31T12:28:57.564Z"
   },
   {
    "duration": 173,
    "start_time": "2024-12-31T12:28:57.885Z"
   },
   {
    "duration": 285,
    "start_time": "2024-12-31T12:28:58.059Z"
   },
   {
    "duration": 12,
    "start_time": "2024-12-31T12:28:58.345Z"
   },
   {
    "duration": 86,
    "start_time": "2024-12-31T12:28:58.359Z"
   },
   {
    "duration": 10,
    "start_time": "2024-12-31T12:28:58.447Z"
   },
   {
    "duration": 15,
    "start_time": "2024-12-31T12:28:58.459Z"
   },
   {
    "duration": 4,
    "start_time": "2024-12-31T12:28:58.475Z"
   },
   {
    "duration": 9,
    "start_time": "2024-12-31T12:28:58.480Z"
   },
   {
    "duration": 45,
    "start_time": "2024-12-31T12:28:58.490Z"
   },
   {
    "duration": 78,
    "start_time": "2024-12-31T12:28:58.540Z"
   },
   {
    "duration": 22,
    "start_time": "2024-12-31T12:28:58.619Z"
   },
   {
    "duration": 16,
    "start_time": "2024-12-31T12:28:58.643Z"
   },
   {
    "duration": 75,
    "start_time": "2024-12-31T12:28:58.660Z"
   },
   {
    "duration": 205,
    "start_time": "2024-12-31T12:28:58.738Z"
   },
   {
    "duration": 56,
    "start_time": "2024-12-31T12:28:58.945Z"
   },
   {
    "duration": 112,
    "start_time": "2024-12-31T12:28:59.003Z"
   },
   {
    "duration": 154,
    "start_time": "2024-12-31T12:28:59.117Z"
   },
   {
    "duration": 92,
    "start_time": "2024-12-31T12:28:59.273Z"
   },
   {
    "duration": 4,
    "start_time": "2024-12-31T12:28:59.367Z"
   },
   {
    "duration": 78,
    "start_time": "2024-12-31T12:28:59.374Z"
   },
   {
    "duration": 13,
    "start_time": "2024-12-31T12:28:59.454Z"
   },
   {
    "duration": 61,
    "start_time": "2024-12-31T12:28:59.469Z"
   },
   {
    "duration": 5,
    "start_time": "2024-12-31T12:28:59.532Z"
   },
   {
    "duration": 29,
    "start_time": "2024-12-31T12:28:59.539Z"
   },
   {
    "duration": 5,
    "start_time": "2024-12-31T12:28:59.570Z"
   },
   {
    "duration": 26,
    "start_time": "2024-12-31T12:28:59.576Z"
   },
   {
    "duration": 144,
    "start_time": "2024-12-31T12:28:59.604Z"
   },
   {
    "duration": 441,
    "start_time": "2024-12-31T12:28:59.749Z"
   },
   {
    "duration": 14,
    "start_time": "2024-12-31T12:29:00.192Z"
   },
   {
    "duration": 107,
    "start_time": "2024-12-31T12:29:00.223Z"
   },
   {
    "duration": 21,
    "start_time": "2024-12-31T12:29:00.332Z"
   },
   {
    "duration": 79,
    "start_time": "2024-12-31T12:29:00.355Z"
   },
   {
    "duration": 25,
    "start_time": "2024-12-31T12:29:00.436Z"
   },
   {
    "duration": 70,
    "start_time": "2024-12-31T12:29:00.463Z"
   },
   {
    "duration": 117,
    "start_time": "2024-12-31T12:29:00.535Z"
   },
   {
    "duration": 9,
    "start_time": "2024-12-31T12:29:00.653Z"
   },
   {
    "duration": 7,
    "start_time": "2024-12-31T12:29:00.663Z"
   },
   {
    "duration": 7,
    "start_time": "2024-12-31T12:29:00.672Z"
   },
   {
    "duration": 52,
    "start_time": "2024-12-31T12:29:00.681Z"
   },
   {
    "duration": 27,
    "start_time": "2024-12-31T12:29:00.735Z"
   },
   {
    "duration": 10,
    "start_time": "2024-12-31T12:29:00.764Z"
   },
   {
    "duration": 7,
    "start_time": "2024-12-31T12:29:00.776Z"
   },
   {
    "duration": 183,
    "start_time": "2024-12-31T12:29:00.784Z"
   },
   {
    "duration": 513,
    "start_time": "2024-12-31T12:29:00.969Z"
   },
   {
    "duration": 12,
    "start_time": "2024-12-31T12:29:01.484Z"
   },
   {
    "duration": 44,
    "start_time": "2024-12-31T12:29:01.498Z"
   },
   {
    "duration": 36,
    "start_time": "2024-12-31T12:29:01.544Z"
   },
   {
    "duration": 167,
    "start_time": "2024-12-31T12:29:01.581Z"
   },
   {
    "duration": 143,
    "start_time": "2024-12-31T12:29:01.750Z"
   },
   {
    "duration": 36,
    "start_time": "2024-12-31T12:29:01.899Z"
   },
   {
    "duration": 42,
    "start_time": "2024-12-31T12:29:01.936Z"
   },
   {
    "duration": 43,
    "start_time": "2024-12-31T12:29:01.980Z"
   },
   {
    "duration": 10,
    "start_time": "2024-12-31T12:29:02.025Z"
   },
   {
    "duration": 37,
    "start_time": "2024-12-31T12:29:02.037Z"
   },
   {
    "duration": 287,
    "start_time": "2024-12-31T12:29:02.076Z"
   },
   {
    "duration": 10,
    "start_time": "2024-12-31T12:29:02.365Z"
   },
   {
    "duration": 50,
    "start_time": "2024-12-31T12:29:02.377Z"
   },
   {
    "duration": 10,
    "start_time": "2024-12-31T12:29:02.429Z"
   },
   {
    "duration": 99,
    "start_time": "2024-12-31T12:29:02.441Z"
   },
   {
    "duration": 130,
    "start_time": "2024-12-31T12:29:02.542Z"
   },
   {
    "duration": 549,
    "start_time": "2024-12-31T12:29:02.674Z"
   },
   {
    "duration": 12,
    "start_time": "2024-12-31T12:29:03.227Z"
   },
   {
    "duration": 40,
    "start_time": "2024-12-31T12:29:03.241Z"
   },
   {
    "duration": 365,
    "start_time": "2024-12-31T12:29:03.284Z"
   },
   {
    "duration": 70,
    "start_time": "2024-12-31T12:29:03.650Z"
   },
   {
    "duration": 124,
    "start_time": "2024-12-31T12:29:03.723Z"
   },
   {
    "duration": 15,
    "start_time": "2024-12-31T12:29:03.848Z"
   },
   {
    "duration": 19,
    "start_time": "2024-12-31T12:29:03.865Z"
   },
   {
    "duration": 8,
    "start_time": "2024-12-31T12:29:03.885Z"
   },
   {
    "duration": 178,
    "start_time": "2024-12-31T12:29:03.895Z"
   },
   {
    "duration": 122,
    "start_time": "2024-12-31T12:34:14.283Z"
   },
   {
    "duration": 4,
    "start_time": "2024-12-31T12:35:24.090Z"
   },
   {
    "duration": 302,
    "start_time": "2024-12-31T12:35:31.627Z"
   },
   {
    "duration": 122,
    "start_time": "2024-12-31T12:36:39.577Z"
   },
   {
    "duration": 187,
    "start_time": "2024-12-31T12:37:01.349Z"
   },
   {
    "duration": 23,
    "start_time": "2024-12-31T12:38:34.842Z"
   },
   {
    "duration": 37,
    "start_time": "2024-12-31T12:39:24.424Z"
   },
   {
    "duration": 317,
    "start_time": "2024-12-31T12:39:41.201Z"
   },
   {
    "duration": 14,
    "start_time": "2024-12-31T12:40:03.788Z"
   },
   {
    "duration": 82,
    "start_time": "2024-12-31T12:40:19.912Z"
   },
   {
    "duration": 23,
    "start_time": "2024-12-31T12:40:35.128Z"
   },
   {
    "duration": 25,
    "start_time": "2024-12-31T12:40:50.861Z"
   },
   {
    "duration": 5,
    "start_time": "2024-12-31T12:41:01.119Z"
   },
   {
    "duration": 25,
    "start_time": "2024-12-31T12:41:22.028Z"
   },
   {
    "duration": 26,
    "start_time": "2024-12-31T12:41:33.606Z"
   },
   {
    "duration": 24,
    "start_time": "2024-12-31T12:42:38.932Z"
   },
   {
    "duration": 27,
    "start_time": "2024-12-31T12:43:22.824Z"
   },
   {
    "duration": 9,
    "start_time": "2024-12-31T12:44:10.903Z"
   },
   {
    "duration": 33,
    "start_time": "2024-12-31T12:44:18.064Z"
   },
   {
    "duration": 87,
    "start_time": "2024-12-31T12:44:24.494Z"
   },
   {
    "duration": 2707,
    "start_time": "2024-12-31T12:44:51.537Z"
   },
   {
    "duration": 1264,
    "start_time": "2024-12-31T12:44:54.248Z"
   },
   {
    "duration": 2338,
    "start_time": "2024-12-31T12:44:55.514Z"
   },
   {
    "duration": 18,
    "start_time": "2024-12-31T12:44:57.854Z"
   },
   {
    "duration": 58,
    "start_time": "2024-12-31T12:44:57.874Z"
   },
   {
    "duration": 20,
    "start_time": "2024-12-31T12:44:57.934Z"
   },
   {
    "duration": 376,
    "start_time": "2024-12-31T12:44:57.955Z"
   },
   {
    "duration": 754,
    "start_time": "2024-12-31T12:44:58.332Z"
   },
   {
    "duration": 197,
    "start_time": "2024-12-31T12:44:59.087Z"
   },
   {
    "duration": 139,
    "start_time": "2024-12-31T12:44:59.287Z"
   },
   {
    "duration": 215,
    "start_time": "2024-12-31T12:44:59.427Z"
   },
   {
    "duration": 3,
    "start_time": "2024-12-31T12:44:59.644Z"
   },
   {
    "duration": 98,
    "start_time": "2024-12-31T12:44:59.648Z"
   },
   {
    "duration": 33,
    "start_time": "2024-12-31T12:44:59.748Z"
   },
   {
    "duration": 17,
    "start_time": "2024-12-31T12:44:59.783Z"
   },
   {
    "duration": 8,
    "start_time": "2024-12-31T12:44:59.802Z"
   },
   {
    "duration": 99,
    "start_time": "2024-12-31T12:44:59.812Z"
   },
   {
    "duration": 389,
    "start_time": "2024-12-31T12:44:59.912Z"
   },
   {
    "duration": 39,
    "start_time": "2024-12-31T12:45:00.303Z"
   },
   {
    "duration": 306,
    "start_time": "2024-12-31T12:45:00.344Z"
   },
   {
    "duration": 82,
    "start_time": "2024-12-31T12:45:00.653Z"
   },
   {
    "duration": 36,
    "start_time": "2024-12-31T12:45:00.737Z"
   },
   {
    "duration": 53,
    "start_time": "2024-12-31T12:45:00.775Z"
   },
   {
    "duration": 174,
    "start_time": "2024-12-31T12:45:00.831Z"
   },
   {
    "duration": 91,
    "start_time": "2024-12-31T12:45:01.006Z"
   },
   {
    "duration": 44,
    "start_time": "2024-12-31T12:45:01.099Z"
   },
   {
    "duration": 60,
    "start_time": "2024-12-31T12:45:01.145Z"
   },
   {
    "duration": 18,
    "start_time": "2024-12-31T12:45:01.209Z"
   },
   {
    "duration": 109,
    "start_time": "2024-12-31T12:45:01.236Z"
   },
   {
    "duration": 26,
    "start_time": "2024-12-31T12:45:01.346Z"
   },
   {
    "duration": 12,
    "start_time": "2024-12-31T12:45:01.374Z"
   },
   {
    "duration": 41,
    "start_time": "2024-12-31T12:45:01.387Z"
   },
   {
    "duration": 329,
    "start_time": "2024-12-31T12:45:01.430Z"
   },
   {
    "duration": 187,
    "start_time": "2024-12-31T12:45:01.761Z"
   },
   {
    "duration": 279,
    "start_time": "2024-12-31T12:45:01.950Z"
   },
   {
    "duration": 16,
    "start_time": "2024-12-31T12:45:02.231Z"
   },
   {
    "duration": 108,
    "start_time": "2024-12-31T12:45:02.249Z"
   },
   {
    "duration": 11,
    "start_time": "2024-12-31T12:45:02.360Z"
   },
   {
    "duration": 22,
    "start_time": "2024-12-31T12:45:02.373Z"
   },
   {
    "duration": 3,
    "start_time": "2024-12-31T12:45:02.396Z"
   },
   {
    "duration": 33,
    "start_time": "2024-12-31T12:45:02.401Z"
   },
   {
    "duration": 59,
    "start_time": "2024-12-31T12:45:02.436Z"
   },
   {
    "duration": 6,
    "start_time": "2024-12-31T12:45:02.497Z"
   },
   {
    "duration": 91,
    "start_time": "2024-12-31T12:45:02.504Z"
   },
   {
    "duration": 90,
    "start_time": "2024-12-31T12:45:02.597Z"
   },
   {
    "duration": 56,
    "start_time": "2024-12-31T12:45:02.688Z"
   },
   {
    "duration": 197,
    "start_time": "2024-12-31T12:45:02.746Z"
   },
   {
    "duration": 75,
    "start_time": "2024-12-31T12:45:02.945Z"
   },
   {
    "duration": 103,
    "start_time": "2024-12-31T12:45:03.023Z"
   },
   {
    "duration": 140,
    "start_time": "2024-12-31T12:45:03.131Z"
   },
   {
    "duration": 76,
    "start_time": "2024-12-31T12:45:03.273Z"
   },
   {
    "duration": 19,
    "start_time": "2024-12-31T12:45:03.351Z"
   },
   {
    "duration": 52,
    "start_time": "2024-12-31T12:45:03.371Z"
   },
   {
    "duration": 20,
    "start_time": "2024-12-31T12:45:03.428Z"
   },
   {
    "duration": 49,
    "start_time": "2024-12-31T12:45:03.450Z"
   },
   {
    "duration": 31,
    "start_time": "2024-12-31T12:45:03.500Z"
   },
   {
    "duration": 75,
    "start_time": "2024-12-31T12:45:03.534Z"
   },
   {
    "duration": 32,
    "start_time": "2024-12-31T12:45:03.611Z"
   },
   {
    "duration": 165,
    "start_time": "2024-12-31T12:45:03.645Z"
   },
   {
    "duration": 48,
    "start_time": "2024-12-31T12:45:03.811Z"
   },
   {
    "duration": 409,
    "start_time": "2024-12-31T12:45:03.861Z"
   },
   {
    "duration": 14,
    "start_time": "2024-12-31T12:45:04.271Z"
   },
   {
    "duration": 121,
    "start_time": "2024-12-31T12:45:04.287Z"
   },
   {
    "duration": 31,
    "start_time": "2024-12-31T12:45:04.410Z"
   },
   {
    "duration": 40,
    "start_time": "2024-12-31T12:45:04.443Z"
   },
   {
    "duration": 5,
    "start_time": "2024-12-31T12:45:04.484Z"
   },
   {
    "duration": 67,
    "start_time": "2024-12-31T12:45:04.491Z"
   },
   {
    "duration": 28,
    "start_time": "2024-12-31T12:45:04.560Z"
   },
   {
    "duration": 105,
    "start_time": "2024-12-31T12:45:04.590Z"
   },
   {
    "duration": 8,
    "start_time": "2024-12-31T12:45:04.696Z"
   },
   {
    "duration": 39,
    "start_time": "2024-12-31T12:45:04.705Z"
   },
   {
    "duration": 47,
    "start_time": "2024-12-31T12:45:04.745Z"
   },
   {
    "duration": 38,
    "start_time": "2024-12-31T12:45:04.794Z"
   },
   {
    "duration": 11,
    "start_time": "2024-12-31T12:45:04.833Z"
   },
   {
    "duration": 30,
    "start_time": "2024-12-31T12:45:04.846Z"
   },
   {
    "duration": 201,
    "start_time": "2024-12-31T12:45:04.878Z"
   },
   {
    "duration": 480,
    "start_time": "2024-12-31T12:45:05.082Z"
   },
   {
    "duration": 16,
    "start_time": "2024-12-31T12:45:05.564Z"
   },
   {
    "duration": 60,
    "start_time": "2024-12-31T12:45:05.582Z"
   },
   {
    "duration": 134,
    "start_time": "2024-12-31T12:45:05.644Z"
   },
   {
    "duration": 115,
    "start_time": "2024-12-31T12:45:05.780Z"
   },
   {
    "duration": 77,
    "start_time": "2024-12-31T12:45:05.901Z"
   },
   {
    "duration": 12,
    "start_time": "2024-12-31T12:45:05.980Z"
   },
   {
    "duration": 21,
    "start_time": "2024-12-31T12:45:05.993Z"
   },
   {
    "duration": 9,
    "start_time": "2024-12-31T12:45:06.021Z"
   },
   {
    "duration": 32,
    "start_time": "2024-12-31T12:45:06.035Z"
   },
   {
    "duration": 23,
    "start_time": "2024-12-31T12:45:06.068Z"
   },
   {
    "duration": 260,
    "start_time": "2024-12-31T12:45:06.093Z"
   },
   {
    "duration": 10,
    "start_time": "2024-12-31T12:45:06.355Z"
   },
   {
    "duration": 33,
    "start_time": "2024-12-31T12:45:06.367Z"
   },
   {
    "duration": 13,
    "start_time": "2024-12-31T12:45:06.418Z"
   },
   {
    "duration": 46,
    "start_time": "2024-12-31T12:45:06.432Z"
   },
   {
    "duration": 22,
    "start_time": "2024-12-31T12:45:06.480Z"
   },
   {
    "duration": 530,
    "start_time": "2024-12-31T12:45:06.504Z"
   },
   {
    "duration": 10,
    "start_time": "2024-12-31T12:45:07.036Z"
   },
   {
    "duration": 26,
    "start_time": "2024-12-31T12:45:07.048Z"
   },
   {
    "duration": 396,
    "start_time": "2024-12-31T12:45:07.076Z"
   },
   {
    "duration": 76,
    "start_time": "2024-12-31T12:45:07.474Z"
   },
   {
    "duration": 14,
    "start_time": "2024-12-31T12:45:07.552Z"
   },
   {
    "duration": 16,
    "start_time": "2024-12-31T12:45:07.568Z"
   },
   {
    "duration": 53,
    "start_time": "2024-12-31T12:45:07.586Z"
   },
   {
    "duration": 101,
    "start_time": "2024-12-31T12:45:07.641Z"
   },
   {
    "duration": 231,
    "start_time": "2024-12-31T12:45:07.744Z"
   },
   {
    "duration": 2763,
    "start_time": "2024-12-31T12:46:55.242Z"
   },
   {
    "duration": 4,
    "start_time": "2024-12-31T12:46:58.007Z"
   },
   {
    "duration": 2399,
    "start_time": "2024-12-31T12:46:58.013Z"
   },
   {
    "duration": 28,
    "start_time": "2024-12-31T12:47:00.420Z"
   },
   {
    "duration": 13,
    "start_time": "2024-12-31T12:47:00.450Z"
   },
   {
    "duration": 39,
    "start_time": "2024-12-31T12:47:00.465Z"
   },
   {
    "duration": 370,
    "start_time": "2024-12-31T12:47:00.506Z"
   },
   {
    "duration": 727,
    "start_time": "2024-12-31T12:47:00.877Z"
   },
   {
    "duration": 183,
    "start_time": "2024-12-31T12:47:01.605Z"
   },
   {
    "duration": 156,
    "start_time": "2024-12-31T12:47:01.792Z"
   },
   {
    "duration": 217,
    "start_time": "2024-12-31T12:47:01.950Z"
   },
   {
    "duration": 3,
    "start_time": "2024-12-31T12:47:02.169Z"
   },
   {
    "duration": 64,
    "start_time": "2024-12-31T12:47:02.173Z"
   },
   {
    "duration": 11,
    "start_time": "2024-12-31T12:47:02.239Z"
   },
   {
    "duration": 39,
    "start_time": "2024-12-31T12:47:02.251Z"
   },
   {
    "duration": 8,
    "start_time": "2024-12-31T12:47:02.292Z"
   },
   {
    "duration": 59,
    "start_time": "2024-12-31T12:47:02.302Z"
   },
   {
    "duration": 386,
    "start_time": "2024-12-31T12:47:02.363Z"
   },
   {
    "duration": 23,
    "start_time": "2024-12-31T12:47:02.752Z"
   },
   {
    "duration": 277,
    "start_time": "2024-12-31T12:47:02.777Z"
   },
   {
    "duration": 77,
    "start_time": "2024-12-31T12:47:03.056Z"
   },
   {
    "duration": 32,
    "start_time": "2024-12-31T12:47:03.134Z"
   },
   {
    "duration": 29,
    "start_time": "2024-12-31T12:47:03.167Z"
   },
   {
    "duration": 199,
    "start_time": "2024-12-31T12:47:03.197Z"
   },
   {
    "duration": 82,
    "start_time": "2024-12-31T12:47:03.397Z"
   },
   {
    "duration": 38,
    "start_time": "2024-12-31T12:47:03.480Z"
   },
   {
    "duration": 41,
    "start_time": "2024-12-31T12:47:03.520Z"
   },
   {
    "duration": 14,
    "start_time": "2024-12-31T12:47:03.565Z"
   },
   {
    "duration": 85,
    "start_time": "2024-12-31T12:47:03.581Z"
   },
   {
    "duration": 25,
    "start_time": "2024-12-31T12:47:03.668Z"
   },
   {
    "duration": 105,
    "start_time": "2024-12-31T12:47:03.695Z"
   },
   {
    "duration": 33,
    "start_time": "2024-12-31T12:47:03.802Z"
   },
   {
    "duration": 406,
    "start_time": "2024-12-31T12:47:03.837Z"
   },
   {
    "duration": 179,
    "start_time": "2024-12-31T12:47:04.245Z"
   },
   {
    "duration": 254,
    "start_time": "2024-12-31T12:47:04.427Z"
   },
   {
    "duration": 14,
    "start_time": "2024-12-31T12:47:04.683Z"
   },
   {
    "duration": 61,
    "start_time": "2024-12-31T12:47:04.716Z"
   },
   {
    "duration": 12,
    "start_time": "2024-12-31T12:47:04.779Z"
   },
   {
    "duration": 43,
    "start_time": "2024-12-31T12:47:04.793Z"
   },
   {
    "duration": 10,
    "start_time": "2024-12-31T12:47:04.838Z"
   },
   {
    "duration": 20,
    "start_time": "2024-12-31T12:47:04.850Z"
   },
   {
    "duration": 24,
    "start_time": "2024-12-31T12:47:04.872Z"
   },
   {
    "duration": 6,
    "start_time": "2024-12-31T12:47:04.898Z"
   },
   {
    "duration": 28,
    "start_time": "2024-12-31T12:47:04.906Z"
   },
   {
    "duration": 34,
    "start_time": "2024-12-31T12:47:04.936Z"
   },
   {
    "duration": 11,
    "start_time": "2024-12-31T12:47:04.972Z"
   },
   {
    "duration": 237,
    "start_time": "2024-12-31T12:47:04.985Z"
   },
   {
    "duration": 68,
    "start_time": "2024-12-31T12:47:05.230Z"
   },
   {
    "duration": 95,
    "start_time": "2024-12-31T12:47:05.300Z"
   },
   {
    "duration": 167,
    "start_time": "2024-12-31T12:47:05.397Z"
   },
   {
    "duration": 76,
    "start_time": "2024-12-31T12:47:05.565Z"
   },
   {
    "duration": 185,
    "start_time": "2024-12-31T12:47:05.644Z"
   },
   {
    "duration": 162,
    "start_time": "2024-12-31T12:47:05.831Z"
   },
   {
    "duration": 5,
    "start_time": "2024-12-31T12:47:05.995Z"
   },
   {
    "duration": 39,
    "start_time": "2024-12-31T12:47:06.001Z"
   },
   {
    "duration": 30,
    "start_time": "2024-12-31T12:47:06.042Z"
   },
   {
    "duration": 30,
    "start_time": "2024-12-31T12:47:06.075Z"
   },
   {
    "duration": 32,
    "start_time": "2024-12-31T12:47:06.107Z"
   },
   {
    "duration": 56,
    "start_time": "2024-12-31T12:47:06.140Z"
   },
   {
    "duration": 71,
    "start_time": "2024-12-31T12:47:06.198Z"
   },
   {
    "duration": 359,
    "start_time": "2024-12-31T12:47:06.271Z"
   },
   {
    "duration": 21,
    "start_time": "2024-12-31T12:47:06.638Z"
   },
   {
    "duration": 127,
    "start_time": "2024-12-31T12:47:06.661Z"
   },
   {
    "duration": 36,
    "start_time": "2024-12-31T12:47:06.790Z"
   },
   {
    "duration": 47,
    "start_time": "2024-12-31T12:47:06.831Z"
   },
   {
    "duration": 5,
    "start_time": "2024-12-31T12:47:06.879Z"
   },
   {
    "duration": 46,
    "start_time": "2024-12-31T12:47:06.886Z"
   },
   {
    "duration": 30,
    "start_time": "2024-12-31T12:47:06.934Z"
   },
   {
    "duration": 23,
    "start_time": "2024-12-31T12:47:06.966Z"
   },
   {
    "duration": 35,
    "start_time": "2024-12-31T12:47:06.991Z"
   },
   {
    "duration": 9,
    "start_time": "2024-12-31T12:47:07.028Z"
   },
   {
    "duration": 49,
    "start_time": "2024-12-31T12:47:07.039Z"
   },
   {
    "duration": 31,
    "start_time": "2024-12-31T12:47:07.090Z"
   },
   {
    "duration": 17,
    "start_time": "2024-12-31T12:47:07.123Z"
   },
   {
    "duration": 29,
    "start_time": "2024-12-31T12:47:07.141Z"
   },
   {
    "duration": 180,
    "start_time": "2024-12-31T12:47:07.172Z"
   },
   {
    "duration": 504,
    "start_time": "2024-12-31T12:47:07.354Z"
   },
   {
    "duration": 14,
    "start_time": "2024-12-31T12:47:07.860Z"
   },
   {
    "duration": 70,
    "start_time": "2024-12-31T12:47:07.876Z"
   },
   {
    "duration": 3,
    "start_time": "2024-12-31T12:47:07.948Z"
   },
   {
    "duration": 22,
    "start_time": "2024-12-31T12:47:07.953Z"
   },
   {
    "duration": 6,
    "start_time": "2024-12-31T12:47:07.982Z"
   },
   {
    "duration": 11,
    "start_time": "2024-12-31T12:47:07.990Z"
   },
   {
    "duration": 10,
    "start_time": "2024-12-31T12:47:08.003Z"
   },
   {
    "duration": 11,
    "start_time": "2024-12-31T12:47:08.017Z"
   },
   {
    "duration": 6,
    "start_time": "2024-12-31T12:47:08.030Z"
   },
   {
    "duration": 26,
    "start_time": "2024-12-31T12:47:08.038Z"
   },
   {
    "duration": 242,
    "start_time": "2024-12-31T12:47:08.066Z"
   },
   {
    "duration": 21,
    "start_time": "2024-12-31T12:47:08.310Z"
   },
   {
    "duration": 34,
    "start_time": "2024-12-31T12:47:08.333Z"
   },
   {
    "duration": 14,
    "start_time": "2024-12-31T12:47:08.368Z"
   },
   {
    "duration": 11,
    "start_time": "2024-12-31T12:47:08.384Z"
   },
   {
    "duration": 32,
    "start_time": "2024-12-31T12:47:08.397Z"
   },
   {
    "duration": 388,
    "start_time": "2024-12-31T12:47:08.431Z"
   },
   {
    "duration": 11,
    "start_time": "2024-12-31T12:47:08.827Z"
   },
   {
    "duration": 10,
    "start_time": "2024-12-31T12:47:08.839Z"
   },
   {
    "duration": 343,
    "start_time": "2024-12-31T12:47:08.851Z"
   },
   {
    "duration": 109,
    "start_time": "2024-12-31T12:47:09.196Z"
   },
   {
    "duration": 25,
    "start_time": "2024-12-31T12:47:09.307Z"
   },
   {
    "duration": 8,
    "start_time": "2024-12-31T12:47:09.334Z"
   },
   {
    "duration": 29,
    "start_time": "2024-12-31T12:47:09.344Z"
   },
   {
    "duration": 8,
    "start_time": "2024-12-31T12:47:09.375Z"
   },
   {
    "duration": 196,
    "start_time": "2024-12-31T12:47:09.385Z"
   },
   {
    "duration": 13,
    "start_time": "2024-12-31T12:50:40.654Z"
   },
   {
    "duration": 13,
    "start_time": "2024-12-31T12:54:59.425Z"
   },
   {
    "duration": 2611,
    "start_time": "2024-12-31T12:57:28.532Z"
   },
   {
    "duration": 1253,
    "start_time": "2024-12-31T12:57:31.145Z"
   },
   {
    "duration": 2432,
    "start_time": "2024-12-31T12:57:32.400Z"
   },
   {
    "duration": 21,
    "start_time": "2024-12-31T12:57:34.834Z"
   },
   {
    "duration": 14,
    "start_time": "2024-12-31T12:57:34.858Z"
   },
   {
    "duration": 26,
    "start_time": "2024-12-31T12:57:34.873Z"
   },
   {
    "duration": 362,
    "start_time": "2024-12-31T12:57:34.915Z"
   },
   {
    "duration": 818,
    "start_time": "2024-12-31T12:57:35.279Z"
   },
   {
    "duration": 183,
    "start_time": "2024-12-31T12:57:36.099Z"
   },
   {
    "duration": 146,
    "start_time": "2024-12-31T12:57:36.283Z"
   },
   {
    "duration": 235,
    "start_time": "2024-12-31T12:57:36.431Z"
   },
   {
    "duration": 2,
    "start_time": "2024-12-31T12:57:36.668Z"
   },
   {
    "duration": 103,
    "start_time": "2024-12-31T12:57:36.672Z"
   },
   {
    "duration": 10,
    "start_time": "2024-12-31T12:57:36.778Z"
   },
   {
    "duration": 54,
    "start_time": "2024-12-31T12:57:36.790Z"
   },
   {
    "duration": 44,
    "start_time": "2024-12-31T12:57:36.845Z"
   },
   {
    "duration": 86,
    "start_time": "2024-12-31T12:57:36.891Z"
   },
   {
    "duration": 359,
    "start_time": "2024-12-31T12:57:36.979Z"
   },
   {
    "duration": 22,
    "start_time": "2024-12-31T12:57:37.340Z"
   },
   {
    "duration": 265,
    "start_time": "2024-12-31T12:57:37.363Z"
   },
   {
    "duration": 93,
    "start_time": "2024-12-31T12:57:37.630Z"
   },
   {
    "duration": 46,
    "start_time": "2024-12-31T12:57:37.725Z"
   },
   {
    "duration": 83,
    "start_time": "2024-12-31T12:57:37.773Z"
   },
   {
    "duration": 192,
    "start_time": "2024-12-31T12:57:37.859Z"
   },
   {
    "duration": 86,
    "start_time": "2024-12-31T12:57:38.053Z"
   },
   {
    "duration": 29,
    "start_time": "2024-12-31T12:57:38.141Z"
   },
   {
    "duration": 47,
    "start_time": "2024-12-31T12:57:38.171Z"
   },
   {
    "duration": 15,
    "start_time": "2024-12-31T12:57:38.219Z"
   },
   {
    "duration": 93,
    "start_time": "2024-12-31T12:57:38.235Z"
   },
   {
    "duration": 26,
    "start_time": "2024-12-31T12:57:38.330Z"
   },
   {
    "duration": 7,
    "start_time": "2024-12-31T12:57:38.358Z"
   },
   {
    "duration": 21,
    "start_time": "2024-12-31T12:57:38.367Z"
   },
   {
    "duration": 330,
    "start_time": "2024-12-31T12:57:38.389Z"
   },
   {
    "duration": 202,
    "start_time": "2024-12-31T12:57:38.721Z"
   },
   {
    "duration": 291,
    "start_time": "2024-12-31T12:57:38.924Z"
   },
   {
    "duration": 12,
    "start_time": "2024-12-31T12:57:39.216Z"
   },
   {
    "duration": 53,
    "start_time": "2024-12-31T12:57:39.230Z"
   },
   {
    "duration": 36,
    "start_time": "2024-12-31T12:57:39.285Z"
   },
   {
    "duration": 23,
    "start_time": "2024-12-31T12:57:39.323Z"
   },
   {
    "duration": 3,
    "start_time": "2024-12-31T12:57:39.348Z"
   },
   {
    "duration": 4,
    "start_time": "2024-12-31T12:57:39.356Z"
   },
   {
    "duration": 19,
    "start_time": "2024-12-31T12:57:39.361Z"
   },
   {
    "duration": 32,
    "start_time": "2024-12-31T12:57:39.382Z"
   },
   {
    "duration": 9,
    "start_time": "2024-12-31T12:57:39.416Z"
   },
   {
    "duration": 14,
    "start_time": "2024-12-31T12:57:39.427Z"
   },
   {
    "duration": 72,
    "start_time": "2024-12-31T12:57:39.443Z"
   },
   {
    "duration": 213,
    "start_time": "2024-12-31T12:57:39.517Z"
   },
   {
    "duration": 58,
    "start_time": "2024-12-31T12:57:39.731Z"
   },
   {
    "duration": 101,
    "start_time": "2024-12-31T12:57:39.814Z"
   },
   {
    "duration": 143,
    "start_time": "2024-12-31T12:57:39.917Z"
   },
   {
    "duration": 83,
    "start_time": "2024-12-31T12:57:40.063Z"
   },
   {
    "duration": 15,
    "start_time": "2024-12-31T12:57:40.149Z"
   },
   {
    "duration": 54,
    "start_time": "2024-12-31T12:57:40.167Z"
   },
   {
    "duration": 6,
    "start_time": "2024-12-31T12:57:40.223Z"
   },
   {
    "duration": 45,
    "start_time": "2024-12-31T12:57:40.232Z"
   },
   {
    "duration": 14,
    "start_time": "2024-12-31T12:57:40.279Z"
   },
   {
    "duration": 62,
    "start_time": "2024-12-31T12:57:40.295Z"
   },
   {
    "duration": 28,
    "start_time": "2024-12-31T12:57:40.359Z"
   },
   {
    "duration": 44,
    "start_time": "2024-12-31T12:57:40.389Z"
   },
   {
    "duration": 50,
    "start_time": "2024-12-31T12:57:40.435Z"
   },
   {
    "duration": 332,
    "start_time": "2024-12-31T12:57:40.487Z"
   },
   {
    "duration": 14,
    "start_time": "2024-12-31T12:57:40.821Z"
   },
   {
    "duration": 111,
    "start_time": "2024-12-31T12:57:40.837Z"
   },
   {
    "duration": 33,
    "start_time": "2024-12-31T12:57:40.950Z"
   },
   {
    "duration": 61,
    "start_time": "2024-12-31T12:57:40.986Z"
   },
   {
    "duration": 5,
    "start_time": "2024-12-31T12:57:41.049Z"
   },
   {
    "duration": 57,
    "start_time": "2024-12-31T12:57:41.056Z"
   },
   {
    "duration": 38,
    "start_time": "2024-12-31T12:57:41.116Z"
   },
   {
    "duration": 11,
    "start_time": "2024-12-31T12:57:41.156Z"
   },
   {
    "duration": 17,
    "start_time": "2024-12-31T12:57:41.169Z"
   },
   {
    "duration": 46,
    "start_time": "2024-12-31T12:57:41.188Z"
   },
   {
    "duration": 47,
    "start_time": "2024-12-31T12:57:41.235Z"
   },
   {
    "duration": 27,
    "start_time": "2024-12-31T12:57:41.284Z"
   },
   {
    "duration": 14,
    "start_time": "2024-12-31T12:57:41.313Z"
   },
   {
    "duration": 33,
    "start_time": "2024-12-31T12:57:41.329Z"
   },
   {
    "duration": 155,
    "start_time": "2024-12-31T12:57:41.364Z"
   },
   {
    "duration": 542,
    "start_time": "2024-12-31T12:57:41.521Z"
   },
   {
    "duration": 13,
    "start_time": "2024-12-31T12:57:42.065Z"
   },
   {
    "duration": 36,
    "start_time": "2024-12-31T12:57:42.080Z"
   },
   {
    "duration": 3,
    "start_time": "2024-12-31T12:57:42.119Z"
   },
   {
    "duration": 4,
    "start_time": "2024-12-31T12:57:42.124Z"
   },
   {
    "duration": 6,
    "start_time": "2024-12-31T12:57:42.130Z"
   },
   {
    "duration": 10,
    "start_time": "2024-12-31T12:57:42.138Z"
   },
   {
    "duration": 10,
    "start_time": "2024-12-31T12:57:42.150Z"
   },
   {
    "duration": 9,
    "start_time": "2024-12-31T12:57:42.162Z"
   },
   {
    "duration": 47,
    "start_time": "2024-12-31T12:57:42.173Z"
   },
   {
    "duration": 14,
    "start_time": "2024-12-31T12:57:42.221Z"
   },
   {
    "duration": 246,
    "start_time": "2024-12-31T12:57:42.237Z"
   },
   {
    "duration": 10,
    "start_time": "2024-12-31T12:57:42.485Z"
   },
   {
    "duration": 53,
    "start_time": "2024-12-31T12:57:42.497Z"
   },
   {
    "duration": 9,
    "start_time": "2024-12-31T12:57:42.552Z"
   },
   {
    "duration": 11,
    "start_time": "2024-12-31T12:57:42.563Z"
   },
   {
    "duration": 9,
    "start_time": "2024-12-31T12:57:42.576Z"
   },
   {
    "duration": 409,
    "start_time": "2024-12-31T12:57:42.614Z"
   },
   {
    "duration": 9,
    "start_time": "2024-12-31T12:57:43.025Z"
   },
   {
    "duration": 13,
    "start_time": "2024-12-31T12:57:43.036Z"
   },
   {
    "duration": 440,
    "start_time": "2024-12-31T12:57:43.050Z"
   },
   {
    "duration": 69,
    "start_time": "2024-12-31T12:57:43.492Z"
   },
   {
    "duration": 14,
    "start_time": "2024-12-31T12:57:43.563Z"
   },
   {
    "duration": 7,
    "start_time": "2024-12-31T12:57:43.579Z"
   },
   {
    "duration": 43,
    "start_time": "2024-12-31T12:57:43.588Z"
   },
   {
    "duration": 8,
    "start_time": "2024-12-31T12:57:43.633Z"
   },
   {
    "duration": 186,
    "start_time": "2024-12-31T12:57:43.643Z"
   }
  ],
  "colab": {
   "provenance": []
  },
  "kernelspec": {
   "display_name": "Python 3 (ipykernel)",
   "language": "python",
   "name": "python3"
  },
  "language_info": {
   "codemirror_mode": {
    "name": "ipython",
    "version": 3
   },
   "file_extension": ".py",
   "mimetype": "text/x-python",
   "name": "python",
   "nbconvert_exporter": "python",
   "pygments_lexer": "ipython3",
   "version": "3.9.7"
  },
  "toc": {
   "base_numbering": 1,
   "nav_menu": {},
   "number_sections": true,
   "sideBar": true,
   "skip_h1_title": true,
   "title_cell": "Table of Contents",
   "title_sidebar": "Contents",
   "toc_cell": false,
   "toc_position": {},
   "toc_section_display": true,
   "toc_window_display": false
  }
 },
 "nbformat": 4,
 "nbformat_minor": 1
}
