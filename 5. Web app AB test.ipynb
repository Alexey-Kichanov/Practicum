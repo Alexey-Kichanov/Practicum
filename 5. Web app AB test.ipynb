{
 "cells": [
  {
   "cell_type": "markdown",
   "metadata": {
    "id": "u98L9TgH0eMk"
   },
   "source": [
    "# Разработка A/B-тестирования и анализ результатов\n",
    "\n",
    "Компания разрабатывает развлекательное приложение с функцией «бесконечной» ленты, как, например, в приложениях с короткими видео. В приложении существует две модели монетизации: первая — ежемесячная платная подписка, которая позволяет пользователям смотреть ленту без рекламы, вторая — демонстрация рекламы для пользователей, которые ещё не оформили подписку.\n",
    "\n",
    "Команда разработчиков рекомендательных систем создала новый алгоритм рекомендаций, который, по их мнению, будет показывать более интересный контент для каждого пользователя. Необходимо рассчитать параметры A/B-теста, который позволит проверить эту гипотезу, и проанализировать его результаты."
   ]
  },
  {
   "cell_type": "markdown",
   "metadata": {
    "id": "LJBRALHs0eMf"
   },
   "source": [
    "## Описание данных\n",
    "\n",
    "Таблицы:\n",
    "\n",
    "- `sessions_project_history.csv` — таблица с историческими данными по сессиям пользователей на период с 2025-08-15 по 2025-09-23. Путь к файлу: `/datasets/sessions_project_history.csv`.\n",
    "\n",
    "- `sessions_project_test_part.csv` — таблица с данными за первый день проведения A/B-теста, то есть за 2025-10-14. Путь к файлу: `/datasets/sessions_project_test_part.csv`.\n",
    "\n",
    "- `sessions_project_test.csv` — таблица с данными за весь период проведения A/B-теста, то есть с 2025-10-14 по 2025-11-02. Путь к файлу: `/datasets/sessions_project_test.csv`.\n",
    "\n",
    "У этих таблиц почти совпадает структура и содержание колонок, различаются лишь периоды наблюдения.\n",
    "\n",
    "Поля таблиц `sessions_project_history.csv`, `sessions_project_test.csv`, `sessions_project_test_part.csv`:\n",
    "\n",
    "- `user_id` — идентификатор пользователя;\n",
    "\n",
    "- `session_id` — идентификатор сессии в приложении;\n",
    "\n",
    "- `session_date` — дата сессии;\n",
    "\n",
    "- `session_start_ts` — дата и время начала сессии;\n",
    "\n",
    "- `install_date` — дата установки приложения;\n",
    "\n",
    "- `session_number` — порядковый номер сессии для конкретного пользователя;\n",
    "\n",
    "- `registration_flag` — является ли пользователь зарегистрированным;\n",
    "\n",
    "- `page_counter` — количество просмотренных страниц во время сессии;\n",
    "\n",
    "- `region` — регион пользователя;\n",
    "\n",
    "- `device` — тип устройства пользователя;\n",
    "\n",
    "- `test_group` — тестовая группа (в таблице с историческими данными этого столбца нет).\n",
    "\n",
    "\n"
   ]
  },
  {
   "cell_type": "markdown",
   "metadata": {
    "id": "UpOucjID0eMl"
   },
   "source": [
    "### 1. Работа с историческими данными (EDA)"
   ]
  },
  {
   "cell_type": "markdown",
   "metadata": {
    "id": "8iJMtL-30eMl"
   },
   "source": [
    "#### 1.1. Загрузка исторических данных\n",
    "Рассмотрим исторические данные приложения:\n"
   ]
  },
  {
   "cell_type": "code",
   "execution_count": 1,
   "metadata": {
    "id": "6TPR2-1RPboT"
   },
   "outputs": [],
   "source": [
    "import pandas as pd"
   ]
  },
  {
   "cell_type": "code",
   "execution_count": 2,
   "metadata": {},
   "outputs": [
    {
     "data": {
      "text/html": [
       "<div>\n",
       "<style scoped>\n",
       "    .dataframe tbody tr th:only-of-type {\n",
       "        vertical-align: middle;\n",
       "    }\n",
       "\n",
       "    .dataframe tbody tr th {\n",
       "        vertical-align: top;\n",
       "    }\n",
       "\n",
       "    .dataframe thead th {\n",
       "        text-align: right;\n",
       "    }\n",
       "</style>\n",
       "<table border=\"1\" class=\"dataframe\">\n",
       "  <thead>\n",
       "    <tr style=\"text-align: right;\">\n",
       "      <th></th>\n",
       "      <th>user_id</th>\n",
       "      <th>session_id</th>\n",
       "      <th>session_date</th>\n",
       "      <th>session_start_ts</th>\n",
       "      <th>install_date</th>\n",
       "      <th>session_number</th>\n",
       "      <th>registration_flag</th>\n",
       "      <th>page_counter</th>\n",
       "      <th>region</th>\n",
       "      <th>device</th>\n",
       "    </tr>\n",
       "  </thead>\n",
       "  <tbody>\n",
       "    <tr>\n",
       "      <th>0</th>\n",
       "      <td>E302123B7000BFE4</td>\n",
       "      <td>F9AF61A0C2023832</td>\n",
       "      <td>2025-08-15</td>\n",
       "      <td>2025-08-15 17:47:35</td>\n",
       "      <td>2025-08-15</td>\n",
       "      <td>1</td>\n",
       "      <td>0</td>\n",
       "      <td>3</td>\n",
       "      <td>CIS</td>\n",
       "      <td>iPhone</td>\n",
       "    </tr>\n",
       "    <tr>\n",
       "      <th>1</th>\n",
       "      <td>2530F72E221829FB</td>\n",
       "      <td>85003A206CBDAC6F</td>\n",
       "      <td>2025-08-15</td>\n",
       "      <td>2025-08-15 16:42:14</td>\n",
       "      <td>2025-08-15</td>\n",
       "      <td>1</td>\n",
       "      <td>0</td>\n",
       "      <td>4</td>\n",
       "      <td>MENA</td>\n",
       "      <td>Android</td>\n",
       "    </tr>\n",
       "    <tr>\n",
       "      <th>2</th>\n",
       "      <td>876E020A4FC512F5</td>\n",
       "      <td>3677423E49D72DEE</td>\n",
       "      <td>2025-08-15</td>\n",
       "      <td>2025-08-15 12:30:00</td>\n",
       "      <td>2025-08-15</td>\n",
       "      <td>1</td>\n",
       "      <td>0</td>\n",
       "      <td>4</td>\n",
       "      <td>EU</td>\n",
       "      <td>PC</td>\n",
       "    </tr>\n",
       "    <tr>\n",
       "      <th>3</th>\n",
       "      <td>2640B349E1D81584</td>\n",
       "      <td>956B45F5915CA225</td>\n",
       "      <td>2025-08-15</td>\n",
       "      <td>2025-08-15 15:31:31</td>\n",
       "      <td>2025-08-15</td>\n",
       "      <td>1</td>\n",
       "      <td>0</td>\n",
       "      <td>4</td>\n",
       "      <td>CIS</td>\n",
       "      <td>Android</td>\n",
       "    </tr>\n",
       "    <tr>\n",
       "      <th>4</th>\n",
       "      <td>94E1CBFAEF1F5EE9</td>\n",
       "      <td>83BF0DA35F9F1F40</td>\n",
       "      <td>2025-08-15</td>\n",
       "      <td>2025-08-15 21:33:53</td>\n",
       "      <td>2025-08-15</td>\n",
       "      <td>1</td>\n",
       "      <td>0</td>\n",
       "      <td>3</td>\n",
       "      <td>CIS</td>\n",
       "      <td>Android</td>\n",
       "    </tr>\n",
       "  </tbody>\n",
       "</table>\n",
       "</div>"
      ],
      "text/plain": [
       "            user_id        session_id session_date     session_start_ts  \\\n",
       "0  E302123B7000BFE4  F9AF61A0C2023832   2025-08-15  2025-08-15 17:47:35   \n",
       "1  2530F72E221829FB  85003A206CBDAC6F   2025-08-15  2025-08-15 16:42:14   \n",
       "2  876E020A4FC512F5  3677423E49D72DEE   2025-08-15  2025-08-15 12:30:00   \n",
       "3  2640B349E1D81584  956B45F5915CA225   2025-08-15  2025-08-15 15:31:31   \n",
       "4  94E1CBFAEF1F5EE9  83BF0DA35F9F1F40   2025-08-15  2025-08-15 21:33:53   \n",
       "\n",
       "  install_date  session_number  registration_flag  page_counter region  \\\n",
       "0   2025-08-15               1                  0             3    CIS   \n",
       "1   2025-08-15               1                  0             4   MENA   \n",
       "2   2025-08-15               1                  0             4     EU   \n",
       "3   2025-08-15               1                  0             4    CIS   \n",
       "4   2025-08-15               1                  0             3    CIS   \n",
       "\n",
       "    device  \n",
       "0   iPhone  \n",
       "1  Android  \n",
       "2       PC  \n",
       "3  Android  \n",
       "4  Android  "
      ]
     },
     "execution_count": 2,
     "metadata": {},
     "output_type": "execute_result"
    }
   ],
   "source": [
    "sessions_history = pd.read_csv('/datasets/sessions_project_history.csv')\n",
    "sessions_history.head()"
   ]
  },
  {
   "cell_type": "markdown",
   "metadata": {
    "id": "qTDoiODz0eMo"
   },
   "source": [
    "#### 1.2. Знакомство с данными\n",
    "- Для каждого уникального пользователя `user_id` рассчитаем количество уникальных сессий `session_id`.\n",
    "\n",
    "- Выведем данные из таблицы `sessions_history` для пользователя с наибольшим количеством сессий.\n",
    "\n",
    "\n"
   ]
  },
  {
   "cell_type": "code",
   "execution_count": 3,
   "metadata": {
    "id": "PWZO9vTIPbPN"
   },
   "outputs": [
    {
     "data": {
      "text/html": [
       "<div>\n",
       "<style scoped>\n",
       "    .dataframe tbody tr th:only-of-type {\n",
       "        vertical-align: middle;\n",
       "    }\n",
       "\n",
       "    .dataframe tbody tr th {\n",
       "        vertical-align: top;\n",
       "    }\n",
       "\n",
       "    .dataframe thead th {\n",
       "        text-align: right;\n",
       "    }\n",
       "</style>\n",
       "<table border=\"1\" class=\"dataframe\">\n",
       "  <thead>\n",
       "    <tr style=\"text-align: right;\">\n",
       "      <th></th>\n",
       "      <th>user_id</th>\n",
       "      <th>session_id</th>\n",
       "    </tr>\n",
       "  </thead>\n",
       "  <tbody>\n",
       "    <tr>\n",
       "      <th>8948</th>\n",
       "      <td>10E0DEFC1ABDBBE0</td>\n",
       "      <td>10</td>\n",
       "    </tr>\n",
       "    <tr>\n",
       "      <th>55627</th>\n",
       "      <td>6A73CB5566BB494D</td>\n",
       "      <td>10</td>\n",
       "    </tr>\n",
       "    <tr>\n",
       "      <th>72346</th>\n",
       "      <td>8A60431A825D035B</td>\n",
       "      <td>9</td>\n",
       "    </tr>\n",
       "    <tr>\n",
       "      <th>109383</th>\n",
       "      <td>D11541BAC141FB94</td>\n",
       "      <td>9</td>\n",
       "    </tr>\n",
       "    <tr>\n",
       "      <th>47956</th>\n",
       "      <td>5BCFE7C4DCC148E9</td>\n",
       "      <td>9</td>\n",
       "    </tr>\n",
       "    <tr>\n",
       "      <th>22611</th>\n",
       "      <td>2AF89E9BC4D631A3</td>\n",
       "      <td>9</td>\n",
       "    </tr>\n",
       "    <tr>\n",
       "      <th>29354</th>\n",
       "      <td>37E4825C6A22A519</td>\n",
       "      <td>9</td>\n",
       "    </tr>\n",
       "    <tr>\n",
       "      <th>53434</th>\n",
       "      <td>66374F4203EFEDA7</td>\n",
       "      <td>9</td>\n",
       "    </tr>\n",
       "    <tr>\n",
       "      <th>16936</th>\n",
       "      <td>1FE6E098C8A7E9A3</td>\n",
       "      <td>9</td>\n",
       "    </tr>\n",
       "    <tr>\n",
       "      <th>84534</th>\n",
       "      <td>A1E1B4CCA664587C</td>\n",
       "      <td>9</td>\n",
       "    </tr>\n",
       "  </tbody>\n",
       "</table>\n",
       "</div>"
      ],
      "text/plain": [
       "                 user_id  session_id\n",
       "8948    10E0DEFC1ABDBBE0          10\n",
       "55627   6A73CB5566BB494D          10\n",
       "72346   8A60431A825D035B           9\n",
       "109383  D11541BAC141FB94           9\n",
       "47956   5BCFE7C4DCC148E9           9\n",
       "22611   2AF89E9BC4D631A3           9\n",
       "29354   37E4825C6A22A519           9\n",
       "53434   66374F4203EFEDA7           9\n",
       "16936   1FE6E098C8A7E9A3           9\n",
       "84534   A1E1B4CCA664587C           9"
      ]
     },
     "execution_count": 3,
     "metadata": {},
     "output_type": "execute_result"
    }
   ],
   "source": [
    "sessions_history_gp = sessions_history.groupby('user_id')['session_id'].nunique().reset_index().sort_values(by= 'session_id', ascending = False)\n",
    "sessions_history_gp.head(10)"
   ]
  },
  {
   "cell_type": "code",
   "execution_count": 4,
   "metadata": {
    "scrolled": true
   },
   "outputs": [
    {
     "data": {
      "text/html": [
       "<div>\n",
       "<style scoped>\n",
       "    .dataframe tbody tr th:only-of-type {\n",
       "        vertical-align: middle;\n",
       "    }\n",
       "\n",
       "    .dataframe tbody tr th {\n",
       "        vertical-align: top;\n",
       "    }\n",
       "\n",
       "    .dataframe thead th {\n",
       "        text-align: right;\n",
       "    }\n",
       "</style>\n",
       "<table border=\"1\" class=\"dataframe\">\n",
       "  <thead>\n",
       "    <tr style=\"text-align: right;\">\n",
       "      <th></th>\n",
       "      <th>user_id</th>\n",
       "      <th>session_id</th>\n",
       "      <th>session_date</th>\n",
       "      <th>session_start_ts</th>\n",
       "      <th>install_date</th>\n",
       "      <th>session_number</th>\n",
       "      <th>registration_flag</th>\n",
       "      <th>page_counter</th>\n",
       "      <th>region</th>\n",
       "      <th>device</th>\n",
       "    </tr>\n",
       "  </thead>\n",
       "  <tbody>\n",
       "    <tr>\n",
       "      <th>115558</th>\n",
       "      <td>10E0DEFC1ABDBBE0</td>\n",
       "      <td>B8F0423BBFFCF5DC</td>\n",
       "      <td>2025-08-14</td>\n",
       "      <td>2025-08-14 13:57:39</td>\n",
       "      <td>2025-08-14</td>\n",
       "      <td>1</td>\n",
       "      <td>0</td>\n",
       "      <td>4</td>\n",
       "      <td>CIS</td>\n",
       "      <td>Android</td>\n",
       "    </tr>\n",
       "    <tr>\n",
       "      <th>191751</th>\n",
       "      <td>10E0DEFC1ABDBBE0</td>\n",
       "      <td>87CA2FA549473837</td>\n",
       "      <td>2025-08-15</td>\n",
       "      <td>2025-08-15 16:42:10</td>\n",
       "      <td>2025-08-14</td>\n",
       "      <td>2</td>\n",
       "      <td>0</td>\n",
       "      <td>3</td>\n",
       "      <td>CIS</td>\n",
       "      <td>Android</td>\n",
       "    </tr>\n",
       "    <tr>\n",
       "      <th>239370</th>\n",
       "      <td>10E0DEFC1ABDBBE0</td>\n",
       "      <td>4ADD8011DCDCE318</td>\n",
       "      <td>2025-08-16</td>\n",
       "      <td>2025-08-16 19:53:21</td>\n",
       "      <td>2025-08-14</td>\n",
       "      <td>3</td>\n",
       "      <td>0</td>\n",
       "      <td>3</td>\n",
       "      <td>CIS</td>\n",
       "      <td>Android</td>\n",
       "    </tr>\n",
       "    <tr>\n",
       "      <th>274629</th>\n",
       "      <td>10E0DEFC1ABDBBE0</td>\n",
       "      <td>DF0FD0E09BF1F3D7</td>\n",
       "      <td>2025-08-17</td>\n",
       "      <td>2025-08-17 15:03:43</td>\n",
       "      <td>2025-08-14</td>\n",
       "      <td>4</td>\n",
       "      <td>0</td>\n",
       "      <td>1</td>\n",
       "      <td>CIS</td>\n",
       "      <td>Android</td>\n",
       "    </tr>\n",
       "    <tr>\n",
       "      <th>302501</th>\n",
       "      <td>10E0DEFC1ABDBBE0</td>\n",
       "      <td>3C221774B4DE6885</td>\n",
       "      <td>2025-08-18</td>\n",
       "      <td>2025-08-18 17:29:14</td>\n",
       "      <td>2025-08-14</td>\n",
       "      <td>5</td>\n",
       "      <td>0</td>\n",
       "      <td>4</td>\n",
       "      <td>CIS</td>\n",
       "      <td>Android</td>\n",
       "    </tr>\n",
       "    <tr>\n",
       "      <th>325557</th>\n",
       "      <td>10E0DEFC1ABDBBE0</td>\n",
       "      <td>031BD7A67048105B</td>\n",
       "      <td>2025-08-19</td>\n",
       "      <td>2025-08-19 13:23:55</td>\n",
       "      <td>2025-08-14</td>\n",
       "      <td>6</td>\n",
       "      <td>0</td>\n",
       "      <td>2</td>\n",
       "      <td>CIS</td>\n",
       "      <td>Android</td>\n",
       "    </tr>\n",
       "    <tr>\n",
       "      <th>345336</th>\n",
       "      <td>10E0DEFC1ABDBBE0</td>\n",
       "      <td>FF4315CF4AD4B100</td>\n",
       "      <td>2025-08-20</td>\n",
       "      <td>2025-08-20 19:31:54</td>\n",
       "      <td>2025-08-14</td>\n",
       "      <td>7</td>\n",
       "      <td>0</td>\n",
       "      <td>2</td>\n",
       "      <td>CIS</td>\n",
       "      <td>Android</td>\n",
       "    </tr>\n",
       "    <tr>\n",
       "      <th>377532</th>\n",
       "      <td>10E0DEFC1ABDBBE0</td>\n",
       "      <td>4045FEA0747203B4</td>\n",
       "      <td>2025-08-22</td>\n",
       "      <td>2025-08-22 17:54:13</td>\n",
       "      <td>2025-08-14</td>\n",
       "      <td>8</td>\n",
       "      <td>0</td>\n",
       "      <td>2</td>\n",
       "      <td>CIS</td>\n",
       "      <td>Android</td>\n",
       "    </tr>\n",
       "    <tr>\n",
       "      <th>403538</th>\n",
       "      <td>10E0DEFC1ABDBBE0</td>\n",
       "      <td>344B086C421C7F37</td>\n",
       "      <td>2025-08-24</td>\n",
       "      <td>2025-08-24 14:46:13</td>\n",
       "      <td>2025-08-14</td>\n",
       "      <td>9</td>\n",
       "      <td>0</td>\n",
       "      <td>2</td>\n",
       "      <td>CIS</td>\n",
       "      <td>Android</td>\n",
       "    </tr>\n",
       "    <tr>\n",
       "      <th>414743</th>\n",
       "      <td>10E0DEFC1ABDBBE0</td>\n",
       "      <td>054F20BA371E4C9D</td>\n",
       "      <td>2025-08-25</td>\n",
       "      <td>2025-08-25 18:36:41</td>\n",
       "      <td>2025-08-14</td>\n",
       "      <td>10</td>\n",
       "      <td>0</td>\n",
       "      <td>3</td>\n",
       "      <td>CIS</td>\n",
       "      <td>Android</td>\n",
       "    </tr>\n",
       "    <tr>\n",
       "      <th>124515</th>\n",
       "      <td>6A73CB5566BB494D</td>\n",
       "      <td>110E3F28C1F5415F</td>\n",
       "      <td>2025-08-28</td>\n",
       "      <td>2025-08-28 18:58:19</td>\n",
       "      <td>2025-08-28</td>\n",
       "      <td>1</td>\n",
       "      <td>0</td>\n",
       "      <td>3</td>\n",
       "      <td>MENA</td>\n",
       "      <td>Mac</td>\n",
       "    </tr>\n",
       "    <tr>\n",
       "      <th>196252</th>\n",
       "      <td>6A73CB5566BB494D</td>\n",
       "      <td>D68C8D98A0F1C439</td>\n",
       "      <td>2025-08-29</td>\n",
       "      <td>2025-08-29 20:53:27</td>\n",
       "      <td>2025-08-28</td>\n",
       "      <td>2</td>\n",
       "      <td>1</td>\n",
       "      <td>3</td>\n",
       "      <td>MENA</td>\n",
       "      <td>Mac</td>\n",
       "    </tr>\n",
       "    <tr>\n",
       "      <th>242428</th>\n",
       "      <td>6A73CB5566BB494D</td>\n",
       "      <td>6587D217472BF807</td>\n",
       "      <td>2025-08-30</td>\n",
       "      <td>2025-08-30 13:08:22</td>\n",
       "      <td>2025-08-28</td>\n",
       "      <td>3</td>\n",
       "      <td>1</td>\n",
       "      <td>1</td>\n",
       "      <td>MENA</td>\n",
       "      <td>Mac</td>\n",
       "    </tr>\n",
       "    <tr>\n",
       "      <th>304287</th>\n",
       "      <td>6A73CB5566BB494D</td>\n",
       "      <td>A9BC25593D056F8E</td>\n",
       "      <td>2025-09-01</td>\n",
       "      <td>2025-09-01 18:52:49</td>\n",
       "      <td>2025-08-28</td>\n",
       "      <td>4</td>\n",
       "      <td>1</td>\n",
       "      <td>2</td>\n",
       "      <td>MENA</td>\n",
       "      <td>Mac</td>\n",
       "    </tr>\n",
       "    <tr>\n",
       "      <th>346611</th>\n",
       "      <td>6A73CB5566BB494D</td>\n",
       "      <td>CB6F9C4191FAF6F6</td>\n",
       "      <td>2025-09-03</td>\n",
       "      <td>2025-09-03 22:49:08</td>\n",
       "      <td>2025-08-28</td>\n",
       "      <td>5</td>\n",
       "      <td>1</td>\n",
       "      <td>3</td>\n",
       "      <td>MENA</td>\n",
       "      <td>Mac</td>\n",
       "    </tr>\n",
       "    <tr>\n",
       "      <th>363510</th>\n",
       "      <td>6A73CB5566BB494D</td>\n",
       "      <td>9C609432F6E6535A</td>\n",
       "      <td>2025-09-04</td>\n",
       "      <td>2025-09-04 13:59:46</td>\n",
       "      <td>2025-08-28</td>\n",
       "      <td>6</td>\n",
       "      <td>1</td>\n",
       "      <td>4</td>\n",
       "      <td>MENA</td>\n",
       "      <td>Mac</td>\n",
       "    </tr>\n",
       "    <tr>\n",
       "      <th>391902</th>\n",
       "      <td>6A73CB5566BB494D</td>\n",
       "      <td>5D892E33B97A257A</td>\n",
       "      <td>2025-09-06</td>\n",
       "      <td>2025-09-06 18:46:55</td>\n",
       "      <td>2025-08-28</td>\n",
       "      <td>7</td>\n",
       "      <td>1</td>\n",
       "      <td>2</td>\n",
       "      <td>MENA</td>\n",
       "      <td>Mac</td>\n",
       "    </tr>\n",
       "    <tr>\n",
       "      <th>404322</th>\n",
       "      <td>6A73CB5566BB494D</td>\n",
       "      <td>22A9BD3861F49087</td>\n",
       "      <td>2025-09-07</td>\n",
       "      <td>2025-09-07 18:33:49</td>\n",
       "      <td>2025-08-28</td>\n",
       "      <td>8</td>\n",
       "      <td>1</td>\n",
       "      <td>3</td>\n",
       "      <td>MENA</td>\n",
       "      <td>Mac</td>\n",
       "    </tr>\n",
       "    <tr>\n",
       "      <th>415489</th>\n",
       "      <td>6A73CB5566BB494D</td>\n",
       "      <td>F70E351154B092DC</td>\n",
       "      <td>2025-09-08</td>\n",
       "      <td>2025-09-08 20:30:22</td>\n",
       "      <td>2025-08-28</td>\n",
       "      <td>9</td>\n",
       "      <td>1</td>\n",
       "      <td>4</td>\n",
       "      <td>MENA</td>\n",
       "      <td>Mac</td>\n",
       "    </tr>\n",
       "    <tr>\n",
       "      <th>425805</th>\n",
       "      <td>6A73CB5566BB494D</td>\n",
       "      <td>84A3DC0CFF449F53</td>\n",
       "      <td>2025-09-09</td>\n",
       "      <td>2025-09-09 16:36:04</td>\n",
       "      <td>2025-08-28</td>\n",
       "      <td>10</td>\n",
       "      <td>1</td>\n",
       "      <td>1</td>\n",
       "      <td>MENA</td>\n",
       "      <td>Mac</td>\n",
       "    </tr>\n",
       "  </tbody>\n",
       "</table>\n",
       "</div>"
      ],
      "text/plain": [
       "                 user_id        session_id session_date     session_start_ts  \\\n",
       "115558  10E0DEFC1ABDBBE0  B8F0423BBFFCF5DC   2025-08-14  2025-08-14 13:57:39   \n",
       "191751  10E0DEFC1ABDBBE0  87CA2FA549473837   2025-08-15  2025-08-15 16:42:10   \n",
       "239370  10E0DEFC1ABDBBE0  4ADD8011DCDCE318   2025-08-16  2025-08-16 19:53:21   \n",
       "274629  10E0DEFC1ABDBBE0  DF0FD0E09BF1F3D7   2025-08-17  2025-08-17 15:03:43   \n",
       "302501  10E0DEFC1ABDBBE0  3C221774B4DE6885   2025-08-18  2025-08-18 17:29:14   \n",
       "325557  10E0DEFC1ABDBBE0  031BD7A67048105B   2025-08-19  2025-08-19 13:23:55   \n",
       "345336  10E0DEFC1ABDBBE0  FF4315CF4AD4B100   2025-08-20  2025-08-20 19:31:54   \n",
       "377532  10E0DEFC1ABDBBE0  4045FEA0747203B4   2025-08-22  2025-08-22 17:54:13   \n",
       "403538  10E0DEFC1ABDBBE0  344B086C421C7F37   2025-08-24  2025-08-24 14:46:13   \n",
       "414743  10E0DEFC1ABDBBE0  054F20BA371E4C9D   2025-08-25  2025-08-25 18:36:41   \n",
       "124515  6A73CB5566BB494D  110E3F28C1F5415F   2025-08-28  2025-08-28 18:58:19   \n",
       "196252  6A73CB5566BB494D  D68C8D98A0F1C439   2025-08-29  2025-08-29 20:53:27   \n",
       "242428  6A73CB5566BB494D  6587D217472BF807   2025-08-30  2025-08-30 13:08:22   \n",
       "304287  6A73CB5566BB494D  A9BC25593D056F8E   2025-09-01  2025-09-01 18:52:49   \n",
       "346611  6A73CB5566BB494D  CB6F9C4191FAF6F6   2025-09-03  2025-09-03 22:49:08   \n",
       "363510  6A73CB5566BB494D  9C609432F6E6535A   2025-09-04  2025-09-04 13:59:46   \n",
       "391902  6A73CB5566BB494D  5D892E33B97A257A   2025-09-06  2025-09-06 18:46:55   \n",
       "404322  6A73CB5566BB494D  22A9BD3861F49087   2025-09-07  2025-09-07 18:33:49   \n",
       "415489  6A73CB5566BB494D  F70E351154B092DC   2025-09-08  2025-09-08 20:30:22   \n",
       "425805  6A73CB5566BB494D  84A3DC0CFF449F53   2025-09-09  2025-09-09 16:36:04   \n",
       "\n",
       "       install_date  session_number  registration_flag  page_counter region  \\\n",
       "115558   2025-08-14               1                  0             4    CIS   \n",
       "191751   2025-08-14               2                  0             3    CIS   \n",
       "239370   2025-08-14               3                  0             3    CIS   \n",
       "274629   2025-08-14               4                  0             1    CIS   \n",
       "302501   2025-08-14               5                  0             4    CIS   \n",
       "325557   2025-08-14               6                  0             2    CIS   \n",
       "345336   2025-08-14               7                  0             2    CIS   \n",
       "377532   2025-08-14               8                  0             2    CIS   \n",
       "403538   2025-08-14               9                  0             2    CIS   \n",
       "414743   2025-08-14              10                  0             3    CIS   \n",
       "124515   2025-08-28               1                  0             3   MENA   \n",
       "196252   2025-08-28               2                  1             3   MENA   \n",
       "242428   2025-08-28               3                  1             1   MENA   \n",
       "304287   2025-08-28               4                  1             2   MENA   \n",
       "346611   2025-08-28               5                  1             3   MENA   \n",
       "363510   2025-08-28               6                  1             4   MENA   \n",
       "391902   2025-08-28               7                  1             2   MENA   \n",
       "404322   2025-08-28               8                  1             3   MENA   \n",
       "415489   2025-08-28               9                  1             4   MENA   \n",
       "425805   2025-08-28              10                  1             1   MENA   \n",
       "\n",
       "         device  \n",
       "115558  Android  \n",
       "191751  Android  \n",
       "239370  Android  \n",
       "274629  Android  \n",
       "302501  Android  \n",
       "325557  Android  \n",
       "345336  Android  \n",
       "377532  Android  \n",
       "403538  Android  \n",
       "414743  Android  \n",
       "124515      Mac  \n",
       "196252      Mac  \n",
       "242428      Mac  \n",
       "304287      Mac  \n",
       "346611      Mac  \n",
       "363510      Mac  \n",
       "391902      Mac  \n",
       "404322      Mac  \n",
       "415489      Mac  \n",
       "425805      Mac  "
      ]
     },
     "metadata": {},
     "output_type": "display_data"
    }
   ],
   "source": [
    "display(sessions_history[sessions_history['user_id'].isin(sessions_history_gp.head(2)['user_id'])].sort_values(by=['user_id',\n",
    "                                                                                                                  'session_number']))"
   ]
  },
  {
   "cell_type": "markdown",
   "metadata": {},
   "source": [
    "При наличии нескольких сессий у одного пользователя, каждой сессии присваивается порядковый номер в зависимости от даты и времени этой сессии, количество просматриваемых страниц в каждой сессии может различаться. Также стоит отметить, что, начиная с определенной сессии, у пользователя может поменяться статус регистрации в приложении."
   ]
  },
  {
   "cell_type": "markdown",
   "metadata": {
    "id": "CmcGpJTP0eMq"
   },
   "source": [
    "#### 1.3. Анализ числа регистраций\n",
    "Визуализируем, как менялось число регистраций в приложении за время его существования.\n"
   ]
  },
  {
   "cell_type": "code",
   "execution_count": 5,
   "metadata": {
    "id": "tN_6Ml3EPatS"
   },
   "outputs": [
    {
     "data": {
      "text/html": [
       "<div>\n",
       "<style scoped>\n",
       "    .dataframe tbody tr th:only-of-type {\n",
       "        vertical-align: middle;\n",
       "    }\n",
       "\n",
       "    .dataframe tbody tr th {\n",
       "        vertical-align: top;\n",
       "    }\n",
       "\n",
       "    .dataframe thead th {\n",
       "        text-align: right;\n",
       "    }\n",
       "</style>\n",
       "<table border=\"1\" class=\"dataframe\">\n",
       "  <thead>\n",
       "    <tr style=\"text-align: right;\">\n",
       "      <th></th>\n",
       "      <th>session_date</th>\n",
       "      <th>user_id</th>\n",
       "      <th>registration_flag</th>\n",
       "      <th>registration_share</th>\n",
       "    </tr>\n",
       "  </thead>\n",
       "  <tbody>\n",
       "    <tr>\n",
       "      <th>0</th>\n",
       "      <td>2025-08-11</td>\n",
       "      <td>3919</td>\n",
       "      <td>169</td>\n",
       "      <td>0.043123</td>\n",
       "    </tr>\n",
       "    <tr>\n",
       "      <th>1</th>\n",
       "      <td>2025-08-12</td>\n",
       "      <td>6056</td>\n",
       "      <td>336</td>\n",
       "      <td>0.055482</td>\n",
       "    </tr>\n",
       "    <tr>\n",
       "      <th>2</th>\n",
       "      <td>2025-08-13</td>\n",
       "      <td>8489</td>\n",
       "      <td>464</td>\n",
       "      <td>0.054659</td>\n",
       "    </tr>\n",
       "    <tr>\n",
       "      <th>3</th>\n",
       "      <td>2025-08-14</td>\n",
       "      <td>10321</td>\n",
       "      <td>625</td>\n",
       "      <td>0.060556</td>\n",
       "    </tr>\n",
       "    <tr>\n",
       "      <th>4</th>\n",
       "      <td>2025-08-15</td>\n",
       "      <td>14065</td>\n",
       "      <td>840</td>\n",
       "      <td>0.059723</td>\n",
       "    </tr>\n",
       "  </tbody>\n",
       "</table>\n",
       "</div>"
      ],
      "text/plain": [
       "  session_date  user_id  registration_flag  registration_share\n",
       "0   2025-08-11     3919                169            0.043123\n",
       "1   2025-08-12     6056                336            0.055482\n",
       "2   2025-08-13     8489                464            0.054659\n",
       "3   2025-08-14    10321                625            0.060556\n",
       "4   2025-08-15    14065                840            0.059723"
      ]
     },
     "execution_count": 5,
     "metadata": {},
     "output_type": "execute_result"
    }
   ],
   "source": [
    "session_date_gp = sessions_history.groupby('session_date').agg({'user_id': 'nunique', 'registration_flag': 'sum'}).reset_index()\n",
    "session_date_gp['registration_share'] = session_date_gp['registration_flag'] / session_date_gp['user_id']\n",
    "session_date_gp.head()"
   ]
  },
  {
   "cell_type": "code",
   "execution_count": 6,
   "metadata": {},
   "outputs": [],
   "source": [
    "import matplotlib.pyplot as plt"
   ]
  },
  {
   "cell_type": "code",
   "execution_count": 7,
   "metadata": {},
   "outputs": [
    {
     "data": {
      "image/png": "[encoded data removed]",
      "text/plain": [
       "<Figure size 1080x576 with 1 Axes>"
      ]
     },
     "metadata": {
      "needs_background": "light"
     },
     "output_type": "display_data"
    }
   ],
   "source": [
    "plt.figure(figsize=(15, 8))\n",
    "\n",
    "plt.plot(session_date_gp['session_date'], session_date_gp['user_id'], label ='Общее количество пользователей')\n",
    "plt.plot(session_date_gp['session_date'], session_date_gp['registration_flag'], label ='Количество зарегистрированных пользователей')\n",
    "\n",
    "plt.xlabel(\"Дата\")\n",
    "plt.xticks(rotation=90)\n",
    "\n",
    "plt.ylabel(\"Количество пользователей\")\n",
    "plt.legend()\n",
    "plt.grid(axis='y')\n",
    "plt.title('Динамика общего количества пользователей и зарегистрированных пользователей')\n",
    "\n",
    "plt.show()"
   ]
  },
  {
   "cell_type": "markdown",
   "metadata": {},
   "source": [
    "- Количество зарегистрированных пользователей значительно меньше общего количества;\n",
    "- Динамика количества общих пользователей довольно волатильна с явными пиками активности в определенные даты;\n",
    "- К концу наблюдаемого периода количество пользователей начинает стремиться к нулю."
   ]
  },
  {
   "cell_type": "code",
   "execution_count": 8,
   "metadata": {},
   "outputs": [
    {
     "data": {
      "image/png": "[encoded data removed]",
      "text/plain": [
       "<Figure size 1080x576 with 1 Axes>"
      ]
     },
     "metadata": {
      "needs_background": "light"
     },
     "output_type": "display_data"
    },
    {
     "data": {
      "text/plain": [
       "0.08243688414765839"
      ]
     },
     "metadata": {},
     "output_type": "display_data"
    }
   ],
   "source": [
    "plt.figure(figsize=(15, 8))\n",
    "\n",
    "plt.plot(session_date_gp['session_date'], session_date_gp['registration_share'], label ='Доля зарегистрированных пользователей')\n",
    "\n",
    "plt.xlabel(\"Дата\")\n",
    "plt.xticks(rotation=90)\n",
    "\n",
    "mean_value = session_date_gp['registration_share'].mean()\n",
    "plt.axhline(y=mean_value, color='g', label='Средняя доля')\n",
    "\n",
    "plt.ylabel(\"Доля зарегистрированных пользователей\")\n",
    "plt.legend()\n",
    "plt.grid(axis='y')\n",
    "plt.title('Динамика доли зарегистрированных пользователей')\n",
    "\n",
    "plt.show()\n",
    "\n",
    "display(mean_value)"
   ]
  },
  {
   "cell_type": "markdown",
   "metadata": {},
   "source": [
    "- Можно также отметить довольно выраженную волатильность наблюдений;\n",
    "- Доля зарегистрированных пользователей не превышала 13%, в среднем она находилась на уровне 8.2%\n",
    "- Однако заметен общий тренд на постепенное увеличение доли зарегистрированных пользователей."
   ]
  },
  {
   "cell_type": "markdown",
   "metadata": {
    "id": "UR7D7RhF0eMr"
   },
   "source": [
    "#### 1.4. Анализ числа просмотренных страниц\n",
    "\n",
    "- Найдем количество сессий для каждого значения количества просмотренных страниц и Построим столбчатую диаграмму."
   ]
  },
  {
   "cell_type": "code",
   "execution_count": 9,
   "metadata": {
    "id": "cb6hPlVzPaSf"
   },
   "outputs": [
    {
     "data": {
      "text/html": [
       "<div>\n",
       "<style scoped>\n",
       "    .dataframe tbody tr th:only-of-type {\n",
       "        vertical-align: middle;\n",
       "    }\n",
       "\n",
       "    .dataframe tbody tr th {\n",
       "        vertical-align: top;\n",
       "    }\n",
       "\n",
       "    .dataframe thead th {\n",
       "        text-align: right;\n",
       "    }\n",
       "</style>\n",
       "<table border=\"1\" class=\"dataframe\">\n",
       "  <thead>\n",
       "    <tr style=\"text-align: right;\">\n",
       "      <th></th>\n",
       "      <th>page_counter</th>\n",
       "      <th>session_id</th>\n",
       "    </tr>\n",
       "  </thead>\n",
       "  <tbody>\n",
       "    <tr>\n",
       "      <th>0</th>\n",
       "      <td>1</td>\n",
       "      <td>29160</td>\n",
       "    </tr>\n",
       "    <tr>\n",
       "      <th>1</th>\n",
       "      <td>2</td>\n",
       "      <td>105536</td>\n",
       "    </tr>\n",
       "    <tr>\n",
       "      <th>2</th>\n",
       "      <td>3</td>\n",
       "      <td>166690</td>\n",
       "    </tr>\n",
       "    <tr>\n",
       "      <th>3</th>\n",
       "      <td>4</td>\n",
       "      <td>105569</td>\n",
       "    </tr>\n",
       "    <tr>\n",
       "      <th>4</th>\n",
       "      <td>5</td>\n",
       "      <td>26288</td>\n",
       "    </tr>\n",
       "    <tr>\n",
       "      <th>5</th>\n",
       "      <td>6</td>\n",
       "      <td>2589</td>\n",
       "    </tr>\n",
       "    <tr>\n",
       "      <th>6</th>\n",
       "      <td>7</td>\n",
       "      <td>92</td>\n",
       "    </tr>\n",
       "  </tbody>\n",
       "</table>\n",
       "</div>"
      ],
      "text/plain": [
       "   page_counter  session_id\n",
       "0             1       29160\n",
       "1             2      105536\n",
       "2             3      166690\n",
       "3             4      105569\n",
       "4             5       26288\n",
       "5             6        2589\n",
       "6             7          92"
      ]
     },
     "execution_count": 9,
     "metadata": {},
     "output_type": "execute_result"
    }
   ],
   "source": [
    "page_counter_gp = sessions_history.groupby('page_counter')['session_id'].nunique().reset_index().sort_values(by= 'page_counter')\n",
    "page_counter_gp"
   ]
  },
  {
   "cell_type": "code",
   "execution_count": 10,
   "metadata": {},
   "outputs": [
    {
     "data": {
      "image/png": "[encoded data removed]",
      "text/plain": [
       "<Figure size 576x432 with 1 Axes>"
      ]
     },
     "metadata": {
      "needs_background": "light"
     },
     "output_type": "display_data"
    }
   ],
   "source": [
    "page_counter_gp.plot(kind='bar',\n",
    "x= 'page_counter',                     \n",
    "title='Количество сессий по просмотренным страницам',\n",
    "legend=False,\n",
    "ylabel='Количество сессий',\n",
    "xlabel='Количество просмотренных страниц в рамках одной сессии',\n",
    "color='skyblue',\n",
    "width=0.8,                     \n",
    "figsize = (8, 6))\n",
    "\n",
    "plt.show()"
   ]
  },
  {
   "cell_type": "markdown",
   "metadata": {},
   "source": [
    "- В 166,7 тыс. сессиях было просмотрено по 3 страницы;\n",
    "- Наибольшее количество страниц за сессию (7) было просмотрено в 92 сессиях."
   ]
  },
  {
   "cell_type": "markdown",
   "metadata": {
    "id": "xDltSpVP0eMr"
   },
   "source": [
    "#### 1.5. Доля пользователей, просмотревших более четырёх страниц\n",
    "Продуктовая команда продукта считает, что сессии, в рамках которых пользователь просмотрел 4 и более страниц, говорят об удовлетворённости контентом и алгоритмами рекомендаций. Этот показатель является важной прокси-метрикой для продукта.\n",
    "\n",
    "- Создадим дополнительный столбец `good_session`. В него войдёт значение `1`, если за одну сессию было просмотрено 4 и более страниц, и значение `0`, если было просмотрено меньше.\n",
    "\n",
    "- Построим график со средним значением доли успешных сессий ко всем сессиям по дням за весь период наблюдения."
   ]
  },
  {
   "cell_type": "code",
   "execution_count": 11,
   "metadata": {
    "id": "iygaPfixPYMW"
   },
   "outputs": [
    {
     "data": {
      "text/html": [
       "<div>\n",
       "<style scoped>\n",
       "    .dataframe tbody tr th:only-of-type {\n",
       "        vertical-align: middle;\n",
       "    }\n",
       "\n",
       "    .dataframe tbody tr th {\n",
       "        vertical-align: top;\n",
       "    }\n",
       "\n",
       "    .dataframe thead th {\n",
       "        text-align: right;\n",
       "    }\n",
       "</style>\n",
       "<table border=\"1\" class=\"dataframe\">\n",
       "  <thead>\n",
       "    <tr style=\"text-align: right;\">\n",
       "      <th></th>\n",
       "      <th>user_id</th>\n",
       "      <th>session_id</th>\n",
       "      <th>session_date</th>\n",
       "      <th>session_start_ts</th>\n",
       "      <th>install_date</th>\n",
       "      <th>session_number</th>\n",
       "      <th>registration_flag</th>\n",
       "      <th>page_counter</th>\n",
       "      <th>region</th>\n",
       "      <th>device</th>\n",
       "      <th>good_session</th>\n",
       "    </tr>\n",
       "  </thead>\n",
       "  <tbody>\n",
       "    <tr>\n",
       "      <th>0</th>\n",
       "      <td>E302123B7000BFE4</td>\n",
       "      <td>F9AF61A0C2023832</td>\n",
       "      <td>2025-08-15</td>\n",
       "      <td>2025-08-15 17:47:35</td>\n",
       "      <td>2025-08-15</td>\n",
       "      <td>1</td>\n",
       "      <td>0</td>\n",
       "      <td>3</td>\n",
       "      <td>CIS</td>\n",
       "      <td>iPhone</td>\n",
       "      <td>0</td>\n",
       "    </tr>\n",
       "    <tr>\n",
       "      <th>1</th>\n",
       "      <td>2530F72E221829FB</td>\n",
       "      <td>85003A206CBDAC6F</td>\n",
       "      <td>2025-08-15</td>\n",
       "      <td>2025-08-15 16:42:14</td>\n",
       "      <td>2025-08-15</td>\n",
       "      <td>1</td>\n",
       "      <td>0</td>\n",
       "      <td>4</td>\n",
       "      <td>MENA</td>\n",
       "      <td>Android</td>\n",
       "      <td>1</td>\n",
       "    </tr>\n",
       "    <tr>\n",
       "      <th>2</th>\n",
       "      <td>876E020A4FC512F5</td>\n",
       "      <td>3677423E49D72DEE</td>\n",
       "      <td>2025-08-15</td>\n",
       "      <td>2025-08-15 12:30:00</td>\n",
       "      <td>2025-08-15</td>\n",
       "      <td>1</td>\n",
       "      <td>0</td>\n",
       "      <td>4</td>\n",
       "      <td>EU</td>\n",
       "      <td>PC</td>\n",
       "      <td>1</td>\n",
       "    </tr>\n",
       "    <tr>\n",
       "      <th>3</th>\n",
       "      <td>2640B349E1D81584</td>\n",
       "      <td>956B45F5915CA225</td>\n",
       "      <td>2025-08-15</td>\n",
       "      <td>2025-08-15 15:31:31</td>\n",
       "      <td>2025-08-15</td>\n",
       "      <td>1</td>\n",
       "      <td>0</td>\n",
       "      <td>4</td>\n",
       "      <td>CIS</td>\n",
       "      <td>Android</td>\n",
       "      <td>1</td>\n",
       "    </tr>\n",
       "    <tr>\n",
       "      <th>4</th>\n",
       "      <td>94E1CBFAEF1F5EE9</td>\n",
       "      <td>83BF0DA35F9F1F40</td>\n",
       "      <td>2025-08-15</td>\n",
       "      <td>2025-08-15 21:33:53</td>\n",
       "      <td>2025-08-15</td>\n",
       "      <td>1</td>\n",
       "      <td>0</td>\n",
       "      <td>3</td>\n",
       "      <td>CIS</td>\n",
       "      <td>Android</td>\n",
       "      <td>0</td>\n",
       "    </tr>\n",
       "  </tbody>\n",
       "</table>\n",
       "</div>"
      ],
      "text/plain": [
       "            user_id        session_id session_date     session_start_ts  \\\n",
       "0  E302123B7000BFE4  F9AF61A0C2023832   2025-08-15  2025-08-15 17:47:35   \n",
       "1  2530F72E221829FB  85003A206CBDAC6F   2025-08-15  2025-08-15 16:42:14   \n",
       "2  876E020A4FC512F5  3677423E49D72DEE   2025-08-15  2025-08-15 12:30:00   \n",
       "3  2640B349E1D81584  956B45F5915CA225   2025-08-15  2025-08-15 15:31:31   \n",
       "4  94E1CBFAEF1F5EE9  83BF0DA35F9F1F40   2025-08-15  2025-08-15 21:33:53   \n",
       "\n",
       "  install_date  session_number  registration_flag  page_counter region  \\\n",
       "0   2025-08-15               1                  0             3    CIS   \n",
       "1   2025-08-15               1                  0             4   MENA   \n",
       "2   2025-08-15               1                  0             4     EU   \n",
       "3   2025-08-15               1                  0             4    CIS   \n",
       "4   2025-08-15               1                  0             3    CIS   \n",
       "\n",
       "    device  good_session  \n",
       "0   iPhone             0  \n",
       "1  Android             1  \n",
       "2       PC             1  \n",
       "3  Android             1  \n",
       "4  Android             0  "
      ]
     },
     "execution_count": 11,
     "metadata": {},
     "output_type": "execute_result"
    }
   ],
   "source": [
    "sessions_history['good_session'] = 0\n",
    "sessions_history.loc[sessions_history['page_counter'] > 3, 'good_session'] = 1\n",
    "sessions_history.head()"
   ]
  },
  {
   "cell_type": "code",
   "execution_count": 12,
   "metadata": {},
   "outputs": [
    {
     "data": {
      "text/html": [
       "<div>\n",
       "<style scoped>\n",
       "    .dataframe tbody tr th:only-of-type {\n",
       "        vertical-align: middle;\n",
       "    }\n",
       "\n",
       "    .dataframe tbody tr th {\n",
       "        vertical-align: top;\n",
       "    }\n",
       "\n",
       "    .dataframe thead th {\n",
       "        text-align: right;\n",
       "    }\n",
       "</style>\n",
       "<table border=\"1\" class=\"dataframe\">\n",
       "  <thead>\n",
       "    <tr style=\"text-align: right;\">\n",
       "      <th></th>\n",
       "      <th>session_date</th>\n",
       "      <th>session_id</th>\n",
       "      <th>good_session</th>\n",
       "      <th>good_session_share</th>\n",
       "    </tr>\n",
       "  </thead>\n",
       "  <tbody>\n",
       "    <tr>\n",
       "      <th>0</th>\n",
       "      <td>2025-08-11</td>\n",
       "      <td>3919</td>\n",
       "      <td>1226</td>\n",
       "      <td>0.312835</td>\n",
       "    </tr>\n",
       "    <tr>\n",
       "      <th>1</th>\n",
       "      <td>2025-08-12</td>\n",
       "      <td>6056</td>\n",
       "      <td>1829</td>\n",
       "      <td>0.302015</td>\n",
       "    </tr>\n",
       "    <tr>\n",
       "      <th>2</th>\n",
       "      <td>2025-08-13</td>\n",
       "      <td>8489</td>\n",
       "      <td>2604</td>\n",
       "      <td>0.306750</td>\n",
       "    </tr>\n",
       "    <tr>\n",
       "      <th>3</th>\n",
       "      <td>2025-08-14</td>\n",
       "      <td>10321</td>\n",
       "      <td>3262</td>\n",
       "      <td>0.316055</td>\n",
       "    </tr>\n",
       "    <tr>\n",
       "      <th>4</th>\n",
       "      <td>2025-08-15</td>\n",
       "      <td>14065</td>\n",
       "      <td>4289</td>\n",
       "      <td>0.304941</td>\n",
       "    </tr>\n",
       "  </tbody>\n",
       "</table>\n",
       "</div>"
      ],
      "text/plain": [
       "  session_date  session_id  good_session  good_session_share\n",
       "0   2025-08-11        3919          1226            0.312835\n",
       "1   2025-08-12        6056          1829            0.302015\n",
       "2   2025-08-13        8489          2604            0.306750\n",
       "3   2025-08-14       10321          3262            0.316055\n",
       "4   2025-08-15       14065          4289            0.304941"
      ]
     },
     "execution_count": 12,
     "metadata": {},
     "output_type": "execute_result"
    }
   ],
   "source": [
    "good_session_gp = sessions_history.groupby('session_date').agg({'session_id': 'nunique', 'good_session': 'sum'}).reset_index()\n",
    "good_session_gp['good_session_share'] = good_session_gp['good_session'] / good_session_gp['session_id']\n",
    "good_session_gp.head()"
   ]
  },
  {
   "cell_type": "code",
   "execution_count": 13,
   "metadata": {},
   "outputs": [
    {
     "data": {
      "image/png": "[encoded data removed]",
      "text/plain": [
       "<Figure size 1080x576 with 1 Axes>"
      ]
     },
     "metadata": {
      "needs_background": "light"
     },
     "output_type": "display_data"
    },
    {
     "data": {
      "text/plain": [
       "0.3075441043954679"
      ]
     },
     "metadata": {},
     "output_type": "display_data"
    }
   ],
   "source": [
    "plt.figure(figsize=(15, 8))\n",
    "\n",
    "plt.plot(good_session_gp['session_date'], good_session_gp['good_session_share'], label ='Доля успешных сессий')\n",
    "\n",
    "plt.xlabel(\"Дата\")\n",
    "plt.xticks(rotation=90)\n",
    "\n",
    "mean_good_value = good_session_gp['good_session_share'].mean()\n",
    "plt.axhline(y=mean_good_value, color='g', label='Средняя доля')\n",
    "\n",
    "plt.ylabel(\"Доля успешных сессий\")\n",
    "plt.legend()\n",
    "plt.grid(axis='y')\n",
    "plt.title('Динамика доли успешных сессий')\n",
    "\n",
    "plt.show()\n",
    "\n",
    "display(mean_good_value)"
   ]
  },
  {
   "cell_type": "markdown",
   "metadata": {},
   "source": [
    "- В основном процент успешных сессий находится в промежутке от 30% до 32%;\n",
    "- В конце наблюдаемого периода данные становятся более волатильны;\n",
    "- В среднем доля успешных сессий составила 30,7%."
   ]
  },
  {
   "cell_type": "markdown",
   "metadata": {
    "id": "21JcG77Y0eMt"
   },
   "source": [
    "### 2. Подготовка к тесту\n"
   ]
  },
  {
   "cell_type": "markdown",
   "metadata": {
    "id": "uzaeln270eMt"
   },
   "source": [
    "#### 2.1. Расчёт размера выборки\n",
    "Параметры:\n",
    "\n",
    "- Уровень значимости — 0.05.\n",
    "\n",
    "- Вероятность ошибки второго рода — 0.2.\n",
    "\n",
    "- Минимальный детектируемый эффект — 3%.\n",
    "\n",
    "При расчёте размера выборки используем метод `solve_power()` из класса `power.NormalIndPower` модуля `statsmodels.stats`.\n"
   ]
  },
  {
   "cell_type": "code",
   "execution_count": 14,
   "metadata": {
    "id": "zSxJyPGPNdaI"
   },
   "outputs": [
    {
     "name": "stdout",
     "output_type": "stream",
     "text": [
      "Необходимый размер выборки для каждой группы: 17441\n"
     ]
    }
   ],
   "source": [
    "from statsmodels.stats.power import NormalIndPower\n",
    "\n",
    "# Задаём параметры\n",
    "alpha = 0.05  # Уровень значимости\n",
    "beta = 0.2  # Ошибка второго рода, часто 1 - мощность\n",
    "power = 1 - beta # Мощность теста\n",
    "mde = 0.03  # Минимальный детектируемый эффект\n",
    "\n",
    "# Инициализируем класс NormalIndPower\n",
    "power_analysis = NormalIndPower()\n",
    "\n",
    "# Рассчитываем размер выборки\n",
    "sample_size = power_analysis.solve_power(\n",
    "    effect_size = mde,\n",
    "    power = power,\n",
    "    alpha = alpha,\n",
    "    ratio = 1 # Равномерное распределение выборок\n",
    ")\n",
    "\n",
    "print(f\"Необходимый размер выборки для каждой группы: {int(sample_size)}\")"
   ]
  },
  {
   "cell_type": "markdown",
   "metadata": {
    "id": "qLEv4RoV0eMu"
   },
   "source": [
    "#### 2.1. Расчёт длительности A/B-теста\n"
   ]
  },
  {
   "cell_type": "code",
   "execution_count": 15,
   "metadata": {
    "id": "KZDRbryDOGHa"
   },
   "outputs": [
    {
     "name": "stdout",
     "output_type": "stream",
     "text": [
      "Рассчитанная длительность A/B-теста при текущем уровене трафика в 9908 пользователей в день составит 4 дней\n"
     ]
    }
   ],
   "source": [
    "from math import ceil\n",
    "\n",
    "# Среднее количество пользователей приложения в день по историческим данным\n",
    "avg_daily_users = ceil(session_date_gp['user_id'].mean())\n",
    "\n",
    "# Рассчитываем длительность теста в днях как отношение размера выборки к среднему числу пользователей\n",
    "test_duration = ceil(sample_size*2 / avg_daily_users)\n",
    "\n",
    "print(f\"Рассчитанная длительность A/B-теста при текущем уровене трафика в {avg_daily_users} пользователей в день составит {test_duration} дней\")"
   ]
  },
  {
   "cell_type": "markdown",
   "metadata": {
    "id": "ZuvtAdha0eMv"
   },
   "source": [
    "### 3. Мониторинг А/В-теста"
   ]
  },
  {
   "cell_type": "markdown",
   "metadata": {
    "id": "jq5sE3Ya0eMv"
   },
   "source": [
    "#### 3.1. Проверка распределения пользователей\n",
    "\n",
    "- Сохраним в датафрейме `sessions_test_part` CSV-файл с историческими данными о сессиях пользователей `sessions_project_test_part.csv`.\n",
    "\n",
    "- Рассчитаем количество уникальных пользователей в каждой из экспериментальных групп для одного дня наблюдения.\n",
    "\n",
    "- Рассчитаем процентную разницу в количестве пользователей в группах A и B.\n"
   ]
  },
  {
   "cell_type": "code",
   "execution_count": 16,
   "metadata": {
    "id": "G1bqIzDJOUiz"
   },
   "outputs": [
    {
     "data": {
      "text/html": [
       "<div>\n",
       "<style scoped>\n",
       "    .dataframe tbody tr th:only-of-type {\n",
       "        vertical-align: middle;\n",
       "    }\n",
       "\n",
       "    .dataframe tbody tr th {\n",
       "        vertical-align: top;\n",
       "    }\n",
       "\n",
       "    .dataframe thead th {\n",
       "        text-align: right;\n",
       "    }\n",
       "</style>\n",
       "<table border=\"1\" class=\"dataframe\">\n",
       "  <thead>\n",
       "    <tr style=\"text-align: right;\">\n",
       "      <th></th>\n",
       "      <th>user_id</th>\n",
       "      <th>session_id</th>\n",
       "      <th>session_date</th>\n",
       "      <th>session_start_ts</th>\n",
       "      <th>install_date</th>\n",
       "      <th>session_number</th>\n",
       "      <th>registration_flag</th>\n",
       "      <th>page_counter</th>\n",
       "      <th>region</th>\n",
       "      <th>device</th>\n",
       "      <th>test_group</th>\n",
       "    </tr>\n",
       "  </thead>\n",
       "  <tbody>\n",
       "    <tr>\n",
       "      <th>0</th>\n",
       "      <td>3404844B53442747</td>\n",
       "      <td>B4901323BD537E45</td>\n",
       "      <td>2025-10-14</td>\n",
       "      <td>2025-10-14 19:28:49</td>\n",
       "      <td>2025-10-14</td>\n",
       "      <td>1</td>\n",
       "      <td>0</td>\n",
       "      <td>3</td>\n",
       "      <td>CIS</td>\n",
       "      <td>Android</td>\n",
       "      <td>B</td>\n",
       "    </tr>\n",
       "    <tr>\n",
       "      <th>1</th>\n",
       "      <td>3A2BF4D364E62D89</td>\n",
       "      <td>216FC619308F8788</td>\n",
       "      <td>2025-10-14</td>\n",
       "      <td>2025-10-14 21:11:04</td>\n",
       "      <td>2025-10-14</td>\n",
       "      <td>1</td>\n",
       "      <td>0</td>\n",
       "      <td>3</td>\n",
       "      <td>MENA</td>\n",
       "      <td>iPhone</td>\n",
       "      <td>A</td>\n",
       "    </tr>\n",
       "    <tr>\n",
       "      <th>2</th>\n",
       "      <td>79CDAE11E32B1597</td>\n",
       "      <td>EDFCE4AC1A504074</td>\n",
       "      <td>2025-10-14</td>\n",
       "      <td>2025-10-14 21:44:03</td>\n",
       "      <td>2025-10-14</td>\n",
       "      <td>1</td>\n",
       "      <td>0</td>\n",
       "      <td>3</td>\n",
       "      <td>CIS</td>\n",
       "      <td>iPhone</td>\n",
       "      <td>A</td>\n",
       "    </tr>\n",
       "    <tr>\n",
       "      <th>3</th>\n",
       "      <td>D6AF8D78297A931F</td>\n",
       "      <td>CF0AC0EEDE92C690</td>\n",
       "      <td>2025-10-14</td>\n",
       "      <td>2025-10-14 19:07:55</td>\n",
       "      <td>2025-10-14</td>\n",
       "      <td>1</td>\n",
       "      <td>0</td>\n",
       "      <td>4</td>\n",
       "      <td>CIS</td>\n",
       "      <td>PC</td>\n",
       "      <td>A</td>\n",
       "    </tr>\n",
       "    <tr>\n",
       "      <th>4</th>\n",
       "      <td>37E0CE723AE568E0</td>\n",
       "      <td>2E6ED45E8C86C4E9</td>\n",
       "      <td>2025-10-14</td>\n",
       "      <td>2025-10-14 15:39:44</td>\n",
       "      <td>2025-10-14</td>\n",
       "      <td>1</td>\n",
       "      <td>0</td>\n",
       "      <td>3</td>\n",
       "      <td>CIS</td>\n",
       "      <td>Mac</td>\n",
       "      <td>B</td>\n",
       "    </tr>\n",
       "  </tbody>\n",
       "</table>\n",
       "</div>"
      ],
      "text/plain": [
       "            user_id        session_id session_date     session_start_ts  \\\n",
       "0  3404844B53442747  B4901323BD537E45   2025-10-14  2025-10-14 19:28:49   \n",
       "1  3A2BF4D364E62D89  216FC619308F8788   2025-10-14  2025-10-14 21:11:04   \n",
       "2  79CDAE11E32B1597  EDFCE4AC1A504074   2025-10-14  2025-10-14 21:44:03   \n",
       "3  D6AF8D78297A931F  CF0AC0EEDE92C690   2025-10-14  2025-10-14 19:07:55   \n",
       "4  37E0CE723AE568E0  2E6ED45E8C86C4E9   2025-10-14  2025-10-14 15:39:44   \n",
       "\n",
       "  install_date  session_number  registration_flag  page_counter region  \\\n",
       "0   2025-10-14               1                  0             3    CIS   \n",
       "1   2025-10-14               1                  0             3   MENA   \n",
       "2   2025-10-14               1                  0             3    CIS   \n",
       "3   2025-10-14               1                  0             4    CIS   \n",
       "4   2025-10-14               1                  0             3    CIS   \n",
       "\n",
       "    device test_group  \n",
       "0  Android          B  \n",
       "1   iPhone          A  \n",
       "2   iPhone          A  \n",
       "3       PC          A  \n",
       "4      Mac          B  "
      ]
     },
     "execution_count": 16,
     "metadata": {},
     "output_type": "execute_result"
    }
   ],
   "source": [
    "sessions_test_part = pd.read_csv('/datasets/sessions_project_test_part.csv')\n",
    "sessions_test_part.head()"
   ]
  },
  {
   "cell_type": "code",
   "execution_count": 17,
   "metadata": {},
   "outputs": [
    {
     "name": "stdout",
     "output_type": "stream",
     "text": [
      "Размер выборки A: 1477\n",
      "Размер выборки B: 1466\n",
      "Разница между размером выборок составляет: 0.74 %\n"
     ]
    }
   ],
   "source": [
    "A_id_count = sessions_test_part[sessions_test_part['test_group'] == 'A']['user_id'].nunique()\n",
    "B_id_count = sessions_test_part[sessions_test_part['test_group'] == 'B']['user_id'].nunique()\n",
    "count_differ = round(100 * abs(A_id_count - B_id_count)/ A_id_count, 2)\n",
    "\n",
    "print(f\"Размер выборки A: {A_id_count}\")\n",
    "print(f\"Размер выборки B: {B_id_count}\")\n",
    "print(f\"Разница между размером выборок составляет: {count_differ} %\")"
   ]
  },
  {
   "cell_type": "code",
   "execution_count": 18,
   "metadata": {},
   "outputs": [
    {
     "data": {
      "image/png": "[encoded data removed]",
      "text/plain": [
       "<Figure size 576x432 with 1 Axes>"
      ]
     },
     "metadata": {},
     "output_type": "display_data"
    }
   ],
   "source": [
    "labels = ['Выборка A', 'Выборка B']\n",
    "sizes = [A_id_count, B_id_count]\n",
    "colors = ['skyblue', 'lightgreen']\n",
    "\n",
    "plt.figure(figsize=(8, 6))\n",
    "plt.pie(sizes, labels=labels, colors=colors,\n",
    "        autopct='%1.1f%%', startangle=140)\n",
    "plt.axis('equal')\n",
    "plt.title('Распределение пользователей по выборкам')\n",
    "plt.show()"
   ]
  },
  {
   "cell_type": "markdown",
   "metadata": {},
   "source": [
    "За первый день эксперимента в выборки попало практически одинаковое количество человек"
   ]
  },
  {
   "cell_type": "markdown",
   "metadata": {
    "id": "sgpNY5bv0eM0"
   },
   "source": [
    "#### 3.2. Проверка пересечений пользователей\n",
    "\n",
    "- Проверим количество пользователей, которые встречаются одновременно в группах A и B."
   ]
  },
  {
   "cell_type": "code",
   "execution_count": 19,
   "metadata": {
    "id": "E72ozN9FOX1u"
   },
   "outputs": [
    {
     "data": {
      "text/plain": [
       "[]"
      ]
     },
     "metadata": {},
     "output_type": "display_data"
    }
   ],
   "source": [
    "A = sessions_test_part[sessions_test_part['test_group'] == 'A']['user_id']\n",
    "B = sessions_test_part[sessions_test_part['test_group'] == 'B']['user_id']\n",
    "\n",
    "intersection = list(set(A) & set(B))\n",
    "display(intersection)"
   ]
  },
  {
   "cell_type": "markdown",
   "metadata": {},
   "source": [
    "Пользователи из одной выборки не попадают в другую выборку."
   ]
  },
  {
   "cell_type": "markdown",
   "metadata": {
    "id": "6RvkNLrg0eM1"
   },
   "source": [
    "#### 3.3. Равномерность разделения пользователей по устройствам\n",
    "Полезно также убедиться в том, что пользователи равномерно распределены по всем доступным категориальным переменным — типам устройства и регионам.\n",
    "\n",
    "Построим две диаграммы:\n",
    "\n",
    "- доля каждого типа устройства для пользователей из группы A,\n",
    "\n",
    "- доля каждого типа устройства для пользователей из группы B.\n",
    "\n"
   ]
  },
  {
   "cell_type": "code",
   "execution_count": 20,
   "metadata": {
    "id": "x_IP6PUNPWHC"
   },
   "outputs": [
    {
     "data": {
      "image/png": "[encoded data removed]",
      "text/plain": [
       "<Figure size 720x504 with 1 Axes>"
      ]
     },
     "metadata": {},
     "output_type": "display_data"
    }
   ],
   "source": [
    "sessions_test_part[sessions_test_part['test_group'] == 'A'].groupby('device')['user_id'].nunique().plot(kind='pie',                    \n",
    "title='Доля каждого типа устройства для пользователей из группы A',\n",
    "legend=True,\n",
    "ylabel='',                                                                                                        \n",
    "autopct='%1.1f%%',\n",
    "colors = ['skyblue', 'lightgrey', 'lightgreen', 'orange', 'lightgreen'],                                                                                                        \n",
    "figsize = (10, 7))\n",
    "\n",
    "plt.show()"
   ]
  },
  {
   "cell_type": "code",
   "execution_count": 21,
   "metadata": {},
   "outputs": [
    {
     "data": {
      "image/png": "[encoded data removed]",
      "text/plain": [
       "<Figure size 720x504 with 1 Axes>"
      ]
     },
     "metadata": {},
     "output_type": "display_data"
    }
   ],
   "source": [
    "sessions_test_part[sessions_test_part['test_group'] == 'B'].groupby('device')['user_id'].nunique().plot(kind='pie',                    \n",
    "title='Доля каждого типа устройства для пользователей из группы B',\n",
    "legend=True,\n",
    "ylabel='',                                                                                                        \n",
    "autopct='%1.1f%%',\n",
    "colors = ['skyblue', 'lightgrey', 'lightgreen', 'orange', 'lightgreen'],                                                                                                        \n",
    "figsize = (10, 7))\n",
    "\n",
    "plt.show()"
   ]
  },
  {
   "cell_type": "markdown",
   "metadata": {},
   "source": [
    "Распределения по типам устройств похожи для получившихся выборок."
   ]
  },
  {
   "cell_type": "markdown",
   "metadata": {
    "id": "gAgmP6vo0eM1"
   },
   "source": [
    "#### 3.4. Равномерность распределения пользователей по регионам\n",
    "Убедимся, что пользователи равномерно распределены по регионам.\n",
    "\n",
    "Построим две диаграммы:\n",
    "\n",
    "- доля каждого региона для пользователей из группы A,\n",
    "\n",
    "- доля каждого региона для пользователей из группы B.\n"
   ]
  },
  {
   "cell_type": "code",
   "execution_count": 22,
   "metadata": {
    "id": "3hAq-FG4OdYM"
   },
   "outputs": [
    {
     "data": {
      "image/png": "[encoded data removed]",
      "text/plain": [
       "<Figure size 720x504 with 1 Axes>"
      ]
     },
     "metadata": {},
     "output_type": "display_data"
    }
   ],
   "source": [
    "sessions_test_part[sessions_test_part['test_group'] == 'A'].groupby('region')['user_id'].nunique().plot(kind='pie',                    \n",
    "title='Доля каждого региона для пользователей из группы A',\n",
    "legend=True,\n",
    "ylabel='',                                                                                                        \n",
    "autopct='%1.1f%%',\n",
    "colors = ['skyblue', 'orange', 'lightgreen'],                                                                                                        \n",
    "figsize = (10, 7))\n",
    "\n",
    "plt.show()"
   ]
  },
  {
   "cell_type": "code",
   "execution_count": 23,
   "metadata": {},
   "outputs": [
    {
     "data": {
      "image/png": "[encoded data removed]",
      "text/plain": [
       "<Figure size 720x504 with 1 Axes>"
      ]
     },
     "metadata": {},
     "output_type": "display_data"
    }
   ],
   "source": [
    "sessions_test_part[sessions_test_part['test_group'] == 'B'].groupby('region')['user_id'].nunique().plot(kind='pie',                    \n",
    "title='Доля каждого типа устройства для пользователей из группы B',\n",
    "legend=True,\n",
    "ylabel='',                                                                                                        \n",
    "autopct='%1.1f%%',\n",
    "colors = ['skyblue', 'orange', 'lightgreen'],                                                                                                        \n",
    "figsize = (10, 7))\n",
    "\n",
    "plt.show()"
   ]
  },
  {
   "cell_type": "markdown",
   "metadata": {},
   "source": [
    "Распределение по регионам также совпадает между выборками."
   ]
  },
  {
   "cell_type": "markdown",
   "metadata": {
    "id": "X2WSZ-sDrSUi"
   },
   "source": [
    "#### 3.5. Вывод после проверки A/B-теста\n",
    "\n"
   ]
  },
  {
   "cell_type": "markdown",
   "metadata": {},
   "source": [
    "**После первого дня эксперимента можно сделать следующие выводы:**\n",
    "1. Количество пользователей в группах различается лишь на **0.7%**. Выборка в группе **А** составила **1477** пользователей, а в группе **В** - **1466** пользователей;\n",
    "2. Выборки являются независимыми и не содержат одинаковых пользователей;\n",
    "3. Выборки распределены довольно равномерно. В обеих группах около **45%** пользователей используют **Android**.Также в обеих группах **43.8%** пользователей сосредаточились в регионе **CIS** и **41.2%** - в регионе **MENA**.\n",
    "\n",
    "Таким образом эксперимент проходит корректно."
   ]
  },
  {
   "cell_type": "markdown",
   "metadata": {
    "id": "nudRr_BQ0eM2"
   },
   "source": [
    "### 4. Проверка результатов A/B-теста\n"
   ]
  },
  {
   "cell_type": "markdown",
   "metadata": {
    "id": "JVve-YBB0eM2"
   },
   "source": [
    "#### 4.1. Получение результатов теста и подсчёт основной метрики\n"
   ]
  },
  {
   "cell_type": "code",
   "execution_count": 24,
   "metadata": {
    "id": "EqRlwMtKPTir"
   },
   "outputs": [
    {
     "data": {
      "text/html": [
       "<div>\n",
       "<style scoped>\n",
       "    .dataframe tbody tr th:only-of-type {\n",
       "        vertical-align: middle;\n",
       "    }\n",
       "\n",
       "    .dataframe tbody tr th {\n",
       "        vertical-align: top;\n",
       "    }\n",
       "\n",
       "    .dataframe thead th {\n",
       "        text-align: right;\n",
       "    }\n",
       "</style>\n",
       "<table border=\"1\" class=\"dataframe\">\n",
       "  <thead>\n",
       "    <tr style=\"text-align: right;\">\n",
       "      <th></th>\n",
       "      <th>user_id</th>\n",
       "      <th>session_id</th>\n",
       "      <th>session_date</th>\n",
       "      <th>session_start_ts</th>\n",
       "      <th>install_date</th>\n",
       "      <th>session_number</th>\n",
       "      <th>registration_flag</th>\n",
       "      <th>page_counter</th>\n",
       "      <th>region</th>\n",
       "      <th>device</th>\n",
       "      <th>test_group</th>\n",
       "      <th>good_session</th>\n",
       "    </tr>\n",
       "  </thead>\n",
       "  <tbody>\n",
       "    <tr>\n",
       "      <th>0</th>\n",
       "      <td>6DAE3B3654DA738E</td>\n",
       "      <td>C69249E26E58F6E2</td>\n",
       "      <td>2025-10-26</td>\n",
       "      <td>2025-10-26 18:15:05</td>\n",
       "      <td>2025-10-16</td>\n",
       "      <td>3</td>\n",
       "      <td>0</td>\n",
       "      <td>3</td>\n",
       "      <td>MENA</td>\n",
       "      <td>Android</td>\n",
       "      <td>A</td>\n",
       "      <td>0</td>\n",
       "    </tr>\n",
       "    <tr>\n",
       "      <th>1</th>\n",
       "      <td>0A3FE5D1DD59110A</td>\n",
       "      <td>66D66D7C9F5181B7</td>\n",
       "      <td>2025-10-21</td>\n",
       "      <td>2025-10-21 17:04:53</td>\n",
       "      <td>2025-10-15</td>\n",
       "      <td>2</td>\n",
       "      <td>1</td>\n",
       "      <td>2</td>\n",
       "      <td>CIS</td>\n",
       "      <td>Android</td>\n",
       "      <td>B</td>\n",
       "      <td>0</td>\n",
       "    </tr>\n",
       "    <tr>\n",
       "      <th>2</th>\n",
       "      <td>2041F1D7AA740B88</td>\n",
       "      <td>50DE51D42215E74C</td>\n",
       "      <td>2025-10-23</td>\n",
       "      <td>2025-10-23 17:39:29</td>\n",
       "      <td>2025-10-19</td>\n",
       "      <td>3</td>\n",
       "      <td>0</td>\n",
       "      <td>2</td>\n",
       "      <td>MENA</td>\n",
       "      <td>Android</td>\n",
       "      <td>A</td>\n",
       "      <td>0</td>\n",
       "    </tr>\n",
       "    <tr>\n",
       "      <th>3</th>\n",
       "      <td>43D7585009168086</td>\n",
       "      <td>5763C0C353C22263</td>\n",
       "      <td>2025-10-24</td>\n",
       "      <td>2025-10-24 15:01:57</td>\n",
       "      <td>2025-10-18</td>\n",
       "      <td>4</td>\n",
       "      <td>0</td>\n",
       "      <td>1</td>\n",
       "      <td>CIS</td>\n",
       "      <td>iPhone</td>\n",
       "      <td>B</td>\n",
       "      <td>0</td>\n",
       "    </tr>\n",
       "    <tr>\n",
       "      <th>4</th>\n",
       "      <td>15AD68B14D62D88C</td>\n",
       "      <td>B1AD09F93C1053BC</td>\n",
       "      <td>2025-10-17</td>\n",
       "      <td>2025-10-17 17:34:39</td>\n",
       "      <td>2025-10-17</td>\n",
       "      <td>1</td>\n",
       "      <td>0</td>\n",
       "      <td>2</td>\n",
       "      <td>MENA</td>\n",
       "      <td>Android</td>\n",
       "      <td>B</td>\n",
       "      <td>0</td>\n",
       "    </tr>\n",
       "  </tbody>\n",
       "</table>\n",
       "</div>"
      ],
      "text/plain": [
       "            user_id        session_id session_date     session_start_ts  \\\n",
       "0  6DAE3B3654DA738E  C69249E26E58F6E2   2025-10-26  2025-10-26 18:15:05   \n",
       "1  0A3FE5D1DD59110A  66D66D7C9F5181B7   2025-10-21  2025-10-21 17:04:53   \n",
       "2  2041F1D7AA740B88  50DE51D42215E74C   2025-10-23  2025-10-23 17:39:29   \n",
       "3  43D7585009168086  5763C0C353C22263   2025-10-24  2025-10-24 15:01:57   \n",
       "4  15AD68B14D62D88C  B1AD09F93C1053BC   2025-10-17  2025-10-17 17:34:39   \n",
       "\n",
       "  install_date  session_number  registration_flag  page_counter region  \\\n",
       "0   2025-10-16               3                  0             3   MENA   \n",
       "1   2025-10-15               2                  1             2    CIS   \n",
       "2   2025-10-19               3                  0             2   MENA   \n",
       "3   2025-10-18               4                  0             1    CIS   \n",
       "4   2025-10-17               1                  0             2   MENA   \n",
       "\n",
       "    device test_group  good_session  \n",
       "0  Android          A             0  \n",
       "1  Android          B             0  \n",
       "2  Android          A             0  \n",
       "3   iPhone          B             0  \n",
       "4  Android          B             0  "
      ]
     },
     "execution_count": 24,
     "metadata": {},
     "output_type": "execute_result"
    }
   ],
   "source": [
    "sessions_test = pd.read_csv('/datasets/sessions_project_test.csv')\n",
    "sessions_test['good_session']= 0\n",
    "sessions_test.loc[sessions_test['page_counter'] > 3, 'good_session'] = 1\n",
    "sessions_test.head()"
   ]
  },
  {
   "cell_type": "markdown",
   "metadata": {
    "id": "aeYhrMYy0eM2"
   },
   "source": [
    "#### 4.2. Проверка корректности результатов теста\n",
    "\n",
    "Прежде чем приступать к анализу ключевых продуктовых метрик, убедимся, что тест проведён корректно и сравниваются две сопоставимые группы.\n",
    "\n",
    "- Рассчитаем количество уникальных сессий для каждого дня и обеих тестовых групп, используя группировку.\n",
    "\n",
    "- Проверим, что количество уникальных дневных сессий в двух выборках не различается или различия не статистически значимы. Используем статистический тест, который позволит сделать вывод о равенстве средних двух выборок.\n"
   ]
  },
  {
   "cell_type": "markdown",
   "metadata": {},
   "source": [
    "\n",
    "- H₀ (нулевая гипотеза) — количество уникальных дневных сессий не различается между тестовой и контрольной группами.\n",
    "- H₁ (альтернативная гипотеза) — количество уникальных дневных сессий различается между тестовой и контрольной группами.\n"
   ]
  },
  {
   "cell_type": "code",
   "execution_count": 25,
   "metadata": {
    "id": "5NUlcltkTTSU"
   },
   "outputs": [],
   "source": [
    "count_test_A = sessions_test[sessions_test['test_group']== 'A'].groupby('session_date')['session_id'].nunique().reset_index()\n",
    "count_test_B = sessions_test[sessions_test['test_group']== 'B'].groupby('session_date')['session_id'].nunique().reset_index()"
   ]
  },
  {
   "cell_type": "code",
   "execution_count": 26,
   "metadata": {},
   "outputs": [],
   "source": [
    "from scipy.stats import ttest_ind"
   ]
  },
  {
   "cell_type": "code",
   "execution_count": 27,
   "metadata": {},
   "outputs": [
    {
     "name": "stdout",
     "output_type": "stream",
     "text": [
      "pvalue=0.938219304859116 > 0.05\n",
      "Не получилось отвергнуть нулевую гипотезу\n"
     ]
    }
   ],
   "source": [
    "#Проведем t-test, в котором нулевая гипотеза звучит так: Среднее количество ежедневных сессий в двух выборках не различается\n",
    "test_result, test_result_pvalue = ttest_ind(\n",
    "count_test_A['session_id'],\n",
    "count_test_B['session_id'],\n",
    "alternative='two-sided') # в альтернативной гипотезе проверим различие среднего в обе стороны\n",
    "\n",
    "alpha = 0.05\n",
    "\n",
    "if test_result_pvalue > alpha:\n",
    "    print(f'pvalue={test_result_pvalue} > {alpha}')\n",
    "    print('Не получилось отвергнуть нулевую гипотезу')\n",
    "else:\n",
    "    print(f'pvalue={test_result_pvalue} < {alpha}')\n",
    "    print('Отвергаем нулевую гипотезу')"
   ]
  },
  {
   "cell_type": "markdown",
   "metadata": {},
   "source": [
    "Тест не смог опровергнуть нулевую гипотезу, значит у нас нет оснований полагать, что среднее количество сессий в выборках различается."
   ]
  },
  {
   "cell_type": "markdown",
   "metadata": {
    "id": "7kwRxzg70eM3"
   },
   "source": [
    "#### 4.3. Сравнение доли успешных сессий\n",
    "\n"
   ]
  },
  {
   "cell_type": "code",
   "execution_count": 28,
   "metadata": {
    "id": "Uku-V1CpPRCz"
   },
   "outputs": [],
   "source": [
    "good_session_test_A = sessions_test[sessions_test['test_group']== 'A']\n",
    "good_session_test_B = sessions_test[sessions_test['test_group']== 'B']"
   ]
  },
  {
   "cell_type": "code",
   "execution_count": 29,
   "metadata": {},
   "outputs": [
    {
     "name": "stdout",
     "output_type": "stream",
     "text": [
      "Доля успешных сессий в выборке А: 0.31 %\n",
      "Доля успешных сессий в выборке B: 0.32 %\n",
      "Разница между показателями составляет 0.01 %\n"
     ]
    }
   ],
   "source": [
    "good_session_A = round(good_session_test_A['good_session'].sum() / good_session_test_A.shape[0], 2)\n",
    "    \n",
    "good_session_B = round(good_session_test_B['good_session'].sum() / good_session_test_B.shape[0], 2)\n",
    "    \n",
    "share_diff = round(abs(good_session_A - good_session_B), 2)\n",
    "\n",
    "print(f\"Доля успешных сессий в выборке А: {good_session_A} %\")\n",
    "print(f\"Доля успешных сессий в выборке B: {good_session_B} %\")\n",
    "print(f\"Разница между показателями составляет {share_diff} %\")"
   ]
  },
  {
   "cell_type": "markdown",
   "metadata": {
    "id": "9fMFuja10eM4"
   },
   "source": [
    "#### 4.4. Проверим статистическую значимость изменения ключевой метрики\n"
   ]
  },
  {
   "cell_type": "code",
   "execution_count": 30,
   "metadata": {
    "id": "gFvhRGwlPLS0"
   },
   "outputs": [],
   "source": [
    "from statsmodels.stats.proportion import proportions_ztest"
   ]
  },
  {
   "cell_type": "code",
   "execution_count": 31,
   "metadata": {},
   "outputs": [
    {
     "name": "stdout",
     "output_type": "stream",
     "text": [
      "pvalue=0.0001574739988036123 < 0.05\n",
      "Отвергаем нулевую гипотезу\n"
     ]
    }
   ],
   "source": [
    "n_a, n_b = good_session_test_A.shape[0], good_session_test_B.shape[0] #размеры выборок\n",
    "\n",
    "m_a, m_b = good_session_test_A['good_session'].sum(), good_session_test_B['good_session'].sum() # количество успехов\n",
    "\n",
    "alpha = 0.05\n",
    "\n",
    "# Используем Z-тест пропорций, так как исследуем доли\n",
    "stat_ztest, p_value_ztest = proportions_ztest(\n",
    "[m_a, m_b],\n",
    "[n_a, n_b],\n",
    "alternative='smaller' # проверяем что доля в выборке А меньше доли в выборке В\n",
    ")\n",
    "\n",
    "if p_value_ztest > alpha:\n",
    "    print(f'pvalue={p_value_ztest} > {alpha}')\n",
    "    print('Не получилось отвергнуть нулевую гипотезу')\n",
    "else:\n",
    "    print(f'pvalue={p_value_ztest} < {alpha}')\n",
    "    print('Отвергаем нулевую гипотезу')"
   ]
  },
  {
   "cell_type": "markdown",
   "metadata": {},
   "source": [
    "Так как **pvalue оказалось меньше уровня значимости**, мы **отвергаем нулевую гипотезу** и можем считать положительное **изменение доли** успешных сессий в выборке B **статистически значимым**."
   ]
  },
  {
   "cell_type": "code",
   "execution_count": 32,
   "metadata": {},
   "outputs": [
    {
     "name": "stdout",
     "output_type": "stream",
     "text": [
      "Размер группы A составил 49551 наблюдений;\n",
      "Размер группы B составил 50454 наблюдений;\n",
      "Размер общей выборки эксперимента составил 100005 наблюдений;\n",
      "При среднем трафике в 9908 наблюдений в день эксперимент продлился 11 дней.\n"
     ]
    }
   ],
   "source": [
    "#Рассчитаем длительность эксперимента\n",
    "all_test = good_session_test_A.shape[0] + good_session_test_B.shape[0]\n",
    "print(f\"Размер группы A составил {good_session_test_A.shape[0]} наблюдений;\")\n",
    "print(f\"Размер группы B составил {good_session_test_B.shape[0]} наблюдений;\")\n",
    "print(f\"Размер общей выборки эксперимента составил {all_test} наблюдений;\")\n",
    "print(f\"При среднем трафике в 9908 наблюдений в день эксперимент продлился {ceil(all_test/9908)} дней.\")"
   ]
  },
  {
   "cell_type": "markdown",
   "metadata": {
    "id": "GnJrkY9Q63zS"
   },
   "source": [
    "#### 4.5. Вывод по результатам A/B-эксперимента\n"
   ]
  },
  {
   "cell_type": "markdown",
   "metadata": {},
   "source": [
    "### Результаты эксперимента:\n",
    "В результате данной работы был проведен эксперимент, который заключался в анализе влияния нового алгоритма рекомендаций на вовлеченность пользователей в приложение.\n",
    "\n",
    "Эксперимент предполагал сбор двух выборок: **контрольная группа А с 49 551 наблюдением**, **тестовая группа  В** с новым алгоритмом рекомендаций с **50 454 наблюдениями**. Выборки получились сопоставимыми и независимыми.\n",
    "\n",
    "Общий размер выборки составил **100 005 наблюдений**, эксперимент продолжался предположительно **11 дней**.\n",
    "\n",
    "Были проведены 2 теста: **t-тест** и **Z-тест пропорций**.\n",
    "\n",
    "Ключевые выводы эксперимента:\n",
    "- **Среднее количество сессий** в двух группах **не изменилось**, p-value = 0.9, оказался больше уровня значимости в 5%;\n",
    "- **Доля успешных сессий** в тестовой выборке **увеличилась**, p-value = 0.00016, оказался меньше уровня значимости в 5%;\n",
    "- Нововведение не увеличило среднее количество сессий пользователелей приложения, однако положительно повлияло на вовлеченность пользователей в текущих сессиях, увеличив долю сессий с не менее 4 просмотренными страницами. Таким образом на основе полученных результатов можно одобрить предложение по введению нового алгоритма в приложение."
   ]
  },
  {
   "cell_type": "code",
   "execution_count": null,
   "metadata": {},
   "outputs": [],
   "source": []
  }
 ],
 "metadata": {
  "ExecuteTimeLog": [
   {
    "duration": 437,
    "start_time": "2025-03-04T07:10:04.987Z"
   },
   {
    "duration": 2,
    "start_time": "2025-03-04T07:10:06.846Z"
   },
   {
    "duration": 1156,
    "start_time": "2025-03-04T07:11:05.960Z"
   },
   {
    "duration": 66,
    "start_time": "2025-03-04T07:16:51.759Z"
   },
   {
    "duration": 314,
    "start_time": "2025-03-04T07:17:00.944Z"
   },
   {
    "duration": 326,
    "start_time": "2025-03-04T07:17:37.839Z"
   },
   {
    "duration": 326,
    "start_time": "2025-03-04T07:17:47.859Z"
   },
   {
    "duration": 607,
    "start_time": "2025-03-04T07:19:36.248Z"
   },
   {
    "duration": 563,
    "start_time": "2025-03-04T07:20:03.647Z"
   },
   {
    "duration": 16,
    "start_time": "2025-03-04T07:22:29.442Z"
   },
   {
    "duration": 33,
    "start_time": "2025-03-04T07:23:59.538Z"
   },
   {
    "duration": 65,
    "start_time": "2025-03-04T07:25:49.321Z"
   },
   {
    "duration": 9,
    "start_time": "2025-03-04T07:28:58.068Z"
   },
   {
    "duration": 47,
    "start_time": "2025-03-04T07:30:26.660Z"
   },
   {
    "duration": 23,
    "start_time": "2025-03-04T07:30:38.223Z"
   },
   {
    "duration": 30,
    "start_time": "2025-03-04T07:30:49.252Z"
   },
   {
    "duration": 56,
    "start_time": "2025-03-04T07:32:13.146Z"
   },
   {
    "duration": 55,
    "start_time": "2025-03-04T07:32:28.845Z"
   },
   {
    "duration": 46,
    "start_time": "2025-03-04T07:33:06.078Z"
   },
   {
    "duration": 200,
    "start_time": "2025-03-04T07:47:38.121Z"
   },
   {
    "duration": 194,
    "start_time": "2025-03-04T07:48:18.383Z"
   },
   {
    "duration": 10,
    "start_time": "2025-03-04T07:51:50.726Z"
   },
   {
    "duration": 471,
    "start_time": "2025-03-04T07:52:57.234Z"
   },
   {
    "duration": 31,
    "start_time": "2025-03-04T07:52:59.607Z"
   },
   {
    "duration": 254,
    "start_time": "2025-03-04T07:53:31.595Z"
   },
   {
    "duration": 186,
    "start_time": "2025-03-04T07:55:07.602Z"
   },
   {
    "duration": 582,
    "start_time": "2025-03-04T07:57:19.312Z"
   },
   {
    "duration": 761,
    "start_time": "2025-03-04T08:01:10.541Z"
   },
   {
    "duration": 574,
    "start_time": "2025-03-04T08:03:00.050Z"
   },
   {
    "duration": 680,
    "start_time": "2025-03-04T08:03:16.381Z"
   },
   {
    "duration": 691,
    "start_time": "2025-03-04T08:04:18.618Z"
   },
   {
    "duration": 650,
    "start_time": "2025-03-04T08:04:35.022Z"
   },
   {
    "duration": 730,
    "start_time": "2025-03-04T08:05:08.702Z"
   },
   {
    "duration": 636,
    "start_time": "2025-03-04T08:05:18.013Z"
   },
   {
    "duration": 78,
    "start_time": "2025-03-04T08:08:30.153Z"
   },
   {
    "duration": 625,
    "start_time": "2025-03-04T08:12:09.455Z"
   },
   {
    "duration": 553,
    "start_time": "2025-03-04T08:13:09.639Z"
   },
   {
    "duration": 773,
    "start_time": "2025-03-04T08:18:22.315Z"
   },
   {
    "duration": 701,
    "start_time": "2025-03-04T08:18:34.674Z"
   },
   {
    "duration": 720,
    "start_time": "2025-03-04T08:18:40.945Z"
   },
   {
    "duration": 721,
    "start_time": "2025-03-04T08:18:54.658Z"
   },
   {
    "duration": 649,
    "start_time": "2025-03-04T08:20:36.626Z"
   },
   {
    "duration": 729,
    "start_time": "2025-03-04T08:22:18.497Z"
   },
   {
    "duration": 592,
    "start_time": "2025-03-04T08:23:44.586Z"
   },
   {
    "duration": 537,
    "start_time": "2025-03-04T08:23:53.537Z"
   },
   {
    "duration": 668,
    "start_time": "2025-03-04T08:24:07.266Z"
   },
   {
    "duration": 309,
    "start_time": "2025-03-04T09:13:16.597Z"
   },
   {
    "duration": 324,
    "start_time": "2025-03-04T09:13:38.657Z"
   },
   {
    "duration": 196,
    "start_time": "2025-03-04T09:15:39.682Z"
   },
   {
    "duration": 184,
    "start_time": "2025-03-04T09:16:02.001Z"
   },
   {
    "duration": 188,
    "start_time": "2025-03-04T09:40:33.358Z"
   },
   {
    "duration": 295,
    "start_time": "2025-03-04T09:40:41.134Z"
   },
   {
    "duration": 175,
    "start_time": "2025-03-04T09:40:51.314Z"
   },
   {
    "duration": 177,
    "start_time": "2025-03-04T09:40:57.569Z"
   },
   {
    "duration": 113,
    "start_time": "2025-03-04T09:43:54.934Z"
   },
   {
    "duration": 201,
    "start_time": "2025-03-04T09:44:01.953Z"
   },
   {
    "duration": 170,
    "start_time": "2025-03-04T09:44:15.870Z"
   },
   {
    "duration": 161,
    "start_time": "2025-03-04T09:50:33.642Z"
   },
   {
    "duration": 23,
    "start_time": "2025-03-04T09:54:32.632Z"
   },
   {
    "duration": 354,
    "start_time": "2025-03-04T09:59:32.755Z"
   },
   {
    "duration": 702,
    "start_time": "2025-03-04T10:02:22.740Z"
   },
   {
    "duration": 499,
    "start_time": "2025-03-04T11:04:04.841Z"
   },
   {
    "duration": 4,
    "start_time": "2025-03-04T11:11:25.363Z"
   },
   {
    "duration": 4,
    "start_time": "2025-03-04T11:11:40.395Z"
   },
   {
    "duration": 5,
    "start_time": "2025-03-04T11:12:08.078Z"
   },
   {
    "duration": 43,
    "start_time": "2025-03-04T11:19:39.519Z"
   },
   {
    "duration": 6,
    "start_time": "2025-03-04T11:21:37.518Z"
   },
   {
    "duration": 9,
    "start_time": "2025-03-04T11:22:04.109Z"
   },
   {
    "duration": 11,
    "start_time": "2025-03-04T11:24:17.979Z"
   },
   {
    "duration": 8,
    "start_time": "2025-03-04T11:27:20.436Z"
   },
   {
    "duration": 8,
    "start_time": "2025-03-04T11:27:51.455Z"
   },
   {
    "duration": 97,
    "start_time": "2025-03-04T11:33:46.841Z"
   },
   {
    "duration": 104,
    "start_time": "2025-03-04T11:34:37.344Z"
   },
   {
    "duration": 83,
    "start_time": "2025-03-04T11:34:54.398Z"
   },
   {
    "duration": 80,
    "start_time": "2025-03-04T11:38:02.768Z"
   },
   {
    "duration": 7,
    "start_time": "2025-03-04T11:38:56.586Z"
   },
   {
    "duration": 121,
    "start_time": "2025-03-04T11:42:47.672Z"
   },
   {
    "duration": 135,
    "start_time": "2025-03-04T11:43:02.928Z"
   },
   {
    "duration": 132,
    "start_time": "2025-03-04T11:43:10.645Z"
   },
   {
    "duration": 174,
    "start_time": "2025-03-04T11:44:04.355Z"
   },
   {
    "duration": 137,
    "start_time": "2025-03-04T11:44:28.007Z"
   },
   {
    "duration": 132,
    "start_time": "2025-03-04T11:44:50.200Z"
   },
   {
    "duration": 133,
    "start_time": "2025-03-04T11:45:01.488Z"
   },
   {
    "duration": 165,
    "start_time": "2025-03-04T11:49:04.317Z"
   },
   {
    "duration": 167,
    "start_time": "2025-03-04T11:49:11.203Z"
   },
   {
    "duration": 160,
    "start_time": "2025-03-04T11:49:14.077Z"
   },
   {
    "duration": 289,
    "start_time": "2025-03-04T11:49:18.261Z"
   },
   {
    "duration": 167,
    "start_time": "2025-03-04T11:50:09.699Z"
   },
   {
    "duration": 174,
    "start_time": "2025-03-04T11:50:50.525Z"
   },
   {
    "duration": 63,
    "start_time": "2025-03-04T11:52:06.274Z"
   },
   {
    "duration": 173,
    "start_time": "2025-03-04T11:52:19.542Z"
   },
   {
    "duration": 170,
    "start_time": "2025-03-04T11:52:37.261Z"
   },
   {
    "duration": 57,
    "start_time": "2025-03-04T11:53:21.183Z"
   },
   {
    "duration": 146,
    "start_time": "2025-03-04T11:55:36.926Z"
   },
   {
    "duration": 164,
    "start_time": "2025-03-04T11:55:57.070Z"
   },
   {
    "duration": 107,
    "start_time": "2025-03-04T11:56:31.213Z"
   },
   {
    "duration": 126,
    "start_time": "2025-03-04T11:56:40.540Z"
   },
   {
    "duration": 167,
    "start_time": "2025-03-04T11:57:13.053Z"
   },
   {
    "duration": 129,
    "start_time": "2025-03-04T11:58:22.444Z"
   },
   {
    "duration": 165,
    "start_time": "2025-03-04T11:58:34.620Z"
   },
   {
    "duration": 165,
    "start_time": "2025-03-04T11:58:48.864Z"
   },
   {
    "duration": 168,
    "start_time": "2025-03-04T11:59:24.712Z"
   },
   {
    "duration": 165,
    "start_time": "2025-03-04T11:59:52.751Z"
   },
   {
    "duration": 181,
    "start_time": "2025-03-04T12:00:01.552Z"
   },
   {
    "duration": 167,
    "start_time": "2025-03-04T12:00:24.068Z"
   },
   {
    "duration": 276,
    "start_time": "2025-03-04T12:01:05.328Z"
   },
   {
    "duration": 142,
    "start_time": "2025-03-04T12:01:25.855Z"
   },
   {
    "duration": 144,
    "start_time": "2025-03-04T12:01:39.116Z"
   },
   {
    "duration": 145,
    "start_time": "2025-03-04T12:01:57.719Z"
   },
   {
    "duration": 249,
    "start_time": "2025-03-04T12:26:08.363Z"
   },
   {
    "duration": 23,
    "start_time": "2025-03-04T12:31:01.604Z"
   },
   {
    "duration": 65,
    "start_time": "2025-03-04T12:31:13.078Z"
   },
   {
    "duration": 2,
    "start_time": "2025-03-04T12:33:18.087Z"
   },
   {
    "duration": 66,
    "start_time": "2025-03-04T12:37:18.160Z"
   },
   {
    "duration": 18,
    "start_time": "2025-03-04T12:37:47.400Z"
   },
   {
    "duration": 5,
    "start_time": "2025-03-04T12:38:22.025Z"
   },
   {
    "duration": 6,
    "start_time": "2025-03-04T12:42:19.324Z"
   },
   {
    "duration": 185,
    "start_time": "2025-03-04T12:55:08.292Z"
   },
   {
    "duration": 59,
    "start_time": "2025-03-04T12:55:41.029Z"
   },
   {
    "duration": 26,
    "start_time": "2025-03-04T12:57:23.669Z"
   },
   {
    "duration": 6,
    "start_time": "2025-03-04T12:58:13.911Z"
   },
   {
    "duration": 6,
    "start_time": "2025-03-04T12:58:56.890Z"
   },
   {
    "duration": 6,
    "start_time": "2025-03-04T12:59:17.217Z"
   },
   {
    "duration": 9,
    "start_time": "2025-03-04T13:02:37.520Z"
   },
   {
    "duration": 8,
    "start_time": "2025-03-04T13:06:54.322Z"
   },
   {
    "duration": 46,
    "start_time": "2025-03-05T05:56:44.372Z"
   },
   {
    "duration": 383,
    "start_time": "2025-03-05T05:57:01.373Z"
   },
   {
    "duration": 1042,
    "start_time": "2025-03-05T05:57:01.758Z"
   },
   {
    "duration": 544,
    "start_time": "2025-03-05T05:57:02.802Z"
   },
   {
    "duration": 46,
    "start_time": "2025-03-05T05:57:03.348Z"
   },
   {
    "duration": 183,
    "start_time": "2025-03-05T05:57:03.396Z"
   },
   {
    "duration": 406,
    "start_time": "2025-03-05T05:57:03.581Z"
   },
   {
    "duration": 520,
    "start_time": "2025-03-05T05:57:03.989Z"
   },
   {
    "duration": 667,
    "start_time": "2025-03-05T05:57:04.510Z"
   },
   {
    "duration": 255,
    "start_time": "2025-03-05T05:57:05.179Z"
   },
   {
    "duration": 206,
    "start_time": "2025-03-05T05:57:05.436Z"
   },
   {
    "duration": 17,
    "start_time": "2025-03-05T05:57:05.647Z"
   },
   {
    "duration": 298,
    "start_time": "2025-03-05T05:57:05.665Z"
   },
   {
    "duration": 597,
    "start_time": "2025-03-05T05:57:05.964Z"
   },
   {
    "duration": 421,
    "start_time": "2025-03-05T05:57:06.564Z"
   },
   {
    "duration": 4,
    "start_time": "2025-03-05T05:57:06.986Z"
   },
   {
    "duration": 194,
    "start_time": "2025-03-05T05:57:06.992Z"
   },
   {
    "duration": 193,
    "start_time": "2025-03-05T05:57:07.188Z"
   },
   {
    "duration": 80,
    "start_time": "2025-03-05T05:57:07.382Z"
   },
   {
    "duration": 7,
    "start_time": "2025-03-05T05:57:07.464Z"
   },
   {
    "duration": 165,
    "start_time": "2025-03-05T05:57:07.472Z"
   },
   {
    "duration": 218,
    "start_time": "2025-03-05T05:57:07.638Z"
   },
   {
    "duration": 144,
    "start_time": "2025-03-05T05:57:07.857Z"
   },
   {
    "duration": 139,
    "start_time": "2025-03-05T05:57:08.003Z"
   },
   {
    "duration": 253,
    "start_time": "2025-03-05T05:57:08.147Z"
   },
   {
    "duration": 61,
    "start_time": "2025-03-05T05:57:08.401Z"
   },
   {
    "duration": 2,
    "start_time": "2025-03-05T05:57:08.464Z"
   },
   {
    "duration": 10,
    "start_time": "2025-03-05T05:57:08.468Z"
   },
   {
    "duration": 33,
    "start_time": "2025-03-05T05:57:08.479Z"
   },
   {
    "duration": 3,
    "start_time": "2025-03-05T05:57:08.513Z"
   },
   {
    "duration": 6,
    "start_time": "2025-03-05T05:57:08.518Z"
   },
   {
    "duration": 8,
    "start_time": "2025-03-05T05:57:08.525Z"
   },
   {
    "duration": 6,
    "start_time": "2025-03-05T05:57:08.547Z"
   },
   {
    "duration": 5,
    "start_time": "2025-03-05T06:00:38.557Z"
   },
   {
    "duration": 5,
    "start_time": "2025-03-05T06:00:45.901Z"
   },
   {
    "duration": 4,
    "start_time": "2025-03-05T06:08:18.717Z"
   },
   {
    "duration": 4,
    "start_time": "2025-03-05T06:10:13.464Z"
   },
   {
    "duration": 4,
    "start_time": "2025-03-05T06:10:40.153Z"
   },
   {
    "duration": 385,
    "start_time": "2025-03-05T06:32:50.968Z"
   },
   {
    "duration": 980,
    "start_time": "2025-03-05T06:32:51.355Z"
   },
   {
    "duration": 531,
    "start_time": "2025-03-05T06:32:52.336Z"
   },
   {
    "duration": 39,
    "start_time": "2025-03-05T06:32:52.869Z"
   },
   {
    "duration": 178,
    "start_time": "2025-03-05T06:32:52.909Z"
   },
   {
    "duration": 220,
    "start_time": "2025-03-05T06:32:53.088Z"
   },
   {
    "duration": 550,
    "start_time": "2025-03-05T06:32:53.310Z"
   },
   {
    "duration": 654,
    "start_time": "2025-03-05T06:32:53.862Z"
   },
   {
    "duration": 230,
    "start_time": "2025-03-05T06:32:54.518Z"
   },
   {
    "duration": 152,
    "start_time": "2025-03-05T06:32:54.750Z"
   },
   {
    "duration": 20,
    "start_time": "2025-03-05T06:32:54.904Z"
   },
   {
    "duration": 244,
    "start_time": "2025-03-05T06:32:54.926Z"
   },
   {
    "duration": 718,
    "start_time": "2025-03-05T06:32:55.171Z"
   },
   {
    "duration": 404,
    "start_time": "2025-03-05T06:32:55.890Z"
   },
   {
    "duration": 4,
    "start_time": "2025-03-05T06:32:56.296Z"
   },
   {
    "duration": 33,
    "start_time": "2025-03-05T06:32:56.302Z"
   },
   {
    "duration": 14,
    "start_time": "2025-03-05T06:32:56.336Z"
   },
   {
    "duration": 78,
    "start_time": "2025-03-05T06:32:56.352Z"
   },
   {
    "duration": 8,
    "start_time": "2025-03-05T06:32:56.447Z"
   },
   {
    "duration": 173,
    "start_time": "2025-03-05T06:32:56.457Z"
   },
   {
    "duration": 171,
    "start_time": "2025-03-05T06:32:56.632Z"
   },
   {
    "duration": 216,
    "start_time": "2025-03-05T06:32:56.805Z"
   },
   {
    "duration": 153,
    "start_time": "2025-03-05T06:32:57.023Z"
   },
   {
    "duration": 250,
    "start_time": "2025-03-05T06:32:57.178Z"
   },
   {
    "duration": 65,
    "start_time": "2025-03-05T06:32:57.429Z"
   },
   {
    "duration": 11,
    "start_time": "2025-03-05T06:32:57.496Z"
   },
   {
    "duration": 8,
    "start_time": "2025-03-05T06:32:57.508Z"
   },
   {
    "duration": 33,
    "start_time": "2025-03-05T06:32:57.520Z"
   },
   {
    "duration": 6,
    "start_time": "2025-03-05T06:32:57.555Z"
   },
   {
    "duration": 7,
    "start_time": "2025-03-05T06:32:57.563Z"
   },
   {
    "duration": 6,
    "start_time": "2025-03-05T06:32:57.571Z"
   },
   {
    "duration": 14,
    "start_time": "2025-03-05T06:32:57.578Z"
   },
   {
    "duration": 3,
    "start_time": "2025-03-05T06:33:10.254Z"
   },
   {
    "duration": 931,
    "start_time": "2025-03-05T06:33:10.259Z"
   },
   {
    "duration": 537,
    "start_time": "2025-03-05T06:33:11.192Z"
   },
   {
    "duration": 43,
    "start_time": "2025-03-05T06:33:11.731Z"
   },
   {
    "duration": 168,
    "start_time": "2025-03-05T06:33:11.775Z"
   },
   {
    "duration": 2,
    "start_time": "2025-03-05T06:33:11.948Z"
   },
   {
    "duration": 571,
    "start_time": "2025-03-05T06:33:11.952Z"
   },
   {
    "duration": 621,
    "start_time": "2025-03-05T06:33:12.525Z"
   },
   {
    "duration": 223,
    "start_time": "2025-03-05T06:33:13.148Z"
   },
   {
    "duration": 151,
    "start_time": "2025-03-05T06:33:13.372Z"
   },
   {
    "duration": 30,
    "start_time": "2025-03-05T06:33:13.524Z"
   },
   {
    "duration": 242,
    "start_time": "2025-03-05T06:33:13.555Z"
   },
   {
    "duration": 648,
    "start_time": "2025-03-05T06:33:13.800Z"
   },
   {
    "duration": 17,
    "start_time": "2025-03-05T06:33:14.450Z"
   },
   {
    "duration": 21,
    "start_time": "2025-03-05T06:33:14.469Z"
   },
   {
    "duration": 43,
    "start_time": "2025-03-05T06:33:14.493Z"
   },
   {
    "duration": 9,
    "start_time": "2025-03-05T06:33:14.538Z"
   },
   {
    "duration": 111,
    "start_time": "2025-03-05T06:33:14.548Z"
   },
   {
    "duration": 9,
    "start_time": "2025-03-05T06:33:14.661Z"
   },
   {
    "duration": 173,
    "start_time": "2025-03-05T06:33:14.671Z"
   },
   {
    "duration": 229,
    "start_time": "2025-03-05T06:33:14.846Z"
   },
   {
    "duration": 145,
    "start_time": "2025-03-05T06:33:15.077Z"
   },
   {
    "duration": 145,
    "start_time": "2025-03-05T06:33:15.224Z"
   },
   {
    "duration": 249,
    "start_time": "2025-03-05T06:33:15.372Z"
   },
   {
    "duration": 67,
    "start_time": "2025-03-05T06:33:15.622Z"
   },
   {
    "duration": 3,
    "start_time": "2025-03-05T06:33:15.690Z"
   },
   {
    "duration": 15,
    "start_time": "2025-03-05T06:33:15.694Z"
   },
   {
    "duration": 36,
    "start_time": "2025-03-05T06:33:15.711Z"
   },
   {
    "duration": 6,
    "start_time": "2025-03-05T06:33:15.751Z"
   },
   {
    "duration": 20,
    "start_time": "2025-03-05T06:33:15.759Z"
   },
   {
    "duration": 15,
    "start_time": "2025-03-05T06:33:15.781Z"
   },
   {
    "duration": 10,
    "start_time": "2025-03-05T06:33:15.798Z"
   },
   {
    "duration": 426,
    "start_time": "2025-03-05T06:33:43.437Z"
   },
   {
    "duration": 991,
    "start_time": "2025-03-05T06:33:43.865Z"
   },
   {
    "duration": 560,
    "start_time": "2025-03-05T06:33:44.857Z"
   },
   {
    "duration": 45,
    "start_time": "2025-03-05T06:33:45.418Z"
   },
   {
    "duration": 224,
    "start_time": "2025-03-05T06:33:45.465Z"
   },
   {
    "duration": 265,
    "start_time": "2025-03-05T06:33:45.690Z"
   },
   {
    "duration": 549,
    "start_time": "2025-03-05T06:33:45.956Z"
   },
   {
    "duration": 632,
    "start_time": "2025-03-05T06:33:46.507Z"
   },
   {
    "duration": 233,
    "start_time": "2025-03-05T06:33:47.148Z"
   },
   {
    "duration": 167,
    "start_time": "2025-03-05T06:33:47.383Z"
   },
   {
    "duration": 22,
    "start_time": "2025-03-05T06:33:47.552Z"
   },
   {
    "duration": 251,
    "start_time": "2025-03-05T06:33:47.576Z"
   },
   {
    "duration": 724,
    "start_time": "2025-03-05T06:33:47.829Z"
   },
   {
    "duration": 426,
    "start_time": "2025-03-05T06:33:48.556Z"
   },
   {
    "duration": 5,
    "start_time": "2025-03-05T06:33:48.984Z"
   },
   {
    "duration": 87,
    "start_time": "2025-03-05T06:33:48.990Z"
   },
   {
    "duration": 8,
    "start_time": "2025-03-05T06:33:49.078Z"
   },
   {
    "duration": 78,
    "start_time": "2025-03-05T06:33:49.088Z"
   },
   {
    "duration": 8,
    "start_time": "2025-03-05T06:33:49.168Z"
   },
   {
    "duration": 261,
    "start_time": "2025-03-05T06:33:49.177Z"
   },
   {
    "duration": 169,
    "start_time": "2025-03-05T06:33:49.440Z"
   },
   {
    "duration": 211,
    "start_time": "2025-03-05T06:33:49.611Z"
   },
   {
    "duration": 146,
    "start_time": "2025-03-05T06:33:49.824Z"
   },
   {
    "duration": 248,
    "start_time": "2025-03-05T06:33:49.972Z"
   },
   {
    "duration": 66,
    "start_time": "2025-03-05T06:33:50.222Z"
   },
   {
    "duration": 2,
    "start_time": "2025-03-05T06:33:50.290Z"
   },
   {
    "duration": 10,
    "start_time": "2025-03-05T06:33:50.294Z"
   },
   {
    "duration": 28,
    "start_time": "2025-03-05T06:33:50.306Z"
   },
   {
    "duration": 24,
    "start_time": "2025-03-05T06:33:50.335Z"
   },
   {
    "duration": 10,
    "start_time": "2025-03-05T06:33:50.361Z"
   },
   {
    "duration": 20,
    "start_time": "2025-03-05T06:33:50.373Z"
   },
   {
    "duration": 14,
    "start_time": "2025-03-05T06:33:50.394Z"
   },
   {
    "duration": 403,
    "start_time": "2025-03-05T13:56:55.304Z"
   },
   {
    "duration": 1131,
    "start_time": "2025-03-05T13:56:55.709Z"
   },
   {
    "duration": 614,
    "start_time": "2025-03-05T13:56:56.841Z"
   },
   {
    "duration": 48,
    "start_time": "2025-03-05T13:56:57.456Z"
   },
   {
    "duration": 212,
    "start_time": "2025-03-05T13:56:57.506Z"
   },
   {
    "duration": 261,
    "start_time": "2025-03-05T13:56:57.719Z"
   },
   {
    "duration": 617,
    "start_time": "2025-03-05T13:56:57.982Z"
   },
   {
    "duration": 726,
    "start_time": "2025-03-05T13:56:58.600Z"
   },
   {
    "duration": 281,
    "start_time": "2025-03-05T13:56:59.327Z"
   },
   {
    "duration": 181,
    "start_time": "2025-03-05T13:56:59.610Z"
   },
   {
    "duration": 23,
    "start_time": "2025-03-05T13:56:59.792Z"
   },
   {
    "duration": 283,
    "start_time": "2025-03-05T13:56:59.816Z"
   },
   {
    "duration": 751,
    "start_time": "2025-03-05T13:57:00.101Z"
   },
   {
    "duration": 665,
    "start_time": "2025-03-05T13:57:00.855Z"
   },
   {
    "duration": 6,
    "start_time": "2025-03-05T13:57:01.576Z"
   },
   {
    "duration": 108,
    "start_time": "2025-03-05T13:57:01.583Z"
   },
   {
    "duration": 9,
    "start_time": "2025-03-05T13:57:01.692Z"
   },
   {
    "duration": 214,
    "start_time": "2025-03-05T13:57:01.703Z"
   },
   {
    "duration": 8,
    "start_time": "2025-03-05T13:57:01.974Z"
   },
   {
    "duration": 409,
    "start_time": "2025-03-05T13:57:01.984Z"
   },
   {
    "duration": 297,
    "start_time": "2025-03-05T13:57:02.394Z"
   },
   {
    "duration": 220,
    "start_time": "2025-03-05T13:57:02.692Z"
   },
   {
    "duration": 179,
    "start_time": "2025-03-05T13:57:02.914Z"
   },
   {
    "duration": 281,
    "start_time": "2025-03-05T13:57:03.094Z"
   },
   {
    "duration": 73,
    "start_time": "2025-03-05T13:57:03.377Z"
   },
   {
    "duration": 3,
    "start_time": "2025-03-05T13:57:03.451Z"
   },
   {
    "duration": 35,
    "start_time": "2025-03-05T13:57:03.455Z"
   },
   {
    "duration": 38,
    "start_time": "2025-03-05T13:57:03.491Z"
   },
   {
    "duration": 6,
    "start_time": "2025-03-05T13:57:03.531Z"
   },
   {
    "duration": 12,
    "start_time": "2025-03-05T13:57:03.539Z"
   },
   {
    "duration": 24,
    "start_time": "2025-03-05T13:57:03.553Z"
   },
   {
    "duration": 18,
    "start_time": "2025-03-05T13:57:03.579Z"
   }
  ],
  "colab": {
   "provenance": []
  },
  "kernelspec": {
   "display_name": "Python 3 (ipykernel)",
   "language": "python",
   "name": "python3"
  },
  "language_info": {
   "codemirror_mode": {
    "name": "ipython",
    "version": 3
   },
   "file_extension": ".py",
   "mimetype": "text/x-python",
   "name": "python",
   "nbconvert_exporter": "python",
   "pygments_lexer": "ipython3",
   "version": "3.9.7"
  },
  "toc": {
   "base_numbering": 1,
   "nav_menu": {},
   "number_sections": true,
   "sideBar": true,
   "skip_h1_title": true,
   "title_cell": "Table of Contents",
   "title_sidebar": "Contents",
   "toc_cell": false,
   "toc_position": {
    "height": "calc(100% - 180px)",
    "left": "10px",
    "top": "150px",
    "width": "402.352936px"
   },
   "toc_section_display": true,
   "toc_window_display": true
  }
 },
 "nbformat": 4,
 "nbformat_minor": 1
}
