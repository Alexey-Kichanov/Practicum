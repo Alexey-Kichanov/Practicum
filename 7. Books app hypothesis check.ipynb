{
 "cells": [
  {
   "cell_type": "markdown",
   "id": "e06910dd",
   "metadata": {
    "id": "e06910dd"
   },
   "source": [
    "# Анализ вовлеченности пользователей в приложение\n",
    "\n"
   ]
  },
  {
   "cell_type": "markdown",
   "id": "4149134c",
   "metadata": {
    "id": "4149134c"
   },
   "source": [
    "## Цели и задачи проекта\n",
    "\n"
   ]
  },
  {
   "cell_type": "markdown",
   "id": "635a395c",
   "metadata": {},
   "source": [
    "**Целью** проекта является выявление различия между вовлеченностью пользователей сервиса в Мосвке и Санкт-Петербурге. **Задача** - провести статистический тест на различие среднего времени прослушивания и чтения книг у пользователей двух городов."
   ]
  },
  {
   "cell_type": "markdown",
   "id": "728986ea",
   "metadata": {
    "id": "728986ea"
   },
   "source": [
    "## Описание данных\n",
    "\n"
   ]
  },
  {
   "cell_type": "markdown",
   "id": "2552ca1d",
   "metadata": {},
   "source": [
    "В данных представлена информация о пользователях и их суммарной длительности чтения и прослушивания книг в часах. Для эксеримента были отобраны пользователи из Москвы и Санкт-Петербурга."
   ]
  },
  {
   "cell_type": "markdown",
   "id": "4fecaf95",
   "metadata": {
    "id": "4fecaf95"
   },
   "source": [
    "## Содержимое проекта\n",
    "\n"
   ]
  },
  {
   "cell_type": "markdown",
   "id": "11ccd7c4",
   "metadata": {},
   "source": [
    "1. Загрузка и первичный анализ данных\n",
    "2. Проверка качества данных для проведения эксперимента\n",
    "3. Проверка гипотезы эксперимента\n",
    "4. Анализ результатов и составление выводов"
   ]
  },
  {
   "cell_type": "markdown",
   "id": "6f7d21d6",
   "metadata": {
    "id": "6f7d21d6"
   },
   "source": [
    "## 1. Загрузка данных и знакомство с ними\n",
    "\n",
    "Загрузим данные пользователей из Москвы и Санкт-Петербурга c их активностью (суммой часов чтения и прослушивания) из файла `/datasets/yandex_knigi_data.csv`."
   ]
  },
  {
   "cell_type": "code",
   "execution_count": 3,
   "id": "f68a7419",
   "metadata": {
    "id": "f68a7419"
   },
   "outputs": [],
   "source": [
    "import pandas as pd\n",
    "import matplotlib.pyplot as plt\n",
    "import seaborn as sns\n",
    "from scipy.stats import ttest_ind"
   ]
  },
  {
   "cell_type": "code",
   "execution_count": 4,
   "id": "b978f0a7",
   "metadata": {},
   "outputs": [],
   "source": [
    "df = pd.read_csv('/datasets/yandex_knigi_data.csv')"
   ]
  },
  {
   "cell_type": "code",
   "execution_count": 5,
   "id": "a6a7f8f5",
   "metadata": {},
   "outputs": [
    {
     "name": "stdout",
     "output_type": "stream",
     "text": [
      "<class 'pandas.core.frame.DataFrame'>\n",
      "RangeIndex: 8784 entries, 0 to 8783\n",
      "Data columns (total 4 columns):\n",
      " #   Column      Non-Null Count  Dtype  \n",
      "---  ------      --------------  -----  \n",
      " 0   Unnamed: 0  8784 non-null   int64  \n",
      " 1   city        8784 non-null   object \n",
      " 2   puid        8784 non-null   int64  \n",
      " 3   hours       8784 non-null   float64\n",
      "dtypes: float64(1), int64(2), object(1)\n",
      "memory usage: 274.6+ KB\n"
     ]
    },
    {
     "data": {
      "text/plain": [
       "None"
      ]
     },
     "metadata": {},
     "output_type": "display_data"
    },
    {
     "data": {
      "text/html": [
       "<div>\n",
       "<style scoped>\n",
       "    .dataframe tbody tr th:only-of-type {\n",
       "        vertical-align: middle;\n",
       "    }\n",
       "\n",
       "    .dataframe tbody tr th {\n",
       "        vertical-align: top;\n",
       "    }\n",
       "\n",
       "    .dataframe thead th {\n",
       "        text-align: right;\n",
       "    }\n",
       "</style>\n",
       "<table border=\"1\" class=\"dataframe\">\n",
       "  <thead>\n",
       "    <tr style=\"text-align: right;\">\n",
       "      <th></th>\n",
       "      <th>Unnamed: 0</th>\n",
       "      <th>city</th>\n",
       "      <th>puid</th>\n",
       "      <th>hours</th>\n",
       "    </tr>\n",
       "  </thead>\n",
       "  <tbody>\n",
       "    <tr>\n",
       "      <th>0</th>\n",
       "      <td>0</td>\n",
       "      <td>Москва</td>\n",
       "      <td>9668</td>\n",
       "      <td>26.167776</td>\n",
       "    </tr>\n",
       "    <tr>\n",
       "      <th>1</th>\n",
       "      <td>1</td>\n",
       "      <td>Москва</td>\n",
       "      <td>16598</td>\n",
       "      <td>82.111217</td>\n",
       "    </tr>\n",
       "    <tr>\n",
       "      <th>2</th>\n",
       "      <td>2</td>\n",
       "      <td>Москва</td>\n",
       "      <td>80401</td>\n",
       "      <td>4.656906</td>\n",
       "    </tr>\n",
       "    <tr>\n",
       "      <th>3</th>\n",
       "      <td>3</td>\n",
       "      <td>Москва</td>\n",
       "      <td>140205</td>\n",
       "      <td>1.840556</td>\n",
       "    </tr>\n",
       "    <tr>\n",
       "      <th>4</th>\n",
       "      <td>4</td>\n",
       "      <td>Москва</td>\n",
       "      <td>248755</td>\n",
       "      <td>151.326434</td>\n",
       "    </tr>\n",
       "  </tbody>\n",
       "</table>\n",
       "</div>"
      ],
      "text/plain": [
       "   Unnamed: 0    city    puid       hours\n",
       "0           0  Москва    9668   26.167776\n",
       "1           1  Москва   16598   82.111217\n",
       "2           2  Москва   80401    4.656906\n",
       "3           3  Москва  140205    1.840556\n",
       "4           4  Москва  248755  151.326434"
      ]
     },
     "execution_count": 5,
     "metadata": {},
     "output_type": "execute_result"
    }
   ],
   "source": [
    "display(df.info())\n",
    "df.head()"
   ]
  },
  {
   "cell_type": "markdown",
   "id": "8fff6835",
   "metadata": {},
   "source": [
    "В данных содержится **8 784** наблюдения и представлены 4 переменные: `Unnamed: 0` - дублирует индекс строки, `city` - название города, в котором находится пользователь, `puid` - идентификатор пользователя, `hours` - суммарное количество прослушанных/прочитанных часов пользователя. Пропуски в данных отсутствуют."
   ]
  },
  {
   "cell_type": "markdown",
   "id": "c36e5720",
   "metadata": {},
   "source": [
    "### Проверим необходимые условия для проведения теста:"
   ]
  },
  {
   "cell_type": "code",
   "execution_count": 6,
   "id": "57dcbb64",
   "metadata": {},
   "outputs": [
    {
     "name": "stdout",
     "output_type": "stream",
     "text": [
      " Количество наблюдений в Москве составляет: 6234\n",
      " Количество наблюдений в Санкт-Петербурге составляет: 2550\n"
     ]
    }
   ],
   "source": [
    "#Сопоставимость групп:\n",
    "shape_M = df[df['city'] == 'Москва'].shape[0]\n",
    "shape_SP = df[df['city'] == 'Санкт-Петербург'].shape[0]\n",
    "print(f' Количество наблюдений в Москве составляет: {shape_M}')\n",
    "print(f' Количество наблюдений в Санкт-Петербурге составляет: {shape_SP}')"
   ]
  },
  {
   "cell_type": "markdown",
   "id": "5634b524",
   "metadata": {},
   "source": [
    "В Москве наблюдений больше в два раза, однако количества данных в наименьшей группе достаточно для качественного теста."
   ]
  },
  {
   "cell_type": "code",
   "execution_count": 7,
   "id": "4341d022",
   "metadata": {},
   "outputs": [
    {
     "name": "stdout",
     "output_type": "stream",
     "text": [
      "Разница между средними: 0.71159871356822\n",
      "Необходимый размер выборки для каждой группы: 42099\n"
     ]
    }
   ],
   "source": [
    "from statsmodels.stats.power import NormalIndPower\n",
    "\n",
    "# Задаём параметры\n",
    "alpha = 0.05  # Уровень значимости\n",
    "beta = 0.2 # Ошибка второго рода, часто 1 - мощность\n",
    "power = 1-beta  # Мощность теста\n",
    "mde = abs(df[df['city'] == 'Москва']['hours'].mean() - df[df['city'] == 'Санкт-Петербург']['hours'].mean()) /\\\n",
    "        df[df['city'] == 'Москва']['hours'].std()  # Минимальный детектируемый эффект\n",
    "\n",
    "# Инициализируем класс NormalIndPower\n",
    "power_analysis = NormalIndPower()\n",
    "\n",
    "# Рассчитываем размер выборки\n",
    "sample_size = power_analysis.solve_power(\n",
    "    effect_size = mde,\n",
    "    power = power,\n",
    "    alpha = alpha,\n",
    "    ratio = 1 # Равномерное распределение выборок\n",
    ")\n",
    "print(f\"Разница между средними: {(abs(df[df['city'] == 'Москва']['hours'].mean() - df[df['city'] == 'Санкт-Петербург']['hours'].mean()))}\")\n",
    "print(f\"Необходимый размер выборки для каждой группы: {int(sample_size)}\")"
   ]
  },
  {
   "cell_type": "code",
   "execution_count": 8,
   "id": "df3cfa31",
   "metadata": {},
   "outputs": [
    {
     "data": {
      "text/html": [
       "<div>\n",
       "<style scoped>\n",
       "    .dataframe tbody tr th:only-of-type {\n",
       "        vertical-align: middle;\n",
       "    }\n",
       "\n",
       "    .dataframe tbody tr th {\n",
       "        vertical-align: top;\n",
       "    }\n",
       "\n",
       "    .dataframe thead th {\n",
       "        text-align: right;\n",
       "    }\n",
       "</style>\n",
       "<table border=\"1\" class=\"dataframe\">\n",
       "  <thead>\n",
       "    <tr style=\"text-align: right;\">\n",
       "      <th></th>\n",
       "      <th>puid</th>\n",
       "      <th>city</th>\n",
       "    </tr>\n",
       "  </thead>\n",
       "  <tbody>\n",
       "    <tr>\n",
       "      <th>48</th>\n",
       "      <td>2637041</td>\n",
       "      <td>2</td>\n",
       "    </tr>\n",
       "    <tr>\n",
       "      <th>173</th>\n",
       "      <td>9979490</td>\n",
       "      <td>2</td>\n",
       "    </tr>\n",
       "    <tr>\n",
       "      <th>188</th>\n",
       "      <td>10597984</td>\n",
       "      <td>2</td>\n",
       "    </tr>\n",
       "    <tr>\n",
       "      <th>196</th>\n",
       "      <td>10815097</td>\n",
       "      <td>2</td>\n",
       "    </tr>\n",
       "    <tr>\n",
       "      <th>249</th>\n",
       "      <td>13626259</td>\n",
       "      <td>2</td>\n",
       "    </tr>\n",
       "    <tr>\n",
       "      <th>...</th>\n",
       "      <td>...</td>\n",
       "      <td>...</td>\n",
       "    </tr>\n",
       "    <tr>\n",
       "      <th>8488</th>\n",
       "      <td>1130000018516717</td>\n",
       "      <td>2</td>\n",
       "    </tr>\n",
       "    <tr>\n",
       "      <th>8490</th>\n",
       "      <td>1130000018954257</td>\n",
       "      <td>2</td>\n",
       "    </tr>\n",
       "    <tr>\n",
       "      <th>8493</th>\n",
       "      <td>1130000020425037</td>\n",
       "      <td>2</td>\n",
       "    </tr>\n",
       "    <tr>\n",
       "      <th>8501</th>\n",
       "      <td>1130000023864516</td>\n",
       "      <td>2</td>\n",
       "    </tr>\n",
       "    <tr>\n",
       "      <th>8512</th>\n",
       "      <td>1130000028554332</td>\n",
       "      <td>2</td>\n",
       "    </tr>\n",
       "  </tbody>\n",
       "</table>\n",
       "<p>244 rows × 2 columns</p>\n",
       "</div>"
      ],
      "text/plain": [
       "                  puid  city\n",
       "48             2637041     2\n",
       "173            9979490     2\n",
       "188           10597984     2\n",
       "196           10815097     2\n",
       "249           13626259     2\n",
       "...                ...   ...\n",
       "8488  1130000018516717     2\n",
       "8490  1130000018954257     2\n",
       "8493  1130000020425037     2\n",
       "8501  1130000023864516     2\n",
       "8512  1130000028554332     2\n",
       "\n",
       "[244 rows x 2 columns]"
      ]
     },
     "metadata": {},
     "output_type": "display_data"
    }
   ],
   "source": [
    "#Независимость наблюдений\n",
    "df_city_check = df.groupby('puid')['city'].nunique().reset_index()\n",
    "df_more_than_one_city = df_city_check[df_city_check['city'] > 1]\n",
    "display(df_more_than_one_city)"
   ]
  },
  {
   "cell_type": "markdown",
   "id": "5de673f6",
   "metadata": {},
   "source": [
    "244 пользователя присутствуют в обеих выборках, для чистоты эксперимента удалим эти данные:"
   ]
  },
  {
   "cell_type": "code",
   "execution_count": 9,
   "id": "9e420a00",
   "metadata": {},
   "outputs": [
    {
     "data": {
      "text/plain": [
       "8296"
      ]
     },
     "execution_count": 9,
     "metadata": {},
     "output_type": "execute_result"
    }
   ],
   "source": [
    "df_cleaned = df[~df['puid'].isin(df_more_than_one_city['puid'])]\n",
    "df_cleaned.shape[0]"
   ]
  },
  {
   "cell_type": "code",
   "execution_count": 10,
   "id": "b15323b2",
   "metadata": {},
   "outputs": [
    {
     "data": {
      "text/plain": [
       "0"
      ]
     },
     "execution_count": 10,
     "metadata": {},
     "output_type": "execute_result"
    }
   ],
   "source": [
    "df_cleaned.duplicated().sum()"
   ]
  },
  {
   "cell_type": "code",
   "execution_count": 11,
   "id": "01dd2c10",
   "metadata": {},
   "outputs": [
    {
     "data": {
      "image/png": "[encoded data removed]",
      "text/plain": [
       "<Figure size 576x360 with 1 Axes>"
      ]
     },
     "metadata": {
      "needs_background": "light"
     },
     "output_type": "display_data"
    }
   ],
   "source": [
    "#Равномерность распределения\n",
    "\n",
    "plt.figure(figsize=(8, 5))\n",
    "sns.histplot(data=df_cleaned, x='hours', hue='city', bins=50, kde=True, palette='Set1', alpha=0.5)\n",
    "\n",
    "plt.title('Распределение времени, проведенного пользователями в сервисе по городам')\n",
    "plt.xlabel('Количество часов')\n",
    "plt.ylabel('Частота')\n",
    "\n",
    "plt.show()"
   ]
  },
  {
   "cell_type": "code",
   "execution_count": 12,
   "id": "66abb8bf",
   "metadata": {},
   "outputs": [
    {
     "data": {
      "text/plain": [
       "857.2093727777777"
      ]
     },
     "metadata": {},
     "output_type": "display_data"
    },
    {
     "data": {
      "text/plain": [
       "978.7647747474748"
      ]
     },
     "metadata": {},
     "output_type": "display_data"
    }
   ],
   "source": [
    "display(df_cleaned[df_cleaned['city'] == 'Москва']['hours'].max())\n",
    "display(df_cleaned[df_cleaned['city'] == 'Санкт-Петербург']['hours'].max())"
   ]
  },
  {
   "cell_type": "markdown",
   "id": "64d5175f",
   "metadata": {},
   "source": [
    "В данных присутствуют аномально большие значения, которые могут исказить результаты теста, исключим их из анализа"
   ]
  },
  {
   "cell_type": "code",
   "execution_count": 13,
   "id": "31ee7c58",
   "metadata": {},
   "outputs": [],
   "source": [
    "df_final = df_cleaned[df_cleaned['hours'] <= df_cleaned['hours'].quantile(0.99)]"
   ]
  },
  {
   "cell_type": "code",
   "execution_count": 15,
   "id": "6cd2a1a9",
   "metadata": {},
   "outputs": [
    {
     "name": "stdout",
     "output_type": "stream",
     "text": [
      "Разница между средними: 0.3129370114961123\n",
      "Необходимый размер выборки для каждой группы: 62424\n"
     ]
    }
   ],
   "source": [
    "from statsmodels.stats.power import NormalIndPower\n",
    "\n",
    "# Задаём параметры\n",
    "alpha = 0.05  # Уровень значимости\n",
    "beta = 0.2 # Ошибка второго рода, часто 1 - мощность\n",
    "power = 1-beta  # Мощность теста\n",
    "mde = abs(df_final[df_final['city'] == 'Москва']['hours'].mean() - df_final[df_final['city'] == 'Санкт-Петербург']['hours'].mean()) /\\\n",
    "        df_final[df_final['city'] == 'Москва']['hours'].std()  # Минимальный детектируемый эффект\n",
    "\n",
    "# Инициализируем класс NormalIndPower\n",
    "power_analysis = NormalIndPower()\n",
    "\n",
    "# Рассчитываем размер выборки\n",
    "sample_size = power_analysis.solve_power(\n",
    "    effect_size = mde,\n",
    "    power = power,\n",
    "    alpha = alpha,\n",
    "    ratio = 1 # Равномерное распределение выборок\n",
    ")\n",
    "print(f\"Разница между средними: {(abs(df_final[df_final['city'] == 'Москва']['hours'].mean() - df_final[df_final['city'] == 'Санкт-Петербург']['hours'].mean()))}\")\n",
    "\n",
    "print(f\"Необходимый размер выборки для каждой группы: {int(sample_size)}\")"
   ]
  },
  {
   "cell_type": "markdown",
   "id": "f98263c0",
   "metadata": {},
   "source": [
    "Поскольку выбросы были отфильтрованы, разница между средними стала еще меньше, а следовательно увеличился размер выборки. Это уравнение можно решить относительно мощности теста:\n"
   ]
  },
  {
   "cell_type": "code",
   "execution_count": 16,
   "id": "79bd8ffd",
   "metadata": {},
   "outputs": [
    {
     "name": "stdout",
     "output_type": "stream",
     "text": [
      "Разница между средними: 0.3129370114961123\n",
      "Мощность критерия: 0.09868795771344482\n"
     ]
    }
   ],
   "source": [
    "from statsmodels.stats.power import NormalIndPower\n",
    "\n",
    "# Задаём параметры\n",
    "alpha = 0.05  # Уровень значимости\n",
    "mde = abs(df_final[df_final['city'] == 'Москва']['hours'].mean() - df_final[df_final['city'] == 'Санкт-Петербург']['hours'].mean()) /\\\n",
    "        df_final[df_final['city'] == 'Москва']['hours'].std()  # Минимальный детектируемый эффект\n",
    "\n",
    "# Инициализируем класс NormalIndPower\n",
    "power_analysis = NormalIndPower()\n",
    "\n",
    "# Рассчитываем размер выборки\n",
    "power = power_analysis.power(\n",
    "    effect_size = mde,\n",
    "    nobs1 = df_final[df_final['city'] == 'Москва']['hours'].count(),\n",
    "    alpha = alpha,\n",
    "    ratio = df_final[df_final['city'] == 'Санкт-Петербург']['hours'].count() / df_final[df_final['city'] == 'Москва']['hours'].count()\n",
    ")\n",
    "\n",
    "print(f\"Разница между средними: {(abs(df_final[df_final['city'] == 'Москва']['hours'].mean() - df_final[df_final['city'] == 'Санкт-Петербург']['hours'].mean()))}\")\n",
    "print(f\"Мощность критерия: {power}\")"
   ]
  },
  {
   "cell_type": "markdown",
   "id": "c793b8fc",
   "metadata": {},
   "source": [
    "Результаты показывают, что мощность теста будет около 0.1. Т.е. вероятность правильно отвергнуть нулевую гипотезу, когда она неверна всего 10%."
   ]
  },
  {
   "cell_type": "code",
   "execution_count": 17,
   "id": "0df5d879",
   "metadata": {},
   "outputs": [
    {
     "data": {
      "image/png": "[encoded data removed]",
      "text/plain": [
       "<Figure size 576x360 with 1 Axes>"
      ]
     },
     "metadata": {
      "needs_background": "light"
     },
     "output_type": "display_data"
    }
   ],
   "source": [
    "plt.figure(figsize=(8, 5))\n",
    "sns.histplot(data=df_final, x='hours', hue='city', bins=50, kde=True, palette='Set1', alpha=0.5)\n",
    "\n",
    "plt.title('Распределение времени, проведенного пользователями в сервисе по городам')\n",
    "plt.xlabel('Количество часов')\n",
    "plt.ylabel('Частота')\n",
    "\n",
    "plt.show()"
   ]
  },
  {
   "cell_type": "markdown",
   "id": "a131cc78",
   "metadata": {},
   "source": [
    "Распределения одинаково смещены влево со средним значением, стремящемся к нулю, поэтому можно предположить, что присутствует нормальность выборочного среднего."
   ]
  },
  {
   "cell_type": "markdown",
   "id": "956e82e2",
   "metadata": {
    "id": "956e82e2"
   },
   "source": [
    "## 2. Проверка гипотезы в Python\n",
    "\n",
    "Гипотеза звучит так: пользователи из Санкт-Петербурга проводят в среднем больше времени за чтением и прослушиванием книг в приложении, чем пользователи из Москвы.\n",
    "\n",
    "- Нулевая гипотеза H₀: Средняя активность пользователей в часах в двух группах (Москва и Санкт-Петербург) не различается.\n",
    "\n",
    "- Альтернативная гипотеза H₁: Средняя активность пользователей в Санкт-Петербурге больше, и это различие статистически значимо."
   ]
  },
  {
   "cell_type": "code",
   "execution_count": 18,
   "id": "67956690",
   "metadata": {
    "id": "67956690"
   },
   "outputs": [
    {
     "name": "stdout",
     "output_type": "stream",
     "text": [
      "pvalue=0.2597525573920996 > 0.05\n",
      "Не получилось отвергнуть нулевую гипотезу\n"
     ]
    }
   ],
   "source": [
    "# Для проверки различий используем тест Уэлча\n",
    "df_M = df_final[df_final['city'] == 'Москва']['hours']\n",
    "df_SPb = df_final[df_final['city'] == 'Санкт-Петербург']['hours']\n",
    "\n",
    "test_result, test_pvalue = ttest_ind(\n",
    "df_M,\n",
    "df_SPb,\n",
    "equal_var = False,\n",
    "alternative='less'\n",
    ")\n",
    "\n",
    "alpha = 0.05\n",
    "\n",
    "if test_pvalue > alpha:\n",
    "    print(f'pvalue={test_pvalue} > {alpha}')\n",
    "    print('Не получилось отвергнуть нулевую гипотезу')\n",
    "else:\n",
    "    print(f'pvalue={test_pvalue} < {alpha}')\n",
    "    print('Отвергаем нулевую гипотезу')"
   ]
  },
  {
   "cell_type": "markdown",
   "id": "fb5c13b2",
   "metadata": {},
   "source": [
    "Тесту не удалось опровергнуть нулевую гипотезу, это значит, что у нас недостаточно оснований полагать, что между городами существует статистически значимая разница в среднем показателе активности пользователей."
   ]
  },
  {
   "cell_type": "markdown",
   "id": "6953e84c",
   "metadata": {
    "id": "6953e84c"
   },
   "source": [
    "## 3. Аналитическая записка\n"
   ]
  },
  {
   "cell_type": "markdown",
   "id": "ed7cacb8",
   "metadata": {},
   "source": [
    "- В данном эксперименте для проверки гипотез был выбран **t-тест Уэлча** с уровнем значимости **5%**;\n",
    "- **p-value** теста получился равным **0.26**, что больше заданного уровня значимости;\n",
    "- На основе полученного значения p-value мы **не смогли отвергнуть нулевую гипотезу**, а значит не смогли доказать, что средняя активность пользователей в Санкт-Петербурге больше, чем в Москве.\n",
    "- На результат могла повлиять **разница в количестве наблюдений для городов**, также в данных присутствуют **аномально большие значения** даже после отсечения данных, превышающих 99 процентиль. Поэтому для сглаживания выбросов и более равномерного распределения данных между группами понадобится большее количество наблюдений, что положительно скажется на качестве эксперимента."
   ]
  }
 ],
 "metadata": {
  "ExecuteTimeLog": [
   {
    "duration": 412,
    "start_time": "2025-03-11T09:20:05.478Z"
   },
   {
    "duration": 4,
    "start_time": "2025-03-11T09:32:31.308Z"
   },
   {
    "duration": 968,
    "start_time": "2025-03-11T09:33:45.173Z"
   },
   {
    "duration": 66,
    "start_time": "2025-03-11T09:33:53.973Z"
   },
   {
    "duration": 24,
    "start_time": "2025-03-11T09:34:27.622Z"
   },
   {
    "duration": 81,
    "start_time": "2025-03-11T10:02:06.286Z"
   },
   {
    "duration": 154,
    "start_time": "2025-03-11T10:03:51.758Z"
   },
   {
    "duration": 8,
    "start_time": "2025-03-11T10:05:57.344Z"
   },
   {
    "duration": 8,
    "start_time": "2025-03-11T10:09:56.969Z"
   },
   {
    "duration": 7,
    "start_time": "2025-03-11T10:10:33.186Z"
   },
   {
    "duration": 6,
    "start_time": "2025-03-11T10:14:49.585Z"
   },
   {
    "duration": 2,
    "start_time": "2025-03-11T10:18:09.431Z"
   },
   {
    "duration": 5,
    "start_time": "2025-03-11T10:18:50.404Z"
   },
   {
    "duration": 1002,
    "start_time": "2025-03-11T10:22:20.390Z"
   },
   {
    "duration": 891,
    "start_time": "2025-03-11T10:22:47.637Z"
   },
   {
    "duration": 15,
    "start_time": "2025-03-11T10:24:40.647Z"
   },
   {
    "duration": 13,
    "start_time": "2025-03-11T10:27:15.030Z"
   },
   {
    "duration": 14,
    "start_time": "2025-03-11T10:40:14.737Z"
   },
   {
    "duration": 287,
    "start_time": "2025-03-11T10:40:29.678Z"
   },
   {
    "duration": 10,
    "start_time": "2025-03-11T10:40:54.086Z"
   },
   {
    "duration": 6,
    "start_time": "2025-03-11T10:42:31.384Z"
   },
   {
    "duration": 7,
    "start_time": "2025-03-11T10:43:46.615Z"
   },
   {
    "duration": 2,
    "start_time": "2025-03-11T10:45:58.370Z"
   },
   {
    "duration": 151010,
    "start_time": "2025-03-11T10:53:59.332Z"
   },
   {
    "duration": 13403,
    "start_time": "2025-03-11T11:42:45.822Z"
   },
   {
    "duration": 67,
    "start_time": "2025-03-11T11:46:06.525Z"
   },
   {
    "duration": 240,
    "start_time": "2025-03-11T11:46:11.150Z"
   },
   {
    "duration": 359,
    "start_time": "2025-03-11T11:46:30.300Z"
   },
   {
    "duration": 528,
    "start_time": "2025-03-11T11:46:45.803Z"
   },
   {
    "duration": 2317,
    "start_time": "2025-03-11T11:47:06.774Z"
   },
   {
    "duration": 927,
    "start_time": "2025-03-11T11:47:27.029Z"
   },
   {
    "duration": 396,
    "start_time": "2025-03-11T11:47:33.414Z"
   },
   {
    "duration": 7,
    "start_time": "2025-03-11T11:49:12.293Z"
   },
   {
    "duration": 8,
    "start_time": "2025-03-11T11:49:27.515Z"
   },
   {
    "duration": 7,
    "start_time": "2025-03-11T11:50:04.539Z"
   },
   {
    "duration": 6,
    "start_time": "2025-03-11T11:50:19.892Z"
   },
   {
    "duration": 9,
    "start_time": "2025-03-11T11:54:06.559Z"
   },
   {
    "duration": 9,
    "start_time": "2025-03-11T11:54:34.078Z"
   },
   {
    "duration": 6,
    "start_time": "2025-03-11T11:56:17.110Z"
   },
   {
    "duration": 6,
    "start_time": "2025-03-11T11:57:30.763Z"
   },
   {
    "duration": 372,
    "start_time": "2025-03-11T11:59:02.546Z"
   },
   {
    "duration": 4,
    "start_time": "2025-03-11T12:14:46.409Z"
   },
   {
    "duration": 10,
    "start_time": "2025-03-11T12:14:46.415Z"
   },
   {
    "duration": 1172,
    "start_time": "2025-03-11T12:14:46.427Z"
   },
   {
    "duration": 34,
    "start_time": "2025-03-11T12:14:47.601Z"
   },
   {
    "duration": 20,
    "start_time": "2025-03-11T12:14:47.637Z"
   },
   {
    "duration": 53,
    "start_time": "2025-03-11T12:14:47.659Z"
   },
   {
    "duration": 31,
    "start_time": "2025-03-11T12:14:47.713Z"
   },
   {
    "duration": 6,
    "start_time": "2025-03-11T12:14:47.746Z"
   },
   {
    "duration": 11,
    "start_time": "2025-03-11T12:14:47.753Z"
   },
   {
    "duration": 375,
    "start_time": "2025-03-11T12:14:47.766Z"
   },
   {
    "duration": 16,
    "start_time": "2025-03-11T12:14:48.143Z"
   },
   {
    "duration": 23,
    "start_time": "2025-03-11T12:14:48.160Z"
   },
   {
    "duration": 426,
    "start_time": "2025-03-11T12:14:48.184Z"
   },
   {
    "duration": 77,
    "start_time": "2025-03-11T12:20:55.542Z"
   },
   {
    "duration": 101,
    "start_time": "2025-03-11T12:21:01.574Z"
   },
   {
    "duration": 3,
    "start_time": "2025-03-11T12:22:00.398Z"
   },
   {
    "duration": 8,
    "start_time": "2025-03-11T12:22:05.601Z"
   },
   {
    "duration": 8,
    "start_time": "2025-03-11T12:22:58.576Z"
   },
   {
    "duration": 8,
    "start_time": "2025-03-11T12:23:06.102Z"
   },
   {
    "duration": 3,
    "start_time": "2025-03-11T12:32:34.700Z"
   },
   {
    "duration": 10,
    "start_time": "2025-03-11T12:32:34.706Z"
   },
   {
    "duration": 1236,
    "start_time": "2025-03-11T12:32:34.717Z"
   },
   {
    "duration": 35,
    "start_time": "2025-03-11T12:32:35.957Z"
   },
   {
    "duration": 23,
    "start_time": "2025-03-11T12:32:35.994Z"
   },
   {
    "duration": 10,
    "start_time": "2025-03-11T12:32:36.021Z"
   },
   {
    "duration": 106,
    "start_time": "2025-03-11T12:32:36.032Z"
   },
   {
    "duration": 37,
    "start_time": "2025-03-11T12:32:36.140Z"
   },
   {
    "duration": 71,
    "start_time": "2025-03-11T12:32:36.179Z"
   },
   {
    "duration": 121,
    "start_time": "2025-03-11T12:32:36.252Z"
   },
   {
    "duration": 0,
    "start_time": "2025-03-11T12:32:36.375Z"
   },
   {
    "duration": 0,
    "start_time": "2025-03-11T12:32:36.377Z"
   },
   {
    "duration": 0,
    "start_time": "2025-03-11T12:32:36.378Z"
   },
   {
    "duration": 0,
    "start_time": "2025-03-11T12:32:36.379Z"
   },
   {
    "duration": 2,
    "start_time": "2025-03-11T12:33:16.829Z"
   },
   {
    "duration": 3,
    "start_time": "2025-03-11T12:33:22.984Z"
   },
   {
    "duration": 10,
    "start_time": "2025-03-11T12:33:22.988Z"
   },
   {
    "duration": 1113,
    "start_time": "2025-03-11T12:33:22.999Z"
   },
   {
    "duration": 23,
    "start_time": "2025-03-11T12:33:24.113Z"
   },
   {
    "duration": 25,
    "start_time": "2025-03-11T12:33:24.138Z"
   },
   {
    "duration": 73,
    "start_time": "2025-03-11T12:33:24.164Z"
   },
   {
    "duration": 22,
    "start_time": "2025-03-11T12:33:24.239Z"
   },
   {
    "duration": 41,
    "start_time": "2025-03-11T12:33:24.262Z"
   },
   {
    "duration": 21,
    "start_time": "2025-03-11T12:33:24.305Z"
   },
   {
    "duration": 111,
    "start_time": "2025-03-11T12:33:24.328Z"
   },
   {
    "duration": 0,
    "start_time": "2025-03-11T12:33:24.441Z"
   },
   {
    "duration": 0,
    "start_time": "2025-03-11T12:33:24.442Z"
   },
   {
    "duration": 0,
    "start_time": "2025-03-11T12:33:24.443Z"
   },
   {
    "duration": 0,
    "start_time": "2025-03-11T12:33:24.444Z"
   },
   {
    "duration": 2,
    "start_time": "2025-03-11T12:34:22.956Z"
   },
   {
    "duration": 4,
    "start_time": "2025-03-11T12:34:29.600Z"
   },
   {
    "duration": 11,
    "start_time": "2025-03-11T12:34:29.605Z"
   },
   {
    "duration": 1147,
    "start_time": "2025-03-11T12:34:29.618Z"
   },
   {
    "duration": 24,
    "start_time": "2025-03-11T12:34:30.767Z"
   },
   {
    "duration": 21,
    "start_time": "2025-03-11T12:34:30.793Z"
   },
   {
    "duration": 7,
    "start_time": "2025-03-11T12:34:30.815Z"
   },
   {
    "duration": 19,
    "start_time": "2025-03-11T12:34:30.823Z"
   },
   {
    "duration": 5,
    "start_time": "2025-03-11T12:34:30.858Z"
   },
   {
    "duration": 28,
    "start_time": "2025-03-11T12:34:30.864Z"
   },
   {
    "duration": 390,
    "start_time": "2025-03-11T12:34:30.893Z"
   },
   {
    "duration": 10,
    "start_time": "2025-03-11T12:34:31.284Z"
   },
   {
    "duration": 137,
    "start_time": "2025-03-11T12:34:31.295Z"
   },
   {
    "duration": 479,
    "start_time": "2025-03-11T12:34:31.434Z"
   },
   {
    "duration": 8,
    "start_time": "2025-03-11T12:34:31.915Z"
   },
   {
    "duration": 3,
    "start_time": "2025-03-12T06:44:22.859Z"
   },
   {
    "duration": 16,
    "start_time": "2025-03-12T06:44:22.865Z"
   },
   {
    "duration": 1197,
    "start_time": "2025-03-12T06:44:22.882Z"
   },
   {
    "duration": 35,
    "start_time": "2025-03-12T06:44:24.081Z"
   },
   {
    "duration": 20,
    "start_time": "2025-03-12T06:44:24.118Z"
   },
   {
    "duration": 6,
    "start_time": "2025-03-12T06:44:24.140Z"
   },
   {
    "duration": 15,
    "start_time": "2025-03-12T06:44:24.148Z"
   },
   {
    "duration": 16,
    "start_time": "2025-03-12T06:44:24.165Z"
   },
   {
    "duration": 12,
    "start_time": "2025-03-12T06:44:24.182Z"
   },
   {
    "duration": 407,
    "start_time": "2025-03-12T06:44:24.195Z"
   },
   {
    "duration": 9,
    "start_time": "2025-03-12T06:44:24.604Z"
   },
   {
    "duration": 4,
    "start_time": "2025-03-12T06:44:24.614Z"
   },
   {
    "duration": 411,
    "start_time": "2025-03-12T06:44:24.620Z"
   },
   {
    "duration": 9,
    "start_time": "2025-03-12T06:44:25.032Z"
   },
   {
    "duration": 4,
    "start_time": "2025-03-12T07:02:59.362Z"
   },
   {
    "duration": 3,
    "start_time": "2025-03-12T07:02:59.874Z"
   },
   {
    "duration": 1193,
    "start_time": "2025-03-12T07:03:00.257Z"
   },
   {
    "duration": 23,
    "start_time": "2025-03-12T07:03:01.452Z"
   },
   {
    "duration": 20,
    "start_time": "2025-03-12T07:03:01.476Z"
   },
   {
    "duration": 7,
    "start_time": "2025-03-12T07:03:02.241Z"
   },
   {
    "duration": 7,
    "start_time": "2025-03-12T07:03:12.754Z"
   },
   {
    "duration": 10,
    "start_time": "2025-03-12T07:03:40.602Z"
   },
   {
    "duration": 22,
    "start_time": "2025-03-12T07:03:53.931Z"
   },
   {
    "duration": 6,
    "start_time": "2025-03-12T07:04:42.775Z"
   },
   {
    "duration": 3,
    "start_time": "2025-03-12T07:05:59.803Z"
   },
   {
    "duration": 4,
    "start_time": "2025-03-12T07:05:59.807Z"
   },
   {
    "duration": 2,
    "start_time": "2025-03-12T07:06:08.282Z"
   },
   {
    "duration": 2,
    "start_time": "2025-03-12T07:06:08.503Z"
   },
   {
    "duration": 3,
    "start_time": "2025-03-12T07:06:08.776Z"
   },
   {
    "duration": 22,
    "start_time": "2025-03-12T07:06:09.608Z"
   },
   {
    "duration": 17,
    "start_time": "2025-03-12T07:06:09.973Z"
   },
   {
    "duration": 7,
    "start_time": "2025-03-12T07:06:11.466Z"
   },
   {
    "duration": 7,
    "start_time": "2025-03-12T07:06:13.700Z"
   },
   {
    "duration": 8,
    "start_time": "2025-03-12T07:06:15.506Z"
   },
   {
    "duration": 7,
    "start_time": "2025-03-12T07:06:30.534Z"
   },
   {
    "duration": 13,
    "start_time": "2025-03-12T07:08:44.113Z"
   },
   {
    "duration": 5,
    "start_time": "2025-03-12T07:08:44.432Z"
   },
   {
    "duration": 7,
    "start_time": "2025-03-12T07:08:44.584Z"
   },
   {
    "duration": 392,
    "start_time": "2025-03-12T07:08:44.736Z"
   },
   {
    "duration": 11,
    "start_time": "2025-03-12T07:08:45.130Z"
   },
   {
    "duration": 20,
    "start_time": "2025-03-12T07:08:45.142Z"
   },
   {
    "duration": 389,
    "start_time": "2025-03-12T07:08:45.225Z"
   },
   {
    "duration": 9,
    "start_time": "2025-03-12T07:08:45.615Z"
   },
   {
    "duration": 22,
    "start_time": "2025-03-12T07:11:23.003Z"
   },
   {
    "duration": 19,
    "start_time": "2025-03-12T07:12:04.464Z"
   },
   {
    "duration": 25,
    "start_time": "2025-03-12T07:12:11.765Z"
   },
   {
    "duration": 25,
    "start_time": "2025-03-12T07:12:23.043Z"
   },
   {
    "duration": 5,
    "start_time": "2025-03-12T07:30:55.609Z"
   },
   {
    "duration": 9,
    "start_time": "2025-03-12T07:31:08.769Z"
   },
   {
    "duration": 5,
    "start_time": "2025-03-12T07:31:48.720Z"
   },
   {
    "duration": 72,
    "start_time": "2025-03-12T07:31:56.119Z"
   },
   {
    "duration": 68,
    "start_time": "2025-03-12T07:31:59.407Z"
   },
   {
    "duration": 19,
    "start_time": "2025-03-12T07:32:08.133Z"
   },
   {
    "duration": 21,
    "start_time": "2025-03-12T07:32:13.646Z"
   },
   {
    "duration": 7,
    "start_time": "2025-03-12T07:33:07.571Z"
   },
   {
    "duration": 3,
    "start_time": "2025-03-12T07:43:01.324Z"
   },
   {
    "duration": 42,
    "start_time": "2025-03-12T07:43:01.330Z"
   },
   {
    "duration": 1189,
    "start_time": "2025-03-12T07:43:01.374Z"
   },
   {
    "duration": 23,
    "start_time": "2025-03-12T07:43:02.567Z"
   },
   {
    "duration": 22,
    "start_time": "2025-03-12T07:43:02.591Z"
   },
   {
    "duration": 6,
    "start_time": "2025-03-12T07:43:02.615Z"
   },
   {
    "duration": 57,
    "start_time": "2025-03-12T07:43:02.622Z"
   },
   {
    "duration": 13,
    "start_time": "2025-03-12T07:43:02.680Z"
   },
   {
    "duration": 5,
    "start_time": "2025-03-12T07:43:02.695Z"
   },
   {
    "duration": 10,
    "start_time": "2025-03-12T07:43:02.701Z"
   },
   {
    "duration": 392,
    "start_time": "2025-03-12T07:43:02.713Z"
   },
   {
    "duration": 8,
    "start_time": "2025-03-12T07:43:03.107Z"
   },
   {
    "duration": 16,
    "start_time": "2025-03-12T07:43:03.116Z"
   },
   {
    "duration": 13,
    "start_time": "2025-03-12T07:43:03.134Z"
   },
   {
    "duration": 38,
    "start_time": "2025-03-12T07:43:03.149Z"
   },
   {
    "duration": 18,
    "start_time": "2025-03-12T07:43:03.189Z"
   },
   {
    "duration": 396,
    "start_time": "2025-03-12T07:43:03.209Z"
   },
   {
    "duration": 8,
    "start_time": "2025-03-12T07:43:03.607Z"
   },
   {
    "duration": 4,
    "start_time": "2025-03-12T07:47:12.174Z"
   },
   {
    "duration": 6,
    "start_time": "2025-03-12T07:47:26.873Z"
   },
   {
    "duration": 6,
    "start_time": "2025-03-12T07:47:35.323Z"
   }
  ],
  "colab": {
   "provenance": []
  },
  "kernelspec": {
   "display_name": "Python 3 (ipykernel)",
   "language": "python",
   "name": "python3"
  },
  "language_info": {
   "codemirror_mode": {
    "name": "ipython",
    "version": 3
   },
   "file_extension": ".py",
   "mimetype": "text/x-python",
   "name": "python",
   "nbconvert_exporter": "python",
   "pygments_lexer": "ipython3",
   "version": "3.9.7"
  },
  "toc": {
   "base_numbering": 1,
   "nav_menu": {},
   "number_sections": true,
   "sideBar": true,
   "skip_h1_title": true,
   "title_cell": "Table of Contents",
   "title_sidebar": "Contents",
   "toc_cell": false,
   "toc_position": {},
   "toc_section_display": true,
   "toc_window_display": false
  }
 },
 "nbformat": 4,
 "nbformat_minor": 5
}
