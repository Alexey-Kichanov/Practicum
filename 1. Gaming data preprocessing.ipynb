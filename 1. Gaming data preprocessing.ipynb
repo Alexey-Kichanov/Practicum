{
 "cells": [
  {
   "cell_type": "markdown",
   "id": "4149134c",
   "metadata": {},
   "source": [
    "### Цели и задачи проекта\n"
   ]
  },
  {
   "cell_type": "markdown",
   "id": "2d3494cc",
   "metadata": {},
   "source": [
    "**Цель проекта** заключается в предобработке данных игровой индустрии для последующего анализа и исследования развития индустрии игр в начале XXI века. В проекты мы решим такие **задачи** как первичное знакомство с данными, проверка ошибок (внешний вид данных, типы данных, пропуски, дубликаты), фильтрация и категоризация данных, а также подведем общий итог проведенной работы."
   ]
  },
  {
   "cell_type": "markdown",
   "id": "728986ea",
   "metadata": {},
   "source": [
    "### Описание данных\n",
    "\n"
   ]
  },
  {
   "cell_type": "markdown",
   "id": "a224da78",
   "metadata": {},
   "source": [
    "Ниже представлены данные из датасета `datasets/new_games.csv`, которые будут задействованы в проекте:\n",
    "- `Name` — название игры.\n",
    "- `Platform` — название платформы.\n",
    "- `Year of Release` — год выпуска игры.\n",
    "- `Genre` — жанр игры.\n",
    "- `NA sales` — продажи в Северной Америке (в миллионах проданных копий).\n",
    "- `EU sales` — продажи в Европе (в миллионах проданных копий).\n",
    "- `JP sales` — продажи в Японии (в миллионах проданных копий).\n",
    "- `Other sales` — продажи в других странах (в миллионах проданных копий).\n",
    "- `Critic Score` — оценка критиков (от 0 до 100).\n",
    "- `User Score` — оценка пользователей (от 0 до 10).\n",
    "- `Rating` — рейтинг организации ESRB (англ. Entertainment Software Rating Board). Эта ассоциация определяет рейтинг компьютерных игр и присваивает им подходящую возрастную категорию."
   ]
  },
  {
   "cell_type": "markdown",
   "id": "4fecaf95",
   "metadata": {},
   "source": [
    "### Содержимое проекта\n",
    "\n"
   ]
  },
  {
   "cell_type": "markdown",
   "id": "b1915783",
   "metadata": {},
   "source": [
    "1. Загрузка и знакомство с данными\n",
    "2. Проверка ошибок в данных и их предобработка\n",
    "3. Фильтрация данных\n",
    "4. Категоризация данных\n",
    "5. Итоговый вывод\n",
    "\n",
    "---"
   ]
  },
  {
   "cell_type": "markdown",
   "id": "6f7d21d6",
   "metadata": {},
   "source": [
    "## 1. Загрузка и знакомство с данными\n",
    "\n",
    "1. Загрузите необходимые библиотеки Python и данные датасета `/datasets/new_games.csv`.\n",
    "2. Познакомьтесь с данными: выведите первые строки и результат метода `.info()`.\n",
    "3. Сделайте вывод о полученных данных: данные какого объёма вам предоставили, соответствуют ли они описанию, встречаются ли в них пропуски, используются ли верные типы данных.\n",
    "4. Отметьте другие особенности данных, которые вы обнаружили и на которые стоит обратить внимание при предобработке. Например, вы можете проверить названия столбцов: все ли названия отражают содержимое данных и прописаны в удобном для работы виде."
   ]
  },
  {
   "cell_type": "code",
   "execution_count": 1,
   "id": "ce87c1db",
   "metadata": {},
   "outputs": [],
   "source": [
    "import pandas as pd"
   ]
  },
  {
   "cell_type": "code",
   "execution_count": 2,
   "id": "90fee493",
   "metadata": {},
   "outputs": [],
   "source": [
    "df = pd.read_csv('https://code.s3.yandex.net/datasets/new_games.csv')"
   ]
  },
  {
   "cell_type": "code",
   "execution_count": 3,
   "id": "ef07ad3a",
   "metadata": {},
   "outputs": [
    {
     "data": {
      "text/html": [
       "<div>\n",
       "<style scoped>\n",
       "    .dataframe tbody tr th:only-of-type {\n",
       "        vertical-align: middle;\n",
       "    }\n",
       "\n",
       "    .dataframe tbody tr th {\n",
       "        vertical-align: top;\n",
       "    }\n",
       "\n",
       "    .dataframe thead th {\n",
       "        text-align: right;\n",
       "    }\n",
       "</style>\n",
       "<table border=\"1\" class=\"dataframe\">\n",
       "  <thead>\n",
       "    <tr style=\"text-align: right;\">\n",
       "      <th></th>\n",
       "      <th>Name</th>\n",
       "      <th>Platform</th>\n",
       "      <th>Year of Release</th>\n",
       "      <th>Genre</th>\n",
       "      <th>NA sales</th>\n",
       "      <th>EU sales</th>\n",
       "      <th>JP sales</th>\n",
       "      <th>Other sales</th>\n",
       "      <th>Critic Score</th>\n",
       "      <th>User Score</th>\n",
       "      <th>Rating</th>\n",
       "    </tr>\n",
       "  </thead>\n",
       "  <tbody>\n",
       "    <tr>\n",
       "      <th>0</th>\n",
       "      <td>Wii Sports</td>\n",
       "      <td>Wii</td>\n",
       "      <td>2006.0</td>\n",
       "      <td>Sports</td>\n",
       "      <td>41.36</td>\n",
       "      <td>28.96</td>\n",
       "      <td>3.77</td>\n",
       "      <td>8.45</td>\n",
       "      <td>76.0</td>\n",
       "      <td>8</td>\n",
       "      <td>E</td>\n",
       "    </tr>\n",
       "    <tr>\n",
       "      <th>1</th>\n",
       "      <td>Super Mario Bros.</td>\n",
       "      <td>NES</td>\n",
       "      <td>1985.0</td>\n",
       "      <td>Platform</td>\n",
       "      <td>29.08</td>\n",
       "      <td>3.58</td>\n",
       "      <td>6.81</td>\n",
       "      <td>0.77</td>\n",
       "      <td>NaN</td>\n",
       "      <td>NaN</td>\n",
       "      <td>NaN</td>\n",
       "    </tr>\n",
       "    <tr>\n",
       "      <th>2</th>\n",
       "      <td>Mario Kart Wii</td>\n",
       "      <td>Wii</td>\n",
       "      <td>2008.0</td>\n",
       "      <td>Racing</td>\n",
       "      <td>15.68</td>\n",
       "      <td>12.76</td>\n",
       "      <td>3.79</td>\n",
       "      <td>3.29</td>\n",
       "      <td>82.0</td>\n",
       "      <td>8.3</td>\n",
       "      <td>E</td>\n",
       "    </tr>\n",
       "    <tr>\n",
       "      <th>3</th>\n",
       "      <td>Wii Sports Resort</td>\n",
       "      <td>Wii</td>\n",
       "      <td>2009.0</td>\n",
       "      <td>Sports</td>\n",
       "      <td>15.61</td>\n",
       "      <td>10.93</td>\n",
       "      <td>3.28</td>\n",
       "      <td>2.95</td>\n",
       "      <td>80.0</td>\n",
       "      <td>8</td>\n",
       "      <td>E</td>\n",
       "    </tr>\n",
       "    <tr>\n",
       "      <th>4</th>\n",
       "      <td>Pokemon Red/Pokemon Blue</td>\n",
       "      <td>GB</td>\n",
       "      <td>1996.0</td>\n",
       "      <td>Role-Playing</td>\n",
       "      <td>11.27</td>\n",
       "      <td>8.89</td>\n",
       "      <td>10.22</td>\n",
       "      <td>1.00</td>\n",
       "      <td>NaN</td>\n",
       "      <td>NaN</td>\n",
       "      <td>NaN</td>\n",
       "    </tr>\n",
       "    <tr>\n",
       "      <th>5</th>\n",
       "      <td>Tetris</td>\n",
       "      <td>GB</td>\n",
       "      <td>1989.0</td>\n",
       "      <td>Puzzle</td>\n",
       "      <td>23.20</td>\n",
       "      <td>2.26</td>\n",
       "      <td>4.22</td>\n",
       "      <td>0.58</td>\n",
       "      <td>NaN</td>\n",
       "      <td>NaN</td>\n",
       "      <td>NaN</td>\n",
       "    </tr>\n",
       "    <tr>\n",
       "      <th>6</th>\n",
       "      <td>New Super Mario Bros.</td>\n",
       "      <td>DS</td>\n",
       "      <td>2006.0</td>\n",
       "      <td>Platform</td>\n",
       "      <td>11.28</td>\n",
       "      <td>9.14</td>\n",
       "      <td>6.5</td>\n",
       "      <td>2.88</td>\n",
       "      <td>89.0</td>\n",
       "      <td>8.5</td>\n",
       "      <td>E</td>\n",
       "    </tr>\n",
       "    <tr>\n",
       "      <th>7</th>\n",
       "      <td>Wii Play</td>\n",
       "      <td>Wii</td>\n",
       "      <td>2006.0</td>\n",
       "      <td>Misc</td>\n",
       "      <td>13.96</td>\n",
       "      <td>9.18</td>\n",
       "      <td>2.93</td>\n",
       "      <td>2.84</td>\n",
       "      <td>58.0</td>\n",
       "      <td>6.6</td>\n",
       "      <td>E</td>\n",
       "    </tr>\n",
       "    <tr>\n",
       "      <th>8</th>\n",
       "      <td>New Super Mario Bros. Wii</td>\n",
       "      <td>Wii</td>\n",
       "      <td>2009.0</td>\n",
       "      <td>Platform</td>\n",
       "      <td>14.44</td>\n",
       "      <td>6.94</td>\n",
       "      <td>4.7</td>\n",
       "      <td>2.24</td>\n",
       "      <td>87.0</td>\n",
       "      <td>8.4</td>\n",
       "      <td>E</td>\n",
       "    </tr>\n",
       "    <tr>\n",
       "      <th>9</th>\n",
       "      <td>Duck Hunt</td>\n",
       "      <td>NES</td>\n",
       "      <td>1984.0</td>\n",
       "      <td>Shooter</td>\n",
       "      <td>26.93</td>\n",
       "      <td>0.63</td>\n",
       "      <td>0.28</td>\n",
       "      <td>0.47</td>\n",
       "      <td>NaN</td>\n",
       "      <td>NaN</td>\n",
       "      <td>NaN</td>\n",
       "    </tr>\n",
       "  </tbody>\n",
       "</table>\n",
       "</div>"
      ],
      "text/plain": [
       "                        Name Platform  Year of Release         Genre  \\\n",
       "0                 Wii Sports      Wii           2006.0        Sports   \n",
       "1          Super Mario Bros.      NES           1985.0      Platform   \n",
       "2             Mario Kart Wii      Wii           2008.0        Racing   \n",
       "3          Wii Sports Resort      Wii           2009.0        Sports   \n",
       "4   Pokemon Red/Pokemon Blue       GB           1996.0  Role-Playing   \n",
       "5                     Tetris       GB           1989.0        Puzzle   \n",
       "6      New Super Mario Bros.       DS           2006.0      Platform   \n",
       "7                   Wii Play      Wii           2006.0          Misc   \n",
       "8  New Super Mario Bros. Wii      Wii           2009.0      Platform   \n",
       "9                  Duck Hunt      NES           1984.0       Shooter   \n",
       "\n",
       "   NA sales EU sales JP sales  Other sales  Critic Score User Score Rating  \n",
       "0     41.36    28.96     3.77         8.45          76.0          8      E  \n",
       "1     29.08     3.58     6.81         0.77           NaN        NaN    NaN  \n",
       "2     15.68    12.76     3.79         3.29          82.0        8.3      E  \n",
       "3     15.61    10.93     3.28         2.95          80.0          8      E  \n",
       "4     11.27     8.89    10.22         1.00           NaN        NaN    NaN  \n",
       "5     23.20     2.26     4.22         0.58           NaN        NaN    NaN  \n",
       "6     11.28     9.14      6.5         2.88          89.0        8.5      E  \n",
       "7     13.96     9.18     2.93         2.84          58.0        6.6      E  \n",
       "8     14.44     6.94      4.7         2.24          87.0        8.4      E  \n",
       "9     26.93     0.63     0.28         0.47           NaN        NaN    NaN  "
      ]
     },
     "execution_count": 3,
     "metadata": {},
     "output_type": "execute_result"
    }
   ],
   "source": [
    "df.head(10)"
   ]
  },
  {
   "cell_type": "code",
   "execution_count": 4,
   "id": "3937acf7",
   "metadata": {},
   "outputs": [
    {
     "name": "stdout",
     "output_type": "stream",
     "text": [
      "<class 'pandas.core.frame.DataFrame'>\n",
      "RangeIndex: 16956 entries, 0 to 16955\n",
      "Data columns (total 11 columns):\n",
      " #   Column           Non-Null Count  Dtype  \n",
      "---  ------           --------------  -----  \n",
      " 0   Name             16954 non-null  object \n",
      " 1   Platform         16956 non-null  object \n",
      " 2   Year of Release  16681 non-null  float64\n",
      " 3   Genre            16954 non-null  object \n",
      " 4   NA sales         16956 non-null  float64\n",
      " 5   EU sales         16956 non-null  object \n",
      " 6   JP sales         16956 non-null  object \n",
      " 7   Other sales      16956 non-null  float64\n",
      " 8   Critic Score     8242 non-null   float64\n",
      " 9   User Score       10152 non-null  object \n",
      " 10  Rating           10085 non-null  object \n",
      "dtypes: float64(4), object(7)\n",
      "memory usage: 1.4+ MB\n"
     ]
    }
   ],
   "source": [
    "df.info()"
   ]
  },
  {
   "cell_type": "markdown",
   "id": "3c0cc0ab",
   "metadata": {},
   "source": [
    "Из визуального анализа данных можно сделать следующие выводы:\n",
    "- в таблице представлены 16 956 строк и 11 столбцов\n",
    "- 4 столбца представлены в типе `float64`, 7 столбцов в типе `object`\n",
    "- в 6 столбцах из 11 присутствуют пропуски данных, это столбцы: `Name`, `Year of Release`, `Genre`, `Critic Score`, `User Score`, `Rating`\n",
    "- Для более качественного анализа возможно потребуется перевести некоторые столбцы в более подходящие типы данных:\n",
    "  - `Year of Release` из float64 в **int64**\n",
    "  - `EU sales` из object в **float64**\n",
    "  - `JP sales` из object в **float64**\n",
    "  - `User Score` из object в **float64**\n",
    "  - `Rating` из object в **float64**"
   ]
  },
  {
   "cell_type": "markdown",
   "id": "89239d1c",
   "metadata": {},
   "source": [
    "Стоит отметить, что стобцы `EU sales` и `JP sales` представлены в типе `object`, поскольку в них содержатся текстовые значения.\n",
    "    \n",
    "В последующих шагах приведем названия столбцов к виду `snake_case` для однородности."
   ]
  },
  {
   "cell_type": "markdown",
   "id": "774bf76e",
   "metadata": {},
   "source": [
    "---\n",
    "\n",
    "## 2.  Проверка ошибок в данных и их предобработка\n",
    "\n",
    "\n",
    "### 2.1. Названия, или метки, столбцов датафрейма: \n"
   ]
  },
  {
   "cell_type": "code",
   "execution_count": 5,
   "id": "b9276a2b",
   "metadata": {},
   "outputs": [
    {
     "data": {
      "text/plain": [
       "Index(['Name', 'Platform', 'Year of Release', 'Genre', 'NA sales', 'EU sales',\n",
       "       'JP sales', 'Other sales', 'Critic Score', 'User Score', 'Rating'],\n",
       "      dtype='object')"
      ]
     },
     "execution_count": 5,
     "metadata": {},
     "output_type": "execute_result"
    }
   ],
   "source": [
    "df.columns"
   ]
  },
  {
   "cell_type": "code",
   "execution_count": 6,
   "id": "d554563c",
   "metadata": {},
   "outputs": [
    {
     "data": {
      "text/plain": [
       "Index(['name', 'platform', 'year_of_release', 'genre', 'na_sales', 'eu_sales',\n",
       "       'jp_sales', 'other_sales', 'critic_score', 'user_score', 'rating'],\n",
       "      dtype='object')"
      ]
     },
     "execution_count": 6,
     "metadata": {},
     "output_type": "execute_result"
    }
   ],
   "source": [
    "# Переведем названия столбцов к стилю snake_case\n",
    "df.columns = df.columns.str.replace(' ', '_').str.lower()\n",
    "df.columns"
   ]
  },
  {
   "cell_type": "markdown",
   "id": "5af0704d",
   "metadata": {},
   "source": [
    "Теперь названия столбцов представлены в едином стиле"
   ]
  },
  {
   "cell_type": "markdown",
   "id": "41bc6bf8",
   "metadata": {},
   "source": [
    "### 2.2. Типы данных: \n"
   ]
  },
  {
   "cell_type": "markdown",
   "id": "0dda2910",
   "metadata": {},
   "source": [
    "Проверим уникальные значения в столбце `year_of_release`\n"
   ]
  },
  {
   "cell_type": "code",
   "execution_count": 7,
   "id": "8f579306",
   "metadata": {},
   "outputs": [
    {
     "data": {
      "text/plain": [
       "array([2006., 1985., 2008., 2009., 1996., 1989., 1984., 2005., 1999.,\n",
       "       2007., 2010., 2013., 2004., 1990., 1988., 2002., 2001., 2011.,\n",
       "       1998., 2015., 2012., 2014., 1992., 1997., 1993., 1994., 1982.,\n",
       "       2016., 2003., 1986., 2000.,   nan, 1995., 1991., 1981., 1987.,\n",
       "       1980., 1983.])"
      ]
     },
     "metadata": {},
     "output_type": "display_data"
    }
   ],
   "source": [
    "uni_year = df['year_of_release'].unique()\n",
    "display(uni_year)"
   ]
  },
  {
   "cell_type": "code",
   "execution_count": 8,
   "id": "8adaac81",
   "metadata": {},
   "outputs": [
    {
     "name": "stdout",
     "output_type": "stream",
     "text": [
      "<class 'pandas.core.frame.DataFrame'>\n",
      "RangeIndex: 16956 entries, 0 to 16955\n",
      "Data columns (total 11 columns):\n",
      " #   Column           Non-Null Count  Dtype  \n",
      "---  ------           --------------  -----  \n",
      " 0   name             16954 non-null  object \n",
      " 1   platform         16956 non-null  object \n",
      " 2   year_of_release  16681 non-null  float64\n",
      " 3   genre            16954 non-null  object \n",
      " 4   na_sales         16956 non-null  float64\n",
      " 5   eu_sales         16956 non-null  object \n",
      " 6   jp_sales         16956 non-null  object \n",
      " 7   other_sales      16956 non-null  float64\n",
      " 8   critic_score     8242 non-null   float64\n",
      " 9   user_score       10152 non-null  object \n",
      " 10  rating           10085 non-null  object \n",
      "dtypes: float64(4), object(7)\n",
      "memory usage: 1.4+ MB\n"
     ]
    }
   ],
   "source": [
    "#Переведем значения 'year_of_release' в тип float64\n",
    "df['year_of_release'] = pd.to_numeric(df['year_of_release'])\n",
    "df.info()"
   ]
  },
  {
   "cell_type": "code",
   "execution_count": 9,
   "id": "e9ebd2d6",
   "metadata": {},
   "outputs": [
    {
     "data": {
      "text/plain": [
       "array(['28.96', '3.58', '12.76', '10.93', '8.89', '2.26', '9.14', '9.18',\n",
       "       '6.94', '0.63', '10.95', '7.47', '6.18', '8.03', '4.89', '8.49',\n",
       "       '9.09', '0.4', '3.75', '9.2', '4.46', '2.71', '3.44', '5.14',\n",
       "       '5.49', '3.9', '5.35', '3.17', '5.09', '4.24', '5.04', '5.86',\n",
       "       '3.68', '4.19', '5.73', '3.59', '4.51', '2.55', '4.02', '4.37',\n",
       "       '6.31', '3.45', '2.81', '2.85', '3.49', '0.01', '3.35', '2.04',\n",
       "       '3.07', '3.87', '3.0', '4.82', '3.64', '2.15', '3.69', '2.65',\n",
       "       '2.56', '3.11', '3.14', '1.94', '1.95', '2.47', '2.28', '3.42',\n",
       "       '3.63', '2.36', '1.71', '1.85', '2.79', '1.24', '6.12', '1.53',\n",
       "       '3.47', '2.24', '5.01', '2.01', '1.72', '2.07', '6.42', '3.86',\n",
       "       '0.45', '3.48', '1.89', '5.75', '2.17', '1.37', '2.35', '1.18',\n",
       "       '2.11', '1.88', '2.83', '2.99', '2.89', '3.27', '2.22', '2.14',\n",
       "       '1.45', '1.75', '1.04', '1.77', '3.02', '2.75', '2.16', '1.9',\n",
       "       '2.59', '2.2', '4.3', '0.93', '2.53', '2.52', '1.79', '1.3', '2.6',\n",
       "       '1.58', '1.2', '1.56', '1.34', '1.26', '0.83', '6.21', '2.8',\n",
       "       '1.59', '1.73', '4.33', '1.83', '0.0', '2.18', '1.98', '1.47',\n",
       "       '0.67', '1.55', '1.91', '0.69', '0.6', '1.93', '1.64', '0.55',\n",
       "       '2.19', '1.11', '2.29', '2.5', '0.96', '1.21', '1.12', '0.77',\n",
       "       '1.69', '1.08', '0.79', '2.37', '2.46', '0.26', '0.75', '1.25',\n",
       "       '2.43', '0.98', '0.74', '2.23', '0.61', '2.45', '1.41', '1.8',\n",
       "       '3.28', '1.16', '1.99', '1.38', '1.36', '1.17', '1.19', '0.99',\n",
       "       '1.68', '2.0', '1.33', '1.57', '1.48', '2.1', '1.27', '1.97',\n",
       "       '0.91', '1.39', '1.96', '0.24', '1.51', '0.14', '1.29', '2.39',\n",
       "       '1.03', '0.5', '0.58', '1.31', '2.02', '1.32', '1.01', '2.27',\n",
       "       '2.3', '1.82', '2.78', '0.44', '0.48', '0.27', '0.21', '2.48',\n",
       "       '0.51', '1.52', '0.04', '0.28', '1.35', '0.87', '2.13', '1.13',\n",
       "       '1.76', '0.76', '2.12', '0.66', '1.6', '1.44', '1.43', '1.7',\n",
       "       '0.47', '1.87', '0.86', '0.73', '1.28', '0.81', '1.09', '0.68',\n",
       "       '1.22', '1.4', '1.02', '1.49', '1.14', '0.49', '0.9', '0.38',\n",
       "       '1.42', '0.95', '1.62', '0.71', '1.05', '0.92', '0.33', '0.3',\n",
       "       '1.67', '1.0', '0.89', '0.1', '0.72', '0.59', '0.56', '0.16',\n",
       "       '0.97', '0.62', 'unknown', '0.85', '0.94', '0.88', '0.84', '1.06',\n",
       "       '0.2', '1.15', '0.8', '1.1', '0.7', '1.92', '0.32', '0.15', '0.53',\n",
       "       '0.09', '1.46', '0.29', '0.22', '1.23', '0.07', '0.17', '0.54',\n",
       "       '0.36', '0.31', '1.84', '0.52', '0.11', '0.64', '0.12', '2.05',\n",
       "       '1.63', '0.82', '0.08', '0.57', '1.65', '0.19', '0.02', '0.43',\n",
       "       '0.25', '1.5', '0.18', '0.39', '0.13', '1.07', '0.46', '0.41',\n",
       "       '0.06', '0.03', '0.37', '0.05', '0.23', '0.65', '0.42', '0.34',\n",
       "       '0.35', '0.78'], dtype=object)"
      ]
     },
     "metadata": {},
     "output_type": "display_data"
    },
    {
     "data": {
      "text/plain": [
       "array(['3.77', '6.81', '3.79', '3.28', '10.22', '4.22', '6.5', '2.93',\n",
       "       '4.7', '0.28', '1.93', '4.13', '7.2', '3.6', '0.24', '2.53',\n",
       "       '0.98', '0.41', '3.54', '4.16', '6.04', '4.18', '3.84', '0.06',\n",
       "       '0.47', '5.38', '5.32', '5.65', '1.87', '0.13', '3.12', '0.36',\n",
       "       '0.11', '4.35', '0.65', '0.07', '0.08', '0.49', '0.3', '2.66',\n",
       "       '2.69', '0.48', '0.38', '5.33', '1.91', '3.96', '3.1', '1.1',\n",
       "       '1.2', '0.14', '2.54', '2.14', '0.81', '2.12', '0.44', '3.15',\n",
       "       '1.25', '0.04', '0.0', '2.47', '2.23', '1.69', '0.01', '3.0',\n",
       "       '0.02', '4.39', '1.98', '0.1', '3.81', '0.05', '2.49', '1.58',\n",
       "       '3.14', '2.73', '0.66', '0.22', '3.63', '1.45', '1.31', '2.43',\n",
       "       '0.7', '0.35', '1.4', '0.6', '2.26', '1.42', '1.28', '1.39',\n",
       "       '0.87', '0.17', '0.94', '0.19', '0.21', '1.6', '0.16', '1.03',\n",
       "       '0.25', '2.06', '1.49', '1.29', '0.09', '2.87', '0.03', '0.78',\n",
       "       '0.83', '2.33', '2.02', '1.36', '1.81', '1.97', '0.91', '0.99',\n",
       "       '0.95', '2.0', '1.01', '2.78', '2.11', '1.09', '0.2', '1.9',\n",
       "       '1.27', '3.61', '1.57', '2.2', '1.7', '1.08', '0.15', '1.11',\n",
       "       '0.29', '1.54', '0.12', '0.89', '4.87', '1.52', '1.32', '1.15',\n",
       "       '4.1', '1.46', '0.46', '1.05', '1.61', '0.26', '1.38', '0.62',\n",
       "       '0.73', '0.57', '0.31', '0.58', '1.76', '2.1', '0.9', '0.51',\n",
       "       '0.64', '2.46', '0.23', '0.37', '0.92', '1.07', '2.62', '1.12',\n",
       "       '0.54', '0.27', '0.59', '3.67', '0.55', '1.75', '3.44', '0.33',\n",
       "       '2.55', '2.32', '2.79', '0.74', '3.18', '0.82', '0.77', '0.4',\n",
       "       '2.35', '3.19', '0.8', '0.76', '3.03', '0.88', 'unknown', '0.45',\n",
       "       '1.16', '0.34', '1.19', '1.13', '2.13', '1.96', '0.71', '1.04',\n",
       "       '2.68', '0.68', '2.65', '0.96', '2.41', '0.52', '0.18', '1.34',\n",
       "       '1.48', '2.34', '1.06', '1.21', '2.29', '1.63', '2.05', '2.17',\n",
       "       '1.56', '1.35', '1.33', '0.63', '0.79', '0.75', '0.53', '1.53',\n",
       "       '1.3', '0.39', '0.69', '0.42', '0.93', '0.56', '0.84', '0.72',\n",
       "       '0.32', '1.71', '1.65', '0.61', '1.51', '1.5', '1.44', '1.24',\n",
       "       '1.18', '1.37', '1.0', '1.26', '0.85', '0.43', '0.67', '1.14',\n",
       "       '0.86', '1.17', '0.5', '1.02', '0.97'], dtype=object)"
      ]
     },
     "metadata": {},
     "output_type": "display_data"
    }
   ],
   "source": [
    "for i in ['eu_sales', 'jp_sales']:\n",
    "    uni_sales = df[i].unique()\n",
    "    display(uni_sales)"
   ]
  },
  {
   "cell_type": "markdown",
   "id": "5571ff59",
   "metadata": {},
   "source": [
    "Видим, что в столбцах `eu_sales` и `jp_sales` присутствует значение `unknown` из-за которого эти столбцы и представлены в типе `object`\n"
   ]
  },
  {
   "cell_type": "code",
   "execution_count": 10,
   "id": "e8412c01",
   "metadata": {},
   "outputs": [
    {
     "name": "stdout",
     "output_type": "stream",
     "text": [
      "<class 'pandas.core.frame.DataFrame'>\n",
      "RangeIndex: 16956 entries, 0 to 16955\n",
      "Data columns (total 11 columns):\n",
      " #   Column           Non-Null Count  Dtype  \n",
      "---  ------           --------------  -----  \n",
      " 0   name             16954 non-null  object \n",
      " 1   platform         16956 non-null  object \n",
      " 2   year_of_release  16681 non-null  float64\n",
      " 3   genre            16954 non-null  object \n",
      " 4   na_sales         16956 non-null  float64\n",
      " 5   eu_sales         16950 non-null  float64\n",
      " 6   jp_sales         16952 non-null  float64\n",
      " 7   other_sales      16956 non-null  float64\n",
      " 8   critic_score     8242 non-null   float64\n",
      " 9   user_score       7688 non-null   float64\n",
      " 10  rating           10085 non-null  object \n",
      "dtypes: float64(7), object(4)\n",
      "memory usage: 1.4+ MB\n"
     ]
    }
   ],
   "source": [
    "# Переведем столбцы eu_sales, jp_sales, user_score в тип float64, в случае наличия текстовых значений, заменим их на NaN\n",
    "for i in ['eu_sales', 'jp_sales', 'user_score']:\n",
    "    df[i] = pd.to_numeric(df[i], errors = 'coerce')\n",
    "df.info()"
   ]
  },
  {
   "cell_type": "markdown",
   "id": "762dee98",
   "metadata": {},
   "source": [
    "После перевода данных в нужный тип появились пропуски в столбцах `eu_sales` и `jp_sales`"
   ]
  },
  {
   "cell_type": "markdown",
   "id": "b39893cb",
   "metadata": {},
   "source": [
    "### 2.3. Наличие пропусков в данных: \n"
   ]
  },
  {
   "cell_type": "markdown",
   "id": "2cfa220d",
   "metadata": {},
   "source": [
    "Посчитаем количество пропусков в каждом столбце в абсолютных и относительных значениях и отсортируем в порядке убывания\n"
   ]
  },
  {
   "cell_type": "code",
   "execution_count": 11,
   "id": "0f1c91a8",
   "metadata": {},
   "outputs": [
    {
     "data": {
      "text/plain": [
       "user_score         9268\n",
       "critic_score       8714\n",
       "rating             6871\n",
       "year_of_release     275\n",
       "eu_sales              6\n",
       "jp_sales              4\n",
       "name                  2\n",
       "genre                 2\n",
       "platform              0\n",
       "na_sales              0\n",
       "other_sales           0\n",
       "dtype: int64"
      ]
     },
     "metadata": {},
     "output_type": "display_data"
    },
    {
     "data": {
      "text/plain": [
       "user_score         54.66\n",
       "critic_score       51.39\n",
       "rating             40.52\n",
       "year_of_release     1.62\n",
       "eu_sales            0.04\n",
       "jp_sales            0.02\n",
       "name                0.01\n",
       "genre               0.01\n",
       "platform            0.00\n",
       "na_sales            0.00\n",
       "other_sales         0.00\n",
       "dtype: float64"
      ]
     },
     "metadata": {},
     "output_type": "display_data"
    }
   ],
   "source": [
    "# Посчитаем количество пропусков в каждом столбце в абсолютных и относительных значениях\n",
    "display(df.isna().sum().sort_values(ascending = False))\n",
    "nan_percent = round(df.isna().sum() / df.shape[0] * 100,2)\n",
    "display(nan_percent.sort_values(ascending = False))"
   ]
  },
  {
   "cell_type": "markdown",
   "id": "869c6d47",
   "metadata": {},
   "source": [
    "В столбцах `critic_score`, `user_score` и `rating` пропуски присутствуют в около 50% наблюдений, что значительно скажется на результатах анализа данных. Можно предположить, что пропуски связаны с годом выхода игры. Чем раньше была выпцщена игра, тем вероятнее, что у нее не будет оценки критиков, оценки пользователей и рейтинга.\n",
    "\n",
    "Незначительное количество пропусков присутствует в столбцах `name`, `genre` и `year_of_release`. Скорее всего это может быть связано с ошибкой в заполнении данных.\n",
    "\n",
    "Кроме этого, после замены типа данных пропуски появились в столбцах `eu_sales` и `jp_sales`"
   ]
  },
  {
   "cell_type": "code",
   "execution_count": 12,
   "id": "2784c760",
   "metadata": {},
   "outputs": [
    {
     "data": {
      "text/html": [
       "<div>\n",
       "<style scoped>\n",
       "    .dataframe tbody tr th:only-of-type {\n",
       "        vertical-align: middle;\n",
       "    }\n",
       "\n",
       "    .dataframe tbody tr th {\n",
       "        vertical-align: top;\n",
       "    }\n",
       "\n",
       "    .dataframe thead th {\n",
       "        text-align: right;\n",
       "    }\n",
       "</style>\n",
       "<table border=\"1\" class=\"dataframe\">\n",
       "  <thead>\n",
       "    <tr style=\"text-align: right;\">\n",
       "      <th></th>\n",
       "      <th>name</th>\n",
       "      <th>platform</th>\n",
       "      <th>year_of_release</th>\n",
       "      <th>genre</th>\n",
       "      <th>na_sales</th>\n",
       "      <th>eu_sales</th>\n",
       "      <th>jp_sales</th>\n",
       "      <th>other_sales</th>\n",
       "      <th>critic_score</th>\n",
       "      <th>user_score</th>\n",
       "      <th>rating</th>\n",
       "    </tr>\n",
       "  </thead>\n",
       "  <tbody>\n",
       "    <tr>\n",
       "      <th>661</th>\n",
       "      <td>NaN</td>\n",
       "      <td>GEN</td>\n",
       "      <td>1993.0</td>\n",
       "      <td>NaN</td>\n",
       "      <td>1.78</td>\n",
       "      <td>0.53</td>\n",
       "      <td>0.00</td>\n",
       "      <td>0.08</td>\n",
       "      <td>NaN</td>\n",
       "      <td>NaN</td>\n",
       "      <td>NaN</td>\n",
       "    </tr>\n",
       "    <tr>\n",
       "      <th>14439</th>\n",
       "      <td>NaN</td>\n",
       "      <td>GEN</td>\n",
       "      <td>1993.0</td>\n",
       "      <td>NaN</td>\n",
       "      <td>0.00</td>\n",
       "      <td>0.00</td>\n",
       "      <td>0.03</td>\n",
       "      <td>0.00</td>\n",
       "      <td>NaN</td>\n",
       "      <td>NaN</td>\n",
       "      <td>NaN</td>\n",
       "    </tr>\n",
       "  </tbody>\n",
       "</table>\n",
       "</div>"
      ],
      "text/plain": [
       "      name platform  year_of_release genre  na_sales  eu_sales  jp_sales  \\\n",
       "661    NaN      GEN           1993.0   NaN      1.78      0.53      0.00   \n",
       "14439  NaN      GEN           1993.0   NaN      0.00      0.00      0.03   \n",
       "\n",
       "       other_sales  critic_score  user_score rating  \n",
       "661           0.08           NaN         NaN    NaN  \n",
       "14439         0.00           NaN         NaN    NaN  "
      ]
     },
     "metadata": {},
     "output_type": "display_data"
    },
    {
     "data": {
      "text/html": [
       "<div>\n",
       "<style scoped>\n",
       "    .dataframe tbody tr th:only-of-type {\n",
       "        vertical-align: middle;\n",
       "    }\n",
       "\n",
       "    .dataframe tbody tr th {\n",
       "        vertical-align: top;\n",
       "    }\n",
       "\n",
       "    .dataframe thead th {\n",
       "        text-align: right;\n",
       "    }\n",
       "</style>\n",
       "<table border=\"1\" class=\"dataframe\">\n",
       "  <thead>\n",
       "    <tr style=\"text-align: right;\">\n",
       "      <th></th>\n",
       "      <th>name</th>\n",
       "      <th>platform</th>\n",
       "      <th>year_of_release</th>\n",
       "      <th>genre</th>\n",
       "      <th>na_sales</th>\n",
       "      <th>eu_sales</th>\n",
       "      <th>jp_sales</th>\n",
       "      <th>other_sales</th>\n",
       "      <th>critic_score</th>\n",
       "      <th>user_score</th>\n",
       "      <th>rating</th>\n",
       "    </tr>\n",
       "  </thead>\n",
       "  <tbody>\n",
       "    <tr>\n",
       "      <th>661</th>\n",
       "      <td>NaN</td>\n",
       "      <td>GEN</td>\n",
       "      <td>1993.0</td>\n",
       "      <td>NaN</td>\n",
       "      <td>1.78</td>\n",
       "      <td>0.53</td>\n",
       "      <td>0.00</td>\n",
       "      <td>0.08</td>\n",
       "      <td>NaN</td>\n",
       "      <td>NaN</td>\n",
       "      <td>NaN</td>\n",
       "    </tr>\n",
       "    <tr>\n",
       "      <th>14439</th>\n",
       "      <td>NaN</td>\n",
       "      <td>GEN</td>\n",
       "      <td>1993.0</td>\n",
       "      <td>NaN</td>\n",
       "      <td>0.00</td>\n",
       "      <td>0.00</td>\n",
       "      <td>0.03</td>\n",
       "      <td>0.00</td>\n",
       "      <td>NaN</td>\n",
       "      <td>NaN</td>\n",
       "      <td>NaN</td>\n",
       "    </tr>\n",
       "  </tbody>\n",
       "</table>\n",
       "</div>"
      ],
      "text/plain": [
       "      name platform  year_of_release genre  na_sales  eu_sales  jp_sales  \\\n",
       "661    NaN      GEN           1993.0   NaN      1.78      0.53      0.00   \n",
       "14439  NaN      GEN           1993.0   NaN      0.00      0.00      0.03   \n",
       "\n",
       "       other_sales  critic_score  user_score rating  \n",
       "661           0.08           NaN         NaN    NaN  \n",
       "14439         0.00           NaN         NaN    NaN  "
      ]
     },
     "metadata": {},
     "output_type": "display_data"
    }
   ],
   "source": [
    "# Выведем налбюдения с пропускми в столбцах name и genre\n",
    "display(df[df['name'].isna()])\n",
    "display(df[df['genre'].isna()])"
   ]
  },
  {
   "cell_type": "markdown",
   "id": "440cc683",
   "metadata": {},
   "source": [
    "В 2 строках присутствуют одновременно по 2 пропуска в столбцах `name` и `genre`. Строки будет сложно восстановить, так как совсем не понятно, что это были за игры, данные наблюдения можно удалить из датафрейма, что не сильно повлияет на качество данных."
   ]
  },
  {
   "cell_type": "code",
   "execution_count": 13,
   "id": "00d72eed",
   "metadata": {},
   "outputs": [
    {
     "name": "stdout",
     "output_type": "stream",
     "text": [
      "<class 'pandas.core.frame.DataFrame'>\n",
      "Int64Index: 16954 entries, 0 to 16955\n",
      "Data columns (total 11 columns):\n",
      " #   Column           Non-Null Count  Dtype  \n",
      "---  ------           --------------  -----  \n",
      " 0   name             16954 non-null  object \n",
      " 1   platform         16954 non-null  object \n",
      " 2   year_of_release  16679 non-null  float64\n",
      " 3   genre            16954 non-null  object \n",
      " 4   na_sales         16954 non-null  float64\n",
      " 5   eu_sales         16948 non-null  float64\n",
      " 6   jp_sales         16950 non-null  float64\n",
      " 7   other_sales      16954 non-null  float64\n",
      " 8   critic_score     8242 non-null   float64\n",
      " 9   user_score       7688 non-null   float64\n",
      " 10  rating           10085 non-null  object \n",
      "dtypes: float64(7), object(4)\n",
      "memory usage: 1.6+ MB\n"
     ]
    }
   ],
   "source": [
    "# Удаляем строки с пропусками в столбцах name и genre\n",
    "df = df.dropna(subset=['name'])\n",
    "df.info()"
   ]
  },
  {
   "cell_type": "code",
   "execution_count": 14,
   "id": "9ecc0cb5",
   "metadata": {},
   "outputs": [
    {
     "data": {
      "text/html": [
       "<div>\n",
       "<style scoped>\n",
       "    .dataframe tbody tr th:only-of-type {\n",
       "        vertical-align: middle;\n",
       "    }\n",
       "\n",
       "    .dataframe tbody tr th {\n",
       "        vertical-align: top;\n",
       "    }\n",
       "\n",
       "    .dataframe thead th {\n",
       "        text-align: right;\n",
       "    }\n",
       "</style>\n",
       "<table border=\"1\" class=\"dataframe\">\n",
       "  <thead>\n",
       "    <tr style=\"text-align: right;\">\n",
       "      <th></th>\n",
       "      <th>name</th>\n",
       "      <th>platform</th>\n",
       "      <th>year_of_release</th>\n",
       "      <th>genre</th>\n",
       "      <th>na_sales</th>\n",
       "      <th>eu_sales</th>\n",
       "      <th>jp_sales</th>\n",
       "      <th>other_sales</th>\n",
       "      <th>critic_score</th>\n",
       "      <th>user_score</th>\n",
       "      <th>rating</th>\n",
       "    </tr>\n",
       "  </thead>\n",
       "  <tbody>\n",
       "    <tr>\n",
       "      <th>183</th>\n",
       "      <td>Madden NFL 2004</td>\n",
       "      <td>PS2</td>\n",
       "      <td>NaN</td>\n",
       "      <td>Sports</td>\n",
       "      <td>4.26</td>\n",
       "      <td>0.26</td>\n",
       "      <td>0.01</td>\n",
       "      <td>0.71</td>\n",
       "      <td>94.0</td>\n",
       "      <td>8.5</td>\n",
       "      <td>E</td>\n",
       "    </tr>\n",
       "    <tr>\n",
       "      <th>379</th>\n",
       "      <td>FIFA Soccer 2004</td>\n",
       "      <td>PS2</td>\n",
       "      <td>NaN</td>\n",
       "      <td>Sports</td>\n",
       "      <td>0.59</td>\n",
       "      <td>2.36</td>\n",
       "      <td>0.04</td>\n",
       "      <td>0.51</td>\n",
       "      <td>84.0</td>\n",
       "      <td>6.4</td>\n",
       "      <td>E</td>\n",
       "    </tr>\n",
       "    <tr>\n",
       "      <th>458</th>\n",
       "      <td>LEGO Batman: The Videogame</td>\n",
       "      <td>Wii</td>\n",
       "      <td>NaN</td>\n",
       "      <td>Action</td>\n",
       "      <td>1.80</td>\n",
       "      <td>0.97</td>\n",
       "      <td>0.00</td>\n",
       "      <td>0.29</td>\n",
       "      <td>74.0</td>\n",
       "      <td>7.9</td>\n",
       "      <td>E10+</td>\n",
       "    </tr>\n",
       "    <tr>\n",
       "      <th>477</th>\n",
       "      <td>wwe Smackdown vs. Raw 2006</td>\n",
       "      <td>PS2</td>\n",
       "      <td>NaN</td>\n",
       "      <td>Fighting</td>\n",
       "      <td>1.57</td>\n",
       "      <td>1.02</td>\n",
       "      <td>0.00</td>\n",
       "      <td>0.41</td>\n",
       "      <td>NaN</td>\n",
       "      <td>NaN</td>\n",
       "      <td>NaN</td>\n",
       "    </tr>\n",
       "    <tr>\n",
       "      <th>611</th>\n",
       "      <td>Space Invaders</td>\n",
       "      <td>2600</td>\n",
       "      <td>NaN</td>\n",
       "      <td>Shooter</td>\n",
       "      <td>2.36</td>\n",
       "      <td>0.14</td>\n",
       "      <td>0.00</td>\n",
       "      <td>0.03</td>\n",
       "      <td>NaN</td>\n",
       "      <td>NaN</td>\n",
       "      <td>NaN</td>\n",
       "    </tr>\n",
       "    <tr>\n",
       "      <th>629</th>\n",
       "      <td>Rock Band</td>\n",
       "      <td>X360</td>\n",
       "      <td>NaN</td>\n",
       "      <td>Misc</td>\n",
       "      <td>1.93</td>\n",
       "      <td>0.33</td>\n",
       "      <td>0.00</td>\n",
       "      <td>0.21</td>\n",
       "      <td>92.0</td>\n",
       "      <td>8.2</td>\n",
       "      <td>T</td>\n",
       "    </tr>\n",
       "    <tr>\n",
       "      <th>659</th>\n",
       "      <td>Frogger's Adventures: Temple of the Frog</td>\n",
       "      <td>GBA</td>\n",
       "      <td>NaN</td>\n",
       "      <td>Adventure</td>\n",
       "      <td>2.15</td>\n",
       "      <td>0.18</td>\n",
       "      <td>0.00</td>\n",
       "      <td>0.07</td>\n",
       "      <td>73.0</td>\n",
       "      <td>NaN</td>\n",
       "      <td>E</td>\n",
       "    </tr>\n",
       "    <tr>\n",
       "      <th>680</th>\n",
       "      <td>LEGO Indiana Jones: The Original Adventures</td>\n",
       "      <td>Wii</td>\n",
       "      <td>NaN</td>\n",
       "      <td>Action</td>\n",
       "      <td>1.51</td>\n",
       "      <td>0.61</td>\n",
       "      <td>0.00</td>\n",
       "      <td>0.21</td>\n",
       "      <td>78.0</td>\n",
       "      <td>6.6</td>\n",
       "      <td>E10+</td>\n",
       "    </tr>\n",
       "    <tr>\n",
       "      <th>722</th>\n",
       "      <td>Call of Duty 3</td>\n",
       "      <td>Wii</td>\n",
       "      <td>NaN</td>\n",
       "      <td>Shooter</td>\n",
       "      <td>1.17</td>\n",
       "      <td>0.84</td>\n",
       "      <td>0.00</td>\n",
       "      <td>0.23</td>\n",
       "      <td>69.0</td>\n",
       "      <td>6.7</td>\n",
       "      <td>T</td>\n",
       "    </tr>\n",
       "    <tr>\n",
       "      <th>808</th>\n",
       "      <td>Rock Band</td>\n",
       "      <td>Wii</td>\n",
       "      <td>NaN</td>\n",
       "      <td>Misc</td>\n",
       "      <td>1.33</td>\n",
       "      <td>0.56</td>\n",
       "      <td>0.00</td>\n",
       "      <td>0.20</td>\n",
       "      <td>80.0</td>\n",
       "      <td>6.3</td>\n",
       "      <td>T</td>\n",
       "    </tr>\n",
       "    <tr>\n",
       "      <th>1138</th>\n",
       "      <td>Call of Duty: Black Ops</td>\n",
       "      <td>PC</td>\n",
       "      <td>NaN</td>\n",
       "      <td>Shooter</td>\n",
       "      <td>0.58</td>\n",
       "      <td>0.81</td>\n",
       "      <td>0.00</td>\n",
       "      <td>0.23</td>\n",
       "      <td>81.0</td>\n",
       "      <td>5.2</td>\n",
       "      <td>M</td>\n",
       "    </tr>\n",
       "    <tr>\n",
       "      <th>1149</th>\n",
       "      <td>Rock Band</td>\n",
       "      <td>PS3</td>\n",
       "      <td>NaN</td>\n",
       "      <td>Misc</td>\n",
       "      <td>0.99</td>\n",
       "      <td>0.41</td>\n",
       "      <td>0.00</td>\n",
       "      <td>0.22</td>\n",
       "      <td>92.0</td>\n",
       "      <td>8.4</td>\n",
       "      <td>T</td>\n",
       "    </tr>\n",
       "    <tr>\n",
       "      <th>1310</th>\n",
       "      <td>Triple Play 99</td>\n",
       "      <td>PS</td>\n",
       "      <td>NaN</td>\n",
       "      <td>Sports</td>\n",
       "      <td>0.81</td>\n",
       "      <td>0.55</td>\n",
       "      <td>0.00</td>\n",
       "      <td>0.10</td>\n",
       "      <td>NaN</td>\n",
       "      <td>NaN</td>\n",
       "      <td>NaN</td>\n",
       "    </tr>\n",
       "    <tr>\n",
       "      <th>1520</th>\n",
       "      <td>Adventure</td>\n",
       "      <td>2600</td>\n",
       "      <td>NaN</td>\n",
       "      <td>Adventure</td>\n",
       "      <td>1.21</td>\n",
       "      <td>0.08</td>\n",
       "      <td>0.00</td>\n",
       "      <td>0.01</td>\n",
       "      <td>NaN</td>\n",
       "      <td>NaN</td>\n",
       "      <td>NaN</td>\n",
       "    </tr>\n",
       "    <tr>\n",
       "      <th>1552</th>\n",
       "      <td>LEGO Batman: The Videogame</td>\n",
       "      <td>PSP</td>\n",
       "      <td>NaN</td>\n",
       "      <td>Action</td>\n",
       "      <td>0.57</td>\n",
       "      <td>0.44</td>\n",
       "      <td>0.00</td>\n",
       "      <td>0.27</td>\n",
       "      <td>73.0</td>\n",
       "      <td>7.4</td>\n",
       "      <td>E10+</td>\n",
       "    </tr>\n",
       "    <tr>\n",
       "      <th>1599</th>\n",
       "      <td>Combat</td>\n",
       "      <td>2600</td>\n",
       "      <td>NaN</td>\n",
       "      <td>Action</td>\n",
       "      <td>1.17</td>\n",
       "      <td>0.07</td>\n",
       "      <td>0.00</td>\n",
       "      <td>0.01</td>\n",
       "      <td>NaN</td>\n",
       "      <td>NaN</td>\n",
       "      <td>NaN</td>\n",
       "    </tr>\n",
       "    <tr>\n",
       "      <th>1623</th>\n",
       "      <td>LEGO Harry Potter: Years 5-7</td>\n",
       "      <td>Wii</td>\n",
       "      <td>NaN</td>\n",
       "      <td>Action</td>\n",
       "      <td>0.69</td>\n",
       "      <td>0.42</td>\n",
       "      <td>0.00</td>\n",
       "      <td>0.12</td>\n",
       "      <td>76.0</td>\n",
       "      <td>7.8</td>\n",
       "      <td>E10+</td>\n",
       "    </tr>\n",
       "    <tr>\n",
       "      <th>1664</th>\n",
       "      <td>NASCAR Thunder 2003</td>\n",
       "      <td>PS2</td>\n",
       "      <td>NaN</td>\n",
       "      <td>Racing</td>\n",
       "      <td>0.60</td>\n",
       "      <td>0.46</td>\n",
       "      <td>0.00</td>\n",
       "      <td>0.16</td>\n",
       "      <td>84.0</td>\n",
       "      <td>8.7</td>\n",
       "      <td>E</td>\n",
       "    </tr>\n",
       "    <tr>\n",
       "      <th>1714</th>\n",
       "      <td>Hitman 2: Silent Assassin</td>\n",
       "      <td>XB</td>\n",
       "      <td>NaN</td>\n",
       "      <td>Action</td>\n",
       "      <td>0.76</td>\n",
       "      <td>0.38</td>\n",
       "      <td>0.00</td>\n",
       "      <td>0.05</td>\n",
       "      <td>84.0</td>\n",
       "      <td>8.0</td>\n",
       "      <td>M</td>\n",
       "    </tr>\n",
       "    <tr>\n",
       "      <th>1859</th>\n",
       "      <td>Rock Band</td>\n",
       "      <td>PS2</td>\n",
       "      <td>NaN</td>\n",
       "      <td>Misc</td>\n",
       "      <td>0.71</td>\n",
       "      <td>0.06</td>\n",
       "      <td>0.00</td>\n",
       "      <td>0.35</td>\n",
       "      <td>82.0</td>\n",
       "      <td>6.8</td>\n",
       "      <td>T</td>\n",
       "    </tr>\n",
       "    <tr>\n",
       "      <th>2003</th>\n",
       "      <td>Legacy of Kain: Soul Reaver</td>\n",
       "      <td>PS</td>\n",
       "      <td>NaN</td>\n",
       "      <td>Action</td>\n",
       "      <td>0.58</td>\n",
       "      <td>0.40</td>\n",
       "      <td>0.00</td>\n",
       "      <td>0.07</td>\n",
       "      <td>91.0</td>\n",
       "      <td>9.0</td>\n",
       "      <td>T</td>\n",
       "    </tr>\n",
       "    <tr>\n",
       "      <th>2029</th>\n",
       "      <td>Donkey Kong Land III</td>\n",
       "      <td>GB</td>\n",
       "      <td>NaN</td>\n",
       "      <td>Platform</td>\n",
       "      <td>0.68</td>\n",
       "      <td>0.31</td>\n",
       "      <td>0.00</td>\n",
       "      <td>0.04</td>\n",
       "      <td>NaN</td>\n",
       "      <td>NaN</td>\n",
       "      <td>NaN</td>\n",
       "    </tr>\n",
       "    <tr>\n",
       "      <th>2126</th>\n",
       "      <td>Air-Sea Battle</td>\n",
       "      <td>2600</td>\n",
       "      <td>NaN</td>\n",
       "      <td>Shooter</td>\n",
       "      <td>0.91</td>\n",
       "      <td>0.06</td>\n",
       "      <td>0.00</td>\n",
       "      <td>0.01</td>\n",
       "      <td>NaN</td>\n",
       "      <td>NaN</td>\n",
       "      <td>NaN</td>\n",
       "    </tr>\n",
       "    <tr>\n",
       "      <th>2128</th>\n",
       "      <td>Suikoden III</td>\n",
       "      <td>PS2</td>\n",
       "      <td>NaN</td>\n",
       "      <td>Role-Playing</td>\n",
       "      <td>0.29</td>\n",
       "      <td>0.23</td>\n",
       "      <td>0.38</td>\n",
       "      <td>0.08</td>\n",
       "      <td>86.0</td>\n",
       "      <td>7.7</td>\n",
       "      <td>T</td>\n",
       "    </tr>\n",
       "    <tr>\n",
       "      <th>2152</th>\n",
       "      <td>LEGO Harry Potter: Years 5-7</td>\n",
       "      <td>X360</td>\n",
       "      <td>NaN</td>\n",
       "      <td>Action</td>\n",
       "      <td>0.51</td>\n",
       "      <td>0.37</td>\n",
       "      <td>0.00</td>\n",
       "      <td>0.09</td>\n",
       "      <td>77.0</td>\n",
       "      <td>7.9</td>\n",
       "      <td>E10+</td>\n",
       "    </tr>\n",
       "    <tr>\n",
       "      <th>2177</th>\n",
       "      <td>Wheel of Fortune</td>\n",
       "      <td>PS2</td>\n",
       "      <td>NaN</td>\n",
       "      <td>Misc</td>\n",
       "      <td>0.47</td>\n",
       "      <td>0.36</td>\n",
       "      <td>0.00</td>\n",
       "      <td>0.12</td>\n",
       "      <td>NaN</td>\n",
       "      <td>NaN</td>\n",
       "      <td>E</td>\n",
       "    </tr>\n",
       "    <tr>\n",
       "      <th>2189</th>\n",
       "      <td>Yakuza 4</td>\n",
       "      <td>PS3</td>\n",
       "      <td>NaN</td>\n",
       "      <td>Action</td>\n",
       "      <td>0.15</td>\n",
       "      <td>0.13</td>\n",
       "      <td>0.63</td>\n",
       "      <td>0.05</td>\n",
       "      <td>78.0</td>\n",
       "      <td>8.0</td>\n",
       "      <td>M</td>\n",
       "    </tr>\n",
       "    <tr>\n",
       "      <th>2294</th>\n",
       "      <td>LEGO Harry Potter: Years 5-7</td>\n",
       "      <td>PS3</td>\n",
       "      <td>NaN</td>\n",
       "      <td>Action</td>\n",
       "      <td>0.36</td>\n",
       "      <td>0.41</td>\n",
       "      <td>0.00</td>\n",
       "      <td>0.15</td>\n",
       "      <td>76.0</td>\n",
       "      <td>8.3</td>\n",
       "      <td>E10+</td>\n",
       "    </tr>\n",
       "    <tr>\n",
       "      <th>2302</th>\n",
       "      <td>Namco Museum</td>\n",
       "      <td>XB</td>\n",
       "      <td>NaN</td>\n",
       "      <td>Misc</td>\n",
       "      <td>0.77</td>\n",
       "      <td>0.11</td>\n",
       "      <td>0.00</td>\n",
       "      <td>0.04</td>\n",
       "      <td>59.0</td>\n",
       "      <td>NaN</td>\n",
       "      <td>E</td>\n",
       "    </tr>\n",
       "    <tr>\n",
       "      <th>2383</th>\n",
       "      <td>Rhythm Heaven</td>\n",
       "      <td>Wii</td>\n",
       "      <td>NaN</td>\n",
       "      <td>Misc</td>\n",
       "      <td>0.11</td>\n",
       "      <td>0.00</td>\n",
       "      <td>0.77</td>\n",
       "      <td>0.01</td>\n",
       "      <td>NaN</td>\n",
       "      <td>NaN</td>\n",
       "      <td>NaN</td>\n",
       "    </tr>\n",
       "  </tbody>\n",
       "</table>\n",
       "</div>"
      ],
      "text/plain": [
       "                                             name platform  year_of_release  \\\n",
       "183                               Madden NFL 2004      PS2              NaN   \n",
       "379                              FIFA Soccer 2004      PS2              NaN   \n",
       "458                    LEGO Batman: The Videogame      Wii              NaN   \n",
       "477                    wwe Smackdown vs. Raw 2006      PS2              NaN   \n",
       "611                                Space Invaders     2600              NaN   \n",
       "629                                     Rock Band     X360              NaN   \n",
       "659      Frogger's Adventures: Temple of the Frog      GBA              NaN   \n",
       "680   LEGO Indiana Jones: The Original Adventures      Wii              NaN   \n",
       "722                                Call of Duty 3      Wii              NaN   \n",
       "808                                     Rock Band      Wii              NaN   \n",
       "1138                      Call of Duty: Black Ops       PC              NaN   \n",
       "1149                                    Rock Band      PS3              NaN   \n",
       "1310                               Triple Play 99       PS              NaN   \n",
       "1520                                    Adventure     2600              NaN   \n",
       "1552                   LEGO Batman: The Videogame      PSP              NaN   \n",
       "1599                                       Combat     2600              NaN   \n",
       "1623                 LEGO Harry Potter: Years 5-7      Wii              NaN   \n",
       "1664                          NASCAR Thunder 2003      PS2              NaN   \n",
       "1714                    Hitman 2: Silent Assassin       XB              NaN   \n",
       "1859                                    Rock Band      PS2              NaN   \n",
       "2003                  Legacy of Kain: Soul Reaver       PS              NaN   \n",
       "2029                         Donkey Kong Land III       GB              NaN   \n",
       "2126                               Air-Sea Battle     2600              NaN   \n",
       "2128                                 Suikoden III      PS2              NaN   \n",
       "2152                 LEGO Harry Potter: Years 5-7     X360              NaN   \n",
       "2177                             Wheel of Fortune      PS2              NaN   \n",
       "2189                                     Yakuza 4      PS3              NaN   \n",
       "2294                 LEGO Harry Potter: Years 5-7      PS3              NaN   \n",
       "2302                                 Namco Museum       XB              NaN   \n",
       "2383                                Rhythm Heaven      Wii              NaN   \n",
       "\n",
       "             genre  na_sales  eu_sales  jp_sales  other_sales  critic_score  \\\n",
       "183         Sports      4.26      0.26      0.01         0.71          94.0   \n",
       "379         Sports      0.59      2.36      0.04         0.51          84.0   \n",
       "458         Action      1.80      0.97      0.00         0.29          74.0   \n",
       "477       Fighting      1.57      1.02      0.00         0.41           NaN   \n",
       "611        Shooter      2.36      0.14      0.00         0.03           NaN   \n",
       "629           Misc      1.93      0.33      0.00         0.21          92.0   \n",
       "659      Adventure      2.15      0.18      0.00         0.07          73.0   \n",
       "680         Action      1.51      0.61      0.00         0.21          78.0   \n",
       "722        Shooter      1.17      0.84      0.00         0.23          69.0   \n",
       "808           Misc      1.33      0.56      0.00         0.20          80.0   \n",
       "1138       Shooter      0.58      0.81      0.00         0.23          81.0   \n",
       "1149          Misc      0.99      0.41      0.00         0.22          92.0   \n",
       "1310        Sports      0.81      0.55      0.00         0.10           NaN   \n",
       "1520     Adventure      1.21      0.08      0.00         0.01           NaN   \n",
       "1552        Action      0.57      0.44      0.00         0.27          73.0   \n",
       "1599        Action      1.17      0.07      0.00         0.01           NaN   \n",
       "1623        Action      0.69      0.42      0.00         0.12          76.0   \n",
       "1664        Racing      0.60      0.46      0.00         0.16          84.0   \n",
       "1714        Action      0.76      0.38      0.00         0.05          84.0   \n",
       "1859          Misc      0.71      0.06      0.00         0.35          82.0   \n",
       "2003        Action      0.58      0.40      0.00         0.07          91.0   \n",
       "2029      Platform      0.68      0.31      0.00         0.04           NaN   \n",
       "2126       Shooter      0.91      0.06      0.00         0.01           NaN   \n",
       "2128  Role-Playing      0.29      0.23      0.38         0.08          86.0   \n",
       "2152        Action      0.51      0.37      0.00         0.09          77.0   \n",
       "2177          Misc      0.47      0.36      0.00         0.12           NaN   \n",
       "2189        Action      0.15      0.13      0.63         0.05          78.0   \n",
       "2294        Action      0.36      0.41      0.00         0.15          76.0   \n",
       "2302          Misc      0.77      0.11      0.00         0.04          59.0   \n",
       "2383          Misc      0.11      0.00      0.77         0.01           NaN   \n",
       "\n",
       "      user_score rating  \n",
       "183          8.5      E  \n",
       "379          6.4      E  \n",
       "458          7.9   E10+  \n",
       "477          NaN    NaN  \n",
       "611          NaN    NaN  \n",
       "629          8.2      T  \n",
       "659          NaN      E  \n",
       "680          6.6   E10+  \n",
       "722          6.7      T  \n",
       "808          6.3      T  \n",
       "1138         5.2      M  \n",
       "1149         8.4      T  \n",
       "1310         NaN    NaN  \n",
       "1520         NaN    NaN  \n",
       "1552         7.4   E10+  \n",
       "1599         NaN    NaN  \n",
       "1623         7.8   E10+  \n",
       "1664         8.7      E  \n",
       "1714         8.0      M  \n",
       "1859         6.8      T  \n",
       "2003         9.0      T  \n",
       "2029         NaN    NaN  \n",
       "2126         NaN    NaN  \n",
       "2128         7.7      T  \n",
       "2152         7.9   E10+  \n",
       "2177         NaN      E  \n",
       "2189         8.0      M  \n",
       "2294         8.3   E10+  \n",
       "2302         NaN      E  \n",
       "2383         NaN    NaN  "
      ]
     },
     "metadata": {},
     "output_type": "display_data"
    }
   ],
   "source": [
    "# Выведем налбюдения с пропускми в столбце year_of_release\n",
    "display(df[df['year_of_release'].isna()].head(30))"
   ]
  },
  {
   "cell_type": "markdown",
   "id": "5a3bff21",
   "metadata": {},
   "source": [
    "В строках с пропусками в столбце year_of_release можно заметить, что некоторые названия игр в конце содержат год выпуска, поэтому для таких случаев, можно перенести этот год в столбец year_of_release. В остальных случаях идеальным вариантом было бы найти эти игры в открытых источниках и вручную указать для них год выпуска, но поскольку данных достаточно много, заменим оставшиеся пропуски на ноль."
   ]
  },
  {
   "cell_type": "code",
   "execution_count": 15,
   "id": "598b5055",
   "metadata": {},
   "outputs": [
    {
     "data": {
      "text/plain": [
       "0.0"
      ]
     },
     "metadata": {},
     "output_type": "display_data"
    },
    {
     "data": {
      "text/plain": [
       "2016.0"
      ]
     },
     "metadata": {},
     "output_type": "display_data"
    },
    {
     "data": {
      "text/plain": [
       "0"
      ]
     },
     "metadata": {},
     "output_type": "display_data"
    },
    {
     "name": "stdout",
     "output_type": "stream",
     "text": [
      "<class 'pandas.core.frame.DataFrame'>\n",
      "Int64Index: 16954 entries, 0 to 16955\n",
      "Data columns (total 11 columns):\n",
      " #   Column           Non-Null Count  Dtype  \n",
      "---  ------           --------------  -----  \n",
      " 0   name             16954 non-null  object \n",
      " 1   platform         16954 non-null  object \n",
      " 2   year_of_release  16954 non-null  float64\n",
      " 3   genre            16954 non-null  object \n",
      " 4   na_sales         16954 non-null  float64\n",
      " 5   eu_sales         16948 non-null  float64\n",
      " 6   jp_sales         16950 non-null  float64\n",
      " 7   other_sales      16954 non-null  float64\n",
      " 8   critic_score     8242 non-null   float64\n",
      " 9   user_score       7688 non-null   float64\n",
      " 10  rating           10085 non-null  object \n",
      "dtypes: float64(7), object(4)\n",
      "memory usage: 1.6+ MB\n"
     ]
    }
   ],
   "source": [
    "# Проверяем является ли последние четыре значения в столбце name цифрами, если да, то возвращаем их, если нет, то возвращаем ноль\n",
    "def game_year(x):\n",
    "    if x[-4:].isdigit():\n",
    "        return int(x[-4:])\n",
    "    return 0\n",
    "\n",
    "# Заменяем данные функции в столбце \n",
    "df['year_of_release'] = df['year_of_release'].fillna(df['name'].apply(game_year))\n",
    "\n",
    "# Проверяем не попало ли в датафрейм аномальных значений year_of_release\n",
    "display(df['year_of_release'].min())\n",
    "display(df['year_of_release'].max())\n",
    "\n",
    "count = 0\n",
    "for i in df['year_of_release']:\n",
    "    if i > 0 and i < 1900:\n",
    "        count = count + 1\n",
    "display(count) # показатель отражает, что в данных нет четырех-значных значений, непохожих на год (кроме нуля)\n",
    "        \n",
    "\n",
    "df.info()"
   ]
  },
  {
   "cell_type": "markdown",
   "id": "eeecb3b6",
   "metadata": {},
   "source": [
    "Также проверим не попали ли в датафрейм года из названий игр, где последние четыре значения указаны в виде будующих годов (например, 2045):\n",
    "\n"
   ]
  },
  {
   "cell_type": "code",
   "execution_count": 16,
   "id": "393025e3",
   "metadata": {},
   "outputs": [
    {
     "data": {
      "text/plain": [
       "0"
      ]
     },
     "metadata": {},
     "output_type": "display_data"
    }
   ],
   "source": [
    "count = 0\n",
    "for i in df['year_of_release']:\n",
    "    if i > 2016:\n",
    "        count = count + 1\n",
    "display(count) # показатель отражает, что в данных нет четырех-значных значений, выходящих за максимальное значение года в датафрейме"
   ]
  },
  {
   "cell_type": "code",
   "execution_count": 17,
   "id": "4bdda1ff",
   "metadata": {},
   "outputs": [
    {
     "data": {
      "text/plain": [
       "dtype('int64')"
      ]
     },
     "metadata": {},
     "output_type": "display_data"
    }
   ],
   "source": [
    "# Переведем значения year_of_release в более удобный тип int64\n",
    "df['year_of_release'] = df['year_of_release'].astype('int64')\n",
    "\n",
    "display(df['year_of_release'].dtypes)"
   ]
  },
  {
   "cell_type": "code",
   "execution_count": 18,
   "id": "fe62f460",
   "metadata": {},
   "outputs": [
    {
     "name": "stdout",
     "output_type": "stream",
     "text": [
      "<class 'pandas.core.frame.DataFrame'>\n",
      "Int64Index: 16954 entries, 0 to 16955\n",
      "Data columns (total 11 columns):\n",
      " #   Column           Non-Null Count  Dtype  \n",
      "---  ------           --------------  -----  \n",
      " 0   name             16954 non-null  object \n",
      " 1   platform         16954 non-null  object \n",
      " 2   year_of_release  16954 non-null  int64  \n",
      " 3   genre            16954 non-null  object \n",
      " 4   na_sales         16954 non-null  float64\n",
      " 5   eu_sales         16948 non-null  float64\n",
      " 6   jp_sales         16950 non-null  float64\n",
      " 7   other_sales      16954 non-null  float64\n",
      " 8   critic_score     16954 non-null  float64\n",
      " 9   user_score       16954 non-null  float64\n",
      " 10  rating           10085 non-null  object \n",
      "dtypes: float64(6), int64(1), object(4)\n",
      "memory usage: 1.6+ MB\n"
     ]
    }
   ],
   "source": [
    "# Заполняем пропуски в столбцах critic_score, user_score и rating индексом \"-1\"\n",
    "for i in ['critic_score', 'user_score']:\n",
    "    df[i] = df[i].fillna(-1)\n",
    "\n",
    "df.info()"
   ]
  },
  {
   "cell_type": "markdown",
   "id": "9ee85f29",
   "metadata": {},
   "source": [
    "Заполняем пропуски в столбце `rating` индексом \"no rating\":"
   ]
  },
  {
   "cell_type": "code",
   "execution_count": 19,
   "id": "f3d7a269",
   "metadata": {},
   "outputs": [
    {
     "name": "stdout",
     "output_type": "stream",
     "text": [
      "<class 'pandas.core.frame.DataFrame'>\n",
      "Int64Index: 16954 entries, 0 to 16955\n",
      "Data columns (total 11 columns):\n",
      " #   Column           Non-Null Count  Dtype   \n",
      "---  ------           --------------  -----   \n",
      " 0   name             16954 non-null  object  \n",
      " 1   platform         16954 non-null  object  \n",
      " 2   year_of_release  16954 non-null  int64   \n",
      " 3   genre            16954 non-null  object  \n",
      " 4   na_sales         16954 non-null  float64 \n",
      " 5   eu_sales         16948 non-null  float64 \n",
      " 6   jp_sales         16950 non-null  float64 \n",
      " 7   other_sales      16954 non-null  float64 \n",
      " 8   critic_score     16954 non-null  float64 \n",
      " 9   user_score       16954 non-null  float64 \n",
      " 10  rating           16954 non-null  category\n",
      "dtypes: category(1), float64(6), int64(1), object(3)\n",
      "memory usage: 1.4+ MB\n"
     ]
    }
   ],
   "source": [
    "df['rating'] = df['rating'].fillna(\"no rating\")\n",
    "\n",
    "# Кроме этого переведем столбец rating в тип данных category\n",
    "df['rating'] = df['rating'].astype('category')\n",
    "df.info()"
   ]
  },
  {
   "cell_type": "markdown",
   "id": "558cc9eb",
   "metadata": {},
   "source": [
    "Последним этапом работы с пропусками будет исправление появившихся NaN в столбцах `eu_sales` и `jp_sales`. Исправим их с помощью метода `apply` и присвоим средние значения аналогичных данных в зависимости от названия платформы и года выхода игры."
   ]
  },
  {
   "cell_type": "code",
   "execution_count": 20,
   "id": "0d339cdb",
   "metadata": {},
   "outputs": [],
   "source": [
    "def mean_group(x):\n",
    "    if pd.isna(x['eu_sales']):\n",
    "        group = df[(df['year_of_release'] == x['year_of_release']) &\n",
    "                  (df['platform'] == x['platform'])]\n",
    "        return group['eu_sales'].mean()\n",
    "    else:\n",
    "        return x['eu_sales']\n",
    "df['eu_sales'] = df.apply(mean_group, axis = 1)"
   ]
  },
  {
   "cell_type": "code",
   "execution_count": 21,
   "id": "cee3d755",
   "metadata": {},
   "outputs": [
    {
     "name": "stdout",
     "output_type": "stream",
     "text": [
      "<class 'pandas.core.frame.DataFrame'>\n",
      "Int64Index: 16954 entries, 0 to 16955\n",
      "Data columns (total 11 columns):\n",
      " #   Column           Non-Null Count  Dtype   \n",
      "---  ------           --------------  -----   \n",
      " 0   name             16954 non-null  object  \n",
      " 1   platform         16954 non-null  object  \n",
      " 2   year_of_release  16954 non-null  int64   \n",
      " 3   genre            16954 non-null  object  \n",
      " 4   na_sales         16954 non-null  float64 \n",
      " 5   eu_sales         16954 non-null  float64 \n",
      " 6   jp_sales         16954 non-null  float64 \n",
      " 7   other_sales      16954 non-null  float64 \n",
      " 8   critic_score     16954 non-null  float64 \n",
      " 9   user_score       16954 non-null  float64 \n",
      " 10  rating           16954 non-null  category\n",
      "dtypes: category(1), float64(6), int64(1), object(3)\n",
      "memory usage: 1.4+ MB\n"
     ]
    }
   ],
   "source": [
    "# То же самое для столбца jp_sales\n",
    "def mean_group(x):\n",
    "    if pd.isna(x['jp_sales']):\n",
    "        group = df[(df['year_of_release'] == x['year_of_release']) &\n",
    "                  (df['platform'] == x['platform'])]\n",
    "        return group['jp_sales'].mean()\n",
    "    else:\n",
    "        return x['jp_sales']\n",
    "df['jp_sales'] = df.apply(mean_group, axis = 1)\n",
    "\n",
    "df.info()"
   ]
  },
  {
   "cell_type": "markdown",
   "id": "db0796dd",
   "metadata": {},
   "source": [
    "Таким образом мы избавились от всех пропусков в данных, в итоге из 16 956 наблюдений было удалено 2 наблюдения"
   ]
  },
  {
   "cell_type": "markdown",
   "id": "a63363fd",
   "metadata": {},
   "source": [
    "### 2.4. Явные и неявные дубликаты в данных: \n"
   ]
  },
  {
   "cell_type": "code",
   "execution_count": 22,
   "id": "491c9c39",
   "metadata": {},
   "outputs": [
    {
     "data": {
      "text/plain": [
       "array(['Sports', 'Platform', 'Racing', 'Role-Playing', 'Puzzle', 'Misc',\n",
       "       'Shooter', 'Simulation', 'Action', 'Fighting', 'Adventure',\n",
       "       'Strategy', 'MISC', 'ROLE-PLAYING', 'RACING', 'ACTION', 'SHOOTER',\n",
       "       'FIGHTING', 'SPORTS', 'PLATFORM', 'ADVENTURE', 'SIMULATION',\n",
       "       'PUZZLE', 'STRATEGY'], dtype=object)"
      ]
     },
     "metadata": {},
     "output_type": "display_data"
    },
    {
     "data": {
      "text/plain": [
       "array(['Wii', 'NES', 'GB', 'DS', 'X360', 'PS3', 'PS2', 'SNES', 'GBA',\n",
       "       'PS4', '3DS', 'N64', 'PS', 'XB', 'PC', '2600', 'PSP', 'XOne',\n",
       "       'WiiU', 'GC', 'GEN', 'DC', 'PSV', 'SAT', 'SCD', 'WS', 'NG', 'TG16',\n",
       "       '3DO', 'GG', 'PCFX'], dtype=object)"
      ]
     },
     "metadata": {},
     "output_type": "display_data"
    },
    {
     "data": {
      "text/plain": [
       "['E', 'no rating', 'M', 'T', 'E10+', 'K-A', 'AO', 'EC', 'RP']\n",
       "Categories (9, object): ['E', 'no rating', 'M', 'T', ..., 'K-A', 'AO', 'EC', 'RP']"
      ]
     },
     "metadata": {},
     "output_type": "display_data"
    },
    {
     "data": {
      "text/plain": [
       "array([2006, 1985, 2008, 2009, 1996, 1989, 1984, 2005, 1999, 2007, 2010,\n",
       "       2013, 2004, 1990, 1988, 2002, 2001, 2011, 1998, 2015, 2012, 2014,\n",
       "       1992, 1997, 1993, 1994, 1982, 2016, 2003, 1986, 2000, 1995, 1991,\n",
       "       1981, 1987, 1980, 1983,    0])"
      ]
     },
     "metadata": {},
     "output_type": "display_data"
    }
   ],
   "source": [
    "for i in ['genre', 'platform', 'rating', 'year_of_release']:\n",
    "    unique_v = df[i].unique()\n",
    "    display(unique_v)"
   ]
  },
  {
   "cell_type": "markdown",
   "id": "54c1fdc3",
   "metadata": {},
   "source": [
    "В столбце `genre` присутствуют неявные дубликаты по формату записи;\n",
    "\n",
    "Можно также заметить, что в столбце `rating` присутствует неявное дублирование в виде синонимов **E** и **K-A**.\n",
    "\n",
    "Проведем нормализацию данных с текстовыми значениями:"
   ]
  },
  {
   "cell_type": "code",
   "execution_count": 23,
   "id": "fc5c91b5",
   "metadata": {},
   "outputs": [],
   "source": [
    "# Переведем значения столбцов genre и name к нижнему регистру\n",
    "df['genre'] = df['genre'].str.lower()\n",
    "df['name'] = df['name'].str.lower()"
   ]
  },
  {
   "cell_type": "code",
   "execution_count": 24,
   "id": "c2635698",
   "metadata": {},
   "outputs": [],
   "source": [
    "# Переведем значения столбца rating к верхнему регистру и исключаем синоноимы\n",
    "df['rating'] = df['rating'].str.upper()\n",
    "df['rating'] = df['rating'].str.replace('K-A', 'E')"
   ]
  },
  {
   "cell_type": "code",
   "execution_count": 25,
   "id": "24a40157",
   "metadata": {},
   "outputs": [
    {
     "data": {
      "text/plain": [
       "241"
      ]
     },
     "metadata": {},
     "output_type": "display_data"
    }
   ],
   "source": [
    "# Посчитаем количество явных дубликатов после нормализации данных\n",
    "duplicates = df.duplicated().sum()\n",
    "display(duplicates)"
   ]
  },
  {
   "cell_type": "code",
   "execution_count": 26,
   "id": "5fcabf50",
   "metadata": {},
   "outputs": [
    {
     "data": {
      "text/plain": [
       "16713"
      ]
     },
     "execution_count": 26,
     "metadata": {},
     "output_type": "execute_result"
    }
   ],
   "source": [
    "# Создадим датафрейм, очищенный от дупликатов и посчитаем его длину\n",
    "df_clean = df.drop_duplicates(keep='first', inplace=False)\n",
    "len(df_clean)"
   ]
  },
  {
   "cell_type": "code",
   "execution_count": 27,
   "id": "7fc8f28a",
   "metadata": {},
   "outputs": [
    {
     "data": {
      "text/plain": [
       "1.4214934528724785"
      ]
     },
     "metadata": {},
     "output_type": "display_data"
    }
   ],
   "source": [
    "# Процент дубликатов d исходном датафрейме\n",
    "display((duplicates / df.shape[0]) * 100)"
   ]
  },
  {
   "cell_type": "code",
   "execution_count": 28,
   "id": "6f655c9a",
   "metadata": {},
   "outputs": [
    {
     "data": {
      "text/plain": [
       "0"
      ]
     },
     "execution_count": 28,
     "metadata": {},
     "output_type": "execute_result"
    }
   ],
   "source": [
    "# Проверим наличие явных дубликатов в новом датафрейме\n",
    "df_clean.duplicated().sum()"
   ]
  },
  {
   "cell_type": "code",
   "execution_count": 29,
   "id": "2ed3a526",
   "metadata": {},
   "outputs": [
    {
     "name": "stdout",
     "output_type": "stream",
     "text": [
      "<class 'pandas.core.frame.DataFrame'>\n",
      "Int64Index: 16713 entries, 0 to 16955\n",
      "Data columns (total 11 columns):\n",
      " #   Column           Non-Null Count  Dtype  \n",
      "---  ------           --------------  -----  \n",
      " 0   name             16713 non-null  object \n",
      " 1   platform         16713 non-null  object \n",
      " 2   year_of_release  16713 non-null  int64  \n",
      " 3   genre            16713 non-null  object \n",
      " 4   na_sales         16713 non-null  float64\n",
      " 5   eu_sales         16713 non-null  float64\n",
      " 6   jp_sales         16713 non-null  float64\n",
      " 7   other_sales      16713 non-null  float64\n",
      " 8   critic_score     16713 non-null  float64\n",
      " 9   user_score       16713 non-null  float64\n",
      " 10  rating           16713 non-null  object \n",
      "dtypes: float64(6), int64(1), object(4)\n",
      "memory usage: 1.5+ MB\n"
     ]
    }
   ],
   "source": [
    "df_clean.info()"
   ]
  },
  {
   "cell_type": "markdown",
   "id": "c1d8971e",
   "metadata": {},
   "source": [
    "В итоге из изначального датафрейма было удалено: \n",
    "- **2** наблюдения в связи с пропусками\n",
    "- **241** или **1.4%** наблюдений в связи с наличеем дубликатов"
   ]
  },
  {
   "cell_type": "markdown",
   "id": "613f0eb0",
   "metadata": {},
   "source": [
    "---\n",
    "\n",
    "## 3. Фильтрация данных\n",
    "\n",
    "Коллеги хотят изучить историю продаж игр в начале XXI века, и их интересует период с 2000 по 2013 год включительно. Отберем данные по этому показателю. Сохраним новый срез данных в отдельном датафрейме `df_actual`."
   ]
  },
  {
   "cell_type": "code",
   "execution_count": 30,
   "id": "2344916d",
   "metadata": {},
   "outputs": [
    {
     "name": "stdout",
     "output_type": "stream",
     "text": [
      "<class 'pandas.core.frame.DataFrame'>\n",
      "Int64Index: 12796 entries, 0 to 16954\n",
      "Data columns (total 11 columns):\n",
      " #   Column           Non-Null Count  Dtype  \n",
      "---  ------           --------------  -----  \n",
      " 0   name             12796 non-null  object \n",
      " 1   platform         12796 non-null  object \n",
      " 2   year_of_release  12796 non-null  int64  \n",
      " 3   genre            12796 non-null  object \n",
      " 4   na_sales         12796 non-null  float64\n",
      " 5   eu_sales         12796 non-null  float64\n",
      " 6   jp_sales         12796 non-null  float64\n",
      " 7   other_sales      12796 non-null  float64\n",
      " 8   critic_score     12796 non-null  float64\n",
      " 9   user_score       12796 non-null  float64\n",
      " 10  rating           12796 non-null  object \n",
      "dtypes: float64(6), int64(1), object(4)\n",
      "memory usage: 1.2+ MB\n"
     ]
    },
    {
     "data": {
      "text/html": [
       "<div>\n",
       "<style scoped>\n",
       "    .dataframe tbody tr th:only-of-type {\n",
       "        vertical-align: middle;\n",
       "    }\n",
       "\n",
       "    .dataframe tbody tr th {\n",
       "        vertical-align: top;\n",
       "    }\n",
       "\n",
       "    .dataframe thead th {\n",
       "        text-align: right;\n",
       "    }\n",
       "</style>\n",
       "<table border=\"1\" class=\"dataframe\">\n",
       "  <thead>\n",
       "    <tr style=\"text-align: right;\">\n",
       "      <th></th>\n",
       "      <th>name</th>\n",
       "      <th>platform</th>\n",
       "      <th>year_of_release</th>\n",
       "      <th>genre</th>\n",
       "      <th>na_sales</th>\n",
       "      <th>eu_sales</th>\n",
       "      <th>jp_sales</th>\n",
       "      <th>other_sales</th>\n",
       "      <th>critic_score</th>\n",
       "      <th>user_score</th>\n",
       "      <th>rating</th>\n",
       "    </tr>\n",
       "  </thead>\n",
       "  <tbody>\n",
       "    <tr>\n",
       "      <th>0</th>\n",
       "      <td>wii sports</td>\n",
       "      <td>Wii</td>\n",
       "      <td>2006</td>\n",
       "      <td>sports</td>\n",
       "      <td>41.36</td>\n",
       "      <td>28.96</td>\n",
       "      <td>3.77</td>\n",
       "      <td>8.45</td>\n",
       "      <td>76.0</td>\n",
       "      <td>8.0</td>\n",
       "      <td>E</td>\n",
       "    </tr>\n",
       "    <tr>\n",
       "      <th>2</th>\n",
       "      <td>mario kart wii</td>\n",
       "      <td>Wii</td>\n",
       "      <td>2008</td>\n",
       "      <td>racing</td>\n",
       "      <td>15.68</td>\n",
       "      <td>12.76</td>\n",
       "      <td>3.79</td>\n",
       "      <td>3.29</td>\n",
       "      <td>82.0</td>\n",
       "      <td>8.3</td>\n",
       "      <td>E</td>\n",
       "    </tr>\n",
       "    <tr>\n",
       "      <th>3</th>\n",
       "      <td>wii sports resort</td>\n",
       "      <td>Wii</td>\n",
       "      <td>2009</td>\n",
       "      <td>sports</td>\n",
       "      <td>15.61</td>\n",
       "      <td>10.93</td>\n",
       "      <td>3.28</td>\n",
       "      <td>2.95</td>\n",
       "      <td>80.0</td>\n",
       "      <td>8.0</td>\n",
       "      <td>E</td>\n",
       "    </tr>\n",
       "    <tr>\n",
       "      <th>6</th>\n",
       "      <td>new super mario bros.</td>\n",
       "      <td>DS</td>\n",
       "      <td>2006</td>\n",
       "      <td>platform</td>\n",
       "      <td>11.28</td>\n",
       "      <td>9.14</td>\n",
       "      <td>6.50</td>\n",
       "      <td>2.88</td>\n",
       "      <td>89.0</td>\n",
       "      <td>8.5</td>\n",
       "      <td>E</td>\n",
       "    </tr>\n",
       "    <tr>\n",
       "      <th>7</th>\n",
       "      <td>wii play</td>\n",
       "      <td>Wii</td>\n",
       "      <td>2006</td>\n",
       "      <td>misc</td>\n",
       "      <td>13.96</td>\n",
       "      <td>9.18</td>\n",
       "      <td>2.93</td>\n",
       "      <td>2.84</td>\n",
       "      <td>58.0</td>\n",
       "      <td>6.6</td>\n",
       "      <td>E</td>\n",
       "    </tr>\n",
       "  </tbody>\n",
       "</table>\n",
       "</div>"
      ],
      "text/plain": [
       "                    name platform  year_of_release     genre  na_sales  \\\n",
       "0             wii sports      Wii             2006    sports     41.36   \n",
       "2         mario kart wii      Wii             2008    racing     15.68   \n",
       "3      wii sports resort      Wii             2009    sports     15.61   \n",
       "6  new super mario bros.       DS             2006  platform     11.28   \n",
       "7               wii play      Wii             2006      misc     13.96   \n",
       "\n",
       "   eu_sales  jp_sales  other_sales  critic_score  user_score rating  \n",
       "0     28.96      3.77         8.45          76.0         8.0      E  \n",
       "2     12.76      3.79         3.29          82.0         8.3      E  \n",
       "3     10.93      3.28         2.95          80.0         8.0      E  \n",
       "6      9.14      6.50         2.88          89.0         8.5      E  \n",
       "7      9.18      2.93         2.84          58.0         6.6      E  "
      ]
     },
     "execution_count": 30,
     "metadata": {},
     "output_type": "execute_result"
    }
   ],
   "source": [
    "# Создаем новый датафрейм на основе данных за период 2000 - 2013\n",
    "\n",
    "df_actual = df_clean.loc[(df_clean['year_of_release'] >= 2000) & (df['year_of_release'] <= 2013)] \n",
    "\n",
    "df_actual.info()\n",
    "df_actual.head()"
   ]
  },
  {
   "cell_type": "markdown",
   "id": "bcd8a2b8",
   "metadata": {},
   "source": [
    "Дополнительно подсчитаем количество игр по годам, чтобы посмотреть тенденцию в объеме выпускаемых игр\n"
   ]
  },
  {
   "cell_type": "code",
   "execution_count": 31,
   "id": "bfdfd2cc",
   "metadata": {},
   "outputs": [
    {
     "data": {
      "text/plain": [
       "year_of_release\n",
       "2008    1429\n",
       "2009    1426\n",
       "2010    1255\n",
       "2007    1198\n",
       "2011    1137\n",
       "2006    1008\n",
       "2005     941\n",
       "2002     830\n",
       "2003     779\n",
       "2004     764\n",
       "2012     653\n",
       "2013     544\n",
       "2001     482\n",
       "2000     350\n",
       "Name: name, dtype: int64"
      ]
     },
     "metadata": {},
     "output_type": "display_data"
    }
   ],
   "source": [
    "df_group_year = df_actual.groupby('year_of_release')['name'].count().sort_values(ascending = False)\n",
    "display(df_group_year)"
   ]
  },
  {
   "cell_type": "markdown",
   "id": "a6f10b01",
   "metadata": {},
   "source": [
    "---\n",
    "\n",
    "## 4. Категоризация данных\n",
    "    "
   ]
  },
  {
   "cell_type": "markdown",
   "id": "88605c22",
   "metadata": {},
   "source": [
    "Создадим копию исходного датафрейма и совершим категоризацию данных на основе столбцов `user_score` и `critic_score`, не включая правые границы игтервалов:\n"
   ]
  },
  {
   "cell_type": "code",
   "execution_count": 32,
   "id": "a717a5c1",
   "metadata": {},
   "outputs": [],
   "source": [
    "df_copy = df_actual.copy()"
   ]
  },
  {
   "cell_type": "code",
   "execution_count": 33,
   "id": "3db87229",
   "metadata": {},
   "outputs": [],
   "source": [
    "# Создадим категоризацию на основе данных user_score\n",
    "df_copy['category_user_score'] = pd.cut(df_copy['user_score'], bins = [-2, 0, 3, 8, 10.1], labels = [\"Нет оценки\", \"Низкая оценка\", \"Средняя оценка\", \"Высокая оценка\"], right = False)"
   ]
  },
  {
   "cell_type": "code",
   "execution_count": 34,
   "id": "548fde17",
   "metadata": {},
   "outputs": [
    {
     "name": "stdout",
     "output_type": "stream",
     "text": [
      "<class 'pandas.core.frame.DataFrame'>\n",
      "Int64Index: 12796 entries, 0 to 16954\n",
      "Data columns (total 13 columns):\n",
      " #   Column                 Non-Null Count  Dtype   \n",
      "---  ------                 --------------  -----   \n",
      " 0   name                   12796 non-null  object  \n",
      " 1   platform               12796 non-null  object  \n",
      " 2   year_of_release        12796 non-null  int64   \n",
      " 3   genre                  12796 non-null  object  \n",
      " 4   na_sales               12796 non-null  float64 \n",
      " 5   eu_sales               12796 non-null  float64 \n",
      " 6   jp_sales               12796 non-null  float64 \n",
      " 7   other_sales            12796 non-null  float64 \n",
      " 8   critic_score           12796 non-null  float64 \n",
      " 9   user_score             12796 non-null  float64 \n",
      " 10  rating                 12796 non-null  object  \n",
      " 11  category_user_score    12796 non-null  category\n",
      " 12  category_critic_score  12796 non-null  category\n",
      "dtypes: category(2), float64(6), int64(1), object(4)\n",
      "memory usage: 1.2+ MB\n"
     ]
    },
    {
     "data": {
      "text/html": [
       "<div>\n",
       "<style scoped>\n",
       "    .dataframe tbody tr th:only-of-type {\n",
       "        vertical-align: middle;\n",
       "    }\n",
       "\n",
       "    .dataframe tbody tr th {\n",
       "        vertical-align: top;\n",
       "    }\n",
       "\n",
       "    .dataframe thead th {\n",
       "        text-align: right;\n",
       "    }\n",
       "</style>\n",
       "<table border=\"1\" class=\"dataframe\">\n",
       "  <thead>\n",
       "    <tr style=\"text-align: right;\">\n",
       "      <th></th>\n",
       "      <th>name</th>\n",
       "      <th>platform</th>\n",
       "      <th>year_of_release</th>\n",
       "      <th>genre</th>\n",
       "      <th>na_sales</th>\n",
       "      <th>eu_sales</th>\n",
       "      <th>jp_sales</th>\n",
       "      <th>other_sales</th>\n",
       "      <th>critic_score</th>\n",
       "      <th>user_score</th>\n",
       "      <th>rating</th>\n",
       "      <th>category_user_score</th>\n",
       "      <th>category_critic_score</th>\n",
       "    </tr>\n",
       "  </thead>\n",
       "  <tbody>\n",
       "    <tr>\n",
       "      <th>0</th>\n",
       "      <td>wii sports</td>\n",
       "      <td>Wii</td>\n",
       "      <td>2006</td>\n",
       "      <td>sports</td>\n",
       "      <td>41.36</td>\n",
       "      <td>28.96</td>\n",
       "      <td>3.77</td>\n",
       "      <td>8.45</td>\n",
       "      <td>76.0</td>\n",
       "      <td>8.0</td>\n",
       "      <td>E</td>\n",
       "      <td>Высокая оценка</td>\n",
       "      <td>Средняя оценка</td>\n",
       "    </tr>\n",
       "    <tr>\n",
       "      <th>2</th>\n",
       "      <td>mario kart wii</td>\n",
       "      <td>Wii</td>\n",
       "      <td>2008</td>\n",
       "      <td>racing</td>\n",
       "      <td>15.68</td>\n",
       "      <td>12.76</td>\n",
       "      <td>3.79</td>\n",
       "      <td>3.29</td>\n",
       "      <td>82.0</td>\n",
       "      <td>8.3</td>\n",
       "      <td>E</td>\n",
       "      <td>Высокая оценка</td>\n",
       "      <td>Высокая оценка</td>\n",
       "    </tr>\n",
       "    <tr>\n",
       "      <th>3</th>\n",
       "      <td>wii sports resort</td>\n",
       "      <td>Wii</td>\n",
       "      <td>2009</td>\n",
       "      <td>sports</td>\n",
       "      <td>15.61</td>\n",
       "      <td>10.93</td>\n",
       "      <td>3.28</td>\n",
       "      <td>2.95</td>\n",
       "      <td>80.0</td>\n",
       "      <td>8.0</td>\n",
       "      <td>E</td>\n",
       "      <td>Высокая оценка</td>\n",
       "      <td>Высокая оценка</td>\n",
       "    </tr>\n",
       "    <tr>\n",
       "      <th>6</th>\n",
       "      <td>new super mario bros.</td>\n",
       "      <td>DS</td>\n",
       "      <td>2006</td>\n",
       "      <td>platform</td>\n",
       "      <td>11.28</td>\n",
       "      <td>9.14</td>\n",
       "      <td>6.50</td>\n",
       "      <td>2.88</td>\n",
       "      <td>89.0</td>\n",
       "      <td>8.5</td>\n",
       "      <td>E</td>\n",
       "      <td>Высокая оценка</td>\n",
       "      <td>Высокая оценка</td>\n",
       "    </tr>\n",
       "    <tr>\n",
       "      <th>7</th>\n",
       "      <td>wii play</td>\n",
       "      <td>Wii</td>\n",
       "      <td>2006</td>\n",
       "      <td>misc</td>\n",
       "      <td>13.96</td>\n",
       "      <td>9.18</td>\n",
       "      <td>2.93</td>\n",
       "      <td>2.84</td>\n",
       "      <td>58.0</td>\n",
       "      <td>6.6</td>\n",
       "      <td>E</td>\n",
       "      <td>Средняя оценка</td>\n",
       "      <td>Средняя оценка</td>\n",
       "    </tr>\n",
       "    <tr>\n",
       "      <th>8</th>\n",
       "      <td>new super mario bros. wii</td>\n",
       "      <td>Wii</td>\n",
       "      <td>2009</td>\n",
       "      <td>platform</td>\n",
       "      <td>14.44</td>\n",
       "      <td>6.94</td>\n",
       "      <td>4.70</td>\n",
       "      <td>2.24</td>\n",
       "      <td>87.0</td>\n",
       "      <td>8.4</td>\n",
       "      <td>E</td>\n",
       "      <td>Высокая оценка</td>\n",
       "      <td>Высокая оценка</td>\n",
       "    </tr>\n",
       "    <tr>\n",
       "      <th>10</th>\n",
       "      <td>nintendogs</td>\n",
       "      <td>DS</td>\n",
       "      <td>2005</td>\n",
       "      <td>simulation</td>\n",
       "      <td>9.05</td>\n",
       "      <td>10.95</td>\n",
       "      <td>1.93</td>\n",
       "      <td>2.74</td>\n",
       "      <td>-1.0</td>\n",
       "      <td>-1.0</td>\n",
       "      <td>NO RATING</td>\n",
       "      <td>Нет оценки</td>\n",
       "      <td>Нет оценки</td>\n",
       "    </tr>\n",
       "    <tr>\n",
       "      <th>11</th>\n",
       "      <td>mario kart ds</td>\n",
       "      <td>DS</td>\n",
       "      <td>2005</td>\n",
       "      <td>racing</td>\n",
       "      <td>9.71</td>\n",
       "      <td>7.47</td>\n",
       "      <td>4.13</td>\n",
       "      <td>1.90</td>\n",
       "      <td>91.0</td>\n",
       "      <td>8.6</td>\n",
       "      <td>E</td>\n",
       "      <td>Высокая оценка</td>\n",
       "      <td>Высокая оценка</td>\n",
       "    </tr>\n",
       "    <tr>\n",
       "      <th>13</th>\n",
       "      <td>wii fit</td>\n",
       "      <td>Wii</td>\n",
       "      <td>2007</td>\n",
       "      <td>sports</td>\n",
       "      <td>8.92</td>\n",
       "      <td>8.03</td>\n",
       "      <td>3.60</td>\n",
       "      <td>2.15</td>\n",
       "      <td>80.0</td>\n",
       "      <td>7.7</td>\n",
       "      <td>E</td>\n",
       "      <td>Средняя оценка</td>\n",
       "      <td>Высокая оценка</td>\n",
       "    </tr>\n",
       "    <tr>\n",
       "      <th>14</th>\n",
       "      <td>kinect adventures!</td>\n",
       "      <td>X360</td>\n",
       "      <td>2010</td>\n",
       "      <td>misc</td>\n",
       "      <td>15.00</td>\n",
       "      <td>4.89</td>\n",
       "      <td>0.24</td>\n",
       "      <td>1.69</td>\n",
       "      <td>61.0</td>\n",
       "      <td>6.3</td>\n",
       "      <td>E</td>\n",
       "      <td>Средняя оценка</td>\n",
       "      <td>Средняя оценка</td>\n",
       "    </tr>\n",
       "    <tr>\n",
       "      <th>15</th>\n",
       "      <td>wii fit plus</td>\n",
       "      <td>Wii</td>\n",
       "      <td>2009</td>\n",
       "      <td>sports</td>\n",
       "      <td>9.01</td>\n",
       "      <td>8.49</td>\n",
       "      <td>2.53</td>\n",
       "      <td>1.77</td>\n",
       "      <td>80.0</td>\n",
       "      <td>7.4</td>\n",
       "      <td>E</td>\n",
       "      <td>Средняя оценка</td>\n",
       "      <td>Высокая оценка</td>\n",
       "    </tr>\n",
       "    <tr>\n",
       "      <th>16</th>\n",
       "      <td>grand theft auto v</td>\n",
       "      <td>PS3</td>\n",
       "      <td>2013</td>\n",
       "      <td>action</td>\n",
       "      <td>7.02</td>\n",
       "      <td>9.09</td>\n",
       "      <td>0.98</td>\n",
       "      <td>3.96</td>\n",
       "      <td>97.0</td>\n",
       "      <td>8.2</td>\n",
       "      <td>M</td>\n",
       "      <td>Высокая оценка</td>\n",
       "      <td>Высокая оценка</td>\n",
       "    </tr>\n",
       "    <tr>\n",
       "      <th>17</th>\n",
       "      <td>grand theft auto: san andreas</td>\n",
       "      <td>PS2</td>\n",
       "      <td>2004</td>\n",
       "      <td>action</td>\n",
       "      <td>9.43</td>\n",
       "      <td>0.40</td>\n",
       "      <td>0.41</td>\n",
       "      <td>10.57</td>\n",
       "      <td>95.0</td>\n",
       "      <td>9.0</td>\n",
       "      <td>M</td>\n",
       "      <td>Высокая оценка</td>\n",
       "      <td>Высокая оценка</td>\n",
       "    </tr>\n",
       "    <tr>\n",
       "      <th>19</th>\n",
       "      <td>brain age: train your brain in minutes a day</td>\n",
       "      <td>DS</td>\n",
       "      <td>2005</td>\n",
       "      <td>misc</td>\n",
       "      <td>4.74</td>\n",
       "      <td>9.20</td>\n",
       "      <td>4.16</td>\n",
       "      <td>2.04</td>\n",
       "      <td>77.0</td>\n",
       "      <td>7.9</td>\n",
       "      <td>E</td>\n",
       "      <td>Средняя оценка</td>\n",
       "      <td>Средняя оценка</td>\n",
       "    </tr>\n",
       "    <tr>\n",
       "      <th>20</th>\n",
       "      <td>pokemon diamond/pokemon pearl</td>\n",
       "      <td>DS</td>\n",
       "      <td>2006</td>\n",
       "      <td>role-playing</td>\n",
       "      <td>6.38</td>\n",
       "      <td>4.46</td>\n",
       "      <td>6.04</td>\n",
       "      <td>1.36</td>\n",
       "      <td>-1.0</td>\n",
       "      <td>-1.0</td>\n",
       "      <td>NO RATING</td>\n",
       "      <td>Нет оценки</td>\n",
       "      <td>Нет оценки</td>\n",
       "    </tr>\n",
       "    <tr>\n",
       "      <th>23</th>\n",
       "      <td>grand theft auto v</td>\n",
       "      <td>X360</td>\n",
       "      <td>2013</td>\n",
       "      <td>action</td>\n",
       "      <td>9.66</td>\n",
       "      <td>5.14</td>\n",
       "      <td>0.06</td>\n",
       "      <td>1.41</td>\n",
       "      <td>97.0</td>\n",
       "      <td>8.1</td>\n",
       "      <td>M</td>\n",
       "      <td>Высокая оценка</td>\n",
       "      <td>Высокая оценка</td>\n",
       "    </tr>\n",
       "    <tr>\n",
       "      <th>24</th>\n",
       "      <td>grand theft auto: vice city</td>\n",
       "      <td>PS2</td>\n",
       "      <td>2002</td>\n",
       "      <td>action</td>\n",
       "      <td>8.41</td>\n",
       "      <td>5.49</td>\n",
       "      <td>0.47</td>\n",
       "      <td>1.78</td>\n",
       "      <td>95.0</td>\n",
       "      <td>8.7</td>\n",
       "      <td>M</td>\n",
       "      <td>Высокая оценка</td>\n",
       "      <td>Высокая оценка</td>\n",
       "    </tr>\n",
       "    <tr>\n",
       "      <th>25</th>\n",
       "      <td>pokemon ruby/pokemon sapphire</td>\n",
       "      <td>GBA</td>\n",
       "      <td>2002</td>\n",
       "      <td>role-playing</td>\n",
       "      <td>6.06</td>\n",
       "      <td>3.90</td>\n",
       "      <td>5.38</td>\n",
       "      <td>0.50</td>\n",
       "      <td>-1.0</td>\n",
       "      <td>-1.0</td>\n",
       "      <td>NO RATING</td>\n",
       "      <td>Нет оценки</td>\n",
       "      <td>Нет оценки</td>\n",
       "    </tr>\n",
       "    <tr>\n",
       "      <th>26</th>\n",
       "      <td>brain age 2: more training in minutes a day</td>\n",
       "      <td>DS</td>\n",
       "      <td>2005</td>\n",
       "      <td>puzzle</td>\n",
       "      <td>3.43</td>\n",
       "      <td>5.35</td>\n",
       "      <td>5.32</td>\n",
       "      <td>1.18</td>\n",
       "      <td>77.0</td>\n",
       "      <td>7.1</td>\n",
       "      <td>E</td>\n",
       "      <td>Средняя оценка</td>\n",
       "      <td>Средняя оценка</td>\n",
       "    </tr>\n",
       "    <tr>\n",
       "      <th>27</th>\n",
       "      <td>pokemon black/pokemon white</td>\n",
       "      <td>DS</td>\n",
       "      <td>2010</td>\n",
       "      <td>role-playing</td>\n",
       "      <td>5.51</td>\n",
       "      <td>3.17</td>\n",
       "      <td>5.65</td>\n",
       "      <td>0.80</td>\n",
       "      <td>-1.0</td>\n",
       "      <td>-1.0</td>\n",
       "      <td>NO RATING</td>\n",
       "      <td>Нет оценки</td>\n",
       "      <td>Нет оценки</td>\n",
       "    </tr>\n",
       "  </tbody>\n",
       "</table>\n",
       "</div>"
      ],
      "text/plain": [
       "                                            name platform  year_of_release  \\\n",
       "0                                     wii sports      Wii             2006   \n",
       "2                                 mario kart wii      Wii             2008   \n",
       "3                              wii sports resort      Wii             2009   \n",
       "6                          new super mario bros.       DS             2006   \n",
       "7                                       wii play      Wii             2006   \n",
       "8                      new super mario bros. wii      Wii             2009   \n",
       "10                                    nintendogs       DS             2005   \n",
       "11                                 mario kart ds       DS             2005   \n",
       "13                                       wii fit      Wii             2007   \n",
       "14                            kinect adventures!     X360             2010   \n",
       "15                                  wii fit plus      Wii             2009   \n",
       "16                            grand theft auto v      PS3             2013   \n",
       "17                 grand theft auto: san andreas      PS2             2004   \n",
       "19  brain age: train your brain in minutes a day       DS             2005   \n",
       "20                 pokemon diamond/pokemon pearl       DS             2006   \n",
       "23                            grand theft auto v     X360             2013   \n",
       "24                   grand theft auto: vice city      PS2             2002   \n",
       "25                 pokemon ruby/pokemon sapphire      GBA             2002   \n",
       "26   brain age 2: more training in minutes a day       DS             2005   \n",
       "27                   pokemon black/pokemon white       DS             2010   \n",
       "\n",
       "           genre  na_sales  eu_sales  jp_sales  other_sales  critic_score  \\\n",
       "0         sports     41.36     28.96      3.77         8.45          76.0   \n",
       "2         racing     15.68     12.76      3.79         3.29          82.0   \n",
       "3         sports     15.61     10.93      3.28         2.95          80.0   \n",
       "6       platform     11.28      9.14      6.50         2.88          89.0   \n",
       "7           misc     13.96      9.18      2.93         2.84          58.0   \n",
       "8       platform     14.44      6.94      4.70         2.24          87.0   \n",
       "10    simulation      9.05     10.95      1.93         2.74          -1.0   \n",
       "11        racing      9.71      7.47      4.13         1.90          91.0   \n",
       "13        sports      8.92      8.03      3.60         2.15          80.0   \n",
       "14          misc     15.00      4.89      0.24         1.69          61.0   \n",
       "15        sports      9.01      8.49      2.53         1.77          80.0   \n",
       "16        action      7.02      9.09      0.98         3.96          97.0   \n",
       "17        action      9.43      0.40      0.41        10.57          95.0   \n",
       "19          misc      4.74      9.20      4.16         2.04          77.0   \n",
       "20  role-playing      6.38      4.46      6.04         1.36          -1.0   \n",
       "23        action      9.66      5.14      0.06         1.41          97.0   \n",
       "24        action      8.41      5.49      0.47         1.78          95.0   \n",
       "25  role-playing      6.06      3.90      5.38         0.50          -1.0   \n",
       "26        puzzle      3.43      5.35      5.32         1.18          77.0   \n",
       "27  role-playing      5.51      3.17      5.65         0.80          -1.0   \n",
       "\n",
       "    user_score     rating category_user_score category_critic_score  \n",
       "0          8.0          E      Высокая оценка        Средняя оценка  \n",
       "2          8.3          E      Высокая оценка        Высокая оценка  \n",
       "3          8.0          E      Высокая оценка        Высокая оценка  \n",
       "6          8.5          E      Высокая оценка        Высокая оценка  \n",
       "7          6.6          E      Средняя оценка        Средняя оценка  \n",
       "8          8.4          E      Высокая оценка        Высокая оценка  \n",
       "10        -1.0  NO RATING          Нет оценки            Нет оценки  \n",
       "11         8.6          E      Высокая оценка        Высокая оценка  \n",
       "13         7.7          E      Средняя оценка        Высокая оценка  \n",
       "14         6.3          E      Средняя оценка        Средняя оценка  \n",
       "15         7.4          E      Средняя оценка        Высокая оценка  \n",
       "16         8.2          M      Высокая оценка        Высокая оценка  \n",
       "17         9.0          M      Высокая оценка        Высокая оценка  \n",
       "19         7.9          E      Средняя оценка        Средняя оценка  \n",
       "20        -1.0  NO RATING          Нет оценки            Нет оценки  \n",
       "23         8.1          M      Высокая оценка        Высокая оценка  \n",
       "24         8.7          M      Высокая оценка        Высокая оценка  \n",
       "25        -1.0  NO RATING          Нет оценки            Нет оценки  \n",
       "26         7.1          E      Средняя оценка        Средняя оценка  \n",
       "27        -1.0  NO RATING          Нет оценки            Нет оценки  "
      ]
     },
     "execution_count": 34,
     "metadata": {},
     "output_type": "execute_result"
    }
   ],
   "source": [
    "# Создадим категоризацию на основе данных critic_score\n",
    "df_copy['category_critic_score'] = pd.cut(df_copy['critic_score'], bins = [-2, 0, 30, 80, 100.1], labels = [\"Нет оценки\", \"Низкая оценка\", \"Средняя оценка\", \"Высокая оценка\"], right = False)\n",
    "df_copy.info()\n",
    "df_copy.head(20)"
   ]
  },
  {
   "cell_type": "code",
   "execution_count": 35,
   "id": "d136d06b",
   "metadata": {},
   "outputs": [
    {
     "data": {
      "text/plain": [
       "platform\n",
       "PS2     2134\n",
       "DS      2121\n",
       "Wii     1275\n",
       "PSP     1181\n",
       "X360    1123\n",
       "PS3     1087\n",
       "GBA      811\n",
       "Name: name, dtype: int64"
      ]
     },
     "metadata": {},
     "output_type": "display_data"
    }
   ],
   "source": [
    "# Выделим Топ-7 платформ по количеству игр\n",
    "df_group = df_copy.groupby('platform')['name'].count().sort_values(ascending = False).head(7)\n",
    "display(df_group)"
   ]
  },
  {
   "cell_type": "markdown",
   "id": "c0158881",
   "metadata": {},
   "source": [
    "---\n",
    "\n",
    "## 5. Итоговый вывод\n"
   ]
  },
  {
   "cell_type": "code",
   "execution_count": 36,
   "id": "20175f5b",
   "metadata": {},
   "outputs": [
    {
     "name": "stdout",
     "output_type": "stream",
     "text": [
      "<class 'pandas.core.frame.DataFrame'>\n",
      "Int64Index: 12796 entries, 0 to 16954\n",
      "Data columns (total 13 columns):\n",
      " #   Column                 Non-Null Count  Dtype   \n",
      "---  ------                 --------------  -----   \n",
      " 0   name                   12796 non-null  object  \n",
      " 1   platform               12796 non-null  object  \n",
      " 2   year_of_release        12796 non-null  int64   \n",
      " 3   genre                  12796 non-null  object  \n",
      " 4   na_sales               12796 non-null  float64 \n",
      " 5   eu_sales               12796 non-null  float64 \n",
      " 6   jp_sales               12796 non-null  float64 \n",
      " 7   other_sales            12796 non-null  float64 \n",
      " 8   critic_score           12796 non-null  float64 \n",
      " 9   user_score             12796 non-null  float64 \n",
      " 10  rating                 12796 non-null  object  \n",
      " 11  category_user_score    12796 non-null  category\n",
      " 12  category_critic_score  12796 non-null  category\n",
      "dtypes: category(2), float64(6), int64(1), object(4)\n",
      "memory usage: 1.2+ MB\n"
     ]
    },
    {
     "data": {
      "text/html": [
       "<div>\n",
       "<style scoped>\n",
       "    .dataframe tbody tr th:only-of-type {\n",
       "        vertical-align: middle;\n",
       "    }\n",
       "\n",
       "    .dataframe tbody tr th {\n",
       "        vertical-align: top;\n",
       "    }\n",
       "\n",
       "    .dataframe thead th {\n",
       "        text-align: right;\n",
       "    }\n",
       "</style>\n",
       "<table border=\"1\" class=\"dataframe\">\n",
       "  <thead>\n",
       "    <tr style=\"text-align: right;\">\n",
       "      <th></th>\n",
       "      <th>name</th>\n",
       "      <th>platform</th>\n",
       "      <th>year_of_release</th>\n",
       "      <th>genre</th>\n",
       "      <th>na_sales</th>\n",
       "      <th>eu_sales</th>\n",
       "      <th>jp_sales</th>\n",
       "      <th>other_sales</th>\n",
       "      <th>critic_score</th>\n",
       "      <th>user_score</th>\n",
       "      <th>rating</th>\n",
       "      <th>category_user_score</th>\n",
       "      <th>category_critic_score</th>\n",
       "    </tr>\n",
       "  </thead>\n",
       "  <tbody>\n",
       "    <tr>\n",
       "      <th>0</th>\n",
       "      <td>wii sports</td>\n",
       "      <td>Wii</td>\n",
       "      <td>2006</td>\n",
       "      <td>sports</td>\n",
       "      <td>41.36</td>\n",
       "      <td>28.96</td>\n",
       "      <td>3.77</td>\n",
       "      <td>8.45</td>\n",
       "      <td>76.0</td>\n",
       "      <td>8.0</td>\n",
       "      <td>E</td>\n",
       "      <td>Высокая оценка</td>\n",
       "      <td>Средняя оценка</td>\n",
       "    </tr>\n",
       "    <tr>\n",
       "      <th>2</th>\n",
       "      <td>mario kart wii</td>\n",
       "      <td>Wii</td>\n",
       "      <td>2008</td>\n",
       "      <td>racing</td>\n",
       "      <td>15.68</td>\n",
       "      <td>12.76</td>\n",
       "      <td>3.79</td>\n",
       "      <td>3.29</td>\n",
       "      <td>82.0</td>\n",
       "      <td>8.3</td>\n",
       "      <td>E</td>\n",
       "      <td>Высокая оценка</td>\n",
       "      <td>Высокая оценка</td>\n",
       "    </tr>\n",
       "    <tr>\n",
       "      <th>3</th>\n",
       "      <td>wii sports resort</td>\n",
       "      <td>Wii</td>\n",
       "      <td>2009</td>\n",
       "      <td>sports</td>\n",
       "      <td>15.61</td>\n",
       "      <td>10.93</td>\n",
       "      <td>3.28</td>\n",
       "      <td>2.95</td>\n",
       "      <td>80.0</td>\n",
       "      <td>8.0</td>\n",
       "      <td>E</td>\n",
       "      <td>Высокая оценка</td>\n",
       "      <td>Высокая оценка</td>\n",
       "    </tr>\n",
       "    <tr>\n",
       "      <th>6</th>\n",
       "      <td>new super mario bros.</td>\n",
       "      <td>DS</td>\n",
       "      <td>2006</td>\n",
       "      <td>platform</td>\n",
       "      <td>11.28</td>\n",
       "      <td>9.14</td>\n",
       "      <td>6.50</td>\n",
       "      <td>2.88</td>\n",
       "      <td>89.0</td>\n",
       "      <td>8.5</td>\n",
       "      <td>E</td>\n",
       "      <td>Высокая оценка</td>\n",
       "      <td>Высокая оценка</td>\n",
       "    </tr>\n",
       "    <tr>\n",
       "      <th>7</th>\n",
       "      <td>wii play</td>\n",
       "      <td>Wii</td>\n",
       "      <td>2006</td>\n",
       "      <td>misc</td>\n",
       "      <td>13.96</td>\n",
       "      <td>9.18</td>\n",
       "      <td>2.93</td>\n",
       "      <td>2.84</td>\n",
       "      <td>58.0</td>\n",
       "      <td>6.6</td>\n",
       "      <td>E</td>\n",
       "      <td>Средняя оценка</td>\n",
       "      <td>Средняя оценка</td>\n",
       "    </tr>\n",
       "  </tbody>\n",
       "</table>\n",
       "</div>"
      ],
      "text/plain": [
       "                    name platform  year_of_release     genre  na_sales  \\\n",
       "0             wii sports      Wii             2006    sports     41.36   \n",
       "2         mario kart wii      Wii             2008    racing     15.68   \n",
       "3      wii sports resort      Wii             2009    sports     15.61   \n",
       "6  new super mario bros.       DS             2006  platform     11.28   \n",
       "7               wii play      Wii             2006      misc     13.96   \n",
       "\n",
       "   eu_sales  jp_sales  other_sales  critic_score  user_score rating  \\\n",
       "0     28.96      3.77         8.45          76.0         8.0      E   \n",
       "2     12.76      3.79         3.29          82.0         8.3      E   \n",
       "3     10.93      3.28         2.95          80.0         8.0      E   \n",
       "6      9.14      6.50         2.88          89.0         8.5      E   \n",
       "7      9.18      2.93         2.84          58.0         6.6      E   \n",
       "\n",
       "  category_user_score category_critic_score  \n",
       "0      Высокая оценка        Средняя оценка  \n",
       "2      Высокая оценка        Высокая оценка  \n",
       "3      Высокая оценка        Высокая оценка  \n",
       "6      Высокая оценка        Высокая оценка  \n",
       "7      Средняя оценка        Средняя оценка  "
      ]
     },
     "execution_count": 36,
     "metadata": {},
     "output_type": "execute_result"
    }
   ],
   "source": [
    "df_copy.info()\n",
    "df_copy.head()"
   ]
  },
  {
   "cell_type": "markdown",
   "id": "be756a65",
   "metadata": {},
   "source": [
    "Итоговый срез включает в себя данные за период 2000 - 2013 гг. В нем находится **12 796 наблюдений** и **13 столбцов**.\n",
    "\n",
    "Были добавлены два новых столбца с категориями оценок отдельно для оценок пользователей и оценок критиков:\n",
    "- `Нет оценки`, `Низкая оценка`, `Средняя оценка` и `Высокая оценка`\n",
    "\n",
    "Данные итогового среза составили **75,5%** от изначального датафрейма. Кроме среза по годам, были удалены явные дубликаты в количестве **241 наблюдения**, кроме этого были удалены **2 наблюдения** в связи с наличием в них невостанавливаемых пропусков.\n",
    "\n",
    "Для оптимизации работы с данными в датафрейме были произведены следующие изменения: \n",
    " \n",
    "- Изменения визуального формата:\n",
    " - Названия столбцов переведены к виду `snake_case`;\n",
    " - Данные столбцов `name` и `genre` приведены к нижнему регистру;\n",
    " - Данные столбца `rating` приведены к верхнему регистру;\n",
    " - Также в столбце `rating` синонимы `K-A` и `E` были приведены к единой записи `E`.\n",
    " \n",
    "- Изменения типов данных:\n",
    " - `year_of_release`: из `object` в `int64`;\n",
    " - `eu_sales`: из `object` в `float64`;\n",
    " - `jp_sales`: из `object` в `float64`;\n",
    " - `user_score`: из `object` в `float64`.\n",
    " \n",
    "В заключение был составлен Топ-7 платформ по количеству размещенных игр в период 2000 - 2013 гг. Лидером ТОПа стала платформа `PS2`, которая наряду с платформой `DS`, находящейся на втором месте, отрывается от остальных платформ примерно на **1 000** размещенных игр. На каждой из двух лидирующих платформ размещено **более 2 100 игр**. Последнее место списка заняла платформа `GBA` с **841** размещенной игрой."
   ]
  },
  {
   "cell_type": "code",
   "execution_count": null,
   "id": "a022500d",
   "metadata": {},
   "outputs": [],
   "source": []
  }
 ],
 "metadata": {
  "ExecuteTimeLog": [
   {
    "duration": 99,
    "start_time": "2024-11-28T11:21:59.563Z"
   },
   {
    "duration": 381,
    "start_time": "2024-11-28T11:22:10.585Z"
   },
   {
    "duration": 114,
    "start_time": "2024-11-28T11:22:47.566Z"
   },
   {
    "duration": 27,
    "start_time": "2024-11-28T11:23:11.721Z"
   },
   {
    "duration": 17,
    "start_time": "2024-11-28T11:23:27.415Z"
   },
   {
    "duration": 49,
    "start_time": "2024-11-29T05:32:30.388Z"
   },
   {
    "duration": 406,
    "start_time": "2024-11-29T05:33:09.819Z"
   },
   {
    "duration": 199,
    "start_time": "2024-11-29T05:33:10.226Z"
   },
   {
    "duration": 21,
    "start_time": "2024-11-29T05:33:10.428Z"
   },
   {
    "duration": 15,
    "start_time": "2024-11-29T05:33:10.451Z"
   },
   {
    "duration": 19,
    "start_time": "2024-11-29T05:33:29.203Z"
   },
   {
    "duration": 4,
    "start_time": "2024-11-29T06:09:39.176Z"
   },
   {
    "duration": 68,
    "start_time": "2024-11-29T06:12:09.371Z"
   },
   {
    "duration": 6,
    "start_time": "2024-11-29T06:12:56.788Z"
   },
   {
    "duration": 5,
    "start_time": "2024-11-29T06:13:23.185Z"
   },
   {
    "duration": 31,
    "start_time": "2024-11-29T06:20:57.414Z"
   },
   {
    "duration": 20,
    "start_time": "2024-11-29T06:21:49.580Z"
   },
   {
    "duration": 8,
    "start_time": "2024-11-29T06:36:25.256Z"
   },
   {
    "duration": 14,
    "start_time": "2024-11-29T06:36:34.303Z"
   },
   {
    "duration": 23,
    "start_time": "2024-11-29T06:43:43.770Z"
   },
   {
    "duration": 24,
    "start_time": "2024-11-29T06:44:35.495Z"
   },
   {
    "duration": 19,
    "start_time": "2024-11-29T06:52:08.841Z"
   },
   {
    "duration": 22,
    "start_time": "2024-11-29T06:53:58.522Z"
   },
   {
    "duration": 2725,
    "start_time": "2024-11-29T07:16:41.697Z"
   },
   {
    "duration": 277,
    "start_time": "2024-11-29T07:17:26.286Z"
   },
   {
    "duration": 267,
    "start_time": "2024-11-29T07:18:34.362Z"
   },
   {
    "duration": 15,
    "start_time": "2024-11-29T07:23:25.202Z"
   },
   {
    "duration": 27,
    "start_time": "2024-11-29T07:24:54.832Z"
   },
   {
    "duration": 27,
    "start_time": "2024-11-29T07:25:20.442Z"
   },
   {
    "duration": 39,
    "start_time": "2024-11-29T07:25:25.707Z"
   },
   {
    "duration": 267,
    "start_time": "2024-11-29T07:25:36.234Z"
   },
   {
    "duration": 305,
    "start_time": "2024-11-29T07:26:06.402Z"
   },
   {
    "duration": 22,
    "start_time": "2024-11-29T07:31:17.831Z"
   },
   {
    "duration": 22,
    "start_time": "2024-11-29T07:31:49.139Z"
   },
   {
    "duration": 45,
    "start_time": "2024-11-29T07:37:32.385Z"
   },
   {
    "duration": 19,
    "start_time": "2024-11-29T07:42:23.430Z"
   },
   {
    "duration": 8,
    "start_time": "2024-11-29T07:42:32.226Z"
   },
   {
    "duration": 461,
    "start_time": "2024-11-29T07:44:39.550Z"
   },
   {
    "duration": 131,
    "start_time": "2024-11-29T07:44:40.014Z"
   },
   {
    "duration": 22,
    "start_time": "2024-11-29T07:44:40.146Z"
   },
   {
    "duration": 26,
    "start_time": "2024-11-29T07:44:40.170Z"
   },
   {
    "duration": 3,
    "start_time": "2024-11-29T07:44:40.198Z"
   },
   {
    "duration": 7,
    "start_time": "2024-11-29T07:44:40.203Z"
   },
   {
    "duration": 16,
    "start_time": "2024-11-29T07:44:40.212Z"
   },
   {
    "duration": 58,
    "start_time": "2024-11-29T07:44:40.229Z"
   },
   {
    "duration": 28,
    "start_time": "2024-11-29T07:44:40.289Z"
   },
   {
    "duration": 25,
    "start_time": "2024-11-29T07:44:40.318Z"
   },
   {
    "duration": 47,
    "start_time": "2024-11-29T07:44:40.345Z"
   },
   {
    "duration": 443,
    "start_time": "2024-11-29T07:44:40.394Z"
   },
   {
    "duration": 34,
    "start_time": "2024-11-29T07:45:54.765Z"
   },
   {
    "duration": 446,
    "start_time": "2024-11-29T07:47:29.040Z"
   },
   {
    "duration": 111,
    "start_time": "2024-11-29T07:47:29.488Z"
   },
   {
    "duration": 21,
    "start_time": "2024-11-29T07:47:29.601Z"
   },
   {
    "duration": 16,
    "start_time": "2024-11-29T07:47:29.624Z"
   },
   {
    "duration": 4,
    "start_time": "2024-11-29T07:47:29.642Z"
   },
   {
    "duration": 38,
    "start_time": "2024-11-29T07:47:29.648Z"
   },
   {
    "duration": 22,
    "start_time": "2024-11-29T07:47:29.688Z"
   },
   {
    "duration": 22,
    "start_time": "2024-11-29T07:47:29.711Z"
   },
   {
    "duration": 51,
    "start_time": "2024-11-29T07:47:29.734Z"
   },
   {
    "duration": 31,
    "start_time": "2024-11-29T07:47:29.787Z"
   },
   {
    "duration": 22,
    "start_time": "2024-11-29T07:47:29.820Z"
   },
   {
    "duration": 43,
    "start_time": "2024-11-29T07:47:29.843Z"
   },
   {
    "duration": 23,
    "start_time": "2024-11-29T07:47:57.271Z"
   },
   {
    "duration": 17,
    "start_time": "2024-11-29T07:48:30.720Z"
   },
   {
    "duration": 31,
    "start_time": "2024-11-29T07:59:58.886Z"
   },
   {
    "duration": 400,
    "start_time": "2024-11-29T08:08:47.498Z"
   },
   {
    "duration": 125,
    "start_time": "2024-11-29T08:08:47.900Z"
   },
   {
    "duration": 22,
    "start_time": "2024-11-29T08:08:48.027Z"
   },
   {
    "duration": 18,
    "start_time": "2024-11-29T08:08:48.050Z"
   },
   {
    "duration": 8,
    "start_time": "2024-11-29T08:08:48.070Z"
   },
   {
    "duration": 25,
    "start_time": "2024-11-29T08:08:48.079Z"
   },
   {
    "duration": 36,
    "start_time": "2024-11-29T08:08:48.105Z"
   },
   {
    "duration": 37,
    "start_time": "2024-11-29T08:08:48.142Z"
   },
   {
    "duration": 32,
    "start_time": "2024-11-29T08:08:48.181Z"
   },
   {
    "duration": 65,
    "start_time": "2024-11-29T08:08:48.215Z"
   },
   {
    "duration": 19,
    "start_time": "2024-11-29T08:08:48.285Z"
   },
   {
    "duration": 25,
    "start_time": "2024-11-29T08:08:48.306Z"
   },
   {
    "duration": 71,
    "start_time": "2024-11-29T08:08:48.333Z"
   },
   {
    "duration": 35,
    "start_time": "2024-11-29T08:17:14.749Z"
   },
   {
    "duration": 28,
    "start_time": "2024-11-29T08:34:42.466Z"
   },
   {
    "duration": 32,
    "start_time": "2024-11-29T08:36:07.135Z"
   },
   {
    "duration": 18,
    "start_time": "2024-11-29T08:48:34.094Z"
   },
   {
    "duration": 36,
    "start_time": "2024-11-29T08:48:53.310Z"
   },
   {
    "duration": 17,
    "start_time": "2024-11-29T08:49:11.198Z"
   },
   {
    "duration": 203,
    "start_time": "2024-11-29T10:35:01.963Z"
   },
   {
    "duration": 181,
    "start_time": "2024-11-29T10:35:18.672Z"
   },
   {
    "duration": 206,
    "start_time": "2024-11-29T10:35:32.466Z"
   },
   {
    "duration": 86,
    "start_time": "2024-11-29T10:37:43.992Z"
   },
   {
    "duration": 177,
    "start_time": "2024-11-29T10:39:51.507Z"
   },
   {
    "duration": 183,
    "start_time": "2024-11-29T10:41:42.955Z"
   },
   {
    "duration": 183,
    "start_time": "2024-11-29T10:41:57.144Z"
   },
   {
    "duration": 464,
    "start_time": "2024-11-29T10:45:21.138Z"
   },
   {
    "duration": 110,
    "start_time": "2024-11-29T10:45:21.604Z"
   },
   {
    "duration": 22,
    "start_time": "2024-11-29T10:45:21.716Z"
   },
   {
    "duration": 16,
    "start_time": "2024-11-29T10:45:21.740Z"
   },
   {
    "duration": 14,
    "start_time": "2024-11-29T10:45:21.758Z"
   },
   {
    "duration": 14,
    "start_time": "2024-11-29T10:45:21.773Z"
   },
   {
    "duration": 16,
    "start_time": "2024-11-29T10:45:21.789Z"
   },
   {
    "duration": 29,
    "start_time": "2024-11-29T10:45:21.807Z"
   },
   {
    "duration": 39,
    "start_time": "2024-11-29T10:45:21.838Z"
   },
   {
    "duration": 27,
    "start_time": "2024-11-29T10:45:21.878Z"
   },
   {
    "duration": 17,
    "start_time": "2024-11-29T10:45:21.907Z"
   },
   {
    "duration": 58,
    "start_time": "2024-11-29T10:45:21.926Z"
   },
   {
    "duration": 35,
    "start_time": "2024-11-29T10:45:21.986Z"
   },
   {
    "duration": 46,
    "start_time": "2024-11-29T10:45:22.023Z"
   },
   {
    "duration": 191,
    "start_time": "2024-11-29T10:45:22.071Z"
   },
   {
    "duration": 189,
    "start_time": "2024-11-29T10:45:22.264Z"
   },
   {
    "duration": 43,
    "start_time": "2024-11-29T10:46:05.813Z"
   },
   {
    "duration": 6,
    "start_time": "2024-11-29T10:49:15.746Z"
   },
   {
    "duration": 455,
    "start_time": "2024-11-29T10:49:33.460Z"
   },
   {
    "duration": 105,
    "start_time": "2024-11-29T10:49:33.917Z"
   },
   {
    "duration": 23,
    "start_time": "2024-11-29T10:49:34.024Z"
   },
   {
    "duration": 17,
    "start_time": "2024-11-29T10:49:34.048Z"
   },
   {
    "duration": 20,
    "start_time": "2024-11-29T10:49:34.067Z"
   },
   {
    "duration": 17,
    "start_time": "2024-11-29T10:49:34.088Z"
   },
   {
    "duration": 35,
    "start_time": "2024-11-29T10:49:34.107Z"
   },
   {
    "duration": 29,
    "start_time": "2024-11-29T10:49:34.144Z"
   },
   {
    "duration": 23,
    "start_time": "2024-11-29T10:49:34.174Z"
   },
   {
    "duration": 27,
    "start_time": "2024-11-29T10:49:34.198Z"
   },
   {
    "duration": 17,
    "start_time": "2024-11-29T10:49:34.226Z"
   },
   {
    "duration": 49,
    "start_time": "2024-11-29T10:49:34.245Z"
   },
   {
    "duration": 31,
    "start_time": "2024-11-29T10:49:34.296Z"
   },
   {
    "duration": 14,
    "start_time": "2024-11-29T10:49:34.329Z"
   },
   {
    "duration": 16,
    "start_time": "2024-11-29T10:49:34.371Z"
   },
   {
    "duration": 204,
    "start_time": "2024-11-29T10:49:34.389Z"
   },
   {
    "duration": 187,
    "start_time": "2024-11-29T10:49:34.595Z"
   },
   {
    "duration": 16,
    "start_time": "2024-11-29T10:52:27.750Z"
   },
   {
    "duration": 382,
    "start_time": "2024-11-29T10:52:46.314Z"
   },
   {
    "duration": 108,
    "start_time": "2024-11-29T10:52:46.697Z"
   },
   {
    "duration": 23,
    "start_time": "2024-11-29T10:52:46.807Z"
   },
   {
    "duration": 23,
    "start_time": "2024-11-29T10:52:46.832Z"
   },
   {
    "duration": 4,
    "start_time": "2024-11-29T10:52:46.856Z"
   },
   {
    "duration": 12,
    "start_time": "2024-11-29T10:52:46.862Z"
   },
   {
    "duration": 16,
    "start_time": "2024-11-29T10:52:46.876Z"
   },
   {
    "duration": 29,
    "start_time": "2024-11-29T10:52:46.893Z"
   },
   {
    "duration": 18,
    "start_time": "2024-11-29T10:52:46.924Z"
   },
   {
    "duration": 27,
    "start_time": "2024-11-29T10:52:46.971Z"
   },
   {
    "duration": 74,
    "start_time": "2024-11-29T10:52:47.000Z"
   },
   {
    "duration": 24,
    "start_time": "2024-11-29T10:52:47.076Z"
   },
   {
    "duration": 30,
    "start_time": "2024-11-29T10:52:47.102Z"
   },
   {
    "duration": 5,
    "start_time": "2024-11-29T10:52:47.134Z"
   },
   {
    "duration": 44,
    "start_time": "2024-11-29T10:52:47.140Z"
   },
   {
    "duration": 185,
    "start_time": "2024-11-29T10:52:47.185Z"
   },
   {
    "duration": 198,
    "start_time": "2024-11-29T10:52:47.372Z"
   },
   {
    "duration": 15,
    "start_time": "2024-11-29T11:02:54.935Z"
   },
   {
    "duration": 81,
    "start_time": "2024-11-29T11:07:30.968Z"
   },
   {
    "duration": 62,
    "start_time": "2024-11-29T11:07:42.350Z"
   },
   {
    "duration": 1441,
    "start_time": "2024-11-29T11:08:06.872Z"
   },
   {
    "duration": 7,
    "start_time": "2024-11-29T11:08:39.457Z"
   },
   {
    "duration": 83,
    "start_time": "2024-11-29T11:08:59.730Z"
   },
   {
    "duration": 69,
    "start_time": "2024-11-29T11:09:09.282Z"
   },
   {
    "duration": 7,
    "start_time": "2024-11-29T11:09:25.259Z"
   },
   {
    "duration": 30,
    "start_time": "2024-11-29T11:10:33.394Z"
   },
   {
    "duration": 12,
    "start_time": "2024-11-29T11:10:44.504Z"
   },
   {
    "duration": 8,
    "start_time": "2024-11-29T11:17:59.038Z"
   },
   {
    "duration": 6,
    "start_time": "2024-11-29T11:18:06.379Z"
   },
   {
    "duration": 8,
    "start_time": "2024-11-29T11:23:15.586Z"
   },
   {
    "duration": 12,
    "start_time": "2024-11-29T11:28:14.794Z"
   },
   {
    "duration": 8,
    "start_time": "2024-11-29T11:28:58.594Z"
   },
   {
    "duration": 15,
    "start_time": "2024-11-29T11:30:33.631Z"
   },
   {
    "duration": 16,
    "start_time": "2024-11-29T11:33:02.971Z"
   },
   {
    "duration": 14,
    "start_time": "2024-11-29T11:33:06.281Z"
   },
   {
    "duration": 13,
    "start_time": "2024-11-29T11:37:42.906Z"
   },
   {
    "duration": 19,
    "start_time": "2024-11-29T11:37:45.324Z"
   },
   {
    "duration": 14,
    "start_time": "2024-11-29T11:38:02.373Z"
   },
   {
    "duration": 15,
    "start_time": "2024-11-29T11:38:12.818Z"
   },
   {
    "duration": 22,
    "start_time": "2024-11-29T11:38:43.762Z"
   },
   {
    "duration": 16,
    "start_time": "2024-11-29T11:38:59.922Z"
   },
   {
    "duration": 4,
    "start_time": "2024-11-29T11:41:33.101Z"
   },
   {
    "duration": 16,
    "start_time": "2024-11-29T11:43:25.277Z"
   },
   {
    "duration": 35,
    "start_time": "2024-11-29T12:11:40.772Z"
   },
   {
    "duration": 33,
    "start_time": "2024-11-29T12:24:01.831Z"
   },
   {
    "duration": 438,
    "start_time": "2024-11-29T12:25:22.245Z"
   },
   {
    "duration": 130,
    "start_time": "2024-11-29T12:25:22.685Z"
   },
   {
    "duration": 23,
    "start_time": "2024-11-29T12:25:22.816Z"
   },
   {
    "duration": 17,
    "start_time": "2024-11-29T12:25:22.841Z"
   },
   {
    "duration": 12,
    "start_time": "2024-11-29T12:25:22.859Z"
   },
   {
    "duration": 7,
    "start_time": "2024-11-29T12:25:22.872Z"
   },
   {
    "duration": 31,
    "start_time": "2024-11-29T12:25:22.880Z"
   },
   {
    "duration": 30,
    "start_time": "2024-11-29T12:25:22.912Z"
   },
   {
    "duration": 27,
    "start_time": "2024-11-29T12:25:22.943Z"
   },
   {
    "duration": 24,
    "start_time": "2024-11-29T12:25:22.973Z"
   },
   {
    "duration": 17,
    "start_time": "2024-11-29T12:25:22.998Z"
   },
   {
    "duration": 24,
    "start_time": "2024-11-29T12:25:23.017Z"
   },
   {
    "duration": 54,
    "start_time": "2024-11-29T12:25:23.042Z"
   },
   {
    "duration": 49,
    "start_time": "2024-11-29T12:25:23.097Z"
   },
   {
    "duration": 18,
    "start_time": "2024-11-29T12:25:23.147Z"
   },
   {
    "duration": 177,
    "start_time": "2024-11-29T12:25:23.166Z"
   },
   {
    "duration": 188,
    "start_time": "2024-11-29T12:25:23.345Z"
   },
   {
    "duration": 10,
    "start_time": "2024-11-29T12:25:23.534Z"
   },
   {
    "duration": 30,
    "start_time": "2024-11-29T12:25:23.545Z"
   },
   {
    "duration": 16,
    "start_time": "2024-11-29T12:25:23.577Z"
   },
   {
    "duration": 19,
    "start_time": "2024-11-29T12:25:23.594Z"
   },
   {
    "duration": 14,
    "start_time": "2024-11-29T12:25:23.615Z"
   },
   {
    "duration": 5,
    "start_time": "2024-11-29T12:25:23.631Z"
   },
   {
    "duration": 32,
    "start_time": "2024-11-29T12:25:23.638Z"
   },
   {
    "duration": 33,
    "start_time": "2024-11-29T12:25:23.672Z"
   },
   {
    "duration": 6,
    "start_time": "2024-11-29T12:36:21.394Z"
   },
   {
    "duration": 41,
    "start_time": "2024-11-29T12:38:54.356Z"
   },
   {
    "duration": 35,
    "start_time": "2024-11-29T12:39:46.585Z"
   },
   {
    "duration": 6,
    "start_time": "2024-11-29T12:41:00.513Z"
   },
   {
    "duration": 52,
    "start_time": "2024-11-29T12:41:08.163Z"
   },
   {
    "duration": 375,
    "start_time": "2024-11-29T12:41:43.004Z"
   },
   {
    "duration": 136,
    "start_time": "2024-11-29T12:41:43.381Z"
   },
   {
    "duration": 22,
    "start_time": "2024-11-29T12:41:43.519Z"
   },
   {
    "duration": 29,
    "start_time": "2024-11-29T12:41:43.543Z"
   },
   {
    "duration": 4,
    "start_time": "2024-11-29T12:41:43.573Z"
   },
   {
    "duration": 7,
    "start_time": "2024-11-29T12:41:43.578Z"
   },
   {
    "duration": 16,
    "start_time": "2024-11-29T12:41:43.586Z"
   },
   {
    "duration": 28,
    "start_time": "2024-11-29T12:41:43.603Z"
   },
   {
    "duration": 44,
    "start_time": "2024-11-29T12:41:43.633Z"
   },
   {
    "duration": 25,
    "start_time": "2024-11-29T12:41:43.681Z"
   },
   {
    "duration": 17,
    "start_time": "2024-11-29T12:41:43.707Z"
   },
   {
    "duration": 49,
    "start_time": "2024-11-29T12:41:43.726Z"
   },
   {
    "duration": 31,
    "start_time": "2024-11-29T12:41:43.776Z"
   },
   {
    "duration": 5,
    "start_time": "2024-11-29T12:41:43.808Z"
   },
   {
    "duration": 21,
    "start_time": "2024-11-29T12:41:43.814Z"
   },
   {
    "duration": 201,
    "start_time": "2024-11-29T12:41:43.836Z"
   },
   {
    "duration": 186,
    "start_time": "2024-11-29T12:41:44.039Z"
   },
   {
    "duration": 10,
    "start_time": "2024-11-29T12:41:44.226Z"
   },
   {
    "duration": 13,
    "start_time": "2024-11-29T12:41:44.238Z"
   },
   {
    "duration": 29,
    "start_time": "2024-11-29T12:41:44.252Z"
   },
   {
    "duration": 19,
    "start_time": "2024-11-29T12:41:44.282Z"
   },
   {
    "duration": 16,
    "start_time": "2024-11-29T12:41:44.303Z"
   },
   {
    "duration": 4,
    "start_time": "2024-11-29T12:41:44.321Z"
   },
   {
    "duration": 17,
    "start_time": "2024-11-29T12:41:44.327Z"
   },
   {
    "duration": 30,
    "start_time": "2024-11-29T12:41:44.371Z"
   },
   {
    "duration": 5,
    "start_time": "2024-11-29T12:41:44.403Z"
   },
   {
    "duration": 41,
    "start_time": "2024-11-29T12:41:44.409Z"
   },
   {
    "duration": 15,
    "start_time": "2024-11-29T12:42:53.548Z"
   },
   {
    "duration": 13,
    "start_time": "2024-11-29T12:43:06.018Z"
   },
   {
    "duration": 61,
    "start_time": "2024-11-29T12:51:33.595Z"
   },
   {
    "duration": 6,
    "start_time": "2024-11-29T12:51:40.853Z"
   },
   {
    "duration": 11,
    "start_time": "2024-11-29T12:51:46.970Z"
   },
   {
    "duration": 11,
    "start_time": "2024-11-29T12:52:52.253Z"
   },
   {
    "duration": 11,
    "start_time": "2024-11-29T12:53:05.413Z"
   },
   {
    "duration": 9,
    "start_time": "2024-11-29T12:53:45.713Z"
   },
   {
    "duration": 9,
    "start_time": "2024-11-29T12:54:08.093Z"
   },
   {
    "duration": 9,
    "start_time": "2024-11-29T12:54:33.731Z"
   },
   {
    "duration": 8,
    "start_time": "2024-11-29T12:56:56.228Z"
   },
   {
    "duration": 27,
    "start_time": "2024-11-29T13:00:29.334Z"
   },
   {
    "duration": 452,
    "start_time": "2024-11-29T13:44:19.143Z"
   },
   {
    "duration": 131,
    "start_time": "2024-11-29T13:44:19.597Z"
   },
   {
    "duration": 23,
    "start_time": "2024-11-29T13:44:19.730Z"
   },
   {
    "duration": 17,
    "start_time": "2024-11-29T13:44:19.755Z"
   },
   {
    "duration": 38,
    "start_time": "2024-11-29T13:44:19.774Z"
   },
   {
    "duration": 15,
    "start_time": "2024-11-29T13:44:19.814Z"
   },
   {
    "duration": 29,
    "start_time": "2024-11-29T13:44:19.830Z"
   },
   {
    "duration": 30,
    "start_time": "2024-11-29T13:44:19.860Z"
   },
   {
    "duration": 19,
    "start_time": "2024-11-29T13:44:19.892Z"
   },
   {
    "duration": 28,
    "start_time": "2024-11-29T13:44:19.912Z"
   },
   {
    "duration": 39,
    "start_time": "2024-11-29T13:44:19.941Z"
   },
   {
    "duration": 26,
    "start_time": "2024-11-29T13:44:19.981Z"
   },
   {
    "duration": 74,
    "start_time": "2024-11-29T13:44:20.008Z"
   },
   {
    "duration": 6,
    "start_time": "2024-11-29T13:44:20.084Z"
   },
   {
    "duration": 20,
    "start_time": "2024-11-29T13:44:20.091Z"
   },
   {
    "duration": 213,
    "start_time": "2024-11-29T13:44:20.113Z"
   },
   {
    "duration": 191,
    "start_time": "2024-11-29T13:44:20.328Z"
   },
   {
    "duration": 12,
    "start_time": "2024-11-29T13:44:20.521Z"
   },
   {
    "duration": 27,
    "start_time": "2024-11-29T13:44:20.534Z"
   },
   {
    "duration": 17,
    "start_time": "2024-11-29T13:44:20.570Z"
   },
   {
    "duration": 16,
    "start_time": "2024-11-29T13:44:20.588Z"
   },
   {
    "duration": 18,
    "start_time": "2024-11-29T13:44:20.606Z"
   },
   {
    "duration": 4,
    "start_time": "2024-11-29T13:44:20.626Z"
   },
   {
    "duration": 47,
    "start_time": "2024-11-29T13:44:20.632Z"
   },
   {
    "duration": 14,
    "start_time": "2024-11-29T13:44:20.681Z"
   },
   {
    "duration": 89,
    "start_time": "2024-11-29T13:44:20.697Z"
   },
   {
    "duration": 7,
    "start_time": "2024-11-29T13:44:20.788Z"
   },
   {
    "duration": 39,
    "start_time": "2024-11-29T13:44:20.797Z"
   },
   {
    "duration": 6,
    "start_time": "2024-11-29T13:44:20.838Z"
   },
   {
    "duration": 50,
    "start_time": "2024-11-29T13:44:20.845Z"
   },
   {
    "duration": 418,
    "start_time": "2024-11-29T19:57:00.020Z"
   },
   {
    "duration": 106,
    "start_time": "2024-11-29T19:57:00.440Z"
   },
   {
    "duration": 22,
    "start_time": "2024-11-29T19:57:00.547Z"
   },
   {
    "duration": 57,
    "start_time": "2024-11-29T19:57:00.570Z"
   },
   {
    "duration": 4,
    "start_time": "2024-11-29T19:57:00.629Z"
   },
   {
    "duration": 30,
    "start_time": "2024-11-29T19:57:00.635Z"
   },
   {
    "duration": 30,
    "start_time": "2024-11-29T19:57:00.667Z"
   },
   {
    "duration": 40,
    "start_time": "2024-11-29T19:57:00.699Z"
   },
   {
    "duration": 37,
    "start_time": "2024-11-29T19:57:00.740Z"
   },
   {
    "duration": 24,
    "start_time": "2024-11-29T19:57:00.778Z"
   },
   {
    "duration": 17,
    "start_time": "2024-11-29T19:57:00.804Z"
   },
   {
    "duration": 24,
    "start_time": "2024-11-29T19:57:00.823Z"
   },
   {
    "duration": 59,
    "start_time": "2024-11-29T19:57:00.848Z"
   },
   {
    "duration": 5,
    "start_time": "2024-11-29T19:57:00.909Z"
   },
   {
    "duration": 41,
    "start_time": "2024-11-29T19:57:00.915Z"
   },
   {
    "duration": 179,
    "start_time": "2024-11-29T19:57:00.958Z"
   },
   {
    "duration": 187,
    "start_time": "2024-11-29T19:57:01.139Z"
   },
   {
    "duration": 11,
    "start_time": "2024-11-29T19:57:01.327Z"
   },
   {
    "duration": 31,
    "start_time": "2024-11-29T19:57:01.339Z"
   },
   {
    "duration": 19,
    "start_time": "2024-11-29T19:57:01.371Z"
   },
   {
    "duration": 20,
    "start_time": "2024-11-29T19:57:01.392Z"
   },
   {
    "duration": 24,
    "start_time": "2024-11-29T19:57:01.413Z"
   },
   {
    "duration": 4,
    "start_time": "2024-11-29T19:57:01.439Z"
   },
   {
    "duration": 32,
    "start_time": "2024-11-29T19:57:01.444Z"
   },
   {
    "duration": 32,
    "start_time": "2024-11-29T19:57:01.477Z"
   },
   {
    "duration": 63,
    "start_time": "2024-11-29T19:57:01.511Z"
   },
   {
    "duration": 7,
    "start_time": "2024-11-29T19:57:01.575Z"
   },
   {
    "duration": 68,
    "start_time": "2024-11-29T19:57:01.583Z"
   },
   {
    "duration": 22,
    "start_time": "2024-11-29T19:57:01.653Z"
   },
   {
    "duration": 49,
    "start_time": "2024-11-29T19:57:01.676Z"
   },
   {
    "duration": 19,
    "start_time": "2024-11-29T20:08:31.952Z"
   },
   {
    "duration": 35,
    "start_time": "2024-11-29T20:16:30.044Z"
   },
   {
    "duration": 36,
    "start_time": "2024-11-29T20:16:41.642Z"
   },
   {
    "duration": 86,
    "start_time": "2024-12-01T11:22:45.456Z"
   },
   {
    "duration": 90,
    "start_time": "2024-12-01T11:23:04.537Z"
   },
   {
    "duration": 45,
    "start_time": "2024-12-01T11:23:43.594Z"
   },
   {
    "duration": 402,
    "start_time": "2024-12-01T11:24:27.453Z"
   },
   {
    "duration": 108,
    "start_time": "2024-12-01T11:24:27.857Z"
   },
   {
    "duration": 23,
    "start_time": "2024-12-01T11:24:27.967Z"
   },
   {
    "duration": 16,
    "start_time": "2024-12-01T11:24:27.992Z"
   },
   {
    "duration": 4,
    "start_time": "2024-12-01T11:24:28.010Z"
   },
   {
    "duration": 34,
    "start_time": "2024-12-01T11:24:28.015Z"
   },
   {
    "duration": 6,
    "start_time": "2024-12-01T11:24:36.374Z"
   },
   {
    "duration": 66,
    "start_time": "2024-12-01T11:27:38.015Z"
   },
   {
    "duration": 10,
    "start_time": "2024-12-01T11:27:55.987Z"
   },
   {
    "duration": 8,
    "start_time": "2024-12-01T11:28:23.603Z"
   },
   {
    "duration": 58,
    "start_time": "2024-12-01T11:33:00.962Z"
   },
   {
    "duration": 23,
    "start_time": "2024-12-01T11:39:01.183Z"
   },
   {
    "duration": 423,
    "start_time": "2024-12-01T11:45:42.830Z"
   },
   {
    "duration": 9,
    "start_time": "2024-12-01T11:46:57.110Z"
   },
   {
    "duration": 375,
    "start_time": "2024-12-01T11:47:05.576Z"
   },
   {
    "duration": 2,
    "start_time": "2024-12-01T11:48:52.412Z"
   },
   {
    "duration": 119,
    "start_time": "2024-12-01T11:48:52.416Z"
   },
   {
    "duration": 16,
    "start_time": "2024-12-01T11:48:52.536Z"
   },
   {
    "duration": 20,
    "start_time": "2024-12-01T11:48:52.553Z"
   },
   {
    "duration": 17,
    "start_time": "2024-12-01T11:48:52.574Z"
   },
   {
    "duration": 13,
    "start_time": "2024-12-01T11:48:52.593Z"
   },
   {
    "duration": 11,
    "start_time": "2024-12-01T11:48:52.607Z"
   },
   {
    "duration": 30,
    "start_time": "2024-12-01T11:48:52.619Z"
   },
   {
    "duration": 12,
    "start_time": "2024-12-01T11:48:52.650Z"
   },
   {
    "duration": 30,
    "start_time": "2024-12-01T11:48:52.663Z"
   },
   {
    "duration": 16,
    "start_time": "2024-12-01T11:48:52.697Z"
   },
   {
    "duration": 36,
    "start_time": "2024-12-01T11:48:52.715Z"
   },
   {
    "duration": 21,
    "start_time": "2024-12-01T11:48:52.753Z"
   },
   {
    "duration": 39,
    "start_time": "2024-12-01T11:48:52.776Z"
   },
   {
    "duration": 22,
    "start_time": "2024-12-01T11:54:22.860Z"
   },
   {
    "duration": 2,
    "start_time": "2024-12-01T11:56:55.421Z"
   },
   {
    "duration": 101,
    "start_time": "2024-12-01T11:56:55.428Z"
   },
   {
    "duration": 15,
    "start_time": "2024-12-01T11:56:55.531Z"
   },
   {
    "duration": 21,
    "start_time": "2024-12-01T11:56:55.547Z"
   },
   {
    "duration": 4,
    "start_time": "2024-12-01T11:56:55.570Z"
   },
   {
    "duration": 8,
    "start_time": "2024-12-01T11:56:55.576Z"
   },
   {
    "duration": 24,
    "start_time": "2024-12-01T11:56:55.585Z"
   },
   {
    "duration": 26,
    "start_time": "2024-12-01T11:56:55.612Z"
   },
   {
    "duration": 7,
    "start_time": "2024-12-01T11:56:55.640Z"
   },
   {
    "duration": 39,
    "start_time": "2024-12-01T11:56:55.648Z"
   },
   {
    "duration": 24,
    "start_time": "2024-12-01T11:56:55.699Z"
   },
   {
    "duration": 23,
    "start_time": "2024-12-01T11:56:55.725Z"
   },
   {
    "duration": 18,
    "start_time": "2024-12-01T11:56:55.750Z"
   },
   {
    "duration": 59,
    "start_time": "2024-12-01T11:56:55.769Z"
   },
   {
    "duration": 32,
    "start_time": "2024-12-01T11:56:55.830Z"
   },
   {
    "duration": 8,
    "start_time": "2024-12-01T12:00:40.621Z"
   },
   {
    "duration": 3,
    "start_time": "2024-12-01T12:01:09.686Z"
   },
   {
    "duration": 157,
    "start_time": "2024-12-01T12:01:09.694Z"
   },
   {
    "duration": 15,
    "start_time": "2024-12-01T12:01:09.853Z"
   },
   {
    "duration": 17,
    "start_time": "2024-12-01T12:01:09.869Z"
   },
   {
    "duration": 9,
    "start_time": "2024-12-01T12:01:09.888Z"
   },
   {
    "duration": 12,
    "start_time": "2024-12-01T12:01:09.899Z"
   },
   {
    "duration": 16,
    "start_time": "2024-12-01T12:01:09.913Z"
   },
   {
    "duration": 23,
    "start_time": "2024-12-01T12:01:09.931Z"
   },
   {
    "duration": 10,
    "start_time": "2024-12-01T12:01:09.956Z"
   },
   {
    "duration": 66,
    "start_time": "2024-12-01T12:01:09.967Z"
   },
   {
    "duration": 42,
    "start_time": "2024-12-01T12:01:10.037Z"
   },
   {
    "duration": 48,
    "start_time": "2024-12-01T12:01:10.081Z"
   },
   {
    "duration": 18,
    "start_time": "2024-12-01T12:01:10.130Z"
   },
   {
    "duration": 31,
    "start_time": "2024-12-01T12:01:10.150Z"
   },
   {
    "duration": 60,
    "start_time": "2024-12-01T12:01:10.182Z"
   },
   {
    "duration": 13,
    "start_time": "2024-12-01T12:01:10.244Z"
   },
   {
    "duration": 26,
    "start_time": "2024-12-01T12:01:10.259Z"
   },
   {
    "duration": 29,
    "start_time": "2024-12-01T12:01:10.286Z"
   },
   {
    "duration": 40,
    "start_time": "2024-12-01T12:01:10.317Z"
   },
   {
    "duration": 209,
    "start_time": "2024-12-01T12:01:10.358Z"
   },
   {
    "duration": 203,
    "start_time": "2024-12-01T12:01:10.568Z"
   },
   {
    "duration": 11,
    "start_time": "2024-12-01T12:01:10.772Z"
   },
   {
    "duration": 15,
    "start_time": "2024-12-01T12:01:10.797Z"
   },
   {
    "duration": 47,
    "start_time": "2024-12-01T12:01:10.814Z"
   },
   {
    "duration": 15,
    "start_time": "2024-12-01T12:01:10.863Z"
   },
   {
    "duration": 18,
    "start_time": "2024-12-01T12:01:10.880Z"
   },
   {
    "duration": 4,
    "start_time": "2024-12-01T12:01:10.899Z"
   },
   {
    "duration": 48,
    "start_time": "2024-12-01T12:01:10.904Z"
   },
   {
    "duration": 14,
    "start_time": "2024-12-01T12:01:10.955Z"
   },
   {
    "duration": 33,
    "start_time": "2024-12-01T12:01:10.970Z"
   },
   {
    "duration": 6,
    "start_time": "2024-12-01T12:01:11.005Z"
   },
   {
    "duration": 6,
    "start_time": "2024-12-01T12:06:51.907Z"
   },
   {
    "duration": 7,
    "start_time": "2024-12-01T12:07:21.650Z"
   },
   {
    "duration": 39,
    "start_time": "2024-12-01T12:10:00.530Z"
   },
   {
    "duration": 7,
    "start_time": "2024-12-01T12:12:17.033Z"
   },
   {
    "duration": 29,
    "start_time": "2024-12-01T12:12:34.867Z"
   },
   {
    "duration": 429,
    "start_time": "2024-12-01T12:13:14.236Z"
   },
   {
    "duration": 138,
    "start_time": "2024-12-01T12:13:14.667Z"
   },
   {
    "duration": 26,
    "start_time": "2024-12-01T12:13:14.807Z"
   },
   {
    "duration": 39,
    "start_time": "2024-12-01T12:13:14.835Z"
   },
   {
    "duration": 21,
    "start_time": "2024-12-01T12:13:14.876Z"
   },
   {
    "duration": 33,
    "start_time": "2024-12-01T12:13:14.899Z"
   },
   {
    "duration": 21,
    "start_time": "2024-12-01T12:13:14.934Z"
   },
   {
    "duration": 28,
    "start_time": "2024-12-01T12:13:14.957Z"
   },
   {
    "duration": 32,
    "start_time": "2024-12-01T12:13:14.986Z"
   },
   {
    "duration": 103,
    "start_time": "2024-12-01T12:13:15.022Z"
   },
   {
    "duration": 52,
    "start_time": "2024-12-01T12:13:15.126Z"
   },
   {
    "duration": 51,
    "start_time": "2024-12-01T12:13:15.179Z"
   },
   {
    "duration": 25,
    "start_time": "2024-12-01T12:13:15.231Z"
   },
   {
    "duration": 45,
    "start_time": "2024-12-01T12:13:15.258Z"
   },
   {
    "duration": 81,
    "start_time": "2024-12-01T12:13:15.304Z"
   },
   {
    "duration": 30,
    "start_time": "2024-12-01T12:13:15.387Z"
   },
   {
    "duration": 46,
    "start_time": "2024-12-01T12:13:15.418Z"
   },
   {
    "duration": 35,
    "start_time": "2024-12-01T12:13:15.466Z"
   },
   {
    "duration": 43,
    "start_time": "2024-12-01T12:13:15.504Z"
   },
   {
    "duration": 221,
    "start_time": "2024-12-01T12:13:15.549Z"
   },
   {
    "duration": 213,
    "start_time": "2024-12-01T12:13:15.772Z"
   },
   {
    "duration": 29,
    "start_time": "2024-12-01T12:13:15.986Z"
   },
   {
    "duration": 41,
    "start_time": "2024-12-01T12:13:16.017Z"
   },
   {
    "duration": 64,
    "start_time": "2024-12-01T12:13:16.059Z"
   },
   {
    "duration": 25,
    "start_time": "2024-12-01T12:13:16.125Z"
   },
   {
    "duration": 35,
    "start_time": "2024-12-01T12:13:16.152Z"
   },
   {
    "duration": 20,
    "start_time": "2024-12-01T12:13:16.189Z"
   },
   {
    "duration": 31,
    "start_time": "2024-12-01T12:13:16.213Z"
   },
   {
    "duration": 22,
    "start_time": "2024-12-01T12:13:16.246Z"
   },
   {
    "duration": 61,
    "start_time": "2024-12-01T12:13:16.270Z"
   },
   {
    "duration": 7,
    "start_time": "2024-12-01T12:13:16.333Z"
   },
   {
    "duration": 32,
    "start_time": "2024-12-01T12:13:16.342Z"
   },
   {
    "duration": 19,
    "start_time": "2024-12-01T12:13:16.376Z"
   },
   {
    "duration": 59,
    "start_time": "2024-12-01T12:13:16.396Z"
   },
   {
    "duration": 22,
    "start_time": "2024-12-01T12:13:16.457Z"
   },
   {
    "duration": 63,
    "start_time": "2024-12-01T12:13:16.480Z"
   },
   {
    "duration": 407,
    "start_time": "2024-12-01T12:59:29.731Z"
   },
   {
    "duration": 120,
    "start_time": "2024-12-01T12:59:30.140Z"
   },
   {
    "duration": 18,
    "start_time": "2024-12-01T12:59:30.261Z"
   },
   {
    "duration": 70,
    "start_time": "2024-12-01T12:59:30.282Z"
   },
   {
    "duration": 16,
    "start_time": "2024-12-01T12:59:30.353Z"
   },
   {
    "duration": 58,
    "start_time": "2024-12-01T12:59:30.370Z"
   },
   {
    "duration": 31,
    "start_time": "2024-12-01T12:59:30.429Z"
   },
   {
    "duration": 17,
    "start_time": "2024-12-01T12:59:30.461Z"
   },
   {
    "duration": 35,
    "start_time": "2024-12-01T12:59:30.479Z"
   },
   {
    "duration": 41,
    "start_time": "2024-12-01T12:59:30.517Z"
   },
   {
    "duration": 17,
    "start_time": "2024-12-01T12:59:30.560Z"
   },
   {
    "duration": 20,
    "start_time": "2024-12-01T12:59:30.578Z"
   },
   {
    "duration": 16,
    "start_time": "2024-12-01T12:59:30.599Z"
   },
   {
    "duration": 38,
    "start_time": "2024-12-01T12:59:30.616Z"
   },
   {
    "duration": 24,
    "start_time": "2024-12-01T12:59:30.657Z"
   },
   {
    "duration": 7,
    "start_time": "2024-12-01T12:59:30.682Z"
   },
   {
    "duration": 16,
    "start_time": "2024-12-01T12:59:30.690Z"
   },
   {
    "duration": 12,
    "start_time": "2024-12-01T12:59:30.707Z"
   },
   {
    "duration": 20,
    "start_time": "2024-12-01T12:59:30.720Z"
   },
   {
    "duration": 171,
    "start_time": "2024-12-01T12:59:30.741Z"
   },
   {
    "duration": 170,
    "start_time": "2024-12-01T12:59:30.913Z"
   },
   {
    "duration": 9,
    "start_time": "2024-12-01T12:59:31.085Z"
   },
   {
    "duration": 15,
    "start_time": "2024-12-01T12:59:31.095Z"
   },
   {
    "duration": 13,
    "start_time": "2024-12-01T12:59:31.111Z"
   },
   {
    "duration": 16,
    "start_time": "2024-12-01T12:59:31.126Z"
   },
   {
    "duration": 25,
    "start_time": "2024-12-01T12:59:31.143Z"
   },
   {
    "duration": 3,
    "start_time": "2024-12-01T12:59:31.169Z"
   },
   {
    "duration": 34,
    "start_time": "2024-12-01T12:59:31.174Z"
   },
   {
    "duration": 10,
    "start_time": "2024-12-01T12:59:31.209Z"
   },
   {
    "duration": 28,
    "start_time": "2024-12-01T12:59:31.220Z"
   },
   {
    "duration": 9,
    "start_time": "2024-12-01T12:59:31.249Z"
   },
   {
    "duration": 2,
    "start_time": "2024-12-01T12:59:31.259Z"
   },
   {
    "duration": 26,
    "start_time": "2024-12-01T12:59:31.263Z"
   },
   {
    "duration": 42,
    "start_time": "2024-12-01T12:59:31.290Z"
   },
   {
    "duration": 5,
    "start_time": "2024-12-01T12:59:31.334Z"
   },
   {
    "duration": 21,
    "start_time": "2024-12-01T12:59:31.340Z"
   }
  ],
  "kernelspec": {
   "display_name": "Python 3 (ipykernel)",
   "language": "python",
   "name": "python3"
  },
  "language_info": {
   "codemirror_mode": {
    "name": "ipython",
    "version": 3
   },
   "file_extension": ".py",
   "mimetype": "text/x-python",
   "name": "python",
   "nbconvert_exporter": "python",
   "pygments_lexer": "ipython3",
   "version": "3.9.7"
  },
  "toc": {
   "base_numbering": 1,
   "nav_menu": {},
   "number_sections": false,
   "sideBar": true,
   "skip_h1_title": true,
   "title_cell": "Table of Contents",
   "title_sidebar": "Contents",
   "toc_cell": false,
   "toc_position": {},
   "toc_section_display": true,
   "toc_window_display": false
  }
 },
 "nbformat": 4,
 "nbformat_minor": 5
}
