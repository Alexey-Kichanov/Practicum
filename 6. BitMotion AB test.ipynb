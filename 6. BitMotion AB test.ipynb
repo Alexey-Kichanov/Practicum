{
 "cells": [
  {
   "cell_type": "markdown",
   "metadata": {},
   "source": [
    "## Анализ результатов A/B-тестирования\n",
    "\n",
    "Компания интернет-магазина BitMotion Kit, в котором продаются геймифицированные товары для тех, кто ведёт здоровый образ жизни.\n",
    "\n",
    "В будущем компания хочет расширить ассортимент товаров. Но перед этим нужно решить одну проблему. Интерфейс онлайн-магазина слишком сложен для пользователей — об этом говорят отзывы.\n",
    "\n",
    "Чтобы привлечь новых клиентов и увеличить число продаж, владельцы магазина разработали новую версию сайта и протестировали его на части пользователей. По задумке, это решение доказуемо повысит количество пользователей, которые совершат покупку.\n",
    "\n",
    "Необходимо провести оценку результатов A/B-теста."
   ]
  },
  {
   "cell_type": "markdown",
   "metadata": {},
   "source": [
    "### Техническое задание проведённого теста\n",
    "\n",
    "Гипотеза компании заключается в следующем: упрощение интерфейса приведёт к тому, что в течение семи дней после регистрации в системе конверсия зарегистрированных пользователей в покупателей увеличится как минимум на три процентных пункта.\n",
    "\n",
    "Параметры теста:\n",
    "\n",
    "- название теста: `interface_eu_test`;\n",
    "- группы: А (контрольная), B (новый интерфейс);\n",
    "- дата набора новых пользователей: с 2020-12-01 по 2020-12-21 включительно;\n",
    "- дата прохождения теста: с 2020-12-08 по 2020-12-29 включительно.\n"
   ]
  },
  {
   "cell_type": "markdown",
   "metadata": {},
   "source": [
    "### Данные\n",
    "\n",
    "- `https://code.s3.yandex.net/datasets/ab_test_participants.csv` — таблица участников тестов.\n",
    "  Структура файла:\n",
    "\n",
    "  - `user_id` — идентификатор пользователя;\n",
    "  - `group` — группа пользователя;\n",
    "  - `ab_test` — название теста;\n",
    "  - `device` — устройство, с которого происходила регистрация.\n",
    "\n",
    "- `https://code.s3.yandex.net/datasets/ab_test_events.zip` — архив с одним `csv`-файлом, в котором собраны события 2020 года;\n",
    "  Структура файла:\n",
    "\n",
    "  - `user_id` — идентификатор пользователя;\n",
    "  - `event_dt` — дата и время события;\n",
    "  - `event_name` — тип события;\n",
    "  - `details` — дополнительные данные о событии."
   ]
  },
  {
   "cell_type": "markdown",
   "metadata": {},
   "source": [
    "**Цель исследования** - выяснить, повлиет ли обновленный интерфейс сайта на увеличение конверсии пользователей в покупателей. Ожидается, что в течение семи дней после регистрации конверсия увеличится на 3 процентных пункта.\n",
    "\n",
    "Для проверки будет проведен Z-тест пропорций на двух группах пользователей."
   ]
  },
  {
   "cell_type": "code",
   "execution_count": 1,
   "metadata": {},
   "outputs": [],
   "source": [
    "import pandas as pd\n",
    "from statsmodels.stats.proportion import proportions_ztest"
   ]
  },
  {
   "cell_type": "code",
   "execution_count": 2,
   "metadata": {},
   "outputs": [],
   "source": [
    "\n",
    "URL = 'https://code.s3.yandex.net/datasets/'\n",
    "participants = pd.read_csv(URL + 'ab_test_participants.csv')\n",
    "events = pd.read_csv(URL + 'ab_test_events.zip', parse_dates=['event_dt'], dtype={'details': object})"
   ]
  },
  {
   "cell_type": "code",
   "execution_count": 3,
   "metadata": {},
   "outputs": [
    {
     "name": "stdout",
     "output_type": "stream",
     "text": [
      "<class 'pandas.core.frame.DataFrame'>\n",
      "RangeIndex: 14525 entries, 0 to 14524\n",
      "Data columns (total 4 columns):\n",
      " #   Column   Non-Null Count  Dtype \n",
      "---  ------   --------------  ----- \n",
      " 0   user_id  14525 non-null  object\n",
      " 1   group    14525 non-null  object\n",
      " 2   ab_test  14525 non-null  object\n",
      " 3   device   14525 non-null  object\n",
      "dtypes: object(4)\n",
      "memory usage: 454.0+ KB\n"
     ]
    },
    {
     "data": {
      "text/plain": [
       "None"
      ]
     },
     "metadata": {},
     "output_type": "display_data"
    },
    {
     "name": "stdout",
     "output_type": "stream",
     "text": [
      "<class 'pandas.core.frame.DataFrame'>\n",
      "RangeIndex: 787286 entries, 0 to 787285\n",
      "Data columns (total 4 columns):\n",
      " #   Column      Non-Null Count   Dtype         \n",
      "---  ------      --------------   -----         \n",
      " 0   user_id     787286 non-null  object        \n",
      " 1   event_dt    787286 non-null  datetime64[ns]\n",
      " 2   event_name  787286 non-null  object        \n",
      " 3   details     249022 non-null  object        \n",
      "dtypes: datetime64[ns](1), object(3)\n",
      "memory usage: 24.0+ MB\n"
     ]
    },
    {
     "data": {
      "text/plain": [
       "None"
      ]
     },
     "metadata": {},
     "output_type": "display_data"
    }
   ],
   "source": [
    "display(participants.info())\n",
    "display(events.info())"
   ]
  },
  {
   "cell_type": "markdown",
   "metadata": {},
   "source": [
    "В таблице `participants` содержится **14 525** данных без пропусков. В таблице `events` содержится **787 286** данных, значительные пропуски присутствуют в столбце `details`."
   ]
  },
  {
   "cell_type": "code",
   "execution_count": 4,
   "metadata": {},
   "outputs": [
    {
     "data": {
      "text/html": [
       "<div>\n",
       "<style scoped>\n",
       "    .dataframe tbody tr th:only-of-type {\n",
       "        vertical-align: middle;\n",
       "    }\n",
       "\n",
       "    .dataframe tbody tr th {\n",
       "        vertical-align: top;\n",
       "    }\n",
       "\n",
       "    .dataframe thead th {\n",
       "        text-align: right;\n",
       "    }\n",
       "</style>\n",
       "<table border=\"1\" class=\"dataframe\">\n",
       "  <thead>\n",
       "    <tr style=\"text-align: right;\">\n",
       "      <th></th>\n",
       "      <th>user_id</th>\n",
       "      <th>group</th>\n",
       "      <th>ab_test</th>\n",
       "      <th>device</th>\n",
       "    </tr>\n",
       "  </thead>\n",
       "  <tbody>\n",
       "    <tr>\n",
       "      <th>0</th>\n",
       "      <td>0002CE61FF2C4011</td>\n",
       "      <td>B</td>\n",
       "      <td>interface_eu_test</td>\n",
       "      <td>Mac</td>\n",
       "    </tr>\n",
       "    <tr>\n",
       "      <th>1</th>\n",
       "      <td>001064FEAAB631A1</td>\n",
       "      <td>B</td>\n",
       "      <td>recommender_system_test</td>\n",
       "      <td>Android</td>\n",
       "    </tr>\n",
       "    <tr>\n",
       "      <th>2</th>\n",
       "      <td>001064FEAAB631A1</td>\n",
       "      <td>A</td>\n",
       "      <td>interface_eu_test</td>\n",
       "      <td>Android</td>\n",
       "    </tr>\n",
       "    <tr>\n",
       "      <th>3</th>\n",
       "      <td>0010A1C096941592</td>\n",
       "      <td>A</td>\n",
       "      <td>recommender_system_test</td>\n",
       "      <td>Android</td>\n",
       "    </tr>\n",
       "    <tr>\n",
       "      <th>4</th>\n",
       "      <td>001E72F50D1C48FA</td>\n",
       "      <td>A</td>\n",
       "      <td>interface_eu_test</td>\n",
       "      <td>Mac</td>\n",
       "    </tr>\n",
       "  </tbody>\n",
       "</table>\n",
       "</div>"
      ],
      "text/plain": [
       "            user_id group                  ab_test   device\n",
       "0  0002CE61FF2C4011     B        interface_eu_test      Mac\n",
       "1  001064FEAAB631A1     B  recommender_system_test  Android\n",
       "2  001064FEAAB631A1     A        interface_eu_test  Android\n",
       "3  0010A1C096941592     A  recommender_system_test  Android\n",
       "4  001E72F50D1C48FA     A        interface_eu_test      Mac"
      ]
     },
     "metadata": {},
     "output_type": "display_data"
    },
    {
     "data": {
      "text/html": [
       "<div>\n",
       "<style scoped>\n",
       "    .dataframe tbody tr th:only-of-type {\n",
       "        vertical-align: middle;\n",
       "    }\n",
       "\n",
       "    .dataframe tbody tr th {\n",
       "        vertical-align: top;\n",
       "    }\n",
       "\n",
       "    .dataframe thead th {\n",
       "        text-align: right;\n",
       "    }\n",
       "</style>\n",
       "<table border=\"1\" class=\"dataframe\">\n",
       "  <thead>\n",
       "    <tr style=\"text-align: right;\">\n",
       "      <th></th>\n",
       "      <th>user_id</th>\n",
       "      <th>event_dt</th>\n",
       "      <th>event_name</th>\n",
       "      <th>details</th>\n",
       "    </tr>\n",
       "  </thead>\n",
       "  <tbody>\n",
       "    <tr>\n",
       "      <th>0</th>\n",
       "      <td>GLOBAL</td>\n",
       "      <td>2020-12-01 00:00:00</td>\n",
       "      <td>End of Black Friday Ads Campaign</td>\n",
       "      <td>ZONE_CODE15</td>\n",
       "    </tr>\n",
       "    <tr>\n",
       "      <th>1</th>\n",
       "      <td>CCBE9E7E99F94A08</td>\n",
       "      <td>2020-12-01 00:00:11</td>\n",
       "      <td>registration</td>\n",
       "      <td>0.0</td>\n",
       "    </tr>\n",
       "    <tr>\n",
       "      <th>2</th>\n",
       "      <td>GLOBAL</td>\n",
       "      <td>2020-12-01 00:00:25</td>\n",
       "      <td>product_page</td>\n",
       "      <td>NaN</td>\n",
       "    </tr>\n",
       "    <tr>\n",
       "      <th>3</th>\n",
       "      <td>CCBE9E7E99F94A08</td>\n",
       "      <td>2020-12-01 00:00:33</td>\n",
       "      <td>login</td>\n",
       "      <td>NaN</td>\n",
       "    </tr>\n",
       "    <tr>\n",
       "      <th>4</th>\n",
       "      <td>CCBE9E7E99F94A08</td>\n",
       "      <td>2020-12-01 00:00:52</td>\n",
       "      <td>product_page</td>\n",
       "      <td>NaN</td>\n",
       "    </tr>\n",
       "  </tbody>\n",
       "</table>\n",
       "</div>"
      ],
      "text/plain": [
       "            user_id            event_dt                        event_name  \\\n",
       "0            GLOBAL 2020-12-01 00:00:00  End of Black Friday Ads Campaign   \n",
       "1  CCBE9E7E99F94A08 2020-12-01 00:00:11                      registration   \n",
       "2            GLOBAL 2020-12-01 00:00:25                      product_page   \n",
       "3  CCBE9E7E99F94A08 2020-12-01 00:00:33                             login   \n",
       "4  CCBE9E7E99F94A08 2020-12-01 00:00:52                      product_page   \n",
       "\n",
       "       details  \n",
       "0  ZONE_CODE15  \n",
       "1          0.0  \n",
       "2          NaN  \n",
       "3          NaN  \n",
       "4          NaN  "
      ]
     },
     "metadata": {},
     "output_type": "display_data"
    }
   ],
   "source": [
    "display(participants.head())\n",
    "display(events.head())"
   ]
  },
  {
   "cell_type": "markdown",
   "metadata": {},
   "source": [
    "\n",
    "Проверим данные на наличие явных дубликатов:\n"
   ]
  },
  {
   "cell_type": "code",
   "execution_count": 5,
   "metadata": {},
   "outputs": [
    {
     "data": {
      "text/plain": [
       "0"
      ]
     },
     "metadata": {},
     "output_type": "display_data"
    },
    {
     "data": {
      "text/plain": [
       "36318"
      ]
     },
     "metadata": {},
     "output_type": "display_data"
    }
   ],
   "source": [
    "display(participants.duplicated().sum())\n",
    "display(events.duplicated().sum())"
   ]
  },
  {
   "cell_type": "markdown",
   "metadata": {},
   "source": [
    "В таблице `events` содержится 36 318 дубликатов, избавимся от них в следующих шагах.\n"
   ]
  },
  {
   "cell_type": "markdown",
   "metadata": {},
   "source": [
    "Выделим пользователей, участвующих в тесте, и проверим:\n",
    "\n",
    "   - соответствие требованиям технического задания,\n",
    "\n",
    "   - равномерность распределения пользователей по группам теста,\n",
    "\n",
    "   - отсутствие пересечений с конкурирующим тестом (нет пользователей, участвующих одновременно в двух тестовых группах)."
   ]
  },
  {
   "cell_type": "code",
   "execution_count": 6,
   "metadata": {},
   "outputs": [],
   "source": [
    "ab_test_participants = participants[participants['ab_test'] == 'interface_eu_test']"
   ]
  },
  {
   "cell_type": "code",
   "execution_count": 7,
   "metadata": {},
   "outputs": [
    {
     "data": {
      "text/plain": [
       "B    5467\n",
       "A    5383\n",
       "Name: group, dtype: int64"
      ]
     },
     "execution_count": 7,
     "metadata": {},
     "output_type": "execute_result"
    }
   ],
   "source": [
    "#Проверяем наличие тестовых групп\n",
    "ab_test_participants['group'].value_counts()"
   ]
  },
  {
   "cell_type": "markdown",
   "metadata": {},
   "source": [
    "В данных две группы (A и B) с примерно одинаковым количеством наблюдений"
   ]
  },
  {
   "cell_type": "code",
   "execution_count": 8,
   "metadata": {},
   "outputs": [
    {
     "data": {
      "text/plain": [
       "Timestamp('2020-12-06 14:10:01')"
      ]
     },
     "metadata": {},
     "output_type": "display_data"
    },
    {
     "data": {
      "text/plain": [
       "Timestamp('2020-12-30 18:34:08')"
      ]
     },
     "metadata": {},
     "output_type": "display_data"
    }
   ],
   "source": [
    "display(events[events['user_id'].isin(ab_test_participants['user_id'])]['event_dt'].min())\n",
    "display(events[events['user_id'].isin(ab_test_participants['user_id'])]['event_dt'].max())"
   ]
  },
  {
   "cell_type": "markdown",
   "metadata": {},
   "source": [
    "В данных отсутсвует период **2020-12-01 по 2020-12-05** и присутсвует лишний день **2020-12-30**. Кроме этого период сбора данных совпадает с техническим заданием."
   ]
  },
  {
   "cell_type": "markdown",
   "metadata": {},
   "source": [
    "Параметры теста совпадают с техническим заданием, за исключением несоответствия периодов сбора данных."
   ]
  },
  {
   "cell_type": "markdown",
   "metadata": {},
   "source": [
    "   \n",
    "Проверим корректность периодов для регистрации и непосредственного сбора статистики:\n"
   ]
  },
  {
   "cell_type": "code",
   "execution_count": 9,
   "metadata": {},
   "outputs": [
    {
     "name": "stdout",
     "output_type": "stream",
     "text": [
      "Период регистрации пользователей: с 2020-12-06 14:10:01 по 2020-12-24 21:57:10\n",
      "Период сбора статистики: с 2020-12-07 00:04:00 по 2020-12-30 18:34:08\n"
     ]
    }
   ],
   "source": [
    "reg_min = events[(events['user_id'].isin(ab_test_participants['user_id'])) & \n",
    "                 (events['event_name'] == 'registration')]['event_dt'].min()\n",
    "reg_max = events[(events['user_id'].isin(ab_test_participants['user_id'])) & \n",
    "                 (events['event_name'] == 'registration')]['event_dt'].max()\n",
    "\n",
    "exp_min = events[(events['user_id'].isin(ab_test_participants['user_id'])) & \n",
    "                 (events['event_name'] != 'registration')]['event_dt'].min()\n",
    "exp_max = events[(events['user_id'].isin(ab_test_participants['user_id'])) & \n",
    "                 (events['event_name'] != 'registration')]['event_dt'].max()\n",
    "\n",
    "print(f'Период регистрации пользователей: с {reg_min} по {reg_max}')\n",
    "print(f'Период сбора статистики: с {exp_min} по {exp_max}')"
   ]
  },
  {
   "cell_type": "markdown",
   "metadata": {},
   "source": [
    "\n",
    "В данных присутствуют пользователи, зарегистрированные после 21 числа. А в периоде сбора данных присутствуют наблюдения от 7 числа."
   ]
  },
  {
   "cell_type": "code",
   "execution_count": 10,
   "metadata": {},
   "outputs": [
    {
     "data": {
      "text/plain": [
       "887"
      ]
     },
     "metadata": {},
     "output_type": "display_data"
    }
   ],
   "source": [
    "test_groups = participants.groupby('user_id')['ab_test'].nunique().reset_index()\n",
    "test_groups_more_than_one = test_groups[test_groups['ab_test'] > 1]\n",
    "display(test_groups_more_than_one.shape[0])"
   ]
  },
  {
   "cell_type": "markdown",
   "metadata": {},
   "source": [
    "В выборке содержится 887 пользователей, принимавших участие в более чем двух тестах"
   ]
  },
  {
   "cell_type": "code",
   "execution_count": 11,
   "metadata": {},
   "outputs": [
    {
     "data": {
      "text/plain": [
       "array(['recommender_system_test', 'interface_eu_test'], dtype=object)"
      ]
     },
     "execution_count": 11,
     "metadata": {},
     "output_type": "execute_result"
    }
   ],
   "source": [
    "participants[participants['user_id'].isin(test_groups_more_than_one['user_id'])]['ab_test'].unique()"
   ]
  },
  {
   "cell_type": "markdown",
   "metadata": {},
   "source": [
    "Пересечения в том числе присутствуют для теста `interface_eu_test`, исследуемого в работе. Проверим также наличие пересечения контрольной и тестовых групп:"
   ]
  },
  {
   "cell_type": "code",
   "execution_count": 12,
   "metadata": {},
   "outputs": [
    {
     "data": {
      "text/plain": [
       "0"
      ]
     },
     "metadata": {},
     "output_type": "display_data"
    }
   ],
   "source": [
    "test_groups_A_B = ab_test_participants.groupby('user_id')['group'].nunique().reset_index()\n",
    "test_groups_A_B_more_than_one = test_groups_A_B[test_groups_A_B['group'] > 1]\n",
    "display(test_groups_A_B_more_than_one.shape[0])"
   ]
  },
  {
   "cell_type": "markdown",
   "metadata": {},
   "source": [
    "В данных нет пересечений по тестовым группам A и B, удалим из данных пользователей, участвовавших сразу в нескольких экспериментах:"
   ]
  },
  {
   "cell_type": "code",
   "execution_count": 13,
   "metadata": {},
   "outputs": [],
   "source": [
    "ab_test_participants_cleaned = ab_test_participants[~ab_test_participants['user_id'].isin(test_groups_more_than_one['user_id'])]"
   ]
  },
  {
   "cell_type": "code",
   "execution_count": 14,
   "metadata": {},
   "outputs": [
    {
     "data": {
      "text/plain": [
       "B    5011\n",
       "A    4952\n",
       "Name: group, dtype: int64"
      ]
     },
     "execution_count": 14,
     "metadata": {},
     "output_type": "execute_result"
    }
   ],
   "source": [
    "ab_test_participants_cleaned['group'].value_counts()"
   ]
  },
  {
   "cell_type": "markdown",
   "metadata": {},
   "source": [
    "  \n",
    "Распределение данных между группами осталось равномерным.\n"
   ]
  },
  {
   "cell_type": "markdown",
   "metadata": {},
   "source": [
    "Оценим достаточность выборки для получения статистически значимых результатов A/B-теста. Заданные компанией параметры: \n",
    "\n",
    "- базовый показатель конверсии — 30%,\n",
    "\n",
    "- мощность теста — 80%,\n",
    "\n",
    "- достоверность теста — 95%."
   ]
  },
  {
   "cell_type": "code",
   "execution_count": 15,
   "metadata": {},
   "outputs": [],
   "source": [
    "ab_test_participants_events = ab_test_participants_cleaned.merge(events, on = 'user_id', how = 'inner')"
   ]
  },
  {
   "cell_type": "code",
   "execution_count": 16,
   "metadata": {},
   "outputs": [],
   "source": [
    "A_group = ab_test_participants_events[ab_test_participants_events['group'] == 'A']\n",
    "B_group = ab_test_participants_events[ab_test_participants_events['group'] == 'B']\n",
    "\n",
    "# Количество покупок\n",
    "A_purchase = A_group[A_group['event_name'] == 'purchase'].shape[0]\n",
    "B_purchase = B_group[B_group['event_name'] == 'purchase'].shape[0]\n",
    "\n",
    "# Доля успешных сессий\n",
    "A_purchase_share = A_purchase / A_group.shape[0]\n",
    "B_purchase_share = B_purchase / B_group.shape[0]"
   ]
  },
  {
   "cell_type": "markdown",
   "metadata": {},
   "source": [
    "Проверим достаточность выборок:"
   ]
  },
  {
   "cell_type": "code",
   "execution_count": 17,
   "metadata": {},
   "outputs": [
    {
     "name": "stdout",
     "output_type": "stream",
     "text": [
      "Предпосылка о достаточном количестве данных выполняется!\n"
     ]
    }
   ],
   "source": [
    "if (A_purchase_share*A_group.shape[0] > 10)and (B_purchase_share*B_group.shape[0] > 10):\n",
    "    print('Предпосылка о достаточном количестве данных выполняется!')\n",
    "else:\n",
    "    print('Предпосылка о достаточном количестве данных НЕ выполняется!')"
   ]
  },
  {
   "cell_type": "markdown",
   "metadata": {},
   "source": []
  },
  {
   "cell_type": "markdown",
   "metadata": {},
   "source": [
    "   \n",
    "Также при использовании калькулятора Эвана Миллера с минимальным детектируемым эффектом в 3 п.п. необходимый размер одной выборки составил 3 692 наблюдения, что также подтверждает достаточность выборки в нашем эксперименте.\n"
   ]
  },
  {
   "cell_type": "markdown",
   "metadata": {},
   "source": [
    "Проанализируем данные о пользовательской активности по таблице `ab_test_events`:\n"
   ]
  },
  {
   "cell_type": "code",
   "execution_count": 18,
   "metadata": {},
   "outputs": [],
   "source": [
    "ab_test_events = events[events['user_id'].isin(ab_test_participants_cleaned['user_id'])]"
   ]
  },
  {
   "cell_type": "code",
   "execution_count": 19,
   "metadata": {},
   "outputs": [
    {
     "name": "stdout",
     "output_type": "stream",
     "text": [
      "<class 'pandas.core.frame.DataFrame'>\n",
      "Int64Index: 73815 entries, 64672 to 780371\n",
      "Data columns (total 4 columns):\n",
      " #   Column      Non-Null Count  Dtype         \n",
      "---  ------      --------------  -----         \n",
      " 0   user_id     73815 non-null  object        \n",
      " 1   event_dt    73815 non-null  datetime64[ns]\n",
      " 2   event_name  73815 non-null  object        \n",
      " 3   details     19450 non-null  object        \n",
      "dtypes: datetime64[ns](1), object(3)\n",
      "memory usage: 2.8+ MB\n"
     ]
    }
   ],
   "source": [
    "ab_test_events.info()"
   ]
  },
  {
   "cell_type": "code",
   "execution_count": 20,
   "metadata": {},
   "outputs": [
    {
     "data": {
      "text/plain": [
       "5741"
      ]
     },
     "execution_count": 20,
     "metadata": {},
     "output_type": "execute_result"
    }
   ],
   "source": [
    "# Проверим наличие дубликатов\n",
    "ab_test_events.duplicated().sum()"
   ]
  },
  {
   "cell_type": "code",
   "execution_count": 21,
   "metadata": {},
   "outputs": [],
   "source": [
    "# Отчистим данные от дубликатов\n",
    "ab_test_events_cleaned = ab_test_events.drop_duplicates(keep = 'first', inplace=False)"
   ]
  },
  {
   "cell_type": "code",
   "execution_count": 22,
   "metadata": {},
   "outputs": [
    {
     "name": "stdout",
     "output_type": "stream",
     "text": [
      "<class 'pandas.core.frame.DataFrame'>\n",
      "Int64Index: 68074 entries, 64672 to 780371\n",
      "Data columns (total 4 columns):\n",
      " #   Column      Non-Null Count  Dtype         \n",
      "---  ------      --------------  -----         \n",
      " 0   user_id     68074 non-null  object        \n",
      " 1   event_dt    68074 non-null  datetime64[ns]\n",
      " 2   event_name  68074 non-null  object        \n",
      " 3   details     18864 non-null  object        \n",
      "dtypes: datetime64[ns](1), object(3)\n",
      "memory usage: 2.6+ MB\n"
     ]
    }
   ],
   "source": [
    "ab_test_events_cleaned.info()"
   ]
  },
  {
   "cell_type": "markdown",
   "metadata": {},
   "source": [
    "Рассчитаем время (лайфтайм) совершения события пользователем после регистрации и оставим только те события, которые были выполнены в течение первых семи дней с момента регистрации;"
   ]
  },
  {
   "cell_type": "code",
   "execution_count": 23,
   "metadata": {},
   "outputs": [
    {
     "name": "stdout",
     "output_type": "stream",
     "text": [
      "<class 'pandas.core.frame.DataFrame'>\n",
      "Int64Index: 39242 entries, 15 to 65190\n",
      "Data columns (total 5 columns):\n",
      " #   Column             Non-Null Count  Dtype         \n",
      "---  ------             --------------  -----         \n",
      " 0   user_id            39242 non-null  object        \n",
      " 1   event_dt           39242 non-null  datetime64[ns]\n",
      " 2   event_name         39242 non-null  object        \n",
      " 3   details            4515 non-null   object        \n",
      " 4   registration_date  39242 non-null  datetime64[ns]\n",
      "dtypes: datetime64[ns](2), object(3)\n",
      "memory usage: 1.8+ MB\n"
     ]
    },
    {
     "data": {
      "text/plain": [
       "None"
      ]
     },
     "metadata": {},
     "output_type": "display_data"
    }
   ],
   "source": [
    "# Выбираем даты регистрации по техническому заданию\n",
    "registrations = ab_test_events_cleaned[(ab_test_events_cleaned['event_name'] == 'registration') & \n",
    "                                       (ab_test_events_cleaned['event_dt'] >= '2020-12-01') & \n",
    "                                       (ab_test_events_cleaned['event_dt'] <= '2020-12-21')][['user_id', 'event_dt']]\n",
    "registrations.rename(columns={'event_dt': 'registration_date'}, inplace=True)\n",
    "\n",
    "# Добавления даты регистрации к данным\n",
    "ab_test_events_cleaned = ab_test_events_cleaned.merge(registrations, on='user_id', how='left')\n",
    "\n",
    "# Оставляем данные в течение 7 дней после момента регистрации, саму регистрацию в данные не включаем\n",
    "ab_test_events_filtered = ab_test_events_cleaned[\n",
    "             (ab_test_events_cleaned['event_dt'] <= ab_test_events_cleaned['registration_date'] + pd.Timedelta(days=7)) &\n",
    "             (ab_test_events_cleaned['event_name'] != 'registration')]\n",
    "display(ab_test_events_filtered.info())"
   ]
  },
  {
   "cell_type": "code",
   "execution_count": 24,
   "metadata": {},
   "outputs": [
    {
     "data": {
      "text/plain": [
       "7962"
      ]
     },
     "metadata": {},
     "output_type": "display_data"
    },
    {
     "data": {
      "text/plain": [
       "7962"
      ]
     },
     "metadata": {},
     "output_type": "display_data"
    }
   ],
   "source": [
    "display(registrations.shape[0])\n",
    "display(registrations['user_id'].nunique())"
   ]
  },
  {
   "cell_type": "markdown",
   "metadata": {},
   "source": [
    "\n",
    "В данных о регистрации каждому пользователю соответствует одна запись о регистрации.\n"
   ]
  },
  {
   "cell_type": "markdown",
   "metadata": {},
   "source": [
    "Рассчитаем для каждой группы количество посетителей, сделавших покупку, и общее количество посетителей."
   ]
  },
  {
   "cell_type": "code",
   "execution_count": 25,
   "metadata": {},
   "outputs": [
    {
     "name": "stdout",
     "output_type": "stream",
     "text": [
      "<class 'pandas.core.frame.DataFrame'>\n",
      "Int64Index: 39242 entries, 0 to 39241\n",
      "Data columns (total 6 columns):\n",
      " #   Column             Non-Null Count  Dtype         \n",
      "---  ------             --------------  -----         \n",
      " 0   user_id            39242 non-null  object        \n",
      " 1   event_dt           39242 non-null  datetime64[ns]\n",
      " 2   event_name         39242 non-null  object        \n",
      " 3   details            4515 non-null   object        \n",
      " 4   registration_date  39242 non-null  datetime64[ns]\n",
      " 5   group              39242 non-null  object        \n",
      "dtypes: datetime64[ns](2), object(4)\n",
      "memory usage: 2.1+ MB\n"
     ]
    }
   ],
   "source": [
    "# Присоединяем информацию о тестовых группах\n",
    "ab_test_events_final = ab_test_events_filtered.merge(ab_test_participants_cleaned[['user_id','group']], \n",
    "                                                     on = 'user_id', how = 'inner')\n",
    "ab_test_events_final.info()"
   ]
  },
  {
   "cell_type": "markdown",
   "metadata": {},
   "source": [
    "- Сделаем предварительный общий вывод об изменении пользовательской активности в тестовой группе по сравнению с контрольной."
   ]
  },
  {
   "cell_type": "markdown",
   "metadata": {},
   "source": [
    "\n",
    "Создадим булевую переменную, на основе которой посчитаем количество покупок:\n"
   ]
  },
  {
   "cell_type": "code",
   "execution_count": 28,
   "metadata": {},
   "outputs": [],
   "source": [
    "ab_test_events_final['purchase_made'] = 0 \n",
    "# переменная принимает значение 0 когда целевое действие не связано с покупкой\n",
    "\n",
    "ab_test_events_final.loc[ab_test_events_final['event_name'] == 'purchase', 'purchase_made'] = 1 \n",
    "# принимает значение 1 когда пользователь совершил покупку"
   ]
  },
  {
   "cell_type": "code",
   "execution_count": 29,
   "metadata": {},
   "outputs": [
    {
     "name": "stdout",
     "output_type": "stream",
     "text": [
      "Общее количество уникальных пользователей в выборке А: 3936, в выборке B: 4026\n",
      "Количество покупок уникальных пользователей в выборке А: 1053, в выборке B: 1146\n"
     ]
    }
   ],
   "source": [
    "# Количество покупок уникальных пользователей\n",
    "A_purchase_count = ab_test_events_final[(ab_test_events_final['group'] == 'A') & \n",
    "                                        (ab_test_events_final['purchase_made'] == 1)]['user_id'].nunique()\n",
    "\n",
    "B_purchase_count = ab_test_events_final[(ab_test_events_final['group'] == 'B') & \n",
    "                                        (ab_test_events_final['purchase_made'] == 1)]['user_id'].nunique()\n",
    "\n",
    "# Общее количество уникальных пользователей\n",
    "A_all = ab_test_events_final[ab_test_events_final['group'] == 'A']['user_id'].nunique()\n",
    "B_all = ab_test_events_final[ab_test_events_final['group'] == 'B']['user_id'].nunique()\n",
    "\n",
    "# Конверсия в покупку\n",
    "A_conv = round(A_purchase_count / A_all, 4)\n",
    "B_conv = round(B_purchase_count / B_all, 4)\n",
    "\n",
    "print(f'Общее количество уникальных пользователей в выборке А: {A_all}, в выборке B: {B_all}')\n",
    "print(f'Количество покупок уникальных пользователей в выборке А: {A_purchase_count}, в выборке B: {B_purchase_count}')"
   ]
  },
  {
   "cell_type": "code",
   "execution_count": 30,
   "metadata": {},
   "outputs": [
    {
     "name": "stdout",
     "output_type": "stream",
     "text": [
      "Конверсия в покупку в выборке А: 0.2675, в выборке B: 0.2846\n",
      "Разница в конверсии между тестовой и контрольной выборками составила: 0.017\n"
     ]
    }
   ],
   "source": [
    "print(f'Конверсия в покупку в выборке А: {A_conv}, в выборке B: {B_conv}')\n",
    "print(f'Разница в конверсии между тестовой и контрольной выборками составила: {round(B_conv - A_conv, 3)}')"
   ]
  },
  {
   "cell_type": "markdown",
   "metadata": {},
   "source": [
    "4. оценка результатов A/B-тестирования:"
   ]
  },
  {
   "cell_type": "markdown",
   "metadata": {},
   "source": [
    "- Проверим изменение конверсии статистическим тестом."
   ]
  },
  {
   "cell_type": "code",
   "execution_count": 31,
   "metadata": {},
   "outputs": [
    {
     "name": "stdout",
     "output_type": "stream",
     "text": [
      "pvalue=0.04380487624266547 < 0.05\n",
      "Нулевая гипотеза не находит подтверждения\n"
     ]
    }
   ],
   "source": [
    "alpha = 0.05\n",
    "\n",
    "stat_ztest, p_value_ztest = proportions_ztest(\n",
    "[A_purchase_count, B_purchase_count],\n",
    "[A_all, B_all],\n",
    "alternative='smaller'\n",
    ")\n",
    "\n",
    "if p_value_ztest > alpha:\n",
    "    print(f'pvalue={p_value_ztest} > {alpha}')\n",
    "    print('Не получилось отвергнуть Нулевую гипотезу')\n",
    "else:\n",
    "    print(f'pvalue={p_value_ztest} < {alpha}')\n",
    "    print('Нулевая гипотеза не находит подтверждения')"
   ]
  },
  {
   "cell_type": "markdown",
   "metadata": {},
   "source": [
    "- Опишите выводы по проведённой оценке результатов A/B-тестирования. Что можно сказать про результаты A/B-тестирования? Был ли достигнут ожидаемый эффект в изменении конверсии?"
   ]
  },
  {
   "cell_type": "markdown",
   "metadata": {},
   "source": [
    "\n",
    "В результате работы был проведен Z-тест пропорций с уровнем значимости 5%. P-value получился меньше заданного уровня значимости, поэтому мы можем говорить о статистически значимом изменении конверсии пользователей в покупателей после обновления интерфейса приложения.\n",
    "\n",
    "Однако предположение о том, что изменение интерфейса увеличит конверсию не менее чем на 3 процентных пункта не подтвердилось, так как разница средних между двумя выборками составила 1.7 процентных пункта.\n"
   ]
  }
 ],
 "metadata": {
  "ExecuteTimeLog": [
   {
    "duration": 1873,
    "start_time": "2025-03-12T11:20:14.793Z"
   },
   {
    "duration": 143,
    "start_time": "2025-03-12T11:21:09.319Z"
   },
   {
    "duration": 15,
    "start_time": "2025-03-12T11:25:05.139Z"
   },
   {
    "duration": 5,
    "start_time": "2025-03-12T11:27:15.122Z"
   },
   {
    "duration": 64,
    "start_time": "2025-03-12T11:59:08.371Z"
   },
   {
    "duration": 7,
    "start_time": "2025-03-12T11:59:21.778Z"
   },
   {
    "duration": 7,
    "start_time": "2025-03-12T11:59:25.937Z"
   },
   {
    "duration": 78,
    "start_time": "2025-03-12T12:03:44.235Z"
   },
   {
    "duration": 134,
    "start_time": "2025-03-12T12:03:55.961Z"
   },
   {
    "duration": 8,
    "start_time": "2025-03-12T12:14:40.764Z"
   },
   {
    "duration": 1377,
    "start_time": "2025-03-12T12:15:38.684Z"
   },
   {
    "duration": 17,
    "start_time": "2025-03-12T12:17:51.661Z"
   },
   {
    "duration": 5,
    "start_time": "2025-03-12T12:19:45.398Z"
   },
   {
    "duration": 16,
    "start_time": "2025-03-12T12:21:44.616Z"
   },
   {
    "duration": 57,
    "start_time": "2025-03-12T12:24:11.814Z"
   },
   {
    "duration": 62,
    "start_time": "2025-03-12T12:25:31.006Z"
   },
   {
    "duration": 7,
    "start_time": "2025-03-12T12:25:58.638Z"
   },
   {
    "duration": 12,
    "start_time": "2025-03-12T12:40:46.714Z"
   },
   {
    "duration": 4,
    "start_time": "2025-03-12T12:47:02.654Z"
   },
   {
    "duration": 1697,
    "start_time": "2025-03-14T09:39:46.860Z"
   },
   {
    "duration": 136,
    "start_time": "2025-03-14T09:39:48.559Z"
   },
   {
    "duration": 15,
    "start_time": "2025-03-14T09:39:48.696Z"
   },
   {
    "duration": 5,
    "start_time": "2025-03-14T09:39:48.712Z"
   },
   {
    "duration": 12,
    "start_time": "2025-03-14T09:39:48.718Z"
   },
   {
    "duration": 174,
    "start_time": "2025-03-14T09:39:48.731Z"
   },
   {
    "duration": 18,
    "start_time": "2025-03-14T09:39:48.907Z"
   },
   {
    "duration": 7,
    "start_time": "2025-03-14T09:39:48.926Z"
   },
   {
    "duration": 117,
    "start_time": "2025-03-14T09:39:48.934Z"
   },
   {
    "duration": 5,
    "start_time": "2025-03-14T09:39:49.053Z"
   },
   {
    "duration": 552,
    "start_time": "2025-03-14T09:39:49.060Z"
   },
   {
    "duration": 48,
    "start_time": "2025-03-14T10:10:58.480Z"
   },
   {
    "duration": 233,
    "start_time": "2025-03-14T10:14:34.330Z"
   },
   {
    "duration": 31,
    "start_time": "2025-03-14T10:20:58.858Z"
   },
   {
    "duration": 120,
    "start_time": "2025-03-14T10:23:03.307Z"
   },
   {
    "duration": 17,
    "start_time": "2025-03-14T10:23:28.986Z"
   },
   {
    "duration": 13,
    "start_time": "2025-03-14T10:24:42.607Z"
   },
   {
    "duration": 17,
    "start_time": "2025-03-14T10:25:26.287Z"
   },
   {
    "duration": 8,
    "start_time": "2025-03-14T10:38:04.912Z"
   },
   {
    "duration": 76,
    "start_time": "2025-03-14T10:38:35.731Z"
   },
   {
    "duration": 22,
    "start_time": "2025-03-14T10:38:46.016Z"
   },
   {
    "duration": 35,
    "start_time": "2025-03-14T10:52:59.632Z"
   },
   {
    "duration": 33,
    "start_time": "2025-03-14T10:59:34.944Z"
   },
   {
    "duration": 6,
    "start_time": "2025-03-14T11:18:25.635Z"
   },
   {
    "duration": 7,
    "start_time": "2025-03-14T11:18:43.753Z"
   },
   {
    "duration": 1816,
    "start_time": "2025-03-14T12:46:39.951Z"
   },
   {
    "duration": 134,
    "start_time": "2025-03-14T12:46:41.768Z"
   },
   {
    "duration": 15,
    "start_time": "2025-03-14T12:46:41.903Z"
   },
   {
    "duration": 7,
    "start_time": "2025-03-14T12:46:41.920Z"
   },
   {
    "duration": 42,
    "start_time": "2025-03-14T12:46:41.929Z"
   },
   {
    "duration": 161,
    "start_time": "2025-03-14T12:46:41.973Z"
   },
   {
    "duration": 27,
    "start_time": "2025-03-14T12:46:42.136Z"
   },
   {
    "duration": 7,
    "start_time": "2025-03-14T12:46:42.164Z"
   },
   {
    "duration": 21,
    "start_time": "2025-03-14T12:46:42.172Z"
   },
   {
    "duration": 12,
    "start_time": "2025-03-14T12:46:42.194Z"
   },
   {
    "duration": 263,
    "start_time": "2025-03-14T12:46:42.207Z"
   },
   {
    "duration": 43,
    "start_time": "2025-03-14T12:46:42.472Z"
   },
   {
    "duration": 471,
    "start_time": "2025-03-14T12:46:42.517Z"
   },
   {
    "duration": 71,
    "start_time": "2025-03-14T12:46:42.991Z"
   },
   {
    "duration": 25,
    "start_time": "2025-03-14T12:46:43.064Z"
   },
   {
    "duration": 39,
    "start_time": "2025-03-14T12:46:43.090Z"
   },
   {
    "duration": 56,
    "start_time": "2025-03-14T12:46:43.130Z"
   },
   {
    "duration": 57,
    "start_time": "2025-03-17T06:05:37.741Z"
   },
   {
    "duration": 1838,
    "start_time": "2025-03-17T06:05:48.246Z"
   },
   {
    "duration": 152,
    "start_time": "2025-03-17T06:05:50.086Z"
   },
   {
    "duration": 34,
    "start_time": "2025-03-17T06:05:50.239Z"
   },
   {
    "duration": 6,
    "start_time": "2025-03-17T06:05:50.275Z"
   },
   {
    "duration": 11,
    "start_time": "2025-03-17T06:05:50.283Z"
   },
   {
    "duration": 199,
    "start_time": "2025-03-17T06:05:50.295Z"
   },
   {
    "duration": 17,
    "start_time": "2025-03-17T06:05:50.496Z"
   },
   {
    "duration": 7,
    "start_time": "2025-03-17T06:05:50.514Z"
   },
   {
    "duration": 48,
    "start_time": "2025-03-17T06:05:50.523Z"
   },
   {
    "duration": 6,
    "start_time": "2025-03-17T06:05:50.572Z"
   },
   {
    "duration": 239,
    "start_time": "2025-03-17T06:05:50.580Z"
   },
   {
    "duration": 52,
    "start_time": "2025-03-17T06:05:50.821Z"
   },
   {
    "duration": 2,
    "start_time": "2025-03-17T06:05:50.875Z"
   },
   {
    "duration": 4,
    "start_time": "2025-03-17T06:05:50.879Z"
   },
   {
    "duration": 97,
    "start_time": "2025-03-17T06:05:50.885Z"
   },
   {
    "duration": 24,
    "start_time": "2025-03-17T06:05:50.983Z"
   },
   {
    "duration": 54,
    "start_time": "2025-03-17T06:05:51.009Z"
   },
   {
    "duration": 40,
    "start_time": "2025-03-17T06:05:51.069Z"
   },
   {
    "duration": 24,
    "start_time": "2025-03-17T06:08:32.722Z"
   },
   {
    "duration": 6,
    "start_time": "2025-03-17T06:48:54.266Z"
   },
   {
    "duration": 72,
    "start_time": "2025-03-17T06:49:23.394Z"
   },
   {
    "duration": 1326,
    "start_time": "2025-03-17T07:21:09.085Z"
   },
   {
    "duration": 47,
    "start_time": "2025-03-17T07:22:32.178Z"
   },
   {
    "duration": 1127,
    "start_time": "2025-03-17T07:28:08.895Z"
   },
   {
    "duration": 1850,
    "start_time": "2025-03-17T07:29:17.525Z"
   },
   {
    "duration": 138,
    "start_time": "2025-03-17T07:29:19.378Z"
   },
   {
    "duration": 15,
    "start_time": "2025-03-17T07:29:19.518Z"
   },
   {
    "duration": 80,
    "start_time": "2025-03-17T07:29:19.535Z"
   },
   {
    "duration": 6,
    "start_time": "2025-03-17T07:29:19.617Z"
   },
   {
    "duration": 154,
    "start_time": "2025-03-17T07:29:19.624Z"
   },
   {
    "duration": 17,
    "start_time": "2025-03-17T07:29:19.779Z"
   },
   {
    "duration": 6,
    "start_time": "2025-03-17T07:29:19.798Z"
   },
   {
    "duration": 21,
    "start_time": "2025-03-17T07:29:19.805Z"
   },
   {
    "duration": 30,
    "start_time": "2025-03-17T07:29:19.828Z"
   },
   {
    "duration": 248,
    "start_time": "2025-03-17T07:29:19.859Z"
   },
   {
    "duration": 52,
    "start_time": "2025-03-17T07:29:20.108Z"
   },
   {
    "duration": 4,
    "start_time": "2025-03-17T07:29:20.162Z"
   },
   {
    "duration": 65,
    "start_time": "2025-03-17T07:29:20.167Z"
   },
   {
    "duration": 41,
    "start_time": "2025-03-17T07:29:20.234Z"
   },
   {
    "duration": 36,
    "start_time": "2025-03-17T07:29:20.276Z"
   },
   {
    "duration": 52,
    "start_time": "2025-03-17T07:29:20.313Z"
   },
   {
    "duration": 37,
    "start_time": "2025-03-17T07:29:20.367Z"
   },
   {
    "duration": 144,
    "start_time": "2025-03-17T07:29:20.406Z"
   },
   {
    "duration": 39,
    "start_time": "2025-03-17T07:29:20.551Z"
   },
   {
    "duration": 26,
    "start_time": "2025-03-17T07:49:58.412Z"
   },
   {
    "duration": 19,
    "start_time": "2025-03-17T07:54:36.266Z"
   },
   {
    "duration": 4,
    "start_time": "2025-03-17T07:54:38.599Z"
   },
   {
    "duration": 3,
    "start_time": "2025-03-17T07:54:56.904Z"
   },
   {
    "duration": 504,
    "start_time": "2025-03-17T09:57:40.724Z"
   },
   {
    "duration": 5,
    "start_time": "2025-03-17T10:03:07.190Z"
   },
   {
    "duration": 2011,
    "start_time": "2025-03-17T10:07:44.384Z"
   },
   {
    "duration": 156,
    "start_time": "2025-03-17T10:07:46.397Z"
   },
   {
    "duration": 19,
    "start_time": "2025-03-17T10:07:46.556Z"
   },
   {
    "duration": 6,
    "start_time": "2025-03-17T10:07:46.576Z"
   },
   {
    "duration": 7,
    "start_time": "2025-03-17T10:07:46.583Z"
   },
   {
    "duration": 189,
    "start_time": "2025-03-17T10:07:46.592Z"
   },
   {
    "duration": 17,
    "start_time": "2025-03-17T10:07:46.783Z"
   },
   {
    "duration": 6,
    "start_time": "2025-03-17T10:07:46.803Z"
   },
   {
    "duration": 32,
    "start_time": "2025-03-17T10:07:46.810Z"
   },
   {
    "duration": 24,
    "start_time": "2025-03-17T10:07:46.843Z"
   },
   {
    "duration": 271,
    "start_time": "2025-03-17T10:07:46.868Z"
   },
   {
    "duration": 51,
    "start_time": "2025-03-17T10:07:47.140Z"
   },
   {
    "duration": 4,
    "start_time": "2025-03-17T10:07:47.193Z"
   },
   {
    "duration": 85,
    "start_time": "2025-03-17T10:07:47.198Z"
   },
   {
    "duration": 26,
    "start_time": "2025-03-17T10:07:47.284Z"
   },
   {
    "duration": 58,
    "start_time": "2025-03-17T10:07:47.312Z"
   },
   {
    "duration": 42,
    "start_time": "2025-03-17T10:07:47.372Z"
   },
   {
    "duration": 90,
    "start_time": "2025-03-17T10:07:47.416Z"
   },
   {
    "duration": 78,
    "start_time": "2025-03-17T10:07:47.508Z"
   },
   {
    "duration": 43,
    "start_time": "2025-03-17T10:07:47.588Z"
   },
   {
    "duration": 41,
    "start_time": "2025-03-17T10:07:47.633Z"
   },
   {
    "duration": 5,
    "start_time": "2025-03-17T10:07:47.675Z"
   },
   {
    "duration": 468,
    "start_time": "2025-03-17T10:07:47.684Z"
   },
   {
    "duration": 5,
    "start_time": "2025-03-17T10:07:48.157Z"
   },
   {
    "duration": 1377,
    "start_time": "2025-03-17T10:16:38.939Z"
   },
   {
    "duration": 135,
    "start_time": "2025-03-17T10:16:40.318Z"
   },
   {
    "duration": 14,
    "start_time": "2025-03-17T10:16:40.458Z"
   },
   {
    "duration": 4,
    "start_time": "2025-03-17T10:16:40.476Z"
   },
   {
    "duration": 13,
    "start_time": "2025-03-17T10:16:40.482Z"
   },
   {
    "duration": 180,
    "start_time": "2025-03-17T10:16:40.498Z"
   },
   {
    "duration": 16,
    "start_time": "2025-03-17T10:16:40.680Z"
   },
   {
    "duration": 6,
    "start_time": "2025-03-17T10:16:40.698Z"
   },
   {
    "duration": 14,
    "start_time": "2025-03-17T10:16:40.706Z"
   },
   {
    "duration": 5,
    "start_time": "2025-03-17T10:16:40.721Z"
   },
   {
    "duration": 192,
    "start_time": "2025-03-17T10:16:40.758Z"
   },
   {
    "duration": 38,
    "start_time": "2025-03-17T10:16:40.952Z"
   },
   {
    "duration": 4,
    "start_time": "2025-03-17T10:16:40.992Z"
   },
   {
    "duration": 99,
    "start_time": "2025-03-17T10:16:40.998Z"
   },
   {
    "duration": 43,
    "start_time": "2025-03-17T10:16:41.099Z"
   },
   {
    "duration": 34,
    "start_time": "2025-03-17T10:16:41.144Z"
   },
   {
    "duration": 37,
    "start_time": "2025-03-17T10:16:41.180Z"
   },
   {
    "duration": 24,
    "start_time": "2025-03-17T10:16:41.219Z"
   },
   {
    "duration": 69,
    "start_time": "2025-03-17T10:16:41.258Z"
   },
   {
    "duration": 58,
    "start_time": "2025-03-17T10:16:41.329Z"
   },
   {
    "duration": 27,
    "start_time": "2025-03-17T10:16:41.389Z"
   },
   {
    "duration": 4,
    "start_time": "2025-03-17T10:16:41.418Z"
   },
   {
    "duration": 61,
    "start_time": "2025-03-17T10:16:41.424Z"
   },
   {
    "duration": 6,
    "start_time": "2025-03-17T10:16:41.486Z"
   },
   {
    "duration": 1879,
    "start_time": "2025-03-17T10:17:24.199Z"
   },
   {
    "duration": 136,
    "start_time": "2025-03-17T10:17:26.080Z"
   },
   {
    "duration": 15,
    "start_time": "2025-03-17T10:17:26.217Z"
   },
   {
    "duration": 5,
    "start_time": "2025-03-17T10:17:26.234Z"
   },
   {
    "duration": 7,
    "start_time": "2025-03-17T10:17:26.258Z"
   },
   {
    "duration": 184,
    "start_time": "2025-03-17T10:17:26.267Z"
   },
   {
    "duration": 22,
    "start_time": "2025-03-17T10:17:26.453Z"
   },
   {
    "duration": 7,
    "start_time": "2025-03-17T10:17:26.477Z"
   },
   {
    "duration": 13,
    "start_time": "2025-03-17T10:17:26.486Z"
   },
   {
    "duration": 4,
    "start_time": "2025-03-17T10:17:26.501Z"
   },
   {
    "duration": 269,
    "start_time": "2025-03-17T10:17:26.506Z"
   },
   {
    "duration": 41,
    "start_time": "2025-03-17T10:17:26.777Z"
   },
   {
    "duration": 3,
    "start_time": "2025-03-17T10:17:26.820Z"
   },
   {
    "duration": 101,
    "start_time": "2025-03-17T10:17:26.825Z"
   },
   {
    "duration": 32,
    "start_time": "2025-03-17T10:17:26.927Z"
   },
   {
    "duration": 37,
    "start_time": "2025-03-17T10:17:26.960Z"
   },
   {
    "duration": 36,
    "start_time": "2025-03-17T10:17:26.999Z"
   },
   {
    "duration": 39,
    "start_time": "2025-03-17T10:17:27.037Z"
   },
   {
    "duration": 99,
    "start_time": "2025-03-17T10:17:27.079Z"
   },
   {
    "duration": 48,
    "start_time": "2025-03-17T10:17:27.180Z"
   },
   {
    "duration": 41,
    "start_time": "2025-03-17T10:17:27.230Z"
   },
   {
    "duration": 3,
    "start_time": "2025-03-17T10:17:27.273Z"
   },
   {
    "duration": 481,
    "start_time": "2025-03-17T10:17:27.278Z"
   },
   {
    "duration": 5,
    "start_time": "2025-03-17T10:17:27.761Z"
   },
   {
    "duration": 2088,
    "start_time": "2025-03-17T10:24:37.740Z"
   },
   {
    "duration": 151,
    "start_time": "2025-03-17T10:24:39.830Z"
   },
   {
    "duration": 15,
    "start_time": "2025-03-17T10:24:39.982Z"
   },
   {
    "duration": 75,
    "start_time": "2025-03-17T10:24:39.999Z"
   },
   {
    "duration": 62,
    "start_time": "2025-03-17T10:24:40.076Z"
   },
   {
    "duration": 233,
    "start_time": "2025-03-17T10:24:40.140Z"
   },
   {
    "duration": 18,
    "start_time": "2025-03-17T10:24:40.374Z"
   },
   {
    "duration": 7,
    "start_time": "2025-03-17T10:24:40.393Z"
   },
   {
    "duration": 20,
    "start_time": "2025-03-17T10:24:40.401Z"
   },
   {
    "duration": 4,
    "start_time": "2025-03-17T10:24:40.423Z"
   },
   {
    "duration": 270,
    "start_time": "2025-03-17T10:24:40.428Z"
   },
   {
    "duration": 42,
    "start_time": "2025-03-17T10:24:40.700Z"
   },
   {
    "duration": 3,
    "start_time": "2025-03-17T10:24:40.744Z"
   },
   {
    "duration": 63,
    "start_time": "2025-03-17T10:24:40.758Z"
   },
   {
    "duration": 39,
    "start_time": "2025-03-17T10:24:40.822Z"
   },
   {
    "duration": 102,
    "start_time": "2025-03-17T10:24:40.863Z"
   },
   {
    "duration": 56,
    "start_time": "2025-03-17T10:24:40.967Z"
   },
   {
    "duration": 40,
    "start_time": "2025-03-17T10:24:41.025Z"
   },
   {
    "duration": 78,
    "start_time": "2025-03-17T10:24:41.066Z"
   },
   {
    "duration": 51,
    "start_time": "2025-03-17T10:24:41.146Z"
   },
   {
    "duration": 25,
    "start_time": "2025-03-17T10:24:41.198Z"
   },
   {
    "duration": 3,
    "start_time": "2025-03-17T10:24:41.224Z"
   },
   {
    "duration": 528,
    "start_time": "2025-03-17T10:24:41.229Z"
   },
   {
    "duration": 5,
    "start_time": "2025-03-17T10:24:41.759Z"
   },
   {
    "duration": 2128,
    "start_time": "2025-03-18T07:33:52.997Z"
   },
   {
    "duration": 194,
    "start_time": "2025-03-18T07:33:55.128Z"
   },
   {
    "duration": 17,
    "start_time": "2025-03-18T07:33:55.323Z"
   },
   {
    "duration": 44,
    "start_time": "2025-03-18T07:33:55.342Z"
   },
   {
    "duration": 12,
    "start_time": "2025-03-18T07:33:55.389Z"
   },
   {
    "duration": 212,
    "start_time": "2025-03-18T07:33:55.403Z"
   },
   {
    "duration": 20,
    "start_time": "2025-03-18T07:33:55.617Z"
   },
   {
    "duration": 7,
    "start_time": "2025-03-18T07:33:55.638Z"
   },
   {
    "duration": 53,
    "start_time": "2025-03-18T07:33:55.647Z"
   },
   {
    "duration": 5,
    "start_time": "2025-03-18T07:33:55.704Z"
   },
   {
    "duration": 302,
    "start_time": "2025-03-18T07:33:55.712Z"
   },
   {
    "duration": 42,
    "start_time": "2025-03-18T07:33:56.016Z"
   },
   {
    "duration": 3,
    "start_time": "2025-03-18T07:33:56.059Z"
   },
   {
    "duration": 91,
    "start_time": "2025-03-18T07:33:56.064Z"
   },
   {
    "duration": 46,
    "start_time": "2025-03-18T07:33:56.156Z"
   },
   {
    "duration": 38,
    "start_time": "2025-03-18T07:33:56.203Z"
   },
   {
    "duration": 78,
    "start_time": "2025-03-18T07:33:56.243Z"
   },
   {
    "duration": 28,
    "start_time": "2025-03-18T07:33:56.323Z"
   },
   {
    "duration": 105,
    "start_time": "2025-03-18T07:33:56.353Z"
   },
   {
    "duration": 67,
    "start_time": "2025-03-18T07:33:56.460Z"
   },
   {
    "duration": 25,
    "start_time": "2025-03-18T07:33:56.529Z"
   },
   {
    "duration": 31,
    "start_time": "2025-03-18T07:33:56.555Z"
   },
   {
    "duration": 511,
    "start_time": "2025-03-18T07:33:56.594Z"
   },
   {
    "duration": 5,
    "start_time": "2025-03-18T07:33:57.107Z"
   },
   {
    "duration": 843,
    "start_time": "2025-03-18T07:45:32.757Z"
   },
   {
    "duration": 1311,
    "start_time": "2025-03-18T07:50:13.124Z"
   },
   {
    "duration": 1427,
    "start_time": "2025-03-18T07:50:48.122Z"
   },
   {
    "duration": 117,
    "start_time": "2025-03-18T07:50:56.701Z"
   },
   {
    "duration": 2,
    "start_time": "2025-03-18T07:52:35.403Z"
   },
   {
    "duration": 1405,
    "start_time": "2025-03-18T07:52:35.407Z"
   },
   {
    "duration": 121,
    "start_time": "2025-03-18T07:52:36.814Z"
   },
   {
    "duration": 17,
    "start_time": "2025-03-18T07:52:39.484Z"
   },
   {
    "duration": 265,
    "start_time": "2025-03-18T07:54:57.634Z"
   },
   {
    "duration": 4,
    "start_time": "2025-03-18T08:07:46.144Z"
   },
   {
    "duration": 108,
    "start_time": "2025-03-18T08:08:08.242Z"
   },
   {
    "duration": 3,
    "start_time": "2025-03-18T08:08:19.639Z"
   },
   {
    "duration": 1349,
    "start_time": "2025-03-18T08:08:19.643Z"
   },
   {
    "duration": 121,
    "start_time": "2025-03-18T08:08:20.993Z"
   },
   {
    "duration": 21,
    "start_time": "2025-03-18T08:08:21.115Z"
   },
   {
    "duration": 259,
    "start_time": "2025-03-18T08:08:21.138Z"
   },
   {
    "duration": 5,
    "start_time": "2025-03-18T08:08:21.399Z"
   },
   {
    "duration": 10,
    "start_time": "2025-03-18T08:08:21.405Z"
   },
   {
    "duration": 151,
    "start_time": "2025-03-18T08:08:21.416Z"
   },
   {
    "duration": 459,
    "start_time": "2025-03-18T08:08:26.811Z"
   },
   {
    "duration": 3,
    "start_time": "2025-03-18T08:13:36.583Z"
   },
   {
    "duration": 1391,
    "start_time": "2025-03-18T08:13:36.590Z"
   },
   {
    "duration": 128,
    "start_time": "2025-03-18T08:13:37.983Z"
   },
   {
    "duration": 24,
    "start_time": "2025-03-18T08:13:38.113Z"
   },
   {
    "duration": 276,
    "start_time": "2025-03-18T08:13:38.138Z"
   },
   {
    "duration": 5,
    "start_time": "2025-03-18T08:13:38.416Z"
   },
   {
    "duration": 14,
    "start_time": "2025-03-18T08:13:38.423Z"
   },
   {
    "duration": 150,
    "start_time": "2025-03-18T08:13:38.439Z"
   },
   {
    "duration": 445,
    "start_time": "2025-03-18T08:13:38.591Z"
   },
   {
    "duration": 17,
    "start_time": "2025-03-18T08:13:39.038Z"
   },
   {
    "duration": 9,
    "start_time": "2025-03-18T08:13:39.056Z"
   },
   {
    "duration": 18,
    "start_time": "2025-03-18T08:13:39.067Z"
   },
   {
    "duration": 5,
    "start_time": "2025-03-18T08:13:39.087Z"
   },
   {
    "duration": 6,
    "start_time": "2025-03-18T08:13:50.002Z"
   },
   {
    "duration": 3,
    "start_time": "2025-03-18T09:23:37.492Z"
   },
   {
    "duration": 1941,
    "start_time": "2025-03-18T09:23:37.496Z"
   },
   {
    "duration": 123,
    "start_time": "2025-03-18T09:23:39.438Z"
   },
   {
    "duration": 13,
    "start_time": "2025-03-18T09:23:39.563Z"
   },
   {
    "duration": 296,
    "start_time": "2025-03-18T09:23:39.577Z"
   },
   {
    "duration": 5,
    "start_time": "2025-03-18T09:23:39.874Z"
   },
   {
    "duration": 6,
    "start_time": "2025-03-18T09:23:39.881Z"
   },
   {
    "duration": 164,
    "start_time": "2025-03-18T09:23:39.888Z"
   },
   {
    "duration": 439,
    "start_time": "2025-03-18T09:23:40.053Z"
   },
   {
    "duration": 16,
    "start_time": "2025-03-18T09:23:40.493Z"
   },
   {
    "duration": 6,
    "start_time": "2025-03-18T09:23:40.511Z"
   },
   {
    "duration": 17,
    "start_time": "2025-03-18T09:23:40.535Z"
   },
   {
    "duration": 5,
    "start_time": "2025-03-18T09:23:40.554Z"
   },
   {
    "duration": 7,
    "start_time": "2025-03-18T09:23:40.562Z"
   },
   {
    "duration": 207,
    "start_time": "2025-03-18T09:23:40.571Z"
   },
   {
    "duration": 29,
    "start_time": "2025-03-18T09:23:40.780Z"
   },
   {
    "duration": 3,
    "start_time": "2025-03-18T09:23:40.810Z"
   },
   {
    "duration": 76,
    "start_time": "2025-03-18T09:23:40.814Z"
   },
   {
    "duration": 52,
    "start_time": "2025-03-18T09:23:40.891Z"
   },
   {
    "duration": 30,
    "start_time": "2025-03-18T09:23:40.944Z"
   },
   {
    "duration": 31,
    "start_time": "2025-03-18T09:23:40.976Z"
   },
   {
    "duration": 41,
    "start_time": "2025-03-18T09:23:41.008Z"
   },
   {
    "duration": 63,
    "start_time": "2025-03-18T09:23:41.050Z"
   },
   {
    "duration": 9,
    "start_time": "2025-03-18T09:23:45.302Z"
   },
   {
    "duration": 41,
    "start_time": "2025-03-18T09:41:01.739Z"
   },
   {
    "duration": 7,
    "start_time": "2025-03-18T09:44:02.051Z"
   },
   {
    "duration": 6,
    "start_time": "2025-03-18T09:48:30.291Z"
   },
   {
    "duration": 34,
    "start_time": "2025-03-18T09:56:30.983Z"
   },
   {
    "duration": 3,
    "start_time": "2025-03-18T09:57:19.663Z"
   },
   {
    "duration": 4,
    "start_time": "2025-03-18T09:58:18.704Z"
   },
   {
    "duration": 3,
    "start_time": "2025-03-18T09:58:26.726Z"
   },
   {
    "duration": 3,
    "start_time": "2025-03-18T09:59:57.918Z"
   },
   {
    "duration": 3,
    "start_time": "2025-03-18T10:00:04.118Z"
   },
   {
    "duration": 5,
    "start_time": "2025-03-18T10:00:57.328Z"
   },
   {
    "duration": 810,
    "start_time": "2025-03-18T10:02:15.279Z"
   },
   {
    "duration": 1686,
    "start_time": "2025-03-18T10:02:16.091Z"
   },
   {
    "duration": 128,
    "start_time": "2025-03-18T10:02:17.779Z"
   },
   {
    "duration": 15,
    "start_time": "2025-03-18T10:02:17.909Z"
   },
   {
    "duration": 304,
    "start_time": "2025-03-18T10:02:17.936Z"
   },
   {
    "duration": 4,
    "start_time": "2025-03-18T10:02:18.242Z"
   },
   {
    "duration": 8,
    "start_time": "2025-03-18T10:02:18.248Z"
   },
   {
    "duration": 151,
    "start_time": "2025-03-18T10:02:18.258Z"
   },
   {
    "duration": 426,
    "start_time": "2025-03-18T10:02:18.411Z"
   },
   {
    "duration": 15,
    "start_time": "2025-03-18T10:02:18.839Z"
   },
   {
    "duration": 60,
    "start_time": "2025-03-18T10:02:18.856Z"
   },
   {
    "duration": 12,
    "start_time": "2025-03-18T10:02:18.917Z"
   },
   {
    "duration": 3,
    "start_time": "2025-03-18T10:02:18.931Z"
   },
   {
    "duration": 6,
    "start_time": "2025-03-18T10:02:18.937Z"
   },
   {
    "duration": 214,
    "start_time": "2025-03-18T10:02:18.944Z"
   },
   {
    "duration": 37,
    "start_time": "2025-03-18T10:02:19.159Z"
   },
   {
    "duration": 3,
    "start_time": "2025-03-18T10:02:19.198Z"
   },
   {
    "duration": 68,
    "start_time": "2025-03-18T10:02:19.202Z"
   },
   {
    "duration": 66,
    "start_time": "2025-03-18T10:02:19.271Z"
   },
   {
    "duration": 33,
    "start_time": "2025-03-18T10:02:19.338Z"
   },
   {
    "duration": 29,
    "start_time": "2025-03-18T10:02:19.372Z"
   },
   {
    "duration": 40,
    "start_time": "2025-03-18T10:02:19.403Z"
   },
   {
    "duration": 64,
    "start_time": "2025-03-18T10:02:19.444Z"
   },
   {
    "duration": 27,
    "start_time": "2025-03-18T10:02:19.509Z"
   },
   {
    "duration": 36,
    "start_time": "2025-03-18T10:02:19.537Z"
   },
   {
    "duration": 2,
    "start_time": "2025-03-18T10:02:19.574Z"
   },
   {
    "duration": 5,
    "start_time": "2025-03-18T10:02:19.578Z"
   },
   {
    "duration": 8,
    "start_time": "2025-03-18T10:02:19.584Z"
   },
   {
    "duration": 60,
    "start_time": "2025-03-18T10:02:19.593Z"
   },
   {
    "duration": 4,
    "start_time": "2025-03-18T10:02:19.656Z"
   },
   {
    "duration": 6,
    "start_time": "2025-03-18T10:02:19.662Z"
   },
   {
    "duration": 1623,
    "start_time": "2025-03-18T10:12:11.748Z"
   },
   {
    "duration": 818,
    "start_time": "2025-03-18T10:12:20.887Z"
   },
   {
    "duration": 1644,
    "start_time": "2025-03-18T10:12:21.707Z"
   },
   {
    "duration": 127,
    "start_time": "2025-03-18T10:12:23.352Z"
   },
   {
    "duration": 16,
    "start_time": "2025-03-18T10:12:23.480Z"
   },
   {
    "duration": 375,
    "start_time": "2025-03-18T10:12:23.497Z"
   },
   {
    "duration": 5,
    "start_time": "2025-03-18T10:12:23.873Z"
   },
   {
    "duration": 8,
    "start_time": "2025-03-18T10:12:23.879Z"
   },
   {
    "duration": 158,
    "start_time": "2025-03-18T10:12:23.888Z"
   },
   {
    "duration": 447,
    "start_time": "2025-03-18T10:12:24.047Z"
   },
   {
    "duration": 16,
    "start_time": "2025-03-18T10:12:24.496Z"
   },
   {
    "duration": 23,
    "start_time": "2025-03-18T10:12:24.513Z"
   },
   {
    "duration": 14,
    "start_time": "2025-03-18T10:12:24.538Z"
   },
   {
    "duration": 5,
    "start_time": "2025-03-18T10:12:24.553Z"
   },
   {
    "duration": 5,
    "start_time": "2025-03-18T10:12:24.561Z"
   },
   {
    "duration": 227,
    "start_time": "2025-03-18T10:12:24.568Z"
   },
   {
    "duration": 44,
    "start_time": "2025-03-18T10:12:24.797Z"
   },
   {
    "duration": 3,
    "start_time": "2025-03-18T10:12:24.843Z"
   },
   {
    "duration": 57,
    "start_time": "2025-03-18T10:12:24.847Z"
   },
   {
    "duration": 48,
    "start_time": "2025-03-18T10:12:24.905Z"
   },
   {
    "duration": 30,
    "start_time": "2025-03-18T10:12:24.955Z"
   },
   {
    "duration": 27,
    "start_time": "2025-03-18T10:12:24.986Z"
   },
   {
    "duration": 31,
    "start_time": "2025-03-18T10:12:25.015Z"
   },
   {
    "duration": 58,
    "start_time": "2025-03-18T10:12:25.048Z"
   },
   {
    "duration": 33,
    "start_time": "2025-03-18T10:12:25.107Z"
   },
   {
    "duration": 33,
    "start_time": "2025-03-18T10:12:25.141Z"
   },
   {
    "duration": 2,
    "start_time": "2025-03-18T10:12:25.176Z"
   },
   {
    "duration": 5,
    "start_time": "2025-03-18T10:12:25.180Z"
   },
   {
    "duration": 7,
    "start_time": "2025-03-18T10:12:25.187Z"
   },
   {
    "duration": 54,
    "start_time": "2025-03-18T10:12:25.195Z"
   },
   {
    "duration": 3,
    "start_time": "2025-03-18T10:12:25.250Z"
   },
   {
    "duration": 8,
    "start_time": "2025-03-18T10:12:25.255Z"
   },
   {
    "duration": 871,
    "start_time": "2025-03-18T10:18:14.647Z"
   },
   {
    "duration": 1385,
    "start_time": "2025-03-18T10:18:15.520Z"
   },
   {
    "duration": 153,
    "start_time": "2025-03-18T10:18:16.906Z"
   },
   {
    "duration": 23,
    "start_time": "2025-03-18T10:18:17.061Z"
   },
   {
    "duration": 397,
    "start_time": "2025-03-18T10:18:17.086Z"
   },
   {
    "duration": 6,
    "start_time": "2025-03-18T10:18:17.484Z"
   },
   {
    "duration": 13,
    "start_time": "2025-03-18T10:18:17.491Z"
   },
   {
    "duration": 214,
    "start_time": "2025-03-18T10:18:17.506Z"
   },
   {
    "duration": 489,
    "start_time": "2025-03-18T10:18:17.721Z"
   },
   {
    "duration": 27,
    "start_time": "2025-03-18T10:18:18.212Z"
   },
   {
    "duration": 8,
    "start_time": "2025-03-18T10:18:18.241Z"
   },
   {
    "duration": 14,
    "start_time": "2025-03-18T10:18:18.251Z"
   },
   {
    "duration": 5,
    "start_time": "2025-03-18T10:18:18.266Z"
   },
   {
    "duration": 6,
    "start_time": "2025-03-18T10:18:18.273Z"
   },
   {
    "duration": 247,
    "start_time": "2025-03-18T10:18:18.281Z"
   },
   {
    "duration": 35,
    "start_time": "2025-03-18T10:18:18.529Z"
   },
   {
    "duration": 4,
    "start_time": "2025-03-18T10:18:18.566Z"
   },
   {
    "duration": 74,
    "start_time": "2025-03-18T10:18:18.571Z"
   },
   {
    "duration": 20,
    "start_time": "2025-03-18T10:18:18.646Z"
   },
   {
    "duration": 121,
    "start_time": "2025-03-18T10:18:18.668Z"
   },
   {
    "duration": 30,
    "start_time": "2025-03-18T10:18:18.791Z"
   },
   {
    "duration": 23,
    "start_time": "2025-03-18T10:18:18.823Z"
   },
   {
    "duration": 66,
    "start_time": "2025-03-18T10:18:18.847Z"
   },
   {
    "duration": 40,
    "start_time": "2025-03-18T10:18:18.915Z"
   },
   {
    "duration": 35,
    "start_time": "2025-03-18T10:18:18.956Z"
   },
   {
    "duration": 3,
    "start_time": "2025-03-18T10:18:18.992Z"
   },
   {
    "duration": 8,
    "start_time": "2025-03-18T10:18:18.997Z"
   },
   {
    "duration": 7,
    "start_time": "2025-03-18T10:18:19.009Z"
   },
   {
    "duration": 43,
    "start_time": "2025-03-18T10:18:19.018Z"
   },
   {
    "duration": 82,
    "start_time": "2025-03-18T10:18:19.062Z"
   },
   {
    "duration": 6,
    "start_time": "2025-03-18T10:18:19.146Z"
   },
   {
    "duration": 935,
    "start_time": "2025-03-18T15:36:18.334Z"
   },
   {
    "duration": 1583,
    "start_time": "2025-03-18T15:36:19.271Z"
   },
   {
    "duration": 151,
    "start_time": "2025-03-18T15:36:20.856Z"
   },
   {
    "duration": 20,
    "start_time": "2025-03-18T15:36:21.010Z"
   },
   {
    "duration": 374,
    "start_time": "2025-03-18T15:36:21.031Z"
   },
   {
    "duration": 6,
    "start_time": "2025-03-18T15:36:21.406Z"
   },
   {
    "duration": 7,
    "start_time": "2025-03-18T15:36:21.414Z"
   },
   {
    "duration": 169,
    "start_time": "2025-03-18T15:36:21.423Z"
   },
   {
    "duration": 460,
    "start_time": "2025-03-18T15:36:21.593Z"
   },
   {
    "duration": 23,
    "start_time": "2025-03-18T15:36:22.055Z"
   },
   {
    "duration": 8,
    "start_time": "2025-03-18T15:36:22.079Z"
   },
   {
    "duration": 15,
    "start_time": "2025-03-18T15:36:22.089Z"
   },
   {
    "duration": 6,
    "start_time": "2025-03-18T15:36:22.106Z"
   },
   {
    "duration": 10,
    "start_time": "2025-03-18T15:36:22.114Z"
   },
   {
    "duration": 270,
    "start_time": "2025-03-18T15:36:22.126Z"
   },
   {
    "duration": 38,
    "start_time": "2025-03-18T15:36:22.398Z"
   },
   {
    "duration": 4,
    "start_time": "2025-03-18T15:36:22.438Z"
   },
   {
    "duration": 81,
    "start_time": "2025-03-18T15:36:22.444Z"
   },
   {
    "duration": 23,
    "start_time": "2025-03-18T15:36:22.527Z"
   },
   {
    "duration": 44,
    "start_time": "2025-03-18T15:36:22.552Z"
   },
   {
    "duration": 28,
    "start_time": "2025-03-18T15:36:22.598Z"
   },
   {
    "duration": 20,
    "start_time": "2025-03-18T15:36:22.628Z"
   },
   {
    "duration": 65,
    "start_time": "2025-03-18T15:36:22.668Z"
   },
   {
    "duration": 8,
    "start_time": "2025-03-18T15:36:22.735Z"
   },
   {
    "duration": 53,
    "start_time": "2025-03-18T15:36:22.745Z"
   },
   {
    "duration": 3,
    "start_time": "2025-03-18T15:36:22.799Z"
   },
   {
    "duration": 6,
    "start_time": "2025-03-18T15:36:22.803Z"
   },
   {
    "duration": 8,
    "start_time": "2025-03-18T15:36:22.812Z"
   },
   {
    "duration": 55,
    "start_time": "2025-03-18T15:36:22.822Z"
   },
   {
    "duration": 3,
    "start_time": "2025-03-18T15:36:22.879Z"
   },
   {
    "duration": 5,
    "start_time": "2025-03-18T15:36:22.884Z"
   },
   {
    "duration": 918,
    "start_time": "2025-03-18T15:47:57.139Z"
   },
   {
    "duration": 2614,
    "start_time": "2025-03-18T15:47:58.059Z"
   },
   {
    "duration": 149,
    "start_time": "2025-03-18T15:48:00.674Z"
   },
   {
    "duration": 17,
    "start_time": "2025-03-18T15:48:00.826Z"
   },
   {
    "duration": 358,
    "start_time": "2025-03-18T15:48:00.845Z"
   },
   {
    "duration": 5,
    "start_time": "2025-03-18T15:48:01.205Z"
   },
   {
    "duration": 9,
    "start_time": "2025-03-18T15:48:01.212Z"
   },
   {
    "duration": 174,
    "start_time": "2025-03-18T15:48:01.223Z"
   },
   {
    "duration": 483,
    "start_time": "2025-03-18T15:48:01.399Z"
   },
   {
    "duration": 17,
    "start_time": "2025-03-18T15:48:01.885Z"
   },
   {
    "duration": 14,
    "start_time": "2025-03-18T15:48:01.903Z"
   },
   {
    "duration": 15,
    "start_time": "2025-03-18T15:48:01.919Z"
   },
   {
    "duration": 19,
    "start_time": "2025-03-18T15:48:01.936Z"
   },
   {
    "duration": 7,
    "start_time": "2025-03-18T15:48:01.966Z"
   },
   {
    "duration": 288,
    "start_time": "2025-03-18T15:48:01.975Z"
   },
   {
    "duration": 39,
    "start_time": "2025-03-18T15:48:02.265Z"
   },
   {
    "duration": 14,
    "start_time": "2025-03-18T15:48:02.307Z"
   },
   {
    "duration": 69,
    "start_time": "2025-03-18T15:48:02.323Z"
   },
   {
    "duration": 47,
    "start_time": "2025-03-18T15:48:02.394Z"
   },
   {
    "duration": 35,
    "start_time": "2025-03-18T15:48:02.443Z"
   },
   {
    "duration": 31,
    "start_time": "2025-03-18T15:48:02.480Z"
   },
   {
    "duration": 21,
    "start_time": "2025-03-18T15:48:02.513Z"
   },
   {
    "duration": 78,
    "start_time": "2025-03-18T15:48:02.535Z"
   },
   {
    "duration": 8,
    "start_time": "2025-03-18T15:48:02.615Z"
   },
   {
    "duration": 51,
    "start_time": "2025-03-18T15:48:02.624Z"
   },
   {
    "duration": 2,
    "start_time": "2025-03-18T15:48:02.677Z"
   },
   {
    "duration": 35,
    "start_time": "2025-03-18T15:48:02.681Z"
   },
   {
    "duration": 7,
    "start_time": "2025-03-18T15:48:02.719Z"
   },
   {
    "duration": 47,
    "start_time": "2025-03-18T15:48:02.728Z"
   },
   {
    "duration": 3,
    "start_time": "2025-03-18T15:48:02.776Z"
   },
   {
    "duration": 31,
    "start_time": "2025-03-18T15:48:02.781Z"
   }
  ],
  "kernelspec": {
   "display_name": "Python 3 (ipykernel)",
   "language": "python",
   "name": "python3"
  },
  "language_info": {
   "codemirror_mode": {
    "name": "ipython",
    "version": 3
   },
   "file_extension": ".py",
   "mimetype": "text/x-python",
   "name": "python",
   "nbconvert_exporter": "python",
   "pygments_lexer": "ipython3",
   "version": "3.9.7"
  },
  "toc": {
   "base_numbering": 1,
   "nav_menu": {},
   "number_sections": true,
   "sideBar": true,
   "skip_h1_title": true,
   "title_cell": "Table of Contents",
   "title_sidebar": "Contents",
   "toc_cell": false,
   "toc_position": {},
   "toc_section_display": true,
   "toc_window_display": false
  }
 },
 "nbformat": 4,
 "nbformat_minor": 2
}
